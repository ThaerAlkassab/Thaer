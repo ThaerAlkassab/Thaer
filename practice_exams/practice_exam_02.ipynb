{
 "cells": [
  {
   "cell_type": "markdown",
   "metadata": {},
   "source": [
    "## Python Programming Practice Exam"
   ]
  },
  {
   "cell_type": "markdown",
   "metadata": {},
   "source": [
    "```\n",
    "Scoring:\n",
    "============\n",
    " 0-11: fail (1),\n",
    "12-14: pass (2),\n",
    "15-17: satisfactory (3),\n",
    "18-20: good (4),\n",
    "21-24: excellent (5).\n",
    "```"
   ]
  },
  {
   "cell_type": "markdown",
   "metadata": {},
   "source": [
    "### Problem 1\n",
    "<p style=\"text-align: right\">(4 points)</p>"
   ]
  },
  {
   "cell_type": "code",
   "execution_count": 1,
   "metadata": {},
   "outputs": [],
   "source": [
    "words = 'őszbe,csavarodott,a,természet,feje,dérré,vált,a,harmat,hull,a,fák,levele'"
   ]
  },
  {
   "cell_type": "markdown",
   "metadata": {},
   "source": [
    "The string `words` contains comma separated words. Write a program that prints the longest word (the one that contains the most characters)! The program should not only work for the given `words` string, but also for arbitrary input of the same format."
   ]
  },
  {
   "cell_type": "code",
   "execution_count": 8,
   "metadata": {},
   "outputs": [
    {
     "data": {
      "text/plain": [
       "'csavarodott'"
      ]
     },
     "execution_count": 8,
     "metadata": {},
     "output_type": "execute_result"
    }
   ],
   "source": [
    "# solution 1\n",
    "max((len(w), w) for w in words.split(','))[1]"
   ]
  },
  {
   "cell_type": "code",
   "execution_count": 11,
   "metadata": {},
   "outputs": [
    {
     "data": {
      "text/plain": [
       "'csavarodott'"
      ]
     },
     "execution_count": 11,
     "metadata": {},
     "output_type": "execute_result"
    }
   ],
   "source": [
    "# solution 2\n",
    "max(words.split(','), key=lambda w: len(w))"
   ]
  },
  {
   "cell_type": "markdown",
   "metadata": {},
   "source": [
    "### Problem 2\n",
    "<p style=\"text-align: right\">(8 points)</p>\n",
    "\n",
    "The file [points.txt](points.txt) contains the coordinates of points in the plane. Write a program that prints the two points that are closest to each other and prints their distance. The program should not only work for the given [points.txt](points.txt), but also for arbitrary input of the same format."
   ]
  },
  {
   "cell_type": "markdown",
   "metadata": {},
   "source": [
    "$\\sqrt{(x_1 - x_2)^2 + (y_1 - y_2)^2}$"
   ]
  },
  {
   "cell_type": "code",
   "execution_count": 20,
   "metadata": {},
   "outputs": [
    {
     "data": {
      "text/plain": [
       "(0.44721359549995715, 'G', 'K')"
      ]
     },
     "execution_count": 20,
     "metadata": {},
     "output_type": "execute_result"
    }
   ],
   "source": [
    "# solution 1\n",
    "\n",
    "def calc_dist(p, q):\n",
    "    return ((p[1] - q[1])**2 + (p[2] - q[2])**2)**0.5\n",
    "\n",
    "points = []\n",
    "for line in open('points.txt'):\n",
    "    tok = line.split()\n",
    "    points.append((tok[0], float(tok[1]), float(tok[2])))\n",
    "\n",
    "n = len(points)\n",
    "dist = []\n",
    "for i in range(n):\n",
    "    for j in range(i + 1, n):\n",
    "        dist.append((calc_dist(points[i], points[j]), points[i][0], points[j][0]))\n",
    "        \n",
    "min(dist)"
   ]
  },
  {
   "cell_type": "code",
   "execution_count": 47,
   "metadata": {},
   "outputs": [
    {
     "data": {
      "text/plain": [
       "(0.44721359549995715, 'G', 'K')"
      ]
     },
     "execution_count": 47,
     "metadata": {},
     "output_type": "execute_result"
    }
   ],
   "source": [
    "# solution 2\n",
    "import itertools\n",
    "import pandas as pd\n",
    "\n",
    "points = pd.read_csv('points.txt', sep=' ', names=['name', 'x', 'y'], index_col='name')\n",
    "\n",
    "dist = []\n",
    "for (p_n, p_xy), (q_n, q_xy) in itertools.combinations(points.iterrows(), 2):\n",
    "    d = ((p_xy - q_xy)**2).sum()**0.5\n",
    "    dist.append((d, p_n, q_n))\n",
    "    \n",
    "min(dist)"
   ]
  },
  {
   "cell_type": "markdown",
   "metadata": {},
   "source": [
    "### Problem 3\n",
    "<p style=\"text-align: right\">(12 points)</p>\n",
    "\n",
    "The file [epsom.txt](epsom.txt) contains data about the winners of Epsom Derby. Write a program that reads the data and answers the following questions:\n",
    "\n",
    "**(a)** Is it true that no horse won the derby two times?<br>\n",
    "**(b)** What was the year of the fastest time?<br>\n",
    "**(c)** Who are the 7 best jockeys based on the number of victories?"
   ]
  },
  {
   "cell_type": "code",
   "execution_count": 52,
   "metadata": {},
   "outputs": [
    {
     "data": {
      "text/html": [
       "<div>\n",
       "<style scoped>\n",
       "    .dataframe tbody tr th:only-of-type {\n",
       "        vertical-align: middle;\n",
       "    }\n",
       "\n",
       "    .dataframe tbody tr th {\n",
       "        vertical-align: top;\n",
       "    }\n",
       "\n",
       "    .dataframe thead th {\n",
       "        text-align: right;\n",
       "    }\n",
       "</style>\n",
       "<table border=\"1\" class=\"dataframe\">\n",
       "  <thead>\n",
       "    <tr style=\"text-align: right;\">\n",
       "      <th></th>\n",
       "      <th>Year</th>\n",
       "      <th>Winner</th>\n",
       "      <th>Jockey</th>\n",
       "      <th>Trainer</th>\n",
       "      <th>Owner</th>\n",
       "      <th>Dist.</th>\n",
       "      <th>Time</th>\n",
       "    </tr>\n",
       "  </thead>\n",
       "  <tbody>\n",
       "    <tr>\n",
       "      <th>0</th>\n",
       "      <td>1780</td>\n",
       "      <td>Diomed</td>\n",
       "      <td>Sam Arnull</td>\n",
       "      <td>R. Teasdale</td>\n",
       "      <td>Sir Charles Bunbury</td>\n",
       "      <td>NaN</td>\n",
       "      <td>NaN</td>\n",
       "    </tr>\n",
       "    <tr>\n",
       "      <th>1</th>\n",
       "      <td>1781</td>\n",
       "      <td>Young Eclipse</td>\n",
       "      <td>Charles Hindley</td>\n",
       "      <td>NaN</td>\n",
       "      <td>Dennis O'Kelly</td>\n",
       "      <td>NaN</td>\n",
       "      <td>NaN</td>\n",
       "    </tr>\n",
       "    <tr>\n",
       "      <th>2</th>\n",
       "      <td>1782</td>\n",
       "      <td>Assassin</td>\n",
       "      <td>Sam Arnull</td>\n",
       "      <td>Frank Neale</td>\n",
       "      <td>3rd Earl of Egremont</td>\n",
       "      <td>NaN</td>\n",
       "      <td>NaN</td>\n",
       "    </tr>\n",
       "    <tr>\n",
       "      <th>3</th>\n",
       "      <td>1783</td>\n",
       "      <td>Saltram</td>\n",
       "      <td>Charles Hindley</td>\n",
       "      <td>Frank Neale</td>\n",
       "      <td>John Parker</td>\n",
       "      <td>NaN</td>\n",
       "      <td>NaN</td>\n",
       "    </tr>\n",
       "    <tr>\n",
       "      <th>4</th>\n",
       "      <td>1784</td>\n",
       "      <td>Serjeant</td>\n",
       "      <td>John Arnull</td>\n",
       "      <td>NaN</td>\n",
       "      <td>Dennis O'Kelly</td>\n",
       "      <td>NaN</td>\n",
       "      <td>NaN</td>\n",
       "    </tr>\n",
       "    <tr>\n",
       "      <th>...</th>\n",
       "      <td>...</td>\n",
       "      <td>...</td>\n",
       "      <td>...</td>\n",
       "      <td>...</td>\n",
       "      <td>...</td>\n",
       "      <td>...</td>\n",
       "      <td>...</td>\n",
       "    </tr>\n",
       "    <tr>\n",
       "      <th>236</th>\n",
       "      <td>2015</td>\n",
       "      <td>Golden Horn</td>\n",
       "      <td>Frankie Dettori</td>\n",
       "      <td>John Gosden</td>\n",
       "      <td>Anthony Oppenheimer</td>\n",
       "      <td>3½</td>\n",
       "      <td>2:32.32</td>\n",
       "    </tr>\n",
       "    <tr>\n",
       "      <th>237</th>\n",
       "      <td>2016</td>\n",
       "      <td>Harzand</td>\n",
       "      <td>Pat Smullen</td>\n",
       "      <td>Dermot Weld</td>\n",
       "      <td>Aga Khan IV</td>\n",
       "      <td>1½</td>\n",
       "      <td>2:40.09</td>\n",
       "    </tr>\n",
       "    <tr>\n",
       "      <th>238</th>\n",
       "      <td>2017</td>\n",
       "      <td>Wings of Eagles</td>\n",
       "      <td>Padraig Beggy</td>\n",
       "      <td>Aidan O'Brien</td>\n",
       "      <td>Smith / Magnier / Tabor</td>\n",
       "      <td>¾</td>\n",
       "      <td>2:33.02</td>\n",
       "    </tr>\n",
       "    <tr>\n",
       "      <th>239</th>\n",
       "      <td>2018</td>\n",
       "      <td>Masar</td>\n",
       "      <td>William Buick</td>\n",
       "      <td>Charlie Appleby</td>\n",
       "      <td>Godolphin</td>\n",
       "      <td>1½</td>\n",
       "      <td>2:34.93</td>\n",
       "    </tr>\n",
       "    <tr>\n",
       "      <th>240</th>\n",
       "      <td>2019</td>\n",
       "      <td>Anthony Van Dyck</td>\n",
       "      <td>Seamie Heffernan</td>\n",
       "      <td>Aidan O'Brien</td>\n",
       "      <td>Smith / Magnier / Tabor</td>\n",
       "      <td>½</td>\n",
       "      <td>2:33.38</td>\n",
       "    </tr>\n",
       "  </tbody>\n",
       "</table>\n",
       "<p>241 rows × 7 columns</p>\n",
       "</div>"
      ],
      "text/plain": [
       "     Year            Winner            Jockey          Trainer  \\\n",
       "0    1780            Diomed        Sam Arnull      R. Teasdale   \n",
       "1    1781     Young Eclipse   Charles Hindley              NaN   \n",
       "2    1782          Assassin        Sam Arnull      Frank Neale   \n",
       "3    1783           Saltram   Charles Hindley      Frank Neale   \n",
       "4    1784          Serjeant       John Arnull              NaN   \n",
       "..    ...               ...               ...              ...   \n",
       "236  2015       Golden Horn   Frankie Dettori      John Gosden   \n",
       "237  2016           Harzand       Pat Smullen      Dermot Weld   \n",
       "238  2017   Wings of Eagles     Padraig Beggy    Aidan O'Brien   \n",
       "239  2018             Masar     William Buick  Charlie Appleby   \n",
       "240  2019  Anthony Van Dyck  Seamie Heffernan    Aidan O'Brien   \n",
       "\n",
       "                       Owner Dist.     Time  \n",
       "0        Sir Charles Bunbury   NaN      NaN  \n",
       "1             Dennis O'Kelly   NaN      NaN  \n",
       "2       3rd Earl of Egremont   NaN      NaN  \n",
       "3                John Parker   NaN      NaN  \n",
       "4             Dennis O'Kelly   NaN      NaN  \n",
       "..                       ...   ...      ...  \n",
       "236      Anthony Oppenheimer    3½  2:32.32  \n",
       "237              Aga Khan IV    1½  2:40.09  \n",
       "238  Smith / Magnier / Tabor     ¾  2:33.02  \n",
       "239                Godolphin    1½  2:34.93  \n",
       "240  Smith / Magnier / Tabor     ½  2:33.38  \n",
       "\n",
       "[241 rows x 7 columns]"
      ]
     },
     "execution_count": 52,
     "metadata": {},
     "output_type": "execute_result"
    }
   ],
   "source": [
    "df = pd.read_csv('epsom.txt', sep='\\t', skiprows=1)\n",
    "df"
   ]
  },
  {
   "cell_type": "code",
   "execution_count": 53,
   "metadata": {},
   "outputs": [
    {
     "name": "stdout",
     "output_type": "stream",
     "text": [
      "<class 'pandas.core.frame.DataFrame'>\n",
      "RangeIndex: 241 entries, 0 to 240\n",
      "Data columns (total 7 columns):\n",
      " #   Column   Non-Null Count  Dtype \n",
      "---  ------   --------------  ----- \n",
      " 0   Year     241 non-null    int64 \n",
      " 1   Winner   241 non-null    object\n",
      " 2   Jockey   241 non-null    object\n",
      " 3   Trainer  239 non-null    object\n",
      " 4   Owner    241 non-null    object\n",
      " 5   Dist.    202 non-null    object\n",
      " 6   Time     175 non-null    object\n",
      "dtypes: int64(1), object(6)\n",
      "memory usage: 13.3+ KB\n"
     ]
    }
   ],
   "source": [
    "df.info()"
   ]
  },
  {
   "cell_type": "code",
   "execution_count": 54,
   "metadata": {},
   "outputs": [
    {
     "data": {
      "text/html": [
       "<div>\n",
       "<style scoped>\n",
       "    .dataframe tbody tr th:only-of-type {\n",
       "        vertical-align: middle;\n",
       "    }\n",
       "\n",
       "    .dataframe tbody tr th {\n",
       "        vertical-align: top;\n",
       "    }\n",
       "\n",
       "    .dataframe thead th {\n",
       "        text-align: right;\n",
       "    }\n",
       "</style>\n",
       "<table border=\"1\" class=\"dataframe\">\n",
       "  <thead>\n",
       "    <tr style=\"text-align: right;\">\n",
       "      <th></th>\n",
       "      <th>Year</th>\n",
       "    </tr>\n",
       "  </thead>\n",
       "  <tbody>\n",
       "    <tr>\n",
       "      <th>count</th>\n",
       "      <td>241.000000</td>\n",
       "    </tr>\n",
       "    <tr>\n",
       "      <th>mean</th>\n",
       "      <td>1899.435685</td>\n",
       "    </tr>\n",
       "    <tr>\n",
       "      <th>std</th>\n",
       "      <td>69.288625</td>\n",
       "    </tr>\n",
       "    <tr>\n",
       "      <th>min</th>\n",
       "      <td>1780.000000</td>\n",
       "    </tr>\n",
       "    <tr>\n",
       "      <th>25%</th>\n",
       "      <td>1840.000000</td>\n",
       "    </tr>\n",
       "    <tr>\n",
       "      <th>50%</th>\n",
       "      <td>1899.000000</td>\n",
       "    </tr>\n",
       "    <tr>\n",
       "      <th>75%</th>\n",
       "      <td>1959.000000</td>\n",
       "    </tr>\n",
       "    <tr>\n",
       "      <th>max</th>\n",
       "      <td>2019.000000</td>\n",
       "    </tr>\n",
       "  </tbody>\n",
       "</table>\n",
       "</div>"
      ],
      "text/plain": [
       "              Year\n",
       "count   241.000000\n",
       "mean   1899.435685\n",
       "std      69.288625\n",
       "min    1780.000000\n",
       "25%    1840.000000\n",
       "50%    1899.000000\n",
       "75%    1959.000000\n",
       "max    2019.000000"
      ]
     },
     "execution_count": 54,
     "metadata": {},
     "output_type": "execute_result"
    }
   ],
   "source": [
    "df.describe()"
   ]
  },
  {
   "cell_type": "code",
   "execution_count": 63,
   "metadata": {},
   "outputs": [
    {
     "data": {
      "text/plain": [
       "0"
      ]
     },
     "execution_count": 63,
     "metadata": {},
     "output_type": "execute_result"
    }
   ],
   "source": [
    "# (a) Is it true that no horse won the derby two times?\n",
    "(df.groupby('Winner').size() > 1).sum()"
   ]
  },
  {
   "cell_type": "code",
   "execution_count": 75,
   "metadata": {},
   "outputs": [
    {
     "data": {
      "text/html": [
       "<div>\n",
       "<style scoped>\n",
       "    .dataframe tbody tr th:only-of-type {\n",
       "        vertical-align: middle;\n",
       "    }\n",
       "\n",
       "    .dataframe tbody tr th {\n",
       "        vertical-align: top;\n",
       "    }\n",
       "\n",
       "    .dataframe thead th {\n",
       "        text-align: right;\n",
       "    }\n",
       "</style>\n",
       "<table border=\"1\" class=\"dataframe\">\n",
       "  <thead>\n",
       "    <tr style=\"text-align: right;\">\n",
       "      <th></th>\n",
       "      <th>Year</th>\n",
       "      <th>Winner</th>\n",
       "      <th>Jockey</th>\n",
       "      <th>Trainer</th>\n",
       "      <th>Owner</th>\n",
       "      <th>Dist.</th>\n",
       "      <th>Time</th>\n",
       "    </tr>\n",
       "  </thead>\n",
       "  <tbody>\n",
       "    <tr>\n",
       "      <th>166</th>\n",
       "      <td>1945</td>\n",
       "      <td>Dante</td>\n",
       "      <td>Billy Nevett</td>\n",
       "      <td>Matthew Peacock</td>\n",
       "      <td>Sir Eric Ohlson</td>\n",
       "      <td>2</td>\n",
       "      <td>2:26.6</td>\n",
       "    </tr>\n",
       "  </tbody>\n",
       "</table>\n",
       "</div>"
      ],
      "text/plain": [
       "     Year Winner        Jockey          Trainer            Owner Dist.    Time\n",
       "166  1945  Dante  Billy Nevett  Matthew Peacock  Sir Eric Ohlson     2  2:26.6"
      ]
     },
     "execution_count": 75,
     "metadata": {},
     "output_type": "execute_result"
    }
   ],
   "source": [
    "# (b) What was the year of the fastest time?\n",
    "tmin = df[df['Time'].notnull()]['Time'].min()\n",
    "df[df['Time'] == tmin]"
   ]
  },
  {
   "cell_type": "code",
   "execution_count": 82,
   "metadata": {},
   "outputs": [
    {
     "data": {
      "text/plain": [
       "Jockey\n",
       "Lester Piggott    9\n",
       "Jem Robinson      6\n",
       "Steve Donoghue    6\n",
       "Bill Clift        5\n",
       "Fred Archer       5\n",
       "Frank Buckle      5\n",
       "John Arnull       5\n",
       "dtype: int64"
      ]
     },
     "execution_count": 82,
     "metadata": {},
     "output_type": "execute_result"
    }
   ],
   "source": [
    "# (c) Who are the 7 best jockeys based on the number of victories?\n",
    "df.groupby('Jockey').size().sort_values()[::-1][:7]"
   ]
  }
 ],
 "metadata": {
  "kernelspec": {
   "display_name": "Python 3 (ipykernel)",
   "language": "python",
   "name": "python3"
  },
  "language_info": {
   "codemirror_mode": {
    "name": "ipython",
    "version": 3
   },
   "file_extension": ".py",
   "mimetype": "text/x-python",
   "name": "python",
   "nbconvert_exporter": "python",
   "pygments_lexer": "ipython3",
   "version": "3.8.0"
  }
 },
 "nbformat": 4,
 "nbformat_minor": 2
}
