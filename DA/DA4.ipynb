{
 "cells": [
  {
   "cell_type": "markdown",
   "id": "19051851",
   "metadata": {},
   "source": [
    "# Pandas"
   ]
  },
  {
   "cell_type": "code",
   "execution_count": 1,
   "id": "63b0eb9e",
   "metadata": {},
   "outputs": [],
   "source": [
    "import pandas as pd"
   ]
  },
  {
   "cell_type": "code",
   "execution_count": 2,
   "id": "d8c68fd2",
   "metadata": {},
   "outputs": [
    {
     "data": {
      "text/plain": [
       "'1.5.3'"
      ]
     },
     "execution_count": 2,
     "metadata": {},
     "output_type": "execute_result"
    }
   ],
   "source": [
    "pd.__version__"
   ]
  },
  {
   "cell_type": "code",
   "execution_count": 4,
   "id": "00929b4f",
   "metadata": {},
   "outputs": [
    {
     "data": {
      "text/html": [
       "<div>\n",
       "<style scoped>\n",
       "    .dataframe tbody tr th:only-of-type {\n",
       "        vertical-align: middle;\n",
       "    }\n",
       "\n",
       "    .dataframe tbody tr th {\n",
       "        vertical-align: top;\n",
       "    }\n",
       "\n",
       "    .dataframe thead th {\n",
       "        text-align: right;\n",
       "    }\n",
       "</style>\n",
       "<table border=\"1\" class=\"dataframe\">\n",
       "  <thead>\n",
       "    <tr style=\"text-align: right;\">\n",
       "      <th></th>\n",
       "      <th>a</th>\n",
       "      <th>b</th>\n",
       "      <th>c</th>\n",
       "    </tr>\n",
       "  </thead>\n",
       "  <tbody>\n",
       "    <tr>\n",
       "      <th>0</th>\n",
       "      <td>10</td>\n",
       "      <td>xx</td>\n",
       "      <td>1.5</td>\n",
       "    </tr>\n",
       "    <tr>\n",
       "      <th>1</th>\n",
       "      <td>20</td>\n",
       "      <td>yy</td>\n",
       "      <td>2.6</td>\n",
       "    </tr>\n",
       "    <tr>\n",
       "      <th>2</th>\n",
       "      <td>30</td>\n",
       "      <td>zz</td>\n",
       "      <td>3.7</td>\n",
       "    </tr>\n",
       "    <tr>\n",
       "      <th>3</th>\n",
       "      <td>40</td>\n",
       "      <td>qq</td>\n",
       "      <td>4.8</td>\n",
       "    </tr>\n",
       "  </tbody>\n",
       "</table>\n",
       "</div>"
      ],
      "text/plain": [
       "    a   b    c\n",
       "0  10  xx  1.5\n",
       "1  20  yy  2.6\n",
       "2  30  zz  3.7\n",
       "3  40  qq  4.8"
      ]
     },
     "execution_count": 4,
     "metadata": {},
     "output_type": "execute_result"
    }
   ],
   "source": [
    "data = {\n",
    "    'a': [10,20,30,40],\n",
    "    'b': ['xx','yy','zz','qq'],\n",
    "    'c': [1.5,2.6,3.7,4.8]\n",
    "}\n",
    "df1  = pd.DataFrame(data)\n",
    "df1"
   ]
  },
  {
   "cell_type": "code",
   "execution_count": 5,
   "id": "3c6bc54b",
   "metadata": {},
   "outputs": [
    {
     "data": {
      "text/plain": [
       "pandas.core.frame.DataFrame"
      ]
     },
     "execution_count": 5,
     "metadata": {},
     "output_type": "execute_result"
    }
   ],
   "source": [
    "type(df1)"
   ]
  },
  {
   "cell_type": "code",
   "execution_count": 6,
   "id": "92a3c7a8",
   "metadata": {},
   "outputs": [
    {
     "data": {
      "text/plain": [
       "Index(['a', 'b', 'c'], dtype='object')"
      ]
     },
     "execution_count": 6,
     "metadata": {},
     "output_type": "execute_result"
    }
   ],
   "source": [
    "df1.columns"
   ]
  },
  {
   "cell_type": "code",
   "execution_count": 7,
   "id": "57d249a2",
   "metadata": {},
   "outputs": [
    {
     "name": "stdout",
     "output_type": "stream",
     "text": [
      "a\n",
      "b\n",
      "c\n"
     ]
    }
   ],
   "source": [
    "for x in df1:\n",
    "    print(x)"
   ]
  },
  {
   "cell_type": "code",
   "execution_count": 8,
   "id": "eb62d292",
   "metadata": {},
   "outputs": [
    {
     "data": {
      "text/plain": [
       "4"
      ]
     },
     "execution_count": 8,
     "metadata": {},
     "output_type": "execute_result"
    }
   ],
   "source": [
    "# number of rows\n",
    "len(df1)"
   ]
  },
  {
   "cell_type": "code",
   "execution_count": 9,
   "id": "4486abe8",
   "metadata": {},
   "outputs": [
    {
     "data": {
      "text/plain": [
       "3"
      ]
     },
     "execution_count": 9,
     "metadata": {},
     "output_type": "execute_result"
    }
   ],
   "source": [
    "# number of columns\n",
    "len(df1.columns)"
   ]
  },
  {
   "cell_type": "code",
   "execution_count": 11,
   "id": "5661889f",
   "metadata": {},
   "outputs": [
    {
     "data": {
      "text/plain": [
       "(4, 3)"
      ]
     },
     "execution_count": 11,
     "metadata": {},
     "output_type": "execute_result"
    }
   ],
   "source": [
    "df1.shape"
   ]
  },
  {
   "cell_type": "code",
   "execution_count": 12,
   "id": "30c38bc2",
   "metadata": {},
   "outputs": [
    {
     "name": "stdout",
     "output_type": "stream",
     "text": [
      "<class 'pandas.core.frame.DataFrame'>\n",
      "RangeIndex: 4 entries, 0 to 3\n",
      "Data columns (total 3 columns):\n",
      " #   Column  Non-Null Count  Dtype  \n",
      "---  ------  --------------  -----  \n",
      " 0   a       4 non-null      int64  \n",
      " 1   b       4 non-null      object \n",
      " 2   c       4 non-null      float64\n",
      "dtypes: float64(1), int64(1), object(1)\n",
      "memory usage: 224.0+ bytes\n"
     ]
    }
   ],
   "source": [
    "df1.info()"
   ]
  },
  {
   "cell_type": "code",
   "execution_count": 13,
   "id": "e9892c4f",
   "metadata": {},
   "outputs": [
    {
     "data": {
      "text/html": [
       "<div>\n",
       "<style scoped>\n",
       "    .dataframe tbody tr th:only-of-type {\n",
       "        vertical-align: middle;\n",
       "    }\n",
       "\n",
       "    .dataframe tbody tr th {\n",
       "        vertical-align: top;\n",
       "    }\n",
       "\n",
       "    .dataframe thead th {\n",
       "        text-align: right;\n",
       "    }\n",
       "</style>\n",
       "<table border=\"1\" class=\"dataframe\">\n",
       "  <thead>\n",
       "    <tr style=\"text-align: right;\">\n",
       "      <th></th>\n",
       "      <th>a</th>\n",
       "      <th>c</th>\n",
       "    </tr>\n",
       "  </thead>\n",
       "  <tbody>\n",
       "    <tr>\n",
       "      <th>count</th>\n",
       "      <td>4.000000</td>\n",
       "      <td>4.000000</td>\n",
       "    </tr>\n",
       "    <tr>\n",
       "      <th>mean</th>\n",
       "      <td>25.000000</td>\n",
       "      <td>3.150000</td>\n",
       "    </tr>\n",
       "    <tr>\n",
       "      <th>std</th>\n",
       "      <td>12.909944</td>\n",
       "      <td>1.420094</td>\n",
       "    </tr>\n",
       "    <tr>\n",
       "      <th>min</th>\n",
       "      <td>10.000000</td>\n",
       "      <td>1.500000</td>\n",
       "    </tr>\n",
       "    <tr>\n",
       "      <th>25%</th>\n",
       "      <td>17.500000</td>\n",
       "      <td>2.325000</td>\n",
       "    </tr>\n",
       "    <tr>\n",
       "      <th>50%</th>\n",
       "      <td>25.000000</td>\n",
       "      <td>3.150000</td>\n",
       "    </tr>\n",
       "    <tr>\n",
       "      <th>75%</th>\n",
       "      <td>32.500000</td>\n",
       "      <td>3.975000</td>\n",
       "    </tr>\n",
       "    <tr>\n",
       "      <th>max</th>\n",
       "      <td>40.000000</td>\n",
       "      <td>4.800000</td>\n",
       "    </tr>\n",
       "  </tbody>\n",
       "</table>\n",
       "</div>"
      ],
      "text/plain": [
       "               a         c\n",
       "count   4.000000  4.000000\n",
       "mean   25.000000  3.150000\n",
       "std    12.909944  1.420094\n",
       "min    10.000000  1.500000\n",
       "25%    17.500000  2.325000\n",
       "50%    25.000000  3.150000\n",
       "75%    32.500000  3.975000\n",
       "max    40.000000  4.800000"
      ]
     },
     "execution_count": 13,
     "metadata": {},
     "output_type": "execute_result"
    }
   ],
   "source": [
    "df1.describe()"
   ]
  },
  {
   "cell_type": "code",
   "execution_count": 14,
   "id": "8bbcd99f",
   "metadata": {},
   "outputs": [
    {
     "data": {
      "text/html": [
       "<div>\n",
       "<style scoped>\n",
       "    .dataframe tbody tr th:only-of-type {\n",
       "        vertical-align: middle;\n",
       "    }\n",
       "\n",
       "    .dataframe tbody tr th {\n",
       "        vertical-align: top;\n",
       "    }\n",
       "\n",
       "    .dataframe thead th {\n",
       "        text-align: right;\n",
       "    }\n",
       "</style>\n",
       "<table border=\"1\" class=\"dataframe\">\n",
       "  <thead>\n",
       "    <tr style=\"text-align: right;\">\n",
       "      <th></th>\n",
       "      <th>a</th>\n",
       "      <th>b</th>\n",
       "      <th>c</th>\n",
       "    </tr>\n",
       "  </thead>\n",
       "  <tbody>\n",
       "    <tr>\n",
       "      <th>0</th>\n",
       "      <td>10</td>\n",
       "      <td>Joe</td>\n",
       "      <td>1.5</td>\n",
       "    </tr>\n",
       "    <tr>\n",
       "      <th>1</th>\n",
       "      <td>20</td>\n",
       "      <td>NaN</td>\n",
       "      <td>1.5</td>\n",
       "    </tr>\n",
       "    <tr>\n",
       "      <th>2</th>\n",
       "      <td>30</td>\n",
       "      <td>Tom</td>\n",
       "      <td>2.5</td>\n",
       "    </tr>\n",
       "    <tr>\n",
       "      <th>3</th>\n",
       "      <td>40</td>\n",
       "      <td>George</td>\n",
       "      <td>5.5</td>\n",
       "    </tr>\n",
       "  </tbody>\n",
       "</table>\n",
       "</div>"
      ],
      "text/plain": [
       "    a       b    c\n",
       "0  10     Joe  1.5\n",
       "1  20     NaN  1.5\n",
       "2  30     Tom  2.5\n",
       "3  40  George  5.5"
      ]
     },
     "execution_count": 14,
     "metadata": {},
     "output_type": "execute_result"
    }
   ],
   "source": [
    "data = [\n",
    "    {'a': 10, 'b': 'Joe', 'c': 1.5},\n",
    "    {'a': 20, 'c': 1.5},\n",
    "    {'a': 30, 'b': 'Tom', 'c': 2.5},\n",
    "    {'a': 40, 'b': 'George', 'c': 5.5}\n",
    "]\n",
    "df2 = pd.DataFrame(data)\n",
    "df2"
   ]
  },
  {
   "cell_type": "code",
   "execution_count": 16,
   "id": "89becb8a",
   "metadata": {},
   "outputs": [
    {
     "data": {
      "text/plain": [
       "False"
      ]
     },
     "execution_count": 16,
     "metadata": {},
     "output_type": "execute_result"
    }
   ],
   "source": [
    "import numpy as np\n",
    "np.nan == np.nan"
   ]
  },
  {
   "cell_type": "code",
   "execution_count": 17,
   "id": "0802d517",
   "metadata": {},
   "outputs": [
    {
     "data": {
      "text/plain": [
       "RangeIndex(start=0, stop=4, step=1)"
      ]
     },
     "execution_count": 17,
     "metadata": {},
     "output_type": "execute_result"
    }
   ],
   "source": [
    "df2.index"
   ]
  },
  {
   "cell_type": "code",
   "execution_count": 18,
   "id": "717f6f39",
   "metadata": {},
   "outputs": [
    {
     "data": {
      "text/html": [
       "<div>\n",
       "<style scoped>\n",
       "    .dataframe tbody tr th:only-of-type {\n",
       "        vertical-align: middle;\n",
       "    }\n",
       "\n",
       "    .dataframe tbody tr th {\n",
       "        vertical-align: top;\n",
       "    }\n",
       "\n",
       "    .dataframe thead th {\n",
       "        text-align: right;\n",
       "    }\n",
       "</style>\n",
       "<table border=\"1\" class=\"dataframe\">\n",
       "  <thead>\n",
       "    <tr style=\"text-align: right;\">\n",
       "      <th></th>\n",
       "      <th>a</th>\n",
       "      <th>b</th>\n",
       "      <th>c</th>\n",
       "    </tr>\n",
       "  </thead>\n",
       "  <tbody>\n",
       "    <tr>\n",
       "      <th>xx</th>\n",
       "      <td>10</td>\n",
       "      <td>Joe</td>\n",
       "      <td>1.5</td>\n",
       "    </tr>\n",
       "    <tr>\n",
       "      <th>yy</th>\n",
       "      <td>20</td>\n",
       "      <td>NaN</td>\n",
       "      <td>1.5</td>\n",
       "    </tr>\n",
       "    <tr>\n",
       "      <th>zz</th>\n",
       "      <td>30</td>\n",
       "      <td>Tom</td>\n",
       "      <td>2.5</td>\n",
       "    </tr>\n",
       "    <tr>\n",
       "      <th>zzz</th>\n",
       "      <td>40</td>\n",
       "      <td>George</td>\n",
       "      <td>5.5</td>\n",
       "    </tr>\n",
       "  </tbody>\n",
       "</table>\n",
       "</div>"
      ],
      "text/plain": [
       "      a       b    c\n",
       "xx   10     Joe  1.5\n",
       "yy   20     NaN  1.5\n",
       "zz   30     Tom  2.5\n",
       "zzz  40  George  5.5"
      ]
     },
     "execution_count": 18,
     "metadata": {},
     "output_type": "execute_result"
    }
   ],
   "source": [
    "pd.DataFrame(data, index = ['xx','yy','zz','zzz'])"
   ]
  },
  {
   "cell_type": "code",
   "execution_count": 20,
   "id": "d4c734ac",
   "metadata": {},
   "outputs": [
    {
     "data": {
      "text/plain": [
       "0    20\n",
       "1    30\n",
       "2    40\n",
       "dtype: int64"
      ]
     },
     "execution_count": 20,
     "metadata": {},
     "output_type": "execute_result"
    }
   ],
   "source": [
    "se1 = pd.Series([20,30,40])\n",
    "se1"
   ]
  },
  {
   "cell_type": "code",
   "execution_count": 21,
   "id": "d04e6db3",
   "metadata": {},
   "outputs": [
    {
     "data": {
      "text/plain": [
       "pandas.core.series.Series"
      ]
     },
     "execution_count": 21,
     "metadata": {},
     "output_type": "execute_result"
    }
   ],
   "source": [
    "type(se1)"
   ]
  },
  {
   "cell_type": "code",
   "execution_count": 22,
   "id": "cf65328c",
   "metadata": {},
   "outputs": [
    {
     "data": {
      "text/plain": [
       "a    20\n",
       "b    30\n",
       "c    40\n",
       "dtype: int64"
      ]
     },
     "execution_count": 22,
     "metadata": {},
     "output_type": "execute_result"
    }
   ],
   "source": [
    "pd.Series([20,30,40], index=['a','b','c'])"
   ]
  },
  {
   "cell_type": "code",
   "execution_count": 23,
   "id": "dc24c9f5",
   "metadata": {},
   "outputs": [
    {
     "data": {
      "text/html": [
       "<div>\n",
       "<style scoped>\n",
       "    .dataframe tbody tr th:only-of-type {\n",
       "        vertical-align: middle;\n",
       "    }\n",
       "\n",
       "    .dataframe tbody tr th {\n",
       "        vertical-align: top;\n",
       "    }\n",
       "\n",
       "    .dataframe thead th {\n",
       "        text-align: right;\n",
       "    }\n",
       "</style>\n",
       "<table border=\"1\" class=\"dataframe\">\n",
       "  <thead>\n",
       "    <tr style=\"text-align: right;\">\n",
       "      <th></th>\n",
       "      <th>a</th>\n",
       "      <th>b</th>\n",
       "      <th>c</th>\n",
       "    </tr>\n",
       "  </thead>\n",
       "  <tbody>\n",
       "    <tr>\n",
       "      <th>0</th>\n",
       "      <td>10</td>\n",
       "      <td>xx</td>\n",
       "      <td>1.5</td>\n",
       "    </tr>\n",
       "    <tr>\n",
       "      <th>1</th>\n",
       "      <td>20</td>\n",
       "      <td>yy</td>\n",
       "      <td>2.6</td>\n",
       "    </tr>\n",
       "    <tr>\n",
       "      <th>2</th>\n",
       "      <td>30</td>\n",
       "      <td>zz</td>\n",
       "      <td>3.7</td>\n",
       "    </tr>\n",
       "    <tr>\n",
       "      <th>3</th>\n",
       "      <td>40</td>\n",
       "      <td>qq</td>\n",
       "      <td>4.8</td>\n",
       "    </tr>\n",
       "  </tbody>\n",
       "</table>\n",
       "</div>"
      ],
      "text/plain": [
       "    a   b    c\n",
       "0  10  xx  1.5\n",
       "1  20  yy  2.6\n",
       "2  30  zz  3.7\n",
       "3  40  qq  4.8"
      ]
     },
     "execution_count": 23,
     "metadata": {},
     "output_type": "execute_result"
    }
   ],
   "source": [
    "df1"
   ]
  },
  {
   "cell_type": "code",
   "execution_count": 24,
   "id": "3933c1a6",
   "metadata": {},
   "outputs": [
    {
     "data": {
      "text/plain": [
       "0    10\n",
       "1    20\n",
       "2    30\n",
       "3    40\n",
       "Name: a, dtype: int64"
      ]
     },
     "execution_count": 24,
     "metadata": {},
     "output_type": "execute_result"
    }
   ],
   "source": [
    "df1['a']"
   ]
  },
  {
   "cell_type": "code",
   "execution_count": 25,
   "id": "f48878d2",
   "metadata": {},
   "outputs": [
    {
     "data": {
      "text/plain": [
       "0    10\n",
       "1    20\n",
       "2    30\n",
       "3    40\n",
       "Name: a, dtype: int64"
      ]
     },
     "execution_count": 25,
     "metadata": {},
     "output_type": "execute_result"
    }
   ],
   "source": [
    "df1.a"
   ]
  },
  {
   "cell_type": "code",
   "execution_count": 26,
   "id": "1a3dea36",
   "metadata": {},
   "outputs": [
    {
     "data": {
      "text/html": [
       "<div>\n",
       "<style scoped>\n",
       "    .dataframe tbody tr th:only-of-type {\n",
       "        vertical-align: middle;\n",
       "    }\n",
       "\n",
       "    .dataframe tbody tr th {\n",
       "        vertical-align: top;\n",
       "    }\n",
       "\n",
       "    .dataframe thead th {\n",
       "        text-align: right;\n",
       "    }\n",
       "</style>\n",
       "<table border=\"1\" class=\"dataframe\">\n",
       "  <thead>\n",
       "    <tr style=\"text-align: right;\">\n",
       "      <th></th>\n",
       "      <th>a</th>\n",
       "      <th>b</th>\n",
       "    </tr>\n",
       "  </thead>\n",
       "  <tbody>\n",
       "    <tr>\n",
       "      <th>0</th>\n",
       "      <td>10</td>\n",
       "      <td>xx</td>\n",
       "    </tr>\n",
       "    <tr>\n",
       "      <th>1</th>\n",
       "      <td>20</td>\n",
       "      <td>yy</td>\n",
       "    </tr>\n",
       "    <tr>\n",
       "      <th>2</th>\n",
       "      <td>30</td>\n",
       "      <td>zz</td>\n",
       "    </tr>\n",
       "    <tr>\n",
       "      <th>3</th>\n",
       "      <td>40</td>\n",
       "      <td>qq</td>\n",
       "    </tr>\n",
       "  </tbody>\n",
       "</table>\n",
       "</div>"
      ],
      "text/plain": [
       "    a   b\n",
       "0  10  xx\n",
       "1  20  yy\n",
       "2  30  zz\n",
       "3  40  qq"
      ]
     },
     "execution_count": 26,
     "metadata": {},
     "output_type": "execute_result"
    }
   ],
   "source": [
    "df1[['a','b']]"
   ]
  },
  {
   "cell_type": "code",
   "execution_count": 27,
   "id": "7ed3fdfa",
   "metadata": {},
   "outputs": [
    {
     "data": {
      "text/html": [
       "<div>\n",
       "<style scoped>\n",
       "    .dataframe tbody tr th:only-of-type {\n",
       "        vertical-align: middle;\n",
       "    }\n",
       "\n",
       "    .dataframe tbody tr th {\n",
       "        vertical-align: top;\n",
       "    }\n",
       "\n",
       "    .dataframe thead th {\n",
       "        text-align: right;\n",
       "    }\n",
       "</style>\n",
       "<table border=\"1\" class=\"dataframe\">\n",
       "  <thead>\n",
       "    <tr style=\"text-align: right;\">\n",
       "      <th></th>\n",
       "      <th>a</th>\n",
       "    </tr>\n",
       "  </thead>\n",
       "  <tbody>\n",
       "    <tr>\n",
       "      <th>0</th>\n",
       "      <td>10</td>\n",
       "    </tr>\n",
       "    <tr>\n",
       "      <th>1</th>\n",
       "      <td>20</td>\n",
       "    </tr>\n",
       "    <tr>\n",
       "      <th>2</th>\n",
       "      <td>30</td>\n",
       "    </tr>\n",
       "    <tr>\n",
       "      <th>3</th>\n",
       "      <td>40</td>\n",
       "    </tr>\n",
       "  </tbody>\n",
       "</table>\n",
       "</div>"
      ],
      "text/plain": [
       "    a\n",
       "0  10\n",
       "1  20\n",
       "2  30\n",
       "3  40"
      ]
     },
     "execution_count": 27,
     "metadata": {},
     "output_type": "execute_result"
    }
   ],
   "source": [
    "# Series\n",
    "df1[['a']]"
   ]
  },
  {
   "cell_type": "code",
   "execution_count": 28,
   "id": "c2c27116",
   "metadata": {},
   "outputs": [
    {
     "data": {
      "text/html": [
       "<div>\n",
       "<style scoped>\n",
       "    .dataframe tbody tr th:only-of-type {\n",
       "        vertical-align: middle;\n",
       "    }\n",
       "\n",
       "    .dataframe tbody tr th {\n",
       "        vertical-align: top;\n",
       "    }\n",
       "\n",
       "    .dataframe thead th {\n",
       "        text-align: right;\n",
       "    }\n",
       "</style>\n",
       "<table border=\"1\" class=\"dataframe\">\n",
       "  <thead>\n",
       "    <tr style=\"text-align: right;\">\n",
       "      <th></th>\n",
       "      <th>a</th>\n",
       "      <th>b</th>\n",
       "      <th>c</th>\n",
       "    </tr>\n",
       "  </thead>\n",
       "  <tbody>\n",
       "    <tr>\n",
       "      <th>ww</th>\n",
       "      <td>10</td>\n",
       "      <td>Joe</td>\n",
       "      <td>1.5</td>\n",
       "    </tr>\n",
       "    <tr>\n",
       "      <th>xx</th>\n",
       "      <td>20</td>\n",
       "      <td>NaN</td>\n",
       "      <td>1.5</td>\n",
       "    </tr>\n",
       "    <tr>\n",
       "      <th>yy</th>\n",
       "      <td>30</td>\n",
       "      <td>Tom</td>\n",
       "      <td>2.5</td>\n",
       "    </tr>\n",
       "    <tr>\n",
       "      <th>zz</th>\n",
       "      <td>40</td>\n",
       "      <td>George</td>\n",
       "      <td>5.5</td>\n",
       "    </tr>\n",
       "  </tbody>\n",
       "</table>\n",
       "</div>"
      ],
      "text/plain": [
       "     a       b    c\n",
       "ww  10     Joe  1.5\n",
       "xx  20     NaN  1.5\n",
       "yy  30     Tom  2.5\n",
       "zz  40  George  5.5"
      ]
     },
     "execution_count": 28,
     "metadata": {},
     "output_type": "execute_result"
    }
   ],
   "source": [
    "data = [\n",
    "    {'a': 10, 'b': 'Joe', 'c': 1.5},\n",
    "    {'a': 20, 'c': 1.5},\n",
    "    {'a': 30, 'b': 'Tom', 'c': 2.5},\n",
    "    {'a': 40, 'b': 'George', 'c': 5.5}\n",
    "]\n",
    "df3 = pd.DataFrame(data, index=['ww', 'xx', 'yy', 'zz'])\n",
    "df3"
   ]
  },
  {
   "cell_type": "code",
   "execution_count": 30,
   "id": "9dc8a8b8",
   "metadata": {},
   "outputs": [
    {
     "data": {
      "text/plain": [
       "a     20\n",
       "b    NaN\n",
       "c    1.5\n",
       "Name: xx, dtype: object"
      ]
     },
     "execution_count": 30,
     "metadata": {},
     "output_type": "execute_result"
    }
   ],
   "source": [
    "df3.loc['xx']"
   ]
  },
  {
   "cell_type": "code",
   "execution_count": 32,
   "id": "d1d260c5",
   "metadata": {},
   "outputs": [
    {
     "data": {
      "text/plain": [
       "a     10\n",
       "b    Joe\n",
       "c    1.5\n",
       "Name: ww, dtype: object"
      ]
     },
     "execution_count": 32,
     "metadata": {},
     "output_type": "execute_result"
    }
   ],
   "source": [
    "df3.iloc[0]"
   ]
  },
  {
   "cell_type": "code",
   "execution_count": 33,
   "id": "32a829db",
   "metadata": {},
   "outputs": [
    {
     "data": {
      "text/html": [
       "<div>\n",
       "<style scoped>\n",
       "    .dataframe tbody tr th:only-of-type {\n",
       "        vertical-align: middle;\n",
       "    }\n",
       "\n",
       "    .dataframe tbody tr th {\n",
       "        vertical-align: top;\n",
       "    }\n",
       "\n",
       "    .dataframe thead th {\n",
       "        text-align: right;\n",
       "    }\n",
       "</style>\n",
       "<table border=\"1\" class=\"dataframe\">\n",
       "  <thead>\n",
       "    <tr style=\"text-align: right;\">\n",
       "      <th></th>\n",
       "      <th>a</th>\n",
       "      <th>b</th>\n",
       "      <th>c</th>\n",
       "    </tr>\n",
       "  </thead>\n",
       "  <tbody>\n",
       "    <tr>\n",
       "      <th>ww</th>\n",
       "      <td>10</td>\n",
       "      <td>Joe</td>\n",
       "      <td>1.5</td>\n",
       "    </tr>\n",
       "    <tr>\n",
       "      <th>xx</th>\n",
       "      <td>20</td>\n",
       "      <td>NaN</td>\n",
       "      <td>1.5</td>\n",
       "    </tr>\n",
       "  </tbody>\n",
       "</table>\n",
       "</div>"
      ],
      "text/plain": [
       "     a    b    c\n",
       "ww  10  Joe  1.5\n",
       "xx  20  NaN  1.5"
      ]
     },
     "execution_count": 33,
     "metadata": {},
     "output_type": "execute_result"
    }
   ],
   "source": [
    "df3[:2]"
   ]
  },
  {
   "cell_type": "code",
   "execution_count": 34,
   "id": "87df3068",
   "metadata": {},
   "outputs": [
    {
     "data": {
      "text/plain": [
       "a    20\n",
       "b    30\n",
       "c    40\n",
       "dtype: int64"
      ]
     },
     "execution_count": 34,
     "metadata": {},
     "output_type": "execute_result"
    }
   ],
   "source": [
    "se2 = pd.Series([20,30,40], index=['a','b','c'])\n",
    "se2"
   ]
  },
  {
   "cell_type": "code",
   "execution_count": 35,
   "id": "1feb0131",
   "metadata": {},
   "outputs": [
    {
     "data": {
      "text/plain": [
       "30"
      ]
     },
     "execution_count": 35,
     "metadata": {},
     "output_type": "execute_result"
    }
   ],
   "source": [
    "se2['b']"
   ]
  },
  {
   "cell_type": "code",
   "execution_count": 36,
   "id": "e72100d2",
   "metadata": {},
   "outputs": [
    {
     "data": {
      "text/plain": [
       "array([20, 30, 40])"
      ]
     },
     "execution_count": 36,
     "metadata": {},
     "output_type": "execute_result"
    }
   ],
   "source": [
    "se2.values"
   ]
  },
  {
   "cell_type": "code",
   "execution_count": 37,
   "id": "234d899e",
   "metadata": {},
   "outputs": [
    {
     "data": {
      "text/plain": [
       "array([[10, 'xx', 1.5],\n",
       "       [20, 'yy', 2.6],\n",
       "       [30, 'zz', 3.7],\n",
       "       [40, 'qq', 4.8]], dtype=object)"
      ]
     },
     "execution_count": 37,
     "metadata": {},
     "output_type": "execute_result"
    }
   ],
   "source": [
    "df1.values"
   ]
  },
  {
   "cell_type": "markdown",
   "id": "e474194e",
   "metadata": {},
   "source": [
    "# Selection"
   ]
  },
  {
   "cell_type": "code",
   "execution_count": 38,
   "id": "3f2aef45",
   "metadata": {},
   "outputs": [
    {
     "data": {
      "text/html": [
       "<div>\n",
       "<style scoped>\n",
       "    .dataframe tbody tr th:only-of-type {\n",
       "        vertical-align: middle;\n",
       "    }\n",
       "\n",
       "    .dataframe tbody tr th {\n",
       "        vertical-align: top;\n",
       "    }\n",
       "\n",
       "    .dataframe thead th {\n",
       "        text-align: right;\n",
       "    }\n",
       "</style>\n",
       "<table border=\"1\" class=\"dataframe\">\n",
       "  <thead>\n",
       "    <tr style=\"text-align: right;\">\n",
       "      <th></th>\n",
       "      <th>student</th>\n",
       "      <th>subject</th>\n",
       "      <th>grade</th>\n",
       "    </tr>\n",
       "  </thead>\n",
       "  <tbody>\n",
       "    <tr>\n",
       "      <th>0</th>\n",
       "      <td>John Doe</td>\n",
       "      <td>Mathimatics</td>\n",
       "      <td>5</td>\n",
       "    </tr>\n",
       "    <tr>\n",
       "      <th>1</th>\n",
       "      <td>John Doe</td>\n",
       "      <td>History</td>\n",
       "      <td>2</td>\n",
       "    </tr>\n",
       "    <tr>\n",
       "      <th>2</th>\n",
       "      <td>Jana Smith</td>\n",
       "      <td>Mathimatics</td>\n",
       "      <td>3</td>\n",
       "    </tr>\n",
       "    <tr>\n",
       "      <th>3</th>\n",
       "      <td>Jana Smith</td>\n",
       "      <td>Mathimatics</td>\n",
       "      <td>5</td>\n",
       "    </tr>\n",
       "    <tr>\n",
       "      <th>4</th>\n",
       "      <td>Jana Smith</td>\n",
       "      <td>History</td>\n",
       "      <td>4</td>\n",
       "    </tr>\n",
       "    <tr>\n",
       "      <th>5</th>\n",
       "      <td>Scunner Campbell</td>\n",
       "      <td>Mathimatics</td>\n",
       "      <td>1</td>\n",
       "    </tr>\n",
       "    <tr>\n",
       "      <th>6</th>\n",
       "      <td>Scunner Campbell</td>\n",
       "      <td>Mathimatics</td>\n",
       "      <td>2</td>\n",
       "    </tr>\n",
       "    <tr>\n",
       "      <th>7</th>\n",
       "      <td>Scunner Campbell</td>\n",
       "      <td>History</td>\n",
       "      <td>5</td>\n",
       "    </tr>\n",
       "  </tbody>\n",
       "</table>\n",
       "</div>"
      ],
      "text/plain": [
       "            student      subject  grade\n",
       "0          John Doe  Mathimatics      5\n",
       "1          John Doe      History      2\n",
       "2        Jana Smith  Mathimatics      3\n",
       "3        Jana Smith  Mathimatics      5\n",
       "4        Jana Smith      History      4\n",
       "5  Scunner Campbell  Mathimatics      1\n",
       "6  Scunner Campbell  Mathimatics      2\n",
       "7  Scunner Campbell      History      5"
      ]
     },
     "execution_count": 38,
     "metadata": {},
     "output_type": "execute_result"
    }
   ],
   "source": [
    "df=pd.DataFrame([\n",
    "    {'student': 'John Doe', 'subject': 'Mathimatics', 'grade': 5},\n",
    "    {'student': 'John Doe', 'subject': 'History', 'grade': 2},\n",
    "    {'student': 'Jana Smith', 'subject': 'Mathimatics', 'grade': 3},\n",
    "    {'student': 'Jana Smith', 'subject': 'Mathimatics', 'grade': 5},\n",
    "    {'student': 'Jana Smith', 'subject': 'History', 'grade': 4},\n",
    "    {'student': 'Scunner Campbell', 'subject': 'Mathimatics', 'grade': 1},\n",
    "    {'student': 'Scunner Campbell', 'subject': 'Mathimatics', 'grade': 2},\n",
    "    {'student': 'Scunner Campbell', 'subject': 'History', 'grade': 5},\n",
    "])\n",
    "df"
   ]
  },
  {
   "cell_type": "code",
   "execution_count": 39,
   "id": "c7797b72",
   "metadata": {},
   "outputs": [
    {
     "data": {
      "text/plain": [
       "0     True\n",
       "1     True\n",
       "2    False\n",
       "3    False\n",
       "4    False\n",
       "5    False\n",
       "6    False\n",
       "7    False\n",
       "Name: student, dtype: bool"
      ]
     },
     "execution_count": 39,
     "metadata": {},
     "output_type": "execute_result"
    }
   ],
   "source": [
    "df['student'] == 'John Doe'"
   ]
  },
  {
   "cell_type": "code",
   "execution_count": 40,
   "id": "98579008",
   "metadata": {},
   "outputs": [
    {
     "data": {
      "text/html": [
       "<div>\n",
       "<style scoped>\n",
       "    .dataframe tbody tr th:only-of-type {\n",
       "        vertical-align: middle;\n",
       "    }\n",
       "\n",
       "    .dataframe tbody tr th {\n",
       "        vertical-align: top;\n",
       "    }\n",
       "\n",
       "    .dataframe thead th {\n",
       "        text-align: right;\n",
       "    }\n",
       "</style>\n",
       "<table border=\"1\" class=\"dataframe\">\n",
       "  <thead>\n",
       "    <tr style=\"text-align: right;\">\n",
       "      <th></th>\n",
       "      <th>student</th>\n",
       "      <th>subject</th>\n",
       "      <th>grade</th>\n",
       "    </tr>\n",
       "  </thead>\n",
       "  <tbody>\n",
       "    <tr>\n",
       "      <th>0</th>\n",
       "      <td>John Doe</td>\n",
       "      <td>Mathimatics</td>\n",
       "      <td>5</td>\n",
       "    </tr>\n",
       "    <tr>\n",
       "      <th>1</th>\n",
       "      <td>John Doe</td>\n",
       "      <td>History</td>\n",
       "      <td>2</td>\n",
       "    </tr>\n",
       "  </tbody>\n",
       "</table>\n",
       "</div>"
      ],
      "text/plain": [
       "    student      subject  grade\n",
       "0  John Doe  Mathimatics      5\n",
       "1  John Doe      History      2"
      ]
     },
     "execution_count": 40,
     "metadata": {},
     "output_type": "execute_result"
    }
   ],
   "source": [
    "df[df['student'] == 'John Doe']"
   ]
  },
  {
   "cell_type": "code",
   "execution_count": 46,
   "id": "1f1723e7",
   "metadata": {},
   "outputs": [
    {
     "data": {
      "text/html": [
       "<div>\n",
       "<style scoped>\n",
       "    .dataframe tbody tr th:only-of-type {\n",
       "        vertical-align: middle;\n",
       "    }\n",
       "\n",
       "    .dataframe tbody tr th {\n",
       "        vertical-align: top;\n",
       "    }\n",
       "\n",
       "    .dataframe thead th {\n",
       "        text-align: right;\n",
       "    }\n",
       "</style>\n",
       "<table border=\"1\" class=\"dataframe\">\n",
       "  <thead>\n",
       "    <tr style=\"text-align: right;\">\n",
       "      <th></th>\n",
       "      <th>student</th>\n",
       "      <th>subject</th>\n",
       "      <th>grade</th>\n",
       "    </tr>\n",
       "  </thead>\n",
       "  <tbody>\n",
       "    <tr>\n",
       "      <th>1</th>\n",
       "      <td>John Doe</td>\n",
       "      <td>History</td>\n",
       "      <td>2</td>\n",
       "    </tr>\n",
       "    <tr>\n",
       "      <th>2</th>\n",
       "      <td>Jana Smith</td>\n",
       "      <td>Mathimatics</td>\n",
       "      <td>3</td>\n",
       "    </tr>\n",
       "    <tr>\n",
       "      <th>4</th>\n",
       "      <td>Jana Smith</td>\n",
       "      <td>History</td>\n",
       "      <td>4</td>\n",
       "    </tr>\n",
       "    <tr>\n",
       "      <th>6</th>\n",
       "      <td>Scunner Campbell</td>\n",
       "      <td>Mathimatics</td>\n",
       "      <td>2</td>\n",
       "    </tr>\n",
       "  </tbody>\n",
       "</table>\n",
       "</div>"
      ],
      "text/plain": [
       "            student      subject  grade\n",
       "1          John Doe      History      2\n",
       "2        Jana Smith  Mathimatics      3\n",
       "4        Jana Smith      History      4\n",
       "6  Scunner Campbell  Mathimatics      2"
      ]
     },
     "execution_count": 46,
     "metadata": {},
     "output_type": "execute_result"
    }
   ],
   "source": [
    "df[(df['grade']>1) & (df['grade']<5)]"
   ]
  },
  {
   "cell_type": "markdown",
   "id": "bb048176",
   "metadata": {},
   "source": [
    "# Groupby"
   ]
  },
  {
   "cell_type": "code",
   "execution_count": 47,
   "id": "e3108fd2",
   "metadata": {},
   "outputs": [
    {
     "data": {
      "text/html": [
       "<div>\n",
       "<style scoped>\n",
       "    .dataframe tbody tr th:only-of-type {\n",
       "        vertical-align: middle;\n",
       "    }\n",
       "\n",
       "    .dataframe tbody tr th {\n",
       "        vertical-align: top;\n",
       "    }\n",
       "\n",
       "    .dataframe thead th {\n",
       "        text-align: right;\n",
       "    }\n",
       "</style>\n",
       "<table border=\"1\" class=\"dataframe\">\n",
       "  <thead>\n",
       "    <tr style=\"text-align: right;\">\n",
       "      <th></th>\n",
       "      <th>student</th>\n",
       "      <th>subject</th>\n",
       "      <th>grade</th>\n",
       "    </tr>\n",
       "  </thead>\n",
       "  <tbody>\n",
       "    <tr>\n",
       "      <th>0</th>\n",
       "      <td>John Doe</td>\n",
       "      <td>Mathimatics</td>\n",
       "      <td>5</td>\n",
       "    </tr>\n",
       "    <tr>\n",
       "      <th>1</th>\n",
       "      <td>John Doe</td>\n",
       "      <td>History</td>\n",
       "      <td>2</td>\n",
       "    </tr>\n",
       "    <tr>\n",
       "      <th>2</th>\n",
       "      <td>Jana Smith</td>\n",
       "      <td>Mathimatics</td>\n",
       "      <td>3</td>\n",
       "    </tr>\n",
       "    <tr>\n",
       "      <th>3</th>\n",
       "      <td>Jana Smith</td>\n",
       "      <td>Mathimatics</td>\n",
       "      <td>5</td>\n",
       "    </tr>\n",
       "    <tr>\n",
       "      <th>4</th>\n",
       "      <td>Jana Smith</td>\n",
       "      <td>History</td>\n",
       "      <td>4</td>\n",
       "    </tr>\n",
       "    <tr>\n",
       "      <th>5</th>\n",
       "      <td>Scunner Campbell</td>\n",
       "      <td>Mathimatics</td>\n",
       "      <td>1</td>\n",
       "    </tr>\n",
       "    <tr>\n",
       "      <th>6</th>\n",
       "      <td>Scunner Campbell</td>\n",
       "      <td>Mathimatics</td>\n",
       "      <td>2</td>\n",
       "    </tr>\n",
       "    <tr>\n",
       "      <th>7</th>\n",
       "      <td>Scunner Campbell</td>\n",
       "      <td>History</td>\n",
       "      <td>5</td>\n",
       "    </tr>\n",
       "  </tbody>\n",
       "</table>\n",
       "</div>"
      ],
      "text/plain": [
       "            student      subject  grade\n",
       "0          John Doe  Mathimatics      5\n",
       "1          John Doe      History      2\n",
       "2        Jana Smith  Mathimatics      3\n",
       "3        Jana Smith  Mathimatics      5\n",
       "4        Jana Smith      History      4\n",
       "5  Scunner Campbell  Mathimatics      1\n",
       "6  Scunner Campbell  Mathimatics      2\n",
       "7  Scunner Campbell      History      5"
      ]
     },
     "execution_count": 47,
     "metadata": {},
     "output_type": "execute_result"
    }
   ],
   "source": [
    "df"
   ]
  },
  {
   "cell_type": "code",
   "execution_count": 49,
   "id": "7260346a",
   "metadata": {},
   "outputs": [
    {
     "data": {
      "text/plain": [
       "<pandas.core.groupby.generic.DataFrameGroupBy object at 0x7facd95c7c70>"
      ]
     },
     "execution_count": 49,
     "metadata": {},
     "output_type": "execute_result"
    }
   ],
   "source": [
    "gb = df.groupby('subject')\n",
    "gb"
   ]
  },
  {
   "cell_type": "code",
   "execution_count": 50,
   "id": "c1c60cf3",
   "metadata": {},
   "outputs": [
    {
     "data": {
      "text/plain": [
       "pandas.core.groupby.generic.DataFrameGroupBy"
      ]
     },
     "execution_count": 50,
     "metadata": {},
     "output_type": "execute_result"
    }
   ],
   "source": [
    "type(gb)"
   ]
  },
  {
   "cell_type": "code",
   "execution_count": 51,
   "id": "ee233622",
   "metadata": {},
   "outputs": [
    {
     "data": {
      "text/plain": [
       "subject\n",
       "History        3\n",
       "Mathimatics    5\n",
       "dtype: int64"
      ]
     },
     "execution_count": 51,
     "metadata": {},
     "output_type": "execute_result"
    }
   ],
   "source": [
    "gb.size()"
   ]
  },
  {
   "cell_type": "code",
   "execution_count": 52,
   "id": "e6dbf1c9",
   "metadata": {},
   "outputs": [
    {
     "data": {
      "text/plain": [
       "subject\n",
       "History        3\n",
       "Mathimatics    5\n",
       "dtype: int64"
      ]
     },
     "execution_count": 52,
     "metadata": {},
     "output_type": "execute_result"
    }
   ],
   "source": [
    "df.groupby('subject').size()"
   ]
  },
  {
   "cell_type": "code",
   "execution_count": 53,
   "id": "8fe52b46",
   "metadata": {},
   "outputs": [
    {
     "data": {
      "text/plain": [
       "subject\n",
       "History        3.666667\n",
       "Mathimatics    3.200000\n",
       "Name: grade, dtype: float64"
      ]
     },
     "execution_count": 53,
     "metadata": {},
     "output_type": "execute_result"
    }
   ],
   "source": [
    "df.groupby('subject')['grade'].mean()"
   ]
  },
  {
   "cell_type": "code",
   "execution_count": 54,
   "id": "67843995",
   "metadata": {},
   "outputs": [
    {
     "data": {
      "text/plain": [
       "student           subject    \n",
       "Jana Smith        History        4.0\n",
       "                  Mathimatics    4.0\n",
       "John Doe          History        2.0\n",
       "                  Mathimatics    5.0\n",
       "Scunner Campbell  History        5.0\n",
       "                  Mathimatics    1.5\n",
       "Name: grade, dtype: float64"
      ]
     },
     "execution_count": 54,
     "metadata": {},
     "output_type": "execute_result"
    }
   ],
   "source": [
    "df.groupby(['student','subject'])['grade'].mean()"
   ]
  },
  {
   "cell_type": "markdown",
   "id": "89fbd474",
   "metadata": {},
   "source": [
    "# Ex"
   ]
  },
  {
   "cell_type": "code",
   "execution_count": 55,
   "id": "ab37d809",
   "metadata": {},
   "outputs": [
    {
     "data": {
      "text/html": [
       "<div>\n",
       "<style scoped>\n",
       "    .dataframe tbody tr th:only-of-type {\n",
       "        vertical-align: middle;\n",
       "    }\n",
       "\n",
       "    .dataframe tbody tr th {\n",
       "        vertical-align: top;\n",
       "    }\n",
       "\n",
       "    .dataframe thead th {\n",
       "        text-align: right;\n",
       "    }\n",
       "</style>\n",
       "<table border=\"1\" class=\"dataframe\">\n",
       "  <thead>\n",
       "    <tr style=\"text-align: right;\">\n",
       "      <th></th>\n",
       "      <th>round</th>\n",
       "      <th>hteam</th>\n",
       "      <th>ateam</th>\n",
       "      <th>hgoals</th>\n",
       "      <th>agoals</th>\n",
       "    </tr>\n",
       "  </thead>\n",
       "  <tbody>\n",
       "    <tr>\n",
       "      <th>0</th>\n",
       "      <td>1</td>\n",
       "      <td>Blackburn Rovers</td>\n",
       "      <td>Wolverhampton Wanderers</td>\n",
       "      <td>1</td>\n",
       "      <td>2</td>\n",
       "    </tr>\n",
       "    <tr>\n",
       "      <th>1</th>\n",
       "      <td>1</td>\n",
       "      <td>Fulham FC</td>\n",
       "      <td>Aston Villa</td>\n",
       "      <td>0</td>\n",
       "      <td>0</td>\n",
       "    </tr>\n",
       "    <tr>\n",
       "      <th>2</th>\n",
       "      <td>1</td>\n",
       "      <td>Liverpool FC</td>\n",
       "      <td>Sunderland AFC</td>\n",
       "      <td>1</td>\n",
       "      <td>1</td>\n",
       "    </tr>\n",
       "    <tr>\n",
       "      <th>3</th>\n",
       "      <td>1</td>\n",
       "      <td>Queens Park Rangers</td>\n",
       "      <td>Bolton Wanderers</td>\n",
       "      <td>0</td>\n",
       "      <td>4</td>\n",
       "    </tr>\n",
       "    <tr>\n",
       "      <th>4</th>\n",
       "      <td>1</td>\n",
       "      <td>Wigan Athletic</td>\n",
       "      <td>Norwich City</td>\n",
       "      <td>1</td>\n",
       "      <td>1</td>\n",
       "    </tr>\n",
       "    <tr>\n",
       "      <th>...</th>\n",
       "      <td>...</td>\n",
       "      <td>...</td>\n",
       "      <td>...</td>\n",
       "      <td>...</td>\n",
       "      <td>...</td>\n",
       "    </tr>\n",
       "    <tr>\n",
       "      <th>375</th>\n",
       "      <td>38</td>\n",
       "      <td>Sunderland AFC</td>\n",
       "      <td>Manchester United</td>\n",
       "      <td>0</td>\n",
       "      <td>1</td>\n",
       "    </tr>\n",
       "    <tr>\n",
       "      <th>376</th>\n",
       "      <td>38</td>\n",
       "      <td>Swansea City</td>\n",
       "      <td>Liverpool FC</td>\n",
       "      <td>1</td>\n",
       "      <td>0</td>\n",
       "    </tr>\n",
       "    <tr>\n",
       "      <th>377</th>\n",
       "      <td>38</td>\n",
       "      <td>Tottenham Hotspur</td>\n",
       "      <td>Fulham FC</td>\n",
       "      <td>2</td>\n",
       "      <td>0</td>\n",
       "    </tr>\n",
       "    <tr>\n",
       "      <th>378</th>\n",
       "      <td>38</td>\n",
       "      <td>West Bromwich Albion</td>\n",
       "      <td>Arsenal FC</td>\n",
       "      <td>2</td>\n",
       "      <td>3</td>\n",
       "    </tr>\n",
       "    <tr>\n",
       "      <th>379</th>\n",
       "      <td>38</td>\n",
       "      <td>Wigan Athletic</td>\n",
       "      <td>Wolverhampton Wanderers</td>\n",
       "      <td>3</td>\n",
       "      <td>2</td>\n",
       "    </tr>\n",
       "  </tbody>\n",
       "</table>\n",
       "<p>380 rows × 5 columns</p>\n",
       "</div>"
      ],
      "text/plain": [
       "     round                 hteam                    ateam  hgoals  agoals\n",
       "0        1      Blackburn Rovers  Wolverhampton Wanderers       1       2\n",
       "1        1             Fulham FC              Aston Villa       0       0\n",
       "2        1          Liverpool FC           Sunderland AFC       1       1\n",
       "3        1   Queens Park Rangers         Bolton Wanderers       0       4\n",
       "4        1        Wigan Athletic             Norwich City       1       1\n",
       "..     ...                   ...                      ...     ...     ...\n",
       "375     38        Sunderland AFC        Manchester United       0       1\n",
       "376     38          Swansea City             Liverpool FC       1       0\n",
       "377     38     Tottenham Hotspur                Fulham FC       2       0\n",
       "378     38  West Bromwich Albion               Arsenal FC       2       3\n",
       "379     38        Wigan Athletic  Wolverhampton Wanderers       3       2\n",
       "\n",
       "[380 rows x 5 columns]"
      ]
     },
     "execution_count": 55,
     "metadata": {},
     "output_type": "execute_result"
    }
   ],
   "source": [
    "names = ['roun','hteam','ateam','hgoals','agoals']\n",
    "df = pd.read_csv('pl.txt', sep='\\t', skiprows=6, names=names)\n",
    "df"
   ]
  },
  {
   "cell_type": "code",
   "execution_count": 56,
   "id": "9eb0d539",
   "metadata": {},
   "outputs": [],
   "source": [
    "pd.read_csv?"
   ]
  },
  {
   "cell_type": "code",
   "execution_count": 57,
   "id": "410fdbed",
   "metadata": {},
   "outputs": [],
   "source": [
    "df['goals']=df['hgoals']+df['agoals']"
   ]
  },
  {
   "cell_type": "code",
   "execution_count": 58,
   "id": "f621e67d",
   "metadata": {},
   "outputs": [
    {
     "data": {
      "text/html": [
       "<div>\n",
       "<style scoped>\n",
       "    .dataframe tbody tr th:only-of-type {\n",
       "        vertical-align: middle;\n",
       "    }\n",
       "\n",
       "    .dataframe tbody tr th {\n",
       "        vertical-align: top;\n",
       "    }\n",
       "\n",
       "    .dataframe thead th {\n",
       "        text-align: right;\n",
       "    }\n",
       "</style>\n",
       "<table border=\"1\" class=\"dataframe\">\n",
       "  <thead>\n",
       "    <tr style=\"text-align: right;\">\n",
       "      <th></th>\n",
       "      <th>round</th>\n",
       "      <th>hteam</th>\n",
       "      <th>ateam</th>\n",
       "      <th>hgoals</th>\n",
       "      <th>agoals</th>\n",
       "      <th>goals</th>\n",
       "    </tr>\n",
       "  </thead>\n",
       "  <tbody>\n",
       "    <tr>\n",
       "      <th>0</th>\n",
       "      <td>1</td>\n",
       "      <td>Blackburn Rovers</td>\n",
       "      <td>Wolverhampton Wanderers</td>\n",
       "      <td>1</td>\n",
       "      <td>2</td>\n",
       "      <td>3</td>\n",
       "    </tr>\n",
       "    <tr>\n",
       "      <th>1</th>\n",
       "      <td>1</td>\n",
       "      <td>Fulham FC</td>\n",
       "      <td>Aston Villa</td>\n",
       "      <td>0</td>\n",
       "      <td>0</td>\n",
       "      <td>0</td>\n",
       "    </tr>\n",
       "    <tr>\n",
       "      <th>2</th>\n",
       "      <td>1</td>\n",
       "      <td>Liverpool FC</td>\n",
       "      <td>Sunderland AFC</td>\n",
       "      <td>1</td>\n",
       "      <td>1</td>\n",
       "      <td>2</td>\n",
       "    </tr>\n",
       "    <tr>\n",
       "      <th>3</th>\n",
       "      <td>1</td>\n",
       "      <td>Queens Park Rangers</td>\n",
       "      <td>Bolton Wanderers</td>\n",
       "      <td>0</td>\n",
       "      <td>4</td>\n",
       "      <td>4</td>\n",
       "    </tr>\n",
       "    <tr>\n",
       "      <th>4</th>\n",
       "      <td>1</td>\n",
       "      <td>Wigan Athletic</td>\n",
       "      <td>Norwich City</td>\n",
       "      <td>1</td>\n",
       "      <td>1</td>\n",
       "      <td>2</td>\n",
       "    </tr>\n",
       "    <tr>\n",
       "      <th>...</th>\n",
       "      <td>...</td>\n",
       "      <td>...</td>\n",
       "      <td>...</td>\n",
       "      <td>...</td>\n",
       "      <td>...</td>\n",
       "      <td>...</td>\n",
       "    </tr>\n",
       "    <tr>\n",
       "      <th>375</th>\n",
       "      <td>38</td>\n",
       "      <td>Sunderland AFC</td>\n",
       "      <td>Manchester United</td>\n",
       "      <td>0</td>\n",
       "      <td>1</td>\n",
       "      <td>1</td>\n",
       "    </tr>\n",
       "    <tr>\n",
       "      <th>376</th>\n",
       "      <td>38</td>\n",
       "      <td>Swansea City</td>\n",
       "      <td>Liverpool FC</td>\n",
       "      <td>1</td>\n",
       "      <td>0</td>\n",
       "      <td>1</td>\n",
       "    </tr>\n",
       "    <tr>\n",
       "      <th>377</th>\n",
       "      <td>38</td>\n",
       "      <td>Tottenham Hotspur</td>\n",
       "      <td>Fulham FC</td>\n",
       "      <td>2</td>\n",
       "      <td>0</td>\n",
       "      <td>2</td>\n",
       "    </tr>\n",
       "    <tr>\n",
       "      <th>378</th>\n",
       "      <td>38</td>\n",
       "      <td>West Bromwich Albion</td>\n",
       "      <td>Arsenal FC</td>\n",
       "      <td>2</td>\n",
       "      <td>3</td>\n",
       "      <td>5</td>\n",
       "    </tr>\n",
       "    <tr>\n",
       "      <th>379</th>\n",
       "      <td>38</td>\n",
       "      <td>Wigan Athletic</td>\n",
       "      <td>Wolverhampton Wanderers</td>\n",
       "      <td>3</td>\n",
       "      <td>2</td>\n",
       "      <td>5</td>\n",
       "    </tr>\n",
       "  </tbody>\n",
       "</table>\n",
       "<p>380 rows × 6 columns</p>\n",
       "</div>"
      ],
      "text/plain": [
       "     round                 hteam                    ateam  hgoals  agoals  \\\n",
       "0        1      Blackburn Rovers  Wolverhampton Wanderers       1       2   \n",
       "1        1             Fulham FC              Aston Villa       0       0   \n",
       "2        1          Liverpool FC           Sunderland AFC       1       1   \n",
       "3        1   Queens Park Rangers         Bolton Wanderers       0       4   \n",
       "4        1        Wigan Athletic             Norwich City       1       1   \n",
       "..     ...                   ...                      ...     ...     ...   \n",
       "375     38        Sunderland AFC        Manchester United       0       1   \n",
       "376     38          Swansea City             Liverpool FC       1       0   \n",
       "377     38     Tottenham Hotspur                Fulham FC       2       0   \n",
       "378     38  West Bromwich Albion               Arsenal FC       2       3   \n",
       "379     38        Wigan Athletic  Wolverhampton Wanderers       3       2   \n",
       "\n",
       "     goals  \n",
       "0        3  \n",
       "1        0  \n",
       "2        2  \n",
       "3        4  \n",
       "4        2  \n",
       "..     ...  \n",
       "375      1  \n",
       "376      1  \n",
       "377      2  \n",
       "378      5  \n",
       "379      5  \n",
       "\n",
       "[380 rows x 6 columns]"
      ]
     },
     "execution_count": 58,
     "metadata": {},
     "output_type": "execute_result"
    }
   ],
   "source": [
    "df"
   ]
  },
  {
   "cell_type": "code",
   "execution_count": 59,
   "id": "20ffc24e",
   "metadata": {},
   "outputs": [
    {
     "data": {
      "text/plain": [
       "25"
      ]
     },
     "execution_count": 59,
     "metadata": {},
     "output_type": "execute_result"
    }
   ],
   "source": [
    "df[df['round'] == 13]['goals'].sum()"
   ]
  },
  {
   "cell_type": "code",
   "execution_count": 60,
   "id": "5d311266",
   "metadata": {},
   "outputs": [
    {
     "data": {
      "text/plain": [
       "round\n",
       "1     20\n",
       "2     23\n",
       "3     31\n",
       "4     22\n",
       "5     38\n",
       "6     27\n",
       "7     34\n",
       "8     32\n",
       "9     31\n",
       "10    39\n",
       "11    31\n",
       "12    30\n",
       "13    25\n",
       "14    30\n",
       "15    30\n",
       "16    18\n",
       "17    31\n",
       "18    19\n",
       "19    26\n",
       "20    29\n",
       "21    22\n",
       "22    35\n",
       "23    23\n",
       "24    31\n",
       "25    36\n",
       "26    30\n",
       "27    24\n",
       "28    17\n",
       "29    27\n",
       "30    25\n",
       "31    35\n",
       "32    23\n",
       "33    29\n",
       "34    28\n",
       "35    22\n",
       "36    35\n",
       "37    26\n",
       "38    32\n",
       "Name: goals, dtype: int64"
      ]
     },
     "execution_count": 60,
     "metadata": {},
     "output_type": "execute_result"
    }
   ],
   "source": [
    "se = df.groupby('round')['goals'].sum()\n",
    "se"
   ]
  },
  {
   "cell_type": "code",
   "execution_count": 62,
   "id": "3491e879",
   "metadata": {},
   "outputs": [
    {
     "data": {
      "text/plain": [
       "(10, 39)"
      ]
     },
     "execution_count": 62,
     "metadata": {},
     "output_type": "execute_result"
    }
   ],
   "source": [
    "se.idxmax(), se.max()"
   ]
  },
  {
   "cell_type": "code",
   "execution_count": 63,
   "id": "5ffeef5e",
   "metadata": {},
   "outputs": [
    {
     "data": {
      "text/plain": [
       "round\n",
       "1     10\n",
       "2     10\n",
       "3     10\n",
       "4     10\n",
       "5     10\n",
       "6     10\n",
       "7     10\n",
       "8     10\n",
       "9     10\n",
       "10    10\n",
       "11    10\n",
       "12    10\n",
       "13    10\n",
       "14    10\n",
       "15    10\n",
       "16    10\n",
       "17    10\n",
       "18    10\n",
       "19    10\n",
       "20    10\n",
       "21    10\n",
       "22    10\n",
       "23    10\n",
       "24    10\n",
       "25    10\n",
       "26    10\n",
       "27    10\n",
       "28    10\n",
       "29    10\n",
       "30    10\n",
       "31    10\n",
       "32    10\n",
       "33    10\n",
       "34    10\n",
       "35    10\n",
       "36    10\n",
       "37    10\n",
       "38    10\n",
       "dtype: int64"
      ]
     },
     "execution_count": 63,
     "metadata": {},
     "output_type": "execute_result"
    }
   ],
   "source": [
    "df.groupby('round').size()"
   ]
  },
  {
   "cell_type": "code",
   "execution_count": 65,
   "id": "af93840a",
   "metadata": {},
   "outputs": [
    {
     "data": {
      "text/plain": [
       "round\n",
       "10    39\n",
       "5     38\n",
       "25    36\n",
       "22    35\n",
       "36    35\n",
       "31    35\n",
       "7     34\n",
       "38    32\n",
       "8     32\n",
       "9     31\n",
       "Name: goals, dtype: int64"
      ]
     },
     "execution_count": 65,
     "metadata": {},
     "output_type": "execute_result"
    }
   ],
   "source": [
    "df.groupby('round')['goals'].sum().sort_values(ascending=False)[:10]"
   ]
  },
  {
   "cell_type": "code",
   "execution_count": 78,
   "id": "72fa5506",
   "metadata": {},
   "outputs": [
    {
     "data": {
      "text/plain": [
       "92.89473684210526"
      ]
     },
     "execution_count": 78,
     "metadata": {},
     "output_type": "execute_result"
    }
   ],
   "source": [
    "len(df[df['goals']>0])/len(df)*100"
   ]
  },
  {
   "cell_type": "code",
   "execution_count": 81,
   "id": "3f57ba43",
   "metadata": {},
   "outputs": [
    {
     "data": {
      "text/plain": [
       "92.89473684210526"
      ]
     },
     "execution_count": 81,
     "metadata": {},
     "output_type": "execute_result"
    }
   ],
   "source": [
    "# second way\n",
    "(df['goals']>0).mean()*100"
   ]
  },
  {
   "cell_type": "markdown",
   "id": "bec6d065",
   "metadata": {},
   "source": [
    "# Ex"
   ]
  },
  {
   "cell_type": "code",
   "execution_count": 82,
   "id": "25374b0e",
   "metadata": {},
   "outputs": [],
   "source": [
    "df = pd.read_csv('volcanoes_2021.csv')"
   ]
  },
  {
   "cell_type": "code",
   "execution_count": 83,
   "id": "8255e54c",
   "metadata": {},
   "outputs": [
    {
     "data": {
      "text/html": [
       "<div>\n",
       "<style scoped>\n",
       "    .dataframe tbody tr th:only-of-type {\n",
       "        vertical-align: middle;\n",
       "    }\n",
       "\n",
       "    .dataframe tbody tr th {\n",
       "        vertical-align: top;\n",
       "    }\n",
       "\n",
       "    .dataframe thead th {\n",
       "        text-align: right;\n",
       "    }\n",
       "</style>\n",
       "<table border=\"1\" class=\"dataframe\">\n",
       "  <thead>\n",
       "    <tr style=\"text-align: right;\">\n",
       "      <th></th>\n",
       "      <th>Region</th>\n",
       "      <th>Number</th>\n",
       "      <th>Volcano Name</th>\n",
       "      <th>Country</th>\n",
       "      <th>Location</th>\n",
       "      <th>Latitude</th>\n",
       "      <th>Longitude</th>\n",
       "      <th>Elevation (m)</th>\n",
       "      <th>Type</th>\n",
       "      <th>Status</th>\n",
       "      <th>Last Known Eruption</th>\n",
       "    </tr>\n",
       "  </thead>\n",
       "  <tbody>\n",
       "    <tr>\n",
       "      <th>0</th>\n",
       "      <td>West Indies</td>\n",
       "      <td>1600-21-</td>\n",
       "      <td>Piparo</td>\n",
       "      <td>Trinidad</td>\n",
       "      <td>Trinidad</td>\n",
       "      <td>10.000</td>\n",
       "      <td>-61.000</td>\n",
       "      <td>140.0</td>\n",
       "      <td>Mud volcano</td>\n",
       "      <td>Historical</td>\n",
       "      <td>D1</td>\n",
       "    </tr>\n",
       "    <tr>\n",
       "      <th>1</th>\n",
       "      <td>West Indies</td>\n",
       "      <td>1600-08=</td>\n",
       "      <td>Diables, Morne aux</td>\n",
       "      <td>Dominica</td>\n",
       "      <td>W Indies</td>\n",
       "      <td>15.612</td>\n",
       "      <td>-61.430</td>\n",
       "      <td>861.0</td>\n",
       "      <td>Stratovolcano</td>\n",
       "      <td>Fumarolic</td>\n",
       "      <td>U</td>\n",
       "    </tr>\n",
       "    <tr>\n",
       "      <th>2</th>\n",
       "      <td>West Indies</td>\n",
       "      <td>1600-09=</td>\n",
       "      <td>Diablotins, Morne</td>\n",
       "      <td>Dominica</td>\n",
       "      <td>W Indies</td>\n",
       "      <td>15.503</td>\n",
       "      <td>-61.397</td>\n",
       "      <td>1430.0</td>\n",
       "      <td>Stratovolcano</td>\n",
       "      <td>Holocene</td>\n",
       "      <td>U</td>\n",
       "    </tr>\n",
       "    <tr>\n",
       "      <th>3</th>\n",
       "      <td>West Indies</td>\n",
       "      <td>1600-11=</td>\n",
       "      <td>Plat Pays, Morne</td>\n",
       "      <td>Dominica</td>\n",
       "      <td>W Indies</td>\n",
       "      <td>15.255</td>\n",
       "      <td>-61.341</td>\n",
       "      <td>940.0</td>\n",
       "      <td>Stratovolcano</td>\n",
       "      <td>Radiocarbon</td>\n",
       "      <td>D5</td>\n",
       "    </tr>\n",
       "    <tr>\n",
       "      <th>4</th>\n",
       "      <td>West Indies</td>\n",
       "      <td>1600-10=</td>\n",
       "      <td>Trois Pitons, Morne</td>\n",
       "      <td>Dominica</td>\n",
       "      <td>W Indies</td>\n",
       "      <td>15.370</td>\n",
       "      <td>-61.330</td>\n",
       "      <td>1387.0</td>\n",
       "      <td>Lava dome</td>\n",
       "      <td>Historical</td>\n",
       "      <td>D3</td>\n",
       "    </tr>\n",
       "    <tr>\n",
       "      <th>...</th>\n",
       "      <td>...</td>\n",
       "      <td>...</td>\n",
       "      <td>...</td>\n",
       "      <td>...</td>\n",
       "      <td>...</td>\n",
       "      <td>...</td>\n",
       "      <td>...</td>\n",
       "      <td>...</td>\n",
       "      <td>...</td>\n",
       "      <td>...</td>\n",
       "      <td>...</td>\n",
       "    </tr>\n",
       "    <tr>\n",
       "      <th>1566</th>\n",
       "      <td>Melanesia and Australia</td>\n",
       "      <td>0507-08-</td>\n",
       "      <td>NE Shepherd Islands</td>\n",
       "      <td>Vanuatu</td>\n",
       "      <td>Vanuatu-SW Pacific</td>\n",
       "      <td>-16.992</td>\n",
       "      <td>168.592</td>\n",
       "      <td>216.0</td>\n",
       "      <td>Stratovolcano</td>\n",
       "      <td>Holocene</td>\n",
       "      <td>Unknown</td>\n",
       "    </tr>\n",
       "    <tr>\n",
       "      <th>1567</th>\n",
       "      <td>Melanesia and Australia</td>\n",
       "      <td>0507-081</td>\n",
       "      <td>North Vate</td>\n",
       "      <td>Vanuatu</td>\n",
       "      <td>Vanuatu-SW Pacific</td>\n",
       "      <td>-17.470</td>\n",
       "      <td>168.353</td>\n",
       "      <td>594.0</td>\n",
       "      <td>Stratovolcano</td>\n",
       "      <td>Holocene</td>\n",
       "      <td>U</td>\n",
       "    </tr>\n",
       "    <tr>\n",
       "      <th>1568</th>\n",
       "      <td>Melanesia and Australia</td>\n",
       "      <td>0507-01=</td>\n",
       "      <td>Suretamatai</td>\n",
       "      <td>Vanuatu</td>\n",
       "      <td>Vanuatu-SW Pacific</td>\n",
       "      <td>-13.800</td>\n",
       "      <td>167.470</td>\n",
       "      <td>921.0</td>\n",
       "      <td>Complex volcano</td>\n",
       "      <td>Historical</td>\n",
       "      <td>D1</td>\n",
       "    </tr>\n",
       "    <tr>\n",
       "      <th>1569</th>\n",
       "      <td>Melanesia and Australia</td>\n",
       "      <td>0507-09=</td>\n",
       "      <td>Traitor's Head</td>\n",
       "      <td>Vanuatu</td>\n",
       "      <td>Vanuatu-SW Pacific</td>\n",
       "      <td>-18.754</td>\n",
       "      <td>169.238</td>\n",
       "      <td>817.0</td>\n",
       "      <td>Stratovolcano</td>\n",
       "      <td>Historical</td>\n",
       "      <td>D3</td>\n",
       "    </tr>\n",
       "    <tr>\n",
       "      <th>1570</th>\n",
       "      <td>Melanesia and Australia</td>\n",
       "      <td>0507-10=</td>\n",
       "      <td>Yasur</td>\n",
       "      <td>Vanuatu</td>\n",
       "      <td>Vanuatu-SW Pacific</td>\n",
       "      <td>-19.532</td>\n",
       "      <td>169.447</td>\n",
       "      <td>361.0</td>\n",
       "      <td>Stratovolcano</td>\n",
       "      <td>Historical</td>\n",
       "      <td>D1</td>\n",
       "    </tr>\n",
       "  </tbody>\n",
       "</table>\n",
       "<p>1571 rows × 11 columns</p>\n",
       "</div>"
      ],
      "text/plain": [
       "                        Region    Number         Volcano Name   Country  \\\n",
       "0                  West Indies  1600-21-               Piparo  Trinidad   \n",
       "1                  West Indies  1600-08=   Diables, Morne aux  Dominica   \n",
       "2                  West Indies  1600-09=    Diablotins, Morne  Dominica   \n",
       "3                  West Indies  1600-11=     Plat Pays, Morne  Dominica   \n",
       "4                  West Indies  1600-10=  Trois Pitons, Morne  Dominica   \n",
       "...                        ...       ...                  ...       ...   \n",
       "1566   Melanesia and Australia  0507-08-  NE Shepherd Islands   Vanuatu   \n",
       "1567   Melanesia and Australia  0507-081           North Vate   Vanuatu   \n",
       "1568   Melanesia and Australia  0507-01=          Suretamatai   Vanuatu   \n",
       "1569   Melanesia and Australia  0507-09=       Traitor's Head   Vanuatu   \n",
       "1570   Melanesia and Australia  0507-10=                Yasur   Vanuatu   \n",
       "\n",
       "                Location  Latitude  Longitude  Elevation (m)             Type  \\\n",
       "0               Trinidad    10.000    -61.000          140.0      Mud volcano   \n",
       "1               W Indies    15.612    -61.430          861.0    Stratovolcano   \n",
       "2               W Indies    15.503    -61.397         1430.0    Stratovolcano   \n",
       "3               W Indies    15.255    -61.341          940.0    Stratovolcano   \n",
       "4               W Indies    15.370    -61.330         1387.0        Lava dome   \n",
       "...                  ...       ...        ...            ...              ...   \n",
       "1566  Vanuatu-SW Pacific   -16.992    168.592          216.0    Stratovolcano   \n",
       "1567  Vanuatu-SW Pacific   -17.470    168.353          594.0    Stratovolcano   \n",
       "1568  Vanuatu-SW Pacific   -13.800    167.470          921.0  Complex volcano   \n",
       "1569  Vanuatu-SW Pacific   -18.754    169.238          817.0    Stratovolcano   \n",
       "1570  Vanuatu-SW Pacific   -19.532    169.447          361.0    Stratovolcano   \n",
       "\n",
       "           Status Last Known Eruption  \n",
       "0      Historical                  D1  \n",
       "1       Fumarolic                   U  \n",
       "2        Holocene                   U  \n",
       "3     Radiocarbon                  D5  \n",
       "4      Historical                  D3  \n",
       "...           ...                 ...  \n",
       "1566     Holocene             Unknown  \n",
       "1567     Holocene                   U  \n",
       "1568   Historical                  D1  \n",
       "1569   Historical                  D3  \n",
       "1570   Historical                  D1  \n",
       "\n",
       "[1571 rows x 11 columns]"
      ]
     },
     "execution_count": 83,
     "metadata": {},
     "output_type": "execute_result"
    }
   ],
   "source": [
    "df"
   ]
  },
  {
   "cell_type": "code",
   "execution_count": 85,
   "id": "53fccaf4",
   "metadata": {},
   "outputs": [
    {
     "data": {
      "text/plain": [
       "Index(['Region', 'Number', 'Volcano Name', 'Country', 'Location', 'Latitude',\n",
       "       'Longitude', 'Elevation (m)', 'Type', 'Status', 'Last Known Eruption'],\n",
       "      dtype='object')"
      ]
     },
     "execution_count": 85,
     "metadata": {},
     "output_type": "execute_result"
    }
   ],
   "source": [
    "# 1\n",
    "df.columns"
   ]
  },
  {
   "cell_type": "code",
   "execution_count": null,
   "id": "d49f36e3",
   "metadata": {},
   "outputs": [],
   "source": [
    "# 2"
   ]
  },
  {
   "cell_type": "code",
   "execution_count": 86,
   "id": "c43bdab4",
   "metadata": {},
   "outputs": [
    {
     "data": {
      "text/plain": [
       "11"
      ]
     },
     "execution_count": 86,
     "metadata": {},
     "output_type": "execute_result"
    }
   ],
   "source": [
    "len(df.columns)"
   ]
  },
  {
   "cell_type": "code",
   "execution_count": 87,
   "id": "11e90e33",
   "metadata": {},
   "outputs": [
    {
     "data": {
      "text/plain": [
       "1571"
      ]
     },
     "execution_count": 87,
     "metadata": {},
     "output_type": "execute_result"
    }
   ],
   "source": [
    "# 3\n",
    "len(df)"
   ]
  },
  {
   "cell_type": "code",
   "execution_count": 88,
   "id": "6c568535",
   "metadata": {},
   "outputs": [
    {
     "name": "stdout",
     "output_type": "stream",
     "text": [
      "<class 'pandas.core.frame.DataFrame'>\n",
      "RangeIndex: 1571 entries, 0 to 1570\n",
      "Data columns (total 11 columns):\n",
      " #   Column               Non-Null Count  Dtype  \n",
      "---  ------               --------------  -----  \n",
      " 0   Region               1571 non-null   object \n",
      " 1   Number               1571 non-null   object \n",
      " 2   Volcano Name         1571 non-null   object \n",
      " 3   Country              1571 non-null   object \n",
      " 4   Location             1571 non-null   object \n",
      " 5   Latitude             1571 non-null   float64\n",
      " 6   Longitude            1571 non-null   float64\n",
      " 7   Elevation (m)        1566 non-null   float64\n",
      " 8   Type                 1571 non-null   object \n",
      " 9   Status               1571 non-null   object \n",
      " 10  Last Known Eruption  1571 non-null   object \n",
      "dtypes: float64(3), object(8)\n",
      "memory usage: 135.1+ KB\n"
     ]
    }
   ],
   "source": [
    "# 4 \n",
    "df.info()"
   ]
  },
  {
   "cell_type": "code",
   "execution_count": 90,
   "id": "5c4e8b81",
   "metadata": {},
   "outputs": [
    {
     "data": {
      "text/html": [
       "<div>\n",
       "<style scoped>\n",
       "    .dataframe tbody tr th:only-of-type {\n",
       "        vertical-align: middle;\n",
       "    }\n",
       "\n",
       "    .dataframe tbody tr th {\n",
       "        vertical-align: top;\n",
       "    }\n",
       "\n",
       "    .dataframe thead th {\n",
       "        text-align: right;\n",
       "    }\n",
       "</style>\n",
       "<table border=\"1\" class=\"dataframe\">\n",
       "  <thead>\n",
       "    <tr style=\"text-align: right;\">\n",
       "      <th></th>\n",
       "      <th>count</th>\n",
       "      <th>mean</th>\n",
       "      <th>std</th>\n",
       "      <th>min</th>\n",
       "      <th>25%</th>\n",
       "      <th>50%</th>\n",
       "      <th>75%</th>\n",
       "      <th>max</th>\n",
       "    </tr>\n",
       "  </thead>\n",
       "  <tbody>\n",
       "    <tr>\n",
       "      <th>Latitude</th>\n",
       "      <td>1571.0</td>\n",
       "      <td>14.686419</td>\n",
       "      <td>31.940257</td>\n",
       "      <td>-78.50</td>\n",
       "      <td>-6.725</td>\n",
       "      <td>14.07</td>\n",
       "      <td>42.3900</td>\n",
       "      <td>88.27</td>\n",
       "    </tr>\n",
       "    <tr>\n",
       "      <th>Longitude</th>\n",
       "      <td>1571.0</td>\n",
       "      <td>23.415143</td>\n",
       "      <td>112.861177</td>\n",
       "      <td>-179.97</td>\n",
       "      <td>-78.162</td>\n",
       "      <td>38.12</td>\n",
       "      <td>137.5705</td>\n",
       "      <td>179.58</td>\n",
       "    </tr>\n",
       "    <tr>\n",
       "      <th>Elevation (m)</th>\n",
       "      <td>1566.0</td>\n",
       "      <td>1624.821839</td>\n",
       "      <td>1630.288854</td>\n",
       "      <td>-6000.00</td>\n",
       "      <td>655.250</td>\n",
       "      <td>1448.50</td>\n",
       "      <td>2334.7500</td>\n",
       "      <td>6879.00</td>\n",
       "    </tr>\n",
       "  </tbody>\n",
       "</table>\n",
       "</div>"
      ],
      "text/plain": [
       "                count         mean          std      min      25%      50%  \\\n",
       "Latitude       1571.0    14.686419    31.940257   -78.50   -6.725    14.07   \n",
       "Longitude      1571.0    23.415143   112.861177  -179.97  -78.162    38.12   \n",
       "Elevation (m)  1566.0  1624.821839  1630.288854 -6000.00  655.250  1448.50   \n",
       "\n",
       "                     75%      max  \n",
       "Latitude         42.3900    88.27  \n",
       "Longitude       137.5705   179.58  \n",
       "Elevation (m)  2334.7500  6879.00  "
      ]
     },
     "execution_count": 90,
     "metadata": {},
     "output_type": "execute_result"
    }
   ],
   "source": [
    "# 5\n",
    "df.describe().T"
   ]
  },
  {
   "cell_type": "code",
   "execution_count": 106,
   "id": "705cf2cc",
   "metadata": {},
   "outputs": [
    {
     "data": {
      "text/plain": [
       "2"
      ]
     },
     "execution_count": 106,
     "metadata": {},
     "output_type": "execute_result"
    }
   ],
   "source": [
    "# 1\n",
    "d = (df['Country']== 'India').sum()\n",
    "d"
   ]
  },
  {
   "cell_type": "code",
   "execution_count": 118,
   "id": "32eb963d",
   "metadata": {},
   "outputs": [
    {
     "data": {
      "text/plain": [
       "477    Narcondum\n",
       "Name: Volcano Name, dtype: object"
      ]
     },
     "execution_count": 118,
     "metadata": {},
     "output_type": "execute_result"
    }
   ],
   "source": [
    "# 2\n",
    "g = df[(df['Country']== 'India')]['Latitude'].max()\n",
    "v = df[((df['Latitude'] == g) & (df['Country']== 'India'))]\n",
    "v['Volcano Name']"
   ]
  },
  {
   "cell_type": "code",
   "execution_count": 128,
   "id": "0c778e75",
   "metadata": {},
   "outputs": [
    {
     "data": {
      "text/plain": [
       "95"
      ]
     },
     "execution_count": 128,
     "metadata": {},
     "output_type": "execute_result"
    }
   ],
   "source": [
    "# 3\n",
    "df['Country'].nunique()"
   ]
  },
  {
   "cell_type": "code",
   "execution_count": 129,
   "id": "941584c5",
   "metadata": {},
   "outputs": [
    {
     "data": {
      "text/plain": [
       "array(['Trinidad', 'Dominica', 'Grenada', 'Guadeloupe', 'Martinique',\n",
       "       'Montserrat', 'Netherlands', 'St. Kitts & Nevis', 'St. Lucia',\n",
       "       'St. Vincent & the Grenadines', 'Congo, DRC', 'Rwanda', 'Uganda',\n",
       "       'Kenya', 'Tanzania', 'Algeria', 'Chad', 'Libya', 'Mali', 'Sudan',\n",
       "       'Djibouti', 'Eritrea', 'Ethiopia', 'Cameroon', 'Equatorial Guinea',\n",
       "       'Nigeria', 'Sao Tome & Principe', 'Yemen', 'United States',\n",
       "       'Antarctica', 'Atlantic Ocean', 'Bouvet I.', 'United Kingdom',\n",
       "       'Portugal', 'Spain', 'Cape Verde', 'Canada', 'Pacific Ocean',\n",
       "       'New Zealand', 'France', 'Arctic Ocean', 'Jan Mayen', 'Iceland',\n",
       "       'India', 'Indonesia', 'Malaysia', 'Japan', 'China', 'Taiwan',\n",
       "       'North Korea', 'Russia', 'South Korea', 'Mongolia', 'Argentina',\n",
       "       'Bolivia', 'Chile', 'Colombia', 'Ecuador', 'Peru', 'Philippines',\n",
       "       'Myanmar', 'Vietnam', 'Fiji', 'Tonga', 'American Samoa', 'Samoa',\n",
       "       'Wallis & Futuna', 'Afghanistan', 'Indian Ocean', 'Saudi Arabia',\n",
       "       'French Southern & Antarctic Lands', 'Heard I. & McDonald Is.',\n",
       "       'South Africa', 'Comoros', 'Reunion', 'Iran', 'Madagascar',\n",
       "       'Syria', 'Costa Rica', 'El Salvador', 'Guatemala', 'Honduras',\n",
       "       'Mexico', 'Nicaragua', 'Panama', 'Armenia', 'Georgia', 'Germany',\n",
       "       'Greece', 'Italy', 'Turkey', 'Papua New Guinea', 'Australia',\n",
       "       'Solomon Is.', 'Vanuatu'], dtype=object)"
      ]
     },
     "execution_count": 129,
     "metadata": {},
     "output_type": "execute_result"
    }
   ],
   "source": [
    "df['Country'].unique()"
   ]
  },
  {
   "cell_type": "code",
   "execution_count": 130,
   "id": "62371a46",
   "metadata": {},
   "outputs": [
    {
     "data": {
      "text/plain": [
       "Country\n",
       "United States    184\n",
       "Russia           169\n",
       "Indonesia        136\n",
       "Japan            111\n",
       "Chile             87\n",
       "dtype: int64"
      ]
     },
     "execution_count": 130,
     "metadata": {},
     "output_type": "execute_result"
    }
   ],
   "source": [
    "# 4\n",
    "df.groupby('Country').size().sort_values(ascending=False)[:5]\n"
   ]
  },
  {
   "cell_type": "code",
   "execution_count": 131,
   "id": "301c5071",
   "metadata": {},
   "outputs": [
    {
     "data": {
      "text/plain": [
       "1908.3862508858965"
      ]
     },
     "execution_count": 131,
     "metadata": {},
     "output_type": "execute_result"
    }
   ],
   "source": [
    "# 5\n",
    "df[df['Elevation (m)'] > 0]['Elevation (m)'].mean()"
   ]
  },
  {
   "cell_type": "markdown",
   "id": "64ce3f5b",
   "metadata": {},
   "source": [
    "# Ex"
   ]
  },
  {
   "cell_type": "code",
   "execution_count": 136,
   "id": "aa177fed",
   "metadata": {},
   "outputs": [
    {
     "data": {
      "text/plain": [
       "True"
      ]
     },
     "execution_count": 136,
     "metadata": {},
     "output_type": "execute_result"
    }
   ],
   "source": [
    "# 1\n",
    "((df['Elevation (m)'] < 0) & (df['Latitude'] > 0)).sum() > ((df['Elevation (m)'] < 0) & (df['Latitude'] < 0)).sum()"
   ]
  },
  {
   "cell_type": "code",
   "execution_count": 146,
   "id": "41782a64",
   "metadata": {
    "scrolled": true
   },
   "outputs": [
    {
     "data": {
      "text/plain": [
       "Type\n",
       "Stratovolcano         65.517241\n",
       "Cinder cone            6.896552\n",
       "Caldera                5.747126\n",
       "Pyroclastic cone       4.597701\n",
       "Lava dome              3.448276\n",
       "Maar                   2.298851\n",
       "Pyroclastic cones      2.298851\n",
       "Shield volcano         2.298851\n",
       "Submarine volcano      2.298851\n",
       "Pyroclastic shield     1.149425\n",
       "Shield volcanoes       1.149425\n",
       "Stratovolcanoes        1.149425\n",
       "Unknown                1.149425\n",
       "dtype: float64"
      ]
     },
     "execution_count": 146,
     "metadata": {},
     "output_type": "execute_result"
    }
   ],
   "source": [
    "# 2\n",
    "df[df['Country'] == 'Chile'].groupby('Type').size().sort_values(ascending=False) / len(df[df['Country'] == 'Chile']) * 100"
   ]
  },
  {
   "cell_type": "code",
   "execution_count": null,
   "id": "ad94d7ef",
   "metadata": {},
   "outputs": [],
   "source": [
    "# 5\n"
   ]
  },
  {
   "cell_type": "code",
   "execution_count": 147,
   "id": "a4a7a1ff",
   "metadata": {},
   "outputs": [
    {
     "data": {
      "text/plain": [
       "'United States'"
      ]
     },
     "execution_count": 147,
     "metadata": {},
     "output_type": "execute_result"
    }
   ],
   "source": [
    "# 4\n",
    "df.groupby('Country')['Region'].nunique().idxmax()"
   ]
  },
  {
   "cell_type": "code",
   "execution_count": null,
   "id": "1db32fe1",
   "metadata": {},
   "outputs": [],
   "source": [
    "# 5\n"
   ]
  }
 ],
 "metadata": {
  "kernelspec": {
   "display_name": "Python 3 (ipykernel)",
   "language": "python",
   "name": "python3"
  },
  "language_info": {
   "codemirror_mode": {
    "name": "ipython",
    "version": 3
   },
   "file_extension": ".py",
   "mimetype": "text/x-python",
   "name": "python",
   "nbconvert_exporter": "python",
   "pygments_lexer": "ipython3",
   "version": "3.8.0"
  }
 },
 "nbformat": 4,
 "nbformat_minor": 5
}
