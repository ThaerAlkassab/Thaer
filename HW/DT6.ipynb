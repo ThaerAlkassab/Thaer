{
 "cells": [
  {
   "cell_type": "code",
   "execution_count": 3,
   "metadata": {},
   "outputs": [],
   "source": [
    "from sympy import *\n"
   ]
  },
  {
   "cell_type": "code",
   "execution_count": 4,
   "metadata": {},
   "outputs": [],
   "source": [
    "A = Matrix([\n",
    "    [2, 3, 1],\n",
    "    [2, 0, -1],\n",
    "    [-2, 1, -2]\n",
    "])\n"
   ]
  },
  {
   "cell_type": "code",
   "execution_count": 5,
   "metadata": {},
   "outputs": [
    {
     "data": {
      "text/latex": [
       "$\\displaystyle \\left[\\begin{matrix}2 & 3 & 1\\\\2 & 0 & -1\\\\-2 & 1 & -2\\end{matrix}\\right]$"
      ],
      "text/plain": [
       "Matrix([\n",
       "[ 2, 3,  1],\n",
       "[ 2, 0, -1],\n",
       "[-2, 1, -2]])"
      ]
     },
     "execution_count": 5,
     "metadata": {},
     "output_type": "execute_result"
    }
   ],
   "source": [
    "A"
   ]
  },
  {
   "cell_type": "code",
   "execution_count": 6,
   "metadata": {},
   "outputs": [
    {
     "data": {
      "text/latex": [
       "$\\displaystyle 22$"
      ],
      "text/plain": [
       "22"
      ]
     },
     "execution_count": 6,
     "metadata": {},
     "output_type": "execute_result"
    }
   ],
   "source": [
    "A.det()\n"
   ]
  },
  {
   "cell_type": "code",
   "execution_count": 7,
   "metadata": {},
   "outputs": [
    {
     "data": {
      "text/plain": [
       "{(-1/2 - sqrt(3)*I/2)*(2*sqrt(2193)/9 + 11)**(1/3) + 7/(3*(-1/2 - sqrt(3)*I/2)*(2*sqrt(2193)/9 + 11)**(1/3)): 1,\n",
       " 7/(3*(-1/2 + sqrt(3)*I/2)*(2*sqrt(2193)/9 + 11)**(1/3)) + (-1/2 + sqrt(3)*I/2)*(2*sqrt(2193)/9 + 11)**(1/3): 1,\n",
       " 7/(3*(2*sqrt(2193)/9 + 11)**(1/3)) + (2*sqrt(2193)/9 + 11)**(1/3): 1}"
      ]
     },
     "execution_count": 7,
     "metadata": {},
     "output_type": "execute_result"
    }
   ],
   "source": [
    "A.eigenvals()\n"
   ]
  },
  {
   "cell_type": "code",
   "execution_count": 8,
   "metadata": {},
   "outputs": [
    {
     "data": {
      "text/plain": [
       "[((-1/2 - sqrt(3)*I/2)*(2*sqrt(2193)/9 + 11)**(1/3) + 7/(3*(-1/2 - sqrt(3)*I/2)*(2*sqrt(2193)/9 + 11)**(1/3)),\n",
       "  1,\n",
       "  [Matrix([\n",
       "   [-(-6 - (-7/(3*(-1/2 - sqrt(3)*I/2)*(2*sqrt(2193)/9 + 11)**(1/3)) - (-1/2 - sqrt(3)*I/2)*(2*sqrt(2193)/9 + 11)**(1/3))*(4 - 7/(3*(-1/2 - sqrt(3)*I/2)*(2*sqrt(2193)/9 + 11)**(1/3)) - (-1/2 - sqrt(3)*I/2)*(2*sqrt(2193)/9 + 11)**(1/3)) + (-7/(3*(-1/2 - sqrt(3)*I/2)*(2*sqrt(2193)/9 + 11)**(1/3)) - (-1/2 - sqrt(3)*I/2)*(2*sqrt(2193)/9 + 11)**(1/3))*(2 - 7/(3*(-1/2 - sqrt(3)*I/2)*(2*sqrt(2193)/9 + 11)**(1/3)) - (-1/2 - sqrt(3)*I/2)*(2*sqrt(2193)/9 + 11)**(1/3)))/(12 - 2*(-7/(3*(-1/2 - sqrt(3)*I/2)*(2*sqrt(2193)/9 + 11)**(1/3)) - (-1/2 - sqrt(3)*I/2)*(2*sqrt(2193)/9 + 11)**(1/3))*(2 - 7/(3*(-1/2 - sqrt(3)*I/2)*(2*sqrt(2193)/9 + 11)**(1/3)) - (-1/2 - sqrt(3)*I/2)*(2*sqrt(2193)/9 + 11)**(1/3)))],\n",
       "   [                                                                                                                                                                                                                                                                                                                                                            -(4 - 7/(3*(-1/2 - sqrt(3)*I/2)*(2*sqrt(2193)/9 + 11)**(1/3)) - (-1/2 - sqrt(3)*I/2)*(2*sqrt(2193)/9 + 11)**(1/3))/(6 - (-7/(3*(-1/2 - sqrt(3)*I/2)*(2*sqrt(2193)/9 + 11)**(1/3)) - (-1/2 - sqrt(3)*I/2)*(2*sqrt(2193)/9 + 11)**(1/3))*(2 - 7/(3*(-1/2 - sqrt(3)*I/2)*(2*sqrt(2193)/9 + 11)**(1/3)) - (-1/2 - sqrt(3)*I/2)*(2*sqrt(2193)/9 + 11)**(1/3)))],\n",
       "   [                                                                                                                                                                                                                                                                                                                                                                                                                                                                                                                                                                                                                                                                                                                    1]])]),\n",
       " (7/(3*(-1/2 + sqrt(3)*I/2)*(2*sqrt(2193)/9 + 11)**(1/3)) + (-1/2 + sqrt(3)*I/2)*(2*sqrt(2193)/9 + 11)**(1/3),\n",
       "  1,\n",
       "  [Matrix([\n",
       "   [-(-6 + (-(-1/2 + sqrt(3)*I/2)*(2*sqrt(2193)/9 + 11)**(1/3) - 7/(3*(-1/2 + sqrt(3)*I/2)*(2*sqrt(2193)/9 + 11)**(1/3)))*(2 - (-1/2 + sqrt(3)*I/2)*(2*sqrt(2193)/9 + 11)**(1/3) - 7/(3*(-1/2 + sqrt(3)*I/2)*(2*sqrt(2193)/9 + 11)**(1/3))) - (-(-1/2 + sqrt(3)*I/2)*(2*sqrt(2193)/9 + 11)**(1/3) - 7/(3*(-1/2 + sqrt(3)*I/2)*(2*sqrt(2193)/9 + 11)**(1/3)))*(4 - (-1/2 + sqrt(3)*I/2)*(2*sqrt(2193)/9 + 11)**(1/3) - 7/(3*(-1/2 + sqrt(3)*I/2)*(2*sqrt(2193)/9 + 11)**(1/3))))/(12 - 2*(-(-1/2 + sqrt(3)*I/2)*(2*sqrt(2193)/9 + 11)**(1/3) - 7/(3*(-1/2 + sqrt(3)*I/2)*(2*sqrt(2193)/9 + 11)**(1/3)))*(2 - (-1/2 + sqrt(3)*I/2)*(2*sqrt(2193)/9 + 11)**(1/3) - 7/(3*(-1/2 + sqrt(3)*I/2)*(2*sqrt(2193)/9 + 11)**(1/3))))],\n",
       "   [                                                                                                                                                                                                                                                                                                                                                            -(4 - (-1/2 + sqrt(3)*I/2)*(2*sqrt(2193)/9 + 11)**(1/3) - 7/(3*(-1/2 + sqrt(3)*I/2)*(2*sqrt(2193)/9 + 11)**(1/3)))/(6 - (-(-1/2 + sqrt(3)*I/2)*(2*sqrt(2193)/9 + 11)**(1/3) - 7/(3*(-1/2 + sqrt(3)*I/2)*(2*sqrt(2193)/9 + 11)**(1/3)))*(2 - (-1/2 + sqrt(3)*I/2)*(2*sqrt(2193)/9 + 11)**(1/3) - 7/(3*(-1/2 + sqrt(3)*I/2)*(2*sqrt(2193)/9 + 11)**(1/3))))],\n",
       "   [                                                                                                                                                                                                                                                                                                                                                                                                                                                                                                                                                                                                                                                                                                                    1]])]),\n",
       " (7/(3*(2*sqrt(2193)/9 + 11)**(1/3)) + (2*sqrt(2193)/9 + 11)**(1/3),\n",
       "  1,\n",
       "  [Matrix([\n",
       "   [-(-3*(2*sqrt(2193)/9 + 11)**(1/3) - 7/(2*sqrt(2193)/9 + 11)**(1/3) + (-(2*sqrt(2193)/9 + 11)**(1/3) - 7/(3*(2*sqrt(2193)/9 + 11)**(1/3)))*(-(2*sqrt(2193)/9 + 11)**(1/3) - 7/(3*(2*sqrt(2193)/9 + 11)**(1/3)) + 2) + 6)/((-6 + (-(2*sqrt(2193)/9 + 11)**(1/3) - 7/(3*(2*sqrt(2193)/9 + 11)**(1/3)))*(-(2*sqrt(2193)/9 + 11)**(1/3) - 7/(3*(2*sqrt(2193)/9 + 11)**(1/3)) + 2))*(-(2*sqrt(2193)/9 + 11)**(1/3) - 7/(3*(2*sqrt(2193)/9 + 11)**(1/3)) + 2))],\n",
       "   [                                                                                                                                                                                                                         -(-4 + 7/(3*(2*sqrt(2193)/9 + 11)**(1/3)) + (2*sqrt(2193)/9 + 11)**(1/3))/(-6 + (-(2*sqrt(2193)/9 + 11)**(1/3) - 7/(3*(2*sqrt(2193)/9 + 11)**(1/3)))*(-(2*sqrt(2193)/9 + 11)**(1/3) - 7/(3*(2*sqrt(2193)/9 + 11)**(1/3)) + 2))],\n",
       "   [                                                                                                                                                                                                                                                                                                                                                                                                                                                      1]])])]"
      ]
     },
     "execution_count": 8,
     "metadata": {},
     "output_type": "execute_result"
    }
   ],
   "source": [
    "A.eigenvects()\n"
   ]
  },
  {
   "cell_type": "code",
   "execution_count": 9,
   "metadata": {},
   "outputs": [],
   "source": [
    "lambdas = [ v[0] for v in A.eigenvects() ]"
   ]
  },
  {
   "cell_type": "code",
   "execution_count": 10,
   "metadata": {},
   "outputs": [
    {
     "data": {
      "text/plain": [
       "[(-1/2 - sqrt(3)*I/2)*(2*sqrt(2193)/9 + 11)**(1/3) + 7/(3*(-1/2 - sqrt(3)*I/2)*(2*sqrt(2193)/9 + 11)**(1/3)),\n",
       " 7/(3*(-1/2 + sqrt(3)*I/2)*(2*sqrt(2193)/9 + 11)**(1/3)) + (-1/2 + sqrt(3)*I/2)*(2*sqrt(2193)/9 + 11)**(1/3),\n",
       " 7/(3*(2*sqrt(2193)/9 + 11)**(1/3)) + (2*sqrt(2193)/9 + 11)**(1/3)]"
      ]
     },
     "execution_count": 10,
     "metadata": {},
     "output_type": "execute_result"
    }
   ],
   "source": [
    "lambdas"
   ]
  },
  {
   "cell_type": "code",
   "execution_count": null,
   "metadata": {},
   "outputs": [],
   "source": []
  }
 ],
 "metadata": {
  "kernelspec": {
   "display_name": "Python 2.7.16 ('base')",
   "language": "python",
   "name": "python3"
  },
  "language_info": {
   "codemirror_mode": {
    "name": "ipython",
    "version": 2
   },
   "file_extension": ".py",
   "mimetype": "text/x-python",
   "name": "python",
   "nbconvert_exporter": "python",
   "pygments_lexer": "ipython2",
   "version": "2.7.16"
  },
  "orig_nbformat": 4,
  "vscode": {
   "interpreter": {
    "hash": "02bec81eb7abda00c1892cd9a67ebd1f5d8bbb52e885618613884d7cb3715ad3"
   }
  }
 },
 "nbformat": 4,
 "nbformat_minor": 2
}
