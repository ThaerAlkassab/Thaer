{
 "cells": [
  {
   "cell_type": "code",
   "execution_count": 1,
   "id": "4d633691",
   "metadata": {},
   "outputs": [],
   "source": [
    "import numpy as np \n",
    "import pandas as pd \n",
    "from scipy import stats \n",
    "import matplotlib.pyplot as plt"
   ]
  },
  {
   "cell_type": "code",
   "execution_count": 2,
   "id": "42770e62",
   "metadata": {},
   "outputs": [
    {
     "data": {
      "text/html": [
       "<div>\n",
       "<style scoped>\n",
       "    .dataframe tbody tr th:only-of-type {\n",
       "        vertical-align: middle;\n",
       "    }\n",
       "\n",
       "    .dataframe tbody tr th {\n",
       "        vertical-align: top;\n",
       "    }\n",
       "\n",
       "    .dataframe thead th {\n",
       "        text-align: right;\n",
       "    }\n",
       "</style>\n",
       "<table border=\"1\" class=\"dataframe\">\n",
       "  <thead>\n",
       "    <tr style=\"text-align: right;\">\n",
       "      <th></th>\n",
       "      <th>Bib</th>\n",
       "      <th>Overall Position</th>\n",
       "      <th>Name</th>\n",
       "      <th>Guntime</th>\n",
       "      <th>Chiptime</th>\n",
       "      <th>Category</th>\n",
       "      <th>Category Position</th>\n",
       "      <th>Gender</th>\n",
       "      <th>Gender Position</th>\n",
       "      <th>Avg speed</th>\n",
       "      <th>...</th>\n",
       "      <th>Split - 10K - Cumulative time</th>\n",
       "      <th>Split - 10K - Rank</th>\n",
       "      <th>Split - 15K - Duration</th>\n",
       "      <th>Split - 15K - Cumulative time</th>\n",
       "      <th>Split - 15K - Rank</th>\n",
       "      <th>Split - 20K - Duration</th>\n",
       "      <th>Split - 20K - Cumulative time</th>\n",
       "      <th>Split - 20K - Rank</th>\n",
       "      <th>Split - Finish - Duration</th>\n",
       "      <th>Split - Finish - Cumulative time</th>\n",
       "    </tr>\n",
       "  </thead>\n",
       "  <tbody>\n",
       "    <tr>\n",
       "      <th>0</th>\n",
       "      <td>815</td>\n",
       "      <td>1.0</td>\n",
       "      <td>David Smale</td>\n",
       "      <td>01:13:33</td>\n",
       "      <td>01:08:03</td>\n",
       "      <td>M30-34</td>\n",
       "      <td>1.0</td>\n",
       "      <td>m</td>\n",
       "      <td>1.0</td>\n",
       "      <td>18.52</td>\n",
       "      <td>...</td>\n",
       "      <td>00:32:34</td>\n",
       "      <td>5.0</td>\n",
       "      <td>00:16:10</td>\n",
       "      <td>00:48:43</td>\n",
       "      <td>1.0</td>\n",
       "      <td>00:16:07</td>\n",
       "      <td>01:04:50</td>\n",
       "      <td>2.0</td>\n",
       "      <td>00:03:14</td>\n",
       "      <td>01:08:03</td>\n",
       "    </tr>\n",
       "    <tr>\n",
       "      <th>1</th>\n",
       "      <td>763</td>\n",
       "      <td>2.0</td>\n",
       "      <td>Ben Leaman</td>\n",
       "      <td>01:13:33</td>\n",
       "      <td>01:08:06</td>\n",
       "      <td>M25-29</td>\n",
       "      <td>1.0</td>\n",
       "      <td>m</td>\n",
       "      <td>2.0</td>\n",
       "      <td>18.51</td>\n",
       "      <td>...</td>\n",
       "      <td>00:32:38</td>\n",
       "      <td>6.0</td>\n",
       "      <td>00:16:11</td>\n",
       "      <td>00:48:48</td>\n",
       "      <td>2.0</td>\n",
       "      <td>00:16:06</td>\n",
       "      <td>01:04:53</td>\n",
       "      <td>1.0</td>\n",
       "      <td>00:03:14</td>\n",
       "      <td>01:08:06</td>\n",
       "    </tr>\n",
       "    <tr>\n",
       "      <th>2</th>\n",
       "      <td>789</td>\n",
       "      <td>3.0</td>\n",
       "      <td>Simon Gardiner</td>\n",
       "      <td>01:17:34</td>\n",
       "      <td>01:12:09</td>\n",
       "      <td>M30-34</td>\n",
       "      <td>2.0</td>\n",
       "      <td>m</td>\n",
       "      <td>3.0</td>\n",
       "      <td>17.47</td>\n",
       "      <td>...</td>\n",
       "      <td>00:34:47</td>\n",
       "      <td>8.0</td>\n",
       "      <td>00:17:01</td>\n",
       "      <td>00:51:47</td>\n",
       "      <td>4.0</td>\n",
       "      <td>00:16:57</td>\n",
       "      <td>01:08:44</td>\n",
       "      <td>3.0</td>\n",
       "      <td>00:03:26</td>\n",
       "      <td>01:12:09</td>\n",
       "    </tr>\n",
       "    <tr>\n",
       "      <th>3</th>\n",
       "      <td>762</td>\n",
       "      <td>4.0</td>\n",
       "      <td>Peter Williams</td>\n",
       "      <td>01:17:54</td>\n",
       "      <td>01:12:29</td>\n",
       "      <td>M30-34</td>\n",
       "      <td>3.0</td>\n",
       "      <td>m</td>\n",
       "      <td>4.0</td>\n",
       "      <td>17.39</td>\n",
       "      <td>...</td>\n",
       "      <td>00:34:47</td>\n",
       "      <td>9.0</td>\n",
       "      <td>00:17:01</td>\n",
       "      <td>00:51:47</td>\n",
       "      <td>5.0</td>\n",
       "      <td>00:17:11</td>\n",
       "      <td>01:08:57</td>\n",
       "      <td>4.0</td>\n",
       "      <td>00:03:32</td>\n",
       "      <td>01:12:29</td>\n",
       "    </tr>\n",
       "    <tr>\n",
       "      <th>4</th>\n",
       "      <td>482</td>\n",
       "      <td>5.0</td>\n",
       "      <td>Mike Ginsberg</td>\n",
       "      <td>01:18:39</td>\n",
       "      <td>01:13:09</td>\n",
       "      <td>M30-34</td>\n",
       "      <td>4.0</td>\n",
       "      <td>m</td>\n",
       "      <td>5.0</td>\n",
       "      <td>17.23</td>\n",
       "      <td>...</td>\n",
       "      <td>00:34:41</td>\n",
       "      <td>7.0</td>\n",
       "      <td>00:17:00</td>\n",
       "      <td>00:51:41</td>\n",
       "      <td>3.0</td>\n",
       "      <td>00:17:52</td>\n",
       "      <td>01:09:33</td>\n",
       "      <td>7.0</td>\n",
       "      <td>00:03:36</td>\n",
       "      <td>01:13:09</td>\n",
       "    </tr>\n",
       "  </tbody>\n",
       "</table>\n",
       "<p>5 rows × 26 columns</p>\n",
       "</div>"
      ],
      "text/plain": [
       "   Bib  Overall Position            Name   Guntime  Chiptime Category  \\\n",
       "0  815               1.0     David Smale  01:13:33  01:08:03   M30-34   \n",
       "1  763               2.0      Ben Leaman  01:13:33  01:08:06   M25-29   \n",
       "2  789               3.0  Simon Gardiner  01:17:34  01:12:09   M30-34   \n",
       "3  762               4.0  Peter Williams  01:17:54  01:12:29   M30-34   \n",
       "4  482               5.0   Mike Ginsberg  01:18:39  01:13:09   M30-34   \n",
       "\n",
       "   Category Position Gender  Gender Position  Avg speed  ...  \\\n",
       "0                1.0      m              1.0      18.52  ...   \n",
       "1                1.0      m              2.0      18.51  ...   \n",
       "2                2.0      m              3.0      17.47  ...   \n",
       "3                3.0      m              4.0      17.39  ...   \n",
       "4                4.0      m              5.0      17.23  ...   \n",
       "\n",
       "  Split - 10K - Cumulative time Split - 10K - Rank Split - 15K - Duration  \\\n",
       "0                      00:32:34                5.0               00:16:10   \n",
       "1                      00:32:38                6.0               00:16:11   \n",
       "2                      00:34:47                8.0               00:17:01   \n",
       "3                      00:34:47                9.0               00:17:01   \n",
       "4                      00:34:41                7.0               00:17:00   \n",
       "\n",
       "  Split - 15K - Cumulative time  Split - 15K - Rank Split - 20K - Duration  \\\n",
       "0                      00:48:43                 1.0               00:16:07   \n",
       "1                      00:48:48                 2.0               00:16:06   \n",
       "2                      00:51:47                 4.0               00:16:57   \n",
       "3                      00:51:47                 5.0               00:17:11   \n",
       "4                      00:51:41                 3.0               00:17:52   \n",
       "\n",
       "  Split - 20K - Cumulative time  Split - 20K - Rank Split - Finish - Duration  \\\n",
       "0                      01:04:50                 2.0                  00:03:14   \n",
       "1                      01:04:53                 1.0                  00:03:14   \n",
       "2                      01:08:44                 3.0                  00:03:26   \n",
       "3                      01:08:57                 4.0                  00:03:32   \n",
       "4                      01:09:33                 7.0                  00:03:36   \n",
       "\n",
       "  Split - Finish - Cumulative time  \n",
       "0                         01:08:03  \n",
       "1                         01:08:06  \n",
       "2                         01:12:09  \n",
       "3                         01:12:29  \n",
       "4                         01:13:09  \n",
       "\n",
       "[5 rows x 26 columns]"
      ]
     },
     "execution_count": 2,
     "metadata": {},
     "output_type": "execute_result"
    }
   ],
   "source": [
    "df = pd.read_excel('LLHM2023.xlsx').fillna(0) # create dataframe and fill na with 0\n",
    "df.head()"
   ]
  },
  {
   "cell_type": "code",
   "execution_count": 3,
   "id": "1df61345",
   "metadata": {},
   "outputs": [
    {
     "data": {
      "text/plain": [
       "Index([u'Bib', u'Overall Position', u'Name', u'Guntime', u'Chiptime',\n",
       "       u'Category', u'Category Position', u'Gender', u'Gender Position',\n",
       "       u'Avg speed', u'Avg pace', u'Status', u'Split - 5K - Duration',\n",
       "       u'Split - 5K - Cumulative time', u'Split - 5K - Rank',\n",
       "       u'Split - 10K - Duration', u'Split - 10K - Cumulative time',\n",
       "       u'Split - 10K - Rank', u'Split - 15K - Duration',\n",
       "       u'Split - 15K - Cumulative time', u'Split - 15K - Rank',\n",
       "       u'Split - 20K - Duration', u'Split - 20K - Cumulative time',\n",
       "       u'Split - 20K - Rank', u'Split - Finish - Duration',\n",
       "       u'Split - Finish - Cumulative time'],\n",
       "      dtype='object')"
      ]
     },
     "execution_count": 3,
     "metadata": {},
     "output_type": "execute_result"
    }
   ],
   "source": [
    "# column names\n",
    "df.columns"
   ]
  },
  {
   "cell_type": "code",
   "execution_count": 4,
   "id": "5e153ae5",
   "metadata": {},
   "outputs": [
    {
     "name": "stdout",
     "output_type": "stream",
     "text": [
      "<class 'pandas.core.frame.DataFrame'>\n",
      "RangeIndex: 17255 entries, 0 to 17254\n",
      "Data columns (total 26 columns):\n",
      "Bib                                 17255 non-null int64\n",
      "Overall Position                    17255 non-null float64\n",
      "Name                                17255 non-null object\n",
      "Guntime                             17255 non-null object\n",
      "Chiptime                            17255 non-null object\n",
      "Category                            17255 non-null object\n",
      "Category Position                   17255 non-null float64\n",
      "Gender                              17255 non-null object\n",
      "Gender Position                     17255 non-null float64\n",
      "Avg speed                           17255 non-null float64\n",
      "Avg pace                            17255 non-null object\n",
      "Status                              17255 non-null object\n",
      "Split - 5K - Duration               17255 non-null object\n",
      "Split - 5K - Cumulative time        17255 non-null object\n",
      "Split - 5K - Rank                   17255 non-null float64\n",
      "Split - 10K - Duration              17255 non-null object\n",
      "Split - 10K - Cumulative time       17255 non-null object\n",
      "Split - 10K - Rank                  17255 non-null float64\n",
      "Split - 15K - Duration              17255 non-null object\n",
      "Split - 15K - Cumulative time       17255 non-null object\n",
      "Split - 15K - Rank                  17255 non-null float64\n",
      "Split - 20K - Duration              17255 non-null object\n",
      "Split - 20K - Cumulative time       17255 non-null object\n",
      "Split - 20K - Rank                  17255 non-null float64\n",
      "Split - Finish - Duration           17255 non-null object\n",
      "Split - Finish - Cumulative time    17255 non-null object\n",
      "dtypes: float64(8), int64(1), object(17)\n",
      "memory usage: 2.3+ MB\n"
     ]
    }
   ],
   "source": [
    "# basic info\n",
    "df.info()"
   ]
  },
  {
   "cell_type": "code",
   "execution_count": 5,
   "id": "cfe401fa",
   "metadata": {},
   "outputs": [
    {
     "data": {
      "text/html": [
       "<div>\n",
       "<style scoped>\n",
       "    .dataframe tbody tr th:only-of-type {\n",
       "        vertical-align: middle;\n",
       "    }\n",
       "\n",
       "    .dataframe tbody tr th {\n",
       "        vertical-align: top;\n",
       "    }\n",
       "\n",
       "    .dataframe thead th {\n",
       "        text-align: right;\n",
       "    }\n",
       "</style>\n",
       "<table border=\"1\" class=\"dataframe\">\n",
       "  <thead>\n",
       "    <tr style=\"text-align: right;\">\n",
       "      <th></th>\n",
       "      <th>count</th>\n",
       "      <th>mean</th>\n",
       "      <th>std</th>\n",
       "      <th>min</th>\n",
       "      <th>25%</th>\n",
       "      <th>50%</th>\n",
       "      <th>75%</th>\n",
       "      <th>max</th>\n",
       "    </tr>\n",
       "  </thead>\n",
       "  <tbody>\n",
       "    <tr>\n",
       "      <th>Bib</th>\n",
       "      <td>17255.0</td>\n",
       "      <td>11443.147262</td>\n",
       "      <td>6727.696718</td>\n",
       "      <td>1.0</td>\n",
       "      <td>5642.50</td>\n",
       "      <td>11331.00</td>\n",
       "      <td>17189.50</td>\n",
       "      <td>30050.00</td>\n",
       "    </tr>\n",
       "    <tr>\n",
       "      <th>Overall Position</th>\n",
       "      <td>17255.0</td>\n",
       "      <td>8550.174037</td>\n",
       "      <td>4980.934127</td>\n",
       "      <td>0.0</td>\n",
       "      <td>4236.50</td>\n",
       "      <td>8550.00</td>\n",
       "      <td>12863.50</td>\n",
       "      <td>17177.00</td>\n",
       "    </tr>\n",
       "    <tr>\n",
       "      <th>Category Position</th>\n",
       "      <td>17255.0</td>\n",
       "      <td>544.049899</td>\n",
       "      <td>392.529046</td>\n",
       "      <td>0.0</td>\n",
       "      <td>213.00</td>\n",
       "      <td>482.00</td>\n",
       "      <td>819.00</td>\n",
       "      <td>1814.00</td>\n",
       "    </tr>\n",
       "    <tr>\n",
       "      <th>Gender Position</th>\n",
       "      <td>17255.0</td>\n",
       "      <td>4397.457201</td>\n",
       "      <td>2697.870236</td>\n",
       "      <td>0.0</td>\n",
       "      <td>2114.00</td>\n",
       "      <td>4271.00</td>\n",
       "      <td>6427.50</td>\n",
       "      <td>10062.00</td>\n",
       "    </tr>\n",
       "    <tr>\n",
       "      <th>Avg speed</th>\n",
       "      <td>17255.0</td>\n",
       "      <td>9.678165</td>\n",
       "      <td>2.041547</td>\n",
       "      <td>0.0</td>\n",
       "      <td>8.35</td>\n",
       "      <td>9.61</td>\n",
       "      <td>10.97</td>\n",
       "      <td>18.52</td>\n",
       "    </tr>\n",
       "    <tr>\n",
       "      <th>Split - 5K - Rank</th>\n",
       "      <td>17255.0</td>\n",
       "      <td>8512.397798</td>\n",
       "      <td>4993.101283</td>\n",
       "      <td>0.0</td>\n",
       "      <td>4188.50</td>\n",
       "      <td>8510.00</td>\n",
       "      <td>12837.50</td>\n",
       "      <td>17161.00</td>\n",
       "    </tr>\n",
       "    <tr>\n",
       "      <th>Split - 10K - Rank</th>\n",
       "      <td>17255.0</td>\n",
       "      <td>8479.816865</td>\n",
       "      <td>4986.972277</td>\n",
       "      <td>0.0</td>\n",
       "      <td>4159.50</td>\n",
       "      <td>8479.00</td>\n",
       "      <td>12799.50</td>\n",
       "      <td>17121.00</td>\n",
       "    </tr>\n",
       "    <tr>\n",
       "      <th>Split - 15K - Rank</th>\n",
       "      <td>17255.0</td>\n",
       "      <td>8375.239119</td>\n",
       "      <td>4980.807873</td>\n",
       "      <td>0.0</td>\n",
       "      <td>4058.50</td>\n",
       "      <td>8373.00</td>\n",
       "      <td>12689.50</td>\n",
       "      <td>17008.00</td>\n",
       "    </tr>\n",
       "    <tr>\n",
       "      <th>Split - 20K - Rank</th>\n",
       "      <td>17255.0</td>\n",
       "      <td>8380.301999</td>\n",
       "      <td>4978.933670</td>\n",
       "      <td>0.0</td>\n",
       "      <td>4064.50</td>\n",
       "      <td>8378.00</td>\n",
       "      <td>12692.50</td>\n",
       "      <td>17010.00</td>\n",
       "    </tr>\n",
       "  </tbody>\n",
       "</table>\n",
       "</div>"
      ],
      "text/plain": [
       "                      count          mean          std  min      25%  \\\n",
       "Bib                 17255.0  11443.147262  6727.696718  1.0  5642.50   \n",
       "Overall Position    17255.0   8550.174037  4980.934127  0.0  4236.50   \n",
       "Category Position   17255.0    544.049899   392.529046  0.0   213.00   \n",
       "Gender Position     17255.0   4397.457201  2697.870236  0.0  2114.00   \n",
       "Avg speed           17255.0      9.678165     2.041547  0.0     8.35   \n",
       "Split - 5K - Rank   17255.0   8512.397798  4993.101283  0.0  4188.50   \n",
       "Split - 10K - Rank  17255.0   8479.816865  4986.972277  0.0  4159.50   \n",
       "Split - 15K - Rank  17255.0   8375.239119  4980.807873  0.0  4058.50   \n",
       "Split - 20K - Rank  17255.0   8380.301999  4978.933670  0.0  4064.50   \n",
       "\n",
       "                         50%       75%       max  \n",
       "Bib                 11331.00  17189.50  30050.00  \n",
       "Overall Position     8550.00  12863.50  17177.00  \n",
       "Category Position     482.00    819.00   1814.00  \n",
       "Gender Position      4271.00   6427.50  10062.00  \n",
       "Avg speed               9.61     10.97     18.52  \n",
       "Split - 5K - Rank    8510.00  12837.50  17161.00  \n",
       "Split - 10K - Rank   8479.00  12799.50  17121.00  \n",
       "Split - 15K - Rank   8373.00  12689.50  17008.00  \n",
       "Split - 20K - Rank   8378.00  12692.50  17010.00  "
      ]
     },
     "execution_count": 5,
     "metadata": {},
     "output_type": "execute_result"
    }
   ],
   "source": [
    "# basic stats\n",
    "df.describe().T"
   ]
  },
  {
   "cell_type": "markdown",
   "id": "12e1a4ac",
   "metadata": {},
   "source": [
    "### Data Preparation:"
   ]
  },
  {
   "cell_type": "code",
   "execution_count": 6,
   "id": "d5f3c472",
   "metadata": {},
   "outputs": [],
   "source": [
    "data = df[['Chiptime','Split - 5K - Cumulative time','Split - 10K - Cumulative time','Split - 15K - Cumulative time','Split - 20K - Cumulative time','Gender','Avg speed','Category']] # create dataframe for analysis, selecting specific attributes."
   ]
  },
  {
   "cell_type": "code",
   "execution_count": 7,
   "id": "be834b9d",
   "metadata": {},
   "outputs": [
    {
     "data": {
      "text/plain": [
       "Index([u'Chiptime', u'Split - 5K - Cumulative time',\n",
       "       u'Split - 10K - Cumulative time', u'Split - 15K - Cumulative time',\n",
       "       u'Split - 20K - Cumulative time', u'Gender', u'Avg speed', u'Category'],\n",
       "      dtype='object')"
      ]
     },
     "execution_count": 7,
     "metadata": {},
     "output_type": "execute_result"
    }
   ],
   "source": [
    "data.columns"
   ]
  },
  {
   "cell_type": "code",
   "execution_count": 8,
   "id": "6715a5b1",
   "metadata": {},
   "outputs": [
    {
     "name": "stdout",
     "output_type": "stream",
     "text": [
      "<class 'pandas.core.frame.DataFrame'>\n",
      "RangeIndex: 17255 entries, 0 to 17254\n",
      "Data columns (total 8 columns):\n",
      "Chiptime                         17255 non-null object\n",
      "Split - 5K - Cumulative time     17255 non-null object\n",
      "Split - 10K - Cumulative time    17255 non-null object\n",
      "Split - 15K - Cumulative time    17255 non-null object\n",
      "Split - 20K - Cumulative time    17255 non-null object\n",
      "Gender                           17255 non-null object\n",
      "Avg speed                        17255 non-null float64\n",
      "Category                         17255 non-null object\n",
      "dtypes: float64(1), object(7)\n",
      "memory usage: 606.7+ KB\n"
     ]
    }
   ],
   "source": [
    "data.info()"
   ]
  },
  {
   "cell_type": "markdown",
   "id": "f6b6c3c9",
   "metadata": {},
   "source": [
    "**Datetime columns:**\n",
    "* Convert time objects to second integers for later analysis.\n",
    "* Remove data that does not indicate Chiptime, to include recorded completion times only."
   ]
  },
  {
   "cell_type": "code",
   "execution_count": 9,
   "id": "b391857e",
   "metadata": {},
   "outputs": [
    {
     "name": "stderr",
     "output_type": "stream",
     "text": [
      "c:\\ProgramData\\Anaconda2\\lib\\site-packages\\ipykernel_launcher.py:1: SettingWithCopyWarning: \n",
      "A value is trying to be set on a copy of a slice from a DataFrame.\n",
      "Try using .loc[row_indexer,col_indexer] = value instead\n",
      "\n",
      "See the caveats in the documentation: http://pandas.pydata.org/pandas-docs/stable/indexing.html#indexing-view-versus-copy\n",
      "  \"\"\"Entry point for launching an IPython kernel.\n"
     ]
    }
   ],
   "source": [
    "data['Chiptime Seconds'] = pd.TimedeltaIndex(data['Chiptime'].astype(\"str\")).total_seconds().astype(int) # create seconds column\n",
    "data = data[data['Chiptime Seconds'] > 0] # remove 0 value rows to only show registered completed particpants\n",
    "data.loc[:, 'Split - 20K - Cumulative time'] = pd.TimedeltaIndex(data['Split - 20K - Cumulative time'].astype(\"str\")).total_seconds().astype(int) # convert to seconds\n",
    "data.loc[:, 'Split - 10K - Cumulative time'] = pd.TimedeltaIndex(data['Split - 10K - Cumulative time'].astype(\"str\")).total_seconds().astype(int)# convert to seconds\n",
    "data.loc[:, 'Split - 15K - Cumulative time'] = pd.TimedeltaIndex(data['Split - 15K - Cumulative time'].astype(\"str\")).total_seconds().astype(int) # convert to seconds\n",
    "data.loc[:, 'Split - 5K - Cumulative time'] = pd.TimedeltaIndex(data['Split - 5K - Cumulative time'].astype(\"str\")).total_seconds().astype(int) # convert to seconds\n",
    "   "
   ]
  },
  {
   "cell_type": "code",
   "execution_count": 10,
   "id": "527fd5ed",
   "metadata": {},
   "outputs": [],
   "source": [
    "data['Split - 20K - Cumulative time'] = pd.to_numeric(data['Split - 20K - Cumulative time'])\n",
    "data['Split - 15K - Cumulative time'] = pd.to_numeric(data['Split - 15K - Cumulative time'])\n",
    "data['Split - 10K - Cumulative time'] = pd.to_numeric(data['Split - 10K - Cumulative time'])\n",
    "data['Split - 5K - Cumulative time'] = pd.to_numeric(data['Split - 5K - Cumulative time'])\n",
    "\n",
    "\n"
   ]
  },
  {
   "cell_type": "code",
   "execution_count": 11,
   "id": "7734ece4",
   "metadata": {},
   "outputs": [
    {
     "name": "stdout",
     "output_type": "stream",
     "text": [
      "<class 'pandas.core.frame.DataFrame'>\n",
      "Int64Index: 17177 entries, 0 to 17176\n",
      "Data columns (total 9 columns):\n",
      "Chiptime                         17177 non-null object\n",
      "Split - 5K - Cumulative time     17177 non-null int64\n",
      "Split - 10K - Cumulative time    17177 non-null int64\n",
      "Split - 15K - Cumulative time    17177 non-null int64\n",
      "Split - 20K - Cumulative time    17177 non-null int64\n",
      "Gender                           17177 non-null object\n",
      "Avg speed                        17177 non-null float64\n",
      "Category                         17177 non-null object\n",
      "Chiptime Seconds                 17177 non-null int64\n",
      "dtypes: float64(1), int64(5), object(3)\n",
      "memory usage: 1.1+ MB\n"
     ]
    }
   ],
   "source": [
    "data.info()"
   ]
  },
  {
   "cell_type": "markdown",
   "id": "6bf734c4",
   "metadata": {},
   "source": [
    "**Category Column:**\n",
    "* Convert Category elements to a sortable format for later analysis (i.e. remove gender prefix)."
   ]
  },
  {
   "cell_type": "code",
   "execution_count": 12,
   "id": "989a955d",
   "metadata": {},
   "outputs": [],
   "source": [
    "data['Category'] = data['Category'].str.slice(1)# slice first character (M/F), to enable category sorting of age category.\n",
    "data['Category'].replace({'BC': 'Unknown'}, inplace=True) # preprocess \n",
    "data = data[data['Category'] != 'Unknown'] # drop Unknown "
   ]
  },
  {
   "cell_type": "code",
   "execution_count": 13,
   "id": "d6cd5861",
   "metadata": {},
   "outputs": [
    {
     "data": {
      "text/plain": [
       "Gender  Category\n",
       "f       17-19         97\n",
       "        20-24       1046\n",
       "        25-29       1806\n",
       "        30-34       1303\n",
       "        35-39       1241\n",
       "        40-44       1471\n",
       "        45-49       1187\n",
       "        50-54        995\n",
       "        55-59        566\n",
       "        60-64        221\n",
       "        65-69         61\n",
       "        70-74         19\n",
       "        75-79          3\n",
       "        80-84          1\n",
       "m       17-19         92\n",
       "        20-24        529\n",
       "        25-29       1142\n",
       "        30-34       1131\n",
       "        35-39        988\n",
       "        40-44        939\n",
       "        45-49        784\n",
       "        50-54        651\n",
       "        55-59        462\n",
       "        60-64        225\n",
       "        65-69         92\n",
       "        70-74         24\n",
       "        75-79          4\n",
       "        85-89          1\n",
       "dtype: int64"
      ]
     },
     "execution_count": 13,
     "metadata": {},
     "output_type": "execute_result"
    }
   ],
   "source": [
    "data.groupby(['Gender','Category']).size()"
   ]
  },
  {
   "cell_type": "markdown",
   "id": "adaee2ac",
   "metadata": {},
   "source": [
    "**Gender Column:**\n",
    "* Convert Gender elements to a readable format (from m and f to Male and Female).\n",
    "Remove entries that do not specify the participant’s gender."
   ]
  },
  {
   "cell_type": "code",
   "execution_count": 14,
   "id": "420ed3fa",
   "metadata": {},
   "outputs": [],
   "source": [
    "data[\"Gender\"].replace(to_replace = \"m\",value=\"Male\", inplace = True) # replace elemments in Gender column\n",
    "data[\"Gender\"].replace(to_replace = \"f\",value=\"Female\", inplace = True) # replace elemments in Gender column\n",
    "data[\"Gender\"].replace(to_replace = 0,value=\"Not Specifed\", inplace = True) # replace elemments in Gender column\n",
    "data = data[data['Gender'] != 'Not Specifed'] # drop not specifed "
   ]
  },
  {
   "cell_type": "code",
   "execution_count": 15,
   "id": "c28e2797",
   "metadata": {},
   "outputs": [
    {
     "data": {
      "text/plain": [
       "Gender  Category\n",
       "Female  17-19         97\n",
       "        20-24       1046\n",
       "        25-29       1806\n",
       "        30-34       1303\n",
       "        35-39       1241\n",
       "        40-44       1471\n",
       "        45-49       1187\n",
       "        50-54        995\n",
       "        55-59        566\n",
       "        60-64        221\n",
       "        65-69         61\n",
       "        70-74         19\n",
       "        75-79          3\n",
       "        80-84          1\n",
       "Male    17-19         92\n",
       "        20-24        529\n",
       "        25-29       1142\n",
       "        30-34       1131\n",
       "        35-39        988\n",
       "        40-44        939\n",
       "        45-49        784\n",
       "        50-54        651\n",
       "        55-59        462\n",
       "        60-64        225\n",
       "        65-69         92\n",
       "        70-74         24\n",
       "        75-79          4\n",
       "        85-89          1\n",
       "dtype: int64"
      ]
     },
     "execution_count": 15,
     "metadata": {},
     "output_type": "execute_result"
    }
   ],
   "source": [
    "data.groupby(['Gender','Category']).size()"
   ]
  },
  {
   "cell_type": "markdown",
   "id": "adafb5c0",
   "metadata": {},
   "source": [
    "**Average Speed Columns:**\n",
    "\n",
    "* Round the average speed for each participant to 2 decimal places."
   ]
  },
  {
   "cell_type": "code",
   "execution_count": 16,
   "id": "46847fbf",
   "metadata": {},
   "outputs": [],
   "source": [
    "data['Avg speed'] = data['Avg speed'].round(2) # round average speed\n"
   ]
  },
  {
   "cell_type": "markdown",
   "id": "3361e209",
   "metadata": {},
   "source": [
    "### Exercises\n",
    "\n",
    "1. Find the percentages of female and male runners.\n",
    "2. Find the number of female and male runners in each category. Create a barplot.\n",
    "3. Plot the histograms of finish time for male and female runners.\n",
    "4. Plot the histograms of split times (5K, 10K, 15K, 20K). Can you find any difference?\n",
    "5. Create a boxplot of finish time for each category and gender.\n",
    "6. Repeat the previous task for the splits. Can you find any difference?\n",
    "\n",
    "---\n",
    "7. Use scatter plots to find relationships between different data (for example 5K time and finish time).\n",
    "8. Compute Pearson's correlations.\n",
    "\n",
    "---\n",
    "\n",
    "9. Create univariate linear model(s) to predict the finish time.\n",
    "10. Create multivariate linear model to predict the finish time.\n",
    "11. Can you find any relationship between\n",
    " * age and predictability of finish time,\n",
    " * gender and predictability of finish time,\n",
    " * professionality of the runner predictability of finish time?\n",
    " \n",
    "--- \n",
    "11. Create a univariate logistic regression model to predict the gender of a runner.\n",
    "12. Create a multivariate logistic regression model to predict the gender of a runner.\n",
    "13. Can you find any relationship between the predictability of the gender and subsets of other variables?\n",
    " \n"
   ]
  },
  {
   "cell_type": "code",
   "execution_count": 19,
   "id": "af2c1725",
   "metadata": {},
   "outputs": [
    {
     "data": {
      "text/plain": [
       "10017"
      ]
     },
     "execution_count": 19,
     "metadata": {},
     "output_type": "execute_result"
    }
   ],
   "source": [
    "dt1 = data.groupby('Gender').size()"
   ]
  },
  {
   "cell_type": "code",
   "execution_count": 40,
   "id": "1e891f37",
   "metadata": {},
   "outputs": [],
   "source": [
    "f=float(dt1.Female)\n",
    "m=float(dt1.Male)"
   ]
  },
  {
   "cell_type": "code",
   "execution_count": 42,
   "id": "3e9abdb6",
   "metadata": {},
   "outputs": [
    {
     "data": {
      "text/plain": [
       "58.644107487852004"
      ]
     },
     "execution_count": 42,
     "metadata": {},
     "output_type": "execute_result"
    }
   ],
   "source": [
    "f/(f+m)*100"
   ]
  },
  {
   "cell_type": "code",
   "execution_count": 43,
   "id": "f67a87c2",
   "metadata": {},
   "outputs": [
    {
     "data": {
      "text/plain": [
       "41.355892512148"
      ]
     },
     "execution_count": 43,
     "metadata": {},
     "output_type": "execute_result"
    }
   ],
   "source": [
    "m/(f+m)*100"
   ]
  },
  {
   "cell_type": "code",
   "execution_count": 47,
   "id": "2a3559e8",
   "metadata": {},
   "outputs": [],
   "source": [
    "dt2 = data.groupby(['Gender','Category'])\n"
   ]
  },
  {
   "cell_type": "code",
   "execution_count": 51,
   "id": "7ad757d0",
   "metadata": {},
   "outputs": [
    {
     "data": {
      "text/plain": [
       "pandas.core.groupby.generic.DataFrameGroupBy"
      ]
     },
     "execution_count": 51,
     "metadata": {},
     "output_type": "execute_result"
    }
   ],
   "source": [
    "type(dt2)"
   ]
  },
  {
   "cell_type": "code",
   "execution_count": 61,
   "id": "31e7a456",
   "metadata": {},
   "outputs": [
    {
     "ename": "KeyError",
     "evalue": "u\"None of [Index([u'Male', u'Male', u'Male', u'Male', u'Male', u'Male', u'Male', u'Male',\\n       u'Male', u'Male',\\n       ...\\n       u'Female', u'Female', u'Male', u'Female', u'Female', u'Female',\\n       u'Female', u'Male', u'Female', u'Female'],\\n      dtype='object', length=17081)] are in the [columns]\"",
     "output_type": "error",
     "traceback": [
      "\u001b[1;31m\u001b[0m",
      "\u001b[1;31mKeyError\u001b[0mTraceback (most recent call last)",
      "\u001b[1;32m<ipython-input-61-a41ccb28274a>\u001b[0m in \u001b[0;36m<module>\u001b[1;34m()\u001b[0m\n\u001b[1;32m----> 1\u001b[1;33m \u001b[0mdata\u001b[0m\u001b[1;33m.\u001b[0m\u001b[0mplot\u001b[0m\u001b[1;33m.\u001b[0m\u001b[0mbar\u001b[0m\u001b[1;33m(\u001b[0m\u001b[0mdata\u001b[0m\u001b[1;33m[\u001b[0m\u001b[1;34m'Gender'\u001b[0m\u001b[1;33m]\u001b[0m\u001b[1;33m,\u001b[0m\u001b[0mdata\u001b[0m\u001b[1;33m[\u001b[0m\u001b[1;34m'Category'\u001b[0m\u001b[1;33m]\u001b[0m\u001b[1;33m)\u001b[0m\u001b[1;33m\u001b[0m\u001b[0m\n\u001b[0m",
      "\u001b[1;32mc:\\ProgramData\\Anaconda2\\lib\\site-packages\\pandas\\plotting\\_core.pyc\u001b[0m in \u001b[0;36mbar\u001b[1;34m(self, x, y, **kwds)\u001b[0m\n\u001b[0;32m   3089\u001b[0m             \u001b[1;33m>>\u001b[0m\u001b[1;33m>\u001b[0m \u001b[0max\u001b[0m \u001b[1;33m=\u001b[0m \u001b[0mdf\u001b[0m\u001b[1;33m.\u001b[0m\u001b[0mplot\u001b[0m\u001b[1;33m.\u001b[0m\u001b[0mbar\u001b[0m\u001b[1;33m(\u001b[0m\u001b[0mx\u001b[0m\u001b[1;33m=\u001b[0m\u001b[1;34m'lifespan'\u001b[0m\u001b[1;33m,\u001b[0m \u001b[0mrot\u001b[0m\u001b[1;33m=\u001b[0m\u001b[1;36m0\u001b[0m\u001b[1;33m)\u001b[0m\u001b[1;33m\u001b[0m\u001b[0m\n\u001b[0;32m   3090\u001b[0m         \"\"\"\n\u001b[1;32m-> 3091\u001b[1;33m         \u001b[1;32mreturn\u001b[0m \u001b[0mself\u001b[0m\u001b[1;33m(\u001b[0m\u001b[0mkind\u001b[0m\u001b[1;33m=\u001b[0m\u001b[1;34m'bar'\u001b[0m\u001b[1;33m,\u001b[0m \u001b[0mx\u001b[0m\u001b[1;33m=\u001b[0m\u001b[0mx\u001b[0m\u001b[1;33m,\u001b[0m \u001b[0my\u001b[0m\u001b[1;33m=\u001b[0m\u001b[0my\u001b[0m\u001b[1;33m,\u001b[0m \u001b[1;33m**\u001b[0m\u001b[0mkwds\u001b[0m\u001b[1;33m)\u001b[0m\u001b[1;33m\u001b[0m\u001b[0m\n\u001b[0m\u001b[0;32m   3092\u001b[0m \u001b[1;33m\u001b[0m\u001b[0m\n\u001b[0;32m   3093\u001b[0m     \u001b[1;32mdef\u001b[0m \u001b[0mbarh\u001b[0m\u001b[1;33m(\u001b[0m\u001b[0mself\u001b[0m\u001b[1;33m,\u001b[0m \u001b[0mx\u001b[0m\u001b[1;33m=\u001b[0m\u001b[0mNone\u001b[0m\u001b[1;33m,\u001b[0m \u001b[0my\u001b[0m\u001b[1;33m=\u001b[0m\u001b[0mNone\u001b[0m\u001b[1;33m,\u001b[0m \u001b[1;33m**\u001b[0m\u001b[0mkwds\u001b[0m\u001b[1;33m)\u001b[0m\u001b[1;33m:\u001b[0m\u001b[1;33m\u001b[0m\u001b[0m\n",
      "\u001b[1;32mc:\\ProgramData\\Anaconda2\\lib\\site-packages\\pandas\\plotting\\_core.pyc\u001b[0m in \u001b[0;36m__call__\u001b[1;34m(self, x, y, kind, ax, subplots, sharex, sharey, layout, figsize, use_index, title, grid, legend, style, logx, logy, loglog, xticks, yticks, xlim, ylim, rot, fontsize, colormap, table, yerr, xerr, secondary_y, sort_columns, **kwds)\u001b[0m\n\u001b[0;32m   2940\u001b[0m                           \u001b[0mfontsize\u001b[0m\u001b[1;33m=\u001b[0m\u001b[0mfontsize\u001b[0m\u001b[1;33m,\u001b[0m \u001b[0mcolormap\u001b[0m\u001b[1;33m=\u001b[0m\u001b[0mcolormap\u001b[0m\u001b[1;33m,\u001b[0m \u001b[0mtable\u001b[0m\u001b[1;33m=\u001b[0m\u001b[0mtable\u001b[0m\u001b[1;33m,\u001b[0m\u001b[1;33m\u001b[0m\u001b[0m\n\u001b[0;32m   2941\u001b[0m                           \u001b[0myerr\u001b[0m\u001b[1;33m=\u001b[0m\u001b[0myerr\u001b[0m\u001b[1;33m,\u001b[0m \u001b[0mxerr\u001b[0m\u001b[1;33m=\u001b[0m\u001b[0mxerr\u001b[0m\u001b[1;33m,\u001b[0m \u001b[0msecondary_y\u001b[0m\u001b[1;33m=\u001b[0m\u001b[0msecondary_y\u001b[0m\u001b[1;33m,\u001b[0m\u001b[1;33m\u001b[0m\u001b[0m\n\u001b[1;32m-> 2942\u001b[1;33m                           sort_columns=sort_columns, **kwds)\n\u001b[0m\u001b[0;32m   2943\u001b[0m     \u001b[0m__call__\u001b[0m\u001b[1;33m.\u001b[0m\u001b[0m__doc__\u001b[0m \u001b[1;33m=\u001b[0m \u001b[0mplot_frame\u001b[0m\u001b[1;33m.\u001b[0m\u001b[0m__doc__\u001b[0m\u001b[1;33m\u001b[0m\u001b[0m\n\u001b[0;32m   2944\u001b[0m \u001b[1;33m\u001b[0m\u001b[0m\n",
      "\u001b[1;32mc:\\ProgramData\\Anaconda2\\lib\\site-packages\\pandas\\plotting\\_core.pyc\u001b[0m in \u001b[0;36mplot_frame\u001b[1;34m(data, x, y, kind, ax, subplots, sharex, sharey, layout, figsize, use_index, title, grid, legend, style, logx, logy, loglog, xticks, yticks, xlim, ylim, rot, fontsize, colormap, table, yerr, xerr, secondary_y, sort_columns, **kwds)\u001b[0m\n\u001b[0;32m   1971\u001b[0m                  \u001b[0myerr\u001b[0m\u001b[1;33m=\u001b[0m\u001b[0myerr\u001b[0m\u001b[1;33m,\u001b[0m \u001b[0mxerr\u001b[0m\u001b[1;33m=\u001b[0m\u001b[0mxerr\u001b[0m\u001b[1;33m,\u001b[0m\u001b[1;33m\u001b[0m\u001b[0m\n\u001b[0;32m   1972\u001b[0m                  \u001b[0msecondary_y\u001b[0m\u001b[1;33m=\u001b[0m\u001b[0msecondary_y\u001b[0m\u001b[1;33m,\u001b[0m \u001b[0msort_columns\u001b[0m\u001b[1;33m=\u001b[0m\u001b[0msort_columns\u001b[0m\u001b[1;33m,\u001b[0m\u001b[1;33m\u001b[0m\u001b[0m\n\u001b[1;32m-> 1973\u001b[1;33m                  **kwds)\n\u001b[0m\u001b[0;32m   1974\u001b[0m \u001b[1;33m\u001b[0m\u001b[0m\n\u001b[0;32m   1975\u001b[0m \u001b[1;33m\u001b[0m\u001b[0m\n",
      "\u001b[1;32mc:\\ProgramData\\Anaconda2\\lib\\site-packages\\pandas\\plotting\\_core.pyc\u001b[0m in \u001b[0;36m_plot\u001b[1;34m(data, x, y, subplots, ax, kind, **kwds)\u001b[0m\n\u001b[0;32m   1761\u001b[0m                 \u001b[1;32mif\u001b[0m \u001b[0mis_integer\u001b[0m\u001b[1;33m(\u001b[0m\u001b[0mx\u001b[0m\u001b[1;33m)\u001b[0m \u001b[1;32mand\u001b[0m \u001b[1;32mnot\u001b[0m \u001b[0mdata\u001b[0m\u001b[1;33m.\u001b[0m\u001b[0mcolumns\u001b[0m\u001b[1;33m.\u001b[0m\u001b[0mholds_integer\u001b[0m\u001b[1;33m(\u001b[0m\u001b[1;33m)\u001b[0m\u001b[1;33m:\u001b[0m\u001b[1;33m\u001b[0m\u001b[0m\n\u001b[0;32m   1762\u001b[0m                     \u001b[0mx\u001b[0m \u001b[1;33m=\u001b[0m \u001b[0mdata_cols\u001b[0m\u001b[1;33m[\u001b[0m\u001b[0mx\u001b[0m\u001b[1;33m]\u001b[0m\u001b[1;33m\u001b[0m\u001b[0m\n\u001b[1;32m-> 1763\u001b[1;33m                 \u001b[1;32melif\u001b[0m \u001b[1;32mnot\u001b[0m \u001b[0misinstance\u001b[0m\u001b[1;33m(\u001b[0m\u001b[0mdata\u001b[0m\u001b[1;33m[\u001b[0m\u001b[0mx\u001b[0m\u001b[1;33m]\u001b[0m\u001b[1;33m,\u001b[0m \u001b[0mABCSeries\u001b[0m\u001b[1;33m)\u001b[0m\u001b[1;33m:\u001b[0m\u001b[1;33m\u001b[0m\u001b[0m\n\u001b[0m\u001b[0;32m   1764\u001b[0m                     \u001b[1;32mraise\u001b[0m \u001b[0mValueError\u001b[0m\u001b[1;33m(\u001b[0m\u001b[1;34m\"x must be a label or position\"\u001b[0m\u001b[1;33m)\u001b[0m\u001b[1;33m\u001b[0m\u001b[0m\n\u001b[0;32m   1765\u001b[0m                 \u001b[0mdata\u001b[0m \u001b[1;33m=\u001b[0m \u001b[0mdata\u001b[0m\u001b[1;33m.\u001b[0m\u001b[0mset_index\u001b[0m\u001b[1;33m(\u001b[0m\u001b[0mx\u001b[0m\u001b[1;33m)\u001b[0m\u001b[1;33m\u001b[0m\u001b[0m\n",
      "\u001b[1;32mc:\\ProgramData\\Anaconda2\\lib\\site-packages\\pandas\\core\\frame.pyc\u001b[0m in \u001b[0;36m__getitem__\u001b[1;34m(self, key)\u001b[0m\n\u001b[0;32m   2932\u001b[0m                 \u001b[0mkey\u001b[0m \u001b[1;33m=\u001b[0m \u001b[0mlist\u001b[0m\u001b[1;33m(\u001b[0m\u001b[0mkey\u001b[0m\u001b[1;33m)\u001b[0m\u001b[1;33m\u001b[0m\u001b[0m\n\u001b[0;32m   2933\u001b[0m             indexer = self.loc._convert_to_indexer(key, axis=1,\n\u001b[1;32m-> 2934\u001b[1;33m                                                    raise_missing=True)\n\u001b[0m\u001b[0;32m   2935\u001b[0m \u001b[1;33m\u001b[0m\u001b[0m\n\u001b[0;32m   2936\u001b[0m         \u001b[1;31m# take() does not accept boolean indexers\u001b[0m\u001b[1;33m\u001b[0m\u001b[1;33m\u001b[0m\u001b[0m\n",
      "\u001b[1;32mc:\\ProgramData\\Anaconda2\\lib\\site-packages\\pandas\\core\\indexing.pyc\u001b[0m in \u001b[0;36m_convert_to_indexer\u001b[1;34m(self, obj, axis, is_setter, raise_missing)\u001b[0m\n\u001b[0;32m   1352\u001b[0m                 kwargs = {'raise_missing': True if is_setter else\n\u001b[0;32m   1353\u001b[0m                           raise_missing}\n\u001b[1;32m-> 1354\u001b[1;33m                 \u001b[1;32mreturn\u001b[0m \u001b[0mself\u001b[0m\u001b[1;33m.\u001b[0m\u001b[0m_get_listlike_indexer\u001b[0m\u001b[1;33m(\u001b[0m\u001b[0mobj\u001b[0m\u001b[1;33m,\u001b[0m \u001b[0maxis\u001b[0m\u001b[1;33m,\u001b[0m \u001b[1;33m**\u001b[0m\u001b[0mkwargs\u001b[0m\u001b[1;33m)\u001b[0m\u001b[1;33m[\u001b[0m\u001b[1;36m1\u001b[0m\u001b[1;33m]\u001b[0m\u001b[1;33m\u001b[0m\u001b[0m\n\u001b[0m\u001b[0;32m   1355\u001b[0m         \u001b[1;32melse\u001b[0m\u001b[1;33m:\u001b[0m\u001b[1;33m\u001b[0m\u001b[0m\n\u001b[0;32m   1356\u001b[0m             \u001b[1;32mtry\u001b[0m\u001b[1;33m:\u001b[0m\u001b[1;33m\u001b[0m\u001b[0m\n",
      "\u001b[1;32mc:\\ProgramData\\Anaconda2\\lib\\site-packages\\pandas\\core\\indexing.pyc\u001b[0m in \u001b[0;36m_get_listlike_indexer\u001b[1;34m(self, key, axis, raise_missing)\u001b[0m\n\u001b[0;32m   1159\u001b[0m         self._validate_read_indexer(keyarr, indexer,\n\u001b[0;32m   1160\u001b[0m                                     \u001b[0mo\u001b[0m\u001b[1;33m.\u001b[0m\u001b[0m_get_axis_number\u001b[0m\u001b[1;33m(\u001b[0m\u001b[0maxis\u001b[0m\u001b[1;33m)\u001b[0m\u001b[1;33m,\u001b[0m\u001b[1;33m\u001b[0m\u001b[0m\n\u001b[1;32m-> 1161\u001b[1;33m                                     raise_missing=raise_missing)\n\u001b[0m\u001b[0;32m   1162\u001b[0m         \u001b[1;32mreturn\u001b[0m \u001b[0mkeyarr\u001b[0m\u001b[1;33m,\u001b[0m \u001b[0mindexer\u001b[0m\u001b[1;33m\u001b[0m\u001b[0m\n\u001b[0;32m   1163\u001b[0m \u001b[1;33m\u001b[0m\u001b[0m\n",
      "\u001b[1;32mc:\\ProgramData\\Anaconda2\\lib\\site-packages\\pandas\\core\\indexing.pyc\u001b[0m in \u001b[0;36m_validate_read_indexer\u001b[1;34m(self, key, indexer, axis, raise_missing)\u001b[0m\n\u001b[0;32m   1244\u001b[0m                 raise KeyError(\n\u001b[0;32m   1245\u001b[0m                     u\"None of [{key}] are in the [{axis}]\".format(\n\u001b[1;32m-> 1246\u001b[1;33m                         key=key, axis=self.obj._get_axis_name(axis)))\n\u001b[0m\u001b[0;32m   1247\u001b[0m \u001b[1;33m\u001b[0m\u001b[0m\n\u001b[0;32m   1248\u001b[0m             \u001b[1;31m# We (temporarily) allow for some missing keys with .loc, except in\u001b[0m\u001b[1;33m\u001b[0m\u001b[1;33m\u001b[0m\u001b[0m\n",
      "\u001b[1;31mKeyError\u001b[0m: u\"None of [Index([u'Male', u'Male', u'Male', u'Male', u'Male', u'Male', u'Male', u'Male',\\n       u'Male', u'Male',\\n       ...\\n       u'Female', u'Female', u'Male', u'Female', u'Female', u'Female',\\n       u'Female', u'Male', u'Female', u'Female'],\\n      dtype='object', length=17081)] are in the [columns]\""
     ]
    }
   ],
   "source": []
  },
  {
   "cell_type": "code",
   "execution_count": null,
   "id": "03b1a2cf",
   "metadata": {},
   "outputs": [],
   "source": [
    "\n"
   ]
  },
  {
   "cell_type": "code",
   "execution_count": null,
   "id": "7d05f9fb",
   "metadata": {},
   "outputs": [],
   "source": []
  },
  {
   "cell_type": "code",
   "execution_count": null,
   "id": "564a3c64",
   "metadata": {},
   "outputs": [],
   "source": []
  },
  {
   "cell_type": "code",
   "execution_count": null,
   "id": "ea8d5f89",
   "metadata": {},
   "outputs": [],
   "source": []
  }
 ],
 "metadata": {
  "kernelspec": {
   "display_name": "Python 2.7.16 ('base')",
   "language": "python",
   "name": "python3"
  },
  "language_info": {
   "codemirror_mode": {
    "name": "ipython",
    "version": 2
   },
   "file_extension": ".py",
   "mimetype": "text/x-python",
   "name": "python",
   "nbconvert_exporter": "python",
   "pygments_lexer": "ipython2",
   "version": "2.7.16"
  },
  "vscode": {
   "interpreter": {
    "hash": "02bec81eb7abda00c1892cd9a67ebd1f5d8bbb52e885618613884d7cb3715ad3"
   }
  }
 },
 "nbformat": 4,
 "nbformat_minor": 5
}
