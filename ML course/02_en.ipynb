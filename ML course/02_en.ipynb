{
 "cells": [
  {
   "cell_type": "markdown",
   "metadata": {},
   "source": [
    "## The Boston Housing Problem\n",
    "\n",
    "The Boston Housing dataset was originally published by Harrison and Rubinfeld in 1978,\n",
    "in a paper titled *Hedonic prices and the demand for clean air*. The authors used the dataset to investigate the relationship between air quality and housing prices in the Boston metropolitan area. Since then, the dataset has been widely used in machine learning and statistics research as a benchmark for regression tasks.\n",
    "\n",
    "Each row in the [data table](../_data/housing_data.txt) contains various [attributes](../_data/housing_names.txt) of a a district in Boston. The  last attribute is the median value of owner occupied homes in the district.\n",
    "We will create regressors that estimate this attribute from other attributes of the district."
   ]
  },
  {
   "cell_type": "markdown",
   "metadata": {},
   "source": [
    "**Exercise 1**: Load the Boston Housing data set to DataFrame and display basic statistics about it!"
   ]
  },
  {
   "cell_type": "code",
   "execution_count": 1,
   "metadata": {},
   "outputs": [],
   "source": [
    "# Extract column names.\n",
    "fname = 'housing_names.txt'\n",
    "columns = []\n",
    "for line in open(fname):\n",
    "    if line.startswith('    ') and line[4].isdigit():\n",
    "        columns.append(line.split()[1])"
   ]
  },
  {
   "cell_type": "code",
   "execution_count": 2,
   "metadata": {},
   "outputs": [
    {
     "data": {
      "text/plain": [
       "['CRIM',\n",
       " 'ZN',\n",
       " 'INDUS',\n",
       " 'CHAS',\n",
       " 'NOX',\n",
       " 'RM',\n",
       " 'AGE',\n",
       " 'DIS',\n",
       " 'RAD',\n",
       " 'TAX',\n",
       " 'PTRATIO',\n",
       " 'LSTAT',\n",
       " 'MEDV']"
      ]
     },
     "execution_count": 2,
     "metadata": {},
     "output_type": "execute_result"
    }
   ],
   "source": [
    "columns"
   ]
  },
  {
   "cell_type": "code",
   "execution_count": null,
   "metadata": {},
   "outputs": [],
   "source": []
  },
  {
   "cell_type": "code",
   "execution_count": 3,
   "metadata": {},
   "outputs": [
    {
     "data": {
      "text/html": [
       "<div>\n",
       "<style scoped>\n",
       "    .dataframe tbody tr th:only-of-type {\n",
       "        vertical-align: middle;\n",
       "    }\n",
       "\n",
       "    .dataframe tbody tr th {\n",
       "        vertical-align: top;\n",
       "    }\n",
       "\n",
       "    .dataframe thead th {\n",
       "        text-align: right;\n",
       "    }\n",
       "</style>\n",
       "<table border=\"1\" class=\"dataframe\">\n",
       "  <thead>\n",
       "    <tr style=\"text-align: right;\">\n",
       "      <th></th>\n",
       "      <th>CRIM</th>\n",
       "      <th>ZN</th>\n",
       "      <th>INDUS</th>\n",
       "      <th>CHAS</th>\n",
       "      <th>NOX</th>\n",
       "      <th>RM</th>\n",
       "      <th>AGE</th>\n",
       "      <th>DIS</th>\n",
       "      <th>RAD</th>\n",
       "      <th>TAX</th>\n",
       "      <th>PTRATIO</th>\n",
       "      <th>LSTAT</th>\n",
       "      <th>MEDV</th>\n",
       "    </tr>\n",
       "  </thead>\n",
       "  <tbody>\n",
       "    <tr>\n",
       "      <th>0</th>\n",
       "      <td>0.00632</td>\n",
       "      <td>18.0</td>\n",
       "      <td>2.31</td>\n",
       "      <td>0</td>\n",
       "      <td>0.538</td>\n",
       "      <td>6.575</td>\n",
       "      <td>65.2</td>\n",
       "      <td>4.0900</td>\n",
       "      <td>1</td>\n",
       "      <td>296.0</td>\n",
       "      <td>15.3</td>\n",
       "      <td>4.98</td>\n",
       "      <td>24.0</td>\n",
       "    </tr>\n",
       "    <tr>\n",
       "      <th>1</th>\n",
       "      <td>0.02731</td>\n",
       "      <td>0.0</td>\n",
       "      <td>7.07</td>\n",
       "      <td>0</td>\n",
       "      <td>0.469</td>\n",
       "      <td>6.421</td>\n",
       "      <td>78.9</td>\n",
       "      <td>4.9671</td>\n",
       "      <td>2</td>\n",
       "      <td>242.0</td>\n",
       "      <td>17.8</td>\n",
       "      <td>9.14</td>\n",
       "      <td>21.6</td>\n",
       "    </tr>\n",
       "    <tr>\n",
       "      <th>2</th>\n",
       "      <td>0.02729</td>\n",
       "      <td>0.0</td>\n",
       "      <td>7.07</td>\n",
       "      <td>0</td>\n",
       "      <td>0.469</td>\n",
       "      <td>7.185</td>\n",
       "      <td>61.1</td>\n",
       "      <td>4.9671</td>\n",
       "      <td>2</td>\n",
       "      <td>242.0</td>\n",
       "      <td>17.8</td>\n",
       "      <td>4.03</td>\n",
       "      <td>34.7</td>\n",
       "    </tr>\n",
       "    <tr>\n",
       "      <th>3</th>\n",
       "      <td>0.03237</td>\n",
       "      <td>0.0</td>\n",
       "      <td>2.18</td>\n",
       "      <td>0</td>\n",
       "      <td>0.458</td>\n",
       "      <td>6.998</td>\n",
       "      <td>45.8</td>\n",
       "      <td>6.0622</td>\n",
       "      <td>3</td>\n",
       "      <td>222.0</td>\n",
       "      <td>18.7</td>\n",
       "      <td>2.94</td>\n",
       "      <td>33.4</td>\n",
       "    </tr>\n",
       "    <tr>\n",
       "      <th>4</th>\n",
       "      <td>0.06905</td>\n",
       "      <td>0.0</td>\n",
       "      <td>2.18</td>\n",
       "      <td>0</td>\n",
       "      <td>0.458</td>\n",
       "      <td>7.147</td>\n",
       "      <td>54.2</td>\n",
       "      <td>6.0622</td>\n",
       "      <td>3</td>\n",
       "      <td>222.0</td>\n",
       "      <td>18.7</td>\n",
       "      <td>5.33</td>\n",
       "      <td>36.2</td>\n",
       "    </tr>\n",
       "    <tr>\n",
       "      <th>...</th>\n",
       "      <td>...</td>\n",
       "      <td>...</td>\n",
       "      <td>...</td>\n",
       "      <td>...</td>\n",
       "      <td>...</td>\n",
       "      <td>...</td>\n",
       "      <td>...</td>\n",
       "      <td>...</td>\n",
       "      <td>...</td>\n",
       "      <td>...</td>\n",
       "      <td>...</td>\n",
       "      <td>...</td>\n",
       "      <td>...</td>\n",
       "    </tr>\n",
       "    <tr>\n",
       "      <th>501</th>\n",
       "      <td>0.06263</td>\n",
       "      <td>0.0</td>\n",
       "      <td>11.93</td>\n",
       "      <td>0</td>\n",
       "      <td>0.573</td>\n",
       "      <td>6.593</td>\n",
       "      <td>69.1</td>\n",
       "      <td>2.4786</td>\n",
       "      <td>1</td>\n",
       "      <td>273.0</td>\n",
       "      <td>21.0</td>\n",
       "      <td>9.67</td>\n",
       "      <td>22.4</td>\n",
       "    </tr>\n",
       "    <tr>\n",
       "      <th>502</th>\n",
       "      <td>0.04527</td>\n",
       "      <td>0.0</td>\n",
       "      <td>11.93</td>\n",
       "      <td>0</td>\n",
       "      <td>0.573</td>\n",
       "      <td>6.120</td>\n",
       "      <td>76.7</td>\n",
       "      <td>2.2875</td>\n",
       "      <td>1</td>\n",
       "      <td>273.0</td>\n",
       "      <td>21.0</td>\n",
       "      <td>9.08</td>\n",
       "      <td>20.6</td>\n",
       "    </tr>\n",
       "    <tr>\n",
       "      <th>503</th>\n",
       "      <td>0.06076</td>\n",
       "      <td>0.0</td>\n",
       "      <td>11.93</td>\n",
       "      <td>0</td>\n",
       "      <td>0.573</td>\n",
       "      <td>6.976</td>\n",
       "      <td>91.0</td>\n",
       "      <td>2.1675</td>\n",
       "      <td>1</td>\n",
       "      <td>273.0</td>\n",
       "      <td>21.0</td>\n",
       "      <td>5.64</td>\n",
       "      <td>23.9</td>\n",
       "    </tr>\n",
       "    <tr>\n",
       "      <th>504</th>\n",
       "      <td>0.10959</td>\n",
       "      <td>0.0</td>\n",
       "      <td>11.93</td>\n",
       "      <td>0</td>\n",
       "      <td>0.573</td>\n",
       "      <td>6.794</td>\n",
       "      <td>89.3</td>\n",
       "      <td>2.3889</td>\n",
       "      <td>1</td>\n",
       "      <td>273.0</td>\n",
       "      <td>21.0</td>\n",
       "      <td>6.48</td>\n",
       "      <td>22.0</td>\n",
       "    </tr>\n",
       "    <tr>\n",
       "      <th>505</th>\n",
       "      <td>0.04741</td>\n",
       "      <td>0.0</td>\n",
       "      <td>11.93</td>\n",
       "      <td>0</td>\n",
       "      <td>0.573</td>\n",
       "      <td>6.030</td>\n",
       "      <td>80.8</td>\n",
       "      <td>2.5050</td>\n",
       "      <td>1</td>\n",
       "      <td>273.0</td>\n",
       "      <td>21.0</td>\n",
       "      <td>7.88</td>\n",
       "      <td>11.9</td>\n",
       "    </tr>\n",
       "  </tbody>\n",
       "</table>\n",
       "<p>506 rows × 13 columns</p>\n",
       "</div>"
      ],
      "text/plain": [
       "        CRIM    ZN  INDUS  CHAS    NOX     RM   AGE     DIS  RAD    TAX  \\\n",
       "0    0.00632  18.0   2.31     0  0.538  6.575  65.2  4.0900    1  296.0   \n",
       "1    0.02731   0.0   7.07     0  0.469  6.421  78.9  4.9671    2  242.0   \n",
       "2    0.02729   0.0   7.07     0  0.469  7.185  61.1  4.9671    2  242.0   \n",
       "3    0.03237   0.0   2.18     0  0.458  6.998  45.8  6.0622    3  222.0   \n",
       "4    0.06905   0.0   2.18     0  0.458  7.147  54.2  6.0622    3  222.0   \n",
       "..       ...   ...    ...   ...    ...    ...   ...     ...  ...    ...   \n",
       "501  0.06263   0.0  11.93     0  0.573  6.593  69.1  2.4786    1  273.0   \n",
       "502  0.04527   0.0  11.93     0  0.573  6.120  76.7  2.2875    1  273.0   \n",
       "503  0.06076   0.0  11.93     0  0.573  6.976  91.0  2.1675    1  273.0   \n",
       "504  0.10959   0.0  11.93     0  0.573  6.794  89.3  2.3889    1  273.0   \n",
       "505  0.04741   0.0  11.93     0  0.573  6.030  80.8  2.5050    1  273.0   \n",
       "\n",
       "     PTRATIO  LSTAT  MEDV  \n",
       "0       15.3   4.98  24.0  \n",
       "1       17.8   9.14  21.6  \n",
       "2       17.8   4.03  34.7  \n",
       "3       18.7   2.94  33.4  \n",
       "4       18.7   5.33  36.2  \n",
       "..       ...    ...   ...  \n",
       "501     21.0   9.67  22.4  \n",
       "502     21.0   9.08  20.6  \n",
       "503     21.0   5.64  23.9  \n",
       "504     21.0   6.48  22.0  \n",
       "505     21.0   7.88  11.9  \n",
       "\n",
       "[506 rows x 13 columns]"
      ]
     },
     "execution_count": 3,
     "metadata": {},
     "output_type": "execute_result"
    }
   ],
   "source": [
    "# Load to DataFrame.\n",
    "fdata = 'housing_data.txt'\n",
    "import pandas as pd\n",
    "df = pd.read_csv(fdata, sep='\\t', names=columns)\n",
    "df"
   ]
  },
  {
   "cell_type": "code",
   "execution_count": 5,
   "metadata": {},
   "outputs": [
    {
     "name": "stdout",
     "output_type": "stream",
     "text": [
      "<class 'pandas.core.frame.DataFrame'>\n",
      "RangeIndex: 506 entries, 0 to 505\n",
      "Data columns (total 13 columns):\n",
      " #   Column   Non-Null Count  Dtype  \n",
      "---  ------   --------------  -----  \n",
      " 0   CRIM     506 non-null    float64\n",
      " 1   ZN       506 non-null    float64\n",
      " 2   INDUS    506 non-null    float64\n",
      " 3   CHAS     506 non-null    int64  \n",
      " 4   NOX      506 non-null    float64\n",
      " 5   RM       506 non-null    float64\n",
      " 6   AGE      506 non-null    float64\n",
      " 7   DIS      506 non-null    float64\n",
      " 8   RAD      506 non-null    int64  \n",
      " 9   TAX      506 non-null    float64\n",
      " 10  PTRATIO  506 non-null    float64\n",
      " 11  LSTAT    506 non-null    float64\n",
      " 12  MEDV     506 non-null    float64\n",
      "dtypes: float64(11), int64(2)\n",
      "memory usage: 51.5 KB\n"
     ]
    }
   ],
   "source": [
    "# Check column data types.\n",
    "df.info()"
   ]
  },
  {
   "cell_type": "code",
   "execution_count": 7,
   "metadata": {
    "scrolled": true
   },
   "outputs": [
    {
     "data": {
      "text/html": [
       "<div>\n",
       "<style scoped>\n",
       "    .dataframe tbody tr th:only-of-type {\n",
       "        vertical-align: middle;\n",
       "    }\n",
       "\n",
       "    .dataframe tbody tr th {\n",
       "        vertical-align: top;\n",
       "    }\n",
       "\n",
       "    .dataframe thead th {\n",
       "        text-align: right;\n",
       "    }\n",
       "</style>\n",
       "<table border=\"1\" class=\"dataframe\">\n",
       "  <thead>\n",
       "    <tr style=\"text-align: right;\">\n",
       "      <th></th>\n",
       "      <th>count</th>\n",
       "      <th>mean</th>\n",
       "      <th>std</th>\n",
       "      <th>min</th>\n",
       "      <th>25%</th>\n",
       "      <th>50%</th>\n",
       "      <th>75%</th>\n",
       "      <th>max</th>\n",
       "    </tr>\n",
       "  </thead>\n",
       "  <tbody>\n",
       "    <tr>\n",
       "      <th>CRIM</th>\n",
       "      <td>506.0</td>\n",
       "      <td>3.613524</td>\n",
       "      <td>8.601545</td>\n",
       "      <td>0.00632</td>\n",
       "      <td>0.082045</td>\n",
       "      <td>0.25651</td>\n",
       "      <td>3.677083</td>\n",
       "      <td>88.9762</td>\n",
       "    </tr>\n",
       "    <tr>\n",
       "      <th>ZN</th>\n",
       "      <td>506.0</td>\n",
       "      <td>11.363636</td>\n",
       "      <td>23.322453</td>\n",
       "      <td>0.00000</td>\n",
       "      <td>0.000000</td>\n",
       "      <td>0.00000</td>\n",
       "      <td>12.500000</td>\n",
       "      <td>100.0000</td>\n",
       "    </tr>\n",
       "    <tr>\n",
       "      <th>INDUS</th>\n",
       "      <td>506.0</td>\n",
       "      <td>11.136779</td>\n",
       "      <td>6.860353</td>\n",
       "      <td>0.46000</td>\n",
       "      <td>5.190000</td>\n",
       "      <td>9.69000</td>\n",
       "      <td>18.100000</td>\n",
       "      <td>27.7400</td>\n",
       "    </tr>\n",
       "    <tr>\n",
       "      <th>CHAS</th>\n",
       "      <td>506.0</td>\n",
       "      <td>0.069170</td>\n",
       "      <td>0.253994</td>\n",
       "      <td>0.00000</td>\n",
       "      <td>0.000000</td>\n",
       "      <td>0.00000</td>\n",
       "      <td>0.000000</td>\n",
       "      <td>1.0000</td>\n",
       "    </tr>\n",
       "    <tr>\n",
       "      <th>NOX</th>\n",
       "      <td>506.0</td>\n",
       "      <td>0.554695</td>\n",
       "      <td>0.115878</td>\n",
       "      <td>0.38500</td>\n",
       "      <td>0.449000</td>\n",
       "      <td>0.53800</td>\n",
       "      <td>0.624000</td>\n",
       "      <td>0.8710</td>\n",
       "    </tr>\n",
       "    <tr>\n",
       "      <th>RM</th>\n",
       "      <td>506.0</td>\n",
       "      <td>6.284634</td>\n",
       "      <td>0.702617</td>\n",
       "      <td>3.56100</td>\n",
       "      <td>5.885500</td>\n",
       "      <td>6.20850</td>\n",
       "      <td>6.623500</td>\n",
       "      <td>8.7800</td>\n",
       "    </tr>\n",
       "    <tr>\n",
       "      <th>AGE</th>\n",
       "      <td>506.0</td>\n",
       "      <td>68.574901</td>\n",
       "      <td>28.148861</td>\n",
       "      <td>2.90000</td>\n",
       "      <td>45.025000</td>\n",
       "      <td>77.50000</td>\n",
       "      <td>94.075000</td>\n",
       "      <td>100.0000</td>\n",
       "    </tr>\n",
       "    <tr>\n",
       "      <th>DIS</th>\n",
       "      <td>506.0</td>\n",
       "      <td>3.795043</td>\n",
       "      <td>2.105710</td>\n",
       "      <td>1.12960</td>\n",
       "      <td>2.100175</td>\n",
       "      <td>3.20745</td>\n",
       "      <td>5.188425</td>\n",
       "      <td>12.1265</td>\n",
       "    </tr>\n",
       "    <tr>\n",
       "      <th>RAD</th>\n",
       "      <td>506.0</td>\n",
       "      <td>9.549407</td>\n",
       "      <td>8.707259</td>\n",
       "      <td>1.00000</td>\n",
       "      <td>4.000000</td>\n",
       "      <td>5.00000</td>\n",
       "      <td>24.000000</td>\n",
       "      <td>24.0000</td>\n",
       "    </tr>\n",
       "    <tr>\n",
       "      <th>TAX</th>\n",
       "      <td>506.0</td>\n",
       "      <td>408.237154</td>\n",
       "      <td>168.537116</td>\n",
       "      <td>187.00000</td>\n",
       "      <td>279.000000</td>\n",
       "      <td>330.00000</td>\n",
       "      <td>666.000000</td>\n",
       "      <td>711.0000</td>\n",
       "    </tr>\n",
       "    <tr>\n",
       "      <th>PTRATIO</th>\n",
       "      <td>506.0</td>\n",
       "      <td>18.455534</td>\n",
       "      <td>2.164946</td>\n",
       "      <td>12.60000</td>\n",
       "      <td>17.400000</td>\n",
       "      <td>19.05000</td>\n",
       "      <td>20.200000</td>\n",
       "      <td>22.0000</td>\n",
       "    </tr>\n",
       "    <tr>\n",
       "      <th>LSTAT</th>\n",
       "      <td>506.0</td>\n",
       "      <td>12.653063</td>\n",
       "      <td>7.141062</td>\n",
       "      <td>1.73000</td>\n",
       "      <td>6.950000</td>\n",
       "      <td>11.36000</td>\n",
       "      <td>16.955000</td>\n",
       "      <td>37.9700</td>\n",
       "    </tr>\n",
       "    <tr>\n",
       "      <th>MEDV</th>\n",
       "      <td>506.0</td>\n",
       "      <td>22.532806</td>\n",
       "      <td>9.197104</td>\n",
       "      <td>5.00000</td>\n",
       "      <td>17.025000</td>\n",
       "      <td>21.20000</td>\n",
       "      <td>25.000000</td>\n",
       "      <td>50.0000</td>\n",
       "    </tr>\n",
       "  </tbody>\n",
       "</table>\n",
       "</div>"
      ],
      "text/plain": [
       "         count        mean         std        min         25%        50%  \\\n",
       "CRIM     506.0    3.613524    8.601545    0.00632    0.082045    0.25651   \n",
       "ZN       506.0   11.363636   23.322453    0.00000    0.000000    0.00000   \n",
       "INDUS    506.0   11.136779    6.860353    0.46000    5.190000    9.69000   \n",
       "CHAS     506.0    0.069170    0.253994    0.00000    0.000000    0.00000   \n",
       "NOX      506.0    0.554695    0.115878    0.38500    0.449000    0.53800   \n",
       "RM       506.0    6.284634    0.702617    3.56100    5.885500    6.20850   \n",
       "AGE      506.0   68.574901   28.148861    2.90000   45.025000   77.50000   \n",
       "DIS      506.0    3.795043    2.105710    1.12960    2.100175    3.20745   \n",
       "RAD      506.0    9.549407    8.707259    1.00000    4.000000    5.00000   \n",
       "TAX      506.0  408.237154  168.537116  187.00000  279.000000  330.00000   \n",
       "PTRATIO  506.0   18.455534    2.164946   12.60000   17.400000   19.05000   \n",
       "LSTAT    506.0   12.653063    7.141062    1.73000    6.950000   11.36000   \n",
       "MEDV     506.0   22.532806    9.197104    5.00000   17.025000   21.20000   \n",
       "\n",
       "                75%       max  \n",
       "CRIM       3.677083   88.9762  \n",
       "ZN        12.500000  100.0000  \n",
       "INDUS     18.100000   27.7400  \n",
       "CHAS       0.000000    1.0000  \n",
       "NOX        0.624000    0.8710  \n",
       "RM         6.623500    8.7800  \n",
       "AGE       94.075000  100.0000  \n",
       "DIS        5.188425   12.1265  \n",
       "RAD       24.000000   24.0000  \n",
       "TAX      666.000000  711.0000  \n",
       "PTRATIO   20.200000   22.0000  \n",
       "LSTAT     16.955000   37.9700  \n",
       "MEDV      25.000000   50.0000  "
      ]
     },
     "execution_count": 7,
     "metadata": {},
     "output_type": "execute_result"
    }
   ],
   "source": [
    "# Basic column statistics.\n",
    "df.describe().T"
   ]
  },
  {
   "cell_type": "markdown",
   "metadata": {},
   "source": [
    "**Exercise 2**: Build a univariate linear model for each column and measure it's RMSE (root mean squared error)! Use the full data set both for for model building and error measurement!\n",
    "\n",
    "$$\\mathrm{RMSE} = \\sqrt{\\frac{1}{n} \\sum_{i=1}^n (\\hat{y}_i - y_i)^2}$$"
   ]
  },
  {
   "cell_type": "code",
   "execution_count": 37,
   "metadata": {},
   "outputs": [
    {
     "data": {
      "text/plain": [
       "array([  1.46719368,  -0.93280632,  12.16719368,  10.86719368,\n",
       "        13.66719368,   6.16719368,   0.36719368,   4.56719368,\n",
       "        -6.03280632,  -3.63280632,  -7.53280632,  -3.63280632,\n",
       "        -0.83280632,  -2.13280632,  -4.33280632,  -2.63280632,\n",
       "         0.56719368,  -5.03280632,  -2.33280632,  -4.33280632,\n",
       "        -8.93280632,  -2.93280632,  -7.33280632,  -8.03280632,\n",
       "        -6.93280632,  -8.63280632,  -5.93280632,  -7.73280632,\n",
       "        -4.13280632,  -1.53280632,  -9.83280632,  -8.03280632,\n",
       "        -9.33280632,  -9.43280632,  -9.03280632,  -3.63280632,\n",
       "        -2.53280632,  -1.53280632,   2.16719368,   8.26719368,\n",
       "        12.36719368,   4.06719368,   2.76719368,   2.16719368,\n",
       "        -1.33280632,  -3.23280632,  -2.53280632,  -5.93280632,\n",
       "        -8.13280632,  -3.13280632,  -2.83280632,  -2.03280632,\n",
       "         2.46719368,   0.86719368,  -3.63280632,  12.86719368,\n",
       "         2.16719368,   9.06719368,   0.76719368,  -2.93280632,\n",
       "        -3.83280632,  -6.53280632,  -0.33280632,   2.46719368,\n",
       "        10.46719368,   0.96719368,  -3.13280632,  -0.53280632,\n",
       "        -5.13280632,  -1.63280632,   1.66719368,  -0.83280632,\n",
       "         0.26719368,   0.86719368,   1.56719368,  -1.13280632,\n",
       "        -2.53280632,  -1.73280632,  -1.33280632,  -2.23280632,\n",
       "         5.46719368,   1.36719368,   2.26719368,   0.36719368,\n",
       "         1.36719368,   4.06719368,  -0.03280632,  -0.33280632,\n",
       "         1.06719368,   6.16719368,   0.06719368,  -0.53280632,\n",
       "         0.36719368,   2.46719368,  -1.93280632,   5.86719368,\n",
       "        -1.13280632,  16.16719368,  21.26719368,  10.66719368,\n",
       "         4.96719368,   3.96719368,  -3.93280632,  -3.23280632,\n",
       "        -2.43280632,  -3.03280632,  -3.03280632,  -2.13280632,\n",
       "        -2.73280632,  -3.13280632,  -0.83280632,   0.26719368,\n",
       "        -3.73280632,  -3.83280632,  -4.03280632,  -4.23280632,\n",
       "        -1.33280632,  -3.33280632,  -2.13280632,  -3.23280632,\n",
       "        -0.53280632,  -2.23280632,  -2.03280632,  -5.23280632,\n",
       "        -3.73280632,  -1.13280632,  -6.83280632,  -6.33280632,\n",
       "        -4.53280632,  -8.23280632,  -3.33280632,  -2.93280632,\n",
       "         0.46719368,  -4.13280632,  -6.93280632,  -4.43280632,\n",
       "        -5.13280632,  -5.43280632,  -9.23280632,  -4.73280632,\n",
       "        -8.53280632,  -8.13280632,  -9.13280632,  -6.93280632,\n",
       "       -10.73280632,  -8.73280632,  -6.93280632,  -7.93280632,\n",
       "        -4.73280632,  -7.13280632,  -1.03280632,  -2.93280632,\n",
       "        -7.23280632,  -3.13280632,  -5.53280632,  -6.93280632,\n",
       "        -9.43280632,  18.76719368,   1.76719368,   0.76719368,\n",
       "         4.46719368,  27.46719368,  27.46719368,  27.46719368,\n",
       "         0.16719368,   2.46719368,  27.46719368,   1.26719368,\n",
       "         1.26719368,  -0.23280632,  -5.13280632,  -3.43280632,\n",
       "         0.56719368,   1.06719368,   0.06719368,   6.86719368,\n",
       "         0.66719368,   2.06719368,   7.36719368,  14.66719368,\n",
       "        17.26719368,  13.66719368,  15.36719368,   9.96719368,\n",
       "         3.86719368,   7.06719368,  27.46719368,   9.46719368,\n",
       "         7.26719368,  12.36719368,  14.46719368,   7.96719368,\n",
       "        13.86719368,   8.56719368,   6.56719368,  27.46719368,\n",
       "        10.76719368,   7.76719368,  12.06719368,  12.36719368,\n",
       "        10.36719368,   1.56719368,  19.76719368,  25.96719368,\n",
       "        27.46719368,   0.06719368,   1.86719368,  -0.03280632,\n",
       "         1.86719368,  -2.53280632,  -0.83280632,  -3.23280632,\n",
       "        -0.13280632,   5.56719368,   1.16719368,   2.46719368,\n",
       "         0.76719368,   6.16719368,  -1.03280632,   0.46719368,\n",
       "         4.16719368,  -0.83280632,   4.96719368,   7.56719368,\n",
       "        22.26719368,  27.46719368,  15.06719368,   9.06719368,\n",
       "        24.16719368,   8.96719368,   1.76719368,   9.16719368,\n",
       "        19.16719368,  25.76719368,   6.46719368,   1.46719368,\n",
       "         2.56719368,   8.96719368,   1.16719368,   0.76719368,\n",
       "        -0.53280632,  -2.43280632,  -0.33280632,   1.16719368,\n",
       "        -4.93280632,  -4.03280632,   1.76719368,  -2.03280632,\n",
       "         1.96719368,   3.66719368,   1.86719368,   2.26719368,\n",
       "         7.06719368,  20.26719368,  -0.63280632,  -1.63280632,\n",
       "        21.46719368,  27.46719368,  13.46719368,   7.56719368,\n",
       "        11.26719368,  20.56719368,  26.26719368,   8.46719368,\n",
       "        13.96719368,   0.26719368,   8.16719368,  27.46719368,\n",
       "        20.96719368,  -1.83280632,  -1.43280632,   2.66719368,\n",
       "         1.86719368,  12.66719368,   9.86719368,   9.46719368,\n",
       "        10.66719368,  10.56719368,   6.56719368,  12.56719368,\n",
       "        22.86719368,  12.86719368,  23.46719368,  27.46719368,\n",
       "         9.66719368,  -0.53280632,  -2.43280632,   0.66719368,\n",
       "        -0.23280632,   2.26719368,   5.96719368,  14.76719368,\n",
       "         5.36719368,   1.36719368,  -0.83280632,   6.06719368,\n",
       "         4.56719368,  -2.23280632,  -0.03280632,   6.46719368,\n",
       "         2.26719368,  -0.53280632,   3.86719368,  10.56719368,\n",
       "        13.56719368,   5.86719368,  10.86719368,   5.66719368,\n",
       "         0.26719368,  -2.23280632,  -6.43280632,  -0.43280632,\n",
       "        -3.13280632,  -0.93280632,   1.26719368,  -6.33280632,\n",
       "        -4.73280632,  -2.73280632,   0.56719368,  -1.53280632,\n",
       "         1.26719368,   0.56719368,  -2.13280632,  -4.03280632,\n",
       "         2.46719368,   2.06719368,   0.46719368,  -0.33280632,\n",
       "        -3.23280632,   0.06719368,  -2.73280632,  -5.43280632,\n",
       "        -3.13280632,  -0.33280632,  -1.83280632,  -1.43280632,\n",
       "        -3.03280632,  -4.03280632,  -1.93280632,  -3.53280632,\n",
       "        -3.83280632,  10.16719368,  -6.03280632,   1.36719368,\n",
       "         8.66719368,  -5.03280632,  -5.33280632,   0.56719368,\n",
       "         1.96719368,   4.06719368,   0.36719368,   1.56719368,\n",
       "        -3.93280632,   7.56719368,  -4.33280632,  -1.93280632,\n",
       "        -4.73280632,  -0.83280632,   0.16719368,   0.06719368,\n",
       "         2.46719368,  -2.63280632,  -1.73280632,  -5.73280632,\n",
       "        -0.63280632,   4.96719368,  -0.63280632,   0.56719368,\n",
       "        27.46719368,  27.46719368,  27.46719368,  27.46719368,\n",
       "        27.46719368,  -8.73280632,  -8.73280632,  -7.53280632,\n",
       "        -8.63280632,  -9.23280632,  -9.43280632, -12.33280632,\n",
       "       -12.13280632, -11.63280632, -11.23280632, -10.23280632,\n",
       "       -13.73280632, -15.33280632, -12.03280632, -15.13280632,\n",
       "       -12.33280632, -11.03280632,  -7.43280632,   0.66719368,\n",
       "       -12.83280632,  -8.73280632,  -9.83280632,  -9.43280632,\n",
       "       -10.03280632, -14.03280632, -17.53280632, -16.23280632,\n",
       "       -16.93280632, -15.33280632, -10.43280632, -14.23280632,\n",
       "       -14.03280632, -17.53280632, -10.63280632,   5.36719368,\n",
       "        -5.33280632,   4.96719368,  -7.53280632,  -5.33280632,\n",
       "        -4.63280632,  -6.23280632, -15.53280632, -15.33280632,\n",
       "       -15.03280632, -12.13280632, -13.73280632, -14.13280632,\n",
       "        -5.83280632,  -8.33280632,  -1.73280632,  -9.13280632,\n",
       "       -10.83280632, -14.23280632, -12.33280632, -11.63280632,\n",
       "       -11.53280632, -13.03280632,  -8.03280632,  -8.43280632,\n",
       "        -6.43280632,  -8.23280632, -10.83280632,  -9.13280632,\n",
       "       -12.93280632, -13.83280632, -14.13280632,  -9.73280632,\n",
       "       -12.03280632,  -5.43280632,  -4.13280632,  -7.13280632,\n",
       "       -11.73280632, -10.73280632,  -7.63280632,  -9.93280632,\n",
       "        -8.43280632,  -9.53280632,  -9.13280632,  -7.33280632,\n",
       "        -6.43280632,  -4.73280632,  -7.63280632,  -8.43280632,\n",
       "        -9.83280632,  -9.03280632,  -7.63280632,  -2.53280632,\n",
       "        -6.13280632,  -4.83280632,  -3.03280632,  -2.33280632,\n",
       "        -1.13280632,  -2.63280632,  -3.53280632,  -3.43280632,\n",
       "        -3.43280632,  -2.43280632,  -2.63280632,  -2.93280632,\n",
       "         0.66719368,   7.26719368,  -8.73280632,  -9.23280632,\n",
       "        -5.83280632, -10.53280632,  -7.93280632,  -1.13280632,\n",
       "         0.46719368,   1.16719368,   2.46719368,  -0.73280632,\n",
       "        -1.93280632,  -1.33280632,  -3.43280632,  -1.93280632,\n",
       "        -7.33280632, -15.53280632, -14.43280632,  -8.93280632,\n",
       "        -2.43280632,  -0.73280632,   1.96719368,   0.56719368,\n",
       "        -2.83280632,  -4.23280632,  -1.33280632,  -5.03280632,\n",
       "        -5.73280632,  -0.13280632,  -1.93280632,   1.36719368,\n",
       "        -0.53280632, -10.63280632])"
      ]
     },
     "execution_count": 37,
     "metadata": {},
     "output_type": "execute_result"
    }
   ],
   "source": [
    "import numpy as np\n",
    "y = df[columns[-1]].values\n",
    "ym = y.mean()\n",
    "y = y - ym\n",
    "y"
   ]
  },
  {
   "cell_type": "code",
   "execution_count": 40,
   "metadata": {},
   "outputs": [
    {
     "name": "stdout",
     "output_type": "stream",
     "text": [
      "CRIM 8.467038200100824\n",
      "ZN 8.570396495772854\n",
      "INDUS 8.04153105080589\n",
      "CHAS 9.045800910882107\n",
      "NOX 8.306881987569504\n",
      "RM 6.603071389222562\n",
      "AGE 8.510228018625197\n",
      "DIS 8.896422965780745\n",
      "RAD 8.492632800301259\n",
      "TAX 8.117097716353989\n",
      "PTRATIO 7.915314271320455\n",
      "LSTAT 6.20346413142642\n"
     ]
    }
   ],
   "source": [
    "for column in columns[:-1]:\n",
    "    p = []\n",
    "    x = df[column].values\n",
    "    xm = x.mean()\n",
    "    x = x - xm\n",
    "    # univariate linear regression\n",
    "    w = (x @ y)/(x @ x)\n",
    "    p0 = x * w\n",
    "    pr = y - p0\n",
    "    p = pr**2\n",
    "    # measure RMSE\n",
    "    RMSE = np.sqrt(p.mean())\n",
    "    print(column, RMSE)"
   ]
  },
  {
   "cell_type": "code",
   "execution_count": 39,
   "metadata": {},
   "outputs": [
    {
     "data": {
      "text/plain": [
       "-0.9500493537579913"
      ]
     },
     "execution_count": 39,
     "metadata": {},
     "output_type": "execute_result"
    }
   ],
   "source": []
  },
  {
   "cell_type": "markdown",
   "metadata": {},
   "source": [
    "**Exercise 3:** Build a multivariate linear model and measure its RMSE! Use the full data set both for for model building and error measurement!"
   ]
  },
  {
   "cell_type": "code",
   "execution_count": 50,
   "metadata": {},
   "outputs": [],
   "source": [
    "X = df[columns[:-1]].values"
   ]
  },
  {
   "cell_type": "code",
   "execution_count": 51,
   "metadata": {},
   "outputs": [],
   "source": [
    "w = np.linalg.solve(X.T @ X, X.T @ y)"
   ]
  },
  {
   "cell_type": "code",
   "execution_count": 52,
   "metadata": {},
   "outputs": [],
   "source": [
    "p0 = X @ w"
   ]
  },
  {
   "cell_type": "code",
   "execution_count": 53,
   "metadata": {},
   "outputs": [],
   "source": [
    "pr = y - p0\n",
    "p = pr**2"
   ]
  },
  {
   "cell_type": "code",
   "execution_count": 54,
   "metadata": {},
   "outputs": [
    {
     "data": {
      "text/plain": [
       "4.807264396243256"
      ]
     },
     "execution_count": 54,
     "metadata": {},
     "output_type": "execute_result"
    }
   ],
   "source": [
    "RMSE = np.sqrt(p.mean())\n",
    "RMSE"
   ]
  },
  {
   "cell_type": "markdown",
   "metadata": {},
   "source": [
    "**Exercise 4:** Introduce a bias term into the multivariate linear model!"
   ]
  },
  {
   "cell_type": "code",
   "execution_count": 60,
   "metadata": {},
   "outputs": [],
   "source": [
    "X2 = np.hstack([X, np.ones((X.shape[0],1))])"
   ]
  },
  {
   "cell_type": "code",
   "execution_count": 61,
   "metadata": {},
   "outputs": [
    {
     "data": {
      "text/plain": [
       "4.735998462783738"
      ]
     },
     "execution_count": 61,
     "metadata": {},
     "output_type": "execute_result"
    }
   ],
   "source": [
    "w = np.linalg.solve(X2.T @ X2, X2.T @ y)\n",
    "p0 = X2 @ w\n",
    "pr = y - p0\n",
    "p = pr**2\n",
    "RMSE = np.sqrt(p.mean())\n",
    "RMSE"
   ]
  },
  {
   "cell_type": "code",
   "execution_count": 62,
   "metadata": {},
   "outputs": [
    {
     "data": {
      "text/plain": [
       "CRIM       -0.121389\n",
       "ZN          0.046963\n",
       "INDUS       0.013468\n",
       "CHAS        2.839993\n",
       "NOX       -18.758022\n",
       "RM          3.658119\n",
       "AGE         0.003611\n",
       "DIS        -1.490754\n",
       "RAD         0.289405\n",
       "TAX        -0.012682\n",
       "PTRATIO    -0.937533\n",
       "LSTAT      -0.552019\n",
       "dtype: float64"
      ]
     },
     "execution_count": 62,
     "metadata": {},
     "output_type": "execute_result"
    }
   ],
   "source": [
    "# Display the weights associated with the features.\n",
    "C = columns[:-1]\n",
    "W = w[:-1]\n",
    "pd.Series(W,C)"
   ]
  },
  {
   "cell_type": "code",
   "execution_count": 71,
   "metadata": {},
   "outputs": [],
   "source": [
    "# Display the weights associated with the features, after scaling the columns\n",
    "Xs = X / X.std(axis=0) \n"
   ]
  },
  {
   "cell_type": "code",
   "execution_count": 72,
   "metadata": {},
   "outputs": [],
   "source": [
    "X3 = np.hstack([Xs, np.ones((X.shape[0],1))])"
   ]
  },
  {
   "cell_type": "code",
   "execution_count": 73,
   "metadata": {},
   "outputs": [
    {
     "data": {
      "text/plain": [
       "4.735998462783738"
      ]
     },
     "execution_count": 73,
     "metadata": {},
     "output_type": "execute_result"
    }
   ],
   "source": [
    "w = np.linalg.solve(X3.T @ X3, X3.T @ y)\n",
    "p0 = X3 @ w\n",
    "pr = y - p0\n",
    "p = pr**2\n",
    "RMSE = np.sqrt(p.mean())\n",
    "RMSE"
   ]
  },
  {
   "cell_type": "code",
   "execution_count": 74,
   "metadata": {},
   "outputs": [
    {
     "data": {
      "text/plain": [
       "CRIM      -1.043097\n",
       "ZN         1.094220\n",
       "INDUS      0.092302\n",
       "CHAS       0.720628\n",
       "NOX       -2.171487\n",
       "RM         2.567716\n",
       "AGE        0.101537\n",
       "DIS       -3.135992\n",
       "RAD        2.517429\n",
       "TAX       -2.135271\n",
       "PTRATIO   -2.027701\n",
       "LSTAT     -3.938105\n",
       "dtype: float64"
      ]
     },
     "execution_count": 74,
     "metadata": {},
     "output_type": "execute_result"
    }
   ],
   "source": [
    "C = columns[:-1]\n",
    "W = w[:-1]\n",
    "pd.Series(W,C)"
   ]
  },
  {
   "cell_type": "code",
   "execution_count": null,
   "metadata": {},
   "outputs": [],
   "source": []
  },
  {
   "cell_type": "markdown",
   "metadata": {},
   "source": [
    "<div style=\"background-color: #FFC; border: 2px solid #AAA; border-radius: 10px; padding: 15px\">\n",
    "Using the same dataset for both model training and evaluation is a bad idea in machine learning because it can lead to <b>overfitting</b>. When a model is trained and evaluated on the same dataset, it can achieve high accuracy on that data, but it may not generalize well to new, unseen data. This is because the model has simply memorized the training data instead of learning the underlying patterns that can apply to new data.    \n",
    "</div>"
   ]
  },
  {
   "cell_type": "markdown",
   "metadata": {},
   "source": [
    "**Execrice 5:** Repeat the previous experiment so that the model is built on a training set and evaluated on a distinct test set!"
   ]
  },
  {
   "cell_type": "code",
   "execution_count": 75,
   "metadata": {},
   "outputs": [
    {
     "data": {
      "text/html": [
       "<div>\n",
       "<style scoped>\n",
       "    .dataframe tbody tr th:only-of-type {\n",
       "        vertical-align: middle;\n",
       "    }\n",
       "\n",
       "    .dataframe tbody tr th {\n",
       "        vertical-align: top;\n",
       "    }\n",
       "\n",
       "    .dataframe thead th {\n",
       "        text-align: right;\n",
       "    }\n",
       "</style>\n",
       "<table border=\"1\" class=\"dataframe\">\n",
       "  <thead>\n",
       "    <tr style=\"text-align: right;\">\n",
       "      <th></th>\n",
       "      <th>CRIM</th>\n",
       "      <th>ZN</th>\n",
       "      <th>INDUS</th>\n",
       "      <th>CHAS</th>\n",
       "      <th>NOX</th>\n",
       "      <th>RM</th>\n",
       "      <th>AGE</th>\n",
       "      <th>DIS</th>\n",
       "      <th>RAD</th>\n",
       "      <th>TAX</th>\n",
       "      <th>PTRATIO</th>\n",
       "      <th>LSTAT</th>\n",
       "      <th>MEDV</th>\n",
       "    </tr>\n",
       "  </thead>\n",
       "  <tbody>\n",
       "    <tr>\n",
       "      <th>0</th>\n",
       "      <td>0.00632</td>\n",
       "      <td>18.0</td>\n",
       "      <td>2.31</td>\n",
       "      <td>0</td>\n",
       "      <td>0.538</td>\n",
       "      <td>6.575</td>\n",
       "      <td>65.2</td>\n",
       "      <td>4.0900</td>\n",
       "      <td>1</td>\n",
       "      <td>296.0</td>\n",
       "      <td>15.3</td>\n",
       "      <td>4.98</td>\n",
       "      <td>24.0</td>\n",
       "    </tr>\n",
       "    <tr>\n",
       "      <th>1</th>\n",
       "      <td>0.02731</td>\n",
       "      <td>0.0</td>\n",
       "      <td>7.07</td>\n",
       "      <td>0</td>\n",
       "      <td>0.469</td>\n",
       "      <td>6.421</td>\n",
       "      <td>78.9</td>\n",
       "      <td>4.9671</td>\n",
       "      <td>2</td>\n",
       "      <td>242.0</td>\n",
       "      <td>17.8</td>\n",
       "      <td>9.14</td>\n",
       "      <td>21.6</td>\n",
       "    </tr>\n",
       "    <tr>\n",
       "      <th>2</th>\n",
       "      <td>0.02729</td>\n",
       "      <td>0.0</td>\n",
       "      <td>7.07</td>\n",
       "      <td>0</td>\n",
       "      <td>0.469</td>\n",
       "      <td>7.185</td>\n",
       "      <td>61.1</td>\n",
       "      <td>4.9671</td>\n",
       "      <td>2</td>\n",
       "      <td>242.0</td>\n",
       "      <td>17.8</td>\n",
       "      <td>4.03</td>\n",
       "      <td>34.7</td>\n",
       "    </tr>\n",
       "    <tr>\n",
       "      <th>3</th>\n",
       "      <td>0.03237</td>\n",
       "      <td>0.0</td>\n",
       "      <td>2.18</td>\n",
       "      <td>0</td>\n",
       "      <td>0.458</td>\n",
       "      <td>6.998</td>\n",
       "      <td>45.8</td>\n",
       "      <td>6.0622</td>\n",
       "      <td>3</td>\n",
       "      <td>222.0</td>\n",
       "      <td>18.7</td>\n",
       "      <td>2.94</td>\n",
       "      <td>33.4</td>\n",
       "    </tr>\n",
       "    <tr>\n",
       "      <th>4</th>\n",
       "      <td>0.06905</td>\n",
       "      <td>0.0</td>\n",
       "      <td>2.18</td>\n",
       "      <td>0</td>\n",
       "      <td>0.458</td>\n",
       "      <td>7.147</td>\n",
       "      <td>54.2</td>\n",
       "      <td>6.0622</td>\n",
       "      <td>3</td>\n",
       "      <td>222.0</td>\n",
       "      <td>18.7</td>\n",
       "      <td>5.33</td>\n",
       "      <td>36.2</td>\n",
       "    </tr>\n",
       "    <tr>\n",
       "      <th>...</th>\n",
       "      <td>...</td>\n",
       "      <td>...</td>\n",
       "      <td>...</td>\n",
       "      <td>...</td>\n",
       "      <td>...</td>\n",
       "      <td>...</td>\n",
       "      <td>...</td>\n",
       "      <td>...</td>\n",
       "      <td>...</td>\n",
       "      <td>...</td>\n",
       "      <td>...</td>\n",
       "      <td>...</td>\n",
       "      <td>...</td>\n",
       "    </tr>\n",
       "    <tr>\n",
       "      <th>501</th>\n",
       "      <td>0.06263</td>\n",
       "      <td>0.0</td>\n",
       "      <td>11.93</td>\n",
       "      <td>0</td>\n",
       "      <td>0.573</td>\n",
       "      <td>6.593</td>\n",
       "      <td>69.1</td>\n",
       "      <td>2.4786</td>\n",
       "      <td>1</td>\n",
       "      <td>273.0</td>\n",
       "      <td>21.0</td>\n",
       "      <td>9.67</td>\n",
       "      <td>22.4</td>\n",
       "    </tr>\n",
       "    <tr>\n",
       "      <th>502</th>\n",
       "      <td>0.04527</td>\n",
       "      <td>0.0</td>\n",
       "      <td>11.93</td>\n",
       "      <td>0</td>\n",
       "      <td>0.573</td>\n",
       "      <td>6.120</td>\n",
       "      <td>76.7</td>\n",
       "      <td>2.2875</td>\n",
       "      <td>1</td>\n",
       "      <td>273.0</td>\n",
       "      <td>21.0</td>\n",
       "      <td>9.08</td>\n",
       "      <td>20.6</td>\n",
       "    </tr>\n",
       "    <tr>\n",
       "      <th>503</th>\n",
       "      <td>0.06076</td>\n",
       "      <td>0.0</td>\n",
       "      <td>11.93</td>\n",
       "      <td>0</td>\n",
       "      <td>0.573</td>\n",
       "      <td>6.976</td>\n",
       "      <td>91.0</td>\n",
       "      <td>2.1675</td>\n",
       "      <td>1</td>\n",
       "      <td>273.0</td>\n",
       "      <td>21.0</td>\n",
       "      <td>5.64</td>\n",
       "      <td>23.9</td>\n",
       "    </tr>\n",
       "    <tr>\n",
       "      <th>504</th>\n",
       "      <td>0.10959</td>\n",
       "      <td>0.0</td>\n",
       "      <td>11.93</td>\n",
       "      <td>0</td>\n",
       "      <td>0.573</td>\n",
       "      <td>6.794</td>\n",
       "      <td>89.3</td>\n",
       "      <td>2.3889</td>\n",
       "      <td>1</td>\n",
       "      <td>273.0</td>\n",
       "      <td>21.0</td>\n",
       "      <td>6.48</td>\n",
       "      <td>22.0</td>\n",
       "    </tr>\n",
       "    <tr>\n",
       "      <th>505</th>\n",
       "      <td>0.04741</td>\n",
       "      <td>0.0</td>\n",
       "      <td>11.93</td>\n",
       "      <td>0</td>\n",
       "      <td>0.573</td>\n",
       "      <td>6.030</td>\n",
       "      <td>80.8</td>\n",
       "      <td>2.5050</td>\n",
       "      <td>1</td>\n",
       "      <td>273.0</td>\n",
       "      <td>21.0</td>\n",
       "      <td>7.88</td>\n",
       "      <td>11.9</td>\n",
       "    </tr>\n",
       "  </tbody>\n",
       "</table>\n",
       "<p>506 rows × 13 columns</p>\n",
       "</div>"
      ],
      "text/plain": [
       "        CRIM    ZN  INDUS  CHAS    NOX     RM   AGE     DIS  RAD    TAX  \\\n",
       "0    0.00632  18.0   2.31     0  0.538  6.575  65.2  4.0900    1  296.0   \n",
       "1    0.02731   0.0   7.07     0  0.469  6.421  78.9  4.9671    2  242.0   \n",
       "2    0.02729   0.0   7.07     0  0.469  7.185  61.1  4.9671    2  242.0   \n",
       "3    0.03237   0.0   2.18     0  0.458  6.998  45.8  6.0622    3  222.0   \n",
       "4    0.06905   0.0   2.18     0  0.458  7.147  54.2  6.0622    3  222.0   \n",
       "..       ...   ...    ...   ...    ...    ...   ...     ...  ...    ...   \n",
       "501  0.06263   0.0  11.93     0  0.573  6.593  69.1  2.4786    1  273.0   \n",
       "502  0.04527   0.0  11.93     0  0.573  6.120  76.7  2.2875    1  273.0   \n",
       "503  0.06076   0.0  11.93     0  0.573  6.976  91.0  2.1675    1  273.0   \n",
       "504  0.10959   0.0  11.93     0  0.573  6.794  89.3  2.3889    1  273.0   \n",
       "505  0.04741   0.0  11.93     0  0.573  6.030  80.8  2.5050    1  273.0   \n",
       "\n",
       "     PTRATIO  LSTAT  MEDV  \n",
       "0       15.3   4.98  24.0  \n",
       "1       17.8   9.14  21.6  \n",
       "2       17.8   4.03  34.7  \n",
       "3       18.7   2.94  33.4  \n",
       "4       18.7   5.33  36.2  \n",
       "..       ...    ...   ...  \n",
       "501     21.0   9.67  22.4  \n",
       "502     21.0   9.08  20.6  \n",
       "503     21.0   5.64  23.9  \n",
       "504     21.0   6.48  22.0  \n",
       "505     21.0   7.88  11.9  \n",
       "\n",
       "[506 rows x 13 columns]"
      ]
     },
     "execution_count": 75,
     "metadata": {},
     "output_type": "execute_result"
    }
   ],
   "source": [
    "df"
   ]
  },
  {
   "cell_type": "code",
   "execution_count": 77,
   "metadata": {},
   "outputs": [],
   "source": [
    "n = df.shape[0]\n",
    "rs = np.random.RandomState(42)\n",
    "idxs = rs.permutation(n)\n",
    "s = int(n*0.7)\n",
    "tr = idxs[:s] # indices of the training set\n",
    "te = idxs[s:] # indices of the test set"
   ]
  },
  {
   "cell_type": "code",
   "execution_count": 78,
   "metadata": {},
   "outputs": [
    {
     "data": {
      "text/plain": [
       "(354, 152)"
      ]
     },
     "execution_count": 78,
     "metadata": {},
     "output_type": "execute_result"
    }
   ],
   "source": [
    "len(tr), len(te)"
   ]
  },
  {
   "cell_type": "code",
   "execution_count": 79,
   "metadata": {},
   "outputs": [
    {
     "data": {
      "text/plain": [
       "4.82601778299211"
      ]
     },
     "execution_count": 79,
     "metadata": {},
     "output_type": "execute_result"
    }
   ],
   "source": [
    "X2 = np.hstack([X, np.ones((X.shape[0], 1))])\n",
    "y = df['MEDV'].values\n",
    "w = np.linalg.solve(X2[tr].T @ X2[tr], X2[tr].T @ y[tr]) # optimal parameter vector\n",
    "p = X2 @ w                            # prediction\n",
    "RMSE_te = ((p[te] - y[te])**2).mean()**0.5       # root mean squared error\n",
    "RMSE_te"
   ]
  },
  {
   "cell_type": "code",
   "execution_count": null,
   "metadata": {},
   "outputs": [],
   "source": []
  },
  {
   "cell_type": "markdown",
   "metadata": {},
   "source": [
    "## [scikit-learn](https://scikit-learn.org/stable/)\n",
    "\n",
    "Scikit-learn is a popular open-source machine learning library in Python. It provides a range of supervised and unsupervised learning algorithms for tasks such as classification, regression, clustering, and dimensionality reduction. Scikit-learn also includes tools for model selection, preprocessing, and evaluation, making it a comprehensive library for building and evaluating machine learning models.\n",
    "\n",
    "- scikit-learn is based on NumPy, SciPy and matplotlib.\n",
    "- The import name of the package is `sklearn`.\n",
    "- Regressors and classifiers in scikit-learn always have a `fit()` and a `predict()` method.\n",
    "- The `fit()` methods requires 2 parameters: the input matrix $X$ and a target vector $y$. Calling the `fit()` method trains a model on the given data.\n",
    "- The `predict()` method requires an input matrix $X$ and returns the prediction of the trained model for the given inputs."
   ]
  },
  {
   "cell_type": "markdown",
   "metadata": {},
   "source": [
    "<img src=\"../_img/sklearn_api.jpg\" width=\"350px\" align=\"left\">"
   ]
  },
  {
   "cell_type": "markdown",
   "metadata": {},
   "source": [
    "**Execrice 6:** Repeat the previous experiments using scikit-learn!"
   ]
  },
  {
   "cell_type": "code",
   "execution_count": 80,
   "metadata": {},
   "outputs": [
    {
     "data": {
      "text/plain": [
       "'1.2.1'"
      ]
     },
     "execution_count": 80,
     "metadata": {},
     "output_type": "execute_result"
    }
   ],
   "source": [
    "# Query the version number of scikit-learn.\n",
    "import sklearn\n",
    "sklearn.__version__"
   ]
  },
  {
   "cell_type": "code",
   "execution_count": 81,
   "metadata": {},
   "outputs": [],
   "source": [
    "# This is how we could create a train-test split with scikit-learn.\n",
    "# However, we will keep using the original split to make the results comparable.\n",
    "\n",
    "from sklearn.model_selection import ShuffleSplit\n",
    "tr2, te2 = next(ShuffleSplit(random_state=42, test_size=0.3).split(X))"
   ]
  },
  {
   "cell_type": "code",
   "execution_count": 85,
   "metadata": {},
   "outputs": [],
   "source": [
    "# In scikit-learn, the closest thing to RMSE is mean_squared_error.\n",
    "from sklearn.metrics import mean_squared_error as mse\n",
    "from sklearn.linear_model import LinearRegression"
   ]
  },
  {
   "cell_type": "code",
   "execution_count": 86,
   "metadata": {},
   "outputs": [
    {
     "name": "stdout",
     "output_type": "stream",
     "text": [
      "CRIM 8.467038200100824\n",
      "ZN 8.570396495772854\n",
      "INDUS 8.04153105080589\n",
      "CHAS 9.045800910882107\n",
      "NOX 8.306881987569504\n",
      "RM 6.603071389222561\n",
      "AGE 8.510228018625199\n",
      "DIS 8.896422965780747\n",
      "RAD 8.492632800301259\n",
      "TAX 8.117097716353987\n",
      "PTRATIO 7.915314271320455\n",
      "LSTAT 6.20346413142642\n"
     ]
    }
   ],
   "source": [
    "# Univariate models.\n",
    "y = df['MEDV'].values\n",
    "\n",
    "for column in columns[:-1]:\n",
    "    x = df[[column]].values\n",
    "    re = LinearRegression()\n",
    "    re.fit(x, y)\n",
    "    p = re.predict(x)\n",
    "    RMSE = mse(y, p)**0.5\n",
    "    # w = (x @ y) / (x @ x) # optimal model parameter\n",
    "    # p = x * w          # prediction\n",
    "    # RMSE = ((p - y)**2).mean()**0.5 # root mean squared error\n",
    "    \n",
    "    print(column, RMSE)"
   ]
  },
  {
   "cell_type": "code",
   "execution_count": 88,
   "metadata": {},
   "outputs": [
    {
     "name": "stdout",
     "output_type": "stream",
     "text": [
      "5.065952606279903\n"
     ]
    }
   ],
   "source": [
    "# Multivariate model without bias, no train-test split.\n",
    "X = df[columns[:-1]].values\n",
    "y = df['MEDV'].values\n",
    "re = LinearRegression(fit_intercept=False)\n",
    "re.fit(X, y)\n",
    "p = re.predict(X)\n",
    "RMSE = mse(y, p)**0.5\n",
    "print(RMSE)"
   ]
  },
  {
   "cell_type": "code",
   "execution_count": 89,
   "metadata": {},
   "outputs": [
    {
     "name": "stdout",
     "output_type": "stream",
     "text": [
      "4.826017782992097\n"
     ]
    }
   ],
   "source": [
    "# Multivariate model with bias.\n",
    "X = df[columns[:-1]].values\n",
    "y = df['MEDV'].values\n",
    "re = LinearRegression()\n",
    "re.fit(X[tr], y[tr])\n",
    "p = re.predict(X)\n",
    "RMSE = mse(y[te], p[te])**0.5\n",
    "print(RMSE)"
   ]
  },
  {
   "cell_type": "code",
   "execution_count": null,
   "metadata": {},
   "outputs": [],
   "source": []
  }
 ],
 "metadata": {
  "kernelspec": {
   "display_name": "Python 3 (ipykernel)",
   "language": "python",
   "name": "python3"
  },
  "language_info": {
   "codemirror_mode": {
    "name": "ipython",
    "version": 3
   },
   "file_extension": ".py",
   "mimetype": "text/x-python",
   "name": "python",
   "nbconvert_exporter": "python",
   "pygments_lexer": "ipython3",
   "version": "3.8.0"
  }
 },
 "nbformat": 4,
 "nbformat_minor": 4
}
