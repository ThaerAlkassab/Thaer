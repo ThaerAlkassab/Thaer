{
 "cells": [
  {
   "cell_type": "markdown",
   "metadata": {},
   "source": [
    "## [Evaluation Metrics for Binary Classification](https://en.wikipedia.org/wiki/Evaluation_of_binary_classifiers)"
   ]
  },
  {
   "cell_type": "markdown",
   "metadata": {},
   "source": [
    "<div style=\"background-color: #FFC; border: 2px solid #AAA; border-radius: 10px; padding: 15px\">\n",
    "A classifier's behavior can be analyzed in detail using a <a href=\"https://en.wikipedia.org/wiki/Confusion_matrix\">confusion matrix</a>. It requires both the predicted and true labels of a dataset and shows the number of instances where the true label is A and the predicted label is B, for all combinations of (A, B). The rows of the matrix represent true labels, while the columns represent predicted labels. For binary classification, the confusion matrix is a 2×2 table that includes <b>TN</b> (true negatives), <b>FP</b> (false positives), <b>FN</b> (false negatives), and <b>TP</b> (true positives).\n",
    "</div>"
   ]
  },
  {
   "cell_type": "markdown",
   "metadata": {},
   "source": [
    "<table style=\"border: 1px dotted\">\n",
    "  <thead>\n",
    "    <tr>\n",
    "      <th></th>\n",
    "      <th>Predicted Negative</th>\n",
    "      <th>Predicted Positive</th>\n",
    "    </tr>\n",
    "  </thead>\n",
    "  <tbody>\n",
    "    <tr>\n",
    "      <th>Actual Negative</th>\n",
    "      <td style=\"text-align: center\">TN</td>\n",
    "      <td style=\"text-align: center\">FP</td>\n",
    "    </tr>\n",
    "    <tr>\n",
    "      <th>Actual Positive</th>\n",
    "      <td style=\"text-align: center\">FN</td>\n",
    "      <td style=\"text-align: center\">TP</td>\n",
    "    </tr>\n",
    "  </tbody>\n",
    "</table>"
   ]
  },
  {
   "cell_type": "markdown",
   "metadata": {},
   "source": [
    "<img src=\"../_img/bin_class_metrics_v3.jpg\" width=\"600px\" style=\"border: 1px dotted\"/>"
   ]
  },
  {
   "cell_type": "markdown",
   "metadata": {},
   "source": [
    "**Exercise 1**: The file [ctg_data.txt](../_data/ctg_data.txt) contains data about [cardiotocographic](https://en.wikipedia.org/wiki/Cardiotocography) examinations. See [ctg_names.txt](../_data/ctg_names.txt) for more details. Build a classifier that estimates if the value of the NSP column is 1 (meaning \"normal\") or not! Use 5-fold cross-validation for evaluation! Measure the accuracy, balanced accuracy, precision, recall, and F1-score of the trained model!"
   ]
  },
  {
   "cell_type": "code",
   "execution_count": 1,
   "metadata": {},
   "outputs": [
    {
     "data": {
      "text/html": [
       "<div>\n",
       "<style scoped>\n",
       "    .dataframe tbody tr th:only-of-type {\n",
       "        vertical-align: middle;\n",
       "    }\n",
       "\n",
       "    .dataframe tbody tr th {\n",
       "        vertical-align: top;\n",
       "    }\n",
       "\n",
       "    .dataframe thead th {\n",
       "        text-align: right;\n",
       "    }\n",
       "</style>\n",
       "<table border=\"1\" class=\"dataframe\">\n",
       "  <thead>\n",
       "    <tr style=\"text-align: right;\">\n",
       "      <th></th>\n",
       "      <th>LB</th>\n",
       "      <th>AC</th>\n",
       "      <th>FM</th>\n",
       "      <th>UC</th>\n",
       "      <th>DL</th>\n",
       "      <th>DS</th>\n",
       "      <th>DP</th>\n",
       "      <th>ASTV</th>\n",
       "      <th>MSTV</th>\n",
       "      <th>ALTV</th>\n",
       "      <th>...</th>\n",
       "      <th>Min</th>\n",
       "      <th>Max</th>\n",
       "      <th>Nmax</th>\n",
       "      <th>Nzeros</th>\n",
       "      <th>Mode</th>\n",
       "      <th>Mean</th>\n",
       "      <th>Median</th>\n",
       "      <th>Variance</th>\n",
       "      <th>Tendency</th>\n",
       "      <th>NSP</th>\n",
       "    </tr>\n",
       "  </thead>\n",
       "  <tbody>\n",
       "    <tr>\n",
       "      <th>282</th>\n",
       "      <td>133</td>\n",
       "      <td>0.002</td>\n",
       "      <td>0.010</td>\n",
       "      <td>0.003</td>\n",
       "      <td>0.002</td>\n",
       "      <td>0.0</td>\n",
       "      <td>0.000</td>\n",
       "      <td>46</td>\n",
       "      <td>1.1</td>\n",
       "      <td>0</td>\n",
       "      <td>...</td>\n",
       "      <td>95</td>\n",
       "      <td>164</td>\n",
       "      <td>5</td>\n",
       "      <td>0</td>\n",
       "      <td>139</td>\n",
       "      <td>135</td>\n",
       "      <td>138</td>\n",
       "      <td>9</td>\n",
       "      <td>0</td>\n",
       "      <td>1</td>\n",
       "    </tr>\n",
       "    <tr>\n",
       "      <th>1999</th>\n",
       "      <td>125</td>\n",
       "      <td>0.000</td>\n",
       "      <td>0.001</td>\n",
       "      <td>0.009</td>\n",
       "      <td>0.008</td>\n",
       "      <td>0.0</td>\n",
       "      <td>0.000</td>\n",
       "      <td>62</td>\n",
       "      <td>1.7</td>\n",
       "      <td>0</td>\n",
       "      <td>...</td>\n",
       "      <td>68</td>\n",
       "      <td>140</td>\n",
       "      <td>5</td>\n",
       "      <td>0</td>\n",
       "      <td>130</td>\n",
       "      <td>116</td>\n",
       "      <td>125</td>\n",
       "      <td>29</td>\n",
       "      <td>1</td>\n",
       "      <td>1</td>\n",
       "    </tr>\n",
       "    <tr>\n",
       "      <th>1709</th>\n",
       "      <td>131</td>\n",
       "      <td>0.004</td>\n",
       "      <td>0.003</td>\n",
       "      <td>0.004</td>\n",
       "      <td>0.005</td>\n",
       "      <td>0.0</td>\n",
       "      <td>0.001</td>\n",
       "      <td>60</td>\n",
       "      <td>2.1</td>\n",
       "      <td>0</td>\n",
       "      <td>...</td>\n",
       "      <td>78</td>\n",
       "      <td>168</td>\n",
       "      <td>8</td>\n",
       "      <td>0</td>\n",
       "      <td>133</td>\n",
       "      <td>127</td>\n",
       "      <td>132</td>\n",
       "      <td>21</td>\n",
       "      <td>0</td>\n",
       "      <td>1</td>\n",
       "    </tr>\n",
       "    <tr>\n",
       "      <th>988</th>\n",
       "      <td>131</td>\n",
       "      <td>0.011</td>\n",
       "      <td>0.000</td>\n",
       "      <td>0.005</td>\n",
       "      <td>0.000</td>\n",
       "      <td>0.0</td>\n",
       "      <td>0.000</td>\n",
       "      <td>29</td>\n",
       "      <td>1.3</td>\n",
       "      <td>0</td>\n",
       "      <td>...</td>\n",
       "      <td>82</td>\n",
       "      <td>171</td>\n",
       "      <td>8</td>\n",
       "      <td>0</td>\n",
       "      <td>143</td>\n",
       "      <td>145</td>\n",
       "      <td>145</td>\n",
       "      <td>9</td>\n",
       "      <td>1</td>\n",
       "      <td>1</td>\n",
       "    </tr>\n",
       "    <tr>\n",
       "      <th>2018</th>\n",
       "      <td>125</td>\n",
       "      <td>0.000</td>\n",
       "      <td>0.000</td>\n",
       "      <td>0.008</td>\n",
       "      <td>0.007</td>\n",
       "      <td>0.0</td>\n",
       "      <td>0.001</td>\n",
       "      <td>64</td>\n",
       "      <td>1.3</td>\n",
       "      <td>0</td>\n",
       "      <td>...</td>\n",
       "      <td>78</td>\n",
       "      <td>155</td>\n",
       "      <td>4</td>\n",
       "      <td>0</td>\n",
       "      <td>114</td>\n",
       "      <td>111</td>\n",
       "      <td>114</td>\n",
       "      <td>7</td>\n",
       "      <td>0</td>\n",
       "      <td>1</td>\n",
       "    </tr>\n",
       "    <tr>\n",
       "      <th>...</th>\n",
       "      <td>...</td>\n",
       "      <td>...</td>\n",
       "      <td>...</td>\n",
       "      <td>...</td>\n",
       "      <td>...</td>\n",
       "      <td>...</td>\n",
       "      <td>...</td>\n",
       "      <td>...</td>\n",
       "      <td>...</td>\n",
       "      <td>...</td>\n",
       "      <td>...</td>\n",
       "      <td>...</td>\n",
       "      <td>...</td>\n",
       "      <td>...</td>\n",
       "      <td>...</td>\n",
       "      <td>...</td>\n",
       "      <td>...</td>\n",
       "      <td>...</td>\n",
       "      <td>...</td>\n",
       "      <td>...</td>\n",
       "      <td>...</td>\n",
       "    </tr>\n",
       "    <tr>\n",
       "      <th>1638</th>\n",
       "      <td>130</td>\n",
       "      <td>0.009</td>\n",
       "      <td>0.001</td>\n",
       "      <td>0.004</td>\n",
       "      <td>0.001</td>\n",
       "      <td>0.0</td>\n",
       "      <td>0.000</td>\n",
       "      <td>52</td>\n",
       "      <td>1.3</td>\n",
       "      <td>0</td>\n",
       "      <td>...</td>\n",
       "      <td>73</td>\n",
       "      <td>172</td>\n",
       "      <td>6</td>\n",
       "      <td>0</td>\n",
       "      <td>144</td>\n",
       "      <td>141</td>\n",
       "      <td>144</td>\n",
       "      <td>16</td>\n",
       "      <td>1</td>\n",
       "      <td>1</td>\n",
       "    </tr>\n",
       "    <tr>\n",
       "      <th>1095</th>\n",
       "      <td>123</td>\n",
       "      <td>0.012</td>\n",
       "      <td>0.000</td>\n",
       "      <td>0.002</td>\n",
       "      <td>0.000</td>\n",
       "      <td>0.0</td>\n",
       "      <td>0.000</td>\n",
       "      <td>22</td>\n",
       "      <td>2.2</td>\n",
       "      <td>0</td>\n",
       "      <td>...</td>\n",
       "      <td>100</td>\n",
       "      <td>152</td>\n",
       "      <td>2</td>\n",
       "      <td>0</td>\n",
       "      <td>131</td>\n",
       "      <td>132</td>\n",
       "      <td>133</td>\n",
       "      <td>4</td>\n",
       "      <td>0</td>\n",
       "      <td>1</td>\n",
       "    </tr>\n",
       "    <tr>\n",
       "      <th>1130</th>\n",
       "      <td>122</td>\n",
       "      <td>0.005</td>\n",
       "      <td>0.000</td>\n",
       "      <td>0.004</td>\n",
       "      <td>0.005</td>\n",
       "      <td>0.0</td>\n",
       "      <td>0.000</td>\n",
       "      <td>20</td>\n",
       "      <td>2.6</td>\n",
       "      <td>0</td>\n",
       "      <td>...</td>\n",
       "      <td>60</td>\n",
       "      <td>158</td>\n",
       "      <td>6</td>\n",
       "      <td>0</td>\n",
       "      <td>131</td>\n",
       "      <td>121</td>\n",
       "      <td>126</td>\n",
       "      <td>31</td>\n",
       "      <td>0</td>\n",
       "      <td>1</td>\n",
       "    </tr>\n",
       "    <tr>\n",
       "      <th>1294</th>\n",
       "      <td>115</td>\n",
       "      <td>0.003</td>\n",
       "      <td>0.000</td>\n",
       "      <td>0.008</td>\n",
       "      <td>0.002</td>\n",
       "      <td>0.0</td>\n",
       "      <td>0.001</td>\n",
       "      <td>24</td>\n",
       "      <td>1.6</td>\n",
       "      <td>0</td>\n",
       "      <td>...</td>\n",
       "      <td>71</td>\n",
       "      <td>179</td>\n",
       "      <td>3</td>\n",
       "      <td>2</td>\n",
       "      <td>133</td>\n",
       "      <td>122</td>\n",
       "      <td>129</td>\n",
       "      <td>45</td>\n",
       "      <td>0</td>\n",
       "      <td>1</td>\n",
       "    </tr>\n",
       "    <tr>\n",
       "      <th>860</th>\n",
       "      <td>142</td>\n",
       "      <td>0.001</td>\n",
       "      <td>0.000</td>\n",
       "      <td>0.004</td>\n",
       "      <td>0.000</td>\n",
       "      <td>0.0</td>\n",
       "      <td>0.000</td>\n",
       "      <td>39</td>\n",
       "      <td>0.9</td>\n",
       "      <td>0</td>\n",
       "      <td>...</td>\n",
       "      <td>127</td>\n",
       "      <td>159</td>\n",
       "      <td>1</td>\n",
       "      <td>0</td>\n",
       "      <td>151</td>\n",
       "      <td>147</td>\n",
       "      <td>149</td>\n",
       "      <td>4</td>\n",
       "      <td>1</td>\n",
       "      <td>1</td>\n",
       "    </tr>\n",
       "  </tbody>\n",
       "</table>\n",
       "<p>2126 rows × 22 columns</p>\n",
       "</div>"
      ],
      "text/plain": [
       "       LB     AC     FM     UC     DL   DS     DP  ASTV  MSTV  ALTV  ...  Min  \\\n",
       "282   133  0.002  0.010  0.003  0.002  0.0  0.000    46   1.1     0  ...   95   \n",
       "1999  125  0.000  0.001  0.009  0.008  0.0  0.000    62   1.7     0  ...   68   \n",
       "1709  131  0.004  0.003  0.004  0.005  0.0  0.001    60   2.1     0  ...   78   \n",
       "988   131  0.011  0.000  0.005  0.000  0.0  0.000    29   1.3     0  ...   82   \n",
       "2018  125  0.000  0.000  0.008  0.007  0.0  0.001    64   1.3     0  ...   78   \n",
       "...   ...    ...    ...    ...    ...  ...    ...   ...   ...   ...  ...  ...   \n",
       "1638  130  0.009  0.001  0.004  0.001  0.0  0.000    52   1.3     0  ...   73   \n",
       "1095  123  0.012  0.000  0.002  0.000  0.0  0.000    22   2.2     0  ...  100   \n",
       "1130  122  0.005  0.000  0.004  0.005  0.0  0.000    20   2.6     0  ...   60   \n",
       "1294  115  0.003  0.000  0.008  0.002  0.0  0.001    24   1.6     0  ...   71   \n",
       "860   142  0.001  0.000  0.004  0.000  0.0  0.000    39   0.9     0  ...  127   \n",
       "\n",
       "      Max  Nmax  Nzeros  Mode  Mean  Median  Variance  Tendency  NSP  \n",
       "282   164     5       0   139   135     138         9         0    1  \n",
       "1999  140     5       0   130   116     125        29         1    1  \n",
       "1709  168     8       0   133   127     132        21         0    1  \n",
       "988   171     8       0   143   145     145         9         1    1  \n",
       "2018  155     4       0   114   111     114         7         0    1  \n",
       "...   ...   ...     ...   ...   ...     ...       ...       ...  ...  \n",
       "1638  172     6       0   144   141     144        16         1    1  \n",
       "1095  152     2       0   131   132     133         4         0    1  \n",
       "1130  158     6       0   131   121     126        31         0    1  \n",
       "1294  179     3       2   133   122     129        45         0    1  \n",
       "860   159     1       0   151   147     149         4         1    1  \n",
       "\n",
       "[2126 rows x 22 columns]"
      ]
     },
     "execution_count": 1,
     "metadata": {},
     "output_type": "execute_result"
    }
   ],
   "source": [
    "# Load data.\n",
    "import pandas as pd\n",
    "df = pd.read_csv('ctg_data.txt')\n",
    "df = df.sample(len(df), random_state=42) # permute rows\n",
    "df"
   ]
  },
  {
   "cell_type": "code",
   "execution_count": 2,
   "metadata": {},
   "outputs": [
    {
     "name": "stdout",
     "output_type": "stream",
     "text": [
      "<class 'pandas.core.frame.DataFrame'>\n",
      "Int64Index: 2126 entries, 282 to 860\n",
      "Data columns (total 22 columns):\n",
      " #   Column    Non-Null Count  Dtype  \n",
      "---  ------    --------------  -----  \n",
      " 0   LB        2126 non-null   int64  \n",
      " 1   AC        2126 non-null   float64\n",
      " 2   FM        2126 non-null   float64\n",
      " 3   UC        2126 non-null   float64\n",
      " 4   DL        2126 non-null   float64\n",
      " 5   DS        2126 non-null   float64\n",
      " 6   DP        2126 non-null   float64\n",
      " 7   ASTV      2126 non-null   int64  \n",
      " 8   MSTV      2126 non-null   float64\n",
      " 9   ALTV      2126 non-null   int64  \n",
      " 10  MLTV      2126 non-null   float64\n",
      " 11  Width     2126 non-null   int64  \n",
      " 12  Min       2126 non-null   int64  \n",
      " 13  Max       2126 non-null   int64  \n",
      " 14  Nmax      2126 non-null   int64  \n",
      " 15  Nzeros    2126 non-null   int64  \n",
      " 16  Mode      2126 non-null   int64  \n",
      " 17  Mean      2126 non-null   int64  \n",
      " 18  Median    2126 non-null   int64  \n",
      " 19  Variance  2126 non-null   int64  \n",
      " 20  Tendency  2126 non-null   int64  \n",
      " 21  NSP       2126 non-null   int64  \n",
      "dtypes: float64(8), int64(14)\n",
      "memory usage: 382.0 KB\n"
     ]
    }
   ],
   "source": [
    "df.info()"
   ]
  },
  {
   "cell_type": "code",
   "execution_count": 3,
   "metadata": {},
   "outputs": [
    {
     "data": {
      "text/html": [
       "<div>\n",
       "<style scoped>\n",
       "    .dataframe tbody tr th:only-of-type {\n",
       "        vertical-align: middle;\n",
       "    }\n",
       "\n",
       "    .dataframe tbody tr th {\n",
       "        vertical-align: top;\n",
       "    }\n",
       "\n",
       "    .dataframe thead th {\n",
       "        text-align: right;\n",
       "    }\n",
       "</style>\n",
       "<table border=\"1\" class=\"dataframe\">\n",
       "  <thead>\n",
       "    <tr style=\"text-align: right;\">\n",
       "      <th></th>\n",
       "      <th>count</th>\n",
       "      <th>mean</th>\n",
       "      <th>std</th>\n",
       "      <th>min</th>\n",
       "      <th>25%</th>\n",
       "      <th>50%</th>\n",
       "      <th>75%</th>\n",
       "      <th>max</th>\n",
       "    </tr>\n",
       "  </thead>\n",
       "  <tbody>\n",
       "    <tr>\n",
       "      <th>LB</th>\n",
       "      <td>2126.0</td>\n",
       "      <td>133.303857</td>\n",
       "      <td>9.840844</td>\n",
       "      <td>106.0</td>\n",
       "      <td>126.000</td>\n",
       "      <td>133.000</td>\n",
       "      <td>140.000</td>\n",
       "      <td>160.000</td>\n",
       "    </tr>\n",
       "    <tr>\n",
       "      <th>AC</th>\n",
       "      <td>2126.0</td>\n",
       "      <td>0.003178</td>\n",
       "      <td>0.003866</td>\n",
       "      <td>0.0</td>\n",
       "      <td>0.000</td>\n",
       "      <td>0.002</td>\n",
       "      <td>0.006</td>\n",
       "      <td>0.019</td>\n",
       "    </tr>\n",
       "    <tr>\n",
       "      <th>FM</th>\n",
       "      <td>2126.0</td>\n",
       "      <td>0.009481</td>\n",
       "      <td>0.046666</td>\n",
       "      <td>0.0</td>\n",
       "      <td>0.000</td>\n",
       "      <td>0.000</td>\n",
       "      <td>0.003</td>\n",
       "      <td>0.481</td>\n",
       "    </tr>\n",
       "    <tr>\n",
       "      <th>UC</th>\n",
       "      <td>2126.0</td>\n",
       "      <td>0.004366</td>\n",
       "      <td>0.002946</td>\n",
       "      <td>0.0</td>\n",
       "      <td>0.002</td>\n",
       "      <td>0.004</td>\n",
       "      <td>0.007</td>\n",
       "      <td>0.015</td>\n",
       "    </tr>\n",
       "    <tr>\n",
       "      <th>DL</th>\n",
       "      <td>2126.0</td>\n",
       "      <td>0.001889</td>\n",
       "      <td>0.002960</td>\n",
       "      <td>0.0</td>\n",
       "      <td>0.000</td>\n",
       "      <td>0.000</td>\n",
       "      <td>0.003</td>\n",
       "      <td>0.015</td>\n",
       "    </tr>\n",
       "    <tr>\n",
       "      <th>DS</th>\n",
       "      <td>2126.0</td>\n",
       "      <td>0.000003</td>\n",
       "      <td>0.000057</td>\n",
       "      <td>0.0</td>\n",
       "      <td>0.000</td>\n",
       "      <td>0.000</td>\n",
       "      <td>0.000</td>\n",
       "      <td>0.001</td>\n",
       "    </tr>\n",
       "    <tr>\n",
       "      <th>DP</th>\n",
       "      <td>2126.0</td>\n",
       "      <td>0.000159</td>\n",
       "      <td>0.000590</td>\n",
       "      <td>0.0</td>\n",
       "      <td>0.000</td>\n",
       "      <td>0.000</td>\n",
       "      <td>0.000</td>\n",
       "      <td>0.005</td>\n",
       "    </tr>\n",
       "    <tr>\n",
       "      <th>ASTV</th>\n",
       "      <td>2126.0</td>\n",
       "      <td>46.990122</td>\n",
       "      <td>17.192814</td>\n",
       "      <td>12.0</td>\n",
       "      <td>32.000</td>\n",
       "      <td>49.000</td>\n",
       "      <td>61.000</td>\n",
       "      <td>87.000</td>\n",
       "    </tr>\n",
       "    <tr>\n",
       "      <th>MSTV</th>\n",
       "      <td>2126.0</td>\n",
       "      <td>1.332785</td>\n",
       "      <td>0.883241</td>\n",
       "      <td>0.2</td>\n",
       "      <td>0.700</td>\n",
       "      <td>1.200</td>\n",
       "      <td>1.700</td>\n",
       "      <td>7.000</td>\n",
       "    </tr>\n",
       "    <tr>\n",
       "      <th>ALTV</th>\n",
       "      <td>2126.0</td>\n",
       "      <td>9.846660</td>\n",
       "      <td>18.396880</td>\n",
       "      <td>0.0</td>\n",
       "      <td>0.000</td>\n",
       "      <td>0.000</td>\n",
       "      <td>11.000</td>\n",
       "      <td>91.000</td>\n",
       "    </tr>\n",
       "    <tr>\n",
       "      <th>MLTV</th>\n",
       "      <td>2126.0</td>\n",
       "      <td>8.187629</td>\n",
       "      <td>5.628247</td>\n",
       "      <td>0.0</td>\n",
       "      <td>4.600</td>\n",
       "      <td>7.400</td>\n",
       "      <td>10.800</td>\n",
       "      <td>50.700</td>\n",
       "    </tr>\n",
       "    <tr>\n",
       "      <th>Width</th>\n",
       "      <td>2126.0</td>\n",
       "      <td>70.445908</td>\n",
       "      <td>38.955693</td>\n",
       "      <td>3.0</td>\n",
       "      <td>37.000</td>\n",
       "      <td>67.500</td>\n",
       "      <td>100.000</td>\n",
       "      <td>180.000</td>\n",
       "    </tr>\n",
       "    <tr>\n",
       "      <th>Min</th>\n",
       "      <td>2126.0</td>\n",
       "      <td>93.579492</td>\n",
       "      <td>29.560212</td>\n",
       "      <td>50.0</td>\n",
       "      <td>67.000</td>\n",
       "      <td>93.000</td>\n",
       "      <td>120.000</td>\n",
       "      <td>159.000</td>\n",
       "    </tr>\n",
       "    <tr>\n",
       "      <th>Max</th>\n",
       "      <td>2126.0</td>\n",
       "      <td>164.025400</td>\n",
       "      <td>17.944183</td>\n",
       "      <td>122.0</td>\n",
       "      <td>152.000</td>\n",
       "      <td>162.000</td>\n",
       "      <td>174.000</td>\n",
       "      <td>238.000</td>\n",
       "    </tr>\n",
       "    <tr>\n",
       "      <th>Nmax</th>\n",
       "      <td>2126.0</td>\n",
       "      <td>4.068203</td>\n",
       "      <td>2.949386</td>\n",
       "      <td>0.0</td>\n",
       "      <td>2.000</td>\n",
       "      <td>3.000</td>\n",
       "      <td>6.000</td>\n",
       "      <td>18.000</td>\n",
       "    </tr>\n",
       "    <tr>\n",
       "      <th>Nzeros</th>\n",
       "      <td>2126.0</td>\n",
       "      <td>0.323612</td>\n",
       "      <td>0.706059</td>\n",
       "      <td>0.0</td>\n",
       "      <td>0.000</td>\n",
       "      <td>0.000</td>\n",
       "      <td>0.000</td>\n",
       "      <td>10.000</td>\n",
       "    </tr>\n",
       "    <tr>\n",
       "      <th>Mode</th>\n",
       "      <td>2126.0</td>\n",
       "      <td>137.452023</td>\n",
       "      <td>16.381289</td>\n",
       "      <td>60.0</td>\n",
       "      <td>129.000</td>\n",
       "      <td>139.000</td>\n",
       "      <td>148.000</td>\n",
       "      <td>187.000</td>\n",
       "    </tr>\n",
       "    <tr>\n",
       "      <th>Mean</th>\n",
       "      <td>2126.0</td>\n",
       "      <td>134.610536</td>\n",
       "      <td>15.593596</td>\n",
       "      <td>73.0</td>\n",
       "      <td>125.000</td>\n",
       "      <td>136.000</td>\n",
       "      <td>145.000</td>\n",
       "      <td>182.000</td>\n",
       "    </tr>\n",
       "    <tr>\n",
       "      <th>Median</th>\n",
       "      <td>2126.0</td>\n",
       "      <td>138.090310</td>\n",
       "      <td>14.466589</td>\n",
       "      <td>77.0</td>\n",
       "      <td>129.000</td>\n",
       "      <td>139.000</td>\n",
       "      <td>148.000</td>\n",
       "      <td>186.000</td>\n",
       "    </tr>\n",
       "    <tr>\n",
       "      <th>Variance</th>\n",
       "      <td>2126.0</td>\n",
       "      <td>18.808090</td>\n",
       "      <td>28.977636</td>\n",
       "      <td>0.0</td>\n",
       "      <td>2.000</td>\n",
       "      <td>7.000</td>\n",
       "      <td>24.000</td>\n",
       "      <td>269.000</td>\n",
       "    </tr>\n",
       "    <tr>\n",
       "      <th>Tendency</th>\n",
       "      <td>2126.0</td>\n",
       "      <td>0.320320</td>\n",
       "      <td>0.610829</td>\n",
       "      <td>-1.0</td>\n",
       "      <td>0.000</td>\n",
       "      <td>0.000</td>\n",
       "      <td>1.000</td>\n",
       "      <td>1.000</td>\n",
       "    </tr>\n",
       "    <tr>\n",
       "      <th>NSP</th>\n",
       "      <td>2126.0</td>\n",
       "      <td>1.304327</td>\n",
       "      <td>0.614377</td>\n",
       "      <td>1.0</td>\n",
       "      <td>1.000</td>\n",
       "      <td>1.000</td>\n",
       "      <td>1.000</td>\n",
       "      <td>3.000</td>\n",
       "    </tr>\n",
       "  </tbody>\n",
       "</table>\n",
       "</div>"
      ],
      "text/plain": [
       "           count        mean        std    min      25%      50%      75%  \\\n",
       "LB        2126.0  133.303857   9.840844  106.0  126.000  133.000  140.000   \n",
       "AC        2126.0    0.003178   0.003866    0.0    0.000    0.002    0.006   \n",
       "FM        2126.0    0.009481   0.046666    0.0    0.000    0.000    0.003   \n",
       "UC        2126.0    0.004366   0.002946    0.0    0.002    0.004    0.007   \n",
       "DL        2126.0    0.001889   0.002960    0.0    0.000    0.000    0.003   \n",
       "DS        2126.0    0.000003   0.000057    0.0    0.000    0.000    0.000   \n",
       "DP        2126.0    0.000159   0.000590    0.0    0.000    0.000    0.000   \n",
       "ASTV      2126.0   46.990122  17.192814   12.0   32.000   49.000   61.000   \n",
       "MSTV      2126.0    1.332785   0.883241    0.2    0.700    1.200    1.700   \n",
       "ALTV      2126.0    9.846660  18.396880    0.0    0.000    0.000   11.000   \n",
       "MLTV      2126.0    8.187629   5.628247    0.0    4.600    7.400   10.800   \n",
       "Width     2126.0   70.445908  38.955693    3.0   37.000   67.500  100.000   \n",
       "Min       2126.0   93.579492  29.560212   50.0   67.000   93.000  120.000   \n",
       "Max       2126.0  164.025400  17.944183  122.0  152.000  162.000  174.000   \n",
       "Nmax      2126.0    4.068203   2.949386    0.0    2.000    3.000    6.000   \n",
       "Nzeros    2126.0    0.323612   0.706059    0.0    0.000    0.000    0.000   \n",
       "Mode      2126.0  137.452023  16.381289   60.0  129.000  139.000  148.000   \n",
       "Mean      2126.0  134.610536  15.593596   73.0  125.000  136.000  145.000   \n",
       "Median    2126.0  138.090310  14.466589   77.0  129.000  139.000  148.000   \n",
       "Variance  2126.0   18.808090  28.977636    0.0    2.000    7.000   24.000   \n",
       "Tendency  2126.0    0.320320   0.610829   -1.0    0.000    0.000    1.000   \n",
       "NSP       2126.0    1.304327   0.614377    1.0    1.000    1.000    1.000   \n",
       "\n",
       "              max  \n",
       "LB        160.000  \n",
       "AC          0.019  \n",
       "FM          0.481  \n",
       "UC          0.015  \n",
       "DL          0.015  \n",
       "DS          0.001  \n",
       "DP          0.005  \n",
       "ASTV       87.000  \n",
       "MSTV        7.000  \n",
       "ALTV       91.000  \n",
       "MLTV       50.700  \n",
       "Width     180.000  \n",
       "Min       159.000  \n",
       "Max       238.000  \n",
       "Nmax       18.000  \n",
       "Nzeros     10.000  \n",
       "Mode      187.000  \n",
       "Mean      182.000  \n",
       "Median    186.000  \n",
       "Variance  269.000  \n",
       "Tendency    1.000  \n",
       "NSP         3.000  "
      ]
     },
     "execution_count": 3,
     "metadata": {},
     "output_type": "execute_result"
    }
   ],
   "source": [
    "df.describe().T"
   ]
  },
  {
   "cell_type": "code",
   "execution_count": 4,
   "metadata": {},
   "outputs": [
    {
     "data": {
      "text/plain": [
       "1    1655\n",
       "2     295\n",
       "3     176\n",
       "Name: NSP, dtype: int64"
      ]
     },
     "execution_count": 4,
     "metadata": {},
     "output_type": "execute_result"
    }
   ],
   "source": [
    "df['NSP'].value_counts()"
   ]
  },
  {
   "cell_type": "code",
   "execution_count": 5,
   "metadata": {},
   "outputs": [],
   "source": [
    "X = df[df.columns[:-1]].values           # input matrix\n",
    "y = (df['NSP'] > 1).astype('int').values # target vector"
   ]
  },
  {
   "cell_type": "code",
   "execution_count": 6,
   "metadata": {},
   "outputs": [
    {
     "data": {
      "text/plain": [
       "((2126, 21), (2126,), 0.2215428033866416)"
      ]
     },
     "execution_count": 6,
     "metadata": {},
     "output_type": "execute_result"
    }
   ],
   "source": [
    "# standardize input matrix\n",
    "from sklearn.preprocessing import StandardScaler\n",
    "\n",
    "X = StandardScaler().fit_transform(X)\n",
    "\n",
    "X.shape, y.shape, y.mean()"
   ]
  },
  {
   "cell_type": "code",
   "execution_count": 7,
   "metadata": {},
   "outputs": [
    {
     "data": {
      "text/plain": [
       "((1488,), (638,))"
      ]
     },
     "execution_count": 7,
     "metadata": {},
     "output_type": "execute_result"
    }
   ],
   "source": [
    "# use another way\n",
    "# Build a classifier that estimates if the value of the NSP column is 1 (meaning \"normal\") or not! Use 70%-30% train-test split \n",
    "# for evaluation! Measure the accuracy, balanced accuracy, precision, recall, and F1-score of the trained model!\n",
    "\n",
    "# generate train-test split\n",
    "from sklearn.model_selection import ShuffleSplit\n",
    "\n",
    "def gen_split(X):\n",
    "     return next(ShuffleSplit(test_size=0.3).split(X)) # (the data is already permuted)\n",
    "\n",
    "tr, te = gen_split(X)\n",
    "tr.shape, te.shape"
   ]
  },
  {
   "cell_type": "code",
   "execution_count": 8,
   "metadata": {},
   "outputs": [],
   "source": [
    "from sklearn.ensemble import GradientBoostingClassifier\n",
    "from sklearn.linear_model import LogisticRegression\n",
    "from sklearn.metrics import accuracy_score, balanced_accuracy_score, precision_score, recall_score, f1_score\n",
    "\n",
    "def evaluate(cl, X, y):\n",
    "    tr, te = gen_split(X)\n",
    "    cl.fit(X[tr], y[tr])\n",
    "    yhat = cl.predict(X)\n",
    "    return {\n",
    "        'acc': accuracy_score(y[te], yhat[te]),\n",
    "        'bal_acc': balanced_accuracy_score(y[te], yhat[te]),\n",
    "        'prec': precision_score(y[te], yhat[te]),\n",
    "        'rec': recall_score(y[te], yhat[te]),\n",
    "        'f1': f1_score(y[te], yhat[te])\n",
    "    }"
   ]
  },
  {
   "cell_type": "code",
   "execution_count": 9,
   "metadata": {},
   "outputs": [
    {
     "data": {
      "text/plain": [
       "{'acc': 0.9435736677115988,\n",
       " 'bal_acc': 0.9050544288359907,\n",
       " 'prec': 0.88,\n",
       " 'rec': 0.8396946564885496,\n",
       " 'f1': 0.859375}"
      ]
     },
     "execution_count": 9,
     "metadata": {},
     "output_type": "execute_result"
    }
   ],
   "source": [
    "evaluate(GradientBoostingClassifier(random_state=42), X, y)"
   ]
  },
  {
   "cell_type": "code",
   "execution_count": 10,
   "metadata": {},
   "outputs": [
    {
     "data": {
      "text/plain": [
       "{'acc': 0.8949843260188087,\n",
       " 'bal_acc': 0.8377366609294321,\n",
       " 'prec': 0.7744360902255639,\n",
       " 'rec': 0.7357142857142858,\n",
       " 'f1': 0.7545787545787546}"
      ]
     },
     "execution_count": 10,
     "metadata": {},
     "output_type": "execute_result"
    }
   ],
   "source": [
    "evaluate(LogisticRegression(), X, y)"
   ]
  },
  {
   "cell_type": "code",
   "execution_count": 11,
   "metadata": {},
   "outputs": [],
   "source": [
    "# Build a classifier that estimates if the value of the NSP column is 1 (meaning \"normal\") or not! Use 5-fold cross-validation \n",
    "#for evaluation! Measure the accuracy, balanced accuracy, precision, recall, and F1-score of the trained model!\n",
    "from sklearn.model_selection import StratifiedKFold\n",
    "from sklearn.ensemble import GradientBoostingClassifier\n",
    "from sklearn.linear_model import LogisticRegression\n",
    "from sklearn.model_selection import cross_val_score\n",
    "\n",
    "cv = StratifiedKFold(5, shuffle=True, random_state=42) # splitter object"
   ]
  },
  {
   "cell_type": "code",
   "execution_count": 12,
   "metadata": {
    "scrolled": true
   },
   "outputs": [
    {
     "data": {
      "text/plain": [
       "0.8587890372585705"
      ]
     },
     "execution_count": 12,
     "metadata": {},
     "output_type": "execute_result"
    }
   ],
   "source": [
    "cross_val_score(LogisticRegression(solver='liblinear'), X, y, cv=cv, scoring='balanced_accuracy').mean()"
   ]
  },
  {
   "cell_type": "code",
   "execution_count": 13,
   "metadata": {},
   "outputs": [
    {
     "data": {
      "text/plain": [
       "0.9158635307172605"
      ]
     },
     "execution_count": 13,
     "metadata": {},
     "output_type": "execute_result"
    }
   ],
   "source": [
    "cross_val_score(GradientBoostingClassifier(random_state=42), X, y, cv=cv, scoring='balanced_accuracy').mean()"
   ]
  },
  {
   "cell_type": "markdown",
   "metadata": {},
   "source": [
    "**Exercise 2**: Prepare the confusion matrix of the trained model! Compute accuracy, balanced accuracy, precision, recall and F1-score from the elements of the confusion matrix!"
   ]
  },
  {
   "cell_type": "code",
   "execution_count": 14,
   "metadata": {},
   "outputs": [],
   "source": [
    "from sklearn.metrics import confusion_matrix\n",
    "\n",
    "cl = GradientBoostingClassifier(max_depth=4, random_state=42)\n",
    "cl.fit(X[tr], y[tr])\n",
    "yhat = cl.predict(X)\n",
    "(tn, fp), (fn, tp) = confusion_matrix(y[te], yhat[te])"
   ]
  },
  {
   "cell_type": "code",
   "execution_count": 15,
   "metadata": {},
   "outputs": [
    {
     "data": {
      "text/plain": [
       "(483, 7, 19, 129)"
      ]
     },
     "execution_count": 15,
     "metadata": {},
     "output_type": "execute_result"
    }
   ],
   "source": [
    "tn, fp, fn, tp"
   ]
  },
  {
   "cell_type": "code",
   "execution_count": 16,
   "metadata": {},
   "outputs": [
    {
     "name": "stdout",
     "output_type": "stream",
     "text": [
      "accuracy: 0.9592476489028213\n",
      "balanced accuracy: 0.9286679536679536\n",
      "precision: 0.9485294117647058\n",
      "recall: 0.8716216216216216\n",
      "f1: 0.908450704225352\n"
     ]
    }
   ],
   "source": [
    "p = tp + fn # total number of actual positives\n",
    "n = tn + fp # total number of actual negatives\n",
    "print('accuracy:', (tp + tn) / (p + n))\n",
    "print('balanced accuracy:', ((tp / p) + (tn / n)) / 2)\n",
    "prec = tp / (tp + fp)\n",
    "print('precision:', prec)\n",
    "rec = tp / p\n",
    "print('recall:', rec)\n",
    "print('f1:', 2 / (1 / prec + 1 / rec))"
   ]
  },
  {
   "cell_type": "markdown",
   "metadata": {},
   "source": [
    "**Exercise 3**: Optimize the decision threshold of the trained model in terms of the the test F1-score."
   ]
  },
  {
   "cell_type": "code",
   "execution_count": 17,
   "metadata": {},
   "outputs": [
    {
     "name": "stdout",
     "output_type": "stream",
     "text": [
      "Best F1-score: 0.9671957671957672\n",
      "Best threshold: 0.35000000000000003\n"
     ]
    }
   ],
   "source": [
    "import numpy as np\n",
    "from sklearn.metrics import f1_score\n",
    "\n",
    "# Predicted probabilities\n",
    "p = cl.predict_proba(X)[:, 1]\n",
    "\n",
    "thresholds = np.arange(0, 1.05, 0.05)\n",
    "\n",
    "best_f1_score = 0\n",
    "best_threshold = 0\n",
    "\n",
    "\n",
    "for th in thresholds:\n",
    "    y_thr = (p >= th).astype(int)\n",
    "    \n",
    "    f1 = f1_score(y, y_thr)\n",
    "    \n",
    "    if f1 > best_f1_score:\n",
    "        best_f1_score = f1\n",
    "        best_threshold = th\n",
    "\n",
    "print(\"Best F1-score:\", best_f1_score)\n",
    "print(\"Best threshold:\", best_threshold)\n"
   ]
  },
  {
   "cell_type": "code",
   "execution_count": 18,
   "metadata": {},
   "outputs": [
    {
     "data": {
      "text/plain": [
       "<AxesSubplot: xlabel='th'>"
      ]
     },
     "execution_count": 18,
     "metadata": {},
     "output_type": "execute_result"
    },
    {
     "data": {
      "image/png": "[encoded data removed]",
      "text/plain": [
       "<Figure size 432x288 with 1 Axes>"
      ]
     },
     "metadata": {
      "needs_background": "light"
     },
     "output_type": "display_data"
    }
   ],
   "source": [
    "# teacher soloution\n",
    "\n",
    "import numpy as np\n",
    "\n",
    "p = cl.predict_proba(X)[:, 1]\n",
    "\n",
    "data = []\n",
    "for th in np.arange(0, 1.05, 0.05):\n",
    "    yhat = (p > th) # probability prediction => label prediction\n",
    "    data.append({\n",
    "        'th': th,\n",
    "        'prec': precision_score(y[te], yhat[te], zero_division=0),\n",
    "        'rec': recall_score(y[te], yhat[te]),\n",
    "        'f1': f1_score(y[te], yhat[te])\n",
    "    })\n",
    "df2 = pd.DataFrame(data).set_index('th')\n",
    "df2.plot()"
   ]
  },
  {
   "cell_type": "code",
   "execution_count": 19,
   "metadata": {},
   "outputs": [
    {
     "data": {
      "text/plain": [
       "0.35000000000000003"
      ]
     },
     "execution_count": 19,
     "metadata": {},
     "output_type": "execute_result"
    }
   ],
   "source": [
    "# optimal threshold\n",
    "df2['f1'].idxmax()"
   ]
  },
  {
   "cell_type": "markdown",
   "metadata": {},
   "source": [
    "<div style=\"background-color: #FFC; border: 2px solid #AAA; border-radius: 10px; padding: 15px\">\n",
    "The <a href=\"https://en.wikipedia.org/wiki/Receiver_operating_characteristic\">receiver operating characteristic</a> (ROC) curve is a graphical representation of the performance of a binary classification model.\n",
    "It plots the true positive rate (TPR) against the false positive rate (FPR) for different thresholds of a classifier.\n",
    "The ROC curve can help evaluate the trade-off between the classifier's sensitivity (ability to detect positive instances) and specificity (ability to avoid false positives).\n",
    "The area under the ROC curve (AUC) is a commonly used metric to evaluate the performance of a binary classifier.\n",
    "It ranges from 0.5 (random guessing) to 1.0 (perfect classification).\n",
    "</div>\n",
    "\n",
    "\n"
   ]
  },
  {
   "cell_type": "markdown",
   "metadata": {},
   "source": [
    "**Exercise 4**: Display the ROC curve corresponding to the trained model! Compute the area under the ROC curve!"
   ]
  },
  {
   "cell_type": "code",
   "execution_count": 22,
   "metadata": {},
   "outputs": [],
   "source": [
    "from sklearn.metrics import roc_curve\n",
    "from sklearn.model_selection import cross_val_predict\n",
    "\n",
    "cl = GradientBoostingClassifier(n_estimators=200, learning_rate=0.08, max_depth=6, random_state=42)\n",
    "yprob = cross_val_predict(cl, X, y, cv=cv, method='predict_proba')[:, 1]\n",
    "\n",
    "fpr, tpr, th = roc_curve(y, yprob)"
   ]
  },
  {
   "cell_type": "code",
   "execution_count": 25,
   "metadata": {},
   "outputs": [
    {
     "data": {
      "text/plain": [
       "Text(0.5, 0, 'true positive rate')"
      ]
     },
     "execution_count": 25,
     "metadata": {},
     "output_type": "execute_result"
    },
    {
     "data": {
      "image/png": "[encoded data removed]",
      "text/plain": [
       "<Figure size 432x288 with 1 Axes>"
      ]
     },
     "metadata": {
      "needs_background": "light"
     },
     "output_type": "display_data"
    }
   ],
   "source": [
    "import matplotlib.pyplot as plt\n",
    "plt.plot(fpr, tpr)\n",
    "plt.plot([0, 1], [0, 1], '--')\n",
    "plt.xlabel('false positive rate')\n",
    "plt.xlabel('true positive rate')"
   ]
  },
  {
   "cell_type": "code",
   "execution_count": 26,
   "metadata": {},
   "outputs": [
    {
     "data": {
      "text/plain": [
       "0.9880962918775377"
      ]
     },
     "execution_count": 26,
     "metadata": {},
     "output_type": "execute_result"
    }
   ],
   "source": [
    "# area under ROC curve\n",
    "from sklearn.metrics import roc_auc_score\n",
    "roc_auc_score(y, yprob)"
   ]
  },
  {
   "cell_type": "markdown",
   "metadata": {},
   "source": [
    "_________________________________________________________________________________________________________________________"
   ]
  },
  {
   "cell_type": "code",
   "execution_count": 28,
   "metadata": {},
   "outputs": [
    {
     "data": {
      "text/plain": [
       "Text(0.5, 0, 'true positive rate')"
      ]
     },
     "execution_count": 28,
     "metadata": {},
     "output_type": "execute_result"
    },
    {
     "data": {
      "image/png": "[encoded data removed]",
      "text/plain": [
       "<Figure size 432x288 with 1 Axes>"
      ]
     },
     "metadata": {
      "needs_background": "light"
     },
     "output_type": "display_data"
    }
   ],
   "source": [
    "# Train a classifier on the Wisconsin Breast cancer data set,\n",
    "# and draw its ROC curve!\n",
    "\n",
    "from sklearn.model_selection import StratifiedShuffleSplit\n",
    "\n",
    "# Column names.\n",
    "names = [\n",
    "    'Sample_code_number', 'Clump_Thickness', 'Uniformity_of_Cell_Size', 'Uniformity_of_Cell_Shape',\n",
    "    'Marginal_Adhesion', 'Single_Epithelial_Cell_Size', 'Bare_Nuclei', 'Bland_Chromatin',\n",
    "    'Normal_Nucleoli', 'Mitoses', 'Class'\n",
    "]\n",
    "df = pd.read_csv('../_data/wisconsin_data.txt', sep=',', names=names, na_values='?')\n",
    "df['Bare_Nuclei'].fillna(df['Bare_Nuclei'].mean(), inplace=True)\n",
    "\n",
    "X = df[names[1:-1]].values      # input matrix\n",
    "y = df['Class'].values // 2 - 1 # target vector\n",
    "\n",
    "tr, te = next(StratifiedShuffleSplit(test_size=0.3, random_state=42).split(X, y))\n",
    "cl = GradientBoostingClassifier(random_state=42)\n",
    "cl.fit(X[tr], y[tr])\n",
    "p = cl.predict_proba(X)[:, 1]\n",
    "\n",
    "fpr, tpr, th = roc_curve(y[te], p[te])\n",
    "plt.plot(fpr, tpr)\n",
    "plt.plot([0, 1], [0, 1], '--')\n",
    "plt.xlabel('false positive rate')\n",
    "plt.xlabel('true positive rate')"
   ]
  },
  {
   "cell_type": "code",
   "execution_count": null,
   "metadata": {},
   "outputs": [],
   "source": []
  }
 ],
 "metadata": {
  "kernelspec": {
   "display_name": "Python 3 (ipykernel)",
   "language": "python",
   "name": "python3"
  },
  "language_info": {
   "codemirror_mode": {
    "name": "ipython",
    "version": 3
   },
   "file_extension": ".py",
   "mimetype": "text/x-python",
   "name": "python",
   "nbconvert_exporter": "python",
   "pygments_lexer": "ipython3",
   "version": "3.8.0"
  }
 },
 "nbformat": 4,
 "nbformat_minor": 4
}
