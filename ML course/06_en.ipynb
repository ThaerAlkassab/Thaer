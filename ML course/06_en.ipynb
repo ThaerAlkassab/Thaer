{
 "cells": [
  {
   "cell_type": "markdown",
   "metadata": {},
   "source": [
    "## Ensemble Methods\n",
    "\n",
    "- ensemble estimate: $\\bar{y} = \\frac{1}{K} \\sum_{k=1}^K \\hat{y}_k$\n",
    "- squared error of the ensemble estimate: $\\left(\\bar{y} - y\\right)^2$\n",
    "- decomposition into an accuracy and diversity term: $\\left(\\bar{y} - y\\right)^2 = \\frac{1}{K} \\sum_{k=1}^K (\\hat{y}_k - y)^2 - \\frac{1}{K}\\sum_{k=1}^K (\\hat{y}_k - \\bar{y})^2$\n",
    "- the ensemble will work well, if the members are diverse and individually accurate"
   ]
  },
  {
   "cell_type": "markdown",
   "metadata": {},
   "source": [
    "<img src=\"../_img/ensemble.jpg\" width=\"350px\" align=\"left\">"
   ]
  },
  {
   "cell_type": "markdown",
   "metadata": {},
   "source": [
    "## Random Forest\n",
    "\n",
    "[Random forest](https://en.wikipedia.org/wiki/Random_forest) is a tree based algorithm for classification and regression. It can be viewed as a \"parallel circuit\" of decision trees. The output of the forest is the average output of its trees. Some methods to grow an accurate and diverse set of trees are as follows:\n",
    "\n",
    "- [Bootstrapping](https://en.wikipedia.org/wiki/Bootstrap_aggregating): Each tree is trained on a data set that was sampled from the original data with replacement.\n",
    "\n",
    "\n",
    "- [Feature bagging](https://en.wikipedia.org/wiki/Random_subspace_method): Each tree is trained on a random subset of the features.\n",
    "\n",
    "\n",
    "- [Extreme randomization](https://en.wikipedia.org/wiki/Random_forest#ExtraTrees): For each feature, a random split value is used instead of the optimal one."
   ]
  },
  {
   "cell_type": "markdown",
   "metadata": {},
   "source": [
    "**Exercise 1**: Implement a bootstrapping based random forest regressor and evaluate it on the Boston Housing data set using 3-fold cross-validation! The evaluation metric should be RMSE!"
   ]
  },
  {
   "cell_type": "code",
   "execution_count": 1,
   "metadata": {},
   "outputs": [],
   "source": [
    "# Load the data to DataFrame.\n",
    "import pandas as pd\n",
    "names = ['CRIM', 'ZN', 'INDUS', 'CHAS', 'NOX', 'RM', 'AGE',\n",
    "         'DIS', 'RAD', 'TAX', 'PTRATIO', 'LSTAT', 'MEDV']\n",
    "df = pd.read_csv('housing_data.txt', delim_whitespace=True, names=names)\n",
    "df = df.sample(len(df), random_state=42) # shuffle the data\n",
    "X = df[df.columns[:-1]].values           # input matrix\n",
    "y = df['MEDV'].values                    # target vector"
   ]
  },
  {
   "cell_type": "code",
   "execution_count": 2,
   "metadata": {},
   "outputs": [],
   "source": [
    "class SimpleRandomForestRegressor:\n",
    "    def __init__(self, n_trees=100, max_depth=None):\n",
    "        self.n_trees = n_trees\n",
    "        self.max_depth = max_depth\n",
    "    \n",
    "    def fit(self, X, y):\n",
    "        rs = np.random.RandomState(42)\n",
    "\n",
    "        self.trees = []\n",
    "        for k in range(self.n_trees):\n",
    "            idxs = rs.randint(0, len(y), len(y))                                 # bootstrapping\n",
    "            re = DecisionTreeRegressor(max_depth=self.max_depth, random_state=k) # create decision tree\n",
    "            re.fit(X[idxs], y[idxs])                                             # train decision tree\n",
    "            self.trees.append(re)\n",
    "    \n",
    "    def predict(self, X):\n",
    "        yhat = np.zeros(len(X))\n",
    "        for re in self.trees:\n",
    "            yhat += re.predict(X)\n",
    "        return yhat / len(self.trees)"
   ]
  },
  {
   "cell_type": "code",
   "execution_count": 3,
   "metadata": {},
   "outputs": [],
   "source": [
    "# bootstrapping \n",
    "import numpy as np\n",
    "from sklearn.tree import DecisionTreeRegressor\n",
    "\n",
    "rs = np.random.RandomState(42)\n",
    "\n",
    "idxs = rs.randint(0, len(y), len(y))"
   ]
  },
  {
   "cell_type": "code",
   "execution_count": 4,
   "metadata": {},
   "outputs": [
    {
     "data": {
      "text/plain": [
       "(506, 302)"
      ]
     },
     "execution_count": 4,
     "metadata": {},
     "output_type": "execute_result"
    }
   ],
   "source": [
    "len(idxs), len(set(idxs))"
   ]
  },
  {
   "cell_type": "code",
   "execution_count": 5,
   "metadata": {},
   "outputs": [
    {
     "data": {
      "text/html": [
       "<style>#sk-container-id-1 {color: black;background-color: white;}#sk-container-id-1 pre{padding: 0;}#sk-container-id-1 div.sk-toggleable {background-color: white;}#sk-container-id-1 label.sk-toggleable__label {cursor: pointer;display: block;width: 100%;margin-bottom: 0;padding: 0.3em;box-sizing: border-box;text-align: center;}#sk-container-id-1 label.sk-toggleable__label-arrow:before {content: \"▸\";float: left;margin-right: 0.25em;color: #696969;}#sk-container-id-1 label.sk-toggleable__label-arrow:hover:before {color: black;}#sk-container-id-1 div.sk-estimator:hover label.sk-toggleable__label-arrow:before {color: black;}#sk-container-id-1 div.sk-toggleable__content {max-height: 0;max-width: 0;overflow: hidden;text-align: left;background-color: #f0f8ff;}#sk-container-id-1 div.sk-toggleable__content pre {margin: 0.2em;color: black;border-radius: 0.25em;background-color: #f0f8ff;}#sk-container-id-1 input.sk-toggleable__control:checked~div.sk-toggleable__content {max-height: 200px;max-width: 100%;overflow: auto;}#sk-container-id-1 input.sk-toggleable__control:checked~label.sk-toggleable__label-arrow:before {content: \"▾\";}#sk-container-id-1 div.sk-estimator input.sk-toggleable__control:checked~label.sk-toggleable__label {background-color: #d4ebff;}#sk-container-id-1 div.sk-label input.sk-toggleable__control:checked~label.sk-toggleable__label {background-color: #d4ebff;}#sk-container-id-1 input.sk-hidden--visually {border: 0;clip: rect(1px 1px 1px 1px);clip: rect(1px, 1px, 1px, 1px);height: 1px;margin: -1px;overflow: hidden;padding: 0;position: absolute;width: 1px;}#sk-container-id-1 div.sk-estimator {font-family: monospace;background-color: #f0f8ff;border: 1px dotted black;border-radius: 0.25em;box-sizing: border-box;margin-bottom: 0.5em;}#sk-container-id-1 div.sk-estimator:hover {background-color: #d4ebff;}#sk-container-id-1 div.sk-parallel-item::after {content: \"\";width: 100%;border-bottom: 1px solid gray;flex-grow: 1;}#sk-container-id-1 div.sk-label:hover label.sk-toggleable__label {background-color: #d4ebff;}#sk-container-id-1 div.sk-serial::before {content: \"\";position: absolute;border-left: 1px solid gray;box-sizing: border-box;top: 0;bottom: 0;left: 50%;z-index: 0;}#sk-container-id-1 div.sk-serial {display: flex;flex-direction: column;align-items: center;background-color: white;padding-right: 0.2em;padding-left: 0.2em;position: relative;}#sk-container-id-1 div.sk-item {position: relative;z-index: 1;}#sk-container-id-1 div.sk-parallel {display: flex;align-items: stretch;justify-content: center;background-color: white;position: relative;}#sk-container-id-1 div.sk-item::before, #sk-container-id-1 div.sk-parallel-item::before {content: \"\";position: absolute;border-left: 1px solid gray;box-sizing: border-box;top: 0;bottom: 0;left: 50%;z-index: -1;}#sk-container-id-1 div.sk-parallel-item {display: flex;flex-direction: column;z-index: 1;position: relative;background-color: white;}#sk-container-id-1 div.sk-parallel-item:first-child::after {align-self: flex-end;width: 50%;}#sk-container-id-1 div.sk-parallel-item:last-child::after {align-self: flex-start;width: 50%;}#sk-container-id-1 div.sk-parallel-item:only-child::after {width: 0;}#sk-container-id-1 div.sk-dashed-wrapped {border: 1px dashed gray;margin: 0 0.4em 0.5em 0.4em;box-sizing: border-box;padding-bottom: 0.4em;background-color: white;}#sk-container-id-1 div.sk-label label {font-family: monospace;font-weight: bold;display: inline-block;line-height: 1.2em;}#sk-container-id-1 div.sk-label-container {text-align: center;}#sk-container-id-1 div.sk-container {/* jupyter's `normalize.less` sets `[hidden] { display: none; }` but bootstrap.min.css set `[hidden] { display: none !important; }` so we also need the `!important` here to be able to override the default hidden behavior on the sphinx rendered scikit-learn.org. See: https://github.com/scikit-learn/scikit-learn/issues/21755 */display: inline-block !important;position: relative;}#sk-container-id-1 div.sk-text-repr-fallback {display: none;}</style><div id=\"sk-container-id-1\" class=\"sk-top-container\"><div class=\"sk-text-repr-fallback\"><pre>DecisionTreeRegressor()</pre><b>In a Jupyter environment, please rerun this cell to show the HTML representation or trust the notebook. <br />On GitHub, the HTML representation is unable to render, please try loading this page with nbviewer.org.</b></div><div class=\"sk-container\" hidden><div class=\"sk-item\"><div class=\"sk-estimator sk-toggleable\"><input class=\"sk-toggleable__control sk-hidden--visually\" id=\"sk-estimator-id-1\" type=\"checkbox\" checked><label for=\"sk-estimator-id-1\" class=\"sk-toggleable__label sk-toggleable__label-arrow\">DecisionTreeRegressor</label><div class=\"sk-toggleable__content\"><pre>DecisionTreeRegressor()</pre></div></div></div></div></div>"
      ],
      "text/plain": [
       "DecisionTreeRegressor()"
      ]
     },
     "execution_count": 5,
     "metadata": {},
     "output_type": "execute_result"
    }
   ],
   "source": [
    "re = DecisionTreeRegressor()\n",
    "re.fit(X[idxs], y[idxs])"
   ]
  },
  {
   "cell_type": "code",
   "execution_count": 6,
   "metadata": {},
   "outputs": [
    {
     "data": {
      "text/plain": [
       "array([11,  5,  7, -2,  5,  9, -2,  5,  9, 10,  6, -2, -2,  2,  0, -2,  0,\n",
       "       10,  4, -2, -2, -2,  7, -2, -2, 11,  4, -2, -2,  9,  0,  1, -2, -2,\n",
       "        9, 11, -2, -2, 11, -2, -2, -2, -2,  5,  2,  9, -2, 11,  0,  1,  6,\n",
       "        4, -2, -2,  1,  0, -2, -2,  1, -2, -2, -2,  9, -2,  8, -2,  7, -2,\n",
       "       -2, -2, 10,  5,  2, -2, -2, 11, -2, -2, 10,  6, -2,  1,  5, -2, -2,\n",
       "       -2,  5,  5, 11, -2, -2, -2,  0,  4, -2,  0, -2, 10, -2, -2,  7, -2,\n",
       "       -2, -2,  5, 11,  5,  2,  5, 11,  3,  5, -2, -2, -2,  6,  8, -2, -2,\n",
       "        7, -2,  2, -2, -2, -2, 11, -2, -2,  2,  9, -2,  7,  2, -2, -2, -2,\n",
       "       -2,  4, 10, 11,  0, 11, -2, -2, 11, -2, -2,  2, -2, -2,  8, -2, -2,\n",
       "       10,  7, -2,  6,  7,  6, -2,  7, 11, -2, -2,  8, -2, -2,  3, -2, -2,\n",
       "       10, -2, -2,  6, 10, 11, -2, -2,  9, -2, -2,  9,  6,  2, -2, -2, -2,\n",
       "       -2,  9,  5,  1,  7, -2, -2,  0, 11, -2, -2,  9, -2, -2,  3, -2, -2,\n",
       "       11, -2,  4, 11,  5,  7, -2, -2,  4, -2, -2, -2,  4, -2, -2,  0,  8,\n",
       "        4, 10, -2, -2, -2,  0,  0,  5, -2,  4, 10, -2, -2,  0, -2, -2, 10,\n",
       "       -2, -2,  5, -2, -2, -2,  4, 11,  5,  7, -2,  5,  5,  4,  6,  5, 11,\n",
       "       -2,  5, -2, -2,  8,  7,  5, -2, -2, -2, -2, 11, -2, -2,  5,  0, -2,\n",
       "       -2,  6, -2, -2,  7,  6,  4,  6,  9, -2, -2,  7,  5, 11, -2, -2, -2,\n",
       "       -2, 11, 10,  0,  6, -2, -2, 11, -2, -2,  7, 11,  4, -2, -2, 10,  7,\n",
       "       -2, -2, -2,  2, -2,  7,  4, -2,  4, -2, -2,  9, -2, -2,  5,  0, -2,\n",
       "       -2,  3, -2, -2,  5,  7,  9,  8, -2, -2, -2,  6, 11,  0, -2,  5,  5,\n",
       "        0, -2, -2, -2, -2, -2, -2, 11,  7, -2,  6, -2, -2, -2,  4,  5,  0,\n",
       "       -2, -2, -2,  7, 11, -2, -2,  0,  0, -2, -2, -2,  0,  6, -2, -2,  5,\n",
       "        9, -2, -2, -2,  4, -2,  8, -2, -2, 10,  0, 10, -2,  8, -2, -2,  7,\n",
       "        2,  5, -2,  6, -2, -2,  0, 10, -2, -2,  0, -2,  5, 10, -2, -2,  4,\n",
       "       -2, -2,  7,  6, -2,  6,  1, -2, -2, -2,  8, -2, -2,  5,  5,  9, 11,\n",
       "       -2, -2,  7, -2, -2,  7,  4, -2,  0, -2, -2,  0,  0,  7, -2, -2,  0,\n",
       "        5, -2, -2,  0, -2, -2, -2, 11, 10, 11, -2, -2,  1,  5,  0, -2, -2,\n",
       "        0, -2, -2, -2, 11,  5,  8, -2, -2,  7,  8, -2, -2, 11, 11, -2, -2,\n",
       "        6, -2, -2,  0, -2,  2, -2, 11, -2, -2,  0, 11,  6,  0,  3,  5, 11,\n",
       "       -2,  7, -2, -2, -2,  6,  7, -2, -2, 11, -2, -2,  7, -2, -2,  5,  6,\n",
       "       -2, -2, -2, 11,  6,  0,  5, -2, -2,  0,  7, 11,  0, -2, -2,  5, -2,\n",
       "        0, -2, -2,  5, -2,  0, -2,  0, -2,  7, -2, -2, -2,  7, -2,  5, -2,\n",
       "       -2,  3,  0, 11,  4, -2, -2,  7, -2, -2,  6, 11, -2, -2, -2, -2,  7,\n",
       "        5, 11, -2, -2, -2,  7, 11,  0, 11, -2,  5, 11, -2,  4, -2, -2,  5,\n",
       "        5, -2, -2,  7, -2, -2, -2,  5,  6, -2, 11, -2, -2,  5, -2, -2,  0,\n",
       "        7, -2,  6, -2, -2,  0, -2,  0, -2, -2], dtype=int64)"
      ]
     },
     "execution_count": 6,
     "metadata": {},
     "output_type": "execute_result"
    }
   ],
   "source": [
    "# testing the fit in the class\n",
    "re = SimpleRandomForestRegressor()\n",
    "re.fit(X, y)\n",
    "re.trees[1].tree_.feature"
   ]
  },
  {
   "cell_type": "code",
   "execution_count": 7,
   "metadata": {},
   "outputs": [
    {
     "data": {
      "text/plain": [
       "array([23.37 , 31.963, 14.525, 22.815, 15.96 , 20.401, 18.19 , 14.204,\n",
       "       20.182, 17.925, 21.025, 18.99 ,  7.346, 21.122, 18.789, 28.384,\n",
       "       19.137,  9.301, 49.132, 14.137, 25.322, 27.413, 13.561, 22.907,\n",
       "       14.574, 13.988, 20.518, 14.814, 20.857, 18.934, 22.116, 23.808,\n",
       "       22.788, 20.974, 17.365, 18.08 , 34.564, 19.34 , 23.346, 23.554,\n",
       "       19.532, 28.426, 49.217, 17.864, 22.625, 14.733, 13.7  , 24.118,\n",
       "       19.29 , 25.845, 19.697, 34.86 , 15.083, 26.543, 44.135, 21.424,\n",
       "       17.244, 30.019, 23.423, 19.232, 25.186, 34.898, 31.569, 19.894,\n",
       "       25.418, 19.074, 13.455, 24.331, 29.993, 14.163, 20.001, 25.581,\n",
       "       10.439, 20.714, 20.958,  5.637, 19.987, 48.466, 10.805,  9.544,\n",
       "       20.842, 16.466, 20.496,  9.745, 19.684, 28.353, 16.1  , 24.501,\n",
       "       24.773, 17.428, 22.672,  9.688, 19.953, 17.88 , 25.142, 21.852,\n",
       "       45.143, 15.814, 10.894, 16.385, 21.752, 22.197, 12.542, 19.919,\n",
       "       20.045, 13.853, 18.735, 24.512, 20.793, 23.827,  8.814, 25.076,\n",
       "       21.881, 33.406, 31.697, 12.55 , 41.104, 14.557, 20.828, 23.845,\n",
       "       17.9  , 24.626,  8.469, 19.621, 24.988, 20.796, 23.568, 37.252,\n",
       "       16.833, 46.33 , 15.918, 22.772, 16.054, 18.693, 16.277, 18.464,\n",
       "       20.569, 31.435, 29.06 , 15.759, 17.573, 23.281, 19.651, 19.497,\n",
       "        8.255, 20.815, 17.251, 15.478, 14.497, 46.758, 15.086, 13.495,\n",
       "       26.901, 21.008, 19.395, 22.375, 16.728, 24.387, 33.825,  6.504,\n",
       "       28.464, 18.778, 21.203, 23.435, 22.392, 21.369, 47.878, 14.39 ,\n",
       "       16.687, 22.608, 20.098, 19.653, 20.917, 37.16 , 21.366, 20.242,\n",
       "       19.602, 28.566, 36.173, 24.411, 12.722, 12.676, 11.587, 16.024,\n",
       "       32.5  , 27.346, 13.968, 13.904, 45.958, 21.289, 20.102, 22.808,\n",
       "       18.133, 11.891,  6.616, 30.245, 26.262, 19.002, 15.775, 14.331,\n",
       "       22.81 , 17.452, 27.199, 35.138, 23.123, 24.265, 23.921, 49.625,\n",
       "       34.209, 32.007, 24.381, 22.848, 14.556, 42.113, 19.42 , 31.629,\n",
       "       25.437, 21.3  , 21.359,  9.305, 45.073, 43.306, 32.123,  9.359,\n",
       "       16.092, 20.106, 33.711, 17.124, 43.755, 20.622, 23.065, 12.06 ,\n",
       "       20.052, 23.599, 29.625, 27.778, 22.181, 29.868, 25.477, 32.995,\n",
       "       23.512, 20.974, 24.205,  9.85 , 25.366, 22.752, 16.23 ,  8.72 ,\n",
       "       19.503, 24.6  , 23.038, 19.778, 22.61 , 14.191, 30.745, 26.623,\n",
       "       33.633, 13.375, 16.173, 13.231, 14.201, 11.696, 24.497, 17.294,\n",
       "        9.244, 21.578, 14.821, 24.696, 32.249, 40.376, 30.293, 20.031,\n",
       "       31.319, 44.232, 23.491, 20.969, 23.075, 18.786, 17.872,  7.689,\n",
       "       21.162, 20.603, 27.535, 28.401, 20.849, 22.688, 14.678, 12.854,\n",
       "       35.815, 17.875, 15.839, 22.029, 22.145, 20.623, 21.741, 45.436,\n",
       "        8.889, 19.031, 35.305, 17.728, 18.828, 22.467, 20.8  , 14.246,\n",
       "       46.454, 24.106, 22.345, 17.289, 31.321, 36.012, 43.762, 18.68 ,\n",
       "       22.116, 19.708, 44.771, 12.337, 19.434, 16.415, 21.996,  7.803,\n",
       "       20.153, 12.878, 13.546, 17.921, 21.509, 21.343, 21.906, 23.752,\n",
       "       49.106, 26.783, 21.93 , 46.983,  8.814, 24.278, 21.654, 19.491,\n",
       "       18.807, 18.454, 14.023, 11.47 , 27.318, 20.328, 27.853, 20.878,\n",
       "       24.262, 13.145, 11.256, 28.578, 27.972, 10.109, 20.427, 23.732,\n",
       "       45.527, 22.008,  8.746, 35.24 , 43.258, 19.604, 26.442, 41.162,\n",
       "       17.621, 26.798, 12.989, 20.137, 43.165, 28.153, 24.248, 17.114,\n",
       "       17.734, 15.459, 48.602, 21.6  , 33.697, 15.43 , 14.917, 14.158,\n",
       "       23.38 , 33.457, 22.689, 49.601, 10.239, 14.032, 22.798, 17.683,\n",
       "       17.677, 27.336, 16.5  , 23.429, 18.457, 32.604, 25.881, 18.719,\n",
       "       14.539, 34.426, 10.894, 20.368, 30.201, 22.577, 33.886, 12.439,\n",
       "       23.313, 18.939, 25.81 , 21.493, 22.11 , 27.852, 20.084, 25.576,\n",
       "       22.879, 21.38 , 32.946, 23.11 , 20.813, 23.445, 47.449, 24.703,\n",
       "       26.593,  7.97 , 34.803, 20.401, 29.61 , 19.668, 22.367, 11.636,\n",
       "       22.118, 14.709, 14.992, 19.346, 10.676, 27.922, 22.24 , 13.915,\n",
       "       14.342, 31.713, 12.883, 21.146, 22.227, 19.544, 20.659, 25.398,\n",
       "       18.339, 35.794, 20.416, 20.217, 17.419, 25.995,  7.908, 38.839,\n",
       "       49.65 , 19.78 , 21.183, 15.662, 34.108, 18.829, 21.185, 23.817,\n",
       "       18.932, 17.301, 19.952, 17.966, 22.152, 11.753, 34.663, 20.048,\n",
       "       20.785, 30.106, 22.173, 23.272, 16.295, 31.048, 23.685, 30.988,\n",
       "       19.278, 21.959, 18.99 , 26.139, 34.216, 14.931, 30.407,  7.669,\n",
       "       23.722, 15.194, 25.105, 47.76 , 25.212, 15.091, 19.531, 19.25 ,\n",
       "       21.914, 32.659, 45.435, 22.292, 15.254, 20.633, 21.909, 18.226,\n",
       "       21.327, 15.245, 14.012, 29.515, 21.615, 18.884, 21.01 , 25.593,\n",
       "       12.662, 19.319])"
      ]
     },
     "execution_count": 7,
     "metadata": {},
     "output_type": "execute_result"
    }
   ],
   "source": [
    "# testing the predict in the class\n",
    "re = SimpleRandomForestRegressor()\n",
    "re.fit(X, y)\n",
    "re.predict(X)"
   ]
  },
  {
   "cell_type": "code",
   "execution_count": 8,
   "metadata": {},
   "outputs": [],
   "source": [
    "from sklearn.model_selection import KFold\n",
    "from sklearn.metrics import mean_squared_error\n",
    "\n",
    "def evaluate(re, X, y):\n",
    "    cv = KFold(3, random_state=42, shuffle=True)\n",
    "\n",
    "    scores_tr = []\n",
    "    scores_te = []\n",
    "    for tr, te in cv.split(X):\n",
    "        re.fit(X[tr], y[tr])\n",
    "        yhat = re.predict(X)\n",
    "        scores_tr.append(mean_squared_error(y[tr], yhat[tr])**0.5)\n",
    "        scores_te.append(mean_squared_error(y[te], yhat[te])**0.5)\n",
    "\n",
    "    return np.mean(scores_tr), np.mean(scores_te)"
   ]
  },
  {
   "cell_type": "code",
   "execution_count": 9,
   "metadata": {},
   "outputs": [
    {
     "data": {
      "text/plain": [
       "(1.2496535188109161, 3.5344184688013613)"
      ]
     },
     "execution_count": 9,
     "metadata": {},
     "output_type": "execute_result"
    }
   ],
   "source": [
    "evaluate(SimpleRandomForestRegressor(), X, y)"
   ]
  },
  {
   "cell_type": "code",
   "execution_count": 10,
   "metadata": {},
   "outputs": [
    {
     "data": {
      "text/plain": [
       "(0.0, 4.867211481330203)"
      ]
     },
     "execution_count": 10,
     "metadata": {},
     "output_type": "execute_result"
    }
   ],
   "source": [
    "evaluate(DecisionTreeRegressor(random_state=42), X, y)"
   ]
  },
  {
   "cell_type": "code",
   "execution_count": 11,
   "metadata": {},
   "outputs": [
    {
     "data": {
      "text/plain": [
       "(4.710820669783009, 4.927289718141437)"
      ]
     },
     "execution_count": 11,
     "metadata": {},
     "output_type": "execute_result"
    }
   ],
   "source": [
    "from sklearn.linear_model import Ridge\n",
    "evaluate(Ridge(), X, y)"
   ]
  },
  {
   "cell_type": "code",
   "execution_count": 12,
   "metadata": {
    "scrolled": true
   },
   "outputs": [
    {
     "name": "stdout",
     "output_type": "stream",
     "text": [
      "1\n",
      "2\n",
      "3\n",
      "4\n",
      "5\n",
      "6\n",
      "7\n",
      "8\n",
      "9\n",
      "10\n",
      "11\n",
      "12\n",
      "13\n",
      "14\n",
      "15\n",
      "16\n",
      "17\n",
      "18\n",
      "19\n",
      "20\n",
      "21\n",
      "22\n",
      "23\n",
      "24\n",
      "25\n",
      "26\n",
      "27\n",
      "28\n",
      "29\n",
      "30\n",
      "31\n",
      "32\n",
      "33\n",
      "34\n",
      "35\n",
      "36\n",
      "37\n",
      "38\n",
      "39\n",
      "40\n",
      "41\n",
      "42\n",
      "43\n",
      "44\n",
      "45\n",
      "46\n",
      "47\n",
      "48\n",
      "49\n",
      "50\n",
      "51\n",
      "52\n",
      "53\n",
      "54\n",
      "55\n",
      "56\n",
      "57\n",
      "58\n",
      "59\n",
      "60\n",
      "61\n",
      "62\n",
      "63\n",
      "64\n",
      "65\n",
      "66\n",
      "67\n",
      "68\n",
      "69\n",
      "70\n",
      "71\n",
      "72\n",
      "73\n",
      "74\n",
      "75\n",
      "76\n",
      "77\n",
      "78\n",
      "79\n",
      "80\n",
      "81\n",
      "82\n",
      "83\n",
      "84\n",
      "85\n",
      "86\n",
      "87\n",
      "88\n",
      "89\n",
      "90\n",
      "91\n",
      "92\n",
      "93\n",
      "94\n",
      "95\n",
      "96\n",
      "97\n",
      "98\n",
      "99\n",
      "100\n"
     ]
    }
   ],
   "source": [
    "# How the test RMSE depends on the number of trees.\n",
    "res = []\n",
    "for n_trees in range(1, 101):\n",
    "    print(n_trees)\n",
    "    re = SimpleRandomForestRegressor(n_trees=n_trees)\n",
    "    _, rmse_te = evaluate(re, X, y)\n",
    "    res.append({'n_trees': n_trees, 'rmse_te': rmse_te})"
   ]
  },
  {
   "cell_type": "code",
   "execution_count": 13,
   "metadata": {},
   "outputs": [
    {
     "data": {
      "text/html": [
       "<div>\n",
       "<style scoped>\n",
       "    .dataframe tbody tr th:only-of-type {\n",
       "        vertical-align: middle;\n",
       "    }\n",
       "\n",
       "    .dataframe tbody tr th {\n",
       "        vertical-align: top;\n",
       "    }\n",
       "\n",
       "    .dataframe thead th {\n",
       "        text-align: right;\n",
       "    }\n",
       "</style>\n",
       "<table border=\"1\" class=\"dataframe\">\n",
       "  <thead>\n",
       "    <tr style=\"text-align: right;\">\n",
       "      <th></th>\n",
       "      <th>rmse_te</th>\n",
       "    </tr>\n",
       "    <tr>\n",
       "      <th>n_trees</th>\n",
       "      <th></th>\n",
       "    </tr>\n",
       "  </thead>\n",
       "  <tbody>\n",
       "    <tr>\n",
       "      <th>1</th>\n",
       "      <td>4.732256</td>\n",
       "    </tr>\n",
       "    <tr>\n",
       "      <th>2</th>\n",
       "      <td>4.056692</td>\n",
       "    </tr>\n",
       "    <tr>\n",
       "      <th>3</th>\n",
       "      <td>3.960604</td>\n",
       "    </tr>\n",
       "    <tr>\n",
       "      <th>4</th>\n",
       "      <td>3.891775</td>\n",
       "    </tr>\n",
       "    <tr>\n",
       "      <th>5</th>\n",
       "      <td>3.900339</td>\n",
       "    </tr>\n",
       "    <tr>\n",
       "      <th>...</th>\n",
       "      <td>...</td>\n",
       "    </tr>\n",
       "    <tr>\n",
       "      <th>96</th>\n",
       "      <td>3.539245</td>\n",
       "    </tr>\n",
       "    <tr>\n",
       "      <th>97</th>\n",
       "      <td>3.538955</td>\n",
       "    </tr>\n",
       "    <tr>\n",
       "      <th>98</th>\n",
       "      <td>3.541483</td>\n",
       "    </tr>\n",
       "    <tr>\n",
       "      <th>99</th>\n",
       "      <td>3.542396</td>\n",
       "    </tr>\n",
       "    <tr>\n",
       "      <th>100</th>\n",
       "      <td>3.534418</td>\n",
       "    </tr>\n",
       "  </tbody>\n",
       "</table>\n",
       "<p>100 rows × 1 columns</p>\n",
       "</div>"
      ],
      "text/plain": [
       "          rmse_te\n",
       "n_trees          \n",
       "1        4.732256\n",
       "2        4.056692\n",
       "3        3.960604\n",
       "4        3.891775\n",
       "5        3.900339\n",
       "...           ...\n",
       "96       3.539245\n",
       "97       3.538955\n",
       "98       3.541483\n",
       "99       3.542396\n",
       "100      3.534418\n",
       "\n",
       "[100 rows x 1 columns]"
      ]
     },
     "execution_count": 13,
     "metadata": {},
     "output_type": "execute_result"
    }
   ],
   "source": [
    "df_res = pd.DataFrame(res).set_index('n_trees')\n",
    "df_res"
   ]
  },
  {
   "cell_type": "code",
   "execution_count": 14,
   "metadata": {},
   "outputs": [
    {
     "data": {
      "text/plain": [
       "<AxesSubplot: xlabel='n_trees'>"
      ]
     },
     "execution_count": 14,
     "metadata": {},
     "output_type": "execute_result"
    },
    {
     "data": {
      "image/png": "[encoded data removed]",
      "text/plain": [
       "<Figure size 432x288 with 1 Axes>"
      ]
     },
     "metadata": {
      "needs_background": "light"
     },
     "output_type": "display_data"
    }
   ],
   "source": [
    "df_res.plot()"
   ]
  },
  {
   "cell_type": "markdown",
   "metadata": {},
   "source": [
    "**Exercise 2**: Implement a feature bagging based random forest regressor and evaluate it on the Boston Housing data set using 3-fold cross-validation!"
   ]
  },
  {
   "cell_type": "code",
   "execution_count": 15,
   "metadata": {},
   "outputs": [],
   "source": [
    "class SimpleRandomForestRegressor:\n",
    "    def __init__(self, n_trees=100, max_depth=None, bootstrap=True, feat_bag=False):\n",
    "        self.n_trees = n_trees\n",
    "        self.max_depth = max_depth\n",
    "        self.bootstrap = bootstrap\n",
    "        self.feat_bag = feat_bag\n",
    "        \n",
    "    \n",
    "    def fit(self, X, y):\n",
    "        rs = np.random.RandomState(42)\n",
    "        n, d = X.shape\n",
    "\n",
    "        self.trees = []\n",
    "        for k in range(self.n_trees):\n",
    "            row_idxs = np.arange(n)\n",
    "            if self.bootstrap:\n",
    "                row_idxs = rs.randint(0, n, n)  # bootstrapping\n",
    "                \n",
    "            col_idxs = np.arange(d)\n",
    "            if self.feat_bag:\n",
    "                col_idxs = rs.randint(0, d, d)  # featur bagging\n",
    "            \n",
    "            \n",
    "            tree = DecisionTreeRegressor(max_depth=self.max_depth, random_state=k) # create decision tree\n",
    "            tree.fit(X[row_idxs][:, col_idxs], y[row_idxs])                                             # train decision tree\n",
    "            self.trees.append((tree, col_idxs))\n",
    "    \n",
    "    def predict(self, X):\n",
    "        yhat = np.zeros(len(X))\n",
    "        for tree, col_idxs in self.trees:\n",
    "            yhat += tree.predict(X[:, col_idxs])\n",
    "        return yhat / len(self.trees)"
   ]
  },
  {
   "cell_type": "code",
   "execution_count": 16,
   "metadata": {},
   "outputs": [
    {
     "data": {
      "text/plain": [
       "(3.221869811461758e-14, 4.563463998771837)"
      ]
     },
     "execution_count": 16,
     "metadata": {},
     "output_type": "execute_result"
    }
   ],
   "source": [
    "evaluate(SimpleRandomForestRegressor(bootstrap=False, feat_bag=False), X, y)"
   ]
  },
  {
   "cell_type": "code",
   "execution_count": 17,
   "metadata": {},
   "outputs": [
    {
     "data": {
      "text/plain": [
       "(1.2496535188109161, 3.5344184688013613)"
      ]
     },
     "execution_count": 17,
     "metadata": {},
     "output_type": "execute_result"
    }
   ],
   "source": [
    "evaluate(SimpleRandomForestRegressor(bootstrap=True, feat_bag=False), X, y)"
   ]
  },
  {
   "cell_type": "code",
   "execution_count": 18,
   "metadata": {},
   "outputs": [
    {
     "data": {
      "text/plain": [
       "(0.018271831222768983, 3.746377378818943)"
      ]
     },
     "execution_count": 18,
     "metadata": {},
     "output_type": "execute_result"
    }
   ],
   "source": [
    "evaluate(SimpleRandomForestRegressor(bootstrap=False, feat_bag=True), X, y)"
   ]
  },
  {
   "cell_type": "code",
   "execution_count": 19,
   "metadata": {},
   "outputs": [
    {
     "data": {
      "text/plain": [
       "(1.3106116530969623, 3.65460581683147)"
      ]
     },
     "execution_count": 19,
     "metadata": {},
     "output_type": "execute_result"
    }
   ],
   "source": [
    "evaluate(SimpleRandomForestRegressor(bootstrap=True, feat_bag=True), X, y)"
   ]
  },
  {
   "cell_type": "markdown",
   "metadata": {},
   "source": [
    "**Exercise 3**: Repeat the previous experiments using scikit-learn's RandomForestRegressor class!"
   ]
  },
  {
   "cell_type": "code",
   "execution_count": 20,
   "metadata": {},
   "outputs": [],
   "source": [
    "from sklearn.ensemble import RandomForestRegressor"
   ]
  },
  {
   "cell_type": "code",
   "execution_count": 21,
   "metadata": {},
   "outputs": [
    {
     "data": {
      "text/plain": [
       "(1.249721947092092, 3.578281219483339)"
      ]
     },
     "execution_count": 21,
     "metadata": {},
     "output_type": "execute_result"
    }
   ],
   "source": [
    "# bootstrapping No feature bagging\n",
    "evaluate(RandomForestRegressor(bootstrap=True, max_features=1.0, random_state=42), X, y)"
   ]
  },
  {
   "cell_type": "code",
   "execution_count": 22,
   "metadata": {},
   "outputs": [
    {
     "data": {
      "text/plain": [
       "(0.0008610326361854645, 3.432009311114937)"
      ]
     },
     "execution_count": 22,
     "metadata": {},
     "output_type": "execute_result"
    }
   ],
   "source": [
    "# No bootstrapping feature bagging with 50% strategy\n",
    "evaluate(RandomForestRegressor(bootstrap=False, max_features=0.5, random_state=42), X, y)"
   ]
  },
  {
   "cell_type": "code",
   "execution_count": 23,
   "metadata": {},
   "outputs": [
    {
     "data": {
      "text/plain": [
       "(1.2368681562001127, 3.464869293320867)"
      ]
     },
     "execution_count": 23,
     "metadata": {},
     "output_type": "execute_result"
    }
   ],
   "source": [
    "# bootstrapping feature bagging with 50% strategy\n",
    "evaluate(RandomForestRegressor(bootstrap=True, max_features=0.5, random_state=42), X, y)"
   ]
  },
  {
   "cell_type": "code",
   "execution_count": 24,
   "metadata": {},
   "outputs": [
    {
     "data": {
      "text/plain": [
       "(3.221869811461758e-14, 4.534326812091633)"
      ]
     },
     "execution_count": 24,
     "metadata": {},
     "output_type": "execute_result"
    }
   ],
   "source": [
    "# No bootstrapping No feature bagging\n",
    "evaluate(RandomForestRegressor(bootstrap=False, max_features=1.0, random_state=42), X, y)"
   ]
  },
  {
   "cell_type": "markdown",
   "metadata": {},
   "source": [
    "**Exercise 4**: Plot the training and the test RMSE as a function of the number of trees!"
   ]
  },
  {
   "cell_type": "code",
   "execution_count": 25,
   "metadata": {},
   "outputs": [
    {
     "name": "stdout",
     "output_type": "stream",
     "text": [
      "1 2 3 4 5 6 7 8 9 10 11 12 13 14 15 16 17 18 19 20 21 22 23 24 25 26 27 28 29 30 31 32 33 34 35 36 37 38 39 40 41 42 43 44 45 46 47 48 49 50 51 52 53 54 55 56 57 58 59 60 61 62 63 64 65 66 67 68 69 70 71 72 73 74 75 76 77 78 79 80 81 82 83 84 85 86 87 88 89 90 91 92 93 94 95 96 97 98 99 100 "
     ]
    }
   ],
   "source": [
    "# How the test RMSE depends on the number of trees.\n",
    "# No bootstrapping with feature bagging\n",
    "res = []\n",
    "for n_trees in range(1, 101):\n",
    "    print(n_trees, end=' ')\n",
    "    re = RandomForestRegressor(n_estimators=n_trees, bootstrap=False, max_features=0.5, random_state=42)\n",
    "    rmse_tr, rmse_te = evaluate(re, X, y)\n",
    "    res.append({'n_trees': n_trees, 'rmse_tr': rmse_tr, 'rmse_te': rmse_te})"
   ]
  },
  {
   "cell_type": "code",
   "execution_count": 27,
   "metadata": {},
   "outputs": [
    {
     "data": {
      "text/plain": [
       "<AxesSubplot: xlabel='n_trees'>"
      ]
     },
     "execution_count": 27,
     "metadata": {},
     "output_type": "execute_result"
    },
    {
     "data": {
      "image/png": "[encoded data removed]",
      "text/plain": [
       "<Figure size 864x432 with 1 Axes>"
      ]
     },
     "metadata": {
      "needs_background": "light"
     },
     "output_type": "display_data"
    }
   ],
   "source": [
    "df_res = pd.DataFrame(res).set_index('n_trees')\n",
    "df_res.plot(figsize=(12,6), grid=True)"
   ]
  },
  {
   "cell_type": "code",
   "execution_count": 28,
   "metadata": {},
   "outputs": [
    {
     "name": "stdout",
     "output_type": "stream",
     "text": [
      "1 2 3 4 5 6 7 8 9 10 11 12 13 14 15 16 17 18 19 20 21 22 23 24 25 26 27 28 29 30 31 32 33 34 35 36 37 38 39 40 41 42 43 44 45 46 47 48 49 50 51 52 53 54 55 56 57 58 59 60 61 62 63 64 65 66 67 68 69 70 71 72 73 74 75 76 77 78 79 80 81 82 83 84 85 86 87 88 89 90 91 92 93 94 95 96 97 98 99 100 "
     ]
    }
   ],
   "source": [
    "# How the test RMSE depends on the number of trees.\n",
    "# bootstrapping No feature bagging\n",
    "res = []\n",
    "for n_trees in range(1, 101):\n",
    "    print(n_trees, end=' ')\n",
    "    re = RandomForestRegressor(n_estimators=n_trees, bootstrap=True, max_features=1.0, random_state=42)\n",
    "    rmse_tr, rmse_te = evaluate(re, X, y)\n",
    "    res.append({'n_trees': n_trees, 'rmse_tr': rmse_tr, 'rmse_te': rmse_te})"
   ]
  },
  {
   "cell_type": "code",
   "execution_count": 29,
   "metadata": {},
   "outputs": [
    {
     "data": {
      "text/plain": [
       "<AxesSubplot: xlabel='n_trees'>"
      ]
     },
     "execution_count": 29,
     "metadata": {},
     "output_type": "execute_result"
    },
    {
     "data": {
      "image/png": "[encoded data removed]",
      "text/plain": [
       "<Figure size 864x432 with 1 Axes>"
      ]
     },
     "metadata": {
      "needs_background": "light"
     },
     "output_type": "display_data"
    }
   ],
   "source": [
    "df_res = pd.DataFrame(res).set_index('n_trees')\n",
    "df_res.plot(figsize=(12,6), grid=True)"
   ]
  },
  {
   "cell_type": "markdown",
   "metadata": {},
   "source": [
    "**Exercise 5**: Repeat the previous experiment using the \"extreme randomization\" strategy!"
   ]
  },
  {
   "cell_type": "code",
   "execution_count": 30,
   "metadata": {},
   "outputs": [],
   "source": [
    "from sklearn.ensemble import ExtraTreesRegressor"
   ]
  },
  {
   "cell_type": "code",
   "execution_count": 31,
   "metadata": {},
   "outputs": [
    {
     "data": {
      "text/plain": [
       "(3.221869811461758e-14, 3.5508313733547276)"
      ]
     },
     "execution_count": 31,
     "metadata": {},
     "output_type": "execute_result"
    }
   ],
   "source": [
    "evaluate(ExtraTreesRegressor(random_state=42), X, y)"
   ]
  },
  {
   "cell_type": "code",
   "execution_count": 32,
   "metadata": {},
   "outputs": [
    {
     "name": "stdout",
     "output_type": "stream",
     "text": [
      "1 2 3 4 5 6 7 8 9 10 11 12 13 14 15 16 17 18 19 20 21 22 23 24 25 26 27 28 29 30 31 32 33 34 35 36 37 38 39 40 41 42 43 44 45 46 47 48 49 50 51 52 53 54 55 56 57 58 59 60 61 62 63 64 65 66 67 68 69 70 71 72 73 74 75 76 77 78 79 80 81 82 83 84 85 86 87 88 89 90 91 92 93 94 95 96 97 98 99 100 "
     ]
    }
   ],
   "source": [
    "res = []\n",
    "for n_trees in range(1, 101):\n",
    "    print(n_trees, end=' ')\n",
    "    re = ExtraTreesRegressor(n_estimators=n_trees, random_state=42)\n",
    "    rmse_tr, rmse_te = evaluate(re, X, y)\n",
    "    res.append({'n_trees': n_trees, 'rmse_tr': rmse_tr, 'rmse_te': rmse_te})"
   ]
  },
  {
   "cell_type": "code",
   "execution_count": 33,
   "metadata": {},
   "outputs": [
    {
     "data": {
      "text/plain": [
       "<AxesSubplot: xlabel='n_trees'>"
      ]
     },
     "execution_count": 33,
     "metadata": {},
     "output_type": "execute_result"
    },
    {
     "data": {
      "image/png": "[encoded data removed]",
      "text/plain": [
       "<Figure size 864x432 with 1 Axes>"
      ]
     },
     "metadata": {
      "needs_background": "light"
     },
     "output_type": "display_data"
    }
   ],
   "source": [
    "df_res = pd.DataFrame(res).set_index('n_trees')\n",
    "df_res.plot(figsize=(12,6), grid=True)"
   ]
  },
  {
   "cell_type": "code",
   "execution_count": null,
   "metadata": {},
   "outputs": [],
   "source": []
  }
 ],
 "metadata": {
  "kernelspec": {
   "display_name": "Python 3 (ipykernel)",
   "language": "python",
   "name": "python3"
  },
  "language_info": {
   "codemirror_mode": {
    "name": "ipython",
    "version": 3
   },
   "file_extension": ".py",
   "mimetype": "text/x-python",
   "name": "python",
   "nbconvert_exporter": "python",
   "pygments_lexer": "ipython3",
   "version": "3.8.0"
  }
 },
 "nbformat": 4,
 "nbformat_minor": 4
}
