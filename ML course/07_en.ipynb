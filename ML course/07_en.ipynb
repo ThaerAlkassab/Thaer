{
 "cells": [
  {
   "cell_type": "markdown",
   "metadata": {},
   "source": [
    "## Gradient Boosting\n",
    "\n",
    "- [Gradient boosting](https://en.wikipedia.org/wiki/Gradient_boosting) is another ensemble technique for classification and regression. It can be viewed as a \"series circuit\" of base learners.\n",
    "\n",
    "\n",
    "- The idea of gradient boosting originates from [Leo Breiman](https://en.wikipedia.org/wiki/Leo_Breiman) and [Jerome Friedman](https://en.wikipedia.org/wiki/Jerome_H._Friedman) (1999).\n",
    "\n",
    "\n",
    "- The diversity of the base learners is achieved by training them on different targets.\n",
    "\n",
    "\n",
    "- The base learners are regressors, both for classification and regression.\n",
    "\n",
    "\n",
    "- Usually, the base learners are decision trees regressors, but in theory they could be any regression algorithm.\n",
    "\n",
    "\n",
    "- Gradient Boosted Decision Trees (or Gradient Boosting Machine) is a \"swiss army knife\" method in machine learning. It is invariant to the scale of the feature values and performs well on a wide variety of problems."
   ]
  },
  {
   "cell_type": "markdown",
   "metadata": {},
   "source": [
    "### Pseudo Code of Training (w/o Learning Rate)\n",
    "<img src=\"gradient_boosting_algorithm.png\" width=\"600px\">"
   ]
  },
  {
   "cell_type": "markdown",
   "metadata": {},
   "source": [
    "### Learning Rate\n",
    "\n",
    "- instead of step size $\\gamma_m$, we use $\\eta \\cdot \\gamma_m$, where $\\eta \\in (0, 1]$\n",
    "- $\\eta<1$ implements the \"slow cooking\" idea, and in practice leads to better ensembles than $\\eta=1$\n",
    "\n",
    "<img src=\"slow_cooking.jpg\" width=\"250px\">"
   ]
  },
  {
   "cell_type": "markdown",
   "metadata": {},
   "source": [
    "### Special Case: Gradient Boosting for Regression\n",
    "\n",
    "- the loss function is the squared loss: $L(y, F(x)) = \\frac{1}{2} \\left(y - F(x)\\right)^2$\n",
    "- the initial model is the average target: $F_0(x) = \\frac{1}{n} \\sum_{i=1}^n y_i$\n",
    "- pseudo-residuals: $r_{im} = y_i - F_{m-1}(x_i)$\n",
    "- optimal multiplier: $\\gamma_m = \\left[\\sum_{i=1}^n h_m(x_i)r_{im}\\right] / \\left[\\sum_{i=1}^n \\left(h_m(x_i)\\right)^2\\right]$"
   ]
  },
  {
   "cell_type": "markdown",
   "metadata": {},
   "source": [
    "**Exercise 1**: Implement a tree based gradient boosting regressor and evaluate it on the Boston Housing data set using 3-fold cross-validation! Use a maximal tree depth of 3!"
   ]
  },
  {
   "cell_type": "code",
   "execution_count": 1,
   "metadata": {},
   "outputs": [],
   "source": [
    "# Load the Boston Housing data set.\n",
    "import pandas as pd\n",
    "names = ['CRIM', 'ZN', 'INDUS', 'CHAS', 'NOX', 'RM', 'AGE',\n",
    "         'DIS', 'RAD', 'TAX', 'PTRATIO', 'LSTAT', 'MEDV']\n",
    "df = pd.read_csv('housing_data.txt', delim_whitespace=True, names=names)\n",
    "df = df.sample(len(df), random_state=42) # data shuffling\n",
    "X = df.values[:, :-1] # input matrix\n",
    "y = df['MEDV'].values # target vector"
   ]
  },
  {
   "cell_type": "code",
   "execution_count": 2,
   "metadata": {},
   "outputs": [
    {
     "data": {
      "text/plain": [
       "(506, 12)"
      ]
     },
     "execution_count": 2,
     "metadata": {},
     "output_type": "execute_result"
    }
   ],
   "source": [
    "X.shape"
   ]
  },
  {
   "cell_type": "code",
   "execution_count": 3,
   "metadata": {},
   "outputs": [
    {
     "data": {
      "text/plain": [
       "(506,)"
      ]
     },
     "execution_count": 3,
     "metadata": {},
     "output_type": "execute_result"
    }
   ],
   "source": [
    "y.shape"
   ]
  },
  {
   "cell_type": "code",
   "execution_count": 12,
   "metadata": {},
   "outputs": [],
   "source": [
    "import numpy as np\n",
    "from sklearn.tree import DecisionTreeRegressor\n",
    "from sklearn.model_selection import KFold\n",
    "from sklearn.metrics import mean_squared_error"
   ]
  },
  {
   "cell_type": "code",
   "execution_count": 16,
   "metadata": {},
   "outputs": [],
   "source": [
    "class SimpleGradiantBoostingRegressor:\n",
    "    def __init__(self, n_trees=100, eta=0.1, max_depth=3):\n",
    "        self.n_trees = n_trees\n",
    "        self.eta = eta\n",
    "        self.max_depth= max_depth\n",
    "        \n",
    "    def fit(self, X, y):\n",
    "        self.F0 = np.mean(y)  # best constant model\n",
    "        r = y - self.F0 # pseudo-residuals\n",
    "        \n",
    "        self.trees = []\n",
    "        for m in range(self.n_trees):\n",
    "            tree = DecisionTreeRegressor(max_depth=self.max_depth, random_state=m) #random State\n",
    "            tree.fit(X, r) # fit base learner\n",
    "            rhat = tree.predict(X) # prediction of the base learner\n",
    "            gamma = (rhat@r)/(rhat@rhat) # optimal step size\n",
    "            w = self.eta * gamma\n",
    "            self.trees.append((w, tree)) # save tree and w\n",
    "            r -= (w * rhat)\n",
    "        \n",
    "        \n",
    "    def predict(self, X):\n",
    "        yhat = np.ones(len(X)) * self.F0\n",
    "        for w, tree in self.trees:\n",
    "            yhat += w * tree.predict(X)\n",
    "        return yhat\n",
    "        "
   ]
  },
  {
   "cell_type": "code",
   "execution_count": 17,
   "metadata": {},
   "outputs": [],
   "source": [
    "re = SimpleGradiantBoostingRegressor()\n",
    "re.fit(X, y)"
   ]
  },
  {
   "cell_type": "code",
   "execution_count": 18,
   "metadata": {},
   "outputs": [
    {
     "data": {
      "text/plain": [
       "array([23.94338117, 31.84403964, 14.5974109 , 23.18869335, 16.53389674,\n",
       "       20.51149196, 17.62557483, 13.57396085, 20.02974902, 19.1537357 ,\n",
       "       21.00365235, 18.77811641,  7.77255095, 20.58009835, 19.25299176,\n",
       "       26.15302545, 19.35018065,  9.13319693, 48.57348633, 15.22903246,\n",
       "       24.7196627 , 26.65527172, 13.86831478, 21.97822747, 14.95097855,\n",
       "       15.33661623, 21.58127832, 14.67157346, 19.68720584, 20.47668502,\n",
       "       20.2642894 , 23.61148237, 16.48740369, 19.79431243, 16.01197271,\n",
       "       17.44559748, 33.9641267 , 19.12315572, 22.28414065, 23.87685238,\n",
       "       18.91158592, 29.47223172, 49.05900514, 18.92279053, 23.09613799,\n",
       "       14.45276541, 14.89674794, 23.87685238, 17.95920624, 25.79465137,\n",
       "       20.31190662, 35.96893202, 15.80590052, 25.46493393, 46.0662084 ,\n",
       "       21.29196354, 16.20583887, 31.3541363 , 22.92447383, 17.90951381,\n",
       "       24.1399609 , 35.04744678, 31.05704042, 19.29881036, 24.63048326,\n",
       "       18.61714486, 13.63618977, 23.80222937, 29.11514983, 16.50801582,\n",
       "       20.80001181, 23.94133523, 10.30781219, 20.94226247, 21.637198  ,\n",
       "        5.56506069, 20.06917987, 48.58622726, 11.04404007,  9.62619819,\n",
       "       21.17633358, 14.94284172, 20.06246491,  9.8898435 , 19.8148173 ,\n",
       "       27.03040893, 15.54321935, 23.72991859, 25.59834601, 18.05814359,\n",
       "       22.60743354,  8.70476568, 20.01023594, 18.65530393, 25.77200581,\n",
       "       20.28259633, 48.78200179, 15.84392654, 12.33805394, 18.26469352,\n",
       "       20.82861905, 22.86471775, 12.33541787, 20.08118332, 20.05643001,\n",
       "       13.2168636 , 18.7104219 , 25.40992103, 20.59959848, 23.87750559,\n",
       "        9.08553407, 22.82305562, 22.06299019, 31.91028132, 32.09155153,\n",
       "       13.84717816, 41.7049744 , 15.1208986 , 20.70884696, 23.78328633,\n",
       "       18.68007905, 23.51199935,  7.80699263, 20.41511813, 24.14561736,\n",
       "       21.1857933 , 23.37877088, 38.49091195, 17.73296402, 46.04448157,\n",
       "       16.89161556, 23.41107031, 18.27060821, 19.07947045, 15.53622527,\n",
       "       19.46089117, 21.02701804, 31.24760232, 29.15255873, 15.54772281,\n",
       "       16.7789175 , 23.82378834, 19.59000695, 18.43333452,  7.67618858,\n",
       "       20.62441632, 17.53604084, 14.26880474, 14.48452414, 47.44214961,\n",
       "       16.53389674, 14.4823683 , 27.23235591, 21.71325974, 20.85076335,\n",
       "       21.69170846, 17.49907193, 23.08899057, 34.15622094,  6.20276483,\n",
       "       27.71506165, 18.55719647, 21.16234316, 23.61148237, 22.05445276,\n",
       "       20.43440803, 47.3127483 , 15.23359837, 16.77341824, 21.0866933 ,\n",
       "       19.22433077, 20.06917987, 22.24159265, 38.76863876, 20.49393345,\n",
       "       19.58143706, 21.41995845, 29.25856698, 36.14065647, 23.8729553 ,\n",
       "       13.41636513, 13.27697366, 11.16487116, 16.35655085, 31.49254756,\n",
       "       29.05132918, 14.56919768, 13.91854614, 49.19874073, 20.92634571,\n",
       "       19.88657069, 22.42079331, 18.12221124, 12.69631187,  7.80943809,\n",
       "       30.06691216, 25.94846649, 18.1178712 , 14.99069729, 14.48726275,\n",
       "       23.35541423, 17.97229239, 27.34120677, 34.72100189, 23.14173045,\n",
       "       22.34497229, 23.28724383, 50.01282765, 33.72454409, 32.05293992,\n",
       "       24.57660515, 23.35020137, 16.53389674, 42.39924604, 20.9675943 ,\n",
       "       31.0271021 , 24.12559993, 20.66605879, 20.66619643,  9.65114062,\n",
       "       45.07299996, 44.0964027 , 33.3598017 ,  9.40412597, 17.09786167,\n",
       "       21.41090285, 34.40489748, 16.61728077, 48.95011956, 19.98685239,\n",
       "       23.40403421, 11.47069706, 20.52753475, 23.50022496, 30.4450431 ,\n",
       "       30.54829822, 21.44329524, 23.5380056 , 24.39954545, 31.96615913,\n",
       "       25.08710939, 20.34544749, 23.77452114, 10.71668747, 24.82650903,\n",
       "       22.31115735, 17.94976399,  9.01746252, 20.18053097, 24.55787872,\n",
       "       23.20356282, 19.00346334, 21.2753031 , 14.75526853, 30.73128232,\n",
       "       26.31098789, 33.144198  , 13.02699496, 16.77666777, 13.05931079,\n",
       "       14.01233715, 11.02133698, 24.55468784, 17.57157583,  9.48477268,\n",
       "       22.36969719, 14.3574069 , 25.36942505, 32.63422488, 39.75081863,\n",
       "       30.77718454, 19.54826771, 30.90963836, 43.67350441, 21.9271521 ,\n",
       "       20.84423071, 24.95850262, 18.99691351, 17.19603056,  8.03224294,\n",
       "       21.13641042, 19.73475349, 27.79295037, 26.29989839, 18.85214119,\n",
       "       23.53743781, 15.67118714, 14.28893323, 34.6581908 , 18.48875961,\n",
       "       11.31388105, 21.33862702, 21.50323762, 19.08380711, 21.61941626,\n",
       "       48.70010917,  8.61620531, 18.75844577, 37.22269773, 19.29909642,\n",
       "       18.59065693, 22.30554283, 21.00658132, 15.20315154, 45.53844009,\n",
       "       23.92627597, 21.54766349, 16.06193831, 30.06106969, 34.87128768,\n",
       "       42.69923995, 18.85726669, 22.34281364, 19.5190534 , 45.8386138 ,\n",
       "       13.54354803, 20.62475724, 15.47410901, 22.20126708,  8.32811969,\n",
       "       20.06917987, 14.22484007, 14.13622895, 17.91132848, 22.29388057,\n",
       "       22.36394993, 21.48990219, 24.70958183, 49.36144447, 26.10592653,\n",
       "       20.9826723 , 49.13247245,  8.9076255 , 24.68975108, 20.27977161,\n",
       "       21.15649136, 18.46549262, 20.03173972, 13.98552463, 11.02133698,\n",
       "       26.57170469, 20.3989323 , 26.98142753, 21.89954354, 25.11305702,\n",
       "       12.75018369, 11.32198808, 29.56999801, 28.3799249 ,  9.51018397,\n",
       "       18.62400296, 22.97355312, 45.37493621, 22.31822592,  9.61681826,\n",
       "       35.3152476 , 43.04664917, 15.85069933, 24.54167677, 40.72144701,\n",
       "       17.19505671, 25.87042247, 13.99221051, 21.2753031 , 43.59262221,\n",
       "       27.6567932 , 24.13619933, 17.27562194, 17.81686259, 13.80311657,\n",
       "       48.05056526, 21.00298048, 33.26131745, 15.97643774, 15.08151668,\n",
       "       14.42406501, 22.28279528, 34.51824077, 22.84958464, 49.7005193 ,\n",
       "       10.49528037, 13.64087617, 22.38400339, 17.02984294, 17.16915836,\n",
       "       27.35022716, 17.02455525, 24.06629699, 18.62807604, 32.4954863 ,\n",
       "       26.42841251, 18.73785301, 16.65772224, 34.24958377, 11.38441512,\n",
       "       20.61401392, 28.71303461, 22.56862867, 35.12773675, 11.45456386,\n",
       "       23.67979453, 19.38493389, 25.62545238, 20.32871843, 21.65657997,\n",
       "       27.55675713, 19.36385403, 25.77763182, 21.30842263, 20.98560186,\n",
       "       33.17912815, 22.49580438, 21.87915238, 22.69237596, 49.17654587,\n",
       "       24.14561736, 26.13959404,  8.82022703, 32.97673581, 20.49867839,\n",
       "       32.08527032, 17.45463707, 21.72623844, 11.32198808, 21.79019007,\n",
       "       15.87753279, 15.02449898, 18.62516946, 10.22441633, 27.40572498,\n",
       "       23.76632069, 14.71893486, 15.76422952, 31.48445399, 11.90378456,\n",
       "       19.28711466, 22.10144168, 19.50792664, 19.77773943, 25.19864246,\n",
       "       18.82732995, 34.87128768, 20.51338874, 20.23355623, 19.32917714,\n",
       "       27.06011499,  8.46146737, 38.21135689, 49.88352537, 19.53494766,\n",
       "       21.02285957, 16.40964185, 33.84292501, 18.46314173, 21.60872548,\n",
       "       24.76702986, 17.62759944, 17.71570929, 20.48291761, 18.39583915,\n",
       "       22.5462147 , 10.79330954, 34.03961182, 19.11057791, 19.97173206,\n",
       "       28.7263535 , 22.42079331, 22.79617935, 16.57900309, 31.38486286,\n",
       "       22.89353353, 31.87851094, 18.08245003, 22.21974   , 18.01088659,\n",
       "       26.19137898, 33.77820738, 13.78436769, 29.45196712,  8.57804525,\n",
       "       24.04767225, 14.729936  , 25.7726188 , 50.16718936, 25.84797917,\n",
       "       14.56548017, 20.01023594, 19.41916554, 20.63633342, 33.22054316,\n",
       "       48.31400185, 23.17413704, 15.41411439, 22.01096261, 22.77029625,\n",
       "       17.12884637, 21.23025849, 14.62203331, 13.83904853, 30.12374063,\n",
       "       20.68799646, 17.45463707, 21.02343742, 24.98958987, 12.46448683,\n",
       "       20.45289135])"
      ]
     },
     "execution_count": 18,
     "metadata": {},
     "output_type": "execute_result"
    }
   ],
   "source": [
    "re.predict(X)"
   ]
  },
  {
   "cell_type": "code",
   "execution_count": 13,
   "metadata": {},
   "outputs": [],
   "source": [
    "def evaluate(re, X, y):\n",
    "    cv = KFold(3, random_state=42, shuffle=True)\n",
    "\n",
    "    scores_tr = []\n",
    "    scores_te = []\n",
    "    for tr, te in cv.split(X):\n",
    "        re.fit(X[tr], y[tr])\n",
    "        yhat = re.predict(X)\n",
    "        scores_tr.append(mean_squared_error(y[tr], yhat[tr])**0.5)\n",
    "        scores_te.append(mean_squared_error(y[te], yhat[te])**0.5)\n",
    "\n",
    "    return np.mean(scores_tr), np.mean(scores_te)"
   ]
  },
  {
   "cell_type": "code",
   "execution_count": 19,
   "metadata": {},
   "outputs": [
    {
     "data": {
      "text/plain": [
       "(1.2716614748909418, 3.363000134587033)"
      ]
     },
     "execution_count": 19,
     "metadata": {},
     "output_type": "execute_result"
    }
   ],
   "source": [
    "evaluate(SimpleGradiantBoostingRegressor(), X, y)"
   ]
  },
  {
   "cell_type": "markdown",
   "metadata": {},
   "source": [
    "**Exercise 2**: Repeat the previous experiment using scikit-learn!"
   ]
  },
  {
   "cell_type": "code",
   "execution_count": 15,
   "metadata": {},
   "outputs": [],
   "source": [
    "from sklearn.ensemble import GradientBoostingRegressor"
   ]
  },
  {
   "cell_type": "code",
   "execution_count": 20,
   "metadata": {},
   "outputs": [
    {
     "data": {
      "text/plain": [
       "(1.2716614748909418, 3.36820868174328)"
      ]
     },
     "execution_count": 20,
     "metadata": {},
     "output_type": "execute_result"
    }
   ],
   "source": [
    " evaluate(GradientBoostingRegressor(random_state=42), X, y)"
   ]
  },
  {
   "cell_type": "markdown",
   "metadata": {},
   "source": [
    "**Exercise 3**: Which tree depth gives the most accurate ensemble?"
   ]
  },
  {
   "cell_type": "code",
   "execution_count": 29,
   "metadata": {},
   "outputs": [
    {
     "name": "stdout",
     "output_type": "stream",
     "text": [
      "1 2 3 4 5 6 7 8 9 10 11 12 13 14 15 16 17 18 19 20 "
     ]
    },
    {
     "data": {
      "text/plain": [
       "<AxesSubplot: xlabel='max_depth'>"
      ]
     },
     "execution_count": 29,
     "metadata": {},
     "output_type": "execute_result"
    },
    {
     "data": {
      "image/png": "[encoded data removed]",
      "text/plain": [
       "<Figure size 864x432 with 1 Axes>"
      ]
     },
     "metadata": {
      "needs_background": "light"
     },
     "output_type": "display_data"
    }
   ],
   "source": [
    "# Professor solution\n",
    "res = []\n",
    "for max_depth in range(1, 21):\n",
    "    print(max_depth, end=' ')\n",
    "    re = GradientBoostingRegressor(max_depth=max_depth, random_state=42)\n",
    "    rmse_tr, rmse_te = evaluate(re, X, y)\n",
    "    res.append({'max_depth': max_depth, 'rmse_tr': rmse_tr, 'rmse_te': rmse_te})\n",
    "\n",
    "df_res = pd.DataFrame(res).set_index('max_depth')\n",
    "df_res.plot(figsize=(12, 6), grid=True)"
   ]
  },
  {
   "cell_type": "code",
   "execution_count": 30,
   "metadata": {},
   "outputs": [
    {
     "data": {
      "text/plain": [
       "3"
      ]
     },
     "execution_count": 30,
     "metadata": {},
     "output_type": "execute_result"
    }
   ],
   "source": [
    "# Optimal max_depth.\n",
    "df_res['rmse_te'].idxmin()"
   ]
  },
  {
   "cell_type": "markdown",
   "metadata": {},
   "source": [
    "**Exercise 3/B**: How the training and test RMSE changes with the number of trees? (Use a simple train-test split for this experiment!)"
   ]
  },
  {
   "cell_type": "code",
   "execution_count": 32,
   "metadata": {},
   "outputs": [
    {
     "name": "stdout",
     "output_type": "stream",
     "text": [
      "1 2 3 4 5 6 7 8 9 10 11 12 13 14 15 16 17 18 19 20 21 22 23 24 25 26 27 28 29 30 31 32 33 34 35 36 37 38 39 40 41 42 43 44 45 46 47 48 49 50 51 52 53 54 55 56 57 58 59 60 61 62 63 64 65 66 67 68 69 70 71 72 73 74 75 76 77 78 79 80 81 82 83 84 85 86 87 88 89 90 91 92 93 94 95 96 97 98 99 100 101 102 103 104 105 106 107 108 109 110 111 112 113 114 115 116 117 118 119 120 121 122 123 124 125 126 127 128 129 130 131 132 133 134 135 136 137 138 139 140 141 142 143 144 145 146 147 148 149 150 151 152 153 154 155 156 157 158 159 160 161 162 163 164 165 166 167 168 169 170 171 172 173 174 175 176 177 178 179 180 181 182 183 184 185 186 187 188 189 190 191 192 193 194 195 196 197 198 199 200 201 202 203 204 205 206 207 208 209 210 211 212 213 214 215 216 217 218 219 220 221 222 223 224 225 226 227 228 229 230 231 232 233 234 235 236 237 238 239 240 241 242 243 244 245 246 247 248 249 250 251 252 253 254 255 256 257 258 259 260 261 262 263 264 265 266 267 268 269 270 271 272 273 274 275 276 277 278 279 280 281 282 283 284 285 286 287 288 289 290 291 292 293 294 295 296 297 298 299 300 301 302 303 304 305 306 307 308 309 310 311 312 313 314 315 316 317 318 319 320 321 322 323 324 325 326 327 328 329 330 331 332 333 334 335 336 337 338 339 340 341 342 343 344 345 346 347 348 349 350 351 352 353 354 355 356 357 358 359 360 361 362 363 364 365 366 367 368 369 370 371 372 373 374 375 376 377 378 379 380 381 382 383 384 385 386 387 388 389 390 391 392 393 394 395 396 397 398 399 400 401 402 403 404 405 406 407 408 409 410 411 412 413 414 415 416 417 418 419 420 421 422 423 424 425 426 427 428 429 430 431 432 433 434 435 436 437 438 439 440 441 442 443 444 445 446 447 448 449 450 451 452 453 454 455 456 457 458 459 460 461 462 463 464 465 466 467 468 469 470 471 472 473 474 475 476 477 478 479 480 481 482 483 484 485 486 487 488 489 490 491 492 493 494 495 496 497 498 499 500 "
     ]
    },
    {
     "data": {
      "text/plain": [
       "<AxesSubplot: xlabel='n_trees'>"
      ]
     },
     "execution_count": 32,
     "metadata": {},
     "output_type": "execute_result"
    },
    {
     "data": {
      "image/png": "[encoded data removed]",
      "text/plain": [
       "<Figure size 864x432 with 1 Axes>"
      ]
     },
     "metadata": {
      "needs_background": "light"
     },
     "output_type": "display_data"
    }
   ],
   "source": [
    "from sklearn.model_selection import ShuffleSplit\n",
    "tr, te = next(ShuffleSplit(test_size=0.3, random_state=42).split(X))\n",
    "\n",
    "res = []\n",
    "re = GradientBoostingRegressor(n_estimators=1, random_state=42)\n",
    "for n_trees in range(1, 501):\n",
    "    print(n_trees, end=' ')\n",
    "    if n_trees > 1:\n",
    "        re.warm_start = True\n",
    "        re.n_estimators += 1\n",
    "    re.fit(X[tr], y[tr])\n",
    "    yhat = re.predict(X)\n",
    "    rmse_tr = mean_squared_error(y[tr], yhat[tr])**0.5\n",
    "    rmse_te = mean_squared_error(y[te], yhat[te])**0.5\n",
    "    res.append({'n_trees': n_trees, 'rmse_tr': rmse_tr, 'rmse_te': rmse_te})\n",
    "    \n",
    "df_res = pd.DataFrame(res).set_index('n_trees')\n",
    "df_res.plot(figsize=(12, 6), grid=True)"
   ]
  },
  {
   "cell_type": "code",
   "execution_count": 33,
   "metadata": {},
   "outputs": [
    {
     "name": "stdout",
     "output_type": "stream",
     "text": [
      "1 2 3 4 5 6 7 8 9 10 11 12 13 14 15 16 17 18 19 20 21 22 23 24 25 26 27 28 29 30 31 32 33 34 35 36 37 38 39 40 41 42 43 44 45 46 47 48 49 50 51 52 53 54 55 56 57 58 59 60 61 62 63 64 65 66 67 68 69 70 71 72 73 74 75 76 77 78 79 80 81 82 83 84 85 86 87 88 89 90 91 92 93 94 95 96 97 98 99 100 101 102 103 104 105 106 107 108 109 110 111 112 113 114 115 116 117 118 119 120 121 122 123 124 125 126 127 128 129 130 131 132 133 134 135 136 137 138 139 140 141 142 143 144 145 146 147 148 149 150 151 152 153 154 155 156 157 158 159 160 161 162 163 164 165 166 167 168 169 170 171 172 173 174 175 176 177 178 179 180 181 182 183 184 185 186 187 188 189 190 191 192 193 194 195 196 197 198 199 200 201 202 203 204 205 206 207 208 209 210 211 212 213 214 215 216 217 218 219 220 221 222 223 224 225 226 227 228 229 230 231 232 233 234 235 236 237 238 239 240 241 242 243 244 245 246 247 248 249 250 251 252 253 254 255 256 257 258 259 260 261 262 263 264 265 266 267 268 269 270 271 272 273 274 275 276 277 278 279 280 281 282 283 284 285 286 287 288 289 290 291 292 293 294 295 296 297 298 299 300 301 302 303 304 305 306 307 308 309 310 311 312 313 314 315 316 317 318 319 320 321 322 323 324 325 326 327 328 329 330 331 332 333 334 335 336 337 338 339 340 341 342 343 344 345 346 347 348 349 350 351 352 353 354 355 356 357 358 359 360 361 362 363 364 365 366 367 368 369 370 371 372 373 374 375 376 377 378 379 380 381 382 383 384 385 386 387 388 389 390 391 392 393 394 395 396 397 398 399 400 401 402 403 404 405 406 407 408 409 410 411 412 413 414 415 416 417 418 419 420 421 422 423 424 425 426 427 428 429 430 431 432 433 434 435 436 437 438 439 440 441 442 443 444 445 446 447 448 449 450 451 452 453 454 455 456 457 458 459 460 461 462 463 464 465 466 467 468 469 470 471 472 473 474 475 476 477 478 479 480 481 482 483 484 485 486 487 488 489 490 491 492 493 494 495 496 497 498 499 500 "
     ]
    },
    {
     "data": {
      "text/plain": [
       "<AxesSubplot: xlabel='n_trees'>"
      ]
     },
     "execution_count": 33,
     "metadata": {},
     "output_type": "execute_result"
    },
    {
     "data": {
      "image/png": "[encoded data removed]",
      "text/plain": [
       "<Figure size 864x432 with 1 Axes>"
      ]
     },
     "metadata": {
      "needs_background": "light"
     },
     "output_type": "display_data"
    }
   ],
   "source": [
    "# What happens if we use deeper trees?\n",
    "from sklearn.model_selection import ShuffleSplit\n",
    "tr, te = next(ShuffleSplit(test_size=0.3, random_state=42).split(X))\n",
    "\n",
    "res = []\n",
    "re = GradientBoostingRegressor(n_estimators=1, max_depth=6, random_state=42)\n",
    "for n_trees in range(1, 501):\n",
    "    print(n_trees, end=' ')\n",
    "    if n_trees > 1:\n",
    "        re.warm_start = True\n",
    "        re.n_estimators += 1\n",
    "    re.fit(X[tr], y[tr])\n",
    "    yhat = re.predict(X)\n",
    "    rmse_tr = mean_squared_error(y[tr], yhat[tr])**0.5\n",
    "    rmse_te = mean_squared_error(y[te], yhat[te])**0.5\n",
    "    res.append({'n_trees': n_trees, 'rmse_tr': rmse_tr, 'rmse_te': rmse_te})\n",
    "    \n",
    "df_res = pd.DataFrame(res).set_index('n_trees')\n",
    "df_res.plot(figsize=(12, 6), grid=True)    "
   ]
  },
  {
   "cell_type": "markdown",
   "metadata": {},
   "source": [
    "**Exercise 4**: Apply a random forest and a gradient boosting classifier on the Wisconsin Breast Cancer data set! Use stratified 10-fold cross-validation! The evaluation metric should be the ratio of correct classifications. For both ensemble methods, determine the maximal tree depth that gives the highest accuracy!"
   ]
  },
  {
   "cell_type": "code",
   "execution_count": 1,
   "metadata": {},
   "outputs": [],
   "source": [
    "# Load the Wisconsin Breast Cancer data set.\n",
    "import pandas as pd\n",
    "names = [\n",
    "    'Sample_code_number', 'Clump_Thickness', 'Uniformity_of_Cell_Size',\n",
    "    'Uniformity_of_Cell_Shape', 'Marginal_Adhesion', 'Single_Epithelial_Cell_Size',\n",
    "    'Bare_Nuclei', 'Bland_Chromatin', 'Normal_Nucleoli', 'Mitoses', 'Class'\n",
    "]\n",
    "df = pd.read_csv('wisconsin_data.txt', sep=',', names=names, na_values='?')\n",
    "df = df.sample(len(df), random_state=42) # data shuffling\n",
    "df['Bare_Nuclei'].fillna(0, inplace=True)\n",
    "X = df[df.columns[1: -1]].values\n",
    "y = (df['Class'].values / 2 - 1).astype('int')"
   ]
  },
  {
   "cell_type": "code",
   "execution_count": 2,
   "metadata": {},
   "outputs": [
    {
     "data": {
      "text/plain": [
       "((699, 9), (699,))"
      ]
     },
     "execution_count": 2,
     "metadata": {},
     "output_type": "execute_result"
    }
   ],
   "source": [
    "X.shape, y.shape"
   ]
  },
  {
   "cell_type": "code",
   "execution_count": 11,
   "metadata": {},
   "outputs": [],
   "source": [
    "# evaluate function\n",
    "from sklearn.model_selection import StratifiedKFold\n",
    "from sklearn.metrics import accuracy_score\n",
    "import numpy as np"
   ]
  },
  {
   "cell_type": "code",
   "execution_count": 12,
   "metadata": {},
   "outputs": [],
   "source": [
    "def evaluate(cl, X, y):\n",
    "    cv = StratifiedKFold(10, shuffle=True, random_state=42)\n",
    "    scores = []\n",
    "    for tr, te in cv.split(X, y):\n",
    "        cl.fit(X[tr], y[tr])\n",
    "        yhat = cl.predict(X) # log_loss or regressors use predict_propa\n",
    "        score = accuracy_score(y[te], yhat[te])\n",
    "        scores.append(score)\n",
    "    return np.mean(scores)"
   ]
  },
  {
   "cell_type": "code",
   "execution_count": 13,
   "metadata": {},
   "outputs": [],
   "source": [
    "# Dummy classifier's accuracy.\n",
    "from sklearn.dummy import DummyClassifier"
   ]
  },
  {
   "cell_type": "code",
   "execution_count": 14,
   "metadata": {},
   "outputs": [
    {
     "data": {
      "text/plain": [
       "0.6552173913043479"
      ]
     },
     "execution_count": 14,
     "metadata": {},
     "output_type": "execute_result"
    }
   ],
   "source": [
    "evaluate(DummyClassifier(), X, y)"
   ]
  },
  {
   "cell_type": "code",
   "execution_count": 15,
   "metadata": {},
   "outputs": [],
   "source": [
    "# Logistic regression's accuracy.\n",
    "from sklearn.linear_model import LogisticRegression"
   ]
  },
  {
   "cell_type": "code",
   "execution_count": 16,
   "metadata": {},
   "outputs": [
    {
     "data": {
      "text/plain": [
       "0.9656314699792962"
      ]
     },
     "execution_count": 16,
     "metadata": {},
     "output_type": "execute_result"
    }
   ],
   "source": [
    "evaluate(LogisticRegression(), X, y)"
   ]
  },
  {
   "cell_type": "code",
   "execution_count": 17,
   "metadata": {},
   "outputs": [],
   "source": [
    "# gradient boosting, random forest, different max_depth values, ...\n",
    "from sklearn.ensemble import GradientBoostingClassifier\n",
    "from sklearn.ensemble import RandomForestClassifier"
   ]
  },
  {
   "cell_type": "code",
   "execution_count": 29,
   "metadata": {},
   "outputs": [
    {
     "name": "stdout",
     "output_type": "stream",
     "text": [
      "1\n",
      "2\n",
      "3\n",
      "4\n",
      "5\n",
      "6\n",
      "7\n",
      "8\n",
      "9\n",
      "10\n"
     ]
    }
   ],
   "source": [
    "GB = []\n",
    "RF = []\n",
    "\n",
    "for i in range (1,11):\n",
    "    print(i)\n",
    "    gb = evaluate(GradientBoostingClassifier(random_state=42 ,max_depth=i), X, y)\n",
    "    GB.append({'max_depth': i, 'eva_GB': gb})\n",
    "    rf = evaluate(RandomForestClassifier(random_state=42, max_depth=i), X, y)\n",
    "    RF.append({'max_depth': i, 'eva_RF': rf})"
   ]
  },
  {
   "cell_type": "code",
   "execution_count": 31,
   "metadata": {},
   "outputs": [],
   "source": [
    "data1 = pd.DataFrame(GB).set_index('max_depth')\n",
    "data2 = pd.DataFrame(RF).set_index('max_depth')"
   ]
  },
  {
   "cell_type": "code",
   "execution_count": 32,
   "metadata": {},
   "outputs": [
    {
     "data": {
      "text/html": [
       "<div>\n",
       "<style scoped>\n",
       "    .dataframe tbody tr th:only-of-type {\n",
       "        vertical-align: middle;\n",
       "    }\n",
       "\n",
       "    .dataframe tbody tr th {\n",
       "        vertical-align: top;\n",
       "    }\n",
       "\n",
       "    .dataframe thead th {\n",
       "        text-align: right;\n",
       "    }\n",
       "</style>\n",
       "<table border=\"1\" class=\"dataframe\">\n",
       "  <thead>\n",
       "    <tr style=\"text-align: right;\">\n",
       "      <th></th>\n",
       "      <th>eva</th>\n",
       "    </tr>\n",
       "    <tr>\n",
       "      <th>max_depth</th>\n",
       "      <th></th>\n",
       "    </tr>\n",
       "  </thead>\n",
       "  <tbody>\n",
       "    <tr>\n",
       "      <th>1</th>\n",
       "      <td>0.962774</td>\n",
       "    </tr>\n",
       "    <tr>\n",
       "      <th>2</th>\n",
       "      <td>0.957081</td>\n",
       "    </tr>\n",
       "    <tr>\n",
       "      <th>3</th>\n",
       "      <td>0.952754</td>\n",
       "    </tr>\n",
       "    <tr>\n",
       "      <th>4</th>\n",
       "      <td>0.958509</td>\n",
       "    </tr>\n",
       "    <tr>\n",
       "      <th>5</th>\n",
       "      <td>0.958509</td>\n",
       "    </tr>\n",
       "    <tr>\n",
       "      <th>6</th>\n",
       "      <td>0.948489</td>\n",
       "    </tr>\n",
       "    <tr>\n",
       "      <th>7</th>\n",
       "      <td>0.949917</td>\n",
       "    </tr>\n",
       "    <tr>\n",
       "      <th>8</th>\n",
       "      <td>0.945611</td>\n",
       "    </tr>\n",
       "    <tr>\n",
       "      <th>9</th>\n",
       "      <td>0.941346</td>\n",
       "    </tr>\n",
       "    <tr>\n",
       "      <th>10</th>\n",
       "      <td>0.937060</td>\n",
       "    </tr>\n",
       "  </tbody>\n",
       "</table>\n",
       "</div>"
      ],
      "text/plain": [
       "                eva\n",
       "max_depth          \n",
       "1          0.962774\n",
       "2          0.957081\n",
       "3          0.952754\n",
       "4          0.958509\n",
       "5          0.958509\n",
       "6          0.948489\n",
       "7          0.949917\n",
       "8          0.945611\n",
       "9          0.941346\n",
       "10         0.937060"
      ]
     },
     "execution_count": 32,
     "metadata": {},
     "output_type": "execute_result"
    }
   ],
   "source": [
    "data1"
   ]
  },
  {
   "cell_type": "code",
   "execution_count": 33,
   "metadata": {
    "scrolled": true
   },
   "outputs": [
    {
     "data": {
      "text/html": [
       "<div>\n",
       "<style scoped>\n",
       "    .dataframe tbody tr th:only-of-type {\n",
       "        vertical-align: middle;\n",
       "    }\n",
       "\n",
       "    .dataframe tbody tr th {\n",
       "        vertical-align: top;\n",
       "    }\n",
       "\n",
       "    .dataframe thead th {\n",
       "        text-align: right;\n",
       "    }\n",
       "</style>\n",
       "<table border=\"1\" class=\"dataframe\">\n",
       "  <thead>\n",
       "    <tr style=\"text-align: right;\">\n",
       "      <th></th>\n",
       "      <th>eva</th>\n",
       "    </tr>\n",
       "    <tr>\n",
       "      <th>max_depth</th>\n",
       "      <th></th>\n",
       "    </tr>\n",
       "  </thead>\n",
       "  <tbody>\n",
       "    <tr>\n",
       "      <th>1</th>\n",
       "      <td>0.947019</td>\n",
       "    </tr>\n",
       "    <tr>\n",
       "      <th>2</th>\n",
       "      <td>0.962754</td>\n",
       "    </tr>\n",
       "    <tr>\n",
       "      <th>3</th>\n",
       "      <td>0.965631</td>\n",
       "    </tr>\n",
       "    <tr>\n",
       "      <th>4</th>\n",
       "      <td>0.964182</td>\n",
       "    </tr>\n",
       "    <tr>\n",
       "      <th>5</th>\n",
       "      <td>0.965611</td>\n",
       "    </tr>\n",
       "    <tr>\n",
       "      <th>6</th>\n",
       "      <td>0.965611</td>\n",
       "    </tr>\n",
       "    <tr>\n",
       "      <th>7</th>\n",
       "      <td>0.969896</td>\n",
       "    </tr>\n",
       "    <tr>\n",
       "      <th>8</th>\n",
       "      <td>0.968468</td>\n",
       "    </tr>\n",
       "    <tr>\n",
       "      <th>9</th>\n",
       "      <td>0.969896</td>\n",
       "    </tr>\n",
       "    <tr>\n",
       "      <th>10</th>\n",
       "      <td>0.969896</td>\n",
       "    </tr>\n",
       "  </tbody>\n",
       "</table>\n",
       "</div>"
      ],
      "text/plain": [
       "                eva\n",
       "max_depth          \n",
       "1          0.947019\n",
       "2          0.962754\n",
       "3          0.965631\n",
       "4          0.964182\n",
       "5          0.965611\n",
       "6          0.965611\n",
       "7          0.969896\n",
       "8          0.968468\n",
       "9          0.969896\n",
       "10         0.969896"
      ]
     },
     "execution_count": 33,
     "metadata": {},
     "output_type": "execute_result"
    }
   ],
   "source": [
    "data2"
   ]
  },
  {
   "cell_type": "code",
   "execution_count": 41,
   "metadata": {
    "scrolled": true
   },
   "outputs": [
    {
     "data": {
      "text/plain": [
       "<AxesSubplot: xlabel='max_depth'>"
      ]
     },
     "execution_count": 41,
     "metadata": {},
     "output_type": "execute_result"
    },
    {
     "data": {
      "image/png": "[encoded data removed]",
      "text/plain": [
       "<Figure size 864x432 with 1 Axes>"
      ]
     },
     "metadata": {
      "needs_background": "light"
     },
     "output_type": "display_data"
    }
   ],
   "source": [
    "ax = data1.plot(figsize=(12,6))\n",
    "data2.plot(ax=ax, grid=True)"
   ]
  },
  {
   "cell_type": "code",
   "execution_count": 42,
   "metadata": {},
   "outputs": [
    {
     "name": "stdout",
     "output_type": "stream",
     "text": [
      "1 2 3 4 5 6 7 8 9 10 "
     ]
    }
   ],
   "source": [
    "# Professor Solutions\n",
    "# gradient boosting, random forest, different max_depth values, ...\n",
    "res = []\n",
    "for max_depth in list(range(1, 11)):\n",
    "    print(max_depth, end=' ')\n",
    "    gb = GradientBoostingClassifier(max_depth=max_depth, random_state=42)\n",
    "    rf = RandomForestClassifier(max_depth=max_depth, random_state=42)\n",
    "    res.append({'max_depth': max_depth, 'RF_acc': evaluate(rf, X, y), 'GB_acc': evaluate(gb, X, y)})"
   ]
  },
  {
   "cell_type": "code",
   "execution_count": 43,
   "metadata": {},
   "outputs": [
    {
     "data": {
      "text/plain": [
       "<AxesSubplot: xlabel='max_depth'>"
      ]
     },
     "execution_count": 43,
     "metadata": {},
     "output_type": "execute_result"
    },
    {
     "data": {
      "image/png": "[encoded data removed]",
      "text/plain": [
       "<Figure size 864x432 with 1 Axes>"
      ]
     },
     "metadata": {
      "needs_background": "light"
     },
     "output_type": "display_data"
    }
   ],
   "source": [
    "df_res = pd.DataFrame(res).set_index('max_depth')\n",
    "df_res.plot(figsize=(12, 6), grid=True)"
   ]
  },
  {
   "cell_type": "markdown",
   "metadata": {},
   "source": [
    "### Gradient Boosting on Steroids\n",
    "\n",
    "- [XGBoost](https://en.wikipedia.org/wiki/XGBoost) and [LightGBM](https://en.wikipedia.org/wiki/LightGBM) are a highly efficient and flexible implementations of gradient boosting.\n",
    "- XGBoost started as a research project by Tianqi Chen (in 2014).\n",
    "- LightGBM was introduced by Microsoft Research (in 2016).\n",
    "\n",
    "- note: another [LightGBM](https://lightgbm.readthedocs.io/en/stable/Features.html)"
   ]
  },
  {
   "cell_type": "markdown",
   "metadata": {},
   "source": [
    "**Exercise 5**: Compare XGBoost, LightGBM and scikit-learn's GradientBoostingClassifier on the Wisconsin Breast Cancer problem, in terms of speed and accuracy!"
   ]
  },
  {
   "cell_type": "code",
   "execution_count": 44,
   "metadata": {},
   "outputs": [
    {
     "data": {
      "text/plain": [
       "'1.7.3'"
      ]
     },
     "execution_count": 44,
     "metadata": {},
     "output_type": "execute_result"
    }
   ],
   "source": [
    "import xgboost\n",
    "xgboost.__version__"
   ]
  },
  {
   "cell_type": "code",
   "execution_count": 45,
   "metadata": {},
   "outputs": [
    {
     "data": {
      "text/plain": [
       "'3.3.5'"
      ]
     },
     "execution_count": 45,
     "metadata": {},
     "output_type": "execute_result"
    }
   ],
   "source": [
    "import lightgbm\n",
    "lightgbm.__version__"
   ]
  },
  {
   "cell_type": "code",
   "execution_count": 56,
   "metadata": {},
   "outputs": [
    {
     "data": {
      "text/plain": [
       "0.9585093167701864"
      ]
     },
     "execution_count": 56,
     "metadata": {},
     "output_type": "execute_result"
    }
   ],
   "source": [
    "from xgboost import XGBClassifier\n",
    "evaluate(XGBClassifier(n_estimators=100, max_depth=3), X, y)"
   ]
  },
  {
   "cell_type": "code",
   "execution_count": 55,
   "metadata": {},
   "outputs": [
    {
     "data": {
      "text/html": [
       "<style>#sk-container-id-3 {color: black;background-color: white;}#sk-container-id-3 pre{padding: 0;}#sk-container-id-3 div.sk-toggleable {background-color: white;}#sk-container-id-3 label.sk-toggleable__label {cursor: pointer;display: block;width: 100%;margin-bottom: 0;padding: 0.3em;box-sizing: border-box;text-align: center;}#sk-container-id-3 label.sk-toggleable__label-arrow:before {content: \"▸\";float: left;margin-right: 0.25em;color: #696969;}#sk-container-id-3 label.sk-toggleable__label-arrow:hover:before {color: black;}#sk-container-id-3 div.sk-estimator:hover label.sk-toggleable__label-arrow:before {color: black;}#sk-container-id-3 div.sk-toggleable__content {max-height: 0;max-width: 0;overflow: hidden;text-align: left;background-color: #f0f8ff;}#sk-container-id-3 div.sk-toggleable__content pre {margin: 0.2em;color: black;border-radius: 0.25em;background-color: #f0f8ff;}#sk-container-id-3 input.sk-toggleable__control:checked~div.sk-toggleable__content {max-height: 200px;max-width: 100%;overflow: auto;}#sk-container-id-3 input.sk-toggleable__control:checked~label.sk-toggleable__label-arrow:before {content: \"▾\";}#sk-container-id-3 div.sk-estimator input.sk-toggleable__control:checked~label.sk-toggleable__label {background-color: #d4ebff;}#sk-container-id-3 div.sk-label input.sk-toggleable__control:checked~label.sk-toggleable__label {background-color: #d4ebff;}#sk-container-id-3 input.sk-hidden--visually {border: 0;clip: rect(1px 1px 1px 1px);clip: rect(1px, 1px, 1px, 1px);height: 1px;margin: -1px;overflow: hidden;padding: 0;position: absolute;width: 1px;}#sk-container-id-3 div.sk-estimator {font-family: monospace;background-color: #f0f8ff;border: 1px dotted black;border-radius: 0.25em;box-sizing: border-box;margin-bottom: 0.5em;}#sk-container-id-3 div.sk-estimator:hover {background-color: #d4ebff;}#sk-container-id-3 div.sk-parallel-item::after {content: \"\";width: 100%;border-bottom: 1px solid gray;flex-grow: 1;}#sk-container-id-3 div.sk-label:hover label.sk-toggleable__label {background-color: #d4ebff;}#sk-container-id-3 div.sk-serial::before {content: \"\";position: absolute;border-left: 1px solid gray;box-sizing: border-box;top: 0;bottom: 0;left: 50%;z-index: 0;}#sk-container-id-3 div.sk-serial {display: flex;flex-direction: column;align-items: center;background-color: white;padding-right: 0.2em;padding-left: 0.2em;position: relative;}#sk-container-id-3 div.sk-item {position: relative;z-index: 1;}#sk-container-id-3 div.sk-parallel {display: flex;align-items: stretch;justify-content: center;background-color: white;position: relative;}#sk-container-id-3 div.sk-item::before, #sk-container-id-3 div.sk-parallel-item::before {content: \"\";position: absolute;border-left: 1px solid gray;box-sizing: border-box;top: 0;bottom: 0;left: 50%;z-index: -1;}#sk-container-id-3 div.sk-parallel-item {display: flex;flex-direction: column;z-index: 1;position: relative;background-color: white;}#sk-container-id-3 div.sk-parallel-item:first-child::after {align-self: flex-end;width: 50%;}#sk-container-id-3 div.sk-parallel-item:last-child::after {align-self: flex-start;width: 50%;}#sk-container-id-3 div.sk-parallel-item:only-child::after {width: 0;}#sk-container-id-3 div.sk-dashed-wrapped {border: 1px dashed gray;margin: 0 0.4em 0.5em 0.4em;box-sizing: border-box;padding-bottom: 0.4em;background-color: white;}#sk-container-id-3 div.sk-label label {font-family: monospace;font-weight: bold;display: inline-block;line-height: 1.2em;}#sk-container-id-3 div.sk-label-container {text-align: center;}#sk-container-id-3 div.sk-container {/* jupyter's `normalize.less` sets `[hidden] { display: none; }` but bootstrap.min.css set `[hidden] { display: none !important; }` so we also need the `!important` here to be able to override the default hidden behavior on the sphinx rendered scikit-learn.org. See: https://github.com/scikit-learn/scikit-learn/issues/21755 */display: inline-block !important;position: relative;}#sk-container-id-3 div.sk-text-repr-fallback {display: none;}</style><div id=\"sk-container-id-3\" class=\"sk-top-container\"><div class=\"sk-text-repr-fallback\"><pre>XGBClassifier(base_score=None, booster=None, callbacks=None,\n",
       "              colsample_bylevel=None, colsample_bynode=None,\n",
       "              colsample_bytree=None, early_stopping_rounds=None,\n",
       "              enable_categorical=False, eval_metric=None, feature_types=None,\n",
       "              gamma=None, gpu_id=None, grow_policy=None, importance_type=None,\n",
       "              interaction_constraints=None, learning_rate=None, max_bin=None,\n",
       "              max_cat_threshold=None, max_cat_to_onehot=None,\n",
       "              max_delta_step=None, max_depth=None, max_leaves=None,\n",
       "              min_child_weight=None, missing=nan, monotone_constraints=None,\n",
       "              n_estimators=100, n_jobs=None, num_parallel_tree=None,\n",
       "              predictor=None, random_state=None, ...)</pre><b>In a Jupyter environment, please rerun this cell to show the HTML representation or trust the notebook. <br />On GitHub, the HTML representation is unable to render, please try loading this page with nbviewer.org.</b></div><div class=\"sk-container\" hidden><div class=\"sk-item\"><div class=\"sk-estimator sk-toggleable\"><input class=\"sk-toggleable__control sk-hidden--visually\" id=\"sk-estimator-id-3\" type=\"checkbox\" checked><label for=\"sk-estimator-id-3\" class=\"sk-toggleable__label sk-toggleable__label-arrow\">XGBClassifier</label><div class=\"sk-toggleable__content\"><pre>XGBClassifier(base_score=None, booster=None, callbacks=None,\n",
       "              colsample_bylevel=None, colsample_bynode=None,\n",
       "              colsample_bytree=None, early_stopping_rounds=None,\n",
       "              enable_categorical=False, eval_metric=None, feature_types=None,\n",
       "              gamma=None, gpu_id=None, grow_policy=None, importance_type=None,\n",
       "              interaction_constraints=None, learning_rate=None, max_bin=None,\n",
       "              max_cat_threshold=None, max_cat_to_onehot=None,\n",
       "              max_delta_step=None, max_depth=None, max_leaves=None,\n",
       "              min_child_weight=None, missing=nan, monotone_constraints=None,\n",
       "              n_estimators=100, n_jobs=None, num_parallel_tree=None,\n",
       "              predictor=None, random_state=None, ...)</pre></div></div></div></div></div>"
      ],
      "text/plain": [
       "XGBClassifier(base_score=None, booster=None, callbacks=None,\n",
       "              colsample_bylevel=None, colsample_bynode=None,\n",
       "              colsample_bytree=None, early_stopping_rounds=None,\n",
       "              enable_categorical=False, eval_metric=None, feature_types=None,\n",
       "              gamma=None, gpu_id=None, grow_policy=None, importance_type=None,\n",
       "              interaction_constraints=None, learning_rate=None, max_bin=None,\n",
       "              max_cat_threshold=None, max_cat_to_onehot=None,\n",
       "              max_delta_step=None, max_depth=None, max_leaves=None,\n",
       "              min_child_weight=None, missing=nan, monotone_constraints=None,\n",
       "              n_estimators=100, n_jobs=None, num_parallel_tree=None,\n",
       "              predictor=None, random_state=None, ...)"
      ]
     },
     "execution_count": 55,
     "metadata": {},
     "output_type": "execute_result"
    }
   ],
   "source": [
    "XGBClassifier()"
   ]
  },
  {
   "cell_type": "code",
   "execution_count": 66,
   "metadata": {},
   "outputs": [
    {
     "name": "stdout",
     "output_type": "stream",
     "text": [
      "acc  0.9585093167701864 \n",
      "time  0.43979501724243164\n"
     ]
    }
   ],
   "source": [
    "import time\n",
    "\n",
    "t0 = time.time()\n",
    "print('acc ', evaluate(XGBClassifier(n_estimators=100, max_depth=3), X, y), '\\ntime ', (time.time() - t0))"
   ]
  },
  {
   "cell_type": "code",
   "execution_count": 67,
   "metadata": {},
   "outputs": [
    {
     "data": {
      "text/plain": [
       "0.9542443064182194"
      ]
     },
     "execution_count": 67,
     "metadata": {},
     "output_type": "execute_result"
    }
   ],
   "source": [
    "from lightgbm import LGBMClassifier\n",
    "evaluate(LGBMClassifier(), X, y)"
   ]
  },
  {
   "cell_type": "code",
   "execution_count": 68,
   "metadata": {},
   "outputs": [
    {
     "name": "stdout",
     "output_type": "stream",
     "text": [
      "acc  0.9585300207039337 \n",
      "time  0.28715991973876953\n"
     ]
    }
   ],
   "source": [
    "import time\n",
    "\n",
    "t0 = time.time()\n",
    "print('acc ', evaluate(LGBMClassifier(n_estimators=100, num_leaves=8), X, y), '\\ntime ', (time.time() - t0))"
   ]
  },
  {
   "cell_type": "code",
   "execution_count": 72,
   "metadata": {},
   "outputs": [
    {
     "name": "stdout",
     "output_type": "stream",
     "text": [
      "acc  0.9585093167701864 \n",
      "time  1.2569808959960938\n"
     ]
    }
   ],
   "source": [
    "import time\n",
    "\n",
    "t0 = time.time()\n",
    "print('acc ', evaluate(GradientBoostingClassifier(n_estimators=100, max_depth=3, random_state=42), X, y), '\\ntime ', (time.time() - t0))"
   ]
  },
  {
   "cell_type": "code",
   "execution_count": 77,
   "metadata": {},
   "outputs": [
    {
     "name": "stdout",
     "output_type": "stream",
     "text": [
      "acc: 0.9585093167701864 \n",
      "time: 1.2880544662475586\n"
     ]
    }
   ],
   "source": [
    "# Since version 0.21, scikit-learn includes a histogram based\n",
    "# gradient boosting algorithm that was inspired by LightGBM.\n",
    "\n",
    "from sklearn.ensemble import HistGradientBoostingClassifier\n",
    "import time\n",
    "from sklearn.ensemble import HistGradientBoostingClassifier\n",
    "t0= time.time()\n",
    "print('acc:', evaluate(HistGradientBoostingClassifier(max_iter=100, max_leaf_nodes=8, random_state=42), X, y), '\\ntime:', time.time() - t0)"
   ]
  },
  {
   "cell_type": "code",
   "execution_count": null,
   "metadata": {},
   "outputs": [],
   "source": []
  }
 ],
 "metadata": {
  "kernelspec": {
   "display_name": "Python 3 (ipykernel)",
   "language": "python",
   "name": "python3"
  },
  "language_info": {
   "codemirror_mode": {
    "name": "ipython",
    "version": 3
   },
   "file_extension": ".py",
   "mimetype": "text/x-python",
   "name": "python",
   "nbconvert_exporter": "python",
   "pygments_lexer": "ipython3",
   "version": "3.8.0"
  }
 },
 "nbformat": 4,
 "nbformat_minor": 4
}
