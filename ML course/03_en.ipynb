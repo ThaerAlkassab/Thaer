{
 "cells": [
  {
   "cell_type": "markdown",
   "metadata": {},
   "source": [
    "## Univariate [Logistic Regression](https://en.wikipedia.org/wiki/Logistic_regression)\n",
    "\n",
    "- Logistic regression is an algorithm for **classification**.\n",
    "\n",
    "- Logistic regression builds a **linear model** that separates the two classes by a hyperplane."
   ]
  },
  {
   "cell_type": "markdown",
   "metadata": {},
   "source": [
    "<img src=\"../_img/linear_classifier.jpg\" width=\"300\" align=\"left\">"
   ]
  },
  {
   "cell_type": "markdown",
   "metadata": {},
   "source": [
    "For simplicity, let' discuss first the **univariate** case, with a **binary target** variable and **no bias** term."
   ]
  },
  {
   "cell_type": "markdown",
   "metadata": {},
   "source": [
    "<img src=\"../_img/logreg_1d.jpg\" width=\"400\" align=\"left\">"
   ]
  },
  {
   "cell_type": "markdown",
   "metadata": {},
   "source": [
    "### The Programming Exam Problem"
   ]
  },
  {
   "cell_type": "code",
   "execution_count": 1,
   "metadata": {},
   "outputs": [
    {
     "data": {
      "text/html": [
       "<div>\n",
       "<style scoped>\n",
       "    .dataframe tbody tr th:only-of-type {\n",
       "        vertical-align: middle;\n",
       "    }\n",
       "\n",
       "    .dataframe tbody tr th {\n",
       "        vertical-align: top;\n",
       "    }\n",
       "\n",
       "    .dataframe thead th {\n",
       "        text-align: right;\n",
       "    }\n",
       "</style>\n",
       "<table border=\"1\" class=\"dataframe\">\n",
       "  <thead>\n",
       "    <tr style=\"text-align: right;\">\n",
       "      <th></th>\n",
       "      <th>name</th>\n",
       "      <th>study_time</th>\n",
       "      <th>result</th>\n",
       "    </tr>\n",
       "  </thead>\n",
       "  <tbody>\n",
       "    <tr>\n",
       "      <th>0</th>\n",
       "      <td>David Beckham</td>\n",
       "      <td>0.0</td>\n",
       "      <td>0</td>\n",
       "    </tr>\n",
       "    <tr>\n",
       "      <th>1</th>\n",
       "      <td>Jessica Scott</td>\n",
       "      <td>7.0</td>\n",
       "      <td>1</td>\n",
       "    </tr>\n",
       "    <tr>\n",
       "      <th>2</th>\n",
       "      <td>Jack Johnson</td>\n",
       "      <td>3.5</td>\n",
       "      <td>0</td>\n",
       "    </tr>\n",
       "    <tr>\n",
       "      <th>3</th>\n",
       "      <td>Scunner Campbell</td>\n",
       "      <td>6.0</td>\n",
       "      <td>0</td>\n",
       "    </tr>\n",
       "    <tr>\n",
       "      <th>4</th>\n",
       "      <td>Plain Jane</td>\n",
       "      <td>3.0</td>\n",
       "      <td>1</td>\n",
       "    </tr>\n",
       "    <tr>\n",
       "      <th>5</th>\n",
       "      <td>Archie Gillis</td>\n",
       "      <td>15.0</td>\n",
       "      <td>1</td>\n",
       "    </tr>\n",
       "  </tbody>\n",
       "</table>\n",
       "</div>"
      ],
      "text/plain": [
       "               name  study_time  result\n",
       "0     David Beckham         0.0       0\n",
       "1     Jessica Scott         7.0       1\n",
       "2      Jack Johnson         3.5       0\n",
       "3  Scunner Campbell         6.0       0\n",
       "4       Plain Jane          3.0       1\n",
       "5     Archie Gillis        15.0       1"
      ]
     },
     "execution_count": 1,
     "metadata": {},
     "output_type": "execute_result"
    }
   ],
   "source": [
    "import pandas as pd\n",
    "data = [\n",
    "    {'name': 'David Beckham',    'study_time': 0,   'result': 0},\n",
    "    {'name': 'Jessica Scott',    'study_time': 7,   'result': 1},\n",
    "    {'name': 'Jack Johnson',     'study_time': 3.5, 'result': 0},\n",
    "    {'name': 'Scunner Campbell', 'study_time': 6,   'result': 0},\n",
    "    {'name': 'Plain Jane ',      'study_time': 3,   'result': 1},\n",
    "    {'name': 'Archie Gillis',    'study_time': 15,  'result': 1},\n",
    "]\n",
    "df = pd.DataFrame(data)\n",
    "df"
   ]
  },
  {
   "cell_type": "markdown",
   "metadata": {},
   "source": [
    "The above toy data set contains 2 attributes of 6 students:\n",
    "- Hours spent on preparing for the exam.\n",
    "- Did the student pass the exam? (0=no, 1=yes)"
   ]
  },
  {
   "cell_type": "markdown",
   "metadata": {},
   "source": [
    "**Exercise 1**: Train a univariate logistic regression model that estimates the `result` column from the `study_time` column!"
   ]
  },
  {
   "cell_type": "code",
   "execution_count": 2,
   "metadata": {},
   "outputs": [
    {
     "name": "stdout",
     "output_type": "stream",
     "text": [
      "[-5.75  1.25 -2.25  0.25 -2.75  9.25] [0 1 0 0 1 1]\n"
     ]
    }
   ],
   "source": [
    "x = df['study_time'].values # input vector\n",
    "y = df['result'].values     # target vector\n",
    "\n",
    "# subtract mean from inpute\n",
    "xm = x.mean()\n",
    "x -= xm\n",
    "\n",
    "print(x,y)"
   ]
  },
  {
   "cell_type": "code",
   "execution_count": 3,
   "metadata": {},
   "outputs": [],
   "source": [
    "import numpy as np\n",
    "def sigmoid(t):\n",
    "    return 1/(1+np.exp(-t))"
   ]
  },
  {
   "cell_type": "code",
   "execution_count": 4,
   "metadata": {},
   "outputs": [
    {
     "data": {
      "text/plain": [
       "array([0.5, 0.5, 0.5, 0.5, 0.5, 0.5])"
      ]
     },
     "execution_count": 4,
     "metadata": {},
     "output_type": "execute_result"
    }
   ],
   "source": [
    "# sigmoid (x)\n",
    "\n",
    "w = 0 # initial model parameter\n",
    "\n",
    "yhat = sigmoid(x*w)\n",
    "yhat\n"
   ]
  },
  {
   "cell_type": "code",
   "execution_count": 5,
   "metadata": {},
   "outputs": [
    {
     "data": {
      "text/plain": [
       "(-7.75, 33.21875)"
      ]
     },
     "execution_count": 5,
     "metadata": {},
     "output_type": "execute_result"
    }
   ],
   "source": [
    "ce_i = ((yhat - y) * x).sum()\n",
    "\n",
    "ce_ii= (yhat * (1-yhat) * x**2).sum()\n",
    "\n",
    "ce_i, ce_ii"
   ]
  },
  {
   "cell_type": "code",
   "execution_count": 6,
   "metadata": {},
   "outputs": [
    {
     "data": {
      "text/plain": [
       "0.2333019755409219"
      ]
     },
     "execution_count": 6,
     "metadata": {},
     "output_type": "execute_result"
    }
   ],
   "source": [
    "# 1st Newton's step\n",
    "\n",
    "w -= ce_i / ce_ii\n",
    "w"
   ]
  },
  {
   "cell_type": "code",
   "execution_count": 7,
   "metadata": {},
   "outputs": [
    {
     "data": {
      "text/plain": [
       "array([0.20726573, 0.57239452, 0.37170029, 0.51457724, 0.34488937,\n",
       "       0.896418  ])"
      ]
     },
     "execution_count": 7,
     "metadata": {},
     "output_type": "execute_result"
    }
   ],
   "source": [
    "yhat = sigmoid(x*w)\n",
    "yhat"
   ]
  },
  {
   "cell_type": "code",
   "execution_count": 8,
   "metadata": {},
   "outputs": [
    {
     "data": {
      "text/plain": [
       "0.4666039510818438"
      ]
     },
     "execution_count": 8,
     "metadata": {},
     "output_type": "execute_result"
    }
   ],
   "source": [
    "# 2nd Newton's step\n",
    "\n",
    "w -= ce_i / ce_ii\n",
    "w"
   ]
  },
  {
   "cell_type": "code",
   "execution_count": 9,
   "metadata": {},
   "outputs": [
    {
     "data": {
      "text/plain": [
       "array([0.06398561, 0.64181602, 0.2592522 , 0.52912972, 0.21701265,\n",
       "       0.98682389])"
      ]
     },
     "execution_count": 9,
     "metadata": {},
     "output_type": "execute_result"
    }
   ],
   "source": [
    "yhat = sigmoid(x*w)\n",
    "yhat"
   ]
  },
  {
   "cell_type": "code",
   "execution_count": 10,
   "metadata": {},
   "outputs": [
    {
     "name": "stdout",
     "output_type": "stream",
     "text": [
      "w = 0.333032246 CE(w) = 3.103909\n",
      "[0.06398561 0.64181602 0.2592522  0.52912972 0.21701265 0.98682389]\n",
      "w = 0.359110223 CE(w) = 3.06404697\n",
      "[0.1284274  0.60259521 0.32096893 0.5208025  0.28580655 0.95608321]\n",
      "w = 0.360846759 CE(w) = 3.06039476\n",
      "[0.11255707 0.61037476 0.30831727 0.52242933 0.27139565 0.96516813]\n",
      "w = 0.360853783 CE(w) = 3.06038094\n",
      "[0.11156354 0.61089086 0.30748466 0.52253764 0.27045238 0.96570413]\n",
      "w = 0.360853783 CE(w) = 3.06038094\n",
      "[0.11155953 0.61089295 0.30748129 0.52253808 0.27044857 0.96570628]\n",
      "w = 0.360853783 CE(w) = 3.06038094\n",
      "[0.11155953 0.61089295 0.30748129 0.52253808 0.27044857 0.96570628]\n",
      "w = 0.360853783 CE(w) = 3.06038094\n",
      "[0.11155953 0.61089295 0.30748129 0.52253808 0.27044857 0.96570628]\n",
      "w = 0.360853783 CE(w) = 3.06038094\n",
      "[0.11155953 0.61089295 0.30748129 0.52253808 0.27044857 0.96570628]\n",
      "w = 0.360853783 CE(w) = 3.06038094\n",
      "[0.11155953 0.61089295 0.30748129 0.52253808 0.27044857 0.96570628]\n",
      "w = 0.360853783 CE(w) = 3.06038094\n",
      "[0.11155953 0.61089295 0.30748129 0.52253808 0.27044857 0.96570628]\n"
     ]
    }
   ],
   "source": [
    "# Newton steps in for loop\n",
    "for it in range(10):\n",
    "    yhat = sigmoid(x*w)\n",
    "    ce = -(np.log(yhat)* y + np.log(1-yhat) * (1-y)).sum()\n",
    "    ce_i = ((yhat - y) * x).sum()\n",
    "    ce_ii= (yhat * (1-yhat) * x**2).sum()\n",
    "    w -= ce_i / ce_ii\n",
    "    print(f'w = {w:.9f} CE(w) = {ce:.9}')\n",
    "    print(yhat)"
   ]
  },
  {
   "cell_type": "code",
   "execution_count": 11,
   "metadata": {},
   "outputs": [],
   "source": [
    "ce = -(np.log(yhat)* y + np.log(1-yhat) * (1-y)).sum()"
   ]
  },
  {
   "cell_type": "code",
   "execution_count": 12,
   "metadata": {},
   "outputs": [
    {
     "data": {
      "text/plain": [
       "Text(0, 0.5, 'P(passing the exam)')"
      ]
     },
     "execution_count": 12,
     "metadata": {},
     "output_type": "execute_result"
    },
    {
     "data": {
      "image/png": "[encoded data removed]",
      "text/plain": [
       "<Figure size 1152x432 with 1 Axes>"
      ]
     },
     "metadata": {
      "needs_background": "light"
     },
     "output_type": "display_data"
    }
   ],
   "source": [
    "# Display the probability of passing the exam (according to the model)\n",
    "# as a function of the study hours!\n",
    "import matplotlib.pyplot as plt\n",
    "x2 = np.arange(0, 24, 0.5)\n",
    "yhat2 = sigmoid((x2 - xm) * w)\n",
    "plt.figure(figsize=(16,6))\n",
    "plt.plot(x2, yhat2)\n",
    "plt.grid(True)\n",
    "plt.xlabel('study hours')\n",
    "plt.ylabel('P(passing the exam)')"
   ]
  },
  {
   "cell_type": "markdown",
   "metadata": {},
   "source": [
    "### The Wisconsin Breast Cancer Problem\n",
    "\n",
    "<img src=\"../_img/wisconsin_illustration.jpg\" width=\"200\" align=\"left\">"
   ]
  },
  {
   "cell_type": "markdown",
   "metadata": {},
   "source": [
    "The Wisconsin Breast Cancer data set contains the attributes of 699 suspicious lesions in tissue microscopy images. The raw data is contained in [wisconsin_data.txt](../_data/wisconsin_data.txt), the description can be read in [wisconsin_names.txt](../_data/wisconsin_names.txt). The task is to estimate if the lesion is malicious (4) or benign (2), based on the image attributes of the lesion. Therefore the task is a binary classification problem."
   ]
  },
  {
   "cell_type": "markdown",
   "metadata": {},
   "source": [
    "**Exercise 2**: Train a univariate logistic regression model for each input feature separately, and measure the *average* cross-entropy of the models! Use the full data set both for training and evaluation!"
   ]
  },
  {
   "cell_type": "code",
   "execution_count": 13,
   "metadata": {},
   "outputs": [],
   "source": [
    "# Column names.\n",
    "names = [\n",
    "    'Sample_code_number',\n",
    "    'Clump_Thickness',\n",
    "    'Uniformity_of_Cell_Size',\n",
    "    'Uniformity_of_Cell_Shape',\n",
    "    'Marginal_Adhesion',\n",
    "    'Single_Epithelial_Cell_Size',\n",
    "    'Bare_Nuclei',\n",
    "    'Bland_Chromatin',\n",
    "    'Normal_Nucleoli',\n",
    "    'Mitoses',\n",
    "    'Class'\n",
    "]"
   ]
  },
  {
   "cell_type": "code",
   "execution_count": 14,
   "metadata": {},
   "outputs": [
    {
     "data": {
      "text/html": [
       "<div>\n",
       "<style scoped>\n",
       "    .dataframe tbody tr th:only-of-type {\n",
       "        vertical-align: middle;\n",
       "    }\n",
       "\n",
       "    .dataframe tbody tr th {\n",
       "        vertical-align: top;\n",
       "    }\n",
       "\n",
       "    .dataframe thead th {\n",
       "        text-align: right;\n",
       "    }\n",
       "</style>\n",
       "<table border=\"1\" class=\"dataframe\">\n",
       "  <thead>\n",
       "    <tr style=\"text-align: right;\">\n",
       "      <th></th>\n",
       "      <th>Sample_code_number</th>\n",
       "      <th>Clump_Thickness</th>\n",
       "      <th>Uniformity_of_Cell_Size</th>\n",
       "      <th>Uniformity_of_Cell_Shape</th>\n",
       "      <th>Marginal_Adhesion</th>\n",
       "      <th>Single_Epithelial_Cell_Size</th>\n",
       "      <th>Bare_Nuclei</th>\n",
       "      <th>Bland_Chromatin</th>\n",
       "      <th>Normal_Nucleoli</th>\n",
       "      <th>Mitoses</th>\n",
       "      <th>Class</th>\n",
       "    </tr>\n",
       "  </thead>\n",
       "  <tbody>\n",
       "    <tr>\n",
       "      <th>0</th>\n",
       "      <td>1000025</td>\n",
       "      <td>5</td>\n",
       "      <td>1</td>\n",
       "      <td>1</td>\n",
       "      <td>1</td>\n",
       "      <td>2</td>\n",
       "      <td>1.0</td>\n",
       "      <td>3</td>\n",
       "      <td>1</td>\n",
       "      <td>1</td>\n",
       "      <td>2</td>\n",
       "    </tr>\n",
       "    <tr>\n",
       "      <th>1</th>\n",
       "      <td>1002945</td>\n",
       "      <td>5</td>\n",
       "      <td>4</td>\n",
       "      <td>4</td>\n",
       "      <td>5</td>\n",
       "      <td>7</td>\n",
       "      <td>10.0</td>\n",
       "      <td>3</td>\n",
       "      <td>2</td>\n",
       "      <td>1</td>\n",
       "      <td>2</td>\n",
       "    </tr>\n",
       "    <tr>\n",
       "      <th>2</th>\n",
       "      <td>1015425</td>\n",
       "      <td>3</td>\n",
       "      <td>1</td>\n",
       "      <td>1</td>\n",
       "      <td>1</td>\n",
       "      <td>2</td>\n",
       "      <td>2.0</td>\n",
       "      <td>3</td>\n",
       "      <td>1</td>\n",
       "      <td>1</td>\n",
       "      <td>2</td>\n",
       "    </tr>\n",
       "    <tr>\n",
       "      <th>3</th>\n",
       "      <td>1016277</td>\n",
       "      <td>6</td>\n",
       "      <td>8</td>\n",
       "      <td>8</td>\n",
       "      <td>1</td>\n",
       "      <td>3</td>\n",
       "      <td>4.0</td>\n",
       "      <td>3</td>\n",
       "      <td>7</td>\n",
       "      <td>1</td>\n",
       "      <td>2</td>\n",
       "    </tr>\n",
       "    <tr>\n",
       "      <th>4</th>\n",
       "      <td>1017023</td>\n",
       "      <td>4</td>\n",
       "      <td>1</td>\n",
       "      <td>1</td>\n",
       "      <td>3</td>\n",
       "      <td>2</td>\n",
       "      <td>1.0</td>\n",
       "      <td>3</td>\n",
       "      <td>1</td>\n",
       "      <td>1</td>\n",
       "      <td>2</td>\n",
       "    </tr>\n",
       "    <tr>\n",
       "      <th>...</th>\n",
       "      <td>...</td>\n",
       "      <td>...</td>\n",
       "      <td>...</td>\n",
       "      <td>...</td>\n",
       "      <td>...</td>\n",
       "      <td>...</td>\n",
       "      <td>...</td>\n",
       "      <td>...</td>\n",
       "      <td>...</td>\n",
       "      <td>...</td>\n",
       "      <td>...</td>\n",
       "    </tr>\n",
       "    <tr>\n",
       "      <th>694</th>\n",
       "      <td>776715</td>\n",
       "      <td>3</td>\n",
       "      <td>1</td>\n",
       "      <td>1</td>\n",
       "      <td>1</td>\n",
       "      <td>3</td>\n",
       "      <td>2.0</td>\n",
       "      <td>1</td>\n",
       "      <td>1</td>\n",
       "      <td>1</td>\n",
       "      <td>2</td>\n",
       "    </tr>\n",
       "    <tr>\n",
       "      <th>695</th>\n",
       "      <td>841769</td>\n",
       "      <td>2</td>\n",
       "      <td>1</td>\n",
       "      <td>1</td>\n",
       "      <td>1</td>\n",
       "      <td>2</td>\n",
       "      <td>1.0</td>\n",
       "      <td>1</td>\n",
       "      <td>1</td>\n",
       "      <td>1</td>\n",
       "      <td>2</td>\n",
       "    </tr>\n",
       "    <tr>\n",
       "      <th>696</th>\n",
       "      <td>888820</td>\n",
       "      <td>5</td>\n",
       "      <td>10</td>\n",
       "      <td>10</td>\n",
       "      <td>3</td>\n",
       "      <td>7</td>\n",
       "      <td>3.0</td>\n",
       "      <td>8</td>\n",
       "      <td>10</td>\n",
       "      <td>2</td>\n",
       "      <td>4</td>\n",
       "    </tr>\n",
       "    <tr>\n",
       "      <th>697</th>\n",
       "      <td>897471</td>\n",
       "      <td>4</td>\n",
       "      <td>8</td>\n",
       "      <td>6</td>\n",
       "      <td>4</td>\n",
       "      <td>3</td>\n",
       "      <td>4.0</td>\n",
       "      <td>10</td>\n",
       "      <td>6</td>\n",
       "      <td>1</td>\n",
       "      <td>4</td>\n",
       "    </tr>\n",
       "    <tr>\n",
       "      <th>698</th>\n",
       "      <td>897471</td>\n",
       "      <td>4</td>\n",
       "      <td>8</td>\n",
       "      <td>8</td>\n",
       "      <td>5</td>\n",
       "      <td>4</td>\n",
       "      <td>5.0</td>\n",
       "      <td>10</td>\n",
       "      <td>4</td>\n",
       "      <td>1</td>\n",
       "      <td>4</td>\n",
       "    </tr>\n",
       "  </tbody>\n",
       "</table>\n",
       "<p>699 rows × 11 columns</p>\n",
       "</div>"
      ],
      "text/plain": [
       "     Sample_code_number  Clump_Thickness  Uniformity_of_Cell_Size  \\\n",
       "0               1000025                5                        1   \n",
       "1               1002945                5                        4   \n",
       "2               1015425                3                        1   \n",
       "3               1016277                6                        8   \n",
       "4               1017023                4                        1   \n",
       "..                  ...              ...                      ...   \n",
       "694              776715                3                        1   \n",
       "695              841769                2                        1   \n",
       "696              888820                5                       10   \n",
       "697              897471                4                        8   \n",
       "698              897471                4                        8   \n",
       "\n",
       "     Uniformity_of_Cell_Shape  Marginal_Adhesion  Single_Epithelial_Cell_Size  \\\n",
       "0                           1                  1                            2   \n",
       "1                           4                  5                            7   \n",
       "2                           1                  1                            2   \n",
       "3                           8                  1                            3   \n",
       "4                           1                  3                            2   \n",
       "..                        ...                ...                          ...   \n",
       "694                         1                  1                            3   \n",
       "695                         1                  1                            2   \n",
       "696                        10                  3                            7   \n",
       "697                         6                  4                            3   \n",
       "698                         8                  5                            4   \n",
       "\n",
       "     Bare_Nuclei  Bland_Chromatin  Normal_Nucleoli  Mitoses  Class  \n",
       "0            1.0                3                1        1      2  \n",
       "1           10.0                3                2        1      2  \n",
       "2            2.0                3                1        1      2  \n",
       "3            4.0                3                7        1      2  \n",
       "4            1.0                3                1        1      2  \n",
       "..           ...              ...              ...      ...    ...  \n",
       "694          2.0                1                1        1      2  \n",
       "695          1.0                1                1        1      2  \n",
       "696          3.0                8               10        2      4  \n",
       "697          4.0               10                6        1      4  \n",
       "698          5.0               10                4        1      4  \n",
       "\n",
       "[699 rows x 11 columns]"
      ]
     },
     "execution_count": 14,
     "metadata": {},
     "output_type": "execute_result"
    }
   ],
   "source": [
    "df = pd.read_csv('wisconsin_data.txt', sep=',', names=names, na_values='?')\n",
    "# we found some ? values, so we replaced it with nan\n",
    "df"
   ]
  },
  {
   "cell_type": "code",
   "execution_count": 15,
   "metadata": {},
   "outputs": [
    {
     "name": "stdout",
     "output_type": "stream",
     "text": [
      "<class 'pandas.core.frame.DataFrame'>\n",
      "RangeIndex: 699 entries, 0 to 698\n",
      "Data columns (total 11 columns):\n",
      " #   Column                       Non-Null Count  Dtype  \n",
      "---  ------                       --------------  -----  \n",
      " 0   Sample_code_number           699 non-null    int64  \n",
      " 1   Clump_Thickness              699 non-null    int64  \n",
      " 2   Uniformity_of_Cell_Size      699 non-null    int64  \n",
      " 3   Uniformity_of_Cell_Shape     699 non-null    int64  \n",
      " 4   Marginal_Adhesion            699 non-null    int64  \n",
      " 5   Single_Epithelial_Cell_Size  699 non-null    int64  \n",
      " 6   Bare_Nuclei                  683 non-null    float64\n",
      " 7   Bland_Chromatin              699 non-null    int64  \n",
      " 8   Normal_Nucleoli              699 non-null    int64  \n",
      " 9   Mitoses                      699 non-null    int64  \n",
      " 10  Class                        699 non-null    int64  \n",
      "dtypes: float64(1), int64(10)\n",
      "memory usage: 60.2 KB\n"
     ]
    }
   ],
   "source": [
    "df.info()"
   ]
  },
  {
   "cell_type": "code",
   "execution_count": 16,
   "metadata": {},
   "outputs": [
    {
     "data": {
      "text/plain": [
       "array([ 1., 10.,  2.,  4.,  3.,  9.,  7., nan,  5.,  8.,  6.])"
      ]
     },
     "execution_count": 16,
     "metadata": {},
     "output_type": "execute_result"
    }
   ],
   "source": [
    "df.Bare_Nuclei.unique()"
   ]
  },
  {
   "cell_type": "code",
   "execution_count": 17,
   "metadata": {},
   "outputs": [
    {
     "data": {
      "text/html": [
       "<div>\n",
       "<style scoped>\n",
       "    .dataframe tbody tr th:only-of-type {\n",
       "        vertical-align: middle;\n",
       "    }\n",
       "\n",
       "    .dataframe tbody tr th {\n",
       "        vertical-align: top;\n",
       "    }\n",
       "\n",
       "    .dataframe thead th {\n",
       "        text-align: right;\n",
       "    }\n",
       "</style>\n",
       "<table border=\"1\" class=\"dataframe\">\n",
       "  <thead>\n",
       "    <tr style=\"text-align: right;\">\n",
       "      <th></th>\n",
       "      <th>Sample_code_number</th>\n",
       "      <th>Clump_Thickness</th>\n",
       "      <th>Uniformity_of_Cell_Size</th>\n",
       "      <th>Uniformity_of_Cell_Shape</th>\n",
       "      <th>Marginal_Adhesion</th>\n",
       "      <th>Single_Epithelial_Cell_Size</th>\n",
       "      <th>Bare_Nuclei</th>\n",
       "      <th>Bland_Chromatin</th>\n",
       "      <th>Normal_Nucleoli</th>\n",
       "      <th>Mitoses</th>\n",
       "      <th>Class</th>\n",
       "    </tr>\n",
       "  </thead>\n",
       "  <tbody>\n",
       "    <tr>\n",
       "      <th>0</th>\n",
       "      <td>1000025</td>\n",
       "      <td>5</td>\n",
       "      <td>1</td>\n",
       "      <td>1</td>\n",
       "      <td>1</td>\n",
       "      <td>2</td>\n",
       "      <td>1.0</td>\n",
       "      <td>3</td>\n",
       "      <td>1</td>\n",
       "      <td>1</td>\n",
       "      <td>2</td>\n",
       "    </tr>\n",
       "    <tr>\n",
       "      <th>1</th>\n",
       "      <td>1002945</td>\n",
       "      <td>5</td>\n",
       "      <td>4</td>\n",
       "      <td>4</td>\n",
       "      <td>5</td>\n",
       "      <td>7</td>\n",
       "      <td>10.0</td>\n",
       "      <td>3</td>\n",
       "      <td>2</td>\n",
       "      <td>1</td>\n",
       "      <td>2</td>\n",
       "    </tr>\n",
       "    <tr>\n",
       "      <th>2</th>\n",
       "      <td>1015425</td>\n",
       "      <td>3</td>\n",
       "      <td>1</td>\n",
       "      <td>1</td>\n",
       "      <td>1</td>\n",
       "      <td>2</td>\n",
       "      <td>2.0</td>\n",
       "      <td>3</td>\n",
       "      <td>1</td>\n",
       "      <td>1</td>\n",
       "      <td>2</td>\n",
       "    </tr>\n",
       "    <tr>\n",
       "      <th>3</th>\n",
       "      <td>1016277</td>\n",
       "      <td>6</td>\n",
       "      <td>8</td>\n",
       "      <td>8</td>\n",
       "      <td>1</td>\n",
       "      <td>3</td>\n",
       "      <td>4.0</td>\n",
       "      <td>3</td>\n",
       "      <td>7</td>\n",
       "      <td>1</td>\n",
       "      <td>2</td>\n",
       "    </tr>\n",
       "    <tr>\n",
       "      <th>4</th>\n",
       "      <td>1017023</td>\n",
       "      <td>4</td>\n",
       "      <td>1</td>\n",
       "      <td>1</td>\n",
       "      <td>3</td>\n",
       "      <td>2</td>\n",
       "      <td>1.0</td>\n",
       "      <td>3</td>\n",
       "      <td>1</td>\n",
       "      <td>1</td>\n",
       "      <td>2</td>\n",
       "    </tr>\n",
       "    <tr>\n",
       "      <th>...</th>\n",
       "      <td>...</td>\n",
       "      <td>...</td>\n",
       "      <td>...</td>\n",
       "      <td>...</td>\n",
       "      <td>...</td>\n",
       "      <td>...</td>\n",
       "      <td>...</td>\n",
       "      <td>...</td>\n",
       "      <td>...</td>\n",
       "      <td>...</td>\n",
       "      <td>...</td>\n",
       "    </tr>\n",
       "    <tr>\n",
       "      <th>694</th>\n",
       "      <td>776715</td>\n",
       "      <td>3</td>\n",
       "      <td>1</td>\n",
       "      <td>1</td>\n",
       "      <td>1</td>\n",
       "      <td>3</td>\n",
       "      <td>2.0</td>\n",
       "      <td>1</td>\n",
       "      <td>1</td>\n",
       "      <td>1</td>\n",
       "      <td>2</td>\n",
       "    </tr>\n",
       "    <tr>\n",
       "      <th>695</th>\n",
       "      <td>841769</td>\n",
       "      <td>2</td>\n",
       "      <td>1</td>\n",
       "      <td>1</td>\n",
       "      <td>1</td>\n",
       "      <td>2</td>\n",
       "      <td>1.0</td>\n",
       "      <td>1</td>\n",
       "      <td>1</td>\n",
       "      <td>1</td>\n",
       "      <td>2</td>\n",
       "    </tr>\n",
       "    <tr>\n",
       "      <th>696</th>\n",
       "      <td>888820</td>\n",
       "      <td>5</td>\n",
       "      <td>10</td>\n",
       "      <td>10</td>\n",
       "      <td>3</td>\n",
       "      <td>7</td>\n",
       "      <td>3.0</td>\n",
       "      <td>8</td>\n",
       "      <td>10</td>\n",
       "      <td>2</td>\n",
       "      <td>4</td>\n",
       "    </tr>\n",
       "    <tr>\n",
       "      <th>697</th>\n",
       "      <td>897471</td>\n",
       "      <td>4</td>\n",
       "      <td>8</td>\n",
       "      <td>6</td>\n",
       "      <td>4</td>\n",
       "      <td>3</td>\n",
       "      <td>4.0</td>\n",
       "      <td>10</td>\n",
       "      <td>6</td>\n",
       "      <td>1</td>\n",
       "      <td>4</td>\n",
       "    </tr>\n",
       "    <tr>\n",
       "      <th>698</th>\n",
       "      <td>897471</td>\n",
       "      <td>4</td>\n",
       "      <td>8</td>\n",
       "      <td>8</td>\n",
       "      <td>5</td>\n",
       "      <td>4</td>\n",
       "      <td>5.0</td>\n",
       "      <td>10</td>\n",
       "      <td>4</td>\n",
       "      <td>1</td>\n",
       "      <td>4</td>\n",
       "    </tr>\n",
       "  </tbody>\n",
       "</table>\n",
       "<p>699 rows × 11 columns</p>\n",
       "</div>"
      ],
      "text/plain": [
       "     Sample_code_number  Clump_Thickness  Uniformity_of_Cell_Size  \\\n",
       "0               1000025                5                        1   \n",
       "1               1002945                5                        4   \n",
       "2               1015425                3                        1   \n",
       "3               1016277                6                        8   \n",
       "4               1017023                4                        1   \n",
       "..                  ...              ...                      ...   \n",
       "694              776715                3                        1   \n",
       "695              841769                2                        1   \n",
       "696              888820                5                       10   \n",
       "697              897471                4                        8   \n",
       "698              897471                4                        8   \n",
       "\n",
       "     Uniformity_of_Cell_Shape  Marginal_Adhesion  Single_Epithelial_Cell_Size  \\\n",
       "0                           1                  1                            2   \n",
       "1                           4                  5                            7   \n",
       "2                           1                  1                            2   \n",
       "3                           8                  1                            3   \n",
       "4                           1                  3                            2   \n",
       "..                        ...                ...                          ...   \n",
       "694                         1                  1                            3   \n",
       "695                         1                  1                            2   \n",
       "696                        10                  3                            7   \n",
       "697                         6                  4                            3   \n",
       "698                         8                  5                            4   \n",
       "\n",
       "     Bare_Nuclei  Bland_Chromatin  Normal_Nucleoli  Mitoses  Class  \n",
       "0            1.0                3                1        1      2  \n",
       "1           10.0                3                2        1      2  \n",
       "2            2.0                3                1        1      2  \n",
       "3            4.0                3                7        1      2  \n",
       "4            1.0                3                1        1      2  \n",
       "..           ...              ...              ...      ...    ...  \n",
       "694          2.0                1                1        1      2  \n",
       "695          1.0                1                1        1      2  \n",
       "696          3.0                8               10        2      4  \n",
       "697          4.0               10                6        1      4  \n",
       "698          5.0               10                4        1      4  \n",
       "\n",
       "[699 rows x 11 columns]"
      ]
     },
     "execution_count": 17,
     "metadata": {},
     "output_type": "execute_result"
    }
   ],
   "source": [
    "# replace the nan with the mean\n",
    "df['Bare_Nuclei'].fillna(df['Bare_Nuclei'].mean(), inplace=True)\n",
    "df"
   ]
  },
  {
   "cell_type": "code",
   "execution_count": 18,
   "metadata": {},
   "outputs": [
    {
     "data": {
      "text/plain": [
       "array([ 1.        , 10.        ,  2.        ,  4.        ,  3.        ,\n",
       "        9.        ,  7.        ,  3.54465593,  5.        ,  8.        ,\n",
       "        6.        ])"
      ]
     },
     "execution_count": 18,
     "metadata": {},
     "output_type": "execute_result"
    }
   ],
   "source": [
    "df.Bare_Nuclei.unique()"
   ]
  },
  {
   "cell_type": "code",
   "execution_count": 19,
   "metadata": {},
   "outputs": [
    {
     "data": {
      "text/html": [
       "<div>\n",
       "<style scoped>\n",
       "    .dataframe tbody tr th:only-of-type {\n",
       "        vertical-align: middle;\n",
       "    }\n",
       "\n",
       "    .dataframe tbody tr th {\n",
       "        vertical-align: top;\n",
       "    }\n",
       "\n",
       "    .dataframe thead th {\n",
       "        text-align: right;\n",
       "    }\n",
       "</style>\n",
       "<table border=\"1\" class=\"dataframe\">\n",
       "  <thead>\n",
       "    <tr style=\"text-align: right;\">\n",
       "      <th></th>\n",
       "      <th>count</th>\n",
       "      <th>mean</th>\n",
       "      <th>std</th>\n",
       "      <th>min</th>\n",
       "      <th>25%</th>\n",
       "      <th>50%</th>\n",
       "      <th>75%</th>\n",
       "      <th>max</th>\n",
       "    </tr>\n",
       "  </thead>\n",
       "  <tbody>\n",
       "    <tr>\n",
       "      <th>Sample_code_number</th>\n",
       "      <td>699.0</td>\n",
       "      <td>1.071704e+06</td>\n",
       "      <td>617095.729819</td>\n",
       "      <td>61634.0</td>\n",
       "      <td>870688.5</td>\n",
       "      <td>1171710.0</td>\n",
       "      <td>1238298.0</td>\n",
       "      <td>13454352.0</td>\n",
       "    </tr>\n",
       "    <tr>\n",
       "      <th>Clump_Thickness</th>\n",
       "      <td>699.0</td>\n",
       "      <td>4.417740e+00</td>\n",
       "      <td>2.815741</td>\n",
       "      <td>1.0</td>\n",
       "      <td>2.0</td>\n",
       "      <td>4.0</td>\n",
       "      <td>6.0</td>\n",
       "      <td>10.0</td>\n",
       "    </tr>\n",
       "    <tr>\n",
       "      <th>Uniformity_of_Cell_Size</th>\n",
       "      <td>699.0</td>\n",
       "      <td>3.134478e+00</td>\n",
       "      <td>3.051459</td>\n",
       "      <td>1.0</td>\n",
       "      <td>1.0</td>\n",
       "      <td>1.0</td>\n",
       "      <td>5.0</td>\n",
       "      <td>10.0</td>\n",
       "    </tr>\n",
       "    <tr>\n",
       "      <th>Uniformity_of_Cell_Shape</th>\n",
       "      <td>699.0</td>\n",
       "      <td>3.207439e+00</td>\n",
       "      <td>2.971913</td>\n",
       "      <td>1.0</td>\n",
       "      <td>1.0</td>\n",
       "      <td>1.0</td>\n",
       "      <td>5.0</td>\n",
       "      <td>10.0</td>\n",
       "    </tr>\n",
       "    <tr>\n",
       "      <th>Marginal_Adhesion</th>\n",
       "      <td>699.0</td>\n",
       "      <td>2.806867e+00</td>\n",
       "      <td>2.855379</td>\n",
       "      <td>1.0</td>\n",
       "      <td>1.0</td>\n",
       "      <td>1.0</td>\n",
       "      <td>4.0</td>\n",
       "      <td>10.0</td>\n",
       "    </tr>\n",
       "    <tr>\n",
       "      <th>Single_Epithelial_Cell_Size</th>\n",
       "      <td>699.0</td>\n",
       "      <td>3.216023e+00</td>\n",
       "      <td>2.214300</td>\n",
       "      <td>1.0</td>\n",
       "      <td>2.0</td>\n",
       "      <td>2.0</td>\n",
       "      <td>4.0</td>\n",
       "      <td>10.0</td>\n",
       "    </tr>\n",
       "    <tr>\n",
       "      <th>Bare_Nuclei</th>\n",
       "      <td>699.0</td>\n",
       "      <td>3.544656e+00</td>\n",
       "      <td>3.601852</td>\n",
       "      <td>1.0</td>\n",
       "      <td>1.0</td>\n",
       "      <td>1.0</td>\n",
       "      <td>5.0</td>\n",
       "      <td>10.0</td>\n",
       "    </tr>\n",
       "    <tr>\n",
       "      <th>Bland_Chromatin</th>\n",
       "      <td>699.0</td>\n",
       "      <td>3.437768e+00</td>\n",
       "      <td>2.438364</td>\n",
       "      <td>1.0</td>\n",
       "      <td>2.0</td>\n",
       "      <td>3.0</td>\n",
       "      <td>5.0</td>\n",
       "      <td>10.0</td>\n",
       "    </tr>\n",
       "    <tr>\n",
       "      <th>Normal_Nucleoli</th>\n",
       "      <td>699.0</td>\n",
       "      <td>2.866953e+00</td>\n",
       "      <td>3.053634</td>\n",
       "      <td>1.0</td>\n",
       "      <td>1.0</td>\n",
       "      <td>1.0</td>\n",
       "      <td>4.0</td>\n",
       "      <td>10.0</td>\n",
       "    </tr>\n",
       "    <tr>\n",
       "      <th>Mitoses</th>\n",
       "      <td>699.0</td>\n",
       "      <td>1.589413e+00</td>\n",
       "      <td>1.715078</td>\n",
       "      <td>1.0</td>\n",
       "      <td>1.0</td>\n",
       "      <td>1.0</td>\n",
       "      <td>1.0</td>\n",
       "      <td>10.0</td>\n",
       "    </tr>\n",
       "    <tr>\n",
       "      <th>Class</th>\n",
       "      <td>699.0</td>\n",
       "      <td>2.689557e+00</td>\n",
       "      <td>0.951273</td>\n",
       "      <td>2.0</td>\n",
       "      <td>2.0</td>\n",
       "      <td>2.0</td>\n",
       "      <td>4.0</td>\n",
       "      <td>4.0</td>\n",
       "    </tr>\n",
       "  </tbody>\n",
       "</table>\n",
       "</div>"
      ],
      "text/plain": [
       "                             count          mean            std      min  \\\n",
       "Sample_code_number           699.0  1.071704e+06  617095.729819  61634.0   \n",
       "Clump_Thickness              699.0  4.417740e+00       2.815741      1.0   \n",
       "Uniformity_of_Cell_Size      699.0  3.134478e+00       3.051459      1.0   \n",
       "Uniformity_of_Cell_Shape     699.0  3.207439e+00       2.971913      1.0   \n",
       "Marginal_Adhesion            699.0  2.806867e+00       2.855379      1.0   \n",
       "Single_Epithelial_Cell_Size  699.0  3.216023e+00       2.214300      1.0   \n",
       "Bare_Nuclei                  699.0  3.544656e+00       3.601852      1.0   \n",
       "Bland_Chromatin              699.0  3.437768e+00       2.438364      1.0   \n",
       "Normal_Nucleoli              699.0  2.866953e+00       3.053634      1.0   \n",
       "Mitoses                      699.0  1.589413e+00       1.715078      1.0   \n",
       "Class                        699.0  2.689557e+00       0.951273      2.0   \n",
       "\n",
       "                                  25%        50%        75%         max  \n",
       "Sample_code_number           870688.5  1171710.0  1238298.0  13454352.0  \n",
       "Clump_Thickness                   2.0        4.0        6.0        10.0  \n",
       "Uniformity_of_Cell_Size           1.0        1.0        5.0        10.0  \n",
       "Uniformity_of_Cell_Shape          1.0        1.0        5.0        10.0  \n",
       "Marginal_Adhesion                 1.0        1.0        4.0        10.0  \n",
       "Single_Epithelial_Cell_Size       2.0        2.0        4.0        10.0  \n",
       "Bare_Nuclei                       1.0        1.0        5.0        10.0  \n",
       "Bland_Chromatin                   2.0        3.0        5.0        10.0  \n",
       "Normal_Nucleoli                   1.0        1.0        4.0        10.0  \n",
       "Mitoses                           1.0        1.0        1.0        10.0  \n",
       "Class                             2.0        2.0        4.0         4.0  "
      ]
     },
     "execution_count": 19,
     "metadata": {},
     "output_type": "execute_result"
    }
   ],
   "source": [
    "df.describe().T"
   ]
  },
  {
   "cell_type": "code",
   "execution_count": 20,
   "metadata": {},
   "outputs": [
    {
     "data": {
      "text/plain": [
       "array([0, 0, 0, 0, 0, 1, 0, 0, 0, 0, 0, 0, 1, 0, 1, 1, 0, 0, 1, 0, 1, 1,\n",
       "       0, 1, 0, 1, 0, 0, 0, 0, 0, 0, 1, 0, 0, 0, 1, 0, 1, 1, 0, 1, 1, 1,\n",
       "       1, 0, 1, 0, 0, 1, 1, 1, 1, 1, 1, 1, 1, 1, 1, 1, 1, 0, 1, 1, 0, 1,\n",
       "       0, 1, 1, 0, 0, 1, 0, 1, 1, 0, 0, 0, 0, 0, 0, 0, 0, 0, 1, 1, 1, 1,\n",
       "       0, 0, 0, 0, 0, 0, 0, 0, 0, 0, 1, 1, 1, 1, 0, 1, 1, 1, 1, 1, 0, 1,\n",
       "       0, 1, 1, 1, 0, 0, 0, 1, 0, 0, 0, 0, 1, 1, 1, 0, 1, 0, 1, 0, 0, 0,\n",
       "       1, 0, 0, 0, 0, 0, 0, 0, 0, 0, 1, 0, 0, 0, 1, 0, 0, 1, 0, 1, 1, 0,\n",
       "       0, 1, 0, 0, 0, 1, 1, 0, 0, 0, 0, 0, 1, 1, 0, 0, 0, 0, 0, 1, 1, 1,\n",
       "       0, 1, 0, 1, 0, 0, 0, 1, 1, 0, 1, 1, 1, 0, 1, 1, 0, 0, 0, 0, 0, 0,\n",
       "       0, 0, 1, 1, 0, 0, 0, 1, 1, 0, 0, 0, 1, 1, 0, 1, 1, 1, 0, 0, 1, 0,\n",
       "       0, 1, 1, 1, 1, 0, 1, 1, 0, 1, 1, 1, 0, 1, 0, 0, 1, 1, 1, 1, 0, 0,\n",
       "       0, 0, 0, 0, 1, 1, 0, 0, 0, 1, 0, 1, 1, 1, 0, 0, 0, 0, 1, 1, 1, 1,\n",
       "       1, 0, 1, 1, 1, 0, 1, 0, 1, 1, 0, 0, 0, 0, 0, 1, 0, 0, 1, 1, 1, 1,\n",
       "       1, 0, 1, 1, 0, 0, 1, 1, 0, 1, 0, 0, 0, 1, 1, 0, 1, 0, 1, 1, 0, 0,\n",
       "       1, 0, 0, 0, 1, 0, 0, 0, 1, 1, 0, 0, 1, 0, 0, 1, 0, 0, 1, 0, 1, 1,\n",
       "       1, 0, 0, 1, 1, 0, 1, 0, 0, 1, 1, 0, 0, 0, 1, 0, 0, 0, 1, 1, 0, 0,\n",
       "       0, 1, 0, 0, 1, 1, 1, 1, 1, 1, 0, 0, 0, 0, 1, 1, 0, 0, 0, 0, 0, 0,\n",
       "       0, 0, 0, 0, 0, 0, 0, 1, 0, 0, 0, 0, 1, 0, 0, 0, 0, 1, 0, 0, 0, 0,\n",
       "       0, 0, 0, 0, 1, 0, 0, 0, 0, 0, 0, 0, 0, 0, 0, 0, 1, 0, 1, 0, 1, 0,\n",
       "       0, 0, 0, 1, 0, 0, 0, 1, 0, 1, 0, 0, 0, 0, 0, 0, 0, 1, 1, 0, 0, 0,\n",
       "       1, 0, 0, 0, 0, 0, 0, 0, 0, 1, 0, 0, 0, 1, 0, 1, 1, 1, 0, 0, 0, 0,\n",
       "       0, 0, 0, 1, 1, 1, 0, 0, 0, 0, 0, 0, 0, 0, 0, 0, 0, 1, 0, 0, 1, 1,\n",
       "       0, 0, 0, 1, 1, 1, 0, 1, 0, 1, 0, 0, 0, 0, 0, 0, 0, 0, 0, 0, 0, 0,\n",
       "       1, 0, 0, 0, 0, 0, 0, 0, 1, 1, 0, 0, 0, 1, 0, 0, 1, 1, 0, 0, 0, 0,\n",
       "       0, 0, 1, 0, 0, 0, 0, 0, 0, 0, 0, 0, 0, 0, 0, 0, 0, 0, 1, 0, 0, 1,\n",
       "       0, 0, 0, 0, 0, 0, 0, 0, 0, 0, 0, 0, 0, 0, 0, 1, 0, 0, 1, 1, 1, 1,\n",
       "       0, 0, 1, 0, 0, 0, 0, 0, 0, 1, 1, 0, 0, 0, 1, 0, 1, 0, 1, 1, 1, 0,\n",
       "       1, 0, 0, 0, 0, 0, 0, 0, 0, 1, 1, 1, 0, 0, 1, 0, 1, 1, 1, 0, 0, 0,\n",
       "       0, 0, 0, 0, 0, 0, 0, 0, 0, 0, 1, 0, 0, 0, 0, 0, 0, 1, 0, 0, 1, 0,\n",
       "       0, 0, 0, 0, 0, 0, 0, 0, 0, 0, 1, 0, 0, 0, 0, 0, 0, 0, 0, 0, 1, 0,\n",
       "       0, 0, 0, 0, 0, 0, 0, 0, 1, 1, 1, 0, 0, 0, 0, 0, 0, 0, 0, 0, 1, 1,\n",
       "       0, 0, 0, 0, 0, 0, 0, 0, 0, 1, 0, 0, 0, 0, 1, 1, 1])"
      ]
     },
     "execution_count": 20,
     "metadata": {},
     "output_type": "execute_result"
    }
   ],
   "source": [
    "# target vector\n",
    "y = df['Class'].values//2-1\n",
    "y"
   ]
  },
  {
   "cell_type": "code",
   "execution_count": 21,
   "metadata": {},
   "outputs": [],
   "source": [
    "def fit_logreg(x, y, niter=10):\n",
    "    w = 0 # initial model parameter\n",
    "    yhat = sigmoid(x*w)\n",
    "    for it in range(niter):\n",
    "        ce = -(np.log(yhat)* y + np.log(1-yhat) * (1-y)).sum()\n",
    "        ce_i = ((yhat - y) * x).sum()\n",
    "        ce_ii= (yhat * (1-yhat) * x**2).sum()\n",
    "        w -= ce_i / ce_ii\n",
    "        yhat = sigmoid(x*w)\n",
    "        return w, yhat"
   ]
  },
  {
   "cell_type": "code",
   "execution_count": 22,
   "metadata": {},
   "outputs": [],
   "source": [
    "    \n",
    "def avg_ce(y, yhat):\n",
    "    ce = -(np.log(yhat)* y + np.log(1-yhat) * (1-y)).sum()\n",
    "    return ce/len(y)\n",
    "    "
   ]
  },
  {
   "cell_type": "code",
   "execution_count": 23,
   "metadata": {},
   "outputs": [
    {
     "name": "stdout",
     "output_type": "stream",
     "text": [
      "Clump_Thickness\n",
      "w = 0.039632874 CE(w) = 3.06038094\n",
      "CEm(w) = 0.687739208\n",
      "Uniformity_of_Cell_Size\n",
      "w = 0.146180893 CE(w) = 3.06038094\n",
      "CEm(w) = 0.639204697\n",
      "Uniformity_of_Cell_Shape\n",
      "w = 0.137765798 CE(w) = 3.06038094\n",
      "CEm(w) = 0.645652807\n",
      "Marginal_Adhesion\n",
      "w = 0.127165565 CE(w) = 3.06038094\n",
      "CEm(w) = 0.659383857\n",
      "Single_Epithelial_Cell_Size\n",
      "w = 0.057453999 CE(w) = 3.06038094\n",
      "CEm(w) = 0.6868162\n",
      "Bare_Nuclei\n",
      "w = 0.132577858 CE(w) = 3.06038094\n",
      "CEm(w) = 0.633926393\n",
      "Bland_Chromatin\n",
      "w = 0.077189590 CE(w) = 3.06038094\n",
      "CEm(w) = 0.679762996\n",
      "Normal_Nucleoli\n",
      "w = 0.134160274 CE(w) = 3.06038094\n",
      "CEm(w) = 0.651733288\n",
      "Mitoses\n",
      "w = 0.071746531 CE(w) = 3.06038094\n",
      "CEm(w) = 0.689591602\n"
     ]
    }
   ],
   "source": [
    "for column in names[1:-1]:\n",
    "    x = df[column]\n",
    "    w, yhat = fit_logreg(x, y)\n",
    "    cem = avg_ce(y, yhat)\n",
    "    print(column)\n",
    "    print(f'w = {w:.9f} CE(w) = {ce:.9}')\n",
    "    print(f'CEm(w) = {cem:.9}')"
   ]
  },
  {
   "cell_type": "code",
   "execution_count": 24,
   "metadata": {},
   "outputs": [
    {
     "name": "stdout",
     "output_type": "stream",
     "text": [
      "Clump_Thickness                AvgCE=0.390611001 w=0.905912818\n",
      "Uniformity_of_Cell_Size        AvgCE=0.199170002 w=1.572130112\n",
      "Uniformity_of_Cell_Shape       AvgCE=0.211668062 w=1.524221657\n",
      "Marginal_Adhesion              AvgCE=0.359316116 w=1.107418964\n",
      "Single_Epithelial_Cell_Size    AvgCE=0.351132841 w=1.537879946\n",
      "Bare_Nuclei                    AvgCE=0.265288430 w=0.979151501\n",
      "Bland_Chromatin                AvgCE=0.303804235 w=1.542319399\n",
      "Normal_Nucleoli                AvgCE=0.355869859 w=1.004452002\n",
      "Mitoses                        AvgCE=0.527654735 w=1.711238337\n"
     ]
    }
   ],
   "source": [
    "# 2nd solution Normalized input\n",
    "def logreg_predict(x, w):\n",
    "    return sigmoid(x * w)\n",
    "\n",
    "def logreg_fit(x, y, niter=10):\n",
    "    w = 0 # initial model parameter\n",
    "    for it in range(niter):\n",
    "        yhat = logreg_predict(x, w)\n",
    "        ce_i = ((yhat - y) * x).sum()\n",
    "        ce_ii = (yhat * (1 - yhat) * x**2).sum()\n",
    "        w -= ce_i / ce_ii # Newton step    \n",
    "    return w\n",
    "\n",
    "def avg_cross_entropy(y, yhat):\n",
    "    ce = -(np.log(yhat) * y + np.log(1 - yhat) * (1 - y)).sum()\n",
    "    return ce / len(y)\n",
    "    \n",
    "for column in names[1:-1]:\n",
    "    se = df[column]\n",
    "    x = (se - se.mean()).values # input vector\n",
    "    w = logreg_fit(x, y)\n",
    "    yhat = logreg_predict(x, w)\n",
    "    ace = avg_cross_entropy(y, yhat)\n",
    "    print(f'{column:30} AvgCE={ace:.9f} w={w:.9f}')"
   ]
  },
  {
   "cell_type": "markdown",
   "metadata": {},
   "source": [
    "**Exercise 4**: Repeat the previous experiment using scikit-learn!"
   ]
  },
  {
   "cell_type": "code",
   "execution_count": 25,
   "metadata": {},
   "outputs": [
    {
     "name": "stdout",
     "output_type": "stream",
     "text": [
      "Clump_Thickness                AvgCE=0.390611001 w=0.905912814\n",
      "Uniformity_of_Cell_Size        AvgCE=0.199170002 w=1.572130109\n",
      "Uniformity_of_Cell_Shape       AvgCE=0.211668062 w=1.524221656\n",
      "Marginal_Adhesion              AvgCE=0.359316116 w=1.107418964\n",
      "Single_Epithelial_Cell_Size    AvgCE=0.351132841 w=1.537879938\n",
      "Bare_Nuclei                    AvgCE=0.265288430 w=0.979151504\n",
      "Bland_Chromatin                AvgCE=0.303804235 w=1.542318627\n",
      "Normal_Nucleoli                AvgCE=0.355869859 w=1.004451975\n",
      "Mitoses                        AvgCE=0.527654735 w=1.711237945\n"
     ]
    }
   ],
   "source": [
    "from sklearn.linear_model import LogisticRegression\n",
    "from sklearn.metrics import log_loss\n",
    "\n",
    "for column in names[1:-1]:\n",
    "    se = df[column]\n",
    "    x = (se - se.mean()).values # input vector\n",
    "    cl = LogisticRegression(fit_intercept=False, C=1e12) # define model\n",
    "    X = x.reshape((-1,1))\n",
    "    cl.fit(X, y)                                         # train model\n",
    "    w = cl.coef_[0,0]                                    # extract moddel parameter\n",
    "    yhat = cl.predict_proba(X)[:,1]                      # make probability prediction\n",
    "    ace = log_loss(y, yhat)                              # compute average cross entropy\n",
    "    \n",
    "    print(f'{column:30} AvgCE={ace:.9f} w={w:.9f}')"
   ]
  },
  {
   "cell_type": "markdown",
   "metadata": {},
   "source": [
    "**Exercise 5**: Introduce a 70-30% train-test split and re-run the experiment!"
   ]
  },
  {
   "cell_type": "code",
   "execution_count": 26,
   "metadata": {},
   "outputs": [
    {
     "data": {
      "text/plain": [
       "(array([357, 648, 291, 420, 177, 456, 444,  83, 453, 354, 495, 575,  79,\n",
       "         23,  15, 381, 292, 275, 653, 314, 519, 137, 485, 483,  33, 662,\n",
       "        257,   9,  22, 543, 221, 404, 684, 334,  84, 335, 247, 582, 620,\n",
       "        203, 196, 660, 327, 399,  93, 587, 294, 265, 375, 184, 636, 512,\n",
       "        153,  75, 332,  68, 615, 188, 236,  88, 590, 117, 125, 571, 238,\n",
       "          0, 691, 530, 630, 608, 278, 116, 228, 697, 319, 274, 692, 144,\n",
       "        382, 426, 631, 500, 268, 465,  46, 261, 195, 698, 583, 107, 462,\n",
       "        609, 531, 100, 350, 624, 333, 179, 304, 349, 149, 124, 551, 605,\n",
       "        185, 428, 558, 689, 344, 644, 142, 141, 393, 320,  19, 172, 632,\n",
       "        312, 650,  12, 305,  25, 518, 169, 479, 411, 245, 298, 434, 272,\n",
       "        154, 126, 538, 341, 287, 113, 367, 173, 355,  57, 443, 222, 280,\n",
       "         17, 405, 322, 255, 417, 669, 190, 439, 616, 490,  94, 180, 301,\n",
       "        641, 511, 642, 451, 429,   5, 685,  45, 398, 525, 171,  16,  48,\n",
       "        675, 639,   3, 449, 412, 316, 643, 283, 581, 285, 677, 225,  26,\n",
       "        547, 263,  50, 364, 229,  37, 157, 237, 670, 374, 370, 175, 591,\n",
       "        480, 513, 194, 593, 601, 425, 445, 448, 674, 580, 599,  67, 534,\n",
       "        168, 447, 162, 309, 193, 478, 365, 383, 629, 535, 152, 488, 497,\n",
       "        226, 457, 557, 103, 421, 678, 527,  74, 115, 407, 673, 119,  53,\n",
       "        151, 403, 658, 207, 687, 487, 468, 537,   8, 572,  36, 452, 139,\n",
       "        253, 303, 523, 526, 368,  59, 111, 597, 503, 493, 262, 586, 297,\n",
       "        414, 150, 433, 576, 440, 266, 607, 359, 619,  38, 127, 423, 416,\n",
       "        307, 198, 351, 494, 146, 450, 647, 522, 419, 442, 621, 147, 585,\n",
       "        348, 463, 325, 186, 123, 602,  96, 143, 239, 394, 469, 197,  97,\n",
       "        371, 324, 279, 293, 400, 122, 183, 202, 438, 246, 415, 618, 129,\n",
       "        402, 549, 541, 219, 634, 529, 637, 536, 386, 676, 509, 267, 441,\n",
       "        496, 112, 232, 606, 373, 233, 550, 317, 410, 623, 358, 258, 282,\n",
       "        376, 384, 224, 683, 568, 472, 347, 505, 688, 645, 628, 594, 556,\n",
       "         85, 242, 159, 524,  35, 540, 170, 596, 588, 657,  95, 563, 240,\n",
       "        574, 460, 553, 611, 206, 392, 397, 589, 217,   4, 622, 546,  98,\n",
       "        573, 406, 502,  47,  32, 200, 134,  27, 613, 230, 489, 378, 288,\n",
       "        418, 391, 592, 498, 138,  62, 471, 128, 679, 520,  64,  14, 156,\n",
       "         40, 492, 379, 187, 216,  52, 337, 295, 251, 461, 455, 696, 269,\n",
       "        201, 161, 555, 401, 476, 105, 565, 389,   1, 652, 561,  80, 205,\n",
       "         34, 508, 427, 454, 366,  91, 339, 564, 345, 241,  13, 315, 600,\n",
       "        387, 273, 166, 693, 646, 484, 682, 504, 243, 566, 562, 189, 475,\n",
       "        510,  58, 474, 560, 252,  21, 313, 459, 160, 276, 191, 385, 413,\n",
       "        491, 343, 308, 661, 130, 663,  99, 372,  87, 458, 330, 214, 466,\n",
       "        121, 614,  20,  71, 106, 270, 435, 102]),\n",
       " array([158, 499, 396, 155, 321, 212, 234, 289, 300, 356, 672, 328, 199,\n",
       "         78, 598, 569, 446, 506, 626, 603, 360, 338, 668, 290, 284, 331,\n",
       "        477,  54, 248, 223, 133, 640, 136, 109, 181, 432, 554, 482, 516,\n",
       "        132, 176,  72, 254, 577, 649, 595, 666, 352,  76, 148, 346,  90,\n",
       "        681,  10,  63, 635, 656, 174, 256, 667,  31, 369, 570,  77, 532,\n",
       "        548, 211,  55, 135, 671, 340,   2, 227,  81, 473, 694, 665, 604,\n",
       "        120, 311, 204, 244, 686, 271, 131, 680,  60, 310,  30,  69, 651,\n",
       "        390,  44, 625,  70, 515, 654, 249, 209, 165, 470, 164, 507, 323,\n",
       "         65, 409,  49, 118, 192,  39, 259, 422,   6, 101, 542, 299, 395,\n",
       "        501, 318, 145, 486, 353, 208, 695, 361,  86, 664, 481, 633,  41,\n",
       "        108, 690,  56, 424, 514,  24, 218, 431, 281, 110,  82,  51, 220,\n",
       "        559, 544, 302, 552, 215, 235,  18, 250, 260, 430, 264,  61, 213,\n",
       "        377,  29, 182, 306, 388, 329, 437, 296, 584, 342, 436, 579, 326,\n",
       "        362, 617, 578, 231, 336, 655, 163, 286, 612, 517, 464, 277, 408,\n",
       "        104, 114, 627, 545, 467,  92,   7,  89, 528, 380, 521, 539, 363,\n",
       "        638, 140,  28,  43,  42,  73, 167, 210, 610,  66,  11, 659, 567,\n",
       "        178, 533]))"
      ]
     },
     "execution_count": 26,
     "metadata": {},
     "output_type": "execute_result"
    }
   ],
   "source": [
    "from sklearn.model_selection import ShuffleSplit\n",
    "# another way of set test size is: train_test_split\n",
    "tr, te = next(ShuffleSplit(test_size=0.3, random_state=42).split(df))\n",
    "tr, te"
   ]
  },
  {
   "cell_type": "code",
   "execution_count": 27,
   "metadata": {},
   "outputs": [
    {
     "name": "stdout",
     "output_type": "stream",
     "text": [
      "Clump_Thickness                AvgCE=0.335747286 w=0.826808279\n",
      "Uniformity_of_Cell_Size        AvgCE=0.176748276 w=1.515755629\n",
      "Uniformity_of_Cell_Shape       AvgCE=0.217456999 w=1.535220556\n",
      "Marginal_Adhesion              AvgCE=0.300066855 w=1.024555296\n",
      "Single_Epithelial_Cell_Size    AvgCE=0.350178198 w=1.527215223\n",
      "Bare_Nuclei                    AvgCE=0.311173420 w=1.008497031\n",
      "Bland_Chromatin                AvgCE=0.306641746 w=1.453926694\n",
      "Normal_Nucleoli                AvgCE=0.362623274 w=1.024082073\n",
      "Mitoses                        AvgCE=0.491826787 w=1.562289264\n"
     ]
    }
   ],
   "source": [
    "for column in names[1:-1]:\n",
    "    se = df[column]\n",
    "    x = (se - se.mean()).values # input vector\n",
    "    cl = LogisticRegression(fit_intercept=False, C=1e12) # define model\n",
    "    X = x.reshape((-1,1))\n",
    "    cl.fit(X[tr], y[tr])                                 # train model (on training set)\n",
    "    w = cl.coef_[0,0]                                    # extract moddel parameter\n",
    "    yhat = cl.predict_proba(X)[:,1]                      # make probability prediction\n",
    "    ace = log_loss(y[te], yhat[te])                      # compute average cross entropy (on test set)\n",
    "    \n",
    "    print(f'{column:30} AvgCE={ace:.9f} w={w:.9f}')"
   ]
  },
  {
   "cell_type": "markdown",
   "metadata": {},
   "source": [
    "### Multivariate Logistic Regression\n",
    "\n",
    "The previous approach can be generalized to allows multiple input features.\n",
    "\n",
    "- model's prediction: $\\hat{y} = \\sigma(Xw)$<br>\n",
    "- objective function: $CE(w) = -\\log(\\hat{y})^Ty - \\log(1 - \\hat{y})^T(1 - y)$<br>\n",
    "- gradient vector: $\\frac{d}{dw} CE(w) = X^T(\\hat{y} - y)$<br>\n",
    "- Hessian matrix: $\\left(\\frac{d}{dw}\\right)^2 CE(w) = X^T \\mathrm{diag}\\left(\\hat{y}(1 - \\hat{y})\\right) X$\n",
    "- Newton-step: $w_{\\mathrm{new}} = w - \\left[\\left(\\frac{d}{dw}\\right)^2 CE(w)\\right]^{-1} \\left[\\frac{d}{dw} CE(w)\\right]$\n",
    "\n",
    "Similarly to linear regression, the bias term can be handled by introducing a constant 1 feature.\n",
    "<br><br>"
   ]
  },
  {
   "cell_type": "markdown",
   "metadata": {},
   "source": [
    "**Exercise 6**: Train a multivariate logistic regression model on the training set and measure its cross-entropy on the test set! Implement the training algorithm without using scikit-learn!"
   ]
  },
  {
   "cell_type": "code",
   "execution_count": 28,
   "metadata": {},
   "outputs": [
    {
     "name": "stdout",
     "output_type": "stream",
     "text": [
      "(699, 9)\n"
     ]
    },
    {
     "data": {
      "text/plain": [
       "array([-190.        , -488.5       , -460.        , -356.        ,\n",
       "       -153.        , -591.23206442, -239.5       , -411.        ,\n",
       "        -68.5       ])"
      ]
     },
     "execution_count": 28,
     "metadata": {},
     "output_type": "execute_result"
    }
   ],
   "source": [
    "# input matrix\n",
    "X = df[names[1:-1]].values\n",
    "# target vector\n",
    "y = df['Class'].values//2-1\n",
    "print(X.shape)\n",
    "\n",
    "# initial model\n",
    "w = np.zeros(X.shape[1])\n",
    "\n",
    "# prediction\n",
    "yhat = sigmoid(X @ w)\n",
    "\n",
    "# gradient of cross-entropy\n",
    "g = X.T @ (yhat - y)\n",
    "g"
   ]
  },
  {
   "cell_type": "code",
   "execution_count": 30,
   "metadata": {},
   "outputs": [
    {
     "data": {
      "text/plain": [
       "array([[4794.        , 3386.75      , 3432.        , 2849.25      ,\n",
       "        3050.5       , 3775.85285505, 3323.        , 3017.25      ,\n",
       "        1522.        ],\n",
       "       [3386.75      , 3341.75      , 3192.        , 2610.25      ,\n",
       "        2648.        , 3258.81039531, 2864.25      , 2745.75      ,\n",
       "        1289.5       ],\n",
       "       [3432.        , 3192.        , 3339.        , 2584.75      ,\n",
       "        2629.        , 3312.26354319, 2857.5       , 2746.25      ,\n",
       "        1281.25      ],\n",
       "       [2849.25      , 2610.25      , 2584.75      , 2799.5       ,\n",
       "        2239.        , 2932.19875549, 2496.25      , 2324.25      ,\n",
       "        1136.5       ],\n",
       "       [3050.5       , 2648.        , 2629.        , 2239.        ,\n",
       "        2663.        , 2801.06039531, 2512.5       , 2353.25      ,\n",
       "        1210.75      ],\n",
       "       [3775.85285505, 3258.81039531, 3312.26354319, 2932.19875549,\n",
       "        2801.06039531, 4459.50834264, 3165.30819912, 2883.99121523,\n",
       "        1349.67862372],\n",
       "       [3323.        , 2864.25      , 2857.5       , 2496.25      ,\n",
       "        2512.5       , 3165.30819912, 3102.75      , 2587.5       ,\n",
       "        1206.        ],\n",
       "       [3017.25      , 2745.75      , 2746.25      , 2324.25      ,\n",
       "        2353.25      , 2883.99121523, 2587.5       , 3063.5       ,\n",
       "        1187.75      ],\n",
       "       [1522.        , 1289.5       , 1281.25      , 1136.5       ,\n",
       "        1210.75      , 1349.67862372, 1206.        , 1187.75      ,\n",
       "         954.75      ]])"
      ]
     },
     "execution_count": 30,
     "metadata": {},
     "output_type": "execute_result"
    }
   ],
   "source": [
    "# Hessian matrix of cross-entropy\n",
    "H = X.T * (yhat * (1 - yhat)) @ X\n",
    "H"
   ]
  },
  {
   "cell_type": "code",
   "execution_count": 33,
   "metadata": {},
   "outputs": [
    {
     "data": {
      "text/plain": [
       "array([-0.5109304 ,  1.11234173,  0.27328331,  0.04948115, -0.97918294,\n",
       "        0.73256627, -0.72881045,  0.41669609, -0.28989454])"
      ]
     },
     "execution_count": 33,
     "metadata": {},
     "output_type": "execute_result"
    }
   ],
   "source": [
    "# Newton-step\n",
    "w -= np.linalg.solve(H, g)\n",
    "w"
   ]
  },
  {
   "cell_type": "code",
   "execution_count": 34,
   "metadata": {},
   "outputs": [
    {
     "name": "stdout",
     "output_type": "stream",
     "text": [
      "0 484.50987921140165\n",
      "1 320.0112328042882\n",
      "2 285.73437841351625\n",
      "3 277.70418009292183\n",
      "4 277.0625947428168\n",
      "5 277.05704693001366\n",
      "6 277.0570464294203\n",
      "7 277.0570464294203\n",
      "8 277.0570464294204\n",
      "9 277.0570464294203\n"
     ]
    }
   ],
   "source": [
    "# Newton loop\n",
    "w = np.zeros(X.shape[1])\n",
    "niter = 10\n",
    "for it in range(niter):\n",
    "    # prediction\n",
    "    yhat = sigmoid(X @ w)\n",
    "    # cross-entropy\n",
    "    ce = -np.log(yhat) @ y - np.log(1 - yhat) @ (1 - y)\n",
    "    # gradient of cross-entropy\n",
    "    g = X.T @ (yhat - y)\n",
    "    # Hessian matrix of cross-entropy\n",
    "    H = X.T * (yhat * (1 - yhat)) @ X\n",
    "    print(it, ce)\n",
    "    # Newton-step\n",
    "    w -= np.linalg.solve(H, g)\n",
    "    "
   ]
  },
  {
   "cell_type": "code",
   "execution_count": 38,
   "metadata": {},
   "outputs": [],
   "source": [
    "def cross_entropy(y, yhat):\n",
    "    return -np.log(yhat) @ y - np.log(1 - yhat) @ (1 - y)\n",
    "\n",
    "def logreg_m_fit(X, y, niter=10):\n",
    "    w = np.zeros(X.shape[1])\n",
    "    for it in range(niter):\n",
    "        # prediction\n",
    "        yhat = sigmoid(X @ w)\n",
    "        # cross-entropy\n",
    "        ce = cross_entropy(y, yhat)\n",
    "        # gradient of cross-entropy\n",
    "        g = X.T @ (yhat - y)\n",
    "        # Hessian matrix of cross-entropy\n",
    "        H = X.T * (yhat * (1 - yhat)) @ X\n",
    "        print(it, ce)\n",
    "        # Newton-step\n",
    "        w -= np.linalg.solve(H, g)\n",
    "    return w"
   ]
  },
  {
   "cell_type": "code",
   "execution_count": 39,
   "metadata": {},
   "outputs": [
    {
     "name": "stdout",
     "output_type": "stream",
     "text": [
      "0 338.9489712938133\n",
      "1 219.31492649580565\n",
      "2 194.84385525659366\n",
      "3 189.2334455179607\n",
      "4 188.79436565306744\n",
      "5 188.79058752143467\n",
      "6 188.7905871820355\n",
      "7 188.79058718203555\n",
      "8 188.79058718203555\n",
      "9 188.79058718203552\n"
     ]
    },
    {
     "data": {
      "text/plain": [
       "array([-0.37775352,  0.81513883,  0.24794682, -0.00703306, -0.7267206 ,\n",
       "        0.585522  , -0.43993472,  0.32078896, -0.23507939])"
      ]
     },
     "execution_count": 39,
     "metadata": {},
     "output_type": "execute_result"
    }
   ],
   "source": [
    "w = logreg_m_fit(X[tr], y[tr])\n",
    "w"
   ]
  },
  {
   "cell_type": "code",
   "execution_count": 41,
   "metadata": {},
   "outputs": [
    {
     "data": {
      "text/plain": [
       "92.3437344981877"
      ]
     },
     "execution_count": 41,
     "metadata": {},
     "output_type": "execute_result"
    }
   ],
   "source": [
    "# testing\n",
    "yhat = sigmoid(X @ w)\n",
    "cross_entropy(y[te], yhat[te])"
   ]
  },
  {
   "cell_type": "code",
   "execution_count": 45,
   "metadata": {},
   "outputs": [
    {
     "data": {
      "text/plain": [
       "array([-0.37775352,  0.81513883,  0.24794682, -0.00703306, -0.7267206 ,\n",
       "        0.585522  , -0.43993472,  0.32078896, -0.23507939])"
      ]
     },
     "execution_count": 45,
     "metadata": {},
     "output_type": "execute_result"
    }
   ],
   "source": [
    "w"
   ]
  },
  {
   "cell_type": "markdown",
   "metadata": {},
   "source": [
    "**Exercise 7**: Use scikit-learn for training the model and compare the results against the previous experiment's results!"
   ]
  },
  {
   "cell_type": "code",
   "execution_count": 54,
   "metadata": {},
   "outputs": [
    {
     "name": "stdout",
     "output_type": "stream",
     "text": [
      "28.330792605335226 0.4105911971787714\n"
     ]
    }
   ],
   "source": [
    "from sklearn.linear_model import LogisticRegression\n",
    "\n",
    "cl = LogisticRegression(fit_intercept=False, C=1e12) # no bies, no regularization\n",
    "cl.fit(X[tr], y[tr])\n",
    "yhat = cl.predict_proba(X)[:,1]\n",
    "ce = cross_entropy(y[te], yhat[te])\n",
    "print (ce, ce / len(te))"
   ]
  },
  {
   "cell_type": "code",
   "execution_count": 44,
   "metadata": {},
   "outputs": [
    {
     "data": {
      "text/plain": [
       "array([-0.37775325,  0.81513397,  0.24796104, -0.00703901, -0.72671579,\n",
       "        0.58551021, -0.43993414,  0.32079127, -0.23508148])"
      ]
     },
     "execution_count": 44,
     "metadata": {},
     "output_type": "execute_result"
    }
   ],
   "source": [
    "cl.coef_[0]"
   ]
  },
  {
   "cell_type": "code",
   "execution_count": null,
   "metadata": {},
   "outputs": [],
   "source": []
  },
  {
   "cell_type": "markdown",
   "metadata": {},
   "source": [
    "### $K$-Fold Cross-Validation\n",
    "- Idea: Randomly split the data to $K$ roughly equal partitions and run $K$ experiments!\n",
    "- In the $i$-th experiment, partition $i$ is used as the test set and all other partitions as the training set.\n",
    "- In the end, the scores obtained from the $K$ experiments are averaged.\n",
    "- $K$-fold cross-validation is slower but more reliable than the simple train-test split.\n",
    "- In the *stratified* variant of the method, the same distribution of labels is enforced in every partition."
   ]
  },
  {
   "cell_type": "markdown",
   "metadata": {},
   "source": [
    "<img src=\"../_img/cross_val.jpg\" width=\"350\" align=\"left\" style=\"opacity: 0.8\">"
   ]
  },
  {
   "cell_type": "markdown",
   "metadata": {},
   "source": [
    "**Exercise 8**: Replace the train-test split to 10-fold cross valiadtion and re-run the last experiment!"
   ]
  },
  {
   "cell_type": "code",
   "execution_count": 50,
   "metadata": {},
   "outputs": [],
   "source": [
    "from sklearn.model_selection import KFold\n",
    "from sklearn.metrics import log_loss\n",
    "\n",
    "cv = KFold(10, shuffle=True, random_state=42)"
   ]
  },
  {
   "cell_type": "code",
   "execution_count": 51,
   "metadata": {},
   "outputs": [],
   "source": [
    "scores = []\n",
    "for tr, te in cv.split(X):\n",
    "    cl = LogisticRegression(fit_intercept=False, C=1e12) # no bies, no regularization\n",
    "    cl.fit(X[tr], y[tr])\n",
    "    yhat = cl.predict_proba(X)[:,1]\n",
    "    score = log_loss(y[te], yhat[te])\n",
    "    scores.append(score)"
   ]
  },
  {
   "cell_type": "code",
   "execution_count": 52,
   "metadata": {},
   "outputs": [
    {
     "data": {
      "text/plain": [
       "[0.3103854498633047,\n",
       " 0.5013502260500776,\n",
       " 0.492728969735146,\n",
       " 0.34584544309166304,\n",
       " 0.5820155518006203,\n",
       " 0.3244320020003381,\n",
       " 0.4848963100207666,\n",
       " 0.3690964445150554,\n",
       " 0.38712987311278146,\n",
       " 0.41059119717877135]"
      ]
     },
     "execution_count": 52,
     "metadata": {},
     "output_type": "execute_result"
    }
   ],
   "source": [
    "scores"
   ]
  },
  {
   "cell_type": "code",
   "execution_count": 53,
   "metadata": {},
   "outputs": [
    {
     "data": {
      "text/plain": [
       "0.4208471467368525"
      ]
     },
     "execution_count": 53,
     "metadata": {},
     "output_type": "execute_result"
    }
   ],
   "source": [
    "np.mean(scores)"
   ]
  }
 ],
 "metadata": {
  "kernelspec": {
   "display_name": "Python 3 (ipykernel)",
   "language": "python",
   "name": "python3"
  },
  "language_info": {
   "codemirror_mode": {
    "name": "ipython",
    "version": 3
   },
   "file_extension": ".py",
   "mimetype": "text/x-python",
   "name": "python",
   "nbconvert_exporter": "python",
   "pygments_lexer": "ipython3",
   "version": "3.8.0"
  }
 },
 "nbformat": 4,
 "nbformat_minor": 1
}
