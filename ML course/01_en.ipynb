{
 "cells": [
  {
   "cell_type": "markdown",
   "metadata": {},
   "source": [
    "## Introduction\n",
    "\n",
    "Machine learning (<font color=\"purple\">ML</font>), data science (<font color=\"blue\">DS</font>) and artificial intelligence (<font color=\"red\">AI</font>) are closely related disciplines.\n",
    "- [Machine learning](https://en.wikipedia.org/wiki/Machine_learning) focuses on creating algorithms that allow computers to learn.\n",
    "- [Artificial intelligence](https://en.wikipedia.org/wiki/Artificial_intelligence), encompasses ML and other technologies (e.g. heuristic search algorithms, robotics) aimed at creating intelligent machines.\n",
    "- [Data science](https://en.wikipedia.org/wiki/Data_science) is a broader field that uses ML and other techniques (e.g. data cleaning, data management) to analyze data and make informed decisions."
   ]
  },
  {
   "cell_type": "markdown",
   "metadata": {},
   "source": [
    "<img src=\"../_img/ml_ai_ds.png\" width=\"200px\" align=\"left\">"
   ]
  },
  {
   "cell_type": "markdown",
   "metadata": {},
   "source": [
    "**A down-to-earth definition of machine learning**\n",
    "- Imagine a table filled with numbers!\n",
    "- Machine learning is discovering the relationship between columns of the table.\n",
    "  + In <a href=\"https://en.wikipedia.org/wiki/Supervised_learning\">supervised learning</a>, there is a target column that we aim to estimate based on the other columns.  \n",
    "  + In <a href=\"https://en.wikipedia.org/wiki/Unsupervised_learning\">unsupervised learning</a>, there is no designated target column."
   ]
  },
  {
   "cell_type": "markdown",
   "metadata": {},
   "source": [
    "<img src=\"../_img/data_table.jpg\" width=\"350px\" align=\"left\">"
   ]
  },
  {
   "cell_type": "markdown",
   "metadata": {},
   "source": [
    "**A taxonomy of machine learning problems**"
   ]
  },
  {
   "cell_type": "markdown",
   "metadata": {},
   "source": [
    "<img src=\"../_img/ml_problems.jpg\" width=\"450px\" align=\"left\">"
   ]
  },
  {
   "cell_type": "markdown",
   "metadata": {},
   "source": [
    "- Some examples of <u>binary classification</u> problems:\n",
    "  + Predicting whether an email is spam or not, based on its content, sender, subject, etc.\n",
    "  + Predicting whether a patient has a certain disease based on their symptoms, test results, medical history, etc."
   ]
  },
  {
   "cell_type": "markdown",
   "metadata": {},
   "source": [
    "**Traditional machine learning vs. deep neural networks**\n",
    "\n",
    "Machine learning methods can be broadly categorized into two groups: traditional machine learning and deep neural networks. Traditional machine learning includes [linear regression](https://en.wikipedia.org/wiki/Linear_regression), [logistic regression](https://en.wikipedia.org/wiki/Logistic_regression), [support vector machines](https://en.wikipedia.org/wiki/Support_vector_machine), [decision trees](https://en.wikipedia.org/wiki/Decision_tree), [random forests](https://en.wikipedia.org/wiki/Random_forest), and [gradient boosting](https://en.wikipedia.org/wiki/Gradient_boosting).\n",
    "These methods are known for their simplicity, interpretability, and computational efficiency.\n",
    "\n",
    "On the other hand, [deep neural networks](https://en.wikipedia.org/wiki/Deep_learning) are composed of multiple layers of artificial neurons that are trained to learn complex representations of the data.\n",
    "They include [convolutional neural networks](https://en.wikipedia.org/wiki/Convolutional_neural_network), [recurrent neural networks](https://en.wikipedia.org/wiki/Recurrent_neural_network), [generative adversarial networks](https://en.wikipedia.org/wiki/Generative_adversarial_network), and [transformers](https://en.wikipedia.org/wiki/Transformer_(machine_learning_model)).\n",
    "These models have the ability to capture complex patterns in the data.\n",
    "However, deep neural networks are computationally more intensive to train and less interpretable compared to traditional machine learning methods.\n",
    "Additionally, they require larger amounts of training data to achieve optimal performance.\n",
    "\n",
    "In this semester's Machine Learning course, we will concentrate exclusively on traditional machine learning techniques. For those seeking further knowledge on deep neural networks, the Neural Networks course offered in the following semester may be of interest."
   ]
  },
  {
   "cell_type": "markdown",
   "metadata": {},
   "source": [
    "**Some machine learning terms**\n",
    "- <u>feature</u>: one column of the data table,\n",
    "- <u>example</u>: one row of the data table,\n",
    "- <u>training</u>: finding the model parameters that fit well to the data,\n",
    "- <u>prediction</u>: estimating the target value of an input vector, using a trained model,\n",
    "- <u>training set</u>: a subset of examples that is used for training,\n",
    "- <u>test set</u>: another, distinct set of examples that is used for evaluating the trained model."
   ]
  },
  {
   "cell_type": "markdown",
   "metadata": {},
   "source": [
    "## Some Moments from the History of Machine Learning\n",
    "\n",
    "<small>\n",
    "<br>\n",
    "<div style=\"background-color: #FFC; border: 1px solid #AAA; border-radius: 10px; padding: 10px; margin-top: 5px\">\n",
    "<b><a href=\"https://en.wikipedia.org/wiki/Perceptron\">The Perceptron Algorithm</a></b>:\n",
    "In the <b>1950s</b>, a psychologist named <a href=\"https://en.wikipedia.org/wiki/Frank_Rosenblatt\">Frank Rosenblatt</a> proposed the Perceptron, a simple artificial neuron model that could solve linear classification problems. Although it was limited in its ability to solve more complex problems, the Perceptron was the first step towards creating more sophisticated machine learning algorithms.\n",
    "</div>\n",
    "\n",
    "<div style=\"background-color: #FEC; border: 1px solid #AAA; border-radius: 10px; padding: 10px;  margin-top: 5px\">\n",
    "<b><a href=\"https://en.wikipedia.org/wiki/Dartmouth_workshop\">The Dartmouth Workshop</a></b>:    \n",
    "In <b>1956</b>, a group of researchers including <a href=\"https://en.wikipedia.org/wiki/John_McCarthy_(computer_scientist)\">John McCarthy</a>, <a href=\"https://en.wikipedia.org/wiki/Marvin_Minsky\">Marvin Minsky</a>, <a href=\"https://en.wikipedia.org/wiki/Nathaniel_Rochester_(computer_scientist)\">Nathaniel Rochester</a> and <a href=\"https://en.wikipedia.org/wiki/Claude_Shannon\">Claude Shannon</a> gathered at Dartmouth College to discuss the possibilities of thinking machines. This conference is now considered to be the birthplace of the field of artificial intelligence.    \n",
    "</div>\n",
    "\n",
    "<div style=\"padding: 10px;  margin-top: 5px\">\n",
    "<img src=\"../_img/dartmouth_workshop.jpg\" width=\"200px\">\n",
    "</div>\n",
    "\n",
    "<div style=\"background-color: #FFC; border: 1px solid #AAA; border-radius: 10px; padding: 10px;  margin-top: 5px\">\n",
    "<b><a href=\"https://en.wikipedia.org/wiki/Backpropagation\">The Backpropagation Algorithm</a></b>:\n",
    "In the <b>1980s</b>, <a href=\"https://en.wikipedia.org/wiki/Geoffrey_Hinton\">Geoffrey Hinton</a> and his students developed the backpropagation algorithm, which allowed neural networks to learn from their mistakes and improve over time. This breakthrough revolutionized the field of machine learning and paved the way for deep learning, a type of neural network with many layers.    \n",
    "</div>\n",
    "\n",
    "<div style=\"background-color: #FEC; border: 1px solid #AAA; border-radius: 10px; padding: 10px;  margin-top: 5px\">\n",
    "<b><a href=\"https://en.wikipedia.org/wiki/MNIST_database\">The MNIST Handwritten Digits Dataset</a></b>:\n",
    "In the late <b>1990s</b>, researchers at the National Institute of Standards and Technology created a dataset of handwritten digits to use as a benchmark for evaluating machine learning algorithms. This dataset, called MNIST, is still widely used today and has played a major role in advancing the field of computer vision.\n",
    "</div>\n",
    "    \n",
    "<div style=\"background-color: #FFC; border: 1px solid #AAA; border-radius: 10px; padding: 10px;  margin-top: 5px\">\n",
    "<b><a href=\"https://en.wikipedia.org/wiki/Netflix_Prize\">The Netflix Prize</a></b>:\n",
    "In <b>2006</b>, Netflix launched a competition to improve its movie recommendation system. The competition was called the Netflix Prize and offered a million-dollar prize to the team that could produce the best algorithm for predicting which movies a user would like. The winning team, BellKor's Pragmatic Chaos, used a combination of matrix factorization and collaborative filtering to improve the accuracy of Netflix's recommendations.\n",
    "</div>\n",
    "\n",
    "<div style=\"background-color: #FEC; border: 1px solid #AAA; border-radius: 10px; padding: 10px;  margin-top: 5px\">\n",
    "<b><a href=\"https://en.wikipedia.org/wiki/Deep_learning#Deep_learning_revolution\">The Deep Learning Revolution</a></b>:\n",
    "In <b>2012</b>, Alex Krizhevsky, Ilya Sutskever and Geoffrey Hinton won the ImageNet image classification challenge by a large margin, using the deep convolutional neural network. In the following years, researchers outperformed state-of-the-art results on several benchmark datasets using deep learning. Deep learning has since become one of the most active areas of research in the field of machine learning. \n",
    "</div>\n",
    "   \n",
    "<div style=\"background-color: #FFC; border: 1px solid #AAA; border-radius: 10px; padding: 10px;  margin-top: 5px\">\n",
    "<b><a href=\"https://en.wikipedia.org/wiki/AlphaGo\">AlphaGo</a></b>:\n",
    "In <b>2016</b>, a machine learning algorithm developed by Google DeepMind, called AlphaGo, defeated Lee Sedol, a 9-dan professional of the game Go, in a best-of-five series.\n",
    "This marked a significant milestone in the development of artificial intelligence and showed that machines could outperform humans in complex, strategic games.    \n",
    "</div>\n",
    "\n",
    "<div style=\"background-color: #FEC; border: 1px solid #AAA; border-radius: 10px; padding: 10px;  margin-top: 5px\">   \n",
    "<b><a href=\"https://en.wikipedia.org/wiki/OpenAI#GPT\">The OpenAI GPT Models</a></b>:\n",
    "In <b>2018</b>, OpenAI introduced the GPT (Generative Pretrained Transformer) language models, which were trained on a massive amount of text data and could generate human-like text. The GPT models have been widely adopted and have led to advances in areas such as natural language processing and conversational AI.\n",
    "</div>\n",
    "</small>"
   ]
  },
  {
   "cell_type": "markdown",
   "metadata": {},
   "source": [
    "## [Univariate Linear Regression](https://en.wikipedia.org/wiki/Simple_linear_regression)\n",
    "\n",
    "Linear regression is a simple but still useful learning algorithm that dates back to the 19th century.\n",
    "It was first described by Galton in the 1880s and was later formalized by Fisher in the early 20th century.\n",
    "Despite its age, linear regression remains popular in numerous fields with its implementation constantly evolving in response to technological advancements."
   ]
  },
  {
   "cell_type": "markdown",
   "metadata": {},
   "source": [
    "<img src=\"../_img/linreg_1d.jpg\" width=\"470px\" align=\"left\">"
   ]
  },
  {
   "cell_type": "markdown",
   "metadata": {},
   "source": [
    "**Exercise 1**: Perform univariate linear regression on the MLB baseball player data in the [baseball.txt](../_data/baseball.txt) file, using height as the input and weight as the target!\n",
    "\n",
    "<img src=\"../_img/baseball_players.jpg\" width=\"300px\" align=\"left\">"
   ]
  },
  {
   "cell_type": "code",
   "execution_count": 3,
   "metadata": {},
   "outputs": [],
   "source": [
    "# Load data.\n",
    "import numpy as np\n",
    "data = np.loadtxt(\"baseball.txt\", delimiter=',')"
   ]
  },
  {
   "cell_type": "code",
   "execution_count": 4,
   "metadata": {},
   "outputs": [
    {
     "data": {
      "text/plain": [
       "array([[188.,  82.],\n",
       "       [188.,  98.],\n",
       "       [183.,  95.],\n",
       "       ...,\n",
       "       [190.,  93.],\n",
       "       [190.,  86.],\n",
       "       [185.,  88.]])"
      ]
     },
     "execution_count": 4,
     "metadata": {},
     "output_type": "execute_result"
    }
   ],
   "source": [
    "data"
   ]
  },
  {
   "cell_type": "code",
   "execution_count": 5,
   "metadata": {},
   "outputs": [
    {
     "data": {
      "text/plain": [
       "(1033, 2)"
      ]
     },
     "execution_count": 5,
     "metadata": {},
     "output_type": "execute_result"
    }
   ],
   "source": [
    "data.shape"
   ]
  },
  {
   "cell_type": "code",
   "execution_count": 6,
   "metadata": {},
   "outputs": [],
   "source": [
    "# Extract input vector (height) and target vector (weight).\n",
    "x = data[:,0]\n",
    "y = data[:,1]"
   ]
  },
  {
   "cell_type": "code",
   "execution_count": 8,
   "metadata": {},
   "outputs": [],
   "source": [
    "# Subtract mean.\n",
    "xm = x.mean()\n",
    "ym = y.mean()"
   ]
  },
  {
   "cell_type": "code",
   "execution_count": 9,
   "metadata": {},
   "outputs": [],
   "source": [
    "x -= xm\n",
    "y -= ym"
   ]
  },
  {
   "cell_type": "code",
   "execution_count": 10,
   "metadata": {},
   "outputs": [
    {
     "data": {
      "text/plain": [
       "<matplotlib.collections.PathCollection at 0x7f438c1b2580>"
      ]
     },
     "execution_count": 10,
     "metadata": {},
     "output_type": "execute_result"
    },
    {
     "data": {
      "image/png": "[encoded data removed]",
      "text/plain": [
       "<Figure size 576x576 with 1 Axes>"
      ]
     },
     "metadata": {
      "needs_background": "light"
     },
     "output_type": "display_data"
    }
   ],
   "source": [
    "# Prepare a scatter plot of the data.\n",
    "import matplotlib.pyplot as plt\n",
    "plt.figure(figsize=(8,8))\n",
    "plt.scatter(x,y,alpha=0.7)"
   ]
  },
  {
   "cell_type": "code",
   "execution_count": 11,
   "metadata": {},
   "outputs": [
    {
     "data": {
      "text/plain": [
       "0.8561919786085516"
      ]
     },
     "execution_count": 11,
     "metadata": {},
     "output_type": "execute_result"
    }
   ],
   "source": [
    "# Train model (compute the optimal w value).\n",
    "w = (x@y)/(x@x)\n",
    "w"
   ]
  },
  {
   "cell_type": "code",
   "execution_count": 12,
   "metadata": {},
   "outputs": [
    {
     "data": {
      "text/plain": [
       "94.01062994703861"
      ]
     },
     "execution_count": 12,
     "metadata": {},
     "output_type": "execute_result"
    }
   ],
   "source": [
    "# Predict the weight of a player who is 190 cm tall.\n",
    "(190 - xm)*w+ym"
   ]
  },
  {
   "cell_type": "code",
   "execution_count": 15,
   "metadata": {},
   "outputs": [
    {
     "data": {
      "text/plain": [
       "[<matplotlib.lines.Line2D at 0x7f4389f56490>]"
      ]
     },
     "execution_count": 15,
     "metadata": {},
     "output_type": "execute_result"
    },
    {
     "data": {
      "image/png": "[encoded data removed]",
      "text/plain": [
       "<Figure size 576x576 with 1 Axes>"
      ]
     },
     "metadata": {
      "needs_background": "light"
     },
     "output_type": "display_data"
    }
   ],
   "source": [
    "# Draw regression line into the scatter plot.\n",
    "plt.figure(figsize=(8,8))\n",
    "plt.scatter(x,y,alpha=0.7)\n",
    "x2 = np.array([x.min(),x.max()])\n",
    "plt.plot(x2,x2*w, color='red')"
   ]
  },
  {
   "cell_type": "markdown",
   "metadata": {},
   "source": [
    "## [Multivariate Linear Regression](https://en.wikipedia.org/wiki/Linear_regression)\n",
    "\n",
    "Multivariate linear regression can be derived from univariate linear regression\n",
    "by adding additional input features to the model.\n",
    "The equation for multivariate linear regression is a extension of the equation for univariate\n",
    "linear regression, with multiple coefficients representing the strength and\n",
    "direction of the relationship between each input feature and the\n",
    "target feature."
   ]
  },
  {
   "cell_type": "markdown",
   "metadata": {},
   "source": [
    "<img src=\"../_img/linreg.jpg\" width=\"500px\" align=\"left\">"
   ]
  },
  {
   "cell_type": "markdown",
   "metadata": {},
   "source": [
    "**Exercise 2**: Implement multivariate linear regression on the following artificial problem!"
   ]
  },
  {
   "cell_type": "code",
   "execution_count": 16,
   "metadata": {},
   "outputs": [],
   "source": [
    "import numpy as np\n",
    "\n",
    "def gen_data(n, d):\n",
    "    rs = np.random.RandomState(42)\n",
    "    X = rs.random(size=(n, d)) # input matrix\n",
    "    v = np.arange(d)  # v = [0, 1, 2, ...]\n",
    "    y = X @ v + rs.randn(n)      # target vector\n",
    "    return X, y"
   ]
  },
  {
   "cell_type": "code",
   "execution_count": 17,
   "metadata": {},
   "outputs": [],
   "source": [
    "# Generate artificial data set.\n",
    "X, y = gen_data(1000, 50)"
   ]
  },
  {
   "cell_type": "code",
   "execution_count": 18,
   "metadata": {},
   "outputs": [
    {
     "data": {
      "text/plain": [
       "(1000, 50)"
      ]
     },
     "execution_count": 18,
     "metadata": {},
     "output_type": "execute_result"
    }
   ],
   "source": [
    "X.shape"
   ]
  },
  {
   "cell_type": "code",
   "execution_count": 21,
   "metadata": {},
   "outputs": [
    {
     "data": {
      "text/plain": [
       "array([-6.27668535e-03,  7.79377042e-01,  2.12007621e+00,  2.91175236e+00,\n",
       "        3.87036693e+00,  5.10677902e+00,  5.99889354e+00,  6.96317023e+00,\n",
       "        7.85544458e+00,  9.14518616e+00,  9.91401623e+00,  1.10795175e+01,\n",
       "        1.18655076e+01,  1.29230253e+01,  1.39493048e+01,  1.50584688e+01,\n",
       "        1.59630538e+01,  1.70070564e+01,  1.78704537e+01,  1.91984375e+01,\n",
       "        1.98991713e+01,  2.09711802e+01,  2.20835181e+01,  2.31399674e+01,\n",
       "        2.40855004e+01,  2.49690066e+01,  2.61665348e+01,  2.69094644e+01,\n",
       "        2.80304559e+01,  2.89075191e+01,  3.00075384e+01,  3.10977986e+01,\n",
       "        3.18331446e+01,  3.32259644e+01,  3.40089749e+01,  3.53181296e+01,\n",
       "        3.59508608e+01,  3.69689455e+01,  3.76996546e+01,  3.89252973e+01,\n",
       "        4.02508652e+01,  4.11066389e+01,  4.19419945e+01,  4.29471376e+01,\n",
       "        4.39179113e+01,  4.51380313e+01,  4.60397828e+01,  4.69299566e+01,\n",
       "        4.78870045e+01,  4.91419825e+01])"
      ]
     },
     "execution_count": 21,
     "metadata": {},
     "output_type": "execute_result"
    }
   ],
   "source": [
    "# Compute optimal parameter vector.\n",
    "w = np.linalg.inv(X.T@X) @ (X.T@y)\n",
    "w"
   ]
  },
  {
   "cell_type": "code",
   "execution_count": 22,
   "metadata": {},
   "outputs": [
    {
     "data": {
      "text/plain": [
       "array([-6.27668535e-03,  7.79377042e-01,  2.12007621e+00,  2.91175236e+00,\n",
       "        3.87036693e+00,  5.10677902e+00,  5.99889354e+00,  6.96317023e+00,\n",
       "        7.85544458e+00,  9.14518616e+00,  9.91401623e+00,  1.10795175e+01,\n",
       "        1.18655076e+01,  1.29230253e+01,  1.39493048e+01,  1.50584688e+01,\n",
       "        1.59630538e+01,  1.70070564e+01,  1.78704537e+01,  1.91984375e+01,\n",
       "        1.98991713e+01,  2.09711802e+01,  2.20835181e+01,  2.31399674e+01,\n",
       "        2.40855004e+01,  2.49690066e+01,  2.61665348e+01,  2.69094644e+01,\n",
       "        2.80304559e+01,  2.89075191e+01,  3.00075384e+01,  3.10977986e+01,\n",
       "        3.18331446e+01,  3.32259644e+01,  3.40089749e+01,  3.53181296e+01,\n",
       "        3.59508608e+01,  3.69689455e+01,  3.76996546e+01,  3.89252973e+01,\n",
       "        4.02508652e+01,  4.11066389e+01,  4.19419945e+01,  4.29471376e+01,\n",
       "        4.39179113e+01,  4.51380313e+01,  4.60397828e+01,  4.69299566e+01,\n",
       "        4.78870045e+01,  4.91419825e+01])"
      ]
     },
     "execution_count": 22,
     "metadata": {},
     "output_type": "execute_result"
    }
   ],
   "source": [
    "# ...more efficient way\n",
    "np.linalg.solve(X.T @ X, X.T @ y)"
   ]
  },
  {
   "cell_type": "markdown",
   "metadata": {},
   "source": [
    "**Exercise 3**: Plot the time complexity of training the model! \\n\n",
    "O(d^2 * n + d^3)"
   ]
  },
  {
   "cell_type": "code",
   "execution_count": 24,
   "metadata": {},
   "outputs": [],
   "source": [
    "def fit_lin_rg(X,y):\n",
    "    return np.linalg.solve(X.T @ X, X.T @ y)"
   ]
  },
  {
   "cell_type": "code",
   "execution_count": 36,
   "metadata": {},
   "outputs": [
    {
     "name": "stdout",
     "output_type": "stream",
     "text": [
      "500\n",
      "1000\n",
      "2000\n",
      "5000\n",
      "10000\n",
      "15000\n",
      "20000\n"
     ]
    },
    {
     "data": {
      "text/plain": [
       "<AxesSubplot: xlabel='n'>"
      ]
     },
     "execution_count": 36,
     "metadata": {},
     "output_type": "execute_result"
    },
    {
     "data": {
      "image/png": "[encoded data removed]",
      "text/plain": [
       "<Figure size 432x288 with 1 Axes>"
      ]
     },
     "metadata": {
      "needs_background": "light"
     },
     "output_type": "display_data"
    }
   ],
   "source": [
    "import time\n",
    "import pandas as pd\n",
    "\n",
    "# How the running time grows with n?\n",
    "data = []\n",
    "for n in [500, 1000, 2000, 5000, 10000, 15000, 20000]:\n",
    "    print(n)\n",
    "    X, y = gen_data(n,50)\n",
    "    t0 = time.time()\n",
    "    fit_lin_rg(X,y)\n",
    "    t1 = time.time()\n",
    "    data.append({\n",
    "        'n':n,\n",
    "        'time':t1-t0\n",
    "    })\n",
    "\n",
    "pd.DataFrame(data).set_index('n').plot()"
   ]
  },
  {
   "cell_type": "code",
   "execution_count": 38,
   "metadata": {},
   "outputs": [
    {
     "name": "stdout",
     "output_type": "stream",
     "text": [
      "50\n",
      "100\n",
      "200\n",
      "500\n",
      "1000\n",
      "2000\n"
     ]
    },
    {
     "data": {
      "text/plain": [
       "<AxesSubplot: xlabel='d'>"
      ]
     },
     "execution_count": 38,
     "metadata": {},
     "output_type": "execute_result"
    },
    {
     "data": {
      "image/png": "[encoded data removed]",
      "text/plain": [
       "<Figure size 432x288 with 1 Axes>"
      ]
     },
     "metadata": {
      "needs_background": "light"
     },
     "output_type": "display_data"
    }
   ],
   "source": [
    "# How the running time grows with d?\n",
    "data = []\n",
    "for d in [50, 100, 200, 500, 1000, 2000]:\n",
    "    print(d)\n",
    "    X, y = gen_data(20000,d)\n",
    "    t0 = time.time()\n",
    "    fit_lin_rg(X,y)\n",
    "    t1 = time.time()\n",
    "    data.append({\n",
    "        'd':d,\n",
    "        'time':t1-t0\n",
    "    })\n",
    "\n",
    "pd.DataFrame(data).set_index('d').plot()"
   ]
  },
  {
   "cell_type": "markdown",
   "metadata": {},
   "source": [
    "### Handling the Bias Term\n",
    "\n",
    "To include a bias term in $d$-variate linear regression, one can add an all-ones column to the end of the input matrix, making it $X'=[X\\ |\\ 1]$, and append a bias parameter to the end of the parameter vector, $w'=[w\\ |\\ \\beta]$. This creates a ($d+1$)-variate model is equivalent to a $d$-variate model with a bias term, because $X'w' = Xw + \\beta$"
   ]
  },
  {
   "cell_type": "code",
   "execution_count": 39,
   "metadata": {},
   "outputs": [],
   "source": [
    "# Incorporate a bias term into the previous model.\n",
    "def gen_data(n, d):\n",
    "    rs = np.random.RandomState(42)\n",
    "    X = rs.random(size=(n, d)) # input matrix\n",
    "    v = np.arange(d)  # v = [0, 1, 2, ...]\n",
    "    y = X @ v + rs.randn(n)      # target vector\n",
    "    return X, y"
   ]
  },
  {
   "cell_type": "code",
   "execution_count": 40,
   "metadata": {},
   "outputs": [],
   "source": [
    "X, y = gen_data(1000, 50)"
   ]
  },
  {
   "cell_type": "code",
   "execution_count": 42,
   "metadata": {},
   "outputs": [
    {
     "data": {
      "text/plain": [
       "array([-3.06401464e-03,  7.82222930e-01,  2.12108232e+00,  2.91386326e+00,\n",
       "        3.87228420e+00,  5.11026964e+00,  6.00067559e+00,  6.96542866e+00,\n",
       "        7.85673963e+00,  9.14797989e+00,  9.91686530e+00,  1.10816627e+01,\n",
       "        1.18689718e+01,  1.29260957e+01,  1.39518797e+01,  1.50615225e+01,\n",
       "        1.59648657e+01,  1.70097186e+01,  1.78728642e+01,  1.92008891e+01,\n",
       "        1.99009444e+01,  2.09740852e+01,  2.20863362e+01,  2.31414739e+01,\n",
       "        2.40883621e+01,  2.49715111e+01,  2.61689865e+01,  2.69129379e+01,\n",
       "        2.80332758e+01,  2.89101312e+01,  3.00091476e+01,  3.11004170e+01,\n",
       "        3.18356050e+01,  3.32282182e+01,  3.40110034e+01,  3.53203475e+01,\n",
       "        3.59551113e+01,  3.69712921e+01,  3.77020377e+01,  3.89276599e+01,\n",
       "        4.02537764e+01,  4.11091654e+01,  4.19436299e+01,  4.29507093e+01,\n",
       "        4.39199257e+01,  4.51407203e+01,  4.60427084e+01,  4.69329446e+01,\n",
       "        4.78878303e+01,  4.91438904e+01, -6.19795948e-02])"
      ]
     },
     "execution_count": 42,
     "metadata": {},
     "output_type": "execute_result"
    }
   ],
   "source": [
    "o = np.ones((1000,1))\n",
    "X_pr = np.hstack([X,o])\n",
    "w_pr = fit_lin_rg(X_pr,y)\n",
    "w_pr"
   ]
  },
  {
   "cell_type": "code",
   "execution_count": 43,
   "metadata": {},
   "outputs": [
    {
     "data": {
      "text/plain": [
       "(51,)"
      ]
     },
     "execution_count": 43,
     "metadata": {},
     "output_type": "execute_result"
    }
   ],
   "source": [
    "w_pr.shape"
   ]
  },
  {
   "cell_type": "code",
   "execution_count": 44,
   "metadata": {},
   "outputs": [
    {
     "data": {
      "text/plain": [
       "(array([-3.06401464e-03,  7.82222930e-01,  2.12108232e+00,  2.91386326e+00,\n",
       "         3.87228420e+00,  5.11026964e+00,  6.00067559e+00,  6.96542866e+00,\n",
       "         7.85673963e+00,  9.14797989e+00,  9.91686530e+00,  1.10816627e+01,\n",
       "         1.18689718e+01,  1.29260957e+01,  1.39518797e+01,  1.50615225e+01,\n",
       "         1.59648657e+01,  1.70097186e+01,  1.78728642e+01,  1.92008891e+01,\n",
       "         1.99009444e+01,  2.09740852e+01,  2.20863362e+01,  2.31414739e+01,\n",
       "         2.40883621e+01,  2.49715111e+01,  2.61689865e+01,  2.69129379e+01,\n",
       "         2.80332758e+01,  2.89101312e+01,  3.00091476e+01,  3.11004170e+01,\n",
       "         3.18356050e+01,  3.32282182e+01,  3.40110034e+01,  3.53203475e+01,\n",
       "         3.59551113e+01,  3.69712921e+01,  3.77020377e+01,  3.89276599e+01,\n",
       "         4.02537764e+01,  4.11091654e+01,  4.19436299e+01,  4.29507093e+01,\n",
       "         4.39199257e+01,  4.51407203e+01,  4.60427084e+01,  4.69329446e+01,\n",
       "         4.78878303e+01,  4.91438904e+01]),\n",
       " -0.06197959478839162)"
      ]
     },
     "execution_count": 44,
     "metadata": {},
     "output_type": "execute_result"
    }
   ],
   "source": [
    "w, beta = w_pr[:50], w_pr[50]\n",
    "w, beta"
   ]
  },
  {
   "cell_type": "markdown",
   "metadata": {},
   "source": [
    "### Linear Regression on Sparse Data\n",
    "\n",
    "When the input matrix is sparse, meaning it has many zero values, traditional linear regression methods perform poorly. To avoid storage inefficiencies, the input matrix should be represented in a sparse matrix format such as COO, CSR, or CSC. To handle sparse data effectively, alternative training algorithms should be employed that only consider the non-zero locations in the input matrix."
   ]
  },
  {
   "cell_type": "code",
   "execution_count": 1,
   "metadata": {},
   "outputs": [],
   "source": [
    "import numpy as np\n",
    "import scipy.sparse as sp\n",
    "\n",
    "def gen_sparse_data(n, d, density):\n",
    "    X = sp.random(n, d, density=density, random_state=42) # input matrix\n",
    "    v = np.arange(d)\n",
    "    y = X @ v + np.random.RandomState(42).randn(n)   # target vector\n",
    "    return X, y"
   ]
  },
  {
   "cell_type": "code",
   "execution_count": 2,
   "metadata": {},
   "outputs": [],
   "source": [
    "# Generate artificial data set.\n",
    "X, y = gen_sparse_data(1000, 100, 0.01)"
   ]
  },
  {
   "cell_type": "code",
   "execution_count": 3,
   "metadata": {},
   "outputs": [
    {
     "data": {
      "text/plain": [
       "<1000x100 sparse matrix of type '<class 'numpy.float64'>'\n",
       "\twith 1000 stored elements in COOrdinate format>"
      ]
     },
     "execution_count": 3,
     "metadata": {},
     "output_type": "execute_result"
    }
   ],
   "source": [
    "X"
   ]
  },
  {
   "cell_type": "code",
   "execution_count": 5,
   "metadata": {},
   "outputs": [
    {
     "data": {
      "text/plain": [
       "array([ 8.31573963e+01, -1.38264301e-01,  6.47688538e-01,  6.95470361e+01,\n",
       "        8.64440171e+01,  2.21265946e+01,  3.92455292e+01,  7.67434729e-01,\n",
       "        4.22673463e+00,  5.42560044e-01,  2.18408047e+01,  1.10375192e+01,\n",
       "        1.03918651e+01,  5.47211613e+01, -1.66547943e+00,  1.97022890e+01,\n",
       "       -1.01283112e+00,  2.80787047e+01,  6.96266404e-01,  2.23033667e+01,\n",
       "        1.46564877e+00,  2.30734549e+01,  3.49393826e+01, -1.42474819e+00,\n",
       "       -5.44382725e-01,  1.10922590e-01,  4.16321594e+01,  3.75698018e-01,\n",
       "        5.49280248e+00,  3.97282594e+01, -6.01706612e-01,  1.85227818e+00,\n",
       "       -1.34972247e-02, -1.05771093e+00,  7.60710146e+01,  4.87893739e+00,\n",
       "        2.08863595e-01,  3.83735573e+01,  8.49340845e+01,  7.63919181e+01,\n",
       "        9.46626266e+00,  1.71368281e-01,  5.58220928e+01,  6.86964546e+01,\n",
       "       -1.47852199e+00, -5.28017778e-01,  9.83779634e+00,  1.05712223e+00,\n",
       "        3.43618290e-01,  2.54551279e-01,  5.83283462e+00, -3.85082280e-01,\n",
       "        4.78181839e+00,  6.11676289e-01,  2.07980776e+01,  5.18802057e+01,\n",
       "        4.73186585e+01,  1.97540367e-01,  3.31263431e-01,  9.75545127e-01,\n",
       "        1.03568355e+01, -1.85658977e-01, -1.10633497e+00, -1.19620662e+00,\n",
       "        4.12787590e+01,  1.35624003e+00,  5.05158682e+01,  5.77108280e+01,\n",
       "        3.02452754e+01, -6.45119755e-01,  1.02726922e+02,  5.49761660e+01,\n",
       "       -3.58260391e-02,  6.88264052e+00,  2.03846593e+01,  1.18143324e+01,\n",
       "        2.76285836e+01, -2.99007350e-01,  3.97305882e+01, -1.98756891e+00,\n",
       "        2.58469048e+01,  3.57112572e-01,  1.47789404e+00,  1.11348614e+02,\n",
       "        3.13910873e+01,  2.71888802e+00,  6.79054939e+00,  6.77364818e+01,\n",
       "       -5.29760204e-01,  8.23053246e+00,  9.70775493e-02,  5.13648346e+01,\n",
       "        2.60305176e+00,  2.45473793e+01, -3.92108153e-01, -1.46351495e+00,\n",
       "        3.99643569e+00,  5.10159902e+01,  5.11345664e-03,  5.87251946e+01,\n",
       "        5.16514622e+01, -4.20645323e-01,  2.53658381e+01, -8.02277269e-01,\n",
       "        1.28791475e+00,  4.04050857e-01,  6.76665596e+01,  1.74577813e-01,\n",
       "        2.98084866e+01, -7.44459158e-02,  6.79093020e+00,  4.29789834e+01,\n",
       "        6.02302099e-02,  2.04598018e+01, -1.92360965e-01,  1.44403438e+01,\n",
       "        1.95949131e+01, -1.16867804e+00,  1.14282281e+00,  3.61953477e+01,\n",
       "        3.43137744e+01,  1.88298575e+01,  2.48449536e+01, -1.40185106e+00,\n",
       "        5.86857094e-01,  5.29688872e+01,  1.26765140e+02,  9.75571757e+01,\n",
       "        1.14887010e+01,  2.76550142e+01,  1.43791628e+02,  6.85629748e-02,\n",
       "       -1.06230371e+00,  4.73592431e-01,  4.55548677e+00,  1.54993441e+00,\n",
       "       -7.83253292e-01,  4.49772935e+01,  8.13517217e-01,  2.02839835e+01,\n",
       "        2.27459935e-01,  4.29545612e+01,  5.82367303e+01,  4.33288648e+01,\n",
       "        4.60816587e-01,  2.89864031e+01, -1.23695071e+00,  6.54689714e+00,\n",
       "        4.10995885e+01,  8.84171406e+01,  4.04387533e+01,  4.99520453e+01,\n",
       "       -6.06055809e-02,  6.79186970e+00,  2.93072473e-01,  1.86771497e+01,\n",
       "        3.02166893e+01,  4.73832921e-01, -1.19130350e+00,  6.56553609e-01,\n",
       "        9.45499187e+00,  7.46181396e+01,  6.58723853e+00,  1.42093651e+01,\n",
       "        9.63376129e-01,  4.12780927e-01,  7.07775323e+00,  1.89679298e+00,\n",
       "        8.41290791e+01,  6.24849649e+01,  1.82818663e+01, -8.15810285e-01,\n",
       "        3.27215858e+01,  1.22751011e+01,  5.44572489e+01,  3.21836378e+00,\n",
       "        1.19929473e+01,  2.77868493e+01,  5.80690546e+01,  2.72016917e+00,\n",
       "        1.38297775e+00,  9.72690260e+00,  9.80141738e+01,  1.87712364e+01,\n",
       "        1.01685084e+02,  7.14000494e-01,  1.11945097e+00,  4.21273124e+01,\n",
       "       -8.46793718e-01, -1.51484722e+00, -4.46514952e-01,  8.56398794e-01,\n",
       "        5.40698615e+01, -1.24573878e+00,  3.63481379e+01,  7.25758028e+01,\n",
       "        1.96335659e+01,  1.53725106e-01,  1.00433263e+02,  1.43237010e+02,\n",
       "        4.73724577e+00,  3.73670227e+01,  1.08305124e+00,  6.73549627e+01,\n",
       "       -1.37766937e+00, -9.37825040e-01,  4.77105981e+01,  5.44979552e+01,\n",
       "        5.15047686e-01,  3.85273149e+00,  5.70890511e-01,  1.13556564e+00,\n",
       "        7.73548571e+01,  6.51391251e-01, -3.15269245e-01,  1.42822049e+00,\n",
       "       -7.72825215e-01,  1.59616992e+01, -4.85363548e-01,  8.18741394e-02,\n",
       "        1.44402904e+01,  3.86292081e+00,  1.00266907e+02,  3.76849022e+01,\n",
       "       -4.71931866e-01,  1.08895060e+00,  2.16212000e+01, -1.07774478e+00,\n",
       "        2.06898431e+01,  6.79597749e-01, -3.54486453e-01,  2.44512499e+01,\n",
       "        1.36196077e+00,  8.32323471e+01,  2.93072279e+01,  7.33944448e+01,\n",
       "       -2.02514259e+00,  2.25333934e+01,  1.66713020e+01,  8.52433335e-01,\n",
       "       -7.92520738e-01,  5.61620463e+01,  8.90243046e+00,  8.65755194e-01,\n",
       "        1.29635554e+01,  7.68271729e+00,  4.27688855e+01,  1.28262901e+01,\n",
       "        1.76545424e+00,  4.04981711e-01,  4.69833104e+00,  9.17861947e-01,\n",
       "        2.12215620e+00,  8.60575729e+01, -1.51936997e+00, -4.84234073e-01,\n",
       "        8.22274809e+00,  5.55100951e+00,  4.43819428e-01,  7.74634053e-01,\n",
       "        1.06369479e+02,  2.19213539e+01, -3.24126734e+00,  6.64636958e+00,\n",
       "       -2.52568151e-01, -1.24778318e+00,  2.82057736e+01,  4.73247527e-01,\n",
       "        1.00599230e+02,  4.93961865e+01,  1.44127329e+00,  1.40189463e+02,\n",
       "        3.93591458e+01,  2.56733063e+01, -9.81508651e-01,  4.62103474e-01,\n",
       "        1.76568675e+01,  5.40405966e+01,  6.98020850e-02, -3.85313597e-01,\n",
       "        4.96773188e-01,  6.62130675e-01,  2.61945903e+01, -1.23781550e+00,\n",
       "        3.30471221e+01,  4.78361330e+00,  7.61129175e+00,  1.05746970e+00,\n",
       "        2.80991868e-01, -6.22699520e-01,  8.79536879e+01, -4.93000935e-01,\n",
       "        2.90190986e+01,  2.76585711e+01,  9.35892809e-01, -6.92909595e-01,\n",
       "        3.17110434e+01,  1.09949986e+01,  2.34156377e+01,  1.48480502e+01,\n",
       "       -8.28995011e-01,  1.18766365e+01,  7.47293605e-01,  2.43135695e+01,\n",
       "        1.26711626e+02,  1.17327383e-01,  1.27766490e+00, -5.91571389e-01,\n",
       "        5.47097381e-01,  5.67527170e+01, -2.17681203e-01,  6.57839713e+00,\n",
       "        8.25416349e-01,  8.13509636e-01,  5.61931174e+01,  1.75633693e-01,\n",
       "        6.64698341e+01,  1.54212157e+00,  3.44555168e+01, -1.30143054e-01,\n",
       "        9.69959650e-02,  5.95157025e-01,  7.66131428e+01,  8.21353055e+01,\n",
       "        1.15169397e-01,  3.66658975e+01,  1.15811087e+00,  7.91662694e-01,\n",
       "        6.24119817e-01,  6.28345509e-01,  2.02502433e+01,  5.39175357e+01,\n",
       "        3.82728983e+01,  6.23718151e+01,  1.85787209e+01,  6.71337391e+00,\n",
       "        4.04457891e+01,  4.52657584e+01,  2.06144367e+01, -5.63724553e-01,\n",
       "        1.99416430e+02,  2.43687211e-01,  8.98584268e+01,  7.51633374e+00,\n",
       "        1.19782087e+01,  1.24633695e+02,  7.02153059e+01, -1.40746377e+00,\n",
       "        5.79974267e+01,  2.65373568e+01,  2.66271049e+01,  8.85130758e+01,\n",
       "        8.57659623e-01, -1.59938530e-01, -1.90162079e-02,  4.46480234e+00,\n",
       "        4.34368959e+00,  2.06567791e+01,  3.59505607e+01,  2.28317267e+01,\n",
       "        7.22629805e+01,  1.36033719e+01, -1.08760148e-01,  7.68308484e+01,\n",
       "        3.07395464e+00,  6.64547789e+01,  2.24092482e-01,  2.95300730e+00,\n",
       "        4.82770598e+01, -7.73009784e-01,  4.15603092e+01,  4.97998291e-01,\n",
       "        9.33562226e+01,  2.19014259e+00,  3.78220633e+01,  1.25486238e+02,\n",
       "        4.73801860e+01,  1.83342006e-01,  3.80737846e+01, -8.08298285e-01,\n",
       "        1.39005726e+02,  6.08822885e+01, -2.12389572e+00,  3.88696494e+01,\n",
       "       -7.59132662e-01,  1.50393786e-01,  1.35825652e+01,  3.61440335e+00,\n",
       "        9.50423838e-01, -5.76903656e-01, -8.98414671e-01,  4.91919172e-01,\n",
       "        3.02120277e+01,  2.67616669e+00,  2.42169002e+01, -4.69175652e-01,\n",
       "        8.24297616e+01,  1.35387237e+00, -1.14539845e-01,  1.08188426e+02,\n",
       "       -1.49572208e+00, -5.99375023e-01,  7.00940125e+01,  2.22740112e+01,\n",
       "        1.27243791e+02,  2.55045644e+00, -1.06762043e+00,  6.40684534e+00,\n",
       "        1.20295632e-01,  2.72332007e+01,  7.11614878e-01,  5.89679716e+01,\n",
       "        5.97441214e+01,  1.61640335e+02,  1.39718940e+01, -7.48486537e-01,\n",
       "        1.55115198e+00,  3.34144427e+01,  5.16432718e+01,  6.65966229e+01,\n",
       "        2.06074792e+00,  1.75534084e+00,  9.20578063e+01,  9.85616673e+00,\n",
       "        1.44463077e+01,  1.36863156e+00, -9.64923461e-01,  2.05624597e+01,\n",
       "        1.05842449e+00,  3.58637432e+01, -6.37989214e-01,  6.54490662e+01,\n",
       "        1.83611619e+01,  7.17542256e-01,  1.41255951e+02,  7.40947804e-02,\n",
       "        3.05577524e+01, -1.38010146e+00,  3.42395373e+01,  1.18725059e+01,\n",
       "        3.84065449e-01, -3.26947481e-02, -2.06744210e+00,  1.58587098e+02,\n",
       "        4.66790464e+01,  6.69672549e-01,  1.26456017e+00,  3.40282466e+00,\n",
       "       -5.75542776e-02,  4.11257648e+01, -6.26790973e-02,  2.77832205e+01,\n",
       "        7.43712828e+01,  5.04046516e-01, -5.30257618e-01, -7.92872832e-01,\n",
       "        1.03721086e+01,  4.98694723e+01,  7.99487001e+00,  1.62559326e+01,\n",
       "        7.63678036e+01,  3.76920016e+01, -6.99725508e-01,  1.31942993e+01,\n",
       "        5.14391877e+01,  7.94204690e+01,  7.17136927e+00,  7.51908861e+01,\n",
       "        3.72234846e+01,  5.65192141e+00, -2.75051697e-01, -2.30192116e+00,\n",
       "       -1.51519106e+00,  1.36687427e+00,  1.64496771e+00, -2.49036040e-01,\n",
       "        5.32414315e+01,  4.30709040e+01,  3.07888081e+00,  1.11957491e+00,\n",
       "       -1.27917591e-01,  1.52634570e+01, -1.60644632e+00,  5.57105335e+01,\n",
       "        1.16309848e+02,  6.09417165e+01, -6.46572884e-01,  3.21627539e+01,\n",
       "        1.68714164e+00,  8.81639757e-01,  7.46772345e+01,  1.47994414e+00,\n",
       "        7.73683076e-02,  8.13722505e+01,  1.59644935e+01,  6.79331170e+00,\n",
       "        4.87763742e+01, -1.90338678e-01,  2.49426678e+01,  7.03843620e+00,\n",
       "        9.26177548e-01,  3.17672255e+00,  1.16686054e+02,  5.62969237e-01,\n",
       "       -6.50642569e-01,  1.07150542e+02,  8.39534325e+01, -8.63990770e-01,\n",
       "        4.85216279e-02,  4.37976798e+01,  2.95769697e+00, -5.02381094e-02,\n",
       "        7.50823129e+00, -9.07563662e-01,  1.87978653e+01,  2.90833958e+01,\n",
       "        5.00917188e-01,  8.11837691e+01,  9.93323054e-02,  7.51387123e-01,\n",
       "       -1.66940528e+00,  5.43360192e-01, -6.62623759e-01,  5.70598669e-01,\n",
       "        2.01561507e+01,  2.27567319e+01, -1.62754244e+00,  3.95768443e+01,\n",
       "        2.59722502e-01,  1.61686476e+01,  6.38592459e-01,  4.19087298e+00,\n",
       "       -6.60797986e-02,  1.36998691e+02, -6.51836108e-01,  4.73986713e-02,\n",
       "       -8.60413365e-01,  1.89725444e+01,  1.00629281e+00,  4.24739081e+01,\n",
       "        8.35692112e-01,  7.93387525e+01,  5.29804178e-01,  4.41733903e+01,\n",
       "        3.86973932e+01, -7.96895255e-01,  7.37053129e+01,  4.74841061e-01,\n",
       "        5.10833966e+01, -6.03985187e-01,  1.50989125e+01,  1.21745387e+01,\n",
       "        1.16778206e+00,  2.54420843e-01,  3.37602662e-01, -4.11876966e-01,\n",
       "        1.26717683e+01,  5.73758509e+01,  3.94452142e-01,  8.87406702e+01,\n",
       "        3.81287869e+00,  2.07540080e+00,  6.55968964e+00, -3.26023532e-01,\n",
       "        1.20121392e+00,  1.62647187e+00,  3.63952241e+01, -1.00808631e+00,\n",
       "        2.78024759e+01,  2.77601207e+01,  1.64778359e+01,  1.07462226e+01,\n",
       "        1.89941344e+01,  6.66712498e+01,  6.56382984e+01,  2.77760398e+01,\n",
       "        2.35614558e-01,  6.12219163e+01, -1.47858625e+00,  4.49509416e+01,\n",
       "        3.38496407e-01,  4.54953373e+01,  7.97833334e+01,  2.31566775e+01,\n",
       "        1.81866255e-01,  6.93919210e+01,  2.07867859e+01,  1.03899509e+02,\n",
       "        8.30335817e-01, -8.56083826e-01,  5.79588325e+01,  2.90545928e+01,\n",
       "        7.00914566e+00,  4.23748679e+01,  1.16877792e+02,  6.96157173e+01,\n",
       "        2.49616759e+01,  4.54150876e+01,  2.61693212e+01,  3.77300493e-01,\n",
       "        7.03746235e+00,  1.15177575e+01,  4.25185313e+00,  2.36037069e+01,\n",
       "        4.13434903e-01,  5.60161717e+01,  5.32575596e+01,  3.21935944e+01,\n",
       "       -1.58533687e-01,  8.55549632e+01,  5.74519657e+01, -5.55846709e-02,\n",
       "        2.33751893e+01,  1.09625159e+01,  3.22877584e+01,  1.29221182e-01,\n",
       "        1.09394795e-01,  7.25766624e-01,  1.90278093e+00,  2.23884024e-01,\n",
       "       -7.90474455e-01,  8.33877891e+01,  1.88202450e+00,  3.07089917e+01,\n",
       "        3.40192831e+00, -5.11215676e-01,  6.19587883e+01,  9.18573650e+00,\n",
       "        5.57249123e-02,  2.58102886e+01,  2.44395609e+01,  1.03296056e+01,\n",
       "       -1.58007899e-01,  5.26611604e+01,  4.75545775e+01, -1.65485667e+00,\n",
       "        6.46791029e+01,  7.33179672e-02,  1.08647001e+01, -1.29507877e+00,\n",
       "        2.83407180e+01,  1.66902153e+00, -2.59591351e-01,  4.15544195e+01,\n",
       "       -2.45743064e-01,  5.02004600e+01,  2.07908923e+01,  1.00445084e+02,\n",
       "       -2.30934530e-01,  8.28041754e+01,  6.84603638e+01,  4.93572046e+01,\n",
       "        1.10794335e+01,  5.82696078e+00,  2.57335980e+00,  5.92184340e-02,\n",
       "        1.39292919e-02,  5.70872688e+01,  1.98084761e-01,  1.80787078e+01,\n",
       "        3.37324479e+01,  3.10348253e+01,  4.64805350e+00,  1.33254199e+01,\n",
       "       -7.12845783e-01,  2.83681158e+01, -2.54977217e-01,  1.50399299e+00,\n",
       "       -2.65096981e+00,  5.52687929e+01,  1.24608519e+00, -2.07339023e+00,\n",
       "        2.15280473e+01,  4.16516766e+01, -1.32687315e+00, -7.77816688e-01,\n",
       "       -1.11057585e+00,  3.94740357e+01,  9.35678393e-01,  4.98835954e+01,\n",
       "        7.21672064e-01, -1.12905177e+00, -5.24520266e-01,  4.89374561e-01,\n",
       "        7.33921370e+00,  4.18364538e+01, -2.40325398e-01,  3.29684501e+01,\n",
       "        7.31587477e+01,  4.44263311e-01, -3.60966166e-01,  1.04274169e+02,\n",
       "       -1.08106333e+00,  6.15935607e-01,  3.52020291e+01,  6.39846908e+01,\n",
       "        3.26133022e-01, -1.25111358e+00,  5.74452939e+01,  3.65038363e+01,\n",
       "       -5.22723021e-01,  1.98193555e+01,  2.14581715e+02, -1.40846130e+00,\n",
       "       -1.55662917e+00,  6.01959038e+01, -1.28042935e+00,  1.75479418e+00,\n",
       "        3.99319672e+01,  1.04210976e+02,  2.11017467e-01, -9.67131119e-02,\n",
       "        4.15817490e+00,  3.99136114e-01, -3.76347024e-02,  1.10330188e+00,\n",
       "        1.14227649e-01,  1.50301761e-01,  6.31935479e+01,  1.34684251e+01,\n",
       "        5.87727582e+01,  5.93318059e+01, -1.34818542e+00,  7.43264094e-01,\n",
       "        1.26272946e+01,  3.80599387e-01,  1.84339331e-02,  5.67971095e-01,\n",
       "       -2.75828890e-01,  6.52733524e+01,  1.52913838e+01,  1.01548888e+02,\n",
       "        4.08252756e-01,  9.20331091e+01,  1.02915564e+00,  1.01133914e+01,\n",
       "        2.98162802e+01,  9.82690984e-01,  1.66547444e+00,  1.82581408e+01,\n",
       "       -1.84087423e+00, -1.27957697e+00,  1.09184425e+00,  8.09158300e+01,\n",
       "        5.17659020e-01,  1.60650632e+01,  1.86766764e-01, -7.55382932e-01,\n",
       "        9.02787127e+00, -1.40666110e+00,  3.81134789e+01, -1.35168461e+00,\n",
       "       -9.75873253e-01,  5.37903456e+01, -9.49398889e-01,  2.73826778e+01,\n",
       "        4.93317901e-01,  4.27184385e+00, -8.58357780e-01,  7.00309879e-01,\n",
       "       -5.75637826e-01,  3.91745640e+01,  2.56008454e+00, -9.60598997e-02,\n",
       "        1.14927333e+00, -7.03176425e-01,  7.60889028e+01,  1.13391785e+01,\n",
       "       -6.26967058e-01,  1.09636746e+02,  3.69662321e+01, -5.62466776e-01,\n",
       "        3.35971777e+01,  4.23290339e+01,  6.21809962e-01,  1.34528632e+01,\n",
       "        2.77490114e+01, -2.47518636e-01,  8.67392650e+00,  6.20672098e-01,\n",
       "        2.05359534e+02,  9.19366707e+00,  3.80197851e-01,  1.04310509e+01,\n",
       "        8.11139396e+00,  1.08078073e+00,  2.49390731e+01,  1.85169074e+01,\n",
       "        3.35011023e+01, -6.14828580e-02,  8.43396125e+01,  1.70930427e+01,\n",
       "        2.73798311e+01, -1.27674858e+00,  7.77179029e+01,  1.13890736e+02,\n",
       "        1.28881450e+01,  2.75019871e+01,  3.54570631e+01,  4.56850498e+01,\n",
       "        9.38283806e-01,  4.18617249e+01,  9.61207769e-02,  5.88341198e+01,\n",
       "       -4.34496227e-01,  1.74726774e+01,  2.22133772e-01,  1.11095624e+02,\n",
       "        6.38660478e+01,  8.02964325e+01,  3.25842082e+01,  1.91862309e+01,\n",
       "        1.44697788e+00,  1.96554777e-01,  3.70896444e+01,  1.01181811e+01,\n",
       "        2.67050266e-01,  8.44466714e+00,  3.02996058e+01,  1.06548038e+00,\n",
       "       -5.17288450e-01,  4.19938171e+00,  2.29889812e+00,  9.64601871e+01,\n",
       "        1.99688389e+01,  4.35057524e+01,  1.57957215e+00, -5.22860027e-01,\n",
       "        2.31667894e+01, -2.81784609e-01,  4.91509552e+01, -9.18651946e-01,\n",
       "        5.84600305e+01, -7.67797565e-01,  4.86931946e+01,  2.34214733e-01,\n",
       "        5.17423260e+01,  1.79986887e+01,  5.41889089e+01,  3.62268791e+01,\n",
       "        3.89907169e+01,  1.13376845e+02,  7.30223401e+00,  6.10600762e+01,\n",
       "        5.68090106e+01,  3.00041252e+01,  2.89168644e-01,  2.45530014e+00,\n",
       "       -6.37739984e-01,  3.63630036e+01, -6.23140526e-01,  4.60559502e+00,\n",
       "        8.82810085e+01,  1.18901653e+00,  1.42050425e+00,  3.46602959e-01,\n",
       "       -8.32355573e-01,  2.91068583e+01,  2.07953860e+01,  6.32931818e-01,\n",
       "        5.67307179e+01,  2.60236926e+01,  5.91512652e+01,  9.37678393e+00,\n",
       "        7.05373709e+01,  1.04075165e+02,  5.46855779e+01,  3.34456790e-01,\n",
       "        7.50952173e+00,  9.81238915e+00, -1.76947227e-01, -7.98297245e-01,\n",
       "       -1.37931923e+00,  9.05900531e+00,  2.36846302e+01,  1.79455786e+00,\n",
       "       -5.17611299e-01,  2.23787952e-01,  2.27722121e+01,  3.38545236e+01,\n",
       "        2.52693243e+00, -5.30868773e-01, -4.89439443e-01,  4.10845235e+01,\n",
       "        1.38364420e+02,  3.33142153e+00,  5.83928185e-01,  1.37773186e+01,\n",
       "        8.39384992e+01,  4.97237317e+01,  3.06129262e+01,  5.07274031e-01,\n",
       "        1.01233066e+02,  6.74484791e+00,  8.16545686e+01,  3.57240104e+01,\n",
       "        3.07790020e+00,  1.46713686e-01,  1.20650897e+00,  6.23745591e+00,\n",
       "        3.68673309e-01, -3.93338812e-01,  9.98390819e+00,  1.27845186e+00,\n",
       "        1.10046846e+01,  2.77530573e+01,  6.89558569e+01,  7.46253566e-01,\n",
       "        1.31758718e+01,  3.27233434e+01, -3.07778235e-01,  1.29516575e+01,\n",
       "        5.88581157e+01,  1.57745328e+00,  8.09891127e-01,  2.79021526e-01,\n",
       "        6.07896510e-01,  1.16786284e+02,  2.16282543e+01,  6.61882507e+00,\n",
       "        1.07363175e+00,  4.56163361e+01,  5.84334713e+01, -7.00120815e-01,\n",
       "        6.50238090e+01,  4.04713899e+01, -5.58921847e-01,  3.77211875e-01,\n",
       "        4.70644844e+01,  1.03148048e+02,  1.93713395e+00,  1.02059968e+01,\n",
       "       -1.44801390e+00,  3.16304991e+00,  1.85016890e+01,  1.37667145e+01,\n",
       "        1.14316375e+02,  4.61608040e+00,  1.07219611e+00, -5.64078631e-01,\n",
       "        5.70811884e+01,  3.52930388e+01,  1.33897421e+02, -9.91758638e-02,\n",
       "        8.32627671e+01, -1.07008477e+00, -1.52552517e+00, -6.91908070e-01,\n",
       "        3.24545253e+01,  3.26034024e+01,  5.47388350e+00,  3.52055397e-01,\n",
       "        6.97386061e+01,  6.90124040e+01, -8.21511784e-02,  7.03871380e+01,\n",
       "        3.42725346e-01,  2.84477548e+01,  5.25396229e+00,  1.10229165e+02,\n",
       "        2.78871522e+01,  5.16295307e+01,  2.35367064e+01,  5.12328476e+01,\n",
       "        6.26622340e+01,  1.44011722e+00,  5.79370306e+01,  1.80094043e+00,\n",
       "        3.94910677e+00,  2.34062385e+01,  5.81697112e+00, -6.81051657e-01,\n",
       "        1.16159658e+01,  2.00766350e+01, -4.46183433e-01,  4.61046771e+01,\n",
       "        1.00084701e+02, -2.42387933e+00,  3.54931376e+01,  7.60414656e-01,\n",
       "        8.20522539e-01,  3.38284438e+01, -9.66976143e-01,  1.39267160e+01,\n",
       "        1.29677682e+01, -1.15836469e+00,  4.08262399e+01,  5.98465277e+00,\n",
       "        1.43087165e+01,  2.68858390e-02,  2.71793446e+01,  4.22579496e+01,\n",
       "        1.22059505e+02, -6.81984248e-01,  9.39162928e+00,  6.40787645e+00,\n",
       "        1.39675424e+01,  6.40842861e-01,  5.87374343e+01,  5.72582781e-01])"
      ]
     },
     "execution_count": 5,
     "metadata": {},
     "output_type": "execute_result"
    }
   ],
   "source": [
    "y"
   ]
  },
  {
   "cell_type": "code",
   "execution_count": 6,
   "metadata": {},
   "outputs": [
    {
     "data": {
      "text/plain": [
       "1000"
      ]
     },
     "execution_count": 6,
     "metadata": {},
     "output_type": "execute_result"
    }
   ],
   "source": [
    "X.nnz"
   ]
  },
  {
   "cell_type": "code",
   "execution_count": 7,
   "metadata": {
    "scrolled": true
   },
   "outputs": [
    {
     "data": {
      "text/plain": [
       "0.01"
      ]
     },
     "execution_count": 7,
     "metadata": {},
     "output_type": "execute_result"
    }
   ],
   "source": [
    "X.nnz / (X.shape[0] * X.shape[1])"
   ]
  },
  {
   "cell_type": "code",
   "execution_count": null,
   "metadata": {},
   "outputs": [],
   "source": []
  },
  {
   "cell_type": "code",
   "execution_count": 9,
   "metadata": {},
   "outputs": [
    {
     "data": {
      "text/plain": [
       "<100x100 _CustomLinearOperator with dtype=float64>"
      ]
     },
     "execution_count": 9,
     "metadata": {},
     "output_type": "execute_result"
    }
   ],
   "source": [
    "# Compute optimal parameter vector.\n",
    "n, d = X.shape\n",
    "\n",
    "A = sp.linalg.LinearOperator((d,d), matvec=lambda v: X.T @ (X @ v))\n",
    "A"
   ]
  },
  {
   "cell_type": "code",
   "execution_count": 10,
   "metadata": {},
   "outputs": [
    {
     "data": {
      "text/plain": [
       "array([7.85199981, 6.22284795, 2.66380294, 0.5404676 , 3.43693513,\n",
       "       2.39290994, 1.93339883, 1.78963086, 6.92342463, 2.17248646,\n",
       "       0.76164501, 2.29251084, 2.13570559, 4.19386299, 7.59619662,\n",
       "       1.81771501, 5.30015776, 2.95688449, 2.11766347, 3.6963028 ,\n",
       "       2.71698559, 2.56057553, 6.94201863, 1.08628271, 0.97217213,\n",
       "       5.19443921, 1.84488771, 2.45718623, 2.12010589, 4.36884965,\n",
       "       4.12700319, 6.96280876, 3.65546208, 2.44991314, 6.27362133,\n",
       "       2.74343828, 6.6689392 , 2.2606863 , 5.36668712, 2.40265729,\n",
       "       3.12105323, 4.91836955, 2.70967492, 1.58585288, 3.39638596,\n",
       "       1.60125817, 1.04562329, 0.28799912, 0.9645669 , 4.30179147,\n",
       "       6.07580287, 2.15517405, 4.61354409, 3.9467374 , 2.08764964,\n",
       "       2.95232561, 7.61396656, 1.32519149, 1.05778667, 4.90474037,\n",
       "       4.04342699, 3.58982436, 3.63498181, 3.9022192 , 3.81131248,\n",
       "       2.98056603, 4.12770351, 2.47645163, 2.76678316, 5.02386035,\n",
       "       1.9375755 , 0.23763414, 3.70393739, 1.83764665, 1.30396617,\n",
       "       2.31954938, 2.91415677, 5.6046886 , 4.44518914, 2.29868924,\n",
       "       4.02140675, 1.62461617, 5.93984636, 4.44226253, 2.43759046,\n",
       "       5.0823062 , 3.71094808, 1.07423217, 6.88570824, 1.95057564,\n",
       "       2.25649466, 1.95604282, 3.95986926, 5.00507331, 2.39668844,\n",
       "       2.29705422, 2.60474113, 2.8725407 , 2.82463373, 0.22405277])"
      ]
     },
     "execution_count": 10,
     "metadata": {},
     "output_type": "execute_result"
    }
   ],
   "source": [
    "A @ np.random.random(100)"
   ]
  },
  {
   "cell_type": "code",
   "execution_count": 12,
   "metadata": {},
   "outputs": [],
   "source": [
    "b = X.T @ y"
   ]
  },
  {
   "cell_type": "code",
   "execution_count": 15,
   "metadata": {},
   "outputs": [],
   "source": [
    "w = sp.linalg.cg(A, b)[0]"
   ]
  },
  {
   "cell_type": "code",
   "execution_count": 16,
   "metadata": {},
   "outputs": [
    {
     "data": {
      "text/plain": [
       "array([4.64339975e-02, 3.26604917e-01, 2.29059762e+00, 2.97799922e+00,\n",
       "       4.43162378e+00, 4.36446042e+00, 6.21333225e+00, 6.55339954e+00,\n",
       "       7.05355659e+00, 1.03196805e+01, 1.10572575e+01, 1.15858278e+01,\n",
       "       1.17330927e+01, 1.33788421e+01, 1.37388481e+01, 1.54351381e+01,\n",
       "       1.57893995e+01, 1.64644072e+01, 1.72860014e+01, 1.92960255e+01,\n",
       "       2.07635357e+01, 2.11645421e+01, 2.22330136e+01, 2.42350792e+01,\n",
       "       2.30280771e+01, 2.53374573e+01, 2.57806693e+01, 2.71485673e+01,\n",
       "       2.78002859e+01, 2.84697530e+01, 3.10263660e+01, 3.07551333e+01,\n",
       "       3.24995461e+01, 3.37672839e+01, 3.38745444e+01, 3.50316613e+01,\n",
       "       3.63488936e+01, 3.82325952e+01, 3.76995083e+01, 3.81634254e+01,\n",
       "       3.99686573e+01, 4.14135827e+01, 4.15741918e+01, 4.23832713e+01,\n",
       "       4.33668312e+01, 4.48930318e+01, 4.77707684e+01, 4.46614983e+01,\n",
       "       4.73798992e+01, 4.90847053e+01, 4.98237101e+01, 5.18169738e+01,\n",
       "       5.11428677e+01, 5.30883577e+01, 5.32198253e+01, 5.48964684e+01,\n",
       "       5.54724743e+01, 5.81113882e+01, 5.78044648e+01, 5.82857037e+01,\n",
       "       6.10110395e+01, 6.17879142e+01, 6.14003995e+01, 6.27920372e+01,\n",
       "       6.41256972e+01, 6.48996134e+01, 6.45764947e+01, 6.74807125e+01,\n",
       "       6.83645753e+01, 6.91000515e+01, 7.06680225e+01, 7.14375467e+01,\n",
       "       7.14460225e+01, 7.27029937e+01, 7.41242247e+01, 7.44094776e+01,\n",
       "       7.61913445e+01, 7.68914070e+01, 7.76538667e+01, 7.96193506e+01,\n",
       "       7.97402505e+01, 8.03906231e+01, 8.26255295e+01, 8.37349515e+01,\n",
       "       8.36416654e+01, 8.50963847e+01, 8.59888530e+01, 8.69106689e+01,\n",
       "       8.80390935e+01, 8.92648847e+01, 9.14780571e+01, 9.08513364e+01,\n",
       "       9.08726437e+01, 9.32493484e+01, 9.45125753e+01, 9.46143945e+01,\n",
       "       9.62206304e+01, 9.69323206e+01, 9.84048975e+01, 1.00099921e+02])"
      ]
     },
     "execution_count": 16,
     "metadata": {},
     "output_type": "execute_result"
    }
   ],
   "source": [
    "w"
   ]
  },
  {
   "cell_type": "code",
   "execution_count": null,
   "metadata": {},
   "outputs": [],
   "source": []
  }
 ],
 "metadata": {
  "kernelspec": {
   "display_name": "Python 3 (ipykernel)",
   "language": "python",
   "name": "python3"
  },
  "language_info": {
   "codemirror_mode": {
    "name": "ipython",
    "version": 3
   },
   "file_extension": ".py",
   "mimetype": "text/x-python",
   "name": "python",
   "nbconvert_exporter": "python",
   "pygments_lexer": "ipython3",
   "version": "3.8.0"
  }
 },
 "nbformat": 4,
 "nbformat_minor": 4
}
