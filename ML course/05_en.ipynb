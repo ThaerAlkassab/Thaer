{
 "cells": [
  {
   "cell_type": "markdown",
   "metadata": {},
   "source": [
    "## [Decision Tree](https://en.wikipedia.org/wiki/Decision_tree_learning)"
   ]
  },
  {
   "cell_type": "markdown",
   "metadata": {},
   "source": [
    "The decision tree is an old, but still relevant nonlinear learning algorithm. The leaves of the tree represent distinct subsets of the training data. The other nodes compare a given attribute to a threshold value (e.g. is the body temperature > 37 °C). The branches starting from the node are associated with the two possible outcomes of the comparison."
   ]
  },
  {
   "cell_type": "markdown",
   "metadata": {},
   "source": [
    "<img src=\"../_img/decision_tree.jpg\" width=\"400\" align=\"left\">"
   ]
  },
  {
   "cell_type": "markdown",
   "metadata": {},
   "source": [
    "In this notebook, we will prepare the simplest version of the decision tree called [decision stump](https://en.wikipedia.org/wiki/Decision_stump), and we will test it on the Boston Housing data set. Moreover, we will explore the capabilities of scikit-learn's decision tree algorithm."
   ]
  },
  {
   "cell_type": "markdown",
   "metadata": {},
   "source": [
    "<img src=\"../_img/decision_stump.png\" width=\"500\" align=\"left\">"
   ]
  },
  {
   "cell_type": "markdown",
   "metadata": {},
   "source": [
    "**Exercise 2**: Implement the training of the decision stump regressor from scratch, and measure the model's root mean squared error (RMSE) on the full Boston Housing data set!"
   ]
  },
  {
   "cell_type": "code",
   "execution_count": 1,
   "metadata": {},
   "outputs": [],
   "source": [
    "# Loading the data.\n",
    "import pandas as pd\n",
    "names = ['CRIM', 'ZN', 'INDUS', 'CHAS', 'NOX', 'RM', 'AGE',\n",
    "         'DIS', 'RAD', 'TAX', 'PTRATIO', 'LSTAT', 'MEDV']\n",
    "df = pd.read_csv('housing_data.txt', delim_whitespace=True, names=names)\n",
    "X = df[df.columns[:-1]].values # input matrix\n",
    "y = df['MEDV'].values          # target vector"
   ]
  },
  {
   "cell_type": "code",
   "execution_count": 2,
   "metadata": {},
   "outputs": [
    {
     "data": {
      "text/plain": [
       "(506, 12)"
      ]
     },
     "execution_count": 2,
     "metadata": {},
     "output_type": "execute_result"
    }
   ],
   "source": [
    "X.shape"
   ]
  },
  {
   "cell_type": "code",
   "execution_count": 3,
   "metadata": {},
   "outputs": [
    {
     "data": {
      "text/plain": [
       "(506,)"
      ]
     },
     "execution_count": 3,
     "metadata": {},
     "output_type": "execute_result"
    }
   ],
   "source": [
    "y.shape"
   ]
  },
  {
   "cell_type": "code",
   "execution_count": 4,
   "metadata": {},
   "outputs": [
    {
     "name": "stdout",
     "output_type": "stream",
     "text": [
      "0 0.007690000000000001 42714.138495049505\n",
      "0 0.01001 42654.06214285715\n",
      "0 0.01306 42607.60066733068\n",
      "0 0.013354999999999999 42487.76150099801\n",
      "0 0.014065 42237.84195247638\n",
      "0 0.014355 42153.999678714856\n",
      "0 0.014700000000000001 42111.73079365079\n",
      "0 0.015195 41739.21143434343\n",
      "0 0.016235 41403.70269905533\n",
      "0 0.017435 41349.519812763305\n",
      "0 0.01824 41236.26263646922\n",
      "0 0.01958 41205.95119132654\n",
      "0 0.020319999999999998 40890.95242258652\n",
      "0 0.02182 40635.159448559665\n",
      "0 0.023425 40556.32548257241\n",
      "0 0.03393 40547.17303427895\n",
      "0 0.035235 40380.59639339103\n",
      "0 0.035809999999999995 40254.02162255965\n",
      "0 0.03637 40253.174434710054\n",
      "0 0.037215 40116.550764971194\n",
      "0 0.038195 40053.84481361776\n",
      "0 0.04158 40050.55321587302\n",
      "0 0.060615 40026.656188803965\n",
      "0 0.06128 39928.78982113821\n",
      "0 0.061399999999999996 39665.01313689411\n",
      "0 0.06874 39608.649885609964\n",
      "0 0.068935 39463.265595959594\n",
      "0 0.06908 39343.75913705584\n",
      "0 0.06962 39265.912307865525\n",
      "0 0.070175 39210.16856426781\n",
      "0 0.078805 39155.07983894646\n",
      "0 0.07891000000000001 38989.80508618654\n",
      "0 0.07996 38928.994316416145\n",
      "0 0.08193 38717.01742815372\n",
      "0 0.08232500000000001 38678.05333333334\n",
      "0 0.08338999999999999 38656.59620356234\n",
      "0 0.083785 38515.85305258467\n",
      "0 0.08685499999999999 38423.24137486273\n",
      "0 0.09085499999999999 38407.847881084235\n",
      "0 0.091335 38224.95304906361\n",
      "0 0.092825 38221.28124619482\n",
      "0 0.09673999999999999 38220.88735692883\n",
      "0 0.10004 38215.88722212965\n",
      "0 0.10046 38102.51552353896\n",
      "0 0.530525 38097.114624419206\n",
      "0 0.53556 37833.89951690821\n",
      "0 0.538555 37804.16323365696\n",
      "0 0.540305 37652.42981832914\n",
      "0 0.54251 37370.19513926763\n",
      "0 0.553925 37229.301349661284\n",
      "0 0.576815 37010.035198692814\n",
      "0 0.584195 36615.80305075868\n",
      "0 0.600795 36598.24378066379\n",
      "0 0.61312 36188.70514973798\n",
      "0 0.61913 36064.39923206056\n",
      "0 0.625475 35977.49916167862\n",
      "0 0.66008 35946.86362004487\n",
      "0 0.66771 35727.589037974685\n",
      "0 1.92198 35552.068071910115\n",
      "0 2.079685 35062.63064576166\n",
      "0 5.680865 34962.9829047229\n",
      "0 5.71967 34887.16084843596\n",
      "0 5.776155 34775.12330894309\n",
      "0 5.82258 34758.50777564349\n",
      "0 5.84803 34683.80154100392\n",
      "0 6.59684 34459.1683803519\n",
      "0 6.68632 34450.12268540669\n",
      "2 3.97 34179.313795165566\n",
      "2 3.97 34079.75626356588\n",
      "2 3.97 33992.9072965188\n",
      "2 3.97 33823.920771531106\n",
      "2 3.97 33446.069910274025\n",
      "2 3.97 32932.259\n",
      "2 3.97 32822.44286137958\n",
      "2 6.2 32525.80000681663\n",
      "2 6.305 32408.905397365066\n",
      "2 6.41 32232.526407203906\n",
      "2 6.41 32069.971986668697\n",
      "2 6.41 31913.84879658385\n",
      "2 6.41 31735.28989239707\n",
      "2 6.66 31633.06994724462\n",
      "5 6.353 31620.265685618728\n",
      "5 6.365 31597.217758899675\n",
      "5 6.3725000000000005 31589.026377765174\n",
      "5 6.3740000000000006 31580.444654914947\n",
      "5 6.3765 31550.410197210666\n",
      "5 6.3785 31385.904983006534\n",
      "5 6.38 31111.927828065407\n",
      "5 6.381 30905.164949494945\n",
      "5 6.3825 30894.875389745866\n",
      "5 6.3965 30881.240154281644\n",
      "5 6.4030000000000005 30877.875029335995\n",
      "5 6.4045000000000005 30643.677037641577\n",
      "5 6.405 30607.31236292624\n",
      "5 6.405 30376.976001605777\n",
      "5 6.4055 30269.188327494005\n",
      "5 6.4085 30129.227205309136\n",
      "5 6.413 29979.37480946367\n",
      "5 6.417 29964.76324786325\n",
      "5 6.417 29733.06464156396\n",
      "5 6.423 29683.89051816924\n",
      "5 6.4254999999999995 29513.365627226638\n",
      "5 6.428 29506.29679528789\n",
      "5 6.431 29471.24007837721\n",
      "5 6.4350000000000005 29115.059845077285\n",
      "5 6.4365000000000006 28895.02630601379\n",
      "5 6.4375 28869.883910364148\n",
      "5 6.4475 28846.588411876586\n",
      "5 6.4535 28792.809893134086\n",
      "5 6.455 28628.28351240255\n",
      "5 6.457000000000001 28576.961106549366\n",
      "5 6.4585 28456.8392882613\n",
      "5 6.46 28165.899572877355\n",
      "5 6.466 27819.337393051967\n",
      "5 6.4725 27549.313126293997\n",
      "5 6.4775 27434.100434609827\n",
      "5 6.4815000000000005 27409.97435883494\n",
      "5 6.484500000000001 27321.33991896775\n",
      "5 6.486000000000001 27095.753783150183\n",
      "5 6.4885 27084.825822994208\n",
      "5 6.4925 27036.90448457792\n",
      "5 6.5024999999999995 26913.871297576567\n",
      "5 6.5105 26872.798036377208\n",
      "5 6.5120000000000005 26872.49322097378\n",
      "5 6.5145 26753.396314928657\n",
      "5 6.5205 26704.4599890533\n",
      "5 6.5315 26430.367471623744\n",
      "5 6.539 26411.189509893455\n",
      "5 6.5425 26192.07816142898\n",
      "5 6.5455000000000005 25826.708856660527\n",
      "5 6.652 25815.173483749782\n",
      "5 6.656000000000001 25512.31084920792\n",
      "5 6.6655 25259.78012157383\n",
      "5 6.676 25109.893851662404\n",
      "5 6.749499999999999 24961.905816346345\n",
      "5 6.754 24865.09782178218\n",
      "5 6.782 24328.828513719513\n",
      "5 6.794 24036.088702747365\n",
      "5 6.797 23864.15348538103\n",
      "5 6.824999999999999 23726.463053377523\n",
      "5 6.8375 23452.510150056238\n",
      "5 6.918 23443.898181818182\n",
      "5 6.941 23376.74038861689\n"
     ]
    }
   ],
   "source": [
    "# Training algorithm.\n",
    "import numpy as np\n",
    "\n",
    "n, d = X.shape\n",
    "\n",
    "sse_min = np.inf\n",
    "\n",
    "for j in range(d): # iterate over all feature\n",
    "    x = X[:,j] # select j.th column\n",
    "    \n",
    "    # sort x and y by x\n",
    "    idxs = x.argsort()\n",
    "    x_sorted = x[idxs]\n",
    "    y_sorted = y[idxs]\n",
    "    \n",
    "    # find optimal threshold value\n",
    "    for i in range(n-1):\n",
    "        t = (x_sorted[i] + x_sorted[i+1]) /2\n",
    "        yhat_L = y_sorted[:(i+1)].mean() # preduction for left branch\n",
    "        yhat_R = y_sorted[(i+1):].mean() # preduction for left branch\n",
    "        sse_L = ((y_sorted[:(i+1)] - yhat_L)**2).sum()\n",
    "        sse_R = ((y_sorted[(i+1):] - yhat_R)**2).sum()\n",
    "        sse = sse_L + sse_R # sum of sequared errors\n",
    "        # instead of re-computing SSE, updating it would be more efficiant\n",
    "        if sse < sse_min:\n",
    "            sse_min = sse\n",
    "            t_opt = t\n",
    "            j_opt = j\n",
    "            print(j, t, sse)"
   ]
  },
  {
   "cell_type": "code",
   "execution_count": 5,
   "metadata": {},
   "outputs": [
    {
     "data": {
      "text/plain": [
       "(5, 6.941, 23376.74038861689)"
      ]
     },
     "execution_count": 5,
     "metadata": {},
     "output_type": "execute_result"
    }
   ],
   "source": [
    "j_opt, t_opt, sse_min"
   ]
  },
  {
   "cell_type": "markdown",
   "metadata": {},
   "source": [
    "**Exercise 3**: Repeat the previous experiment using scikit-learn!"
   ]
  },
  {
   "cell_type": "code",
   "execution_count": 6,
   "metadata": {},
   "outputs": [],
   "source": [
    "from sklearn.tree import DecisionTreeRegressor"
   ]
  },
  {
   "cell_type": "code",
   "execution_count": 7,
   "metadata": {},
   "outputs": [
    {
     "data": {
      "text/html": [
       "<style>#sk-container-id-1 {color: black;background-color: white;}#sk-container-id-1 pre{padding: 0;}#sk-container-id-1 div.sk-toggleable {background-color: white;}#sk-container-id-1 label.sk-toggleable__label {cursor: pointer;display: block;width: 100%;margin-bottom: 0;padding: 0.3em;box-sizing: border-box;text-align: center;}#sk-container-id-1 label.sk-toggleable__label-arrow:before {content: \"▸\";float: left;margin-right: 0.25em;color: #696969;}#sk-container-id-1 label.sk-toggleable__label-arrow:hover:before {color: black;}#sk-container-id-1 div.sk-estimator:hover label.sk-toggleable__label-arrow:before {color: black;}#sk-container-id-1 div.sk-toggleable__content {max-height: 0;max-width: 0;overflow: hidden;text-align: left;background-color: #f0f8ff;}#sk-container-id-1 div.sk-toggleable__content pre {margin: 0.2em;color: black;border-radius: 0.25em;background-color: #f0f8ff;}#sk-container-id-1 input.sk-toggleable__control:checked~div.sk-toggleable__content {max-height: 200px;max-width: 100%;overflow: auto;}#sk-container-id-1 input.sk-toggleable__control:checked~label.sk-toggleable__label-arrow:before {content: \"▾\";}#sk-container-id-1 div.sk-estimator input.sk-toggleable__control:checked~label.sk-toggleable__label {background-color: #d4ebff;}#sk-container-id-1 div.sk-label input.sk-toggleable__control:checked~label.sk-toggleable__label {background-color: #d4ebff;}#sk-container-id-1 input.sk-hidden--visually {border: 0;clip: rect(1px 1px 1px 1px);clip: rect(1px, 1px, 1px, 1px);height: 1px;margin: -1px;overflow: hidden;padding: 0;position: absolute;width: 1px;}#sk-container-id-1 div.sk-estimator {font-family: monospace;background-color: #f0f8ff;border: 1px dotted black;border-radius: 0.25em;box-sizing: border-box;margin-bottom: 0.5em;}#sk-container-id-1 div.sk-estimator:hover {background-color: #d4ebff;}#sk-container-id-1 div.sk-parallel-item::after {content: \"\";width: 100%;border-bottom: 1px solid gray;flex-grow: 1;}#sk-container-id-1 div.sk-label:hover label.sk-toggleable__label {background-color: #d4ebff;}#sk-container-id-1 div.sk-serial::before {content: \"\";position: absolute;border-left: 1px solid gray;box-sizing: border-box;top: 0;bottom: 0;left: 50%;z-index: 0;}#sk-container-id-1 div.sk-serial {display: flex;flex-direction: column;align-items: center;background-color: white;padding-right: 0.2em;padding-left: 0.2em;position: relative;}#sk-container-id-1 div.sk-item {position: relative;z-index: 1;}#sk-container-id-1 div.sk-parallel {display: flex;align-items: stretch;justify-content: center;background-color: white;position: relative;}#sk-container-id-1 div.sk-item::before, #sk-container-id-1 div.sk-parallel-item::before {content: \"\";position: absolute;border-left: 1px solid gray;box-sizing: border-box;top: 0;bottom: 0;left: 50%;z-index: -1;}#sk-container-id-1 div.sk-parallel-item {display: flex;flex-direction: column;z-index: 1;position: relative;background-color: white;}#sk-container-id-1 div.sk-parallel-item:first-child::after {align-self: flex-end;width: 50%;}#sk-container-id-1 div.sk-parallel-item:last-child::after {align-self: flex-start;width: 50%;}#sk-container-id-1 div.sk-parallel-item:only-child::after {width: 0;}#sk-container-id-1 div.sk-dashed-wrapped {border: 1px dashed gray;margin: 0 0.4em 0.5em 0.4em;box-sizing: border-box;padding-bottom: 0.4em;background-color: white;}#sk-container-id-1 div.sk-label label {font-family: monospace;font-weight: bold;display: inline-block;line-height: 1.2em;}#sk-container-id-1 div.sk-label-container {text-align: center;}#sk-container-id-1 div.sk-container {/* jupyter's `normalize.less` sets `[hidden] { display: none; }` but bootstrap.min.css set `[hidden] { display: none !important; }` so we also need the `!important` here to be able to override the default hidden behavior on the sphinx rendered scikit-learn.org. See: https://github.com/scikit-learn/scikit-learn/issues/21755 */display: inline-block !important;position: relative;}#sk-container-id-1 div.sk-text-repr-fallback {display: none;}</style><div id=\"sk-container-id-1\" class=\"sk-top-container\"><div class=\"sk-text-repr-fallback\"><pre>DecisionTreeRegressor(max_depth=1)</pre><b>In a Jupyter environment, please rerun this cell to show the HTML representation or trust the notebook. <br />On GitHub, the HTML representation is unable to render, please try loading this page with nbviewer.org.</b></div><div class=\"sk-container\" hidden><div class=\"sk-item\"><div class=\"sk-estimator sk-toggleable\"><input class=\"sk-toggleable__control sk-hidden--visually\" id=\"sk-estimator-id-1\" type=\"checkbox\" checked><label for=\"sk-estimator-id-1\" class=\"sk-toggleable__label sk-toggleable__label-arrow\">DecisionTreeRegressor</label><div class=\"sk-toggleable__content\"><pre>DecisionTreeRegressor(max_depth=1)</pre></div></div></div></div></div>"
      ],
      "text/plain": [
       "DecisionTreeRegressor(max_depth=1)"
      ]
     },
     "execution_count": 7,
     "metadata": {},
     "output_type": "execute_result"
    }
   ],
   "source": [
    "cl = DecisionTreeRegressor(max_depth=1)\n",
    "cl.fit(X,y)"
   ]
  },
  {
   "cell_type": "code",
   "execution_count": 8,
   "metadata": {},
   "outputs": [
    {
     "name": "stdout",
     "output_type": "stream",
     "text": [
      "[ 5 -2 -2]\n",
      "[ 6.94099998 -2.         -2.        ]\n",
      "[[[22.53280632]]\n",
      "\n",
      " [[19.93372093]]\n",
      "\n",
      " [[37.23815789]]]\n"
     ]
    }
   ],
   "source": [
    "# Internal parameters of the trained model (.tree_.{feature, threshold, value})\n",
    "print(cl.tree_.feature)\n",
    "print(cl.tree_.threshold)\n",
    "print(cl.tree_.value)"
   ]
  },
  {
   "cell_type": "markdown",
   "metadata": {},
   "source": [
    "**Execrice 4**: Apply 3-fold cross-validation!"
   ]
  },
  {
   "cell_type": "code",
   "execution_count": 9,
   "metadata": {},
   "outputs": [
    {
     "data": {
      "text/plain": [
       "7.435013307929704"
      ]
     },
     "execution_count": 9,
     "metadata": {},
     "output_type": "execute_result"
    }
   ],
   "source": [
    "from sklearn.model_selection import KFold\n",
    "from sklearn.metrics import mean_squared_error\n",
    "\n",
    "re = DecisionTreeRegressor(max_depth=1)\n",
    "cv = KFold(3, random_state=42, shuffle=True)\n",
    "\n",
    "scores = []\n",
    "for tr, te in cv.split(X):\n",
    "    re.fit(X[tr], y[tr])\n",
    "    yhat = re.predict(X)\n",
    "    rmse = (mean_squared_error(y[te], yhat[te]))**0.5\n",
    "    scores.append(rmse)\n",
    "    \n",
    "np.mean(scores)"
   ]
  },
  {
   "cell_type": "code",
   "execution_count": 10,
   "metadata": {},
   "outputs": [],
   "source": [
    "def evaluate(re, X, y):\n",
    "    cv = KFold(3, random_state=42, shuffle=True)\n",
    "    scores = []\n",
    "    for tr, te in cv.split(X):\n",
    "        re.fit(X[tr], y[tr])\n",
    "        yhat = re.predict(X)\n",
    "        rmse = (mean_squared_error(y[te], yhat[te]))**0.5\n",
    "        scores.append(rmse)\n",
    "    return np.mean(scores)"
   ]
  },
  {
   "cell_type": "code",
   "execution_count": 11,
   "metadata": {},
   "outputs": [
    {
     "data": {
      "text/plain": [
       "7.4350133079297045"
      ]
     },
     "execution_count": 11,
     "metadata": {},
     "output_type": "execute_result"
    }
   ],
   "source": [
    "evaluate(DecisionTreeRegressor(max_depth=1), X, y)"
   ]
  },
  {
   "cell_type": "code",
   "execution_count": 12,
   "metadata": {},
   "outputs": [],
   "source": [
    "def evaluate(re, X, y):\n",
    "    cv = KFold(3, random_state=42, shuffle=True)\n",
    "    scores_te = []\n",
    "    scores_tr = []\n",
    "    for tr, te in cv.split(X):\n",
    "        re.fit(X[tr], y[tr])\n",
    "        yhat = re.predict(X)\n",
    "        scores_tr.append((mean_squared_error(y[tr], yhat[tr]))**0.5)\n",
    "        scores_te.append((mean_squared_error(y[te], yhat[te]))**0.5)\n",
    "    return np.mean(scores_tr), np.mean(scores_te)"
   ]
  },
  {
   "cell_type": "code",
   "execution_count": null,
   "metadata": {},
   "outputs": [],
   "source": []
  },
  {
   "cell_type": "markdown",
   "metadata": {},
   "source": [
    "**Exercise 5:** Determine what maximal depth gives the lowest RMSE!"
   ]
  },
  {
   "cell_type": "code",
   "execution_count": 13,
   "metadata": {},
   "outputs": [],
   "source": [
    "# loop over different max_depth values...\n",
    "n = 30\n",
    "rmse_te = dict()\n",
    "rmse_tr = dict()\n",
    "\n",
    "for i in range(n):\n",
    "    a,b = evaluate(DecisionTreeRegressor(max_depth=i+1), X, y)\n",
    "    rmse_tr[i+1] = a\n",
    "    rmse_te[i+1] = b"
   ]
  },
  {
   "cell_type": "code",
   "execution_count": 14,
   "metadata": {},
   "outputs": [
    {
     "data": {
      "image/png": "[encoded data removed]",
      "text/plain": [
       "<Figure size 864x432 with 1 Axes>"
      ]
     },
     "metadata": {
      "needs_background": "light"
     },
     "output_type": "display_data"
    }
   ],
   "source": [
    "# plot training and test RMSE as a function of max_depth\n",
    "# select the max_depth that gives the lowest test RMSE\n",
    "\n",
    "import matplotlib.pyplot as plt\n",
    "\n",
    "plt.figure(figsize=(12, 6))\n",
    "plt.plot(list(rmse_te.keys()), list(rmse_te.values()))\n",
    "plt.plot(list(rmse_tr.keys()), list(rmse_tr.values()))\n",
    "plt.grid(True)"
   ]
  },
  {
   "cell_type": "code",
   "execution_count": 15,
   "metadata": {},
   "outputs": [
    {
     "data": {
      "text/plain": [
       "<AxesSubplot: xlabel='max_depth'>"
      ]
     },
     "execution_count": 15,
     "metadata": {},
     "output_type": "execute_result"
    },
    {
     "data": {
      "image/png": "[encoded data removed]",
      "text/plain": [
       "<Figure size 864x432 with 1 Axes>"
      ]
     },
     "metadata": {
      "needs_background": "light"
     },
     "output_type": "display_data"
    }
   ],
   "source": [
    "# Professor solution\n",
    "res = []\n",
    "for max_depth in range(1, 30):\n",
    "    rmse_tr, rmse_te = evaluate(DecisionTreeRegressor(max_depth=max_depth), X, y)\n",
    "    res.append({\n",
    "        'max_depth': max_depth,\n",
    "        'rmse_tr': rmse_tr,\n",
    "        'rmse_te': rmse_te\n",
    "    })\n",
    "\n",
    "df_res = pd.DataFrame(res).set_index('max_depth')\n",
    "df_res.plot(figsize=(12, 6), grid=True)"
   ]
  },
  {
   "cell_type": "code",
   "execution_count": 16,
   "metadata": {},
   "outputs": [
    {
     "data": {
      "text/plain": [
       "5"
      ]
     },
     "execution_count": 16,
     "metadata": {},
     "output_type": "execute_result"
    }
   ],
   "source": [
    "# Optimal max_depth.\n",
    "df_res['rmse_te'].idxmin()"
   ]
  },
  {
   "cell_type": "code",
   "execution_count": null,
   "metadata": {},
   "outputs": [],
   "source": []
  },
  {
   "cell_type": "markdown",
   "metadata": {},
   "source": [
    "**Exercise 6**: Train a decision tree of depth 3 and visualize the trained model!"
   ]
  },
  {
   "cell_type": "code",
   "execution_count": 17,
   "metadata": {},
   "outputs": [],
   "source": [
    "from sklearn.tree import plot_tree\n",
    "import matplotlib.pyplot as plt"
   ]
  },
  {
   "cell_type": "code",
   "execution_count": 18,
   "metadata": {
    "scrolled": true
   },
   "outputs": [
    {
     "data": {
      "text/plain": [
       "[Text(0.5, 0.875, 'RM <= 6.941\\nsquared_error = 84.42\\nsamples = 506\\nvalue = 22.533'),\n",
       " Text(0.25, 0.625, 'LSTAT <= 14.4\\nsquared_error = 40.273\\nsamples = 430\\nvalue = 19.934'),\n",
       " Text(0.125, 0.375, 'DIS <= 1.385\\nsquared_error = 26.009\\nsamples = 255\\nvalue = 23.35'),\n",
       " Text(0.0625, 0.125, 'squared_error = 78.146\\nsamples = 5\\nvalue = 45.58'),\n",
       " Text(0.1875, 0.125, 'squared_error = 14.885\\nsamples = 250\\nvalue = 22.905'),\n",
       " Text(0.375, 0.375, 'CRIM <= 6.992\\nsquared_error = 19.276\\nsamples = 175\\nvalue = 14.956'),\n",
       " Text(0.3125, 0.125, 'squared_error = 11.391\\nsamples = 101\\nvalue = 17.138'),\n",
       " Text(0.4375, 0.125, 'squared_error = 14.674\\nsamples = 74\\nvalue = 11.978'),\n",
       " Text(0.75, 0.625, 'RM <= 7.437\\nsquared_error = 79.729\\nsamples = 76\\nvalue = 37.238'),\n",
       " Text(0.625, 0.375, 'CRIM <= 7.393\\nsquared_error = 41.296\\nsamples = 46\\nvalue = 32.113'),\n",
       " Text(0.5625, 0.125, 'squared_error = 20.111\\nsamples = 43\\nvalue = 33.349'),\n",
       " Text(0.6875, 0.125, 'squared_error = 9.307\\nsamples = 3\\nvalue = 14.4'),\n",
       " Text(0.875, 0.375, 'RAD <= 16.0\\nsquared_error = 36.628\\nsamples = 30\\nvalue = 45.097'),\n",
       " Text(0.8125, 0.125, 'squared_error = 18.697\\nsamples = 29\\nvalue = 45.897'),\n",
       " Text(0.9375, 0.125, 'squared_error = -0.0\\nsamples = 1\\nvalue = 21.9')]"
      ]
     },
     "execution_count": 18,
     "metadata": {},
     "output_type": "execute_result"
    },
    {
     "data": {
      "image/png": "[encoded data removed]",
      "text/plain": [
       "<Figure size 1008x432 with 1 Axes>"
      ]
     },
     "metadata": {
      "needs_background": "light"
     },
     "output_type": "display_data"
    }
   ],
   "source": [
    "re = DecisionTreeRegressor(max_depth=3)\n",
    "re.fit(X ,y)\n",
    "plt.figure(figsize=(14, 6))\n",
    "plot_tree(re, rounded=True, filled=True, feature_names=names)\n"
   ]
  },
  {
   "cell_type": "code",
   "execution_count": 19,
   "metadata": {},
   "outputs": [
    {
     "data": {
      "text/plain": [
       "14"
      ]
     },
     "execution_count": 19,
     "metadata": {},
     "output_type": "execute_result"
    }
   ],
   "source": [
    "# Number of parameters in the tree.\n",
    "(re.tree_.feature >= 0).sum() * 2"
   ]
  },
  {
   "cell_type": "code",
   "execution_count": 20,
   "metadata": {},
   "outputs": [
    {
     "data": {
      "text/plain": [
       "6578"
      ]
     },
     "execution_count": 20,
     "metadata": {},
     "output_type": "execute_result"
    }
   ],
   "source": [
    "# Total size of the set\n",
    "X.shape[0] * (X.shape[1]+1)"
   ]
  },
  {
   "cell_type": "code",
   "execution_count": 21,
   "metadata": {},
   "outputs": [
    {
     "data": {
      "text/plain": [
       "array([ 6.94099998, 14.4000001 ,  1.38484997, -2.        , -2.        ,\n",
       "        6.99237013, -2.        , -2.        ,  7.43700004,  7.39342499,\n",
       "       -2.        , -2.        , 16.        , -2.        , -2.        ])"
      ]
     },
     "execution_count": 21,
     "metadata": {},
     "output_type": "execute_result"
    }
   ],
   "source": [
    "re.tree_.threshold"
   ]
  },
  {
   "cell_type": "code",
   "execution_count": 22,
   "metadata": {},
   "outputs": [
    {
     "data": {
      "text/plain": [
       "array([ 5, 11,  7, -2, -2,  0, -2, -2,  5,  0, -2, -2,  8, -2, -2],\n",
       "      dtype=int64)"
      ]
     },
     "execution_count": 22,
     "metadata": {},
     "output_type": "execute_result"
    }
   ],
   "source": [
    "re.tree_.feature"
   ]
  },
  {
   "cell_type": "markdown",
   "metadata": {},
   "source": [
    "## Decision Trees for Classification"
   ]
  },
  {
   "cell_type": "markdown",
   "metadata": {},
   "source": [
    "- Decision trees can also be applied to classification problems.\n",
    "\n",
    "\n",
    "- The necessary modification is that instead of sum of squared error, a different split criterion should be applied (e.g. misclassification count, [Gini impurity](https://en.wikipedia.org/wiki/Decision_tree_learning#Gini_impurity), [information gain](https://en.wikipedia.org/wiki/Decision_tree_learning#Information_gain)), and the leaf predictions should be changed to class probabilities.\n",
    "\n",
    "\n",
    "- Decision trees can handle multiclass problems too."
   ]
  },
  {
   "cell_type": "markdown",
   "metadata": {},
   "source": [
    "**Exercise 7**: Apply a decision tree classifier for the Wisconsin Breast Cancer data set! Use 5-fold cross-validation! The evaluation metric should be the ratio of correct classifications. Determine the maximal depth that gives the highest accuracy! Compare the best decision tree against logistic regression!"
   ]
  },
  {
   "cell_type": "code",
   "execution_count": 23,
   "metadata": {},
   "outputs": [
    {
     "data": {
      "text/html": [
       "<div>\n",
       "<style scoped>\n",
       "    .dataframe tbody tr th:only-of-type {\n",
       "        vertical-align: middle;\n",
       "    }\n",
       "\n",
       "    .dataframe tbody tr th {\n",
       "        vertical-align: top;\n",
       "    }\n",
       "\n",
       "    .dataframe thead th {\n",
       "        text-align: right;\n",
       "    }\n",
       "</style>\n",
       "<table border=\"1\" class=\"dataframe\">\n",
       "  <thead>\n",
       "    <tr style=\"text-align: right;\">\n",
       "      <th></th>\n",
       "      <th>Sample_code_number</th>\n",
       "      <th>Clump_Thickness</th>\n",
       "      <th>Uniformity_of_Cell_Size</th>\n",
       "      <th>Uniformity_of_Cell_Shape</th>\n",
       "      <th>Marginal_Adhesion</th>\n",
       "      <th>Single_Epithelial_Cell_Size</th>\n",
       "      <th>Bare_Nuclei</th>\n",
       "      <th>Bland_Chromatin</th>\n",
       "      <th>Normal_Nucleoli</th>\n",
       "      <th>Mitoses</th>\n",
       "      <th>Class</th>\n",
       "    </tr>\n",
       "  </thead>\n",
       "  <tbody>\n",
       "    <tr>\n",
       "      <th>0</th>\n",
       "      <td>1000025</td>\n",
       "      <td>5</td>\n",
       "      <td>1</td>\n",
       "      <td>1</td>\n",
       "      <td>1</td>\n",
       "      <td>2</td>\n",
       "      <td>1.0</td>\n",
       "      <td>3</td>\n",
       "      <td>1</td>\n",
       "      <td>1</td>\n",
       "      <td>2</td>\n",
       "    </tr>\n",
       "    <tr>\n",
       "      <th>1</th>\n",
       "      <td>1002945</td>\n",
       "      <td>5</td>\n",
       "      <td>4</td>\n",
       "      <td>4</td>\n",
       "      <td>5</td>\n",
       "      <td>7</td>\n",
       "      <td>10.0</td>\n",
       "      <td>3</td>\n",
       "      <td>2</td>\n",
       "      <td>1</td>\n",
       "      <td>2</td>\n",
       "    </tr>\n",
       "    <tr>\n",
       "      <th>2</th>\n",
       "      <td>1015425</td>\n",
       "      <td>3</td>\n",
       "      <td>1</td>\n",
       "      <td>1</td>\n",
       "      <td>1</td>\n",
       "      <td>2</td>\n",
       "      <td>2.0</td>\n",
       "      <td>3</td>\n",
       "      <td>1</td>\n",
       "      <td>1</td>\n",
       "      <td>2</td>\n",
       "    </tr>\n",
       "    <tr>\n",
       "      <th>3</th>\n",
       "      <td>1016277</td>\n",
       "      <td>6</td>\n",
       "      <td>8</td>\n",
       "      <td>8</td>\n",
       "      <td>1</td>\n",
       "      <td>3</td>\n",
       "      <td>4.0</td>\n",
       "      <td>3</td>\n",
       "      <td>7</td>\n",
       "      <td>1</td>\n",
       "      <td>2</td>\n",
       "    </tr>\n",
       "    <tr>\n",
       "      <th>4</th>\n",
       "      <td>1017023</td>\n",
       "      <td>4</td>\n",
       "      <td>1</td>\n",
       "      <td>1</td>\n",
       "      <td>3</td>\n",
       "      <td>2</td>\n",
       "      <td>1.0</td>\n",
       "      <td>3</td>\n",
       "      <td>1</td>\n",
       "      <td>1</td>\n",
       "      <td>2</td>\n",
       "    </tr>\n",
       "  </tbody>\n",
       "</table>\n",
       "</div>"
      ],
      "text/plain": [
       "   Sample_code_number  Clump_Thickness  Uniformity_of_Cell_Size  \\\n",
       "0             1000025                5                        1   \n",
       "1             1002945                5                        4   \n",
       "2             1015425                3                        1   \n",
       "3             1016277                6                        8   \n",
       "4             1017023                4                        1   \n",
       "\n",
       "   Uniformity_of_Cell_Shape  Marginal_Adhesion  Single_Epithelial_Cell_Size  \\\n",
       "0                         1                  1                            2   \n",
       "1                         4                  5                            7   \n",
       "2                         1                  1                            2   \n",
       "3                         8                  1                            3   \n",
       "4                         1                  3                            2   \n",
       "\n",
       "   Bare_Nuclei  Bland_Chromatin  Normal_Nucleoli  Mitoses  Class  \n",
       "0          1.0                3                1        1      2  \n",
       "1         10.0                3                2        1      2  \n",
       "2          2.0                3                1        1      2  \n",
       "3          4.0                3                7        1      2  \n",
       "4          1.0                3                1        1      2  "
      ]
     },
     "execution_count": 23,
     "metadata": {},
     "output_type": "execute_result"
    }
   ],
   "source": [
    "# Load the data to DataFrame.\n",
    "import pandas as pd\n",
    "names = [\n",
    "    'Sample_code_number', 'Clump_Thickness', 'Uniformity_of_Cell_Size',\n",
    "    'Uniformity_of_Cell_Shape', 'Marginal_Adhesion', 'Single_Epithelial_Cell_Size',\n",
    "    'Bare_Nuclei', 'Bland_Chromatin', 'Normal_Nucleoli', 'Mitoses', 'Class'\n",
    "]\n",
    "df = pd.read_csv('wisconsin_data.txt', sep=',', names=names, na_values='?')\n",
    "df['Bare_Nuclei'].fillna(0, inplace=True)\n",
    "df.head()"
   ]
  },
  {
   "cell_type": "code",
   "execution_count": 24,
   "metadata": {},
   "outputs": [
    {
     "data": {
      "text/plain": [
       "(699, 9)"
      ]
     },
     "execution_count": 24,
     "metadata": {},
     "output_type": "execute_result"
    }
   ],
   "source": [
    "# Input matrix.\n",
    "X = df[names[1:-1]].values\n",
    "X.shape"
   ]
  },
  {
   "cell_type": "code",
   "execution_count": 25,
   "metadata": {},
   "outputs": [],
   "source": [
    "# Target vector.\n",
    "y = df['Class'].values // 2 -1"
   ]
  },
  {
   "cell_type": "code",
   "execution_count": 26,
   "metadata": {},
   "outputs": [],
   "source": [
    "from sklearn.tree import DecisionTreeClassifier\n",
    "from sklearn.metrics import accuracy_score\n",
    "from sklearn.model_selection import KFold"
   ]
  },
  {
   "cell_type": "code",
   "execution_count": 27,
   "metadata": {},
   "outputs": [],
   "source": [
    "# Model evaluation function.\n",
    "def evaluate(cl, X, y):\n",
    "    cv = KFold(5, random_state=42, shuffle=True)\n",
    "\n",
    "    scores_tr = []\n",
    "    scores_te = []\n",
    "    for tr, te in cv.split(X):\n",
    "        cl.fit(X[tr], y[tr])\n",
    "        yhat = cl.predict(X)\n",
    "        scores_tr.append(accuracy_score(y[tr], yhat[tr]))\n",
    "        scores_te.append(accuracy_score(y[te], yhat[te]))\n",
    "\n",
    "    return np.mean(scores_tr), np.mean(scores_te)\n"
   ]
  },
  {
   "cell_type": "code",
   "execution_count": 28,
   "metadata": {},
   "outputs": [
    {
     "data": {
      "text/plain": [
       "(0.9288250702785585, 0.8941212744090441)"
      ]
     },
     "execution_count": 28,
     "metadata": {},
     "output_type": "execute_result"
    }
   ],
   "source": [
    "evaluate(DecisionTreeClassifier(max_depth=1), X, y)"
   ]
  },
  {
   "cell_type": "code",
   "execution_count": null,
   "metadata": {},
   "outputs": [],
   "source": []
  },
  {
   "cell_type": "code",
   "execution_count": 29,
   "metadata": {
    "scrolled": true
   },
   "outputs": [
    {
     "data": {
      "text/plain": [
       "<AxesSubplot: xlabel='max_depth'>"
      ]
     },
     "execution_count": 29,
     "metadata": {},
     "output_type": "execute_result"
    },
    {
     "data": {
      "image/png": "[encoded data removed]",
      "text/plain": [
       "<Figure size 864x432 with 1 Axes>"
      ]
     },
     "metadata": {
      "needs_background": "light"
     },
     "output_type": "display_data"
    }
   ],
   "source": [
    "# Trying different max_depth values.\n",
    "res = []\n",
    "for max_depth in range(1, 30):\n",
    "    acc_tr, acc_te = evaluate(DecisionTreeClassifier(max_depth=max_depth), X, y)\n",
    "    res.append({\n",
    "        'max_depth': max_depth,\n",
    "        'acc_tr': acc_tr,\n",
    "        'acc_te': acc_te\n",
    "    })\n",
    "\n",
    "df_res = pd.DataFrame(res).set_index('max_depth')\n",
    "df_res.plot(figsize=(12, 6), grid=True)"
   ]
  },
  {
   "cell_type": "code",
   "execution_count": 30,
   "metadata": {},
   "outputs": [
    {
     "data": {
      "text/plain": [
       "5"
      ]
     },
     "execution_count": 30,
     "metadata": {},
     "output_type": "execute_result"
    }
   ],
   "source": [
    "# Optimal max_depth.\n",
    "df_res['acc_te'].idxmax()"
   ]
  },
  {
   "cell_type": "code",
   "execution_count": 31,
   "metadata": {},
   "outputs": [
    {
     "data": {
      "text/plain": [
       "acc_tr    0.996783\n",
       "acc_te    0.938448\n",
       "Name: 8, dtype: float64"
      ]
     },
     "execution_count": 31,
     "metadata": {},
     "output_type": "execute_result"
    }
   ],
   "source": [
    "df_res.loc[8]"
   ]
  },
  {
   "cell_type": "code",
   "execution_count": 32,
   "metadata": {},
   "outputs": [
    {
     "data": {
      "text/plain": [
       "(0.9703136979299771, 0.9627954779033916)"
      ]
     },
     "execution_count": 32,
     "metadata": {},
     "output_type": "execute_result"
    }
   ],
   "source": [
    "# Comparison to logistic regression.\n",
    "\n",
    "from sklearn.linear_model import LogisticRegression\n",
    "evaluate(LogisticRegression(), X, y)"
   ]
  },
  {
   "cell_type": "code",
   "execution_count": 33,
   "metadata": {},
   "outputs": [],
   "source": [
    "# Another compartion with Linear regression\n",
    "\n",
    "# Loading the data.\n",
    "import pandas as pd\n",
    "names = ['CRIM', 'ZN', 'INDUS', 'CHAS', 'NOX', 'RM', 'AGE',\n",
    "         'DIS', 'RAD', 'TAX', 'PTRATIO', 'LSTAT', 'MEDV']\n",
    "df = pd.read_csv('../_data/housing_data.txt', delim_whitespace=True, names=names)\n",
    "X = df[df.columns[:-1]].values # input matrix\n",
    "y = df['MEDV'].values          # target vector"
   ]
  },
  {
   "cell_type": "code",
   "execution_count": 34,
   "metadata": {},
   "outputs": [
    {
     "data": {
      "text/plain": [
       "(6.748971341330223, 7.4350133079297045)"
      ]
     },
     "execution_count": 34,
     "metadata": {},
     "output_type": "execute_result"
    }
   ],
   "source": [
    "from sklearn.model_selection import KFold\n",
    "from sklearn.metrics import mean_squared_error\n",
    "\n",
    "def evaluate(re, X, y):\n",
    "    cv = KFold(3, random_state=42, shuffle=True)\n",
    "\n",
    "    scores_tr = []\n",
    "    scores_te = []\n",
    "    for tr, te in cv.split(X):\n",
    "        re.fit(X[tr], y[tr])\n",
    "        yhat = re.predict(X)\n",
    "        scores_tr.append(mean_squared_error(y[tr], yhat[tr])**0.5)\n",
    "        scores_te.append(mean_squared_error(y[te], yhat[te])**0.5)\n",
    "\n",
    "    return np.mean(scores_tr), np.mean(scores_te)\n",
    "\n",
    "evaluate(DecisionTreeRegressor(max_depth=1), X, y)"
   ]
  },
  {
   "cell_type": "code",
   "execution_count": 35,
   "metadata": {},
   "outputs": [
    {
     "data": {
      "text/plain": [
       "<AxesSubplot: xlabel='max_depth'>"
      ]
     },
     "execution_count": 35,
     "metadata": {},
     "output_type": "execute_result"
    },
    {
     "data": {
      "image/png": "[encoded data removed]",
      "text/plain": [
       "<Figure size 864x432 with 1 Axes>"
      ]
     },
     "metadata": {
      "needs_background": "light"
     },
     "output_type": "display_data"
    }
   ],
   "source": [
    "res = []\n",
    "for max_depth in range(1, 30):\n",
    "    rmse_tr, rmse_te = evaluate(DecisionTreeRegressor(max_depth=max_depth), X, y)\n",
    "    res.append({\n",
    "        'max_depth': max_depth,\n",
    "        'rmse_tr': rmse_tr,\n",
    "        'rmse_te': rmse_te\n",
    "    })\n",
    "\n",
    "df_res = pd.DataFrame(res).set_index('max_depth')\n",
    "df_res.plot(figsize=(12, 6), grid=True)"
   ]
  },
  {
   "cell_type": "code",
   "execution_count": 36,
   "metadata": {},
   "outputs": [
    {
     "data": {
      "text/plain": [
       "5"
      ]
     },
     "execution_count": 36,
     "metadata": {},
     "output_type": "execute_result"
    }
   ],
   "source": [
    "# Optimal max_depth.\n",
    "df_res['rmse_te'].idxmin()"
   ]
  },
  {
   "cell_type": "code",
   "execution_count": 37,
   "metadata": {},
   "outputs": [
    {
     "data": {
      "text/plain": [
       "rmse_tr    2.545337\n",
       "rmse_te    4.451221\n",
       "Name: 5, dtype: float64"
      ]
     },
     "execution_count": 37,
     "metadata": {},
     "output_type": "execute_result"
    }
   ],
   "source": [
    "df_res.loc[df_res['rmse_te'].idxmin()]"
   ]
  },
  {
   "cell_type": "code",
   "execution_count": 38,
   "metadata": {},
   "outputs": [
    {
     "data": {
      "text/plain": [
       "(4.736093991350386, 4.8792312907094795)"
      ]
     },
     "execution_count": 38,
     "metadata": {},
     "output_type": "execute_result"
    }
   ],
   "source": [
    "# Comparison against ridge regression.\n",
    "from sklearn.linear_model import Ridge\n",
    "evaluate(Ridge(), X, y)"
   ]
  },
  {
   "cell_type": "markdown",
   "metadata": {},
   "source": [
    "## Decision Trees vs. Linear Models\n",
    "\n",
    "Decision trees\n",
    "- ...are insensitive to the scale of the input features 😀\n",
    "- ...are easier to explain 😀\n",
    "- ...can learn complex patterns 😀\n",
    "- ...do not handle sparse data efficiently ☹️\n",
    "- ...tend to overfit more ☹️"
   ]
  },
  {
   "cell_type": "code",
   "execution_count": null,
   "metadata": {},
   "outputs": [],
   "source": []
  }
 ],
 "metadata": {
  "kernelspec": {
   "display_name": "Python 3 (ipykernel)",
   "language": "python",
   "name": "python3"
  },
  "language_info": {
   "codemirror_mode": {
    "name": "ipython",
    "version": 3
   },
   "file_extension": ".py",
   "mimetype": "text/x-python",
   "name": "python",
   "nbconvert_exporter": "python",
   "pygments_lexer": "ipython3",
   "version": "3.8.0"
  }
 },
 "nbformat": 4,
 "nbformat_minor": 2
}
