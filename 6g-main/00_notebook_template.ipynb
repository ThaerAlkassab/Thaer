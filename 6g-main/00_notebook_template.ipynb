{
 "cells": [
  {
   "cell_type": "markdown",
   "id": "d3bbb8c1",
   "metadata": {},
   "source": [
    "<a href=\"https://colab.research.google.com/github/aldebaro/blob/main/00_notebook_template.ipynb\" target=\"_parent\"><img src=\"https://colab.research.google.com/assets/colab-badge.svg\" alt=\"Open In Colab\"/></a>"
   ]
  },
  {
   "cell_type": "markdown",
   "id": "446e0bb9",
   "metadata": {},
   "source": [
    "**Inteligência Artificial e Aprendizado de Máquina Aplicados a Redes 5G e 6G**.\n",
    "*Aldebaro Klautau* (UFPA). Minicurso 5 do SBrT - 25 de setembro de 2022."
   ]
  },
  {
   "cell_type": "markdown",
   "id": "b2a55660",
   "metadata": {},
   "source": [
    "# Notebook title"
   ]
  },
  {
   "cell_type": "code",
   "execution_count": 1,
   "id": "3efcd794",
   "metadata": {},
   "outputs": [],
   "source": [
    "# Clone the repository if running in Colab and install all the dependencies\n",
    "if 'google.colab' in str(get_ipython()):\n",
    "    import sys\n",
    "    import os\n",
    "    try:\n",
    "      !git clone https://github.com/aldebaro/ai6g.git\n",
    "    except:\n",
    "      print(\"ai6g is already in the contents\")\n",
    "    !pip install -r /content/ai6g/requirements.txt  &>/dev/null\n",
    "    sys.path.append(os.path.abspath('/content/ai6g'))"
   ]
  },
  {
   "cell_type": "markdown",
   "id": "badf64cf",
   "metadata": {},
   "source": [
    "## Organize in sections"
   ]
  },
  {
   "cell_type": "markdown",
   "id": "b47cd430",
   "metadata": {},
   "source": [
    "### And subsections..."
   ]
  }
 ],
 "metadata": {
  "kernelspec": {
   "display_name": "Python 3 (ipykernel)",
   "language": "python",
   "name": "python3"
  },
  "language_info": {
   "codemirror_mode": {
    "name": "ipython",
    "version": 3
   },
   "file_extension": ".py",
   "mimetype": "text/x-python",
   "name": "python",
   "nbconvert_exporter": "python",
   "pygments_lexer": "ipython3",
   "version": "3.7.4"
  }
 },
 "nbformat": 4,
 "nbformat_minor": 5
}
