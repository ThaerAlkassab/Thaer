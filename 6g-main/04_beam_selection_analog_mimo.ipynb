{
 "cells": [
  {
   "cell_type": "markdown",
   "metadata": {},
   "source": [
    "<a href=\"https://colab.research.google.com/github/aldebaro/ai6g/blob/main/04_beam_selection_analog_mimo.ipynb\" target=\"_parent\"><img src=\"https://colab.research.google.com/assets/colab-badge.svg\" alt=\"Open In Colab\"/></a>"
   ]
  },
  {
   "cell_type": "markdown",
   "id": "fc42cc4f",
   "metadata": {},
   "source": [
    "**Inteligência Artificial e Aprendizado de Máquina Aplicados a Redes 5G e 6G**.\n",
    "*Aldebaro Klautau* (UFPA). Minicurso 5 do SBrT - 25 de setembro de 2022."
   ]
  },
  {
   "cell_type": "code",
   "execution_count": 66,
   "metadata": {},
   "outputs": [],
   "source": [
    "# Clone the repository if running in Colab and install all the dependencies\n",
    "if 'google.colab' in str(get_ipython()):\n",
    "    from google.colab import drive\n",
    "    drive.mount('/content/drive/')\n",
    "    import sys\n",
    "    import os\n",
    "    try:\n",
    "      !git clone https://github.com/aldebaro/ai6g.git\n",
    "    except:\n",
    "      print(\"ai6g is already in the contents\")\n",
    "    %cd ai6g\n",
    "    !ln -s /content/drive/MyDrive/ai6g_files/files_04_beam/* ./files_04_beam\n",
    "    !pip install -r requirements.txt"
   ]
  },
  {
   "cell_type": "code",
   "execution_count": 67,
   "metadata": {},
   "outputs": [],
   "source": [
    "import numpy as np\n",
    "import tensorflow as tf\n",
    "import matplotlib.pyplot as plt\n",
    "from tensorflow.keras.utils import to_categorical\n",
    "from tensorflow.keras import metrics\n",
    "from tensorflow.keras.models import Model\n",
    "from tensorflow.keras.layers import Conv2D, \\\n",
    "    Flatten, MaxPooling2D, Dense, Input, Dropout, ReLU\n",
    "from tensorflow.keras.losses import categorical_crossentropy\n",
    "from tensorflow.keras.optimizers import Adam\n",
    "from keras.metrics import top_k_categorical_accuracy\n",
    "from sklearn.model_selection import train_test_split\n",
    "from scipy.special import softmax\n",
    "\n",
    "%matplotlib inline"
   ]
  },
  {
   "cell_type": "code",
   "execution_count": 68,
   "metadata": {},
   "outputs": [],
   "source": [
    "class ModelHandler:\n",
    "    def createArchitecture(self,num_classes,input_shape):\n",
    "        '''\n",
    "        Returns a NN model.\n",
    "        numClasses: a scalar which denotes the number of classes to be predicted\n",
    "        input_shape: a tuple with the dimensions of the input of the model\n",
    "        '''\n",
    "        dropProb=0.3\n",
    "        input_lid = Input(shape = input_shape)\n",
    "                    \n",
    "        layer = Conv2D(10,kernel_size=(13,13),\n",
    "                            activation='relu',\n",
    "                            padding=\"SAME\",\n",
    "                            input_shape=input_shape)(input_lid)\n",
    "        layer = Conv2D(10, (11, 11), padding=\"SAME\", activation='relu')(layer) #original value=30 filters\n",
    "        layer = Conv2D(10, (9, 9), padding=\"SAME\", activation='relu')(layer) #original value=25 filters\n",
    "        layer = MaxPooling2D(pool_size=(1, 4))(layer)\n",
    "        layer = Dropout(dropProb)(layer)\n",
    "        layer = Conv2D(10, (7, 7), padding=\"SAME\", activation='relu')(layer) #original value=20 filters\n",
    "        layer = MaxPooling2D(pool_size=(2, 4))(layer)\n",
    "        layer = Conv2D(10, (5, 5), padding=\"SAME\", activation='relu')(layer) #original value=15 filters\n",
    "        layer = Dropout(dropProb)(layer)\n",
    "        layer = Conv2D(10, (3, 3), padding=\"SAME\", activation='relu')(layer)\n",
    "        layer = MaxPooling2D(pool_size=(2, 2))(layer)\n",
    "        #layer = Conv2D(1, (1, 1), padding=\"SAME\", activation='relu')(layer)\n",
    "        layer = Flatten()(layer)\n",
    "        out = Dense(num_classes,activation='softmax')(layer)\n",
    "        \n",
    "        architecture = Model(inputs = input_lid, outputs = out)\n",
    "        \n",
    "        return architecture\n",
    "\n",
    "    def build_resblock(self, input_shape, nChannels, maxpooling=True):\n",
    "        input = Input(shape=input_shape)\n",
    "        x = Conv2D(nChannels, (3, 3), padding=\"same\", activation=\"relu\")(input)\n",
    "        x = Conv2D(nChannels, (3, 3), padding=\"same\", activation=None)(x)\n",
    "        x = input + x\n",
    "        x = ReLU()(x)\n",
    "        if maxpooling:\n",
    "            x = MaxPooling2D(pool_size=(2, 2), strides=(2, 2), padding=\"valid\")(x)\n",
    "        return Model(inputs=input, outputs=x)\n"
   ]
  },
  {
   "cell_type": "code",
   "execution_count": 69,
   "metadata": {},
   "outputs": [],
   "source": [
    "###############################################################################\n",
    "# Support functions\n",
    "###############################################################################\n",
    "\n",
    "# For description about top-k, including the explanation on how they treat ties (which can be misleading\n",
    "# if your classifier is outputting a lot of ties (e.g. all 0's will lead to high top-k)\n",
    "# https://www.tensorflow.org/api_docs/python/tf/nn/in_top_k\n",
    "\n",
    "\n",
    "def top_10_accuracy(y_true, y_pred):\n",
    "    return metrics.top_k_categorical_accuracy(y_true, y_pred, k=10)\n",
    "\n",
    "\n",
    "def top_30_accuracy(y_true, y_pred):\n",
    "    return metrics.top_k_categorical_accuracy(y_true, y_pred, k=30)\n",
    "\n",
    "\n",
    "def top_50_accuracy(y_true, y_pred):\n",
    "    return metrics.top_k_categorical_accuracy(y_true, y_pred, k=50)\n",
    "\n",
    "\n",
    "def top_100_accuracy(y_true, y_pred):\n",
    "    return metrics.top_k_categorical_accuracy(y_true, y_pred, k=100)\n",
    "\n",
    "\n",
    "def sub2ind(array_shape, rows, cols):\n",
    "    ind = rows * array_shape[1] + cols\n",
    "    ind[ind < 0] = -1\n",
    "    ind[ind >= array_shape[0] * array_shape[1]] = -1\n",
    "    return ind\n",
    "\n",
    "\n",
    "def ind2sub(array_shape, ind):\n",
    "    ind[ind < 0] = -1\n",
    "    ind[ind >= array_shape[0] * array_shape[1]] = -1\n",
    "    rows = ind.astype(\"int\") / array_shape[1]\n",
    "    cols = ind % array_shape[1]\n",
    "    return (rows, cols)\n",
    "\n",
    "\n",
    "def beamsLogScale(y, thresholdBelowMax):\n",
    "    y_shape = y.shape\n",
    "\n",
    "    for i in range(0, y_shape[0]):\n",
    "        thisOutputs = y[i, :]\n",
    "        logOut = 20 * np.log10(thisOutputs + 1e-30)\n",
    "        minValue = np.amax(logOut) - thresholdBelowMax\n",
    "        zeroedValueIndices = logOut < minValue\n",
    "        thisOutputs[zeroedValueIndices] = 0\n",
    "        thisOutputs = thisOutputs / sum(thisOutputs)\n",
    "        y[i, :] = thisOutputs\n",
    "\n",
    "    return y\n",
    "\n",
    "#converts the combined channel gains into the label vector y\n",
    "#to be used for training the model. For instance, if a softmax\n",
    "#activation is used in the DNN output, then make y sum up to 1.\n",
    "def prepare_output_labels(original_gains):  \n",
    "    method = 1 #for using DNN output with softmax activation    \n",
    "    if method == 1:\n",
    "        thresholdBelowMax = 60 #threshold in dB for zeroing gains in log domain\n",
    "        y = log_normalize_channel_gain(original_gains,thresholdBelowMax)\n",
    "    return y\n",
    "\n",
    "#converts to log scale and make zero the values below the specified threshold\n",
    "def log_normalize_channel_gain(y,thresholdBelowMax):\n",
    "    num_gains = len(y)\n",
    "    #print('AK',num_gains)\n",
    "    for i in range(0,y.shape[0]):            \n",
    "            thisOutputs = y[i,:]\n",
    "            logOut = 20*np.log10(thisOutputs + 1e-30)\n",
    "            minValue = np.amax(logOut) - thresholdBelowMax\n",
    "            zeroedValueIndices = logOut < minValue\n",
    "            thisOutputs[zeroedValueIndices]=0\n",
    "            #normalize to sum up to 1, and enable using softmax activation\n",
    "            thisOutputs = thisOutputs / sum(thisOutputs)\n",
    "            y[i,:] = thisOutputs        \n",
    "    return y\n",
    "\n",
    "#instead of representing the pair of beam indices with two integers, use only one integer.\n",
    "#for instance, if yMatrix has a shape of (11194, 8, 32), where 8 is the number of Rx antennas\n",
    "#and 32 the number of Tx antennas, then y_output has the shape (11194, 256) because 256=8*32.\n",
    "#this way, a single index will indicate the pair of indices\n",
    "def convert_pair_to_index(yMatrix):\n",
    "    yMatrix = np.abs(yMatrix)\n",
    "    yMatrix /= np.max(yMatrix)\n",
    "    yMatrixShape = yMatrix.shape\n",
    "    num_classes = yMatrix.shape[1] * yMatrix.shape[2]\n",
    "    y = yMatrix.reshape(yMatrix.shape[0],num_classes)\n",
    "    return y, num_classes\n",
    "\n",
    "\n",
    "def getBeamOutput(output_file):\n",
    "\n",
    "    print(\"Reading dataset...\", output_file)\n",
    "    output_cache_file = np.load(output_file)\n",
    "    yMatrix = output_cache_file[\"output_classification\"]\n",
    "\n",
    "    num_classes = 256\n",
    "\n",
    "    pairs = [[i, j] for i in range(8) for j in range(32)]\n",
    "    yMatrix = yMatrix.tolist()\n",
    "    indexes = [pairs.index(yMatrix[item]) for item in range(len(yMatrix))]\n",
    "\n",
    "    y = to_categorical(indexes, num_classes)\n",
    "\n",
    "    return y, num_classes"
   ]
  },
  {
   "cell_type": "code",
   "execution_count": 70,
   "metadata": {},
   "outputs": [
    {
     "name": "stdout",
     "output_type": "stream",
     "text": [
      "Reading dataset...  ./files_04_beam/lidar_input/lidar_input.npz\n"
     ]
    }
   ],
   "source": [
    "###############################################################################\n",
    "# Data configuration\n",
    "###############################################################################\n",
    "#tf.device(\"/device:GPU:0\") #commented out because we will run on CPU\n",
    "\n",
    "num_epochs = 1 #only one epoch because training takes long\n",
    "batch_size = 32\n",
    "tgtRec = 3\n",
    "seed = 0\n",
    "\n",
    "np.random.seed(seed)\n",
    "\n",
    "lidar_train_input_file = \"./files_04_beam/lidar_input/lidar_input.npz\"\n",
    "lidar_train_cache_file = np.load(lidar_train_input_file)\n",
    "X_lidar = lidar_train_cache_file[\"input\"]\n",
    "X_lidar_train, X_lidar_validation = train_test_split(\n",
    "    X_lidar, test_size=0.2, random_state=seed, shuffle=True\n",
    ")\n",
    "print(\"Reading dataset... \", lidar_train_input_file)\n",
    "lidar_train_input_shape = X_lidar_train.shape"
   ]
  },
  {
   "cell_type": "code",
   "execution_count": 71,
   "metadata": {},
   "outputs": [
    {
     "name": "stdout",
     "output_type": "stream",
     "text": [
      "Reading dataset... ./files_04_beam/beam_output/beams_output.npz\n"
     ]
    }
   ],
   "source": [
    "###############################################################################\n",
    "# Output configuration\n",
    "output_file = \"./files_04_beam/beam_output/beams_output.npz\"\n",
    "\n",
    "print(\"Reading dataset...\", output_file)\n",
    "output_cache_file = np.load(output_file)\n",
    "yMatrix = output_cache_file['output_classification']\n",
    "y_output, num_classes = convert_pair_to_index(yMatrix)\n",
    "y = prepare_output_labels(y_output)\n",
    "\n",
    "(\n",
    "    X_lidar_train,\n",
    "    X_lidar_validation,\n",
    "    y_train,\n",
    "    y_validation,\n",
    ") = train_test_split(\n",
    "    X_lidar, y_output, test_size=0.2, random_state=seed, shuffle=True\n",
    ")"
   ]
  },
  {
   "cell_type": "code",
   "execution_count": 72,
   "metadata": {},
   "outputs": [
    {
     "name": "stdout",
     "output_type": "stream",
     "text": [
      "Model: \"model_5\"\n",
      "_________________________________________________________________\n",
      " Layer (type)                Output Shape              Param #   \n",
      "=================================================================\n",
      " input_6 (InputLayer)        [(None, 20, 200, 10)]     0         \n",
      "                                                                 \n",
      " conv2d_32 (Conv2D)          (None, 20, 200, 10)       16910     \n",
      "                                                                 \n",
      " conv2d_33 (Conv2D)          (None, 20, 200, 10)       12110     \n",
      "                                                                 \n",
      " conv2d_34 (Conv2D)          (None, 20, 200, 10)       8110      \n",
      "                                                                 \n",
      " max_pooling2d_13 (MaxPoolin  (None, 20, 50, 10)       0         \n",
      " g2D)                                                            \n",
      "                                                                 \n",
      " dropout_10 (Dropout)        (None, 20, 50, 10)        0         \n",
      "                                                                 \n",
      " conv2d_35 (Conv2D)          (None, 20, 50, 10)        4910      \n",
      "                                                                 \n",
      " max_pooling2d_14 (MaxPoolin  (None, 10, 12, 10)       0         \n",
      " g2D)                                                            \n",
      "                                                                 \n",
      " conv2d_36 (Conv2D)          (None, 10, 12, 10)        2510      \n",
      "                                                                 \n",
      " dropout_11 (Dropout)        (None, 10, 12, 10)        0         \n",
      "                                                                 \n",
      " conv2d_37 (Conv2D)          (None, 10, 12, 10)        910       \n",
      "                                                                 \n",
      " max_pooling2d_15 (MaxPoolin  (None, 5, 6, 10)         0         \n",
      " g2D)                                                            \n",
      "                                                                 \n",
      " flatten_5 (Flatten)         (None, 300)               0         \n",
      "                                                                 \n",
      " dense_5 (Dense)             (None, 256)               77056     \n",
      "                                                                 \n",
      "=================================================================\n",
      "Total params: 122,516\n",
      "Trainable params: 122,516\n",
      "Non-trainable params: 0\n",
      "_________________________________________________________________\n",
      "280/280 [==============================] - 16s 53ms/step - loss: 4.8894 - categorical_accuracy: 0.2116 - top_k_categorical_accuracy: 0.5419 - top_10_accuracy: 0.6984 - top_30_accuracy: 0.8997 - top_50_accuracy: 0.9463 - top_100_accuracy: 0.9788 - val_loss: 4.8234 - val_categorical_accuracy: 0.2818 - val_top_k_categorical_accuracy: 0.6280 - val_top_10_accuracy: 0.7655 - val_top_30_accuracy: 0.9469 - val_top_50_accuracy: 0.9683 - val_top_100_accuracy: 0.9875\n"
     ]
    }
   ],
   "source": [
    "##############################################################################\n",
    "# Model configuration\n",
    "##############################################################################\n",
    "\n",
    "modelHand = ModelHandler()\n",
    "opt = Adam(\n",
    "    learning_rate=0.001,\n",
    "    beta_1=0.9,\n",
    "    beta_2=0.999,\n",
    "    epsilon=1e-07,\n",
    "    amsgrad=True,\n",
    "    name=\"Adam\",\n",
    ")\n",
    "\n",
    "model = modelHand.createArchitecture(\n",
    "    num_classes,\n",
    "    [\n",
    "        lidar_train_input_shape[1],\n",
    "        lidar_train_input_shape[2],\n",
    "        lidar_train_input_shape[3],\n",
    "    ],\n",
    ")\n",
    "\n",
    "model.compile(\n",
    "    loss=categorical_crossentropy,\n",
    "    optimizer=opt,\n",
    "    metrics=[\n",
    "        metrics.categorical_accuracy,\n",
    "        metrics.top_k_categorical_accuracy,\n",
    "        top_10_accuracy,\n",
    "        top_30_accuracy,\n",
    "        top_50_accuracy,\n",
    "        top_100_accuracy,\n",
    "    ],\n",
    ")\n",
    "model.summary()\n",
    "hist = model.fit(\n",
    "    X_lidar_train,\n",
    "    y_train,\n",
    "    epochs=num_epochs,\n",
    "    batch_size=batch_size,\n",
    "    validation_data=(X_lidar_validation, y_validation),\n",
    ")\n",
    "\n",
    "# with open(\"history.txt\", \"w\") as f:\n",
    "#     f.write(str(hist.history))\n"
   ]
  },
  {
   "cell_type": "code",
   "execution_count": 73,
   "metadata": {},
   "outputs": [],
   "source": [
    "\"\"\"##Baselines cores\"\"\"\n",
    "\n",
    "beam_weights = {}\n",
    "for i in range(y_train.shape[1]):\n",
    "    beam_weights[i] = 0\n",
    "\n",
    "for i in range(y_train.shape[0]):\n",
    "    scene_array = y_train[i, :]\n",
    "    beam_weights[np.argmax(scene_array)] += 1\n",
    "\n",
    "ocurrence = np.zeros((1, y_validation.shape[1]))\n",
    "oc_factor = sum(beam_weights.values())\n",
    "for b_index in beam_weights.keys():\n",
    "    ocurrence[0, b_index] = beam_weights[b_index] / oc_factor\n",
    "\n",
    "# ocurrence\n",
    "ocurrence_input = np.repeat(ocurrence, y_validation.shape[0], axis=0)\n",
    "ocurrence_output = softmax(ocurrence_input, axis=1)\n",
    "# rand\n",
    "rand_input = np.random.rand(X_lidar_validation.shape[0], 256)\n",
    "rand_output = softmax(rand_input, axis=1)\n"
   ]
  },
  {
   "cell_type": "code",
   "execution_count": 74,
   "metadata": {},
   "outputs": [
    {
     "data": {
      "text/plain": [
       "Text(0.5, 1.0, 'LIDAR data')"
      ]
     },
     "execution_count": 74,
     "metadata": {},
     "output_type": "execute_result"
    },
    {
     "data": {
      "image/png": "[encoded data removed]",
      "text/plain": [
       "<Figure size 700x400 with 1 Axes>"
      ]
     },
     "metadata": {},
     "output_type": "display_data"
    }
   ],
   "source": [
    "\"\"\"#Accuracy / epochs\"\"\"\n",
    "\n",
    "fig, ax = plt.subplots(figsize=(7, 4))\n",
    "ax.plot(\n",
    "    hist.history[\"categorical_accuracy\"], \"b\", label=\"Categorical accuracy\", linewidth=2\n",
    ")\n",
    "ax.plot(hist.history[\"top_k_categorical_accuracy\"], \"k--\", label=\"Top 5\", linewidth=2)\n",
    "ax.plot(hist.history[\"top_10_accuracy\"], \"m\", label=\"Top 10\", linewidth=2)\n",
    "ax.plot(hist.history[\"top_30_accuracy\"], \"g--\", label=\"Top 30\", linewidth=2)\n",
    "ax.plot(hist.history[\"top_50_accuracy\"], \"r\", label=\"Top 50\", linewidth=2)\n",
    "ax.set(xlabel=\"Epochs\", ylabel=\"Accuracy\")\n",
    "ax.grid()\n",
    "plt.legend()\n",
    "plt.title('LIDAR data')"
   ]
  },
  {
   "cell_type": "code",
   "execution_count": 75,
   "metadata": {},
   "outputs": [],
   "source": [
    "ocurrence_output = np.float32(ocurrence_output)"
   ]
  },
  {
   "cell_type": "code",
   "execution_count": 76,
   "metadata": {},
   "outputs": [],
   "source": [
    "rand_output = np.float32(rand_output)"
   ]
  },
  {
   "cell_type": "code",
   "execution_count": 77,
   "metadata": {},
   "outputs": [
    {
     "name": "stdout",
     "output_type": "stream",
     "text": [
      "70/70 [==============================] - 1s 9ms/step\n"
     ]
    }
   ],
   "source": [
    "\"\"\"##Creating Baselines\"\"\"\n",
    "\n",
    "predict_top_k = {}\n",
    "ocurrence_top_k = {}\n",
    "random_top_k = {}\n",
    "y_predict = model.predict(X_lidar_validation)\n",
    "for i in range(1, 51):\n",
    "    predict_top_k[f\"top_{i}\"] = (\n",
    "        np.sum(top_k_categorical_accuracy(y_validation, y_predict, k=i))\n",
    "        / y_predict.shape[0]\n",
    "    )\n",
    "    ocurrence_top_k[f\"top_{i}\"] = (\n",
    "        np.sum(top_k_categorical_accuracy(y_validation, ocurrence_output, k=i))\n",
    "        / y_predict.shape[0]\n",
    "    )\n",
    "    random_top_k[f\"top_{i}\"] = (\n",
    "        np.sum(top_k_categorical_accuracy(y_validation, rand_output, k=i))\n",
    "        / y_predict.shape[0]\n",
    "    )"
   ]
  },
  {
   "cell_type": "code",
   "execution_count": 78,
   "metadata": {},
   "outputs": [
    {
     "data": {
      "text/plain": [
       "<matplotlib.legend.Legend at 0x24b4343c6a0>"
      ]
     },
     "execution_count": 78,
     "metadata": {},
     "output_type": "execute_result"
    },
    {
     "data": {
      "image/png": "[encoded data removed]",
      "text/plain": [
       "<Figure size 700x400 with 1 Axes>"
      ]
     },
     "metadata": {},
     "output_type": "display_data"
    }
   ],
   "source": [
    "\"\"\"## TOP 10 acurracy\"\"\"\n",
    "if False: #we disable when there is a small number of data to create the histograms\n",
    "    plt.figure(figsize=(7, 4))\n",
    "    plt.hist(predict_top_k[\"top_10\"])\n",
    "    plt.hist(ocurrence_top_k[\"top_10\"])\n",
    "    plt.hist(random_top_k[\"top_10\"])\n",
    "\n",
    "plt.figure(figsize=(7, 4))\n",
    "plt.xlabel(\"Top k\")\n",
    "plt.ylabel(\"Accuracy\")\n",
    "plt.plot(list(predict_top_k.values()), label=\"NN\")\n",
    "plt.plot(list(ocurrence_top_k.values()), label=\"Ocurrence\")\n",
    "plt.plot(list(random_top_k.values()), label=\"Dummy\")\n",
    "plt.grid()\n",
    "plt.legend()"
   ]
  },
  {
   "cell_type": "markdown",
   "id": "52e85753",
   "metadata": {},
   "source": [
    "## Authors\n",
    "\n",
    "- [João Borges - LASSE/UFPA](https://github.com/joaotavares43)\n",
    "- [Luan Gonçalves - LASSE/UFPA](https://github.com/LuanAGoncalves)\n",
    "- [Ailton Oliveira - LASSE/UFPA](https://github.com/AiltonOliveir)\n",
    "- [Daniel Takashi - LASSE/UFPA](https://github.com/orgs/lasseufpa/people/TakashiDan0)"
   ]
  }
 ],
 "metadata": {
  "kernelspec": {
   "display_name": "Python (ai6genv)",
   "language": "python",
   "name": "ai6g"
  },
  "language_info": {
   "codemirror_mode": {
    "name": "ipython",
    "version": 3
   },
   "file_extension": ".py",
   "mimetype": "text/x-python",
   "name": "python",
   "nbconvert_exporter": "python",
   "pygments_lexer": "ipython3",
   "version": "3.9.7"
  },
  "vscode": {
   "interpreter": {
    "hash": "dac2514730ec6dd4fc1d04cb6927967d7376870f25ae7edf50b318831380a3e7"
   }
  }
 },
 "nbformat": 4,
 "nbformat_minor": 2
}
