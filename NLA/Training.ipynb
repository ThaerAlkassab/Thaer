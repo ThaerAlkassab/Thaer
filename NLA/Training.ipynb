{
 "cells": [
  {
   "cell_type": "code",
   "execution_count": 1,
   "id": "ddf2bd9d",
   "metadata": {},
   "outputs": [
    {
     "name": "stdout",
     "output_type": "stream",
     "text": [
      "Matrix is diagonally dominant.\n"
     ]
    }
   ],
   "source": [
    "import numpy as np\n",
    "\n",
    "def is_diagonally_dominant(matrix):\n",
    "    n = len(matrix)\n",
    "    for i in range(n):\n",
    "        diagonal_element = abs(matrix[i, i])\n",
    "        row_sum = np.sum(np.abs(matrix[i, :])) - diagonal_element\n",
    "        if diagonal_element < row_sum:\n",
    "            return False\n",
    "    return True\n",
    "\n",
    "# Example usage:\n",
    "A = np.array([[4, 1, -1],\n",
    "              [2, 5, 1],\n",
    "              [1, 1, 3]])\n",
    "\n",
    "if is_diagonally_dominant(A):\n",
    "    print(\"Matrix is diagonally dominant.\")\n",
    "else:\n",
    "    print(\"Matrix is not diagonally dominant.\")\n"
   ]
  },
  {
   "cell_type": "code",
   "execution_count": 4,
   "id": "9f4a959d",
   "metadata": {},
   "outputs": [
    {
     "name": "stdout",
     "output_type": "stream",
     "text": [
      "Spectral Radius of A: 0.5000000000000001\n"
     ]
    }
   ],
   "source": [
    "import numpy as np\n",
    "\n",
    "def spectral_radius(matrix):\n",
    "    eigenvalues, _ = np.linalg.eig(matrix)\n",
    "    abs_eigenvalues = np.abs(eigenvalues)\n",
    "    max_abs_eigenvalue = np.max(abs_eigenvalues)\n",
    "    return max_abs_eigenvalue\n",
    "\n",
    "# Example usage:\n",
    "A = np.array([[0, 0, 0.5],\n",
    "              [1, 0, 1],\n",
    "              [0.5, 0, 0]])\n",
    "\n",
    "rho_A = spectral_radius(A)\n",
    "print(\"Spectral Radius of A:\", rho_A)\n"
   ]
  },
  {
   "cell_type": "code",
   "execution_count": null,
   "id": "dc7f00c9",
   "metadata": {},
   "outputs": [],
   "source": []
  }
 ],
 "metadata": {
  "kernelspec": {
   "display_name": "Python 3",
   "language": "python",
   "name": "python3"
  },
  "language_info": {
   "codemirror_mode": {
    "name": "ipython",
    "version": 3
   },
   "file_extension": ".py",
   "mimetype": "text/x-python",
   "name": "python",
   "nbconvert_exporter": "python",
   "pygments_lexer": "ipython3",
   "version": "3.6.8"
  }
 },
 "nbformat": 4,
 "nbformat_minor": 5
}
