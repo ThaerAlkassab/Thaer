{
 "cells": [
  {
   "cell_type": "code",
   "execution_count": 13,
   "id": "45c3f279",
   "metadata": {},
   "outputs": [],
   "source": [
    "from sympy import *\n"
   ]
  },
  {
   "cell_type": "code",
   "execution_count": 15,
   "id": "bd5d8534",
   "metadata": {},
   "outputs": [],
   "source": [
    "A = Matrix([\n",
    "    [1, 0, 0, 1],\n",
    "    [Rational(7,2), 1, 0, 2],\n",
    "    [2, Rational(3,2), 1, 4],\n",
    "    [-2, -2, -Rational(1,2), 8]\n",
    "])\n",
    "b = Matrix([0, -4, -16, -15])"
   ]
  },
  {
   "cell_type": "code",
   "execution_count": 16,
   "id": "736642dd",
   "metadata": {},
   "outputs": [
    {
     "data": {
      "text/latex": [
       "$\\displaystyle \\left[\\begin{matrix}1 & 0 & 0 & 1\\\\\\frac{7}{2} & 1 & 0 & 2\\\\2 & \\frac{3}{2} & 1 & 4\\\\-2 & -2 & - \\frac{1}{2} & 8\\end{matrix}\\right]$"
      ],
      "text/plain": [
       "Matrix([\n",
       "[  1,   0,    0, 1],\n",
       "[7/2,   1,    0, 2],\n",
       "[  2, 3/2,    1, 4],\n",
       "[ -2,  -2, -1/2, 8]])"
      ]
     },
     "execution_count": 16,
     "metadata": {},
     "output_type": "execute_result"
    }
   ],
   "source": [
    "A"
   ]
  },
  {
   "cell_type": "code",
   "execution_count": 17,
   "id": "093e04fc",
   "metadata": {},
   "outputs": [
    {
     "data": {
      "text/latex": [
       "$\\displaystyle \\left[\\begin{matrix}0\\\\-4\\\\-16\\\\-15\\end{matrix}\\right]$"
      ],
      "text/plain": [
       "Matrix([\n",
       "[  0],\n",
       "[ -4],\n",
       "[-16],\n",
       "[-15]])"
      ]
     },
     "execution_count": 17,
     "metadata": {},
     "output_type": "execute_result"
    }
   ],
   "source": [
    "b"
   ]
  },
  {
   "cell_type": "code",
   "execution_count": 18,
   "id": "b897b40a",
   "metadata": {},
   "outputs": [
    {
     "data": {
      "text/latex": [
       "$\\displaystyle \\left[\\begin{matrix}\\frac{224}{73}\\\\- \\frac{628}{73}\\\\\\frac{222}{73}\\\\- \\frac{224}{73}\\end{matrix}\\right]$"
      ],
      "text/plain": [
       "Matrix([\n",
       "[ 224/73],\n",
       "[-628/73],\n",
       "[ 222/73],\n",
       "[-224/73]])"
      ]
     },
     "execution_count": 18,
     "metadata": {},
     "output_type": "execute_result"
    }
   ],
   "source": [
    "A.inv()*b\n"
   ]
  },
  {
   "cell_type": "code",
   "execution_count": 20,
   "id": "122eb335",
   "metadata": {},
   "outputs": [],
   "source": [
    "t = symbols(\"t\")"
   ]
  },
  {
   "cell_type": "code",
   "execution_count": 22,
   "id": "dcd4df16",
   "metadata": {},
   "outputs": [
    {
     "data": {
      "text/latex": [
       "$\\displaystyle \\frac{111 t^{2} e^{- 2 t}}{73} - \\frac{628 t e^{- 2 t}}{73} - \\frac{224 e^{\\frac{t}{2}}}{73} + \\frac{224 e^{- 2 t}}{73}$"
      ],
      "text/plain": [
       "111*t**2*exp(-2*t)/73 - 628*t*exp(-2*t)/73 - 224*exp(t/2)/73 + 224*exp(-2*t)/73"
      ]
     },
     "execution_count": 22,
     "metadata": {},
     "output_type": "execute_result"
    }
   ],
   "source": [
    "y = Rational(224,73)*exp(-2*t) - Rational(628,73)*t*exp(-2*t) + Rational(111,73)*t*t*exp(-2*t) - Rational(224,73)*exp(t/2)\n",
    "y"
   ]
  },
  {
   "cell_type": "code",
   "execution_count": 27,
   "id": "cc30f12e",
   "metadata": {},
   "outputs": [
    {
     "data": {
      "text/latex": [
       "$\\displaystyle - \\frac{1110 t e^{- 2 t}}{73} + \\frac{3584 e^{- 2 t}}{73}$"
      ],
      "text/plain": [
       "-1110*t*exp(-2*t)/73 + 3584*exp(-2*t)/73"
      ]
     },
     "execution_count": 27,
     "metadata": {},
     "output_type": "execute_result"
    }
   ],
   "source": [
    "lhs = 2*y.diff().diff() + 3*y.diff() - 2*y\n",
    "lhs.simplify()\n",
    "lhs\n"
   ]
  },
  {
   "cell_type": "code",
   "execution_count": 28,
   "id": "2709e4ab",
   "metadata": {},
   "outputs": [],
   "source": [
    "s = symbols(\"s\")"
   ]
  },
  {
   "cell_type": "code",
   "execution_count": 29,
   "id": "46ed89d3",
   "metadata": {},
   "outputs": [],
   "source": [
    "Y = ( (s+2)**(-2) - 4) / (2*s*s+3*s-2)"
   ]
  },
  {
   "cell_type": "code",
   "execution_count": 39,
   "id": "388da054",
   "metadata": {},
   "outputs": [
    {
     "data": {
      "text/latex": [
       "$\\displaystyle - 2.0 s^{2} - 8.0 s - 7.5$"
      ],
      "text/plain": [
       "-2.0*s**2 - 8.0*s - 7.5"
      ]
     },
     "execution_count": 39,
     "metadata": {},
     "output_type": "execute_result"
    }
   ],
   "source": [
    "(Y.simplify().simplify()*(s+2)**3*(s-0.5)).simplify()"
   ]
  },
  {
   "cell_type": "code",
   "execution_count": 31,
   "id": "9fe40d7d",
   "metadata": {},
   "outputs": [
    {
     "data": {
      "text/latex": [
       "$\\displaystyle - \\frac{192}{125 \\left(2 s - 1\\right)} + \\frac{96}{125 \\left(s + 2\\right)} - \\frac{2}{25 \\left(s + 2\\right)^{2}} - \\frac{1}{5 \\left(s + 2\\right)^{3}}$"
      ],
      "text/plain": [
       "-192/(125*(2*s - 1)) + 96/(125*(s + 2)) - 2/(25*(s + 2)**2) - 1/(5*(s + 2)**3)"
      ]
     },
     "execution_count": 31,
     "metadata": {},
     "output_type": "execute_result"
    }
   ],
   "source": [
    "Y.apart(s)"
   ]
  },
  {
   "cell_type": "code",
   "execution_count": 32,
   "id": "8e9d3e5b",
   "metadata": {},
   "outputs": [
    {
     "ename": "NameError",
     "evalue": "name 'invL' is not defined",
     "output_type": "error",
     "traceback": [
      "\u001b[0;31m---------------------------------------------------------------------------\u001b[0m",
      "\u001b[0;31mNameError\u001b[0m                                 Traceback (most recent call last)",
      "\u001b[0;32m<ipython-input-32-dc7c653e8057>\u001b[0m in \u001b[0;36m<module>\u001b[0;34m\u001b[0m\n\u001b[0;32m----> 1\u001b[0;31m \u001b[0minvL\u001b[0m\u001b[0;34m(\u001b[0m\u001b[0mY\u001b[0m\u001b[0;34m.\u001b[0m\u001b[0mapart\u001b[0m\u001b[0;34m(\u001b[0m\u001b[0ms\u001b[0m\u001b[0;34m)\u001b[0m\u001b[0;34m)\u001b[0m\u001b[0;34m\u001b[0m\u001b[0;34m\u001b[0m\u001b[0m\n\u001b[0m",
      "\u001b[0;31mNameError\u001b[0m: name 'invL' is not defined"
     ]
    }
   ],
   "source": [
    "invL(Y.apart(s))"
   ]
  },
  {
   "cell_type": "code",
   "execution_count": 34,
   "id": "361b1702",
   "metadata": {},
   "outputs": [
    {
     "data": {
      "text/latex": [
       "$\\displaystyle \\frac{\\left(- 25 t^{2} - 20 t - 192 e^{\\frac{5 t}{2}} + 192\\right) e^{- 2 t} \\theta\\left(t\\right)}{250}$"
      ],
      "text/plain": [
       "(-25*t**2 - 20*t - 192*exp(5*t/2) + 192)*exp(-2*t)*Heaviside(t)/250"
      ]
     },
     "execution_count": 34,
     "metadata": {},
     "output_type": "execute_result"
    }
   ],
   "source": [
    "inverse_laplace_transform(Y.apart(s), s, t)"
   ]
  },
  {
   "cell_type": "code",
   "execution_count": 40,
   "id": "3bb35cf5",
   "metadata": {},
   "outputs": [
    {
     "data": {
      "text/latex": [
       "$\\displaystyle - \\frac{t^{2} e^{- 2 t}}{10} - \\frac{2 t e^{- 2 t}}{25} - \\frac{96 e^{\\frac{t}{2}}}{125} + \\frac{96 e^{- 2 t}}{125}$"
      ],
      "text/plain": [
       "-t**2*exp(-2*t)/10 - 2*t*exp(-2*t)/25 - 96*exp(t/2)/125 + 96*exp(-2*t)/125"
      ]
     },
     "execution_count": 40,
     "metadata": {},
     "output_type": "execute_result"
    }
   ],
   "source": [
    "y = Rational(192,250)*exp(-2*t) - Rational(20,250)*t*exp(-2*t) + Rational(-25,250)*t*t*exp(-2*t) - Rational(192,250)*exp(t/2)\n",
    "y"
   ]
  },
  {
   "cell_type": "code",
   "execution_count": 41,
   "id": "bdfe8676",
   "metadata": {},
   "outputs": [
    {
     "data": {
      "text/latex": [
       "$\\displaystyle t e^{- 2 t}$"
      ],
      "text/plain": [
       "t*exp(-2*t)"
      ]
     },
     "execution_count": 41,
     "metadata": {},
     "output_type": "execute_result"
    }
   ],
   "source": [
    "lhs = 2*y.diff().diff() + 3*y.diff() - 2*y\n",
    "lhs"
   ]
  },
  {
   "cell_type": "code",
   "execution_count": null,
   "id": "71f947a3",
   "metadata": {},
   "outputs": [],
   "source": []
  }
 ],
 "metadata": {
  "kernelspec": {
   "display_name": "Python 3",
   "language": "python",
   "name": "python3"
  },
  "language_info": {
   "codemirror_mode": {
    "name": "ipython",
    "version": 3
   },
   "file_extension": ".py",
   "mimetype": "text/x-python",
   "name": "python",
   "nbconvert_exporter": "python",
   "pygments_lexer": "ipython3",
   "version": "3.6.8"
  }
 },
 "nbformat": 4,
 "nbformat_minor": 5
}
