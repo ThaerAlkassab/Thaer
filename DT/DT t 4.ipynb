{
 "cells": [
  {
   "cell_type": "code",
   "execution_count": 1,
   "id": "b88279dd",
   "metadata": {},
   "outputs": [],
   "source": [
    "import numpy as np\n",
    "\n",
    "\n",
    "# y' = y^2*t\n",
    "def F_ex1( y, t ):\n",
    "    return y*y*t\n",
    "\n",
    "# y(0) = 1\n",
    "y0_ex1 = 1\n",
    "t0_ex1 = 0\n",
    "\n"
   ]
  },
  {
   "cell_type": "code",
   "execution_count": 2,
   "id": "617a834f",
   "metadata": {},
   "outputs": [
    {
     "name": "stdout",
     "output_type": "stream",
     "text": [
      "tn\tyn\ty'n\tdyn\n",
      "0\t1\t0\t0.0\n",
      "0.1\t1.0\t0.1\t0.010000000000000002\n",
      "0.2\t1.01\t0.20402\t0.020401999999999997\n",
      "0.3\t1.030402\n"
     ]
    }
   ],
   "source": [
    "def explicitEuler(F, y0, ts):\n",
    "    # For all t in ts it calculates next y with explicit euler\n",
    "    # prints tn, yn, y'n, dyn\n",
    "    print(f\"tn\\tyn\\ty'n\\tdyn\")\n",
    "    tn = ts[0]\n",
    "    yn = y0\n",
    "    for i in range(len(ts)-1):\n",
    "        yprimen = F( yn, tn )\n",
    "        dt = ts[i+1] - ts[i]\n",
    "        dyn = dt*yprimen\n",
    "        print(f\"{tn}\\t{yn}\\t{yprimen}\\t{dyn}\")\n",
    "        tn = ts[i+1]\n",
    "        yn += dyn\n",
    "    print(f\"{tn}\\t{yn}\")\n",
    "        \n",
    "\n",
    "ts_ex1 = [0, 0.1, 0.2, 0.3 ] #, 0.4, 0.5, 0.6, 0.7, 0.8, 0.9, 1.0]\n",
    "explicitEuler(F_ex1, y0_ex1, ts_ex1)"
   ]
  },
  {
   "cell_type": "code",
   "execution_count": 3,
   "id": "2a5a8ebf",
   "metadata": {},
   "outputs": [
    {
     "name": "stdout",
     "output_type": "stream",
     "text": [
      "tn\tyn\ty'n\tdyn\n",
      "1\t2\t2.0\t0.20000000000000018\n",
      "1.1\t2.2\t2.0\t0.19999999999999973\n",
      "1.2\t2.4\t2.0\t0.20000000000000018\n",
      "1.3\t2.6\n"
     ]
    }
   ],
   "source": [
    "\n",
    "def F_ex2( y, t):\n",
    "    return y/t\n",
    "y0_ex2 = 2\n",
    "t0_ex2 = 1\n",
    "ts_ex2 = [1, 1.1, 1.2, 1.3]\n",
    "explicitEuler(F_ex2, y0_ex2, ts_ex2)"
   ]
  },
  {
   "cell_type": "code",
   "execution_count": 4,
   "id": "20bb6383",
   "metadata": {},
   "outputs": [
    {
     "name": "stdout",
     "output_type": "stream",
     "text": [
      "tn\tyn\ty'n\tdyn\n",
      "0\t2\t5\t0.5\n",
      "0.1\t2.5\t6.0\t0.6000000000000001\n",
      "0.2\t3.1\t7.2\t0.7199999999999999\n",
      "0.3\t3.82\n"
     ]
    }
   ],
   "source": [
    "def F_ex3( y, t):\n",
    "    return 2*y+1\n",
    "y0_ex3 = 2\n",
    "t0_ex3 = 0\n",
    "ts_ex3 = [0, 0.1, 0.2, 0.3]\n",
    "explicitEuler(F_ex3, y0_ex3, ts_ex3)"
   ]
  },
  {
   "cell_type": "code",
   "execution_count": null,
   "id": "19665545",
   "metadata": {},
   "outputs": [],
   "source": [
    "\n"
   ]
  },
  {
   "cell_type": "code",
   "execution_count": 5,
   "id": "ef8ad65c",
   "metadata": {},
   "outputs": [
    {
     "data": {
      "text/plain": [
       "array([2.5])"
      ]
     },
     "execution_count": 5,
     "metadata": {},
     "output_type": "execute_result"
    }
   ],
   "source": [
    "# need to solve equation!\n",
    "import scipy\n",
    "from scipy.optimize import fsolve\n",
    "\n",
    "# 3x - 2 = x+3\n",
    "# make an expression that is zero!\n",
    "# 3x - 2 - (x + 3)\n",
    "\n",
    "def expr( x ):\n",
    "    return 3*x - 2 - (x+3)\n",
    "x_guess = 1\n",
    "\n",
    "fsolve(expr, x_guess)"
   ]
  },
  {
   "cell_type": "markdown",
   "id": "facadf52",
   "metadata": {},
   "source": [
    "Solve with fsolve!\n",
    "\n",
    "$$3\\cdot e^{-3x} = 2x$$\n",
    "\n",
    "$$x^2 - 2x - 3 = 0$$\n",
    "\n",
    "$$3\\cdot\\cos(3x+1) = 2$$\n"
   ]
  },
  {
   "cell_type": "code",
   "execution_count": 6,
   "id": "1a3ef7bf",
   "metadata": {},
   "outputs": [
    {
     "data": {
      "text/plain": [
       "array([0.4224126])"
      ]
     },
     "execution_count": 6,
     "metadata": {},
     "output_type": "execute_result"
    }
   ],
   "source": [
    "import math\n",
    "\n",
    "def expr_1( x ):\n",
    "    return 3*math.e**(-3*x)-2*x\n",
    "\n",
    "fsolve(expr_1, 0)"
   ]
  },
  {
   "cell_type": "code",
   "execution_count": 7,
   "id": "7b1fbcad",
   "metadata": {},
   "outputs": [
    {
     "data": {
      "text/plain": [
       "[<matplotlib.lines.Line2D at 0x7fbc2ed005c0>]"
      ]
     },
     "execution_count": 7,
     "metadata": {},
     "output_type": "execute_result"
    },
    {
     "data": {
      "image/png": "[encoded data removed]",
      "text/plain": [
       "<Figure size 432x288 with 1 Axes>"
      ]
     },
     "metadata": {
      "needs_background": "light"
     },
     "output_type": "display_data"
    }
   ],
   "source": [
    "from matplotlib import pyplot as plt\n",
    "xs = np.linspace(-1, 2, 101)\n",
    "plt.plot( xs, 3*np.e**(-3*xs))\n",
    "plt.plot( xs, 2*xs)\n"
   ]
  },
  {
   "cell_type": "code",
   "execution_count": 8,
   "id": "047ea985",
   "metadata": {},
   "outputs": [
    {
     "data": {
      "text/plain": [
       "[<matplotlib.lines.Line2D at 0x7fbaa13044e0>]"
      ]
     },
     "execution_count": 8,
     "metadata": {},
     "output_type": "execute_result"
    },
    {
     "data": {
      "image/png": "[encoded data removed]",
      "text/plain": [
       "<Figure size 432x288 with 1 Axes>"
      ]
     },
     "metadata": {
      "needs_background": "light"
     },
     "output_type": "display_data"
    }
   ],
   "source": [
    "xs = np.linspace(-2, 4, 101)\n",
    "plt.plot( xs, xs**2-2*xs-3 )\n",
    "plt.plot( xs, [0]*len(xs))\n"
   ]
  },
  {
   "cell_type": "code",
   "execution_count": 9,
   "id": "0c68352d",
   "metadata": {},
   "outputs": [
    {
     "data": {
      "text/plain": [
       "array([3.])"
      ]
     },
     "execution_count": 9,
     "metadata": {},
     "output_type": "execute_result"
    }
   ],
   "source": [
    "def expr_2( x ):\n",
    "    return x*x - 2*x - 3\n",
    "\n",
    "fsolve(expr_2, 2)"
   ]
  },
  {
   "cell_type": "code",
   "execution_count": 10,
   "id": "f03371b1",
   "metadata": {},
   "outputs": [],
   "source": [
    "sol_s = [ fsolve(expr_2, x_ ) for x_ in xs]\n"
   ]
  },
  {
   "cell_type": "code",
   "execution_count": 11,
   "id": "6d0f3854",
   "metadata": {},
   "outputs": [
    {
     "data": {
      "text/plain": [
       "[<matplotlib.lines.Line2D at 0x7fbc2821bb38>]"
      ]
     },
     "execution_count": 11,
     "metadata": {},
     "output_type": "execute_result"
    },
    {
     "data": {
      "image/png": "[encoded data removed]",
      "text/plain": [
       "<Figure size 432x288 with 1 Axes>"
      ]
     },
     "metadata": {
      "needs_background": "light"
     },
     "output_type": "display_data"
    }
   ],
   "source": [
    "xs = np.linspace(-2, 4, 101)\n",
    "plt.plot( xs, xs**2-2*xs-3 )\n",
    "plt.plot( xs, [0]*len(xs))\n",
    "plt.plot( xs, sol_s)\n"
   ]
  },
  {
   "cell_type": "code",
   "execution_count": 12,
   "id": "2765d837",
   "metadata": {},
   "outputs": [
    {
     "data": {
      "text/plain": [
       "array([-0.05297711])"
      ]
     },
     "execution_count": 12,
     "metadata": {},
     "output_type": "execute_result"
    }
   ],
   "source": [
    "\n",
    "def expr_3( x ):\n",
    "    return 3*np.cos( 3*x + 1) - 2\n",
    "\n",
    "fsolve( expr_3, 0 )"
   ]
  },
  {
   "cell_type": "code",
   "execution_count": 13,
   "id": "f29ed952",
   "metadata": {},
   "outputs": [
    {
     "data": {
      "text/plain": [
       "(-5.0, 5.0)"
      ]
     },
     "execution_count": 13,
     "metadata": {},
     "output_type": "execute_result"
    },
    {
     "data": {
      "image/png": "[encoded data removed]",
      "text/plain": [
       "<Figure size 432x288 with 1 Axes>"
      ]
     },
     "metadata": {
      "needs_background": "light"
     },
     "output_type": "display_data"
    }
   ],
   "source": [
    "plt.plot( xs, 3*np.cos(3*xs + 1)- 2)\n",
    "plt.plot( xs, [0]*len(xs))\n",
    "sol_s = [ fsolve(expr_3, x_) for x_ in xs]\n",
    "plt.plot(xs, sol_s, '.')\n",
    "plt.ylim([-5, 5])"
   ]
  },
  {
   "cell_type": "code",
   "execution_count": 14,
   "id": "d16223e1",
   "metadata": {},
   "outputs": [
    {
     "data": {
      "text/plain": [
       "[<matplotlib.lines.Line2D at 0x7fbaa10c8470>]"
      ]
     },
     "execution_count": 14,
     "metadata": {},
     "output_type": "execute_result"
    },
    {
     "data": {
      "image/png": "[encoded data removed]",
      "text/plain": [
       "<Figure size 432x288 with 1 Axes>"
      ]
     },
     "metadata": {
      "needs_background": "light"
     },
     "output_type": "display_data"
    }
   ],
   "source": [
    "plt.plot( xs, 3*np.cos(3*xs + 1)- 2)\n",
    "plt.plot( xs, [0]*len(xs))\n",
    "sol_s = [ fsolve(expr_3, x_) for x_ in xs]\n",
    "plt.plot(xs, sol_s, '.')"
   ]
  },
  {
   "cell_type": "code",
   "execution_count": 15,
   "id": "a7e5353e",
   "metadata": {},
   "outputs": [
    {
     "name": "stdout",
     "output_type": "stream",
     "text": [
      "tn\tyn\n",
      "0\t1\n",
      "0.1\t1.010205144336438\n",
      "0.2\t1.031484343347873\n",
      "0.3\t1.065545991123878\n"
     ]
    }
   ],
   "source": [
    "\n",
    "def solveImplicit( yn, dt, tnp1, F):\n",
    "    expr = lambda ynp1 : ( ynp1 - yn )/dt - F(ynp1, tnp1)\n",
    "    return fsolve( expr, yn )[0]\n",
    "#   return fsolve( expr, yn + dt*F(yn, tnp1-dt))\n",
    "\n",
    "def implicitEuler(F, y0, ts):\n",
    "    # For all t in ts it calculates next y with explicit euler\n",
    "    # prints tn, yn, y'n, dyn\n",
    "    print(f\"tn\\tyn\")\n",
    "    tn = ts[0]\n",
    "    yn = y0\n",
    "    for i in range(len(ts)-1):\n",
    "#        yprimen = F( yn, tn )\n",
    "        dt = ts[i+1] - ts[i]\n",
    "        tnp1 = ts[i+1]\n",
    "        ynp1 = solveImplicit( yn, dt, tnp1, F)\n",
    "#        dyn = dt*yprimen\n",
    "        print(f\"{tn}\\t{yn}\")\n",
    "        tn = tnp1\n",
    "        yn = ynp1\n",
    "    print(f\"{tn}\\t{yn}\")\n",
    "\n",
    "implicitEuler(F_ex1, y0_ex1, ts_ex1)"
   ]
  },
  {
   "cell_type": "code",
   "execution_count": 16,
   "id": "d8d9e79b",
   "metadata": {},
   "outputs": [
    {
     "name": "stdout",
     "output_type": "stream",
     "text": [
      "tn\tyn\n",
      "1\t2\n",
      "1.1\t2.2\n",
      "1.2\t2.4\n",
      "1.3\t2.6\n"
     ]
    }
   ],
   "source": [
    "implicitEuler(F_ex2, y0_ex2, ts_ex2)"
   ]
  },
  {
   "cell_type": "code",
   "execution_count": 17,
   "id": "a220e7f0",
   "metadata": {},
   "outputs": [
    {
     "name": "stdout",
     "output_type": "stream",
     "text": [
      "tn\tyn\n",
      "0\t2\n",
      "0.1\t2.625\n",
      "0.2\t3.40625\n",
      "0.3\t4.3828125\n"
     ]
    }
   ],
   "source": [
    "implicitEuler(F_ex3, y0_ex3, ts_ex3)"
   ]
  },
  {
   "cell_type": "code",
   "execution_count": 19,
   "id": "70f9aeb5",
   "metadata": {},
   "outputs": [
    {
     "name": "stdout",
     "output_type": "stream",
     "text": [
      "tn\tyn\n",
      "0\t1\n",
      "0.1\t1.0050506338833465\n",
      "0.2\t1.020515792596073\n",
      "0.3\t1.0473855652601831\n"
     ]
    }
   ],
   "source": [
    "def solveTheta( yn, dt, tnp1, F, theta):\n",
    "    expr = lambda ynp1 : ( ynp1 - yn )/dt - theta*F(ynp1, tnp1)-(1-theta)*F(yn,tnp1-dt)\n",
    "    return fsolve( expr, yn )[0]\n",
    "#   return fsolve( expr, yn + dt*F(yn, tnp1-dt))\n",
    "\n",
    "def thetaEuler(F, y0, ts, theta):\n",
    "    # For all t in ts it calculates next y with explicit euler\n",
    "    # prints tn, yn, y'n, dyn\n",
    "    print(f\"tn\\tyn\")\n",
    "    tn = ts[0]\n",
    "    yn = y0\n",
    "    for i in range(len(ts)-1):\n",
    "#        yprimen = F( yn, tn )\n",
    "        dt = ts[i+1] - ts[i]\n",
    "        tnp1 = ts[i+1]\n",
    "        ynp1 = solveTheta( yn, dt, tnp1, F, theta)\n",
    "#        dyn = dt*yprimen\n",
    "        print(f\"{tn}\\t{yn}\")\n",
    "        tn = tnp1\n",
    "        yn = ynp1\n",
    "    print(f\"{tn}\\t{yn}\")\n",
    "\n",
    "thetaEuler(F_ex1, y0_ex1, ts_ex1, 0.5)"
   ]
  },
  {
   "cell_type": "code",
   "execution_count": 20,
   "id": "831da798",
   "metadata": {},
   "outputs": [
    {
     "name": "stdout",
     "output_type": "stream",
     "text": [
      "tn\tyn\n",
      "0\t2\n",
      "0.1\t2.5555555555555554\n",
      "0.2\t3.2345679012345676\n",
      "0.3\t4.064471879286693\n"
     ]
    }
   ],
   "source": [
    "thetaEuler(F_ex3, y0_ex3, ts_ex3, 0.5)"
   ]
  },
  {
   "cell_type": "code",
   "execution_count": 21,
   "id": "af073a89",
   "metadata": {},
   "outputs": [],
   "source": [
    "# investigate accuracy with decreasing step size\n",
    "\n",
    "def sol_ex1( t ):\n",
    "    return 2 / ( 2 - t**2)\n",
    "\n",
    "def sol_ex2( t ):\n",
    "    return 2*t\n",
    "\n",
    "def sol_ex3( t ):\n",
    "    return 2.5*np.e**(2*t)-0.5\n",
    "\n"
   ]
  },
  {
   "cell_type": "code",
   "execution_count": 47,
   "id": "1bad91c8",
   "metadata": {},
   "outputs": [],
   "source": [
    "# Lets do a timestep of .3. Compare accurracy as timesteps to reach .3 increase with 10**N\n",
    "\n",
    "Ns = [ 0, 1, 2, 3, 4 ]\n",
    "\n",
    "N = 10\n",
    "# solve with N=10 for explicit Euler\n",
    "def tsf( N, t0 ):\n",
    "    return np.linspace( t0, t0+0.3, N+1 )\n",
    "\n",
    "def explicitEuler(F, y0, ts):\n",
    "    # For all t in ts it calculates next y with explicit euler\n",
    "    # prints tn, yn, y'n, dyn\n",
    "    # print(f\"tn\\tyn\\ty'n\\tdyn\")\n",
    "    tn = ts[0]\n",
    "    yn = y0\n",
    "    for i in range(len(ts)-1):\n",
    "        yprimen = F( yn, tn )\n",
    "        dt = ts[i+1] - ts[i]\n",
    "        dyn = dt*yprimen\n",
    "        # print(f\"{tn}\\t{yn}\\t{yprimen}\\t{dyn}\")\n",
    "        tn = ts[i+1]\n",
    "        yn += dyn\n",
    "    # print(f\"{tn}\\t{yn}\")\n",
    "    return yn\n",
    "\n"
   ]
  },
  {
   "cell_type": "code",
   "execution_count": 50,
   "id": "50a982c9",
   "metadata": {},
   "outputs": [
    {
     "name": "stdout",
     "output_type": "stream",
     "text": [
      "18.5 ms ± 3 ms per loop (mean ± std. dev. of 7 runs, 10 loops each)\n"
     ]
    }
   ],
   "source": [
    "%%timeit\n",
    "res_ee_ex1 = np.array([ explicitEuler(F_ex1, y0_ex1, tsf( 10**N, t0_ex1)) for N in Ns ])\n"
   ]
  },
  {
   "cell_type": "code",
   "execution_count": 59,
   "id": "4336e86f",
   "metadata": {},
   "outputs": [],
   "source": [
    "res_ee_ex1 = np.array([ explicitEuler(F_ex1, y0_ex1, tsf( 10**N, t0_ex1)) for N in Ns ])\n",
    "err_ee_ex1 = abs(res_ee_ex1 - np.array([ sol_ex1( 0.3 ) ]* len(res_ee_ex1)))"
   ]
  },
  {
   "cell_type": "code",
   "execution_count": 36,
   "id": "05254d42",
   "metadata": {},
   "outputs": [
    {
     "name": "stdout",
     "output_type": "stream",
     "text": [
      "172 ms ± 27 ms per loop (mean ± std. dev. of 7 runs, 1 loop each)\n"
     ]
    }
   ],
   "source": [
    "%%timeit\n",
    "res_ee_ex2 = np.array([ explicitEuler(F_ex2, y0_ex2, tsf( 10**N, t0_ex2)) for N in Ns ])\n"
   ]
  },
  {
   "cell_type": "code",
   "execution_count": 39,
   "id": "818030e9",
   "metadata": {},
   "outputs": [
    {
     "name": "stdout",
     "output_type": "stream",
     "text": [
      "[0. 0. 0. 0. 0. 0.]\n"
     ]
    }
   ],
   "source": [
    "res_ee_ex2 = np.array([ explicitEuler(F_ex2, y0_ex2, tsf( 10**N, t0_ex2)) for N in Ns ])\n",
    "print(res_ee_ex2 - np.array([ sol_ex2( 1.3 ) ]* len(res_ee_ex2)))"
   ]
  },
  {
   "cell_type": "code",
   "execution_count": 40,
   "id": "822f9b18",
   "metadata": {},
   "outputs": [
    {
     "name": "stdout",
     "output_type": "stream",
     "text": [
      "219 ms ± 20.9 ms per loop (mean ± std. dev. of 7 runs, 1 loop each)\n"
     ]
    }
   ],
   "source": [
    "%%timeit\n",
    "res_ee_ex3 = np.array([ explicitEuler(F_ex3, y0_ex3, tsf( 10**N, t0_ex3)) for N in Ns ])\n"
   ]
  },
  {
   "cell_type": "code",
   "execution_count": 41,
   "id": "b672f55a",
   "metadata": {},
   "outputs": [
    {
     "name": "stdout",
     "output_type": "stream",
     "text": [
      "[-5.55297001e-01 -7.81777596e-02 -8.15956680e-03 -8.19551894e-04\n",
      " -8.19913285e-05 -8.19949434e-06]\n"
     ]
    }
   ],
   "source": [
    "res_ee_ex3 = np.array([ explicitEuler(F_ex3, y0_ex3, tsf( 10**N, t0_ex3)) for N in Ns ])\n",
    "print(res_ee_ex3 - np.array([ sol_ex3( 0.3 ) ]* len(res_ee_ex3)))"
   ]
  },
  {
   "cell_type": "code",
   "execution_count": 42,
   "id": "0e469682",
   "metadata": {},
   "outputs": [],
   "source": [
    "def implicitEuler(F, y0, ts):\n",
    "    # For all t in ts it calculates next y with explicit euler\n",
    "    # prints tn, yn, y'n, dyn\n",
    "#    print(f\"tn\\tyn\")\n",
    "    tn = ts[0]\n",
    "    yn = y0\n",
    "    for i in range(len(ts)-1):\n",
    "#        yprimen = F( yn, tn )\n",
    "        dt = ts[i+1] - ts[i]\n",
    "        tnp1 = ts[i+1]\n",
    "        ynp1 = solveImplicit( yn, dt, tnp1, F)\n",
    "#        dyn = dt*yprimen\n",
    "#        print(f\"{tn}\\t{yn}\")\n",
    "        tn = tnp1\n",
    "        yn = ynp1\n",
    "#    print(f\"{tn}\\t{yn}\")\n",
    "    return yn\n"
   ]
  },
  {
   "cell_type": "code",
   "execution_count": 46,
   "id": "52aecbbc",
   "metadata": {},
   "outputs": [
    {
     "name": "stdout",
     "output_type": "stream",
     "text": [
      "1.7 s ± 297 ms per loop (mean ± std. dev. of 7 runs, 1 loop each)\n"
     ]
    }
   ],
   "source": [
    "%%timeit\n",
    "Ns = [ 0, 1, 2, 3, 4 ]\n",
    "res_ie_ex1 = np.array([ implicitEuler(F_ex1, y0_ex1, tsf( 10**N, t0_ex1)) for N in Ns ])\n"
   ]
  },
  {
   "cell_type": "code",
   "execution_count": 58,
   "id": "085a469f",
   "metadata": {},
   "outputs": [],
   "source": [
    "res_ie_ex1 = np.array([ implicitEuler(F_ex1, y0_ex1, tsf( 10**N, t0_ex1)) for N in Ns ])\n",
    "err_ie_ex1 = abs(res_ie_ex1 - np.array([ sol_ex1( 0.3 ) ]* len(res_ie_ex1)))"
   ]
  },
  {
   "cell_type": "code",
   "execution_count": 61,
   "id": "c006754b",
   "metadata": {},
   "outputs": [
    {
     "data": {
      "text/plain": [
       "[<matplotlib.lines.Line2D at 0x7fbaa0ea6898>]"
      ]
     },
     "execution_count": 61,
     "metadata": {},
     "output_type": "execute_result"
    },
    {
     "data": {
      "image/png": "[encoded data removed]",
      "text/plain": [
       "<Figure size 432x288 with 1 Axes>"
      ]
     },
     "metadata": {
      "needs_background": "light"
     },
     "output_type": "display_data"
    }
   ],
   "source": [
    "plt.semilogy(Ns, err_ee_ex1)\n",
    "plt.semilogy(Ns, err_ie_ex1)"
   ]
  },
  {
   "cell_type": "code",
   "execution_count": 62,
   "id": "edf47b69",
   "metadata": {},
   "outputs": [],
   "source": [
    "def thetaEuler(F, y0, ts, theta):\n",
    "    # For all t in ts it calculates next y with explicit euler\n",
    "    # prints tn, yn, y'n, dyn\n",
    "    # print(f\"tn\\tyn\")\n",
    "    tn = ts[0]\n",
    "    yn = y0\n",
    "    for i in range(len(ts)-1):\n",
    "#        yprimen = F( yn, tn )\n",
    "        dt = ts[i+1] - ts[i]\n",
    "        tnp1 = ts[i+1]\n",
    "        ynp1 = solveTheta( yn, dt, tnp1, F, theta)\n",
    "#        dyn = dt*yprimen\n",
    "    #    print(f\"{tn}\\t{yn}\")\n",
    "        tn = tnp1\n",
    "        yn = ynp1\n",
    "    # print(f\"{tn}\\t{yn}\")\n",
    "    return yn\n"
   ]
  },
  {
   "cell_type": "code",
   "execution_count": 64,
   "id": "6b52167c",
   "metadata": {},
   "outputs": [
    {
     "name": "stdout",
     "output_type": "stream",
     "text": [
      "2.06 s ± 197 ms per loop (mean ± std. dev. of 7 runs, 1 loop each)\n"
     ]
    }
   ],
   "source": [
    "%%timeit\n",
    "Ns = [ 0, 1, 2, 3, 4 ]\n",
    "res_te_ex1 = np.array([ thetaEuler(F_ex1, y0_ex1, tsf( 10**N, t0_ex1), 0.5) for N in Ns ])\n"
   ]
  },
  {
   "cell_type": "code",
   "execution_count": 65,
   "id": "c4603b55",
   "metadata": {},
   "outputs": [
    {
     "data": {
      "text/plain": [
       "array([2.45164989e-03, 2.37881417e-05, 2.37807868e-07, 2.37806974e-09,\n",
       "       2.37752040e-11])"
      ]
     },
     "execution_count": 65,
     "metadata": {},
     "output_type": "execute_result"
    }
   ],
   "source": [
    "res_te_ex1 = np.array([ thetaEuler(F_ex1, y0_ex1, tsf( 10**N, t0_ex1), 0.5) for N in Ns ])\n",
    "err_te_ex1 = abs(res_te_ex1 - np.array([ sol_ex1( 0.3 ) ]* len(res_te_ex1)))\n",
    "err_te_ex1"
   ]
  },
  {
   "cell_type": "code",
   "execution_count": 66,
   "id": "5e084ba9",
   "metadata": {},
   "outputs": [
    {
     "data": {
      "text/plain": [
       "[<matplotlib.lines.Line2D at 0x7fbaa1179be0>]"
      ]
     },
     "execution_count": 66,
     "metadata": {},
     "output_type": "execute_result"
    },
    {
     "data": {
      "image/png": "[encoded data removed]",
      "text/plain": [
       "<Figure size 432x288 with 1 Axes>"
      ]
     },
     "metadata": {
      "needs_background": "light"
     },
     "output_type": "display_data"
    }
   ],
   "source": [
    "plt.semilogy(Ns, err_ee_ex1)\n",
    "plt.semilogy(Ns, err_ie_ex1)\n",
    "plt.semilogy(Ns, err_te_ex1)\n"
   ]
  },
  {
   "cell_type": "code",
   "execution_count": null,
   "id": "93867ccb",
   "metadata": {},
   "outputs": [],
   "source": []
  }
 ],
 "metadata": {
  "kernelspec": {
   "display_name": "Python 3",
   "language": "python",
   "name": "python3"
  },
  "language_info": {
   "codemirror_mode": {
    "name": "ipython",
    "version": 3
   },
   "file_extension": ".py",
   "mimetype": "text/x-python",
   "name": "python",
   "nbconvert_exporter": "python",
   "pygments_lexer": "ipython3",
   "version": "3.6.8"
  }
 },
 "nbformat": 4,
 "nbformat_minor": 5
}
