{
 "cells": [
  {
   "cell_type": "code",
   "execution_count": 1,
   "id": "62041915",
   "metadata": {},
   "outputs": [
    {
     "data": {
      "text/plain": [
       "array([[1, 2, 3],\n",
       "       [4, 5, 6],\n",
       "       [7, 8, 9]])"
      ]
     },
     "execution_count": 1,
     "metadata": {},
     "output_type": "execute_result"
    }
   ],
   "source": [
    "import numpy as np\n",
    "\n",
    "A = np.array([\n",
    "    [1, 2, 3],\n",
    "    [4, 5, 6],\n",
    "    [7, 8, 9]\n",
    "])\n",
    "A"
   ]
  },
  {
   "cell_type": "code",
   "execution_count": 2,
   "id": "a56e8ca8",
   "metadata": {},
   "outputs": [
    {
     "data": {
      "text/plain": [
       "6.66133814775094e-16"
      ]
     },
     "execution_count": 2,
     "metadata": {},
     "output_type": "execute_result"
    }
   ],
   "source": [
    "np.linalg.det(A)"
   ]
  },
  {
   "cell_type": "code",
   "execution_count": 3,
   "id": "5da3752c",
   "metadata": {},
   "outputs": [
    {
     "data": {
      "text/plain": [
       "(array([ 1.61168440e+01, -1.11684397e+00, -1.30367773e-15]),\n",
       " array([[-0.23197069, -0.78583024,  0.40824829],\n",
       "        [-0.52532209, -0.08675134, -0.81649658],\n",
       "        [-0.8186735 ,  0.61232756,  0.40824829]]))"
      ]
     },
     "execution_count": 3,
     "metadata": {},
     "output_type": "execute_result"
    }
   ],
   "source": [
    "np.linalg.eig(A)"
   ]
  },
  {
   "cell_type": "code",
   "execution_count": 4,
   "id": "9025da69",
   "metadata": {},
   "outputs": [],
   "source": [
    "B = np.array([\n",
    "    [1, 2, 0],\n",
    "    [-1, 1, 2],\n",
    "    [3, 4, 7]\n",
    "])"
   ]
  },
  {
   "cell_type": "code",
   "execution_count": 5,
   "id": "780e027f",
   "metadata": {},
   "outputs": [
    {
     "data": {
      "text/plain": [
       "array([[ 1,  2,  0],\n",
       "       [-1,  1,  2],\n",
       "       [ 3,  4,  7]])"
      ]
     },
     "execution_count": 5,
     "metadata": {},
     "output_type": "execute_result"
    }
   ],
   "source": [
    "B"
   ]
  },
  {
   "cell_type": "code",
   "execution_count": 6,
   "id": "0d715744",
   "metadata": {},
   "outputs": [
    {
     "data": {
      "text/plain": [
       "array([[ 1,  4,  0],\n",
       "       [-4,  5, 12],\n",
       "       [21, 32, 63]])"
      ]
     },
     "execution_count": 6,
     "metadata": {},
     "output_type": "execute_result"
    }
   ],
   "source": [
    "A*B"
   ]
  },
  {
   "cell_type": "code",
   "execution_count": 7,
   "id": "58a0b94c",
   "metadata": {},
   "outputs": [
    {
     "data": {
      "text/plain": [
       "(array([[1, 2, 3],\n",
       "        [4, 5, 6],\n",
       "        [7, 8, 9]]),\n",
       " array([[ 1,  2,  0],\n",
       "        [-1,  1,  2],\n",
       "        [ 3,  4,  7]]),\n",
       " array([[ 1,  4,  0],\n",
       "        [-4,  5, 12],\n",
       "        [21, 32, 63]]))"
      ]
     },
     "execution_count": 7,
     "metadata": {},
     "output_type": "execute_result"
    }
   ],
   "source": [
    "A, B, A*B"
   ]
  },
  {
   "cell_type": "code",
   "execution_count": 8,
   "id": "fd05d5e6",
   "metadata": {},
   "outputs": [
    {
     "data": {
      "text/plain": [
       "array([[ 8, 16, 25],\n",
       "       [17, 37, 52],\n",
       "       [26, 58, 79]])"
      ]
     },
     "execution_count": 8,
     "metadata": {},
     "output_type": "execute_result"
    }
   ],
   "source": [
    "A@B"
   ]
  },
  {
   "cell_type": "code",
   "execution_count": 10,
   "id": "c60a286a",
   "metadata": {},
   "outputs": [
    {
     "data": {
      "text/plain": [
       "array([[ 8, 16, 25],\n",
       "       [17, 37, 52],\n",
       "       [26, 58, 79]])"
      ]
     },
     "execution_count": 10,
     "metadata": {},
     "output_type": "execute_result"
    }
   ],
   "source": [
    "np.dot(A, B)"
   ]
  },
  {
   "cell_type": "code",
   "execution_count": 11,
   "id": "67424eb8",
   "metadata": {},
   "outputs": [
    {
     "data": {
      "text/plain": [
       "array([[-0.04, -0.56,  0.16],\n",
       "       [ 0.52,  0.28, -0.08],\n",
       "       [-0.28,  0.08,  0.12]])"
      ]
     },
     "execution_count": 11,
     "metadata": {},
     "output_type": "execute_result"
    }
   ],
   "source": [
    "np.linalg.inv(B)"
   ]
  },
  {
   "cell_type": "markdown",
   "id": "a3ef1203",
   "metadata": {},
   "source": [
    "Solve the following system of linear equations:\n",
    "$$2x + 3y - 4z=2\\\\x-y+z=3\\\\-y-z=1$$"
   ]
  },
  {
   "cell_type": "code",
   "execution_count": 13,
   "id": "81a8db33",
   "metadata": {},
   "outputs": [
    {
     "data": {
      "text/plain": [
       "(array([[ 2,  3, -4],\n",
       "        [ 1, -1,  1],\n",
       "        [ 0, -1, -1]]),\n",
       " array([2, 3, 1]))"
      ]
     },
     "execution_count": 13,
     "metadata": {},
     "output_type": "execute_result"
    }
   ],
   "source": [
    "A = np.array([\n",
    "    [2, 3, -4],\n",
    "    [1, -1, 1],\n",
    "    [0, -1, -1]\n",
    "])\n",
    "b = np.array([\n",
    "    2,\n",
    "    3,\n",
    "    1\n",
    "])\n",
    "A, b"
   ]
  },
  {
   "cell_type": "code",
   "execution_count": 15,
   "id": "ee8e427c",
   "metadata": {},
   "outputs": [
    {
     "data": {
      "text/plain": [
       "11.000000000000002"
      ]
     },
     "execution_count": 15,
     "metadata": {},
     "output_type": "execute_result"
    }
   ],
   "source": [
    "np.linalg.det(A)"
   ]
  },
  {
   "cell_type": "code",
   "execution_count": 17,
   "id": "f6b526c2",
   "metadata": {},
   "outputs": [
    {
     "data": {
      "text/plain": [
       "array([ 2.18181818, -0.90909091, -0.09090909])"
      ]
     },
     "execution_count": 17,
     "metadata": {},
     "output_type": "execute_result"
    }
   ],
   "source": [
    "np.linalg.inv(A)@b"
   ]
  },
  {
   "cell_type": "code",
   "execution_count": 2,
   "id": "9a3f4817",
   "metadata": {},
   "outputs": [],
   "source": [
    "import sympy\n",
    "from sympy import Matrix\n"
   ]
  },
  {
   "cell_type": "code",
   "execution_count": 3,
   "id": "f26dc410",
   "metadata": {},
   "outputs": [
    {
     "data": {
      "text/latex": [
       "$\\displaystyle \\left[\\begin{matrix}2 & 3 & -4\\\\1 & -1 & 1\\\\0 & -1 & -1\\end{matrix}\\right]$"
      ],
      "text/plain": [
       "Matrix([\n",
       "[2,  3, -4],\n",
       "[1, -1,  1],\n",
       "[0, -1, -1]])"
      ]
     },
     "execution_count": 3,
     "metadata": {},
     "output_type": "execute_result"
    }
   ],
   "source": [
    "A = Matrix([\n",
    "    [2, 3, -4],\n",
    "    [1, -1, 1],\n",
    "    [0, -1, -1]\n",
    "])\n",
    "b = Matrix([\n",
    "    2,\n",
    "    3,\n",
    "    1\n",
    "])\n",
    "A"
   ]
  },
  {
   "cell_type": "code",
   "execution_count": 21,
   "id": "f0b6d1e9",
   "metadata": {},
   "outputs": [
    {
     "data": {
      "text/latex": [
       "$\\displaystyle \\left[\\begin{matrix}2\\\\3\\\\1\\end{matrix}\\right]$"
      ],
      "text/plain": [
       "Matrix([\n",
       "[2],\n",
       "[3],\n",
       "[1]])"
      ]
     },
     "execution_count": 21,
     "metadata": {},
     "output_type": "execute_result"
    }
   ],
   "source": [
    "b"
   ]
  },
  {
   "cell_type": "code",
   "execution_count": 22,
   "id": "654c8ec7",
   "metadata": {},
   "outputs": [
    {
     "data": {
      "text/latex": [
       "$\\displaystyle 11$"
      ],
      "text/plain": [
       "11"
      ]
     },
     "execution_count": 22,
     "metadata": {},
     "output_type": "execute_result"
    }
   ],
   "source": [
    "A.det()"
   ]
  },
  {
   "cell_type": "markdown",
   "id": "2e05bc52",
   "metadata": {},
   "source": [
    "Solve the following system of linear equations:\n",
    "$$2x + (3-p)y - 4z=2\\\\x-y+z=3\\\\-y-z=1$$"
   ]
  },
  {
   "cell_type": "code",
   "execution_count": 4,
   "id": "ebffa3bc",
   "metadata": {},
   "outputs": [
    {
     "data": {
      "text/latex": [
       "$\\displaystyle \\left[\\begin{matrix}2 & 3 - p & -4\\\\1 & -1 & 1\\\\0 & -1 & -1\\end{matrix}\\right]$"
      ],
      "text/plain": [
       "Matrix([\n",
       "[2, 3 - p, -4],\n",
       "[1,    -1,  1],\n",
       "[0,    -1, -1]])"
      ]
     },
     "execution_count": 4,
     "metadata": {},
     "output_type": "execute_result"
    }
   ],
   "source": [
    "p = sympy.symbols('p')\n",
    "A = Matrix([\n",
    "    [2, 3-p, -4],\n",
    "    [1, -1, 1],\n",
    "    [0, -1, -1]\n",
    "])\n",
    "A"
   ]
  },
  {
   "cell_type": "code",
   "execution_count": 25,
   "id": "1cfa397f",
   "metadata": {},
   "outputs": [
    {
     "data": {
      "text/latex": [
       "$\\displaystyle 11 - p$"
      ],
      "text/plain": [
       "11 - p"
      ]
     },
     "execution_count": 25,
     "metadata": {},
     "output_type": "execute_result"
    }
   ],
   "source": [
    "A.det()"
   ]
  },
  {
   "cell_type": "code",
   "execution_count": 26,
   "id": "df68cb9b",
   "metadata": {},
   "outputs": [
    {
     "data": {
      "text/latex": [
       "$\\displaystyle \\left[\\begin{matrix}\\frac{4}{22 - 2 p} & \\frac{p - 7}{p - 11} & \\frac{p + 1}{p - 11}\\\\\\frac{1}{11 - p} & - \\frac{2}{11 - p} & - \\frac{6}{11 - p}\\\\\\frac{1}{p - 11} & - \\frac{2}{p - 11} & \\frac{5 - p}{p - 11}\\end{matrix}\\right]$"
      ],
      "text/plain": [
       "Matrix([\n",
       "[4/(22 - 2*p), (p - 7)/(p - 11), (p + 1)/(p - 11)],\n",
       "[  1/(11 - p),      -2/(11 - p),      -6/(11 - p)],\n",
       "[  1/(p - 11),      -2/(p - 11), (5 - p)/(p - 11)]])"
      ]
     },
     "execution_count": 26,
     "metadata": {},
     "output_type": "execute_result"
    }
   ],
   "source": [
    "A.inv()"
   ]
  },
  {
   "cell_type": "code",
   "execution_count": 8,
   "id": "837d75e5",
   "metadata": {},
   "outputs": [],
   "source": [
    "x = A.inv() * b"
   ]
  },
  {
   "cell_type": "code",
   "execution_count": 9,
   "id": "3a547a0a",
   "metadata": {},
   "outputs": [
    {
     "data": {
      "text/latex": [
       "$\\displaystyle \\left[\\begin{matrix}\\frac{3 \\left(p - 7\\right)}{p - 11} + \\frac{p + 1}{p - 11} + \\frac{8}{22 - 2 p}\\\\- \\frac{10}{11 - p}\\\\\\frac{5 - p}{p - 11} - \\frac{4}{p - 11}\\end{matrix}\\right]$"
      ],
      "text/plain": [
       "Matrix([\n",
       "[3*(p - 7)/(p - 11) + (p + 1)/(p - 11) + 8/(22 - 2*p)],\n",
       "[                                        -10/(11 - p)],\n",
       "[                       (5 - p)/(p - 11) - 4/(p - 11)]])"
      ]
     },
     "execution_count": 9,
     "metadata": {},
     "output_type": "execute_result"
    }
   ],
   "source": [
    "x"
   ]
  },
  {
   "cell_type": "code",
   "execution_count": 10,
   "id": "b909be60",
   "metadata": {},
   "outputs": [
    {
     "data": {
      "text/latex": [
       "$\\displaystyle 2$"
      ],
      "text/plain": [
       "2"
      ]
     },
     "execution_count": 10,
     "metadata": {},
     "output_type": "execute_result"
    }
   ],
   "source": [
    "x.subs(p, 1)[0]"
   ]
  },
  {
   "cell_type": "code",
   "execution_count": 11,
   "id": "f36fc759",
   "metadata": {},
   "outputs": [
    {
     "data": {
      "text/plain": [
       "array([ 0. ,  0.2,  0.4,  0.6,  0.8,  1. ,  1.2,  1.4,  1.6,  1.8,  2. ,\n",
       "        2.2,  2.4,  2.6,  2.8,  3. ,  3.2,  3.4,  3.6,  3.8,  4. ,  4.2,\n",
       "        4.4,  4.6,  4.8,  5. ,  5.2,  5.4,  5.6,  5.8,  6. ,  6.2,  6.4,\n",
       "        6.6,  6.8,  7. ,  7.2,  7.4,  7.6,  7.8,  8. ,  8.2,  8.4,  8.6,\n",
       "        8.8,  9. ,  9.2,  9.4,  9.6,  9.8, 10. , 10.2, 10.4, 10.6, 10.8,\n",
       "       11.2, 11.4, 11.6, 11.8, 12. , 12.2, 12.4, 12.6, 12.8, 13. , 13.2,\n",
       "       13.4, 13.6, 13.8, 14. , 14.2, 14.4, 14.6, 14.8, 15. , 15.2, 15.4,\n",
       "       15.6, 15.8, 16. , 16.2, 16.4, 16.6, 16.8, 17. , 17.2, 17.4, 17.6,\n",
       "       17.8, 18. , 18.2, 18.4, 18.6, 18.8, 19. , 19.2, 19.4, 19.6, 19.8,\n",
       "       20. ])"
      ]
     },
     "execution_count": 11,
     "metadata": {},
     "output_type": "execute_result"
    }
   ],
   "source": [
    "ps = np.linspace(0, 20, 101)\n",
    "ps = ps[ps!=11]\n",
    "ps"
   ]
  },
  {
   "cell_type": "code",
   "execution_count": 12,
   "id": "1ba8cd9e",
   "metadata": {},
   "outputs": [
    {
     "data": {
      "text/plain": [
       "<matplotlib.legend.Legend at 0x7fad285fae10>"
      ]
     },
     "execution_count": 12,
     "metadata": {},
     "output_type": "execute_result"
    },
    {
     "data": {
      "image/png": "[encoded data removed]",
      "text/plain": [
       "<Figure size 432x288 with 1 Axes>"
      ]
     },
     "metadata": {
      "needs_background": "light"
     },
     "output_type": "display_data"
    }
   ],
   "source": [
    "xx = [ x.subs(p, p_)[0] for p_ in ps]\n",
    "xy = [ x.subs(p, p_)[1] for p_ in ps]\n",
    "xz = [ x.subs(p, p_)[2] for p_ in ps]\n",
    "\n",
    "from matplotlib import pyplot as plt\n",
    "plt.plot(ps, xx, label=\"x\")\n",
    "plt.plot(ps, xy, label=\"y\")\n",
    "plt.plot(ps, xz, label=\"z\")\n",
    "plt.legend(loc=1)\n"
   ]
  },
  {
   "cell_type": "markdown",
   "id": "99a620e4",
   "metadata": {},
   "source": [
    "Solve the following system of linear equations:\n",
    "$$2x + 3y=2\\\\x-y=3\\\\-x-y=1$$"
   ]
  },
  {
   "cell_type": "markdown",
   "id": "4d496799",
   "metadata": {},
   "source": [
    "Gaussian normal equation\n",
    "If\n",
    "$$B\\cdot x = b$$\n",
    "Where $B$ is not a square matrix, less unknowns than equations, then\n",
    "$$(B^T\\cdot B)\\cdot x = B^T\\cdot b$$\n",
    "$$x=(B^T\\cdot B)^{-1}\\cdot B^T\\cdot b$$\n",
    "gives $x$ that gives us minimum error w.r.t. 2nd order norm.\n",
    "\n",
    "$$2x + 3y-2=\\epsilon_1\\\\x-y-3=\\epsilon_2\\\\-x-y-1=\\epsilon_3$$\n",
    "$$\\epsilon_1^2+\\epsilon_2^2+\\epsilon_3^2 \\to min$$\n",
    "$$L_2(\\epsilon) = \\epsilon_1^2+\\epsilon_2^2+\\epsilon_3^2 \\to min$$"
   ]
  },
  {
   "cell_type": "code",
   "execution_count": 14,
   "id": "6f0ffc9c",
   "metadata": {},
   "outputs": [
    {
     "data": {
      "text/latex": [
       "$\\displaystyle \\left[\\begin{matrix}2 & 3\\\\1 & -1\\\\-1 & -1\\end{matrix}\\right]$"
      ],
      "text/plain": [
       "Matrix([\n",
       "[ 2,  3],\n",
       "[ 1, -1],\n",
       "[-1, -1]])"
      ]
     },
     "execution_count": 14,
     "metadata": {},
     "output_type": "execute_result"
    }
   ],
   "source": [
    "B = Matrix ([\n",
    "    [2,3],\n",
    "    [1,-1],\n",
    "    [-1,-1]\n",
    "])\n",
    "B"
   ]
  },
  {
   "cell_type": "code",
   "execution_count": 15,
   "id": "4599036a",
   "metadata": {},
   "outputs": [
    {
     "data": {
      "text/latex": [
       "$\\displaystyle \\left[\\begin{matrix}2\\\\3\\\\1\\end{matrix}\\right]$"
      ],
      "text/plain": [
       "Matrix([\n",
       "[2],\n",
       "[3],\n",
       "[1]])"
      ]
     },
     "execution_count": 15,
     "metadata": {},
     "output_type": "execute_result"
    }
   ],
   "source": [
    "b = Matrix([2, 3, 1])\n",
    "b"
   ]
  },
  {
   "cell_type": "code",
   "execution_count": 16,
   "id": "54a258fb",
   "metadata": {},
   "outputs": [],
   "source": [
    "x, y = sympy.symbols(\"x,y\")"
   ]
  },
  {
   "cell_type": "code",
   "execution_count": 17,
   "id": "bbee1113",
   "metadata": {},
   "outputs": [
    {
     "data": {
      "text/latex": [
       "$\\displaystyle \\left[\\begin{matrix}6 x + 6 y - 6\\\\6 x + 11 y - 2\\end{matrix}\\right]$"
      ],
      "text/plain": [
       "Matrix([\n",
       "[ 6*x + 6*y - 6],\n",
       "[6*x + 11*y - 2]])"
      ]
     },
     "execution_count": 17,
     "metadata": {},
     "output_type": "execute_result"
    }
   ],
   "source": [
    "(B.T*B)*Matrix([x, y])-B.T*b"
   ]
  },
  {
   "cell_type": "code",
   "execution_count": 18,
   "id": "368bb300",
   "metadata": {},
   "outputs": [
    {
     "data": {
      "text/latex": [
       "$\\displaystyle \\left[\\begin{matrix}\\frac{9}{5}\\\\- \\frac{4}{5}\\end{matrix}\\right]$"
      ],
      "text/plain": [
       "Matrix([\n",
       "[ 9/5],\n",
       "[-4/5]])"
      ]
     },
     "execution_count": 18,
     "metadata": {},
     "output_type": "execute_result"
    }
   ],
   "source": [
    "(B.T*B).inv()*(B.T*b)"
   ]
  },
  {
   "cell_type": "markdown",
   "id": "52b447fd",
   "metadata": {},
   "source": [
    "# Tasks\n",
    "1. Solve:\n",
    "$$x+y-z=3\\\\x-3y-2z=2\\\\-x-y-4z=10$$\n",
    "2. Solve:\n",
    "$$x+y-pz=3\\\\x-3y-2z=2\\\\-x-y-4z=10$$\n",
    "3. Solve:\n",
    "$$x+y=3\\\\x-3y=2\\\\-x-y=10$$\n"
   ]
  },
  {
   "cell_type": "code",
   "execution_count": 19,
   "id": "21bfd1ac",
   "metadata": {},
   "outputs": [
    {
     "data": {
      "text/plain": [
       "(array([[ 1,  1, -1],\n",
       "        [ 1, -3, -2],\n",
       "        [-1, -1, -4]]),\n",
       " array([ 3,  2, 10]))"
      ]
     },
     "execution_count": 19,
     "metadata": {},
     "output_type": "execute_result"
    }
   ],
   "source": [
    "# 1\n",
    "A = np.array([\n",
    "    [1, 1, -1],\n",
    "    [1, -3, -2],\n",
    "    [-1, -1, -4]\n",
    "])\n",
    "b = np.array([\n",
    "    3,\n",
    "    2,\n",
    "    10\n",
    "])\n",
    "A, b"
   ]
  },
  {
   "cell_type": "code",
   "execution_count": 20,
   "id": "01319c1f",
   "metadata": {},
   "outputs": [
    {
     "data": {
      "text/plain": [
       "19.999999999999996"
      ]
     },
     "execution_count": 20,
     "metadata": {},
     "output_type": "execute_result"
    }
   ],
   "source": [
    "np.linalg.det(A)"
   ]
  },
  {
   "cell_type": "code",
   "execution_count": 21,
   "id": "32b93079",
   "metadata": {},
   "outputs": [
    {
     "data": {
      "text/plain": [
       "array([-0.5,  0.9, -2.6])"
      ]
     },
     "execution_count": 21,
     "metadata": {},
     "output_type": "execute_result"
    }
   ],
   "source": [
    "np.linalg.inv(A)@b"
   ]
  },
  {
   "cell_type": "code",
   "execution_count": 31,
   "id": "42f9bc52",
   "metadata": {},
   "outputs": [
    {
     "data": {
      "text/plain": [
       "(Matrix([\n",
       " [ 1,  1, -p],\n",
       " [ 1, -3, -2],\n",
       " [-1, -1, -4]]),\n",
       " Matrix([\n",
       " [ 3],\n",
       " [ 2],\n",
       " [10]]))"
      ]
     },
     "execution_count": 31,
     "metadata": {},
     "output_type": "execute_result"
    }
   ],
   "source": [
    "# 2 \n",
    "p = sympy.symbols('p')\n",
    "A = Matrix([\n",
    "    [1, 1, -p],\n",
    "    [1, -3, -2],\n",
    "    [-1, -1, -4]\n",
    "])\n",
    "b = Matrix([\n",
    "    3,\n",
    "    2,\n",
    "    10\n",
    "])\n",
    "A, b"
   ]
  },
  {
   "cell_type": "code",
   "execution_count": 32,
   "id": "7f21aff9",
   "metadata": {},
   "outputs": [
    {
     "data": {
      "text/latex": [
       "$\\displaystyle 4 p + 16$"
      ],
      "text/plain": [
       "4*p + 16"
      ]
     },
     "execution_count": 32,
     "metadata": {},
     "output_type": "execute_result"
    }
   ],
   "source": [
    "A.det()"
   ]
  },
  {
   "cell_type": "code",
   "execution_count": 33,
   "id": "d7a131ca",
   "metadata": {},
   "outputs": [
    {
     "data": {
      "text/latex": [
       "$\\displaystyle \\left[\\begin{matrix}\\frac{10 \\left(- 3 p - 2\\right)}{4 p + 16} + \\frac{1}{2} + \\frac{30}{4 p + 16}\\\\\\frac{10 \\left(2 - p\\right)}{4 p + 16} - \\frac{1}{2} + \\frac{18}{4 p + 16}\\\\\\frac{13}{- p - 4}\\end{matrix}\\right]$"
      ],
      "text/plain": [
       "Matrix([\n",
       "[10*(-3*p - 2)/(4*p + 16) + 1/2 + 30/(4*p + 16)],\n",
       "[   10*(2 - p)/(4*p + 16) - 1/2 + 18/(4*p + 16)],\n",
       "[                                   13/(-p - 4)]])"
      ]
     },
     "execution_count": 33,
     "metadata": {},
     "output_type": "execute_result"
    }
   ],
   "source": [
    "x = A.inv() * b\n",
    "x"
   ]
  },
  {
   "cell_type": "code",
   "execution_count": 34,
   "id": "56aaad61",
   "metadata": {},
   "outputs": [
    {
     "data": {
      "text/latex": [
       "$\\displaystyle - \\frac{1}{2}$"
      ],
      "text/plain": [
       "-1/2"
      ]
     },
     "execution_count": 34,
     "metadata": {},
     "output_type": "execute_result"
    }
   ],
   "source": [
    "x.subs(p, 1)[0]"
   ]
  },
  {
   "cell_type": "code",
   "execution_count": 35,
   "id": "aba907b6",
   "metadata": {},
   "outputs": [
    {
     "data": {
      "text/plain": [
       "array([ 0. ,  0.2,  0.4,  0.6,  0.8,  1. ,  1.2,  1.4,  1.6,  1.8,  2. ,\n",
       "        2.2,  2.4,  2.6,  2.8,  3. ,  3.2,  3.4,  3.6,  3.8,  4. ,  4.2,\n",
       "        4.4,  4.6,  4.8,  5. ,  5.2,  5.4,  5.6,  5.8,  6. ,  6.2,  6.4,\n",
       "        6.6,  6.8,  7. ,  7.2,  7.4,  7.6,  7.8,  8. ,  8.2,  8.4,  8.6,\n",
       "        8.8,  9. ,  9.2,  9.4,  9.6,  9.8, 10. , 10.2, 10.4, 10.6, 10.8,\n",
       "       11. , 11.2, 11.4, 11.6, 11.8, 12. , 12.2, 12.4, 12.6, 12.8, 13. ,\n",
       "       13.2, 13.4, 13.6, 13.8, 14. , 14.2, 14.4, 14.6, 14.8, 15. , 15.2,\n",
       "       15.4, 15.6, 15.8, 16. , 16.2, 16.4, 16.6, 16.8, 17. , 17.2, 17.4,\n",
       "       17.6, 17.8, 18. , 18.2, 18.4, 18.6, 18.8, 19. , 19.2, 19.4, 19.6,\n",
       "       19.8, 20. ])"
      ]
     },
     "execution_count": 35,
     "metadata": {},
     "output_type": "execute_result"
    }
   ],
   "source": [
    "ps = np.linspace(0, 20, 101)\n",
    "ps = ps[ps!=-4]\n",
    "ps"
   ]
  },
  {
   "cell_type": "code",
   "execution_count": 36,
   "id": "b53564a1",
   "metadata": {},
   "outputs": [
    {
     "data": {
      "text/plain": [
       "<matplotlib.legend.Legend at 0x7fad28437048>"
      ]
     },
     "execution_count": 36,
     "metadata": {},
     "output_type": "execute_result"
    },
    {
     "data": {
      "image/png": "[encoded data removed]",
      "text/plain": [
       "<Figure size 432x288 with 1 Axes>"
      ]
     },
     "metadata": {
      "needs_background": "light"
     },
     "output_type": "display_data"
    }
   ],
   "source": [
    "xx = [ x.subs(p, p_)[0] for p_ in ps]\n",
    "xy = [ x.subs(p, p_)[1] for p_ in ps]\n",
    "xz = [ x.subs(p, p_)[2] for p_ in ps]\n",
    "\n",
    "from matplotlib import pyplot as plt\n",
    "plt.plot(ps, xx, label=\"x\")\n",
    "plt.plot(ps, xy, label=\"y\")\n",
    "plt.plot(ps, xz, label=\"z\")\n",
    "plt.legend(loc=1)\n"
   ]
  },
  {
   "cell_type": "code",
   "execution_count": 37,
   "id": "1230e969",
   "metadata": {},
   "outputs": [
    {
     "data": {
      "text/plain": [
       "(Matrix([\n",
       " [ 1,  1],\n",
       " [ 1, -3],\n",
       " [-1, -1]]),\n",
       " Matrix([\n",
       " [ 3],\n",
       " [ 2],\n",
       " [10]]))"
      ]
     },
     "execution_count": 37,
     "metadata": {},
     "output_type": "execute_result"
    }
   ],
   "source": [
    "# 3\n",
    "B = Matrix ([\n",
    "    [1,1],\n",
    "    [1,-3],\n",
    "    [-1,-1]\n",
    "])\n",
    "b = Matrix([3, 2, 10])\n",
    "B,b"
   ]
  },
  {
   "cell_type": "code",
   "execution_count": 38,
   "id": "4d581880",
   "metadata": {},
   "outputs": [],
   "source": [
    "x, y = sympy.symbols(\"x,y\")"
   ]
  },
  {
   "cell_type": "code",
   "execution_count": 39,
   "id": "102f3839",
   "metadata": {},
   "outputs": [
    {
     "data": {
      "text/latex": [
       "$\\displaystyle \\left[\\begin{matrix}3 x - y + 5\\\\- x + 11 y + 13\\end{matrix}\\right]$"
      ],
      "text/plain": [
       "Matrix([\n",
       "[   3*x - y + 5],\n",
       "[-x + 11*y + 13]])"
      ]
     },
     "execution_count": 39,
     "metadata": {},
     "output_type": "execute_result"
    }
   ],
   "source": [
    "(B.T*B)*Matrix([x, y])-B.T*b"
   ]
  },
  {
   "cell_type": "code",
   "execution_count": 40,
   "id": "8299b227",
   "metadata": {},
   "outputs": [
    {
     "data": {
      "text/latex": [
       "$\\displaystyle \\left[\\begin{matrix}- \\frac{17}{8}\\\\- \\frac{11}{8}\\end{matrix}\\right]$"
      ],
      "text/plain": [
       "Matrix([\n",
       "[-17/8],\n",
       "[-11/8]])"
      ]
     },
     "execution_count": 40,
     "metadata": {},
     "output_type": "execute_result"
    }
   ],
   "source": [
    "(B.T*B).inv()*(B.T*b)"
   ]
  },
  {
   "cell_type": "code",
   "execution_count": 41,
   "id": "08122cf5",
   "metadata": {},
   "outputs": [
    {
     "data": {
      "text/plain": [
       "[<matplotlib.lines.Line2D at 0x7fad283b9240>]"
      ]
     },
     "execution_count": 41,
     "metadata": {},
     "output_type": "execute_result"
    },
    {
     "data": {
      "image/png": "[encoded data removed]",
      "text/plain": [
       "<Figure size 432x288 with 1 Axes>"
      ]
     },
     "metadata": {
      "needs_background": "light"
     },
     "output_type": "display_data"
    }
   ],
   "source": [
    "x = np.linspace(0, 1, 101)\n",
    "y = 1 + x + x*np.random.random(len(x))\n",
    "plt.plot(x,y, '.')"
   ]
  },
  {
   "cell_type": "code",
   "execution_count": 42,
   "id": "2df54c5d",
   "metadata": {},
   "outputs": [
    {
     "name": "stdout",
     "output_type": "stream",
     "text": [
      "[1.57298426 0.9726546 ]\n"
     ]
    },
    {
     "data": {
      "image/png": "[encoded data removed]",
      "text/plain": [
       "<Figure size 432x288 with 1 Axes>"
      ]
     },
     "metadata": {
      "needs_background": "light"
     },
     "output_type": "display_data"
    }
   ],
   "source": [
    "coeffs = np.polyfit(x, y, 1)\n",
    "yfit = np.polyval(coeffs, x)\n",
    "plt.plot(x,y, '.')\n",
    "plt.plot(x, yfit)\n",
    "print(coeffs)"
   ]
  },
  {
   "cell_type": "code",
   "execution_count": 43,
   "id": "5024735a",
   "metadata": {},
   "outputs": [
    {
     "data": {
      "text/plain": [
       "[<matplotlib.lines.Line2D at 0x7fad283110f0>]"
      ]
     },
     "execution_count": 43,
     "metadata": {},
     "output_type": "execute_result"
    },
    {
     "data": {
      "image/png": "[encoded data removed]",
      "text/plain": [
       "<Figure size 432x288 with 1 Axes>"
      ]
     },
     "metadata": {
      "needs_background": "light"
     },
     "output_type": "display_data"
    }
   ],
   "source": [
    "x = np.linspace(0, 10, 101)\n",
    "y = 0.1*np.exp(0.3*x)+0.1*np.random.random(len(x))\n",
    "plt.plot(x, y, '.')"
   ]
  },
  {
   "cell_type": "code",
   "execution_count": 44,
   "id": "e54adefa",
   "metadata": {},
   "outputs": [
    {
     "name": "stdout",
     "output_type": "stream",
     "text": [
      "[ 0.16788812 -0.1499573 ]\n"
     ]
    },
    {
     "data": {
      "image/png": "[encoded data removed]",
      "text/plain": [
       "<Figure size 432x288 with 1 Axes>"
      ]
     },
     "metadata": {
      "needs_background": "light"
     },
     "output_type": "display_data"
    }
   ],
   "source": [
    "coeffs = np.polyfit(x, y, 1)\n",
    "yfit = np.polyval(coeffs, x)\n",
    "plt.plot(x,y, '.')\n",
    "plt.plot(x, yfit)\n",
    "print(coeffs)"
   ]
  },
  {
   "cell_type": "code",
   "execution_count": 45,
   "id": "b8e237ac",
   "metadata": {},
   "outputs": [
    {
     "name": "stdout",
     "output_type": "stream",
     "text": [
      "[ 0.0231708  -0.06381992  0.23236096]\n"
     ]
    },
    {
     "data": {
      "image/png": "[encoded data removed]",
      "text/plain": [
       "<Figure size 432x288 with 1 Axes>"
      ]
     },
     "metadata": {
      "needs_background": "light"
     },
     "output_type": "display_data"
    }
   ],
   "source": [
    "coeffs = np.polyfit(x, y, 2)\n",
    "yfit = np.polyval(coeffs, x)\n",
    "plt.plot(x,y, '.')\n",
    "plt.plot(x, yfit)\n",
    "print(coeffs)"
   ]
  },
  {
   "cell_type": "code",
   "execution_count": 46,
   "id": "89b6fe77",
   "metadata": {},
   "outputs": [
    {
     "name": "stdout",
     "output_type": "stream",
     "text": [
      "[ 0.00215291 -0.00912283  0.06471306  0.12792334]\n"
     ]
    },
    {
     "data": {
      "image/png": "[encoded data removed]",
      "text/plain": [
       "<Figure size 432x288 with 1 Axes>"
      ]
     },
     "metadata": {
      "needs_background": "light"
     },
     "output_type": "display_data"
    }
   ],
   "source": [
    "coeffs = np.polyfit(x, y, 3)\n",
    "yfit = np.polyval(coeffs, x)\n",
    "plt.plot(x,y, '.')\n",
    "plt.plot(x, yfit)\n",
    "print(coeffs)"
   ]
  },
  {
   "cell_type": "code",
   "execution_count": 48,
   "id": "75ca7bc5",
   "metadata": {},
   "outputs": [
    {
     "name": "stdout",
     "output_type": "stream",
     "text": [
      "[ 0.00215291 -0.00912283  0.06471306  0.12792334]\n"
     ]
    },
    {
     "data": {
      "image/png": "[encoded data removed]",
      "text/plain": [
       "<Figure size 432x288 with 1 Axes>"
      ]
     },
     "metadata": {
      "needs_background": "light"
     },
     "output_type": "display_data"
    }
   ],
   "source": [
    "xfit = np.linspace(-5, 15, 201)\n",
    "yfit = np.polyval(coeffs, xfit)\n",
    "plt.plot(x,y, '.')\n",
    "plt.plot(xfit, yfit)\n",
    "print(coeffs)"
   ]
  },
  {
   "cell_type": "code",
   "execution_count": 49,
   "id": "ef66b92f",
   "metadata": {},
   "outputs": [
    {
     "data": {
      "text/plain": [
       "[<matplotlib.lines.Line2D at 0x7fad2806e6d8>]"
      ]
     },
     "execution_count": 49,
     "metadata": {},
     "output_type": "execute_result"
    },
    {
     "data": {
      "image/png": "[encoded data removed]",
      "text/plain": [
       "<Figure size 432x288 with 1 Axes>"
      ]
     },
     "metadata": {
      "needs_background": "light"
     },
     "output_type": "display_data"
    }
   ],
   "source": [
    "x2 = np.linspace(-5, 15, 201)\n",
    "y2 = 0.1*np.exp(0.3*x2)+0.3*np.random.random(len(x2))\n",
    "plt.plot(x2,y2, '.')\n",
    "plt.plot(xfit, yfit)"
   ]
  },
  {
   "cell_type": "code",
   "execution_count": 50,
   "id": "35c9a9c6",
   "metadata": {},
   "outputs": [
    {
     "data": {
      "text/plain": [
       "[<matplotlib.lines.Line2D at 0x7fad27fff8d0>]"
      ]
     },
     "execution_count": 50,
     "metadata": {},
     "output_type": "execute_result"
    },
    {
     "data": {
      "image/png": "[encoded data removed]",
      "text/plain": [
       "<Figure size 432x288 with 1 Axes>"
      ]
     },
     "metadata": {
      "needs_background": "light"
     },
     "output_type": "display_data"
    }
   ],
   "source": [
    "# Task:\n",
    "x = np.linspace(0, np.pi/2, 100)\n",
    "y = 2*np.sin(2*x)+0.3*x*np.random.random(len(x))\n",
    "\n",
    "plt.plot(x, y, '.')\n",
    "\n",
    "# Task 1: find a good fit with polynomial\n",
    "# Task 2: examine extrapolation accuracy on (0, np.pi)\n"
   ]
  },
  {
   "cell_type": "code",
   "execution_count": 54,
   "id": "651e1f8c",
   "metadata": {},
   "outputs": [
    {
     "name": "stdout",
     "output_type": "stream",
     "text": [
      "[-0.12936579 -3.01228083  5.17830947 -0.07657569]\n"
     ]
    },
    {
     "data": {
      "image/png": "[encoded data removed]",
      "text/plain": [
       "<Figure size 432x288 with 1 Axes>"
      ]
     },
     "metadata": {
      "needs_background": "light"
     },
     "output_type": "display_data"
    }
   ],
   "source": [
    "coeffs = np.polyfit(x, y, 3)\n",
    "xfit = np.linspace(0, np.pi/2, 201)\n",
    "yfit = np.polyval(coeffs, xfit)\n",
    "plt.plot(x,y, '.')\n",
    "plt.plot(xfit, yfit)\n",
    "print(coeffs)"
   ]
  },
  {
   "cell_type": "code",
   "execution_count": 55,
   "id": "4482ec44",
   "metadata": {},
   "outputs": [
    {
     "data": {
      "text/plain": [
       "[<matplotlib.lines.Line2D at 0x7fad280f5438>]"
      ]
     },
     "execution_count": 55,
     "metadata": {},
     "output_type": "execute_result"
    },
    {
     "data": {
      "image/png": "[encoded data removed]",
      "text/plain": [
       "<Figure size 432x288 with 1 Axes>"
      ]
     },
     "metadata": {
      "needs_background": "light"
     },
     "output_type": "display_data"
    }
   ],
   "source": [
    "x = np.linspace(0, np.pi, 200)\n",
    "y = 2*np.sin(2*x)+0.3*x*np.random.random(len(x))\n",
    "\n",
    "plt.plot(x, y, '.')"
   ]
  },
  {
   "cell_type": "code",
   "execution_count": 60,
   "id": "d3a3dd6a",
   "metadata": {},
   "outputs": [
    {
     "name": "stdout",
     "output_type": "stream",
     "text": [
      "[ 1.49203715 -7.02640357  7.75533153 -0.39546224]\n"
     ]
    },
    {
     "data": {
      "image/png": "[encoded data removed]",
      "text/plain": [
       "<Figure size 432x288 with 1 Axes>"
      ]
     },
     "metadata": {
      "needs_background": "light"
     },
     "output_type": "display_data"
    }
   ],
   "source": [
    "coeffs = np.polyfit(x, y, 3)\n",
    "xfit = np.linspace(0, np.pi, 401)\n",
    "yfit = np.polyval(coeffs, xfit)\n",
    "plt.plot(x,y, '.')\n",
    "plt.plot(xfit, yfit)\n",
    "print(coeffs)"
   ]
  },
  {
   "cell_type": "code",
   "execution_count": null,
   "id": "ad3b7792",
   "metadata": {},
   "outputs": [],
   "source": []
  }
 ],
 "metadata": {
  "kernelspec": {
   "display_name": "Python 3",
   "language": "python",
   "name": "python3"
  },
  "language_info": {
   "codemirror_mode": {
    "name": "ipython",
    "version": 3
   },
   "file_extension": ".py",
   "mimetype": "text/x-python",
   "name": "python",
   "nbconvert_exporter": "python",
   "pygments_lexer": "ipython3",
   "version": "3.6.8"
  }
 },
 "nbformat": 4,
 "nbformat_minor": 5
}
