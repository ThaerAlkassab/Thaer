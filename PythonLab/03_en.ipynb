{
 "cells": [
  {
   "cell_type": "markdown",
   "metadata": {},
   "source": [
    "## [Standard streams](https://en.wikipedia.org/wiki/Standard_streams)\n",
    "\n",
    "The operating system assigns 3 standard streams to each process at startup: [standard input](https://docs.python.org/3/library/sys.html#sys.stdin), [standard output](https://docs.python.org/3/library/sys.html#sys.stdout) and [standard error](https://docs.python.org/3/library/sys.html#sys.stderr). By default, standard input is connected to the keyboard, standard output and error are connected to the display. This setting can be changed, e.g. the standard input can come from a file or another program, the standard output can be directed to a file or another program."
   ]
  },
  {
   "cell_type": "markdown",
   "metadata": {},
   "source": [
    "### Standard input\n",
    "\n",
    "- We can read from the standard input using the [input](https://docs.python.org/3/library/functions.html#input) function.\n",
    "- The type of the result is string. Conversion is needed to obtain a different data type."
   ]
  },
  {
   "cell_type": "code",
   "execution_count": null,
   "metadata": {},
   "outputs": [],
   "source": [
    "# Read input of type string.\n",
    "s = input(\"What's your name? \")"
   ]
  },
  {
   "cell_type": "code",
   "execution_count": null,
   "metadata": {},
   "outputs": [],
   "source": [
    "s"
   ]
  },
  {
   "cell_type": "code",
   "execution_count": null,
   "metadata": {},
   "outputs": [],
   "source": [
    "# Read integer input.\n",
    "i = int(input('Enter an integer: '))"
   ]
  },
  {
   "cell_type": "code",
   "execution_count": null,
   "metadata": {},
   "outputs": [],
   "source": [
    "i"
   ]
  },
  {
   "cell_type": "markdown",
   "metadata": {},
   "source": [
    "### Standard output and error\n",
    "\n",
    "- We can write to the standard output and error using the [print](https://docs.python.org/3/library/functions.html#print) function."
   ]
  },
  {
   "cell_type": "code",
   "execution_count": 9,
   "metadata": {},
   "outputs": [
    {
     "name": "stdout",
     "output_type": "stream",
     "text": [
      "hello\n",
      "bello\n"
     ]
    }
   ],
   "source": [
    "# Printing to the standard output.\n",
    "print('hello')\n",
    "print('bello')"
   ]
  },
  {
   "cell_type": "code",
   "execution_count": 12,
   "metadata": {},
   "outputs": [
    {
     "name": "stdout",
     "output_type": "stream",
     "text": [
      "hellobello"
     ]
    }
   ],
   "source": [
    "# Printing into the same line.\n",
    "print('hello', end='')\n",
    "print('bello', end='')"
   ]
  },
  {
   "cell_type": "code",
   "execution_count": 13,
   "metadata": {},
   "outputs": [
    {
     "name": "stdout",
     "output_type": "stream",
     "text": [
      "\n"
     ]
    }
   ],
   "source": [
    "# Printing a line break.\n",
    "print()"
   ]
  },
  {
   "cell_type": "code",
   "execution_count": 15,
   "metadata": {},
   "outputs": [
    {
     "name": "stderr",
     "output_type": "stream",
     "text": [
      "There was an error!\n"
     ]
    }
   ],
   "source": [
    "# Printing to standard error.\n",
    "import sys\n",
    "print('There was an error!', file=sys.stderr)"
   ]
  },
  {
   "cell_type": "markdown",
   "metadata": {},
   "source": [
    "### [Output formatting](https://docs.python.org/3/tutorial/inputoutput.html#fancier-output-formatting)"
   ]
  },
  {
   "cell_type": "code",
   "execution_count": 16,
   "metadata": {},
   "outputs": [
    {
     "name": "stdout",
     "output_type": "stream",
     "text": [
      "Hello, Tom!\n"
     ]
    }
   ],
   "source": [
    "# Output formatting using an f-string.\n",
    "name = 'Tom'\n",
    "print(f'Hello, {name}!')"
   ]
  },
  {
   "cell_type": "code",
   "execution_count": 19,
   "metadata": {},
   "outputs": [
    {
     "name": "stdout",
     "output_type": "stream",
     "text": [
      "the value is 1.9\n"
     ]
    }
   ],
   "source": [
    "# Printing with 1 decimal place accuracy.\n",
    "f = 1.872\n",
    "print(f'the value is {f:.1f}')"
   ]
  },
  {
   "cell_type": "code",
   "execution_count": 20,
   "metadata": {},
   "outputs": [
    {
     "name": "stdout",
     "output_type": "stream",
     "text": [
      "i: 42, s: bar\n"
     ]
    }
   ],
   "source": [
    "# Printing an integer and a string.\n",
    "i = 42\n",
    "s = 'bar'\n",
    "print(f'i: {i}, s: {s}')"
   ]
  },
  {
   "cell_type": "code",
   "execution_count": 21,
   "metadata": {},
   "outputs": [
    {
     "data": {
      "text/plain": [
       "'i: 42, s: bar'"
      ]
     },
     "execution_count": 21,
     "metadata": {},
     "output_type": "execute_result"
    }
   ],
   "source": [
    "# Remark: A f-strings can be used without printing, as a string operation.\n",
    "f'i: {i}, s: {s}'"
   ]
  },
  {
   "cell_type": "code",
   "execution_count": 22,
   "metadata": {},
   "outputs": [
    {
     "ename": "NameError",
     "evalue": "name 'ss' is not defined",
     "output_type": "error",
     "traceback": [
      "\u001b[0;31m---------------------------------------------------------------------------\u001b[0m",
      "\u001b[0;31mNameError\u001b[0m                                 Traceback (most recent call last)",
      "Input \u001b[0;32mIn [22]\u001b[0m, in \u001b[0;36m<cell line: 1>\u001b[0;34m()\u001b[0m\n\u001b[0;32m----> 1\u001b[0m \u001b[38;5;124mf\u001b[39m\u001b[38;5;124m'\u001b[39m\u001b[38;5;124mi: \u001b[39m\u001b[38;5;132;01m{\u001b[39;00mi\u001b[38;5;132;01m}\u001b[39;00m\u001b[38;5;124m, s: \u001b[39m\u001b[38;5;132;01m{\u001b[39;00mss\u001b[38;5;132;01m}\u001b[39;00m\u001b[38;5;124m'\u001b[39m\n",
      "\u001b[0;31mNameError\u001b[0m: name 'ss' is not defined"
     ]
    }
   ],
   "source": [
    "f'i: {i}, s: {ss}'"
   ]
  },
  {
   "cell_type": "code",
   "execution_count": 23,
   "metadata": {},
   "outputs": [
    {
     "name": "stdout",
     "output_type": "stream",
     "text": [
      "12 2.500000 foo\n"
     ]
    }
   ],
   "source": [
    "# Old school formatting.\n",
    "print('%d %f %s' % (12, 2.5, 'foo'))"
   ]
  },
  {
   "cell_type": "markdown",
   "metadata": {},
   "source": [
    "## Control structures\n",
    "\n",
    "- In Python, the body of control structures is marked by indentation.\n",
    "- Therefore, the visual appearance of a program is always consistent with its logical meaning."
   ]
  },
  {
   "cell_type": "markdown",
   "metadata": {},
   "source": [
    "### [if statement](https://docs.python.org/3/reference/compound_stmts.html#the-if-statement)\n",
    "\n",
    "- Syntax:\n",
    "```\n",
    "  if CONDITION1:\n",
    "      STATEMENT1\n",
    "  elif CONDITION2:\n",
    "      STATEMENT2\n",
    "  else:\n",
    "      STATEMENT3\n",
    "```\n",
    "\n",
    "- Flow diagram:\n",
    "```                             \n",
    "      +------------+      true   +------------+\n",
    "  --->| CONDITION1 |---+-------->| STATEMENT1 |------------------------------+--->\n",
    "      +------------+   |         +------------+                              |\n",
    "                       |                                                     |\n",
    "                       |  false  +------------+      true   +------------+   |\n",
    "                       +-------->| CONDITION2 |---+-------->| STATEMENT2 |---+\n",
    "                                 +------------+   |         +------------+   |\n",
    "                                                  |                          |\n",
    "                                                  |  false  +------------+   |\n",
    "                                                  +-------->| STATEMENT3 |---+\n",
    "                                                            +------------+\n",
    "```\n",
    "- Remarks:\n",
    "  + There can be multiple elif branches.\n",
    "  + The elif branches and the else branch can be omitted.\n",
    "  + If the statement is 1 line long, then it can be written into the same line with if, elif and else."
   ]
  },
  {
   "cell_type": "code",
   "execution_count": 29,
   "metadata": {
    "scrolled": true
   },
   "outputs": [
    {
     "name": "stdout",
     "output_type": "stream",
     "text": [
      "How old are you? 19\n",
      "Do you want a beer?\n"
     ]
    }
   ],
   "source": [
    "# Example: Do you want a beer?\n",
    "age = int(input('How old are you? '))\n",
    "if age < 18:\n",
    "    print('I cannot give you a beer.')\n",
    "else:\n",
    "    print('Do you want a beer?')"
   ]
  },
  {
   "cell_type": "markdown",
   "metadata": {},
   "source": [
    "$$ax^2 + bx + c = 0$$\n",
    "$$x_{1,2} = \\frac{-b\\pm\\sqrt{b^2-4ac}}{2a}$$\n",
    "$$(1, -3, 2) \\rightarrow (1, 2)$$\n",
    "$$(1, 2, 1) \\rightarrow (-1)$$\n",
    "$$(1, 1, 9) \\rightarrow ()$$"
   ]
  },
  {
   "cell_type": "code",
   "execution_count": 34,
   "metadata": {},
   "outputs": [
    {
     "name": "stdout",
     "output_type": "stream",
     "text": [
      "a: 1\n",
      "b: 1\n",
      "c: 9\n",
      "No solution!\n"
     ]
    }
   ],
   "source": [
    "# Example: Quadratic equation solver.\n",
    "# - assume that a is not 0\n",
    "# - work with real numbers (not complex)\n",
    "\n",
    "# read coefficients\n",
    "a = float(input('a: '))\n",
    "b = float(input('b: '))\n",
    "c = float(input('c: '))\n",
    "\n",
    "# compute discriminant\n",
    "d = b**2 - 4 * a * c\n",
    "\n",
    "# 3-way branching\n",
    "if d > 0:\n",
    "    x1 = (-b + d**0.5) / (2 * a)\n",
    "    x2 = (-b - d**0.5) / (2 * a)\n",
    "    print(f'x1 = {x1}, x2 = {x2}')\n",
    "elif d == 0:\n",
    "    x1 = -b / (2 * a)\n",
    "    print(f'x1 = {x1}')\n",
    "else:\n",
    "    print('No solution!')"
   ]
  },
  {
   "cell_type": "markdown",
   "metadata": {},
   "source": [
    "### [while statement](https://docs.python.org/3/reference/compound_stmts.html#the-while-statement)\n",
    "\n",
    "- Syntax:\n",
    "```\n",
    "  while CONDITION:\n",
    "      STATEMENT\n",
    "```\n",
    "\n",
    "- Flow diagram:\n",
    "```\n",
    "            +-----------+  true\n",
    "     +<-----| STATEMENT |--------+\n",
    "     |      +-----------+        |\n",
    "     |                           |\n",
    "     |      +-----------+        |  false\n",
    "  ---+------| CONDITION |--------+-------->\n",
    "            +-----------+                    \n",
    "```\n",
    "- Remarks:\n",
    "  + In a well written program, the condition eventually changes to false (otherwise there is an endless loop).\n",
    "  + A while loop should be applied, if the number of iterations is not known at the beginning of the loop."
   ]
  },
  {
   "cell_type": "code",
   "execution_count": 36,
   "metadata": {},
   "outputs": [
    {
     "name": "stdout",
     "output_type": "stream",
     "text": [
      "What is your score? 5\n",
      "You failed, practice more!\n",
      "What is your score? 10\n",
      "You failed, practice more!\n",
      "What is your score? 15\n",
      "Congratulations, you passed!\n"
     ]
    }
   ],
   "source": [
    "# Example: The programming exam.\n",
    "while int(input('What is your score? ')) < 12:\n",
    "    print('You failed, practice more!')\n",
    "\n",
    "print('Congratulations, you passed!')"
   ]
  },
  {
   "cell_type": "markdown",
   "metadata": {},
   "source": [
    "### [for statement](https://docs.python.org/3/reference/compound_stmts.html#the-for-statement)\n",
    "\n",
    "- Syntax:\n",
    "```\n",
    "  for ELEMENT in SEQUENCE:\n",
    "      STATEMENT\n",
    "```\n",
    "\n",
    "- Flow diagram:\n",
    "```\n",
    "               +-----------+   there are elements\n",
    "        +<-----| STATEMENT |<----------------------+ \n",
    "        |      +-----------+                       |\n",
    "        |                                          |\n",
    "        |      +----------------------+            |\n",
    "  ------+----->| get the next ELEMENT |------------+------------------->\n",
    "               | from the SEQUENCE    |               no more element\n",
    "               +----------------------+\n",
    "```\n",
    "- Remarks:\n",
    "  + The sequence can be a consecutive sequence of integers, or another sequence (e.g. string, tuple, list, set, dict, open file).\n",
    "  + A for loop should be applied if A) the sequence is already available or B) we know the number of iterations at the beginning of the loop."
   ]
  },
  {
   "cell_type": "code",
   "execution_count": 37,
   "metadata": {},
   "outputs": [
    {
     "data": {
      "text/plain": [
       "range(0, 10)"
      ]
     },
     "execution_count": 37,
     "metadata": {},
     "output_type": "execute_result"
    }
   ],
   "source": [
    "# Creating a range.\n",
    "range(10)"
   ]
  },
  {
   "cell_type": "code",
   "execution_count": 38,
   "metadata": {},
   "outputs": [
    {
     "data": {
      "text/plain": [
       "[0, 1, 2, 3, 4, 5, 6, 7, 8, 9]"
      ]
     },
     "execution_count": 38,
     "metadata": {},
     "output_type": "execute_result"
    }
   ],
   "source": [
    "list(range(10))"
   ]
  },
  {
   "cell_type": "code",
   "execution_count": 41,
   "metadata": {},
   "outputs": [
    {
     "data": {
      "text/plain": [
       "[20, 21, 22, 23, 24]"
      ]
     },
     "execution_count": 41,
     "metadata": {},
     "output_type": "execute_result"
    }
   ],
   "source": [
    "list(range(20, 25))"
   ]
  },
  {
   "cell_type": "code",
   "execution_count": 42,
   "metadata": {},
   "outputs": [
    {
     "data": {
      "text/plain": [
       "[20, 22, 24, 26, 28]"
      ]
     },
     "execution_count": 42,
     "metadata": {},
     "output_type": "execute_result"
    }
   ],
   "source": [
    "list(range(20, 30, 2))"
   ]
  },
  {
   "cell_type": "code",
   "execution_count": 43,
   "metadata": {},
   "outputs": [
    {
     "data": {
      "text/plain": [
       "[9, 8, 7, 6, 5, 4, 3, 2, 1, 0]"
      ]
     },
     "execution_count": 43,
     "metadata": {},
     "output_type": "execute_result"
    }
   ],
   "source": [
    "list(range(9, -1, -1))"
   ]
  },
  {
   "cell_type": "code",
   "execution_count": 44,
   "metadata": {},
   "outputs": [
    {
     "name": "stdout",
     "output_type": "stream",
     "text": [
      "1\n",
      "4\n",
      "9\n",
      "16\n",
      "25\n",
      "36\n",
      "49\n",
      "64\n",
      "81\n",
      "100\n"
     ]
    }
   ],
   "source": [
    "# Example: Printing the first n square numbers.\n",
    "n = 10\n",
    "for i in range(1, n + 1):\n",
    "    print(i**2)"
   ]
  },
  {
   "cell_type": "code",
   "execution_count": 46,
   "metadata": {},
   "outputs": [
    {
     "name": "stdout",
     "output_type": "stream",
     "text": [
      "********************"
     ]
    }
   ],
   "source": [
    "# Example: Printing a * character n times.\n",
    "n = 20\n",
    "for _ in range(n):\n",
    "    print('*', end='')"
   ]
  },
  {
   "cell_type": "code",
   "execution_count": 48,
   "metadata": {},
   "outputs": [
    {
     "name": "stdout",
     "output_type": "stream",
     "text": [
      "********************\n"
     ]
    }
   ],
   "source": [
    "# ...shorter solution:\n",
    "print('*' * n)"
   ]
  },
  {
   "cell_type": "code",
   "execution_count": 1,
   "metadata": {},
   "outputs": [
    {
     "name": "stdout",
     "output_type": "stream",
     "text": [
      "*\n",
      "**\n",
      "***\n",
      "****\n"
     ]
    }
   ],
   "source": [
    "# Example: n-by-n triangle from * characters.\n",
    "# *\n",
    "# **\n",
    "# ***\n",
    "# ****\n",
    "n = 4\n",
    "for i in range(n):\n",
    "    print('*' * (i + 1))"
   ]
  },
  {
   "cell_type": "code",
   "execution_count": 54,
   "metadata": {},
   "outputs": [
    {
     "name": "stdout",
     "output_type": "stream",
     "text": [
      "         *\n",
      "        ***\n",
      "       *****\n",
      "      *******\n",
      "     *********\n",
      "    ***********\n",
      "   *************\n",
      "  ***************\n",
      " *****************\n",
      "*******************\n"
     ]
    }
   ],
   "source": [
    "# Example: pyramid of n rows from * characters.\n",
    "#    *\n",
    "#   ***\n",
    "#  *****\n",
    "# *******\n",
    "\n",
    "n = 10\n",
    "for i in range(n):\n",
    "    print(' ' * (n - 1 - i), end='')\n",
    "    print('*' * (2 * i + 1))"
   ]
  },
  {
   "cell_type": "code",
   "execution_count": 55,
   "metadata": {},
   "outputs": [
    {
     "data": {
      "text/plain": [
       "{'e': 3, 'u': 2, 'i': 1, 'o': 4, 'a': 1}"
      ]
     },
     "execution_count": 55,
     "metadata": {},
     "output_type": "execute_result"
    }
   ],
   "source": [
    "# Example: Counting vowels (in a lowercase text).\n",
    "text = 'the quick brown fox jumps over the lazy dog'\n",
    "\n",
    "# solution 1\n",
    "vowels = {'a', 'e', 'i', 'o', 'u'}\n",
    "counts = {}\n",
    "for c in text:\n",
    "    if c in vowels:\n",
    "        if c in counts: counts[c] += 1\n",
    "        else: counts[c] = 1\n",
    "counts"
   ]
  },
  {
   "cell_type": "code",
   "execution_count": 56,
   "metadata": {},
   "outputs": [
    {
     "data": {
      "text/plain": [
       "{'a': 1, 'e': 3, 'i': 1, 'o': 4, 'u': 2}"
      ]
     },
     "execution_count": 56,
     "metadata": {},
     "output_type": "execute_result"
    }
   ],
   "source": [
    "# solution 2\n",
    "vowels = {'a': 0, 'e': 0, 'i': 0, 'o': 0, 'u': 0}\n",
    "for c in text:\n",
    "    if c in vowels:\n",
    "        vowels[c] += 1\n",
    "vowels"
   ]
  },
  {
   "cell_type": "code",
   "execution_count": 68,
   "metadata": {},
   "outputs": [
    {
     "data": {
      "text/plain": [
       "'g'"
      ]
     },
     "execution_count": 68,
     "metadata": {},
     "output_type": "execute_result"
    }
   ],
   "source": [
    "# Transform a character to the next letter of the alphabet (for lowercase letters).\n",
    "# Letter 'z' should be transformed to 'a'.\n",
    "c = 'f'\n",
    "chr((ord(c) - ord('a') + 1) % 26 + ord('a'))"
   ]
  },
  {
   "cell_type": "code",
   "execution_count": 71,
   "metadata": {},
   "outputs": [
    {
     "name": "stdout",
     "output_type": "stream",
     "text": [
      "yhqlylglylfl\n"
     ]
    }
   ],
   "source": [
    "# Example: Caesar-encoding (for lowercase text without whitespaces)\n",
    "message = 'venividivici'\n",
    "offset = 3\n",
    "encoded = ''\n",
    "\n",
    "for c in message:\n",
    "    encoded += chr((ord(c) - ord('a') + offset) % 26 + ord('a'))\n",
    "\n",
    "print(encoded)"
   ]
  },
  {
   "cell_type": "markdown",
   "metadata": {},
   "source": [
    "## Exercise: Simple number guessing game\n",
    "\n",
    "Write a program that draws a random number from 1 to 100, then asks for guesses from the player, until the player finds out the number. After each guess, the program should show if the given guess was too low, too high or it was correct."
   ]
  },
  {
   "cell_type": "code",
   "execution_count": null,
   "metadata": {},
   "outputs": [],
   "source": [
    "# this_is_python_style : \"snake case\"\n",
    "# thisIsJavaStyle      : \"camel case\"\n",
    "# ThisIsCSharpStyle"
   ]
  },
  {
   "cell_type": "code",
   "execution_count": 82,
   "metadata": {},
   "outputs": [
    {
     "name": "stdout",
     "output_type": "stream",
     "text": [
      "Your guess: 50\n",
      "Too high.\n",
      "Your guess: 25\n",
      "Too high.\n",
      "Your guess: 12\n",
      "Too low.\n",
      "Your guess: 18\n",
      "Too low.\n",
      "Your guess: 22\n",
      "Too high.\n",
      "Your guess: 20\n",
      "Too low.\n",
      "Your guess: 21\n",
      "CORRECT!\n"
     ]
    }
   ],
   "source": [
    "import random\n",
    "\n",
    "number = random.randint(1, 100)\n",
    "guess = None\n",
    "\n",
    "while guess != number:\n",
    "    guess = int(input('Your guess: '))\n",
    "    if guess < number:\n",
    "        print('Too low.')\n",
    "    elif guess > number:\n",
    "        print('Too high.')\n",
    "    else:\n",
    "        print('CORRECT!')    "
   ]
  },
  {
   "cell_type": "markdown",
   "metadata": {},
   "source": [
    "## Euler Problem 1: Multiples of 3 or 5\n",
    "\n",
    "If we list all the natural numbers below 10 that are multiples of 3 or 5, we get 3, 5, 6 and 9.\n",
    "The sum of these multiples is 23.\n",
    "Find the sum of all the multiples of 3 or 5 below 1000."
   ]
  },
  {
   "cell_type": "code",
   "execution_count": 83,
   "metadata": {},
   "outputs": [
    {
     "name": "stdout",
     "output_type": "stream",
     "text": [
      "233168\n"
     ]
    }
   ],
   "source": [
    "s = 0\n",
    "for i in range(1, 1000):\n",
    "    if i % 3 == 0 or i % 5 == 0:\n",
    "        s += i\n",
    "print(s)"
   ]
  }
 ],
 "metadata": {
  "kernelspec": {
   "display_name": "Python 3 (ipykernel)",
   "language": "python",
   "name": "python3"
  },
  "language_info": {
   "codemirror_mode": {
    "name": "ipython",
    "version": 3
   },
   "file_extension": ".py",
   "mimetype": "text/x-python",
   "name": "python",
   "nbconvert_exporter": "python",
   "pygments_lexer": "ipython3",
   "version": "3.8.0"
  }
 },
 "nbformat": 4,
 "nbformat_minor": 2
}
