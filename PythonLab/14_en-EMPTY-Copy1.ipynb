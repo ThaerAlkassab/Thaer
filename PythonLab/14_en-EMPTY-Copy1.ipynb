{
 "cells": [
  {
   "cell_type": "markdown",
   "id": "b77f10b6",
   "metadata": {},
   "source": [
    "## Generators (the yield statement)"
   ]
  },
  {
   "cell_type": "code",
   "execution_count": 1,
   "id": "ca6a1939",
   "metadata": {},
   "outputs": [
    {
     "name": "stdout",
     "output_type": "stream",
     "text": [
      "1\n",
      "1\n",
      "2\n",
      "3\n",
      "5\n",
      "8\n",
      "13\n",
      "21\n",
      "34\n",
      "55\n"
     ]
    }
   ],
   "source": [
    "# Generate the Fibonacci numbers using a for loop\n",
    "f1, f2 = 1, 1\n",
    "for _ in range(10):\n",
    "    print(f1)\n",
    "    f1, f2 = f2, f1 + f2"
   ]
  },
  {
   "cell_type": "code",
   "execution_count": 2,
   "id": "ece1870e",
   "metadata": {},
   "outputs": [],
   "source": [
    "def gen_fibonacci(n=10):\n",
    "    f1, f2 = 1, 1\n",
    "    for _ in range(n):\n",
    "        yield f1\n",
    "        f1, f2 = f2, f1 + f2"
   ]
  },
  {
   "cell_type": "code",
   "execution_count": 3,
   "id": "66a68830",
   "metadata": {},
   "outputs": [
    {
     "data": {
      "text/plain": [
       "generator"
      ]
     },
     "execution_count": 3,
     "metadata": {},
     "output_type": "execute_result"
    }
   ],
   "source": [
    "type(gen_fibonacci())"
   ]
  },
  {
   "cell_type": "code",
   "execution_count": 4,
   "id": "47a96a34",
   "metadata": {},
   "outputs": [
    {
     "name": "stdout",
     "output_type": "stream",
     "text": [
      "1\n",
      "1\n",
      "2\n",
      "3\n",
      "5\n",
      "8\n",
      "13\n",
      "21\n",
      "34\n",
      "55\n"
     ]
    }
   ],
   "source": [
    "for f in gen_fibonacci():\n",
    "    print(f)"
   ]
  },
  {
   "cell_type": "code",
   "execution_count": 5,
   "id": "499165bc",
   "metadata": {},
   "outputs": [
    {
     "data": {
      "text/plain": [
       "[1,\n",
       " 1,\n",
       " 2,\n",
       " 3,\n",
       " 5,\n",
       " 8,\n",
       " 13,\n",
       " 21,\n",
       " 34,\n",
       " 55,\n",
       " 89,\n",
       " 144,\n",
       " 233,\n",
       " 377,\n",
       " 610,\n",
       " 987,\n",
       " 1597,\n",
       " 2584,\n",
       " 4181,\n",
       " 6765]"
      ]
     },
     "execution_count": 5,
     "metadata": {},
     "output_type": "execute_result"
    }
   ],
   "source": [
    "list(gen_fibonacci(20))"
   ]
  },
  {
   "cell_type": "markdown",
   "id": "ac4c6812",
   "metadata": {},
   "source": [
    "## Generator Expressions"
   ]
  },
  {
   "cell_type": "code",
   "execution_count": 6,
   "id": "89386865",
   "metadata": {},
   "outputs": [],
   "source": [
    "sq = (i**2 for i in range(10))"
   ]
  },
  {
   "cell_type": "code",
   "execution_count": 7,
   "id": "7695f50f",
   "metadata": {},
   "outputs": [
    {
     "data": {
      "text/plain": [
       "generator"
      ]
     },
     "execution_count": 7,
     "metadata": {},
     "output_type": "execute_result"
    }
   ],
   "source": [
    "type(sq)"
   ]
  },
  {
   "cell_type": "code",
   "execution_count": 8,
   "id": "599a7f68",
   "metadata": {},
   "outputs": [
    {
     "data": {
      "text/plain": [
       "285"
      ]
     },
     "execution_count": 8,
     "metadata": {},
     "output_type": "execute_result"
    }
   ],
   "source": [
    "sum(sq)"
   ]
  },
  {
   "cell_type": "code",
   "execution_count": 9,
   "id": "6ddd06fd",
   "metadata": {},
   "outputs": [
    {
     "data": {
      "text/plain": [
       "285"
      ]
     },
     "execution_count": 9,
     "metadata": {},
     "output_type": "execute_result"
    }
   ],
   "source": [
    "sum(i**2 for i in range(10))"
   ]
  },
  {
   "cell_type": "markdown",
   "id": "d6f3cf29",
   "metadata": {},
   "source": [
    "### 10001st Prime (Problem 7)\n",
    "\n",
    "By listing the first six prime numbers: 2, 3, 5, 7, 11, and 13, we can see that the 6th prime is 13.\n",
    "What is the 10001st prime number?"
   ]
  },
  {
   "cell_type": "code",
   "execution_count": 10,
   "id": "acc4a910",
   "metadata": {},
   "outputs": [
    {
     "name": "stdout",
     "output_type": "stream",
     "text": [
      "104743 10001\n",
      "CPU times: user 187 ms, sys: 837 µs, total: 188 ms\n",
      "Wall time: 187 ms\n"
     ]
    }
   ],
   "source": [
    "%%time\n",
    "# solution 1\n",
    "def is_prime(n):\n",
    "    if n <= 1: return False\n",
    "    for i in range(2, int(n**0.5) + 1):\n",
    "        if n % i == 0: return False\n",
    "    return True\n",
    "\n",
    "cand = 3\n",
    "idx = 2\n",
    "while True:\n",
    "    if is_prime(cand):\n",
    "        if idx == 10001: break\n",
    "        idx += 1\n",
    "    cand += 2\n",
    "    \n",
    "print(cand, idx)"
   ]
  },
  {
   "cell_type": "code",
   "execution_count": 11,
   "id": "2c7055cc",
   "metadata": {},
   "outputs": [
    {
     "name": "stdout",
     "output_type": "stream",
     "text": [
      "104743 10001\n",
      "CPU times: user 412 ms, sys: 64.1 ms, total: 476 ms\n",
      "Wall time: 475 ms\n"
     ]
    }
   ],
   "source": [
    "%%time\n",
    "# solution 2\n",
    "import sympy\n",
    "\n",
    "cand = 3\n",
    "idx = 2\n",
    "while True:\n",
    "    if sympy.isprime(cand):\n",
    "        if idx == 10001: break\n",
    "        idx += 1\n",
    "    cand += 2\n",
    "    \n",
    "print(cand, idx)"
   ]
  },
  {
   "cell_type": "code",
   "execution_count": 12,
   "id": "4b969163",
   "metadata": {},
   "outputs": [
    {
     "name": "stdout",
     "output_type": "stream",
     "text": [
      "CPU times: user 136 ms, sys: 85 µs, total: 136 ms\n",
      "Wall time: 135 ms\n"
     ]
    },
    {
     "data": {
      "text/plain": [
       "104743"
      ]
     },
     "execution_count": 12,
     "metadata": {},
     "output_type": "execute_result"
    }
   ],
   "source": [
    "%%time\n",
    "# solution 3\n",
    "def gen_primes(n):\n",
    "    yield 2\n",
    "    cand = 3\n",
    "    idx = 2\n",
    "    while True:\n",
    "        if sympy.isprime(cand):\n",
    "            yield cand\n",
    "            if idx == n: return\n",
    "            idx += 1\n",
    "        cand += 2\n",
    "        \n",
    "for p in gen_primes(10001):\n",
    "    pass\n",
    "p"
   ]
  },
  {
   "cell_type": "code",
   "execution_count": 13,
   "id": "efd8ba1d",
   "metadata": {},
   "outputs": [
    {
     "name": "stdout",
     "output_type": "stream",
     "text": [
      "CPU times: user 81.9 ms, sys: 4.31 ms, total: 86.2 ms\n",
      "Wall time: 85.1 ms\n"
     ]
    },
    {
     "data": {
      "text/plain": [
       "104743"
      ]
     },
     "execution_count": 13,
     "metadata": {},
     "output_type": "execute_result"
    }
   ],
   "source": [
    "%%time\n",
    "# solution 4\n",
    "\n",
    "def is_prime(n, primes):\n",
    "    for i in primes:\n",
    "        if n % i == 0: return False\n",
    "        if i * i > n: break\n",
    "    return n > 1\n",
    "\n",
    "def gen_primes(n):\n",
    "    yield 2\n",
    "    cand = 3\n",
    "    idx = 2\n",
    "    primes = [2]\n",
    "    while True:\n",
    "        if is_prime(cand, primes):\n",
    "            primes.append(cand)\n",
    "            yield cand\n",
    "            if idx == n: return\n",
    "            idx += 1\n",
    "        cand += 2\n",
    "        \n",
    "for p in gen_primes(10001):\n",
    "    pass\n",
    "p"
   ]
  },
  {
   "cell_type": "markdown",
   "id": "77a8ac82",
   "metadata": {},
   "source": [
    "### Coin Sums (Problem 31)\n",
    "\n",
    "In the United Kingdom the currency is made up of pound (£) and pence (p). There are eight coins in general circulation: 1p, 2p, 5p, 10p, 20p, 50p, £1 (100p), and £2 (200p). It is possible to make £2 in the following way:\n",
    "1×£1 + 1×50p + 2×20p + 1×5p + 1×2p + 3×1p\n",
    "How many different ways can £2 be made using any number of coins?"
   ]
  },
  {
   "cell_type": "code",
   "execution_count": 14,
   "id": "844ab7f7",
   "metadata": {},
   "outputs": [
    {
     "name": "stdout",
     "output_type": "stream",
     "text": [
      "CPU times: user 42.2 ms, sys: 323 µs, total: 42.5 ms\n",
      "Wall time: 41.2 ms\n"
     ]
    },
    {
     "data": {
      "text/plain": [
       "73682"
      ]
     },
     "execution_count": 14,
     "metadata": {},
     "output_type": "execute_result"
    }
   ],
   "source": [
    "%%time\n",
    "def num_decompositions(coins, target):\n",
    "    if target == 0: return 1\n",
    "    if len(coins) == 1: return int(target % coins[0] == 0)\n",
    "    # if len(coins) == 1: return 1\n",
    "    \n",
    "    c = coins[-1]\n",
    "    return sum(\n",
    "        num_decompositions(coins[:-1], target - i * c)\n",
    "        for i in range(target // c + 1)\n",
    "    )\n",
    "        \n",
    "num_decompositions([1, 2, 5, 10, 20, 50, 100, 200], 200)"
   ]
  },
  {
   "cell_type": "markdown",
   "id": "8c3472ae",
   "metadata": {},
   "source": [
    "###  Distinct Powers (Problem 29)\n",
    "\n",
    "Consider all integer combinations of $a^b$ for $2 \\le a \\le 5$ and $2 \\le b \\le 5$:\n",
    "\n",
    "\\begin{matrix}\n",
    "2^2=4, 2^3=8, 2^4=16, 2^5=32\\\\\n",
    "3^2=9, 3^3=27, 3^4=81, 3^5=243\\\\\n",
    "4^2=16,4^3=64, 4^4=256, 4^5=1024\\\\\n",
    "5^2=25, 5^3=125, 5^4=625, 5^5=3125\n",
    "\\end{matrix}\n",
    "<p>If they are then placed in numerical order, with any repeats removed, we get the following sequence of $15$ distinct terms:\n",
    "$$4, 8, 9, 16, 25, 27, 32, 64, 81, 125, 243, 256, 625, 1024, 3125.$$</p>\n",
    "<p>How many distinct terms are in the sequence generated by $a^b$ for $2 \\le a \\le 100$ and $2 \\le b \\le 100$?</p>\n",
    "\n"
   ]
  },
  {
   "cell_type": "code",
   "execution_count": 15,
   "id": "9f033787",
   "metadata": {},
   "outputs": [
    {
     "data": {
      "text/plain": [
       "9183"
      ]
     },
     "execution_count": 15,
     "metadata": {},
     "output_type": "execute_result"
    }
   ],
   "source": [
    "# solution 1\n",
    "s = set()\n",
    "for a in range(2, 101):\n",
    "    for b in range(2, 101):\n",
    "        s.add(a**b)\n",
    "len(s)"
   ]
  },
  {
   "cell_type": "code",
   "execution_count": 16,
   "id": "986dd1dd",
   "metadata": {},
   "outputs": [
    {
     "data": {
      "text/plain": [
       "9183"
      ]
     },
     "execution_count": 16,
     "metadata": {},
     "output_type": "execute_result"
    }
   ],
   "source": [
    "# solution 2\n",
    "import itertools\n",
    "len({a**b for a, b in itertools.product(range(2, 101), repeat=2)})"
   ]
  },
  {
   "cell_type": "markdown",
   "id": "145a5077",
   "metadata": {},
   "source": [
    "### Integer Right Triangles (Problem 39)\n",
    "If $f$ is the perimeter of a right angle triangle with integral length sides, $\\{a, b, c\\}$, there are exactly three solutions for $p=120$.\n",
    "\n",
    "$$\\{20,48,52\\}, \\{24,45,51\\}, \\{30,40,50\\}$$\n",
    "\n",
    "For which value of $p \\leq 1000$, is the number of solutions maximised?"
   ]
  },
  {
   "cell_type": "code",
   "execution_count": 17,
   "id": "f6aa7038",
   "metadata": {},
   "outputs": [],
   "source": [
    "# solution 1\n",
    "nsol = {}\n",
    "for p in range(3, 1001):\n",
    "    cnt = 0\n",
    "    for a in range(1, p // 3 + 1):\n",
    "        for b in range(a, (p - a) // 2 + 1):\n",
    "            c = p - a - b\n",
    "            if a**2 + b**2 == c**2:\n",
    "                cnt += 1\n",
    "    nsol[p] = cnt\n",
    "                "
   ]
  },
  {
   "cell_type": "code",
   "execution_count": 18,
   "id": "08ec8a79",
   "metadata": {},
   "outputs": [
    {
     "data": {
      "text/plain": [
       "840"
      ]
     },
     "execution_count": 18,
     "metadata": {},
     "output_type": "execute_result"
    }
   ],
   "source": [
    "max(nsol, key=lambda p: nsol[p])"
   ]
  },
  {
   "cell_type": "markdown",
   "id": "08a859bf",
   "metadata": {},
   "source": [
    "### Iterating over the rows of a DataFrame"
   ]
  },
  {
   "cell_type": "code",
   "execution_count": 19,
   "id": "8713b590",
   "metadata": {},
   "outputs": [
    {
     "data": {
      "text/html": [
       "<div>\n",
       "<style scoped>\n",
       "    .dataframe tbody tr th:only-of-type {\n",
       "        vertical-align: middle;\n",
       "    }\n",
       "\n",
       "    .dataframe tbody tr th {\n",
       "        vertical-align: top;\n",
       "    }\n",
       "\n",
       "    .dataframe thead th {\n",
       "        text-align: right;\n",
       "    }\n",
       "</style>\n",
       "<table border=\"1\" class=\"dataframe\">\n",
       "  <thead>\n",
       "    <tr style=\"text-align: right;\">\n",
       "      <th></th>\n",
       "      <th>round</th>\n",
       "      <th>hteam</th>\n",
       "      <th>ateam</th>\n",
       "      <th>hgoals</th>\n",
       "      <th>agoals</th>\n",
       "    </tr>\n",
       "  </thead>\n",
       "  <tbody>\n",
       "    <tr>\n",
       "      <th>0</th>\n",
       "      <td>1</td>\n",
       "      <td>Blackburn Rovers</td>\n",
       "      <td>Wolverhampton Wanderers</td>\n",
       "      <td>1</td>\n",
       "      <td>2</td>\n",
       "    </tr>\n",
       "    <tr>\n",
       "      <th>1</th>\n",
       "      <td>1</td>\n",
       "      <td>Fulham FC</td>\n",
       "      <td>Aston Villa</td>\n",
       "      <td>0</td>\n",
       "      <td>0</td>\n",
       "    </tr>\n",
       "    <tr>\n",
       "      <th>2</th>\n",
       "      <td>1</td>\n",
       "      <td>Liverpool FC</td>\n",
       "      <td>Sunderland AFC</td>\n",
       "      <td>1</td>\n",
       "      <td>1</td>\n",
       "    </tr>\n",
       "    <tr>\n",
       "      <th>3</th>\n",
       "      <td>1</td>\n",
       "      <td>Queens Park Rangers</td>\n",
       "      <td>Bolton Wanderers</td>\n",
       "      <td>0</td>\n",
       "      <td>4</td>\n",
       "    </tr>\n",
       "    <tr>\n",
       "      <th>4</th>\n",
       "      <td>1</td>\n",
       "      <td>Wigan Athletic</td>\n",
       "      <td>Norwich City</td>\n",
       "      <td>1</td>\n",
       "      <td>1</td>\n",
       "    </tr>\n",
       "    <tr>\n",
       "      <th>...</th>\n",
       "      <td>...</td>\n",
       "      <td>...</td>\n",
       "      <td>...</td>\n",
       "      <td>...</td>\n",
       "      <td>...</td>\n",
       "    </tr>\n",
       "    <tr>\n",
       "      <th>375</th>\n",
       "      <td>38</td>\n",
       "      <td>Sunderland AFC</td>\n",
       "      <td>Manchester United</td>\n",
       "      <td>0</td>\n",
       "      <td>1</td>\n",
       "    </tr>\n",
       "    <tr>\n",
       "      <th>376</th>\n",
       "      <td>38</td>\n",
       "      <td>Swansea City</td>\n",
       "      <td>Liverpool FC</td>\n",
       "      <td>1</td>\n",
       "      <td>0</td>\n",
       "    </tr>\n",
       "    <tr>\n",
       "      <th>377</th>\n",
       "      <td>38</td>\n",
       "      <td>Tottenham Hotspur</td>\n",
       "      <td>Fulham FC</td>\n",
       "      <td>2</td>\n",
       "      <td>0</td>\n",
       "    </tr>\n",
       "    <tr>\n",
       "      <th>378</th>\n",
       "      <td>38</td>\n",
       "      <td>West Bromwich Albion</td>\n",
       "      <td>Arsenal FC</td>\n",
       "      <td>2</td>\n",
       "      <td>3</td>\n",
       "    </tr>\n",
       "    <tr>\n",
       "      <th>379</th>\n",
       "      <td>38</td>\n",
       "      <td>Wigan Athletic</td>\n",
       "      <td>Wolverhampton Wanderers</td>\n",
       "      <td>3</td>\n",
       "      <td>2</td>\n",
       "    </tr>\n",
       "  </tbody>\n",
       "</table>\n",
       "<p>380 rows × 5 columns</p>\n",
       "</div>"
      ],
      "text/plain": [
       "     round                 hteam                    ateam  hgoals  agoals\n",
       "0        1      Blackburn Rovers  Wolverhampton Wanderers       1       2\n",
       "1        1             Fulham FC              Aston Villa       0       0\n",
       "2        1          Liverpool FC           Sunderland AFC       1       1\n",
       "3        1   Queens Park Rangers         Bolton Wanderers       0       4\n",
       "4        1        Wigan Athletic             Norwich City       1       1\n",
       "..     ...                   ...                      ...     ...     ...\n",
       "375     38        Sunderland AFC        Manchester United       0       1\n",
       "376     38          Swansea City             Liverpool FC       1       0\n",
       "377     38     Tottenham Hotspur                Fulham FC       2       0\n",
       "378     38  West Bromwich Albion               Arsenal FC       2       3\n",
       "379     38        Wigan Athletic  Wolverhampton Wanderers       3       2\n",
       "\n",
       "[380 rows x 5 columns]"
      ]
     },
     "execution_count": 19,
     "metadata": {},
     "output_type": "execute_result"
    }
   ],
   "source": [
    "# load example DataFrame\n",
    "import pandas as pd\n",
    "names = ['round', 'hteam', 'ateam', 'hgoals', 'agoals']\n",
    "df = pd.read_csv('pl.txt', sep='\\t', skiprows=6, names=names)\n",
    "df"
   ]
  },
  {
   "cell_type": "code",
   "execution_count": 23,
   "id": "637b230e",
   "metadata": {},
   "outputs": [],
   "source": [
    "for idx, row in df.iterrows(): pass"
   ]
  },
  {
   "cell_type": "code",
   "execution_count": 24,
   "id": "46f45cb6",
   "metadata": {},
   "outputs": [
    {
     "data": {
      "text/plain": [
       "(379, 'Wigan Athletic')"
      ]
     },
     "execution_count": 24,
     "metadata": {},
     "output_type": "execute_result"
    }
   ],
   "source": [
    "idx, row.hteam"
   ]
  },
  {
   "cell_type": "code",
   "execution_count": 27,
   "id": "e2285a1e",
   "metadata": {},
   "outputs": [],
   "source": [
    "for row in df.itertuples(): pass"
   ]
  },
  {
   "cell_type": "code",
   "execution_count": 28,
   "id": "146bc778",
   "metadata": {},
   "outputs": [
    {
     "name": "stdout",
     "output_type": "stream",
     "text": [
      "Pandas(Index=379, round=38, hteam='Wigan Athletic', ateam='Wolverhampton Wanderers', hgoals=3, agoals=2)\n",
      "379\n",
      "Wigan Athletic\n",
      "379\n",
      "38\n"
     ]
    }
   ],
   "source": [
    "print(row)\n",
    "print(row.Index)\n",
    "print(row.hteam)\n",
    "print(row[0])\n",
    "print(row[1])"
   ]
  },
  {
   "cell_type": "code",
   "execution_count": 29,
   "id": "a84bac2a",
   "metadata": {},
   "outputs": [],
   "source": [
    "for row in df.itertuples(index=False): pass"
   ]
  },
  {
   "cell_type": "markdown",
   "id": "39fefd74",
   "metadata": {},
   "source": [
    "### Selecting specific groups from a GroupBy"
   ]
  },
  {
   "cell_type": "code",
   "execution_count": 30,
   "id": "ee0b76cb",
   "metadata": {},
   "outputs": [
    {
     "data": {
      "text/html": [
       "<div>\n",
       "<style scoped>\n",
       "    .dataframe tbody tr th:only-of-type {\n",
       "        vertical-align: middle;\n",
       "    }\n",
       "\n",
       "    .dataframe tbody tr th {\n",
       "        vertical-align: top;\n",
       "    }\n",
       "\n",
       "    .dataframe thead th {\n",
       "        text-align: right;\n",
       "    }\n",
       "</style>\n",
       "<table border=\"1\" class=\"dataframe\">\n",
       "  <thead>\n",
       "    <tr style=\"text-align: right;\">\n",
       "      <th></th>\n",
       "      <th>round</th>\n",
       "      <th>team</th>\n",
       "      <th>goals</th>\n",
       "    </tr>\n",
       "  </thead>\n",
       "  <tbody>\n",
       "    <tr>\n",
       "      <th>0</th>\n",
       "      <td>1</td>\n",
       "      <td>Manchester City</td>\n",
       "      <td>4</td>\n",
       "    </tr>\n",
       "    <tr>\n",
       "      <th>1</th>\n",
       "      <td>1</td>\n",
       "      <td>Bolton Wanderers</td>\n",
       "      <td>4</td>\n",
       "    </tr>\n",
       "    <tr>\n",
       "      <th>2</th>\n",
       "      <td>2</td>\n",
       "      <td>Aston Villa</td>\n",
       "      <td>3</td>\n",
       "    </tr>\n",
       "    <tr>\n",
       "      <th>3</th>\n",
       "      <td>2</td>\n",
       "      <td>Manchester United</td>\n",
       "      <td>3</td>\n",
       "    </tr>\n",
       "    <tr>\n",
       "      <th>4</th>\n",
       "      <td>2</td>\n",
       "      <td>Manchester City</td>\n",
       "      <td>3</td>\n",
       "    </tr>\n",
       "    <tr>\n",
       "      <th>...</th>\n",
       "      <td>...</td>\n",
       "      <td>...</td>\n",
       "      <td>...</td>\n",
       "    </tr>\n",
       "    <tr>\n",
       "      <th>66</th>\n",
       "      <td>37</td>\n",
       "      <td>Liverpool FC</td>\n",
       "      <td>4</td>\n",
       "    </tr>\n",
       "    <tr>\n",
       "      <th>67</th>\n",
       "      <td>38</td>\n",
       "      <td>Everton FC</td>\n",
       "      <td>3</td>\n",
       "    </tr>\n",
       "    <tr>\n",
       "      <th>68</th>\n",
       "      <td>38</td>\n",
       "      <td>Manchester City</td>\n",
       "      <td>3</td>\n",
       "    </tr>\n",
       "    <tr>\n",
       "      <th>69</th>\n",
       "      <td>38</td>\n",
       "      <td>Wigan Athletic</td>\n",
       "      <td>3</td>\n",
       "    </tr>\n",
       "    <tr>\n",
       "      <th>70</th>\n",
       "      <td>38</td>\n",
       "      <td>Arsenal FC</td>\n",
       "      <td>3</td>\n",
       "    </tr>\n",
       "  </tbody>\n",
       "</table>\n",
       "<p>71 rows × 3 columns</p>\n",
       "</div>"
      ],
      "text/plain": [
       "    round               team  goals\n",
       "0       1    Manchester City      4\n",
       "1       1   Bolton Wanderers      4\n",
       "2       2        Aston Villa      3\n",
       "3       2  Manchester United      3\n",
       "4       2    Manchester City      3\n",
       "..    ...                ...    ...\n",
       "66     37       Liverpool FC      4\n",
       "67     38         Everton FC      3\n",
       "68     38    Manchester City      3\n",
       "69     38     Wigan Athletic      3\n",
       "70     38         Arsenal FC      3\n",
       "\n",
       "[71 rows x 3 columns]"
      ]
     },
     "execution_count": 30,
     "metadata": {},
     "output_type": "execute_result"
    }
   ],
   "source": [
    "# For each round select the teams that scored the most goals.\n",
    "data = []\n",
    "for r, df1 in df.groupby('round'):\n",
    "    maxgoals = max(df1['hgoals'].max(), df1['agoals'].max())\n",
    "    teams = list(df1['hteam'][df1['hgoals'] == maxgoals]) + list(df1['ateam'][df1['agoals'] == maxgoals])\n",
    "    for t in teams:\n",
    "        data.append({'round': r, 'team': t, 'goals': maxgoals})\n",
    "pd.DataFrame(data)"
   ]
  },
  {
   "cell_type": "markdown",
   "id": "2565f950",
   "metadata": {},
   "source": [
    "### Context Manager (with statment)"
   ]
  },
  {
   "cell_type": "code",
   "execution_count": 34,
   "id": "8e54efb6",
   "metadata": {},
   "outputs": [
    {
     "name": "stdout",
     "output_type": "stream",
     "text": [
      "Erorr\n"
     ]
    }
   ],
   "source": [
    "# file handling example\n",
    "try:\n",
    "    f = open('pl.txt')\n",
    "    f.readline()\n",
    "    line = f.readline()\n",
    "    tok = line.split()\n",
    "    int(tok[1])\n",
    "except ValueError:\n",
    "    print('Erorr')\n",
    "finally:\n",
    "    f.close()"
   ]
  },
  {
   "cell_type": "code",
   "execution_count": 35,
   "id": "6387dcd6",
   "metadata": {},
   "outputs": [
    {
     "ename": "ValueError",
     "evalue": "invalid literal for int() with base 10: 'column'",
     "output_type": "error",
     "traceback": [
      "\u001b[0;31m---------------------------------------------------------------------------\u001b[0m",
      "\u001b[0;31mValueError\u001b[0m                                Traceback (most recent call last)",
      "Input \u001b[0;32mIn [35]\u001b[0m, in \u001b[0;36m<cell line: 2>\u001b[0;34m()\u001b[0m\n\u001b[1;32m      4\u001b[0m line2 \u001b[38;5;241m=\u001b[39m f2\u001b[38;5;241m.\u001b[39mreadline()\n\u001b[1;32m      5\u001b[0m tok2 \u001b[38;5;241m=\u001b[39m line2\u001b[38;5;241m.\u001b[39msplit()\n\u001b[0;32m----> 6\u001b[0m \u001b[38;5;28;43mint\u001b[39;49m\u001b[43m(\u001b[49m\u001b[43mtok2\u001b[49m\u001b[43m[\u001b[49m\u001b[38;5;241;43m1\u001b[39;49m\u001b[43m]\u001b[49m\u001b[43m)\u001b[49m\n",
      "\u001b[0;31mValueError\u001b[0m: invalid literal for int() with base 10: 'column'"
     ]
    }
   ],
   "source": [
    "# the same example using the with statment\n",
    "with open('pl.txt') as f2: # f2.__enter__() is called\n",
    "    f2.readline()\n",
    "    line2 = f2.readline()\n",
    "    tok2 = line2.split()\n",
    "    int(tok2[1])\n",
    "# f2.__exit__() is called"
   ]
  },
  {
   "cell_type": "code",
   "execution_count": 36,
   "id": "57a36646",
   "metadata": {},
   "outputs": [
    {
     "ename": "ValueError",
     "evalue": "I/O operation on closed file.",
     "output_type": "error",
     "traceback": [
      "\u001b[0;31m---------------------------------------------------------------------------\u001b[0m",
      "\u001b[0;31mValueError\u001b[0m                                Traceback (most recent call last)",
      "Input \u001b[0;32mIn [36]\u001b[0m, in \u001b[0;36m<cell line: 1>\u001b[0;34m()\u001b[0m\n\u001b[0;32m----> 1\u001b[0m \u001b[43mf2\u001b[49m\u001b[38;5;241;43m.\u001b[39;49m\u001b[43mreadline\u001b[49m\u001b[43m(\u001b[49m\u001b[43m)\u001b[49m\n",
      "\u001b[0;31mValueError\u001b[0m: I/O operation on closed file."
     ]
    }
   ],
   "source": [
    "f2.readline()"
   ]
  },
  {
   "cell_type": "code",
   "execution_count": 37,
   "id": "857d5ea2",
   "metadata": {},
   "outputs": [],
   "source": [
    "# writing a file using Context Manager\n",
    "with open('foo.txt', 'w') as f:\n",
    "    f.write('bar')\n",
    "# the file is closed for sure"
   ]
  },
  {
   "cell_type": "code",
   "execution_count": 38,
   "id": "ee0b12cc",
   "metadata": {},
   "outputs": [
    {
     "data": {
      "text/plain": [
       "3"
      ]
     },
     "execution_count": 38,
     "metadata": {},
     "output_type": "execute_result"
    }
   ],
   "source": [
    "open('foo.txt', 'w').write('bar')\n",
    "# it is dependent on the interpreter or configuration if the file is close here"
   ]
  },
  {
   "cell_type": "markdown",
   "id": "91a7983a",
   "metadata": {},
   "source": [
    "### Double-base Palindromes (Problem 36)\n",
    "\n",
    "The decimal number $585_{10} = 1001001001_2$ is palindromic in both bases. Find the sum of all numbers, less than one million, which are palindromic in base 10 and base 2. (Please note that the palindromic number, in either base, may not include leading zeros.)"
   ]
  },
  {
   "cell_type": "code",
   "execution_count": 51,
   "id": "ec20f4b0",
   "metadata": {},
   "outputs": [
    {
     "data": {
      "text/plain": [
       "872187"
      ]
     },
     "execution_count": 51,
     "metadata": {},
     "output_type": "execute_result"
    }
   ],
   "source": [
    "s = 0\n",
    "for i in range (1, 1000000):\n",
    "    x = str(i)\n",
    "    if x == x[::-1]:\n",
    "        b = bin(i)\n",
    "        if b[2::] == b[:1:-1]:\n",
    "            s += i\n",
    "s"
   ]
  },
  {
   "cell_type": "code",
   "execution_count": 52,
   "id": "7f68e718",
   "metadata": {},
   "outputs": [
    {
     "data": {
      "text/plain": [
       "872187"
      ]
     },
     "execution_count": 52,
     "metadata": {},
     "output_type": "execute_result"
    }
   ],
   "source": [
    "# Solution 2\n",
    "def is_palindrome(s):\n",
    "    return s == s[::-1]\n",
    "\n",
    "s = 0\n",
    "for i in range(1_000_000):\n",
    "    if is_palindrome(str(i)) and is_palindrome(bin(i)[2:]):\n",
    "        s += i\n",
    "s"
   ]
  },
  {
   "cell_type": "code",
   "execution_count": null,
   "id": "60c7f831",
   "metadata": {},
   "outputs": [],
   "source": []
  }
 ],
 "metadata": {
  "kernelspec": {
   "display_name": "Python 3 (ipykernel)",
   "language": "python",
   "name": "python3"
  },
  "language_info": {
   "codemirror_mode": {
    "name": "ipython",
    "version": 3
   },
   "file_extension": ".py",
   "mimetype": "text/x-python",
   "name": "python",
   "nbconvert_exporter": "python",
   "pygments_lexer": "ipython3",
   "version": "3.8.0"
  }
 },
 "nbformat": 4,
 "nbformat_minor": 5
}
