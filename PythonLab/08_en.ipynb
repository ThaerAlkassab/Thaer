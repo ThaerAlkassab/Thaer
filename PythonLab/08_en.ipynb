{
 "cells": [
  {
   "cell_type": "markdown",
   "metadata": {},
   "source": [
    "## Elements of the [standard library](https://docs.python.org/3/library/index.html) I.\n",
    "\n",
    "- Python's standard library contains more than 200 packages and modules. It provides standard solutions to everyday programming tasks.\n",
    "- In the course we only attempt to overview a small subset of the standar library.\n",
    "- A good programmer does not invent the wheel. If possible, he/she solves the problem with the tools of the standard library."
   ]
  },
  {
   "cell_type": "markdown",
   "metadata": {},
   "source": [
    "#### [datetime](https://docs.python.org/3/library/datetime.html)\n",
    "- Provides tools for date and time handling.\n",
    "- Supports date arithmetic, handles time zones, daylight time, leap years etc.\n",
    "- Allows dates both with and without time zone."
   ]
  },
  {
   "cell_type": "code",
   "execution_count": 2,
   "metadata": {},
   "outputs": [],
   "source": [
    "import datetime"
   ]
  },
  {
   "cell_type": "code",
   "execution_count": 3,
   "metadata": {},
   "outputs": [
    {
     "data": {
      "text/plain": [
       "datetime.datetime(2023, 10, 9, 8, 49, 30, 123456)"
      ]
     },
     "execution_count": 3,
     "metadata": {},
     "output_type": "execute_result"
    }
   ],
   "source": [
    "# Defining time with microsecond accuracy.\n",
    "datetime.datetime(2023, 10, 9, 8, 49, 30, 123456)"
   ]
  },
  {
   "cell_type": "code",
   "execution_count": 4,
   "metadata": {},
   "outputs": [
    {
     "data": {
      "text/plain": [
       "datetime.date(2023, 10, 9)"
      ]
     },
     "execution_count": 4,
     "metadata": {},
     "output_type": "execute_result"
    }
   ],
   "source": [
    "# Defining a date with day accuracy.\n",
    "datetime.date(2023, 10, 9)"
   ]
  },
  {
   "cell_type": "code",
   "execution_count": 5,
   "metadata": {},
   "outputs": [
    {
     "data": {
      "text/plain": [
       "datetime.timedelta(days=974, seconds=50425, microseconds=100)"
      ]
     },
     "execution_count": 5,
     "metadata": {},
     "output_type": "execute_result"
    }
   ],
   "source": [
    "# Time arithmetic.\n",
    "dt1 = datetime.datetime(2020, 10, 12, 14, 0, 25, 100)\n",
    "dt2 = datetime.datetime(2018, 2, 11, 0, 0, 0)\n",
    "diff = dt1 - dt2\n",
    "diff"
   ]
  },
  {
   "cell_type": "code",
   "execution_count": 6,
   "metadata": {},
   "outputs": [
    {
     "data": {
      "text/plain": [
       "974"
      ]
     },
     "execution_count": 6,
     "metadata": {},
     "output_type": "execute_result"
    }
   ],
   "source": [
    "# The difference is 974 days + 50425 seconds + 100 microseconds.\n",
    "diff.days"
   ]
  },
  {
   "cell_type": "code",
   "execution_count": 7,
   "metadata": {},
   "outputs": [
    {
     "data": {
      "text/plain": [
       "50425"
      ]
     },
     "execution_count": 7,
     "metadata": {},
     "output_type": "execute_result"
    }
   ],
   "source": [
    "diff.seconds"
   ]
  },
  {
   "cell_type": "code",
   "execution_count": 8,
   "metadata": {},
   "outputs": [
    {
     "data": {
      "text/plain": [
       "100"
      ]
     },
     "execution_count": 8,
     "metadata": {},
     "output_type": "execute_result"
    }
   ],
   "source": [
    "diff.microseconds\n"
   ]
  },
  {
   "cell_type": "code",
   "execution_count": 9,
   "metadata": {},
   "outputs": [
    {
     "data": {
      "text/plain": [
       "84204025.0001"
      ]
     },
     "execution_count": 9,
     "metadata": {},
     "output_type": "execute_result"
    }
   ],
   "source": [
    "# Given in seconds:\n",
    "diff.total_seconds()"
   ]
  },
  {
   "cell_type": "code",
   "execution_count": 10,
   "metadata": {},
   "outputs": [
    {
     "data": {
      "text/plain": [
       "datetime.datetime(2023, 11, 1, 4, 49, 30, 123456)"
      ]
     },
     "execution_count": 10,
     "metadata": {},
     "output_type": "execute_result"
    }
   ],
   "source": [
    "# Add 8 hours to the time!\n",
    "dt = datetime.datetime(2023, 10, 31, 20, 49, 30, 123456)\n",
    "diff = datetime.timedelta(seconds=3600 * 8)\n",
    "dt + diff"
   ]
  },
  {
   "cell_type": "code",
   "execution_count": 11,
   "metadata": {},
   "outputs": [
    {
     "data": {
      "text/plain": [
       "datetime.datetime(2023, 11, 1, 11, 47, 39, 709176)"
      ]
     },
     "execution_count": 11,
     "metadata": {},
     "output_type": "execute_result"
    }
   ],
   "source": [
    "# Querying the current time.\n",
    "dt = datetime.datetime.now()\n",
    "dt"
   ]
  },
  {
   "cell_type": "code",
   "execution_count": 12,
   "metadata": {},
   "outputs": [
    {
     "name": "stdout",
     "output_type": "stream",
     "text": [
      "2023 11 1 11 47 39 709176\n"
     ]
    }
   ],
   "source": [
    "# Accessing the fields of the datetime object.\n",
    "print(\n",
    "    dt.year,\n",
    "    dt.month,\n",
    "    dt.day,\n",
    "    dt.hour,\n",
    "    dt.minute,\n",
    "    dt.second,\n",
    "    dt.microsecond\n",
    ")"
   ]
  },
  {
   "cell_type": "code",
   "execution_count": 34,
   "metadata": {},
   "outputs": [
    {
     "data": {
      "text/plain": [
       "0"
      ]
     },
     "execution_count": 34,
     "metadata": {},
     "output_type": "execute_result"
    }
   ],
   "source": [
    "# Querying the day of week (0=Monday, ..., 6=Sunday).\n",
    "dt.weekday()"
   ]
  },
  {
   "cell_type": "code",
   "execution_count": 41,
   "metadata": {},
   "outputs": [
    {
     "name": "stdout",
     "output_type": "stream",
     "text": [
      "year: 2022\n",
      "month: 10\n",
      "day: 24\n",
      "297\n"
     ]
    }
   ],
   "source": [
    "# Exercise: Write a program that reads a date, then prints the day number\n",
    "# of the date within the given year (how manyth is the day within the year)!\n",
    "\n",
    "y = int(input('year: '))\n",
    "m = int(input('month: '))\n",
    "d = int(input('day: '))\n",
    "diff = datetime.datetime(y, m, d) - datetime.datetime(y, 1, 1)\n",
    "print(diff.days + 1)"
   ]
  },
  {
   "cell_type": "code",
   "execution_count": 43,
   "metadata": {},
   "outputs": [
    {
     "name": "stdout",
     "output_type": "stream",
     "text": [
      "Enter a date (yyyy-mm-dd): 2022-10-24\n"
     ]
    }
   ],
   "source": [
    "# ...alternative way for reading the date:\n",
    "tok = input('Enter a date (yyyy-mm-dd): ').split('-')\n",
    "y, m, d = int(tok[0]), int(tok[1]), int(tok[2])"
   ]
  },
  {
   "cell_type": "code",
   "execution_count": 44,
   "metadata": {},
   "outputs": [
    {
     "data": {
      "text/plain": [
       "(2022, 10, 24)"
      ]
     },
     "execution_count": 44,
     "metadata": {},
     "output_type": "execute_result"
    }
   ],
   "source": [
    "y, m, d"
   ]
  },
  {
   "cell_type": "code",
   "execution_count": 45,
   "metadata": {},
   "outputs": [],
   "source": [
    "# Exercise: Write a program that prints the names\n",
    "# of the following people, ordered by ascending age.\n",
    "\n",
    "people = [\n",
    "    # name, date of birth\n",
    "    ('Gipsz Jakab',  datetime.date(1957, 11, 21)),\n",
    "    ('Wincs Eszter', datetime.date(1980, 5, 7)),\n",
    "    ('Békés Farkas', datetime.date(2014, 7, 30)),\n",
    "    ('Har Mónika',   datetime.date(1995, 2, 27)),\n",
    "    ('Trab Antal',   datetime.date(1961, 4, 1)),\n",
    "    ('Git Áron',     datetime.date(1995, 2, 28)),\n",
    "    ('Bank Aranka',  datetime.date(1980, 9, 1))\n",
    "]"
   ]
  },
  {
   "cell_type": "code",
   "execution_count": 52,
   "metadata": {},
   "outputs": [
    {
     "name": "stdout",
     "output_type": "stream",
     "text": [
      "Békés Farkas\n",
      "Git Áron\n",
      "Har Mónika\n",
      "Bank Aranka\n",
      "Wincs Eszter\n",
      "Trab Antal\n",
      "Gipsz Jakab\n"
     ]
    }
   ],
   "source": [
    "# solution 1\n",
    "for name, dt in sorted(people, key=lambda p: p[1], reverse=True):\n",
    "    print(name)"
   ]
  },
  {
   "cell_type": "code",
   "execution_count": 56,
   "metadata": {},
   "outputs": [
    {
     "data": {
      "text/plain": [
       "['Békés Farkas',\n",
       " 'Git Áron',\n",
       " 'Har Mónika',\n",
       " 'Bank Aranka',\n",
       " 'Wincs Eszter',\n",
       " 'Trab Antal',\n",
       " 'Gipsz Jakab']"
      ]
     },
     "execution_count": 56,
     "metadata": {},
     "output_type": "execute_result"
    }
   ],
   "source": [
    "# solution 2\n",
    "people2 = dict(people)\n",
    "sorted(people2, key=lambda n: people2[n], reverse=True)\n"
   ]
  },
  {
   "cell_type": "markdown",
   "metadata": {},
   "source": [
    "#### [time](https://docs.python.org/3/library/time.html)\n",
    "- Provides tools for low level time handling, such as measuring durations and waiting."
   ]
  },
  {
   "cell_type": "code",
   "execution_count": 14,
   "metadata": {},
   "outputs": [],
   "source": [
    "import time"
   ]
  },
  {
   "cell_type": "code",
   "execution_count": 58,
   "metadata": {},
   "outputs": [
    {
     "data": {
      "text/plain": [
       "1696836752.5982697"
      ]
     },
     "execution_count": 58,
     "metadata": {},
     "output_type": "execute_result"
    }
   ],
   "source": [
    "# Querying the current time (as a UNIX time stamp).\n",
    "time.time()"
   ]
  },
  {
   "cell_type": "code",
   "execution_count": 59,
   "metadata": {},
   "outputs": [],
   "source": [
    "# (seconds elapsed since 1970-01-01)"
   ]
  },
  {
   "cell_type": "code",
   "execution_count": 60,
   "metadata": {},
   "outputs": [
    {
     "data": {
      "text/plain": [
       "1696836828.7518756"
      ]
     },
     "execution_count": 60,
     "metadata": {},
     "output_type": "execute_result"
    }
   ],
   "source": [
    "time.time()"
   ]
  },
  {
   "cell_type": "code",
   "execution_count": 65,
   "metadata": {},
   "outputs": [
    {
     "data": {
      "text/plain": [
       "0.43359804153442383"
      ]
     },
     "execution_count": 65,
     "metadata": {},
     "output_type": "execute_result"
    }
   ],
   "source": [
    "# Measuring the duration of a calculation.\n",
    "t0 = time.time()\n",
    "s = 0\n",
    "for i in range(1, 1000001):\n",
    "    s += 1 / i**2\n",
    "time.time() - t0"
   ]
  },
  {
   "cell_type": "code",
   "execution_count": 15,
   "metadata": {},
   "outputs": [],
   "source": [
    "# Waiting for 2 seconds.\n",
    "time.sleep(2)"
   ]
  },
  {
   "cell_type": "markdown",
   "metadata": {},
   "source": [
    "#### [math](https://docs.python.org/3/library/math.html)\n",
    "\n",
    "- Contains basic mathematical functions.\n",
    "- Advice: Do not use the math module in a NumPy based code, but use NumPy's built in functions instead!"
   ]
  },
  {
   "cell_type": "code",
   "execution_count": 67,
   "metadata": {},
   "outputs": [],
   "source": [
    "import math"
   ]
  },
  {
   "cell_type": "code",
   "execution_count": 68,
   "metadata": {},
   "outputs": [
    {
     "data": {
      "text/plain": [
       "2.718281828459045"
      ]
     },
     "execution_count": 68,
     "metadata": {},
     "output_type": "execute_result"
    }
   ],
   "source": [
    "# Exponential function.\n",
    "math.exp(1)"
   ]
  },
  {
   "cell_type": "code",
   "execution_count": 69,
   "metadata": {},
   "outputs": [
    {
     "data": {
      "text/plain": [
       "12.182493960703473"
      ]
     },
     "execution_count": 69,
     "metadata": {},
     "output_type": "execute_result"
    }
   ],
   "source": [
    "math.exp(2.5)"
   ]
  },
  {
   "cell_type": "code",
   "execution_count": 70,
   "metadata": {},
   "outputs": [
    {
     "data": {
      "text/plain": [
       "2.302585092994046"
      ]
     },
     "execution_count": 70,
     "metadata": {},
     "output_type": "execute_result"
    }
   ],
   "source": [
    "# Natural logarithm.\n",
    "math.log(10)"
   ]
  },
  {
   "cell_type": "code",
   "execution_count": 72,
   "metadata": {},
   "outputs": [
    {
     "data": {
      "text/plain": [
       "3.0"
      ]
     },
     "execution_count": 72,
     "metadata": {},
     "output_type": "execute_result"
    }
   ],
   "source": [
    "# Logarithm with base q.\n",
    "math.log(8, 2)"
   ]
  },
  {
   "cell_type": "code",
   "execution_count": 73,
   "metadata": {},
   "outputs": [
    {
     "data": {
      "text/plain": [
       "0.0"
      ]
     },
     "execution_count": 73,
     "metadata": {},
     "output_type": "execute_result"
    }
   ],
   "source": [
    "# Trigonometric functions and their inverses.\n",
    "math.sin(0)"
   ]
  },
  {
   "cell_type": "code",
   "execution_count": 75,
   "metadata": {},
   "outputs": [
    {
     "data": {
      "text/plain": [
       "1.0"
      ]
     },
     "execution_count": 75,
     "metadata": {},
     "output_type": "execute_result"
    }
   ],
   "source": [
    "math.cos(0)"
   ]
  },
  {
   "cell_type": "code",
   "execution_count": 77,
   "metadata": {},
   "outputs": [
    {
     "data": {
      "text/plain": [
       "1.5707963267948966"
      ]
     },
     "execution_count": 77,
     "metadata": {},
     "output_type": "execute_result"
    }
   ],
   "source": [
    "math.asin(1)"
   ]
  },
  {
   "cell_type": "code",
   "execution_count": 78,
   "metadata": {},
   "outputs": [
    {
     "data": {
      "text/plain": [
       "2.718281828459045"
      ]
     },
     "execution_count": 78,
     "metadata": {},
     "output_type": "execute_result"
    }
   ],
   "source": [
    "# pi, e\n",
    "math.e"
   ]
  },
  {
   "cell_type": "code",
   "execution_count": 79,
   "metadata": {},
   "outputs": [
    {
     "data": {
      "text/plain": [
       "3.141592653589793"
      ]
     },
     "execution_count": 79,
     "metadata": {},
     "output_type": "execute_result"
    }
   ],
   "source": [
    "math.pi"
   ]
  },
  {
   "cell_type": "markdown",
   "metadata": {},
   "source": [
    "#### [random](https://docs.python.org/3/library/random.html)\n",
    "- Provides tools for generating pseudo-random numbers."
   ]
  },
  {
   "cell_type": "code",
   "execution_count": 1,
   "metadata": {},
   "outputs": [],
   "source": [
    "import random"
   ]
  },
  {
   "cell_type": "code",
   "execution_count": 83,
   "metadata": {},
   "outputs": [
    {
     "data": {
      "text/plain": [
       "10"
      ]
     },
     "execution_count": 83,
     "metadata": {},
     "output_type": "execute_result"
    }
   ],
   "source": [
    "# Drawing an int from a given interval.\n",
    "random.randint(10, 20)"
   ]
  },
  {
   "cell_type": "code",
   "execution_count": 86,
   "metadata": {},
   "outputs": [
    {
     "data": {
      "text/plain": [
       "15"
      ]
     },
     "execution_count": 86,
     "metadata": {},
     "output_type": "execute_result"
    }
   ],
   "source": [
    "random.randrange(0, 50, 5)"
   ]
  },
  {
   "cell_type": "code",
   "execution_count": 89,
   "metadata": {},
   "outputs": [
    {
     "data": {
      "text/plain": [
       "16.81237192687865"
      ]
     },
     "execution_count": 89,
     "metadata": {},
     "output_type": "execute_result"
    }
   ],
   "source": [
    "# Drawing a float from a given interval.\n",
    "random.uniform(10, 20)"
   ]
  },
  {
   "cell_type": "code",
   "execution_count": 97,
   "metadata": {},
   "outputs": [
    {
     "data": {
      "text/plain": [
       "-0.857221787652596"
      ]
     },
     "execution_count": 97,
     "metadata": {},
     "output_type": "execute_result"
    }
   ],
   "source": [
    "# Drawing from standard normal distribution.\n",
    "random.gauss(0, 1)"
   ]
  },
  {
   "cell_type": "code",
   "execution_count": 99,
   "metadata": {},
   "outputs": [
    {
     "name": "stdout",
     "output_type": "stream",
     "text": [
      "6\n",
      "1\n",
      "1\n",
      "6\n",
      "3\n"
     ]
    }
   ],
   "source": [
    "# Setting the state of the random number generator.\n",
    "random.seed(42)\n",
    "for _ in range(5):\n",
    "    print(random.randint(1, 6))"
   ]
  },
  {
   "cell_type": "code",
   "execution_count": 101,
   "metadata": {},
   "outputs": [
    {
     "name": "stdout",
     "output_type": "stream",
     "text": [
      "6\n",
      "1\n"
     ]
    }
   ],
   "source": [
    "# Creating a random number generator object.\n",
    "r1 = random.Random(42)\n",
    "print(r1.randint(1, 6))\n",
    "print(r1.randint(1, 6))"
   ]
  },
  {
   "cell_type": "code",
   "execution_count": 102,
   "metadata": {},
   "outputs": [
    {
     "name": "stdout",
     "output_type": "stream",
     "text": [
      "1\n",
      "3\n"
     ]
    }
   ],
   "source": [
    "r2 = random.Random(43)\n",
    "print(r2.randint(1, 6))\n",
    "print(r2.randint(1, 6))"
   ]
  },
  {
   "cell_type": "code",
   "execution_count": 107,
   "metadata": {},
   "outputs": [
    {
     "data": {
      "text/plain": [
       "'orange'"
      ]
     },
     "execution_count": 107,
     "metadata": {},
     "output_type": "execute_result"
    }
   ],
   "source": [
    "# Drawing an item from a sequence.\n",
    "seq = ['apple', 'pear', 'orange']\n",
    "random.choice(seq)"
   ]
  },
  {
   "cell_type": "code",
   "execution_count": 111,
   "metadata": {},
   "outputs": [
    {
     "data": {
      "text/plain": [
       "[14, 87, 70, 12, 76]"
      ]
     },
     "execution_count": 111,
     "metadata": {},
     "output_type": "execute_result"
    }
   ],
   "source": [
    "# Sampling without replacement.\n",
    "random.sample(range(1, 91), 5)"
   ]
  },
  {
   "cell_type": "code",
   "execution_count": 113,
   "metadata": {},
   "outputs": [
    {
     "data": {
      "text/plain": [
       "[4, 30, 65, 72, 78]"
      ]
     },
     "execution_count": 113,
     "metadata": {},
     "output_type": "execute_result"
    }
   ],
   "source": [
    "sorted(random.sample(range(1, 91), 5))"
   ]
  },
  {
   "cell_type": "code",
   "execution_count": 126,
   "metadata": {},
   "outputs": [
    {
     "name": "stdout",
     "output_type": "stream",
     "text": [
      "T T T T H H T H H H T H H T H H H H H H\n",
      "#heads: 13\n",
      "#tails: 7\n"
     ]
    }
   ],
   "source": [
    "# Exercise: Write a program that simulates a sequence of n coin tosses,\n",
    "# then prints the number of heads and tails!\n",
    "n = 20\n",
    "seq = [random.choice('HT') for _ in range(n)]\n",
    "print(' '.join(seq))\n",
    "print('#heads:', seq.count('H'))\n",
    "print('#tails:', seq.count('T'))"
   ]
  },
  {
   "cell_type": "code",
   "execution_count": 131,
   "metadata": {},
   "outputs": [
    {
     "name": "stdout",
     "output_type": "stream",
     "text": [
      "T H H H H T H H T T H T H H T H T H H T\n",
      "longest heads sequence: 4\n",
      "longest tails sequence: 2\n"
     ]
    }
   ],
   "source": [
    "# Exercise: Write a program that simulates a sequence of n coin tosses,\n",
    "# then prints the length of the longest heads and tails sequence!\n",
    "n = 20\n",
    "seq = [random.choice('HT') for _ in range(n)]\n",
    "print(' '.join(seq))\n",
    "\n",
    "actlen_t = 0\n",
    "actlen_h = 0\n",
    "maxlen_t = 0\n",
    "maxlen_h = 0.\n",
    "for x in seq:\n",
    "    if x == 'H':\n",
    "        actlen_h += 1\n",
    "        maxlen_h = max(maxlen_h, actlen_h)\n",
    "        actlen_t = 0\n",
    "    else:\n",
    "        actlen_t += 1\n",
    "        maxlen_t = max(maxlen_t, actlen_t)\n",
    "        actlen_h = 0\n",
    "        \n",
    "print('longest heads sequence:', maxlen_h)\n",
    "print('longest tails sequence:', maxlen_t)"
   ]
  },
  {
   "cell_type": "code",
   "execution_count": 133,
   "metadata": {},
   "outputs": [
    {
     "name": "stdout",
     "output_type": "stream",
     "text": [
      "H T T T T H T H T H T H H T T H T T H T\n",
      "{'H': 2, 'T': 4}\n"
     ]
    }
   ],
   "source": [
    "# Making the solution more concise:\n",
    "\n",
    "n = 20\n",
    "seq = [random.choice('HT') for _ in range(n)]\n",
    "print(' '.join(seq))\n",
    "\n",
    "actlen = {'H': 0, 'T': 0}\n",
    "maxlen = {'H': 0, 'T': 0}\n",
    "other = {'H': 'T', 'T': 'H'}\n",
    "for x in seq:\n",
    "    actlen[x] += 1\n",
    "    maxlen[x] = max(maxlen[x], actlen[x])\n",
    "    actlen[other[x]] = 0\n",
    "    \n",
    "print(maxlen)"
   ]
  },
  {
   "cell_type": "markdown",
   "metadata": {},
   "source": [
    "## [Exception handling](https://docs.python.org/3/tutorial/errors.html)\n",
    "\n",
    "- Exception handling is a modern approach of error handling. It enables to handle the errors at the most appropriate location within the code.\n",
    "- The earlier, error code based, method is less elegant. Assume that the error comes up deep in the function call stack. The error has to be handled at multiple locations (in the caller function, in the caller of the caller function etc.), which leads to code duplication or GOTO statements.\n",
    "- Exceptions can be created with the [raise](https://docs.python.org/3/reference/simple_stmts.html#the-raise-statement) statement, and they can be caught with the [try](https://docs.python.org/3/reference/compound_stmts.html#the-try-statement) statement.\n",
    "- The hierarchy of the built-in exception types can be overviewed [here](https://docs.python.org/3/library/exceptions.html#exception-hierarchy)."
   ]
  },
  {
   "cell_type": "code",
   "execution_count": 16,
   "metadata": {},
   "outputs": [
    {
     "name": "stdout",
     "output_type": "stream",
     "text": [
      "bar\n"
     ]
    },
    {
     "ename": "ValueError",
     "evalue": "foo",
     "output_type": "error",
     "traceback": [
      "\u001b[0;31m---------------------------------------------------------------------------\u001b[0m",
      "\u001b[0;31mValueError\u001b[0m                                Traceback (most recent call last)",
      "Input \u001b[0;32mIn [16]\u001b[0m, in \u001b[0;36m<cell line: 2>\u001b[0;34m()\u001b[0m\n\u001b[1;32m      2\u001b[0m \u001b[38;5;28;01mfor\u001b[39;00m i \u001b[38;5;129;01min\u001b[39;00m \u001b[38;5;28mrange\u001b[39m(\u001b[38;5;241m5\u001b[39m):\n\u001b[1;32m      3\u001b[0m     \u001b[38;5;28mprint\u001b[39m(\u001b[38;5;124m'\u001b[39m\u001b[38;5;124mbar\u001b[39m\u001b[38;5;124m'\u001b[39m)\n\u001b[0;32m----> 4\u001b[0m     \u001b[38;5;28;01mraise\u001b[39;00m \u001b[38;5;167;01mValueError\u001b[39;00m(\u001b[38;5;124m'\u001b[39m\u001b[38;5;124mfoo\u001b[39m\u001b[38;5;124m'\u001b[39m)\n",
      "\u001b[0;31mValueError\u001b[0m: foo"
     ]
    }
   ],
   "source": [
    "# Raising a ValueError.\n",
    "for i in range(5):\n",
    "    print('bar')\n",
    "    raise ValueError('foo')"
   ]
  },
  {
   "cell_type": "code",
   "execution_count": 17,
   "metadata": {},
   "outputs": [
    {
     "ename": "ZeroDivisionError",
     "evalue": "division by zero",
     "output_type": "error",
     "traceback": [
      "\u001b[0;31m---------------------------------------------------------------------------\u001b[0m",
      "\u001b[0;31mZeroDivisionError\u001b[0m                         Traceback (most recent call last)",
      "Input \u001b[0;32mIn [17]\u001b[0m, in \u001b[0;36m<cell line: 2>\u001b[0;34m()\u001b[0m\n\u001b[1;32m      1\u001b[0m \u001b[38;5;66;03m# Division by zero.\u001b[39;00m\n\u001b[0;32m----> 2\u001b[0m \u001b[38;5;241;43m1\u001b[39;49m\u001b[43m \u001b[49m\u001b[38;5;241;43m/\u001b[39;49m\u001b[43m \u001b[49m\u001b[38;5;241;43m0\u001b[39;49m\n",
      "\u001b[0;31mZeroDivisionError\u001b[0m: division by zero"
     ]
    }
   ],
   "source": [
    "# Division by zero.\n",
    "1 / 0"
   ]
  },
  {
   "cell_type": "code",
   "execution_count": 142,
   "metadata": {},
   "outputs": [
    {
     "name": "stdout",
     "output_type": "stream",
     "text": [
      "x: a\n",
      "enter numbers!\n",
      "x: 1\n",
      "y: 0\n",
      "y should not be zero!\n",
      "x: 1\n",
      "y: 2\n",
      "0.5\n"
     ]
    }
   ],
   "source": [
    "# Catching an exception.\n",
    "while True:\n",
    "    try:\n",
    "        x = float(input('x: '))\n",
    "        y = float(input('y: '))\n",
    "        z = x / y\n",
    "        print(z)\n",
    "        break\n",
    "    except ValueError:\n",
    "        print('enter numbers!')\n",
    "    except ZeroDivisionError:\n",
    "        print('y should not be zero!')"
   ]
  },
  {
   "cell_type": "markdown",
   "metadata": {},
   "source": [
    "## Debugging"
   ]
  },
  {
   "cell_type": "code",
   "execution_count": 143,
   "metadata": {},
   "outputs": [
    {
     "ename": "IndexError",
     "evalue": "list index out of range",
     "output_type": "error",
     "traceback": [
      "\u001b[0;31m---------------------------------------------------------------------------\u001b[0m",
      "\u001b[0;31mIndexError\u001b[0m                                Traceback (most recent call last)",
      "Input \u001b[0;32mIn [143]\u001b[0m, in \u001b[0;36m<cell line: 3>\u001b[0;34m()\u001b[0m\n\u001b[1;32m      1\u001b[0m \u001b[38;5;66;03m# First step: ALWAYS read the error message! :-)\u001b[39;00m\n\u001b[1;32m      2\u001b[0m l \u001b[38;5;241m=\u001b[39m [\u001b[38;5;241m2\u001b[39m, \u001b[38;5;241m3\u001b[39m]\n\u001b[0;32m----> 3\u001b[0m \u001b[43ml\u001b[49m\u001b[43m[\u001b[49m\u001b[38;5;241;43m10\u001b[39;49m\u001b[43m]\u001b[49m\n",
      "\u001b[0;31mIndexError\u001b[0m: list index out of range"
     ]
    }
   ],
   "source": [
    "# First step: ALWAYS read the error message! :-)\n",
    "l = [2, 3]\n",
    "l[10]"
   ]
  },
  {
   "cell_type": "code",
   "execution_count": 144,
   "metadata": {},
   "outputs": [
    {
     "ename": "TypeError",
     "evalue": "unsupported operand type(s) for +: 'int' and 'list'",
     "output_type": "error",
     "traceback": [
      "\u001b[0;31m---------------------------------------------------------------------------\u001b[0m",
      "\u001b[0;31mTypeError\u001b[0m                                 Traceback (most recent call last)",
      "Input \u001b[0;32mIn [144]\u001b[0m, in \u001b[0;36m<cell line: 9>\u001b[0;34m()\u001b[0m\n\u001b[1;32m      6\u001b[0m     \u001b[38;5;28;01mreturn\u001b[39;00m \u001b[38;5;28msum\u001b[39m(merged) \u001b[38;5;241m/\u001b[39m \u001b[38;5;28mlen\u001b[39m(merged)\n\u001b[1;32m      8\u001b[0m data \u001b[38;5;241m=\u001b[39m [[\u001b[38;5;241m3\u001b[39m, \u001b[38;5;241m10\u001b[39m, \u001b[38;5;241m5\u001b[39m], [\u001b[38;5;241m4\u001b[39m, \u001b[38;5;241m8\u001b[39m], [\u001b[38;5;241m1\u001b[39m, \u001b[38;5;241m8\u001b[39m, \u001b[38;5;241m5\u001b[39m]]\n\u001b[0;32m----> 9\u001b[0m \u001b[43mcalc_avg\u001b[49m\u001b[43m(\u001b[49m\u001b[43mdata\u001b[49m\u001b[43m)\u001b[49m\n",
      "Input \u001b[0;32mIn [144]\u001b[0m, in \u001b[0;36mcalc_avg\u001b[0;34m(list_of_lists)\u001b[0m\n\u001b[1;32m      4\u001b[0m \u001b[38;5;28;01mfor\u001b[39;00m lst \u001b[38;5;129;01min\u001b[39;00m list_of_lists:\n\u001b[1;32m      5\u001b[0m     merged\u001b[38;5;241m.\u001b[39mappend(lst)\n\u001b[0;32m----> 6\u001b[0m \u001b[38;5;28;01mreturn\u001b[39;00m \u001b[38;5;28;43msum\u001b[39;49m\u001b[43m(\u001b[49m\u001b[43mmerged\u001b[49m\u001b[43m)\u001b[49m \u001b[38;5;241m/\u001b[39m \u001b[38;5;28mlen\u001b[39m(merged)\n",
      "\u001b[0;31mTypeError\u001b[0m: unsupported operand type(s) for +: 'int' and 'list'"
     ]
    }
   ],
   "source": [
    "# Example for an erroneous function.\n",
    "def calc_avg(list_of_lists):\n",
    "    merged = []\n",
    "    for lst in list_of_lists:\n",
    "        merged.append(lst)\n",
    "    return sum(merged) / len(merged)\n",
    "\n",
    "data = [[3, 10, 5], [4, 8], [1, 8, 5]]\n",
    "calc_avg(data)"
   ]
  },
  {
   "cell_type": "code",
   "execution_count": 145,
   "metadata": {},
   "outputs": [
    {
     "name": "stdout",
     "output_type": "stream",
     "text": [
      "> \u001b[0;32m/tmp/ipykernel_3006/1528903799.py\u001b[0m(6)\u001b[0;36mcalc_avg\u001b[0;34m()\u001b[0m\n",
      "\u001b[0;32m      4 \u001b[0;31m    \u001b[0;32mfor\u001b[0m \u001b[0mlst\u001b[0m \u001b[0;32min\u001b[0m \u001b[0mlist_of_lists\u001b[0m\u001b[0;34m:\u001b[0m\u001b[0;34m\u001b[0m\u001b[0;34m\u001b[0m\u001b[0m\n",
      "\u001b[0m\u001b[0;32m      5 \u001b[0;31m        \u001b[0mmerged\u001b[0m\u001b[0;34m.\u001b[0m\u001b[0mappend\u001b[0m\u001b[0;34m(\u001b[0m\u001b[0mlst\u001b[0m\u001b[0;34m)\u001b[0m\u001b[0;34m\u001b[0m\u001b[0;34m\u001b[0m\u001b[0m\n",
      "\u001b[0m\u001b[0;32m----> 6 \u001b[0;31m    \u001b[0;32mreturn\u001b[0m \u001b[0msum\u001b[0m\u001b[0;34m(\u001b[0m\u001b[0mmerged\u001b[0m\u001b[0;34m)\u001b[0m \u001b[0;34m/\u001b[0m \u001b[0mlen\u001b[0m\u001b[0;34m(\u001b[0m\u001b[0mmerged\u001b[0m\u001b[0;34m)\u001b[0m\u001b[0;34m\u001b[0m\u001b[0;34m\u001b[0m\u001b[0m\n",
      "\u001b[0m\u001b[0;32m      7 \u001b[0;31m\u001b[0;34m\u001b[0m\u001b[0m\n",
      "\u001b[0m\u001b[0;32m      8 \u001b[0;31m\u001b[0mdata\u001b[0m \u001b[0;34m=\u001b[0m \u001b[0;34m[\u001b[0m\u001b[0;34m[\u001b[0m\u001b[0;36m3\u001b[0m\u001b[0;34m,\u001b[0m \u001b[0;36m10\u001b[0m\u001b[0;34m,\u001b[0m \u001b[0;36m5\u001b[0m\u001b[0;34m]\u001b[0m\u001b[0;34m,\u001b[0m \u001b[0;34m[\u001b[0m\u001b[0;36m4\u001b[0m\u001b[0;34m,\u001b[0m \u001b[0;36m8\u001b[0m\u001b[0;34m]\u001b[0m\u001b[0;34m,\u001b[0m \u001b[0;34m[\u001b[0m\u001b[0;36m1\u001b[0m\u001b[0;34m,\u001b[0m \u001b[0;36m8\u001b[0m\u001b[0;34m,\u001b[0m \u001b[0;36m5\u001b[0m\u001b[0;34m]\u001b[0m\u001b[0;34m]\u001b[0m\u001b[0;34m\u001b[0m\u001b[0;34m\u001b[0m\u001b[0m\n",
      "\u001b[0m\n",
      "ipdb> print(merged)\n",
      "[[3, 10, 5], [4, 8], [1, 8, 5]]\n",
      "ipdb> q\n"
     ]
    }
   ],
   "source": [
    "# Find the error using the %debug command!\n",
    "%debug"
   ]
  },
  {
   "cell_type": "code",
   "execution_count": 151,
   "metadata": {},
   "outputs": [
    {
     "data": {
      "text/plain": [
       "5.5"
      ]
     },
     "execution_count": 151,
     "metadata": {},
     "output_type": "execute_result"
    }
   ],
   "source": [
    "# The corrected version of the function.\n",
    "def calc_avg_v2(list_of_lists):\n",
    "    merged = []\n",
    "    for lst in list_of_lists:\n",
    "        merged.extend(lst)\n",
    "    return sum(merged) / len(merged)\n",
    "\n",
    "data = [[3, 10, 5], [4, 8], [1, 8, 5]]\n",
    "calc_avg_v2(data)"
   ]
  },
  {
   "cell_type": "markdown",
   "metadata": {},
   "source": [
    "## Exercises"
   ]
  },
  {
   "cell_type": "markdown",
   "metadata": {},
   "source": [
    "### Largest Palindrome Product (Problem 4)\n",
    "\n",
    "A palindromic number reads the same both ways. The largest palindrome made from the product of two 2-digit numbers is 9009 = 91 × 99. Find the largest palindrome made from the product of two 3-digit numbers!"
   ]
  },
  {
   "cell_type": "code",
   "execution_count": 176,
   "metadata": {},
   "outputs": [
    {
     "name": "stdout",
     "output_type": "stream",
     "text": [
      "906609\n"
     ]
    }
   ],
   "source": [
    "# solution 1\n",
    "pmax = 0\n",
    "for i in range(100, 1000):\n",
    "    for j in range(i, 1000):\n",
    "        p = i * j\n",
    "        s = str(p)\n",
    "        if s == s[::-1] and p > pmax:\n",
    "            pmax = p\n",
    "print(pmax)            "
   ]
  },
  {
   "cell_type": "code",
   "execution_count": 177,
   "metadata": {},
   "outputs": [
    {
     "name": "stdout",
     "output_type": "stream",
     "text": [
      "906609\n"
     ]
    }
   ],
   "source": [
    "# solution 2\n",
    "from itertools import combinations_with_replacement\n",
    "p = [i * j for i, j in combinations_with_replacement(range(100, 1000), 2)]\n",
    "print(max([pi for pi in p if str(pi) == str(pi)[::-1]]))"
   ]
  },
  {
   "cell_type": "code",
   "execution_count": 1,
   "metadata": {},
   "outputs": [
    {
     "name": "stdout",
     "output_type": "stream",
     "text": [
      "[(1, 1), (1, 2), (1, 3), (2, 2), (2, 3), (3, 3)]\n"
     ]
    }
   ],
   "source": [
    "from itertools import combinations_with_replacement\n",
    "\n",
    "# Example usage\n",
    "iterable = [1, 2, 3]\n",
    "r = 2  # Size of combinations\n",
    "\n",
    "# Generate combinations with replacement\n",
    "combinations = list(combinations_with_replacement(iterable, r))\n",
    "\n",
    "print(combinations)\n"
   ]
  },
  {
   "cell_type": "markdown",
   "metadata": {},
   "source": [
    "### Counting Sundays (Problem 19)\n",
    "\n",
    "How many Sundays fell on the first of the month during the twentieth century (1 Jan 1901 to 31 Dec 2000)?"
   ]
  },
  {
   "cell_type": "code",
   "execution_count": 187,
   "metadata": {},
   "outputs": [
    {
     "name": "stdout",
     "output_type": "stream",
     "text": [
      "171\n"
     ]
    }
   ],
   "source": [
    "# solution 1\n",
    "import datetime\n",
    "\n",
    "dt = datetime.date(1901, 1, 1)\n",
    "counter = 0\n",
    "while dt.year < 2001:\n",
    "    if dt.weekday() == 6 and dt.day == 1:\n",
    "        counter += 1\n",
    "    dt += datetime.timedelta(1)\n",
    "\n",
    "print(counter)"
   ]
  },
  {
   "cell_type": "code",
   "execution_count": 188,
   "metadata": {},
   "outputs": [
    {
     "name": "stdout",
     "output_type": "stream",
     "text": [
      "171\n"
     ]
    }
   ],
   "source": [
    "# solution 2 (faster)\n",
    "counter = 0\n",
    "for y in range(1901, 2001):\n",
    "    for m in range(1, 13):\n",
    "        if datetime.date(y, m, 1).weekday() == 6:\n",
    "            counter += 1\n",
    "            \n",
    "print(counter)"
   ]
  },
  {
   "cell_type": "code",
   "execution_count": 192,
   "metadata": {},
   "outputs": [
    {
     "data": {
      "text/plain": [
       "171"
      ]
     },
     "execution_count": 192,
     "metadata": {},
     "output_type": "execute_result"
    }
   ],
   "source": [
    "# solution 3\n",
    "from itertools import product\n",
    "sum(datetime.date(y, m, 1).weekday() == 6 for y, m in product(range(1901, 2001), range(1, 13)))"
   ]
  },
  {
   "cell_type": "markdown",
   "metadata": {},
   "source": [
    "### Even Fibonacci Numbers (Problem 2)\n",
    "\n",
    "Each new term in the Fibonacci sequence is generated by adding the previous two terms. By starting with\n",
    "and, the first 10 terms will be: 1, 2, 3, 5, 8, 13, 21, 34, 55, 89.  By considering the terms in the Fibonacci sequence whose values do not exceed four million, find the sum of the even-valued terms!"
   ]
  },
  {
   "cell_type": "code",
   "execution_count": 196,
   "metadata": {},
   "outputs": [
    {
     "name": "stdout",
     "output_type": "stream",
     "text": [
      "4613732\n"
     ]
    }
   ],
   "source": [
    "s = 0\n",
    "f1 = 1\n",
    "f2 = 2\n",
    "while f1 <= 4_000_000:\n",
    "    if f1 % 2 == 0:\n",
    "        s += f1\n",
    "    f1, f2 = f2, f1 + f2\n",
    "    \n",
    "print(s)"
   ]
  }
 ],
 "metadata": {
  "kernelspec": {
   "display_name": "Python 3 (ipykernel)",
   "language": "python",
   "name": "python3"
  },
  "language_info": {
   "codemirror_mode": {
    "name": "ipython",
    "version": 3
   },
   "file_extension": ".py",
   "mimetype": "text/x-python",
   "name": "python",
   "nbconvert_exporter": "python",
   "pygments_lexer": "ipython3",
   "version": "3.8.0"
  }
 },
 "nbformat": 4,
 "nbformat_minor": 2
}
