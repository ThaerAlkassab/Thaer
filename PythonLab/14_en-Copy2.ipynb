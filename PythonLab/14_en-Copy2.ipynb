{
 "cells": [
  {
   "cell_type": "markdown",
   "id": "b77f10b6",
   "metadata": {},
   "source": [
    "## Generators (the yield statement)"
   ]
  },
  {
   "cell_type": "code",
   "execution_count": 1,
   "id": "ca6a1939",
   "metadata": {},
   "outputs": [
    {
     "name": "stdout",
     "output_type": "stream",
     "text": [
      "1\n",
      "1\n",
      "2\n",
      "3\n",
      "5\n",
      "8\n",
      "13\n",
      "21\n",
      "34\n",
      "55\n"
     ]
    }
   ],
   "source": [
    "# Generate the Fibonacci numbers using a for loop\n",
    "f1, f2 = 1, 1\n",
    "for _ in range(10):\n",
    "    print(f1)\n",
    "    f1, f2 = f2, f1 + f2"
   ]
  },
  {
   "cell_type": "code",
   "execution_count": 2,
   "id": "ece1870e",
   "metadata": {},
   "outputs": [],
   "source": [
    "def gen_fibonacci(n=10):\n",
    "    f1, f2 = 1, 1\n",
    "    for _ in range(n):\n",
    "        yield f1\n",
    "        f1, f2 = f2, f1 + f2"
   ]
  },
  {
   "cell_type": "code",
   "execution_count": 3,
   "id": "66a68830",
   "metadata": {},
   "outputs": [
    {
     "data": {
      "text/plain": [
       "generator"
      ]
     },
     "execution_count": 3,
     "metadata": {},
     "output_type": "execute_result"
    }
   ],
   "source": [
    "type(gen_fibonacci())"
   ]
  },
  {
   "cell_type": "code",
   "execution_count": 4,
   "id": "47a96a34",
   "metadata": {},
   "outputs": [
    {
     "name": "stdout",
     "output_type": "stream",
     "text": [
      "1\n",
      "1\n",
      "2\n",
      "3\n",
      "5\n",
      "8\n",
      "13\n",
      "21\n",
      "34\n",
      "55\n"
     ]
    }
   ],
   "source": [
    "for f in gen_fibonacci():\n",
    "    print(f)"
   ]
  },
  {
   "cell_type": "code",
   "execution_count": 5,
   "id": "499165bc",
   "metadata": {},
   "outputs": [
    {
     "data": {
      "text/plain": [
       "[1,\n",
       " 1,\n",
       " 2,\n",
       " 3,\n",
       " 5,\n",
       " 8,\n",
       " 13,\n",
       " 21,\n",
       " 34,\n",
       " 55,\n",
       " 89,\n",
       " 144,\n",
       " 233,\n",
       " 377,\n",
       " 610,\n",
       " 987,\n",
       " 1597,\n",
       " 2584,\n",
       " 4181,\n",
       " 6765]"
      ]
     },
     "execution_count": 5,
     "metadata": {},
     "output_type": "execute_result"
    }
   ],
   "source": [
    "list(gen_fibonacci(20))"
   ]
  },
  {
   "cell_type": "markdown",
   "id": "ac4c6812",
   "metadata": {},
   "source": [
    "## Generator Expressions"
   ]
  },
  {
   "cell_type": "code",
   "execution_count": 6,
   "id": "89386865",
   "metadata": {},
   "outputs": [],
   "source": [
    "sq = (i**2 for i in range(10))"
   ]
  },
  {
   "cell_type": "code",
   "execution_count": 7,
   "id": "7695f50f",
   "metadata": {},
   "outputs": [
    {
     "data": {
      "text/plain": [
       "generator"
      ]
     },
     "execution_count": 7,
     "metadata": {},
     "output_type": "execute_result"
    }
   ],
   "source": [
    "type(sq)"
   ]
  },
  {
   "cell_type": "code",
   "execution_count": 8,
   "id": "599a7f68",
   "metadata": {},
   "outputs": [
    {
     "data": {
      "text/plain": [
       "285"
      ]
     },
     "execution_count": 8,
     "metadata": {},
     "output_type": "execute_result"
    }
   ],
   "source": [
    "sum(sq)"
   ]
  },
  {
   "cell_type": "code",
   "execution_count": 9,
   "id": "6ddd06fd",
   "metadata": {},
   "outputs": [
    {
     "data": {
      "text/plain": [
       "285"
      ]
     },
     "execution_count": 9,
     "metadata": {},
     "output_type": "execute_result"
    }
   ],
   "source": [
    "sum(i**2 for i in range(10))"
   ]
  },
  {
   "cell_type": "markdown",
   "id": "d6f3cf29",
   "metadata": {},
   "source": [
    "### 10001st Prime (Problem 7)\n",
    "\n",
    "By listing the first six prime numbers: 2, 3, 5, 7, 11, and 13, we can see that the 6th prime is 13.\n",
    "What is the 10001st prime number?"
   ]
  },
  {
   "cell_type": "code",
   "execution_count": 10,
   "id": "acc4a910",
   "metadata": {},
   "outputs": [
    {
     "name": "stdout",
     "output_type": "stream",
     "text": [
      "104743 10001\n",
      "CPU times: user 190 ms, sys: 0 ns, total: 190 ms\n",
      "Wall time: 188 ms\n"
     ]
    }
   ],
   "source": [
    "%%time\n",
    "# solution 1\n",
    "def is_prime(n):\n",
    "    if n <= 1: return False\n",
    "    for i in range(2, int(n**0.5) + 1):\n",
    "        if n % i == 0: return False\n",
    "    return True\n",
    "\n",
    "cand = 3\n",
    "idx = 2\n",
    "while True:\n",
    "    if is_prime(cand):\n",
    "        if idx == 10001: break\n",
    "        idx += 1\n",
    "    cand += 2\n",
    "    \n",
    "print(cand, idx)"
   ]
  },
  {
   "cell_type": "code",
   "execution_count": 11,
   "id": "2c7055cc",
   "metadata": {},
   "outputs": [
    {
     "name": "stdout",
     "output_type": "stream",
     "text": [
      "104743 10001\n",
      "CPU times: user 378 ms, sys: 80.4 ms, total: 458 ms\n",
      "Wall time: 458 ms\n"
     ]
    }
   ],
   "source": [
    "%%time\n",
    "# solution 2\n",
    "import sympy\n",
    "\n",
    "cand = 3\n",
    "idx = 2\n",
    "while True:\n",
    "    if sympy.isprime(cand):\n",
    "        if idx == 10001: break\n",
    "        idx += 1\n",
    "    cand += 2\n",
    "    \n",
    "print(cand, idx)"
   ]
  },
  {
   "cell_type": "code",
   "execution_count": 12,
   "id": "4b969163",
   "metadata": {},
   "outputs": [
    {
     "name": "stdout",
     "output_type": "stream",
     "text": [
      "CPU times: user 131 ms, sys: 4.16 ms, total: 135 ms\n",
      "Wall time: 134 ms\n"
     ]
    },
    {
     "data": {
      "text/plain": [
       "104743"
      ]
     },
     "execution_count": 12,
     "metadata": {},
     "output_type": "execute_result"
    }
   ],
   "source": [
    "%%time\n",
    "# solution 3\n",
    "def gen_primes(n):\n",
    "    yield 2\n",
    "    cand = 3\n",
    "    idx = 2\n",
    "    while True:\n",
    "        if sympy.isprime(cand):\n",
    "            yield cand\n",
    "            if idx == n: return\n",
    "            idx += 1\n",
    "        cand += 2\n",
    "        \n",
    "for p in gen_primes(10001):\n",
    "    pass\n",
    "p"
   ]
  },
  {
   "cell_type": "code",
   "execution_count": 13,
   "id": "efd8ba1d",
   "metadata": {},
   "outputs": [
    {
     "name": "stdout",
     "output_type": "stream",
     "text": [
      "CPU times: user 86.2 ms, sys: 0 ns, total: 86.2 ms\n",
      "Wall time: 85 ms\n"
     ]
    },
    {
     "data": {
      "text/plain": [
       "104743"
      ]
     },
     "execution_count": 13,
     "metadata": {},
     "output_type": "execute_result"
    }
   ],
   "source": [
    "%%time\n",
    "# solution 4\n",
    "\n",
    "def is_prime(n, primes):\n",
    "    for i in primes:\n",
    "        if n % i == 0: return False\n",
    "        if i * i > n: break\n",
    "    return n > 1\n",
    "\n",
    "def gen_primes(n):\n",
    "    yield 2\n",
    "    cand = 3\n",
    "    idx = 2\n",
    "    primes = [2]\n",
    "    while True:\n",
    "        if is_prime(cand, primes):\n",
    "            primes.append(cand)\n",
    "            yield cand\n",
    "            if idx == n: return\n",
    "            idx += 1\n",
    "        cand += 2\n",
    "        \n",
    "for p in gen_primes(10001):\n",
    "    pass\n",
    "p"
   ]
  },
  {
   "cell_type": "markdown",
   "id": "77a8ac82",
   "metadata": {},
   "source": [
    "### Coin Sums (Problem 31)\n",
    "\n",
    "In the United Kingdom the currency is made up of pound (£) and pence (p). There are eight coins in general circulation: 1p, 2p, 5p, 10p, 20p, 50p, £1 (100p), and £2 (200p). It is possible to make £2 in the following way:\n",
    "1×£1 + 1×50p + 2×20p + 1×5p + 1×2p + 3×1p\n",
    "How many different ways can £2 be made using any number of coins?"
   ]
  },
  {
   "cell_type": "code",
   "execution_count": 14,
   "id": "844ab7f7",
   "metadata": {},
   "outputs": [
    {
     "name": "stdout",
     "output_type": "stream",
     "text": [
      "CPU times: user 42.5 ms, sys: 0 ns, total: 42.5 ms\n",
      "Wall time: 41.5 ms\n"
     ]
    },
    {
     "data": {
      "text/plain": [
       "73682"
      ]
     },
     "execution_count": 14,
     "metadata": {},
     "output_type": "execute_result"
    }
   ],
   "source": [
    "%%time\n",
    "def num_decompositions(coins, target):\n",
    "    if target == 0: return 1\n",
    "    if len(coins) == 1: return int(target % coins[0] == 0)\n",
    "    # if len(coins) == 1: return 1\n",
    "    \n",
    "    c = coins[-1]\n",
    "    return sum(\n",
    "        num_decompositions(coins[:-1], target - i * c)\n",
    "        for i in range(target // c + 1)\n",
    "    )\n",
    "        \n",
    "num_decompositions([1, 2, 5, 10, 20, 50, 100, 200], 200)"
   ]
  },
  {
   "cell_type": "markdown",
   "id": "8c3472ae",
   "metadata": {},
   "source": [
    "###  Distinct Powers (Problem 29)\n",
    "\n",
    "Consider all integer combinations of $a^b$ for $2 \\le a \\le 5$ and $2 \\le b \\le 5$:\n",
    "\n",
    "\\begin{matrix}\n",
    "2^2=4, 2^3=8, 2^4=16, 2^5=32\\\\\n",
    "3^2=9, 3^3=27, 3^4=81, 3^5=243\\\\\n",
    "4^2=16,4^3=64, 4^4=256, 4^5=1024\\\\\n",
    "5^2=25, 5^3=125, 5^4=625, 5^5=3125\n",
    "\\end{matrix}\n",
    "<p>If they are then placed in numerical order, with any repeats removed, we get the following sequence of $15$ distinct terms:\n",
    "$$4, 8, 9, 16, 25, 27, 32, 64, 81, 125, 243, 256, 625, 1024, 3125.$$</p>\n",
    "<p>How many distinct terms are in the sequence generated by $a^b$ for $2 \\le a \\le 100$ and $2 \\le b \\le 100$?</p>\n",
    "\n"
   ]
  },
  {
   "cell_type": "code",
   "execution_count": 15,
   "id": "9f033787",
   "metadata": {},
   "outputs": [
    {
     "data": {
      "text/plain": [
       "9183"
      ]
     },
     "execution_count": 15,
     "metadata": {},
     "output_type": "execute_result"
    }
   ],
   "source": [
    "# solution 1\n",
    "s = set()\n",
    "for a in range(2, 101):\n",
    "    for b in range(2, 101):\n",
    "        s.add(a**b)\n",
    "len(s)"
   ]
  },
  {
   "cell_type": "code",
   "execution_count": 16,
   "id": "986dd1dd",
   "metadata": {},
   "outputs": [
    {
     "data": {
      "text/plain": [
       "9183"
      ]
     },
     "execution_count": 16,
     "metadata": {},
     "output_type": "execute_result"
    }
   ],
   "source": [
    "# solution 2\n",
    "import itertools\n",
    "len({a**b for a, b in itertools.product(range(2, 101), repeat=2)})"
   ]
  },
  {
   "cell_type": "markdown",
   "id": "145a5077",
   "metadata": {},
   "source": [
    "### Integer Right Triangles (Problem 39)\n",
    "If $f$ is the perimeter of a right angle triangle with integral length sides, $\\{a, b, c\\}$, there are exactly three solutions for $p=120$.\n",
    "\n",
    "$$\\{20,48,52\\}, \\{24,45,51\\}, \\{30,40,50\\}$$\n",
    "\n",
    "For which value of $p \\leq 1000$, is the number of solutions maximised?"
   ]
  },
  {
   "cell_type": "code",
   "execution_count": 17,
   "id": "f6aa7038",
   "metadata": {},
   "outputs": [],
   "source": [
    "# solution 1\n",
    "nsol = {}\n",
    "for p in range(3, 1001):\n",
    "    cnt = 0\n",
    "    for a in range(1, p // 3 + 1):\n",
    "        for b in range(a, (p - a) // 2 + 1):\n",
    "            c = p - a - b\n",
    "            if a**2 + b**2 == c**2:\n",
    "                cnt += 1\n",
    "    nsol[p] = cnt\n",
    "                "
   ]
  },
  {
   "cell_type": "code",
   "execution_count": 18,
   "id": "08ec8a79",
   "metadata": {},
   "outputs": [
    {
     "data": {
      "text/plain": [
       "840"
      ]
     },
     "execution_count": 18,
     "metadata": {},
     "output_type": "execute_result"
    }
   ],
   "source": [
    "max(nsol, key=lambda p: nsol[p])"
   ]
  },
  {
   "cell_type": "markdown",
   "id": "74c16112",
   "metadata": {},
   "source": [
    "### Iterating over the rows of a DataFrame"
   ]
  },
  {
   "cell_type": "code",
   "execution_count": 19,
   "id": "97f90d93",
   "metadata": {},
   "outputs": [
    {
     "data": {
      "text/html": [
       "<div>\n",
       "<style scoped>\n",
       "    .dataframe tbody tr th:only-of-type {\n",
       "        vertical-align: middle;\n",
       "    }\n",
       "\n",
       "    .dataframe tbody tr th {\n",
       "        vertical-align: top;\n",
       "    }\n",
       "\n",
       "    .dataframe thead th {\n",
       "        text-align: right;\n",
       "    }\n",
       "</style>\n",
       "<table border=\"1\" class=\"dataframe\">\n",
       "  <thead>\n",
       "    <tr style=\"text-align: right;\">\n",
       "      <th></th>\n",
       "      <th>round</th>\n",
       "      <th>hteam</th>\n",
       "      <th>ateam</th>\n",
       "      <th>hgoals</th>\n",
       "      <th>agoals</th>\n",
       "    </tr>\n",
       "  </thead>\n",
       "  <tbody>\n",
       "    <tr>\n",
       "      <th>0</th>\n",
       "      <td>1</td>\n",
       "      <td>Blackburn Rovers</td>\n",
       "      <td>Wolverhampton Wanderers</td>\n",
       "      <td>1</td>\n",
       "      <td>2</td>\n",
       "    </tr>\n",
       "    <tr>\n",
       "      <th>1</th>\n",
       "      <td>1</td>\n",
       "      <td>Fulham FC</td>\n",
       "      <td>Aston Villa</td>\n",
       "      <td>0</td>\n",
       "      <td>0</td>\n",
       "    </tr>\n",
       "    <tr>\n",
       "      <th>2</th>\n",
       "      <td>1</td>\n",
       "      <td>Liverpool FC</td>\n",
       "      <td>Sunderland AFC</td>\n",
       "      <td>1</td>\n",
       "      <td>1</td>\n",
       "    </tr>\n",
       "    <tr>\n",
       "      <th>3</th>\n",
       "      <td>1</td>\n",
       "      <td>Queens Park Rangers</td>\n",
       "      <td>Bolton Wanderers</td>\n",
       "      <td>0</td>\n",
       "      <td>4</td>\n",
       "    </tr>\n",
       "    <tr>\n",
       "      <th>4</th>\n",
       "      <td>1</td>\n",
       "      <td>Wigan Athletic</td>\n",
       "      <td>Norwich City</td>\n",
       "      <td>1</td>\n",
       "      <td>1</td>\n",
       "    </tr>\n",
       "    <tr>\n",
       "      <th>...</th>\n",
       "      <td>...</td>\n",
       "      <td>...</td>\n",
       "      <td>...</td>\n",
       "      <td>...</td>\n",
       "      <td>...</td>\n",
       "    </tr>\n",
       "    <tr>\n",
       "      <th>375</th>\n",
       "      <td>38</td>\n",
       "      <td>Sunderland AFC</td>\n",
       "      <td>Manchester United</td>\n",
       "      <td>0</td>\n",
       "      <td>1</td>\n",
       "    </tr>\n",
       "    <tr>\n",
       "      <th>376</th>\n",
       "      <td>38</td>\n",
       "      <td>Swansea City</td>\n",
       "      <td>Liverpool FC</td>\n",
       "      <td>1</td>\n",
       "      <td>0</td>\n",
       "    </tr>\n",
       "    <tr>\n",
       "      <th>377</th>\n",
       "      <td>38</td>\n",
       "      <td>Tottenham Hotspur</td>\n",
       "      <td>Fulham FC</td>\n",
       "      <td>2</td>\n",
       "      <td>0</td>\n",
       "    </tr>\n",
       "    <tr>\n",
       "      <th>378</th>\n",
       "      <td>38</td>\n",
       "      <td>West Bromwich Albion</td>\n",
       "      <td>Arsenal FC</td>\n",
       "      <td>2</td>\n",
       "      <td>3</td>\n",
       "    </tr>\n",
       "    <tr>\n",
       "      <th>379</th>\n",
       "      <td>38</td>\n",
       "      <td>Wigan Athletic</td>\n",
       "      <td>Wolverhampton Wanderers</td>\n",
       "      <td>3</td>\n",
       "      <td>2</td>\n",
       "    </tr>\n",
       "  </tbody>\n",
       "</table>\n",
       "<p>380 rows × 5 columns</p>\n",
       "</div>"
      ],
      "text/plain": [
       "     round                 hteam                    ateam  hgoals  agoals\n",
       "0        1      Blackburn Rovers  Wolverhampton Wanderers       1       2\n",
       "1        1             Fulham FC              Aston Villa       0       0\n",
       "2        1          Liverpool FC           Sunderland AFC       1       1\n",
       "3        1   Queens Park Rangers         Bolton Wanderers       0       4\n",
       "4        1        Wigan Athletic             Norwich City       1       1\n",
       "..     ...                   ...                      ...     ...     ...\n",
       "375     38        Sunderland AFC        Manchester United       0       1\n",
       "376     38          Swansea City             Liverpool FC       1       0\n",
       "377     38     Tottenham Hotspur                Fulham FC       2       0\n",
       "378     38  West Bromwich Albion               Arsenal FC       2       3\n",
       "379     38        Wigan Athletic  Wolverhampton Wanderers       3       2\n",
       "\n",
       "[380 rows x 5 columns]"
      ]
     },
     "execution_count": 19,
     "metadata": {},
     "output_type": "execute_result"
    }
   ],
   "source": [
    "# load example DataFrame\n",
    "import pandas as pd\n",
    "names = ['round', 'hteam', 'ateam', 'hgoals', 'agoals']\n",
    "df = pd.read_csv('pl.txt', sep='\\t', skiprows=6, names=names)\n",
    "df"
   ]
  },
  {
   "cell_type": "code",
   "execution_count": 20,
   "id": "0df33f11",
   "metadata": {},
   "outputs": [
    {
     "name": "stdout",
     "output_type": "stream",
     "text": [
      "16.5 ms ± 30.8 µs per loop (mean ± std. dev. of 7 runs, 100 loops each)\n"
     ]
    }
   ],
   "source": [
    "%timeit for idx, row in df.iterrows(): pass"
   ]
  },
  {
   "cell_type": "code",
   "execution_count": 22,
   "id": "9b3a9f99",
   "metadata": {},
   "outputs": [
    {
     "data": {
      "text/plain": [
       "(379, 'Wigan Athletic')"
      ]
     },
     "execution_count": 22,
     "metadata": {},
     "output_type": "execute_result"
    }
   ],
   "source": [
    "for idx, row in df.iterrows(): pass\n",
    "idx, row.hteam"
   ]
  },
  {
   "cell_type": "code",
   "execution_count": 23,
   "id": "ba6c5a2c",
   "metadata": {},
   "outputs": [
    {
     "name": "stdout",
     "output_type": "stream",
     "text": [
      "719 µs ± 3.19 µs per loop (mean ± std. dev. of 7 runs, 1,000 loops each)\n"
     ]
    }
   ],
   "source": [
    "%timeit for row in df.itertuples(): pass"
   ]
  },
  {
   "cell_type": "code",
   "execution_count": 24,
   "id": "31c1b9c0",
   "metadata": {},
   "outputs": [
    {
     "name": "stdout",
     "output_type": "stream",
     "text": [
      "Pandas(Index=379, round=38, hteam='Wigan Athletic', ateam='Wolverhampton Wanderers', hgoals=3, agoals=2)\n",
      "379\n",
      "Wigan Athletic\n",
      "379\n",
      "38\n"
     ]
    }
   ],
   "source": [
    "for row in df.itertuples(): pass\n",
    "print(row)\n",
    "print(row.Index)\n",
    "print(row.hteam)\n",
    "print(row[0])\n",
    "print(row[1])"
   ]
  },
  {
   "cell_type": "code",
   "execution_count": 25,
   "id": "477a4a28",
   "metadata": {},
   "outputs": [
    {
     "name": "stdout",
     "output_type": "stream",
     "text": [
      "700 µs ± 1.46 µs per loop (mean ± std. dev. of 7 runs, 1,000 loops each)\n"
     ]
    }
   ],
   "source": [
    "%timeit for row in df.itertuples(index=False): pass"
   ]
  },
  {
   "cell_type": "markdown",
   "id": "be413632",
   "metadata": {},
   "source": [
    "### Iterating over the groups of a GroupBy"
   ]
  },
  {
   "cell_type": "code",
   "execution_count": 26,
   "id": "fd4f6bb3",
   "metadata": {},
   "outputs": [
    {
     "data": {
      "text/html": [
       "<div>\n",
       "<style scoped>\n",
       "    .dataframe tbody tr th:only-of-type {\n",
       "        vertical-align: middle;\n",
       "    }\n",
       "\n",
       "    .dataframe tbody tr th {\n",
       "        vertical-align: top;\n",
       "    }\n",
       "\n",
       "    .dataframe thead th {\n",
       "        text-align: right;\n",
       "    }\n",
       "</style>\n",
       "<table border=\"1\" class=\"dataframe\">\n",
       "  <thead>\n",
       "    <tr style=\"text-align: right;\">\n",
       "      <th></th>\n",
       "      <th>round</th>\n",
       "      <th>team</th>\n",
       "      <th>goals</th>\n",
       "    </tr>\n",
       "  </thead>\n",
       "  <tbody>\n",
       "    <tr>\n",
       "      <th>0</th>\n",
       "      <td>1</td>\n",
       "      <td>Manchester City</td>\n",
       "      <td>4</td>\n",
       "    </tr>\n",
       "    <tr>\n",
       "      <th>1</th>\n",
       "      <td>1</td>\n",
       "      <td>Bolton Wanderers</td>\n",
       "      <td>4</td>\n",
       "    </tr>\n",
       "    <tr>\n",
       "      <th>2</th>\n",
       "      <td>2</td>\n",
       "      <td>Aston Villa</td>\n",
       "      <td>3</td>\n",
       "    </tr>\n",
       "    <tr>\n",
       "      <th>3</th>\n",
       "      <td>2</td>\n",
       "      <td>Manchester United</td>\n",
       "      <td>3</td>\n",
       "    </tr>\n",
       "    <tr>\n",
       "      <th>4</th>\n",
       "      <td>2</td>\n",
       "      <td>Manchester City</td>\n",
       "      <td>3</td>\n",
       "    </tr>\n",
       "    <tr>\n",
       "      <th>...</th>\n",
       "      <td>...</td>\n",
       "      <td>...</td>\n",
       "      <td>...</td>\n",
       "    </tr>\n",
       "    <tr>\n",
       "      <th>66</th>\n",
       "      <td>37</td>\n",
       "      <td>Liverpool FC</td>\n",
       "      <td>4</td>\n",
       "    </tr>\n",
       "    <tr>\n",
       "      <th>67</th>\n",
       "      <td>38</td>\n",
       "      <td>Everton FC</td>\n",
       "      <td>3</td>\n",
       "    </tr>\n",
       "    <tr>\n",
       "      <th>68</th>\n",
       "      <td>38</td>\n",
       "      <td>Manchester City</td>\n",
       "      <td>3</td>\n",
       "    </tr>\n",
       "    <tr>\n",
       "      <th>69</th>\n",
       "      <td>38</td>\n",
       "      <td>Wigan Athletic</td>\n",
       "      <td>3</td>\n",
       "    </tr>\n",
       "    <tr>\n",
       "      <th>70</th>\n",
       "      <td>38</td>\n",
       "      <td>Arsenal FC</td>\n",
       "      <td>3</td>\n",
       "    </tr>\n",
       "  </tbody>\n",
       "</table>\n",
       "<p>71 rows × 3 columns</p>\n",
       "</div>"
      ],
      "text/plain": [
       "    round               team  goals\n",
       "0       1    Manchester City      4\n",
       "1       1   Bolton Wanderers      4\n",
       "2       2        Aston Villa      3\n",
       "3       2  Manchester United      3\n",
       "4       2    Manchester City      3\n",
       "..    ...                ...    ...\n",
       "66     37       Liverpool FC      4\n",
       "67     38         Everton FC      3\n",
       "68     38    Manchester City      3\n",
       "69     38     Wigan Athletic      3\n",
       "70     38         Arsenal FC      3\n",
       "\n",
       "[71 rows x 3 columns]"
      ]
     },
     "execution_count": 26,
     "metadata": {},
     "output_type": "execute_result"
    }
   ],
   "source": [
    "# For each round select the teams that scored the most goals.\n",
    "data = []\n",
    "for r, df1 in df.groupby('round'):\n",
    "    maxgoals = max(df1['hgoals'].max(), df1['agoals'].max())\n",
    "    teams = list(df1['hteam'][df1['hgoals'] == maxgoals]) + list(df1['ateam'][df1['agoals'] == maxgoals])\n",
    "    for t in teams:\n",
    "        data.append({'round': r, 'team': t, 'goals': maxgoals})\n",
    "pd.DataFrame(data)"
   ]
  },
  {
   "cell_type": "markdown",
   "id": "3c2d13f5",
   "metadata": {},
   "source": [
    "### Selecting specific groups from a GroupBy"
   ]
  },
  {
   "cell_type": "code",
   "execution_count": 27,
   "id": "8eedd1fd",
   "metadata": {},
   "outputs": [],
   "source": [
    "gb = df.groupby('round')"
   ]
  },
  {
   "cell_type": "code",
   "execution_count": 28,
   "id": "850ba34a",
   "metadata": {},
   "outputs": [
    {
     "data": {
      "text/html": [
       "<div>\n",
       "<style scoped>\n",
       "    .dataframe tbody tr th:only-of-type {\n",
       "        vertical-align: middle;\n",
       "    }\n",
       "\n",
       "    .dataframe tbody tr th {\n",
       "        vertical-align: top;\n",
       "    }\n",
       "\n",
       "    .dataframe thead th {\n",
       "        text-align: right;\n",
       "    }\n",
       "</style>\n",
       "<table border=\"1\" class=\"dataframe\">\n",
       "  <thead>\n",
       "    <tr style=\"text-align: right;\">\n",
       "      <th></th>\n",
       "      <th>round</th>\n",
       "      <th>hteam</th>\n",
       "      <th>ateam</th>\n",
       "      <th>hgoals</th>\n",
       "      <th>agoals</th>\n",
       "    </tr>\n",
       "  </thead>\n",
       "  <tbody>\n",
       "    <tr>\n",
       "      <th>90</th>\n",
       "      <td>10</td>\n",
       "      <td>Everton FC</td>\n",
       "      <td>Manchester United</td>\n",
       "      <td>0</td>\n",
       "      <td>1</td>\n",
       "    </tr>\n",
       "    <tr>\n",
       "      <th>91</th>\n",
       "      <td>10</td>\n",
       "      <td>Chelsea FC</td>\n",
       "      <td>Arsenal FC</td>\n",
       "      <td>3</td>\n",
       "      <td>5</td>\n",
       "    </tr>\n",
       "    <tr>\n",
       "      <th>92</th>\n",
       "      <td>10</td>\n",
       "      <td>Manchester City</td>\n",
       "      <td>Wolverhampton Wanderers</td>\n",
       "      <td>3</td>\n",
       "      <td>1</td>\n",
       "    </tr>\n",
       "    <tr>\n",
       "      <th>93</th>\n",
       "      <td>10</td>\n",
       "      <td>Norwich City</td>\n",
       "      <td>Blackburn Rovers</td>\n",
       "      <td>3</td>\n",
       "      <td>3</td>\n",
       "    </tr>\n",
       "    <tr>\n",
       "      <th>94</th>\n",
       "      <td>10</td>\n",
       "      <td>Sunderland AFC</td>\n",
       "      <td>Aston Villa</td>\n",
       "      <td>2</td>\n",
       "      <td>2</td>\n",
       "    </tr>\n",
       "    <tr>\n",
       "      <th>95</th>\n",
       "      <td>10</td>\n",
       "      <td>Swansea City</td>\n",
       "      <td>Bolton Wanderers</td>\n",
       "      <td>3</td>\n",
       "      <td>1</td>\n",
       "    </tr>\n",
       "    <tr>\n",
       "      <th>96</th>\n",
       "      <td>10</td>\n",
       "      <td>Wigan Athletic</td>\n",
       "      <td>Fulham FC</td>\n",
       "      <td>0</td>\n",
       "      <td>2</td>\n",
       "    </tr>\n",
       "    <tr>\n",
       "      <th>97</th>\n",
       "      <td>10</td>\n",
       "      <td>West Bromwich Albion</td>\n",
       "      <td>Liverpool FC</td>\n",
       "      <td>0</td>\n",
       "      <td>2</td>\n",
       "    </tr>\n",
       "    <tr>\n",
       "      <th>98</th>\n",
       "      <td>10</td>\n",
       "      <td>Tottenham Hotspur</td>\n",
       "      <td>Queens Park Rangers</td>\n",
       "      <td>3</td>\n",
       "      <td>1</td>\n",
       "    </tr>\n",
       "    <tr>\n",
       "      <th>99</th>\n",
       "      <td>10</td>\n",
       "      <td>Stoke City</td>\n",
       "      <td>Newcastle United</td>\n",
       "      <td>1</td>\n",
       "      <td>3</td>\n",
       "    </tr>\n",
       "  </tbody>\n",
       "</table>\n",
       "</div>"
      ],
      "text/plain": [
       "    round                 hteam                    ateam  hgoals  agoals\n",
       "90     10            Everton FC        Manchester United       0       1\n",
       "91     10            Chelsea FC               Arsenal FC       3       5\n",
       "92     10       Manchester City  Wolverhampton Wanderers       3       1\n",
       "93     10          Norwich City         Blackburn Rovers       3       3\n",
       "94     10        Sunderland AFC              Aston Villa       2       2\n",
       "95     10          Swansea City         Bolton Wanderers       3       1\n",
       "96     10        Wigan Athletic                Fulham FC       0       2\n",
       "97     10  West Bromwich Albion             Liverpool FC       0       2\n",
       "98     10     Tottenham Hotspur      Queens Park Rangers       3       1\n",
       "99     10            Stoke City         Newcastle United       1       3"
      ]
     },
     "execution_count": 28,
     "metadata": {},
     "output_type": "execute_result"
    }
   ],
   "source": [
    "gb.get_group(10)"
   ]
  },
  {
   "cell_type": "markdown",
   "id": "555de928",
   "metadata": {},
   "source": [
    "### Context Managers (with statement)"
   ]
  },
  {
   "cell_type": "code",
   "execution_count": 29,
   "id": "7608113a",
   "metadata": {},
   "outputs": [
    {
     "name": "stdout",
     "output_type": "stream",
     "text": [
      "error 1\n"
     ]
    }
   ],
   "source": [
    "# file handling example\n",
    "try:\n",
    "    f = open('pl.txt')\n",
    "    f.readline()\n",
    "    line = f.readline()\n",
    "    tok = line.split()\n",
    "    int(tok[1])\n",
    "except ValueError:\n",
    "    print('error 1')\n",
    "finally:\n",
    "    f.close()"
   ]
  },
  {
   "cell_type": "code",
   "execution_count": 30,
   "id": "b652bf12",
   "metadata": {},
   "outputs": [
    {
     "name": "stdout",
     "output_type": "stream",
     "text": [
      "error 1\n"
     ]
    }
   ],
   "source": [
    "# the same example using the with statement\n",
    "with open('pl.txt') as f: # f.__enter__() is called\n",
    "    f.readline()\n",
    "    line = f.readline()\n",
    "    tok = line.split()\n",
    "    try:\n",
    "        int(tok[1])\n",
    "    except ValueError:\n",
    "        print('error 1')\n",
    "\n",
    "# f.__exit__() is called"
   ]
  },
  {
   "cell_type": "code",
   "execution_count": 31,
   "id": "87bdd534",
   "metadata": {},
   "outputs": [],
   "source": [
    "# writing a file in a with block\n",
    "with open('foo.txt', 'w') as f:\n",
    "    f.write('bar')\n",
    "# (the file closed here for sure)"
   ]
  },
  {
   "cell_type": "code",
   "execution_count": 32,
   "id": "7545f715",
   "metadata": {},
   "outputs": [
    {
     "data": {
      "text/plain": [
       "3"
      ]
     },
     "execution_count": 32,
     "metadata": {},
     "output_type": "execute_result"
    }
   ],
   "source": [
    "open('foo.txt', 'w').write('bar')\n",
    "# (it is dependent on the interpreter or configuration if the file is closed here)"
   ]
  },
  {
   "cell_type": "markdown",
   "id": "ce986a0b",
   "metadata": {},
   "source": [
    "### Double-base Palindromes (Problem 36)\n",
    "\n",
    "The decimal number $585_{10} = 1001001001_2$ is palindromic in both bases. Find the sum of all numbers, less than one million, which are palindromic in base 10 and base 2. (Please note that the palindromic number, in either base, may not include leading zeros.)"
   ]
  },
  {
   "cell_type": "code",
   "execution_count": 33,
   "id": "6fc33d3b",
   "metadata": {},
   "outputs": [
    {
     "data": {
      "text/plain": [
       "872187"
      ]
     },
     "execution_count": 33,
     "metadata": {},
     "output_type": "execute_result"
    }
   ],
   "source": [
    "def is_palindrome(s):\n",
    "    return s == s[::-1]\n",
    "\n",
    "s = 0\n",
    "for i in range(1_000_000):\n",
    "    if is_palindrome(str(i)) and is_palindrome(bin(i)[2:]):\n",
    "        s += i\n",
    "s"
   ]
  },
  {
   "cell_type": "markdown",
   "id": "437088d2",
   "metadata": {},
   "source": [
    "### Monopoly Odds (Problem 84)\n",
    "\n",
    "- square idx to name mapping: 0 => GO, 1 => A1, ..., 39 => H2\n",
    "- CC & CH deck: represented as a list of string actions, we shuffle at the beginning and pop-append at drawing a card (we can create a class for CC and CH)\n",
    "- simulation step: roll, advance on board, process effects (CC, CH, G2J, 3 doubles) until there are effects, increase square counter (create a Simulation class)"
   ]
  },
  {
   "cell_type": "code",
   "execution_count": 116,
   "id": "dbf3d5bc",
   "metadata": {},
   "outputs": [],
   "source": [
    "SQ_NAMES = [\n",
    "    'GO', 'A1', 'CC1', 'A2', 'T1', 'R1', 'B1', 'CH1', 'B2', 'B3',\n",
    "    'JAIL', 'C1', 'U1', 'C2', 'C3', 'R2', 'D1', 'CC2', 'D2', 'D3',\n",
    "    'FP', 'E1', 'CH2', 'E2', 'E3', 'R3', 'F1', 'F2', 'U2', 'F3',\n",
    "    'G2J', 'G1', 'G2', 'CC3', 'G3', 'R4', 'CH3', 'H1', 'T2', 'H2'\n",
    "]"
   ]
  },
  {
   "cell_type": "code",
   "execution_count": 117,
   "id": "70db9629",
   "metadata": {},
   "outputs": [],
   "source": [
    "SQ_LOCATIONS = {n: l for l, n in enumerate(SQ_NAMES)}"
   ]
  },
  {
   "cell_type": "code",
   "execution_count": 118,
   "id": "e7f39292",
   "metadata": {},
   "outputs": [],
   "source": [
    "import hashlib\n",
    "\n",
    "def hash6(str_list):\n",
    "    s = ','.join(str_list)\n",
    "    return hashlib.md5(s.encode('utf-8')).hexdigest()[:6]"
   ]
  },
  {
   "cell_type": "code",
   "execution_count": 119,
   "id": "177b4e15",
   "metadata": {},
   "outputs": [],
   "source": [
    "assert len(SQ_NAMES) == 40\n",
    "assert hash6(SQ_NAMES) == 'c91376'"
   ]
  },
  {
   "cell_type": "code",
   "execution_count": 145,
   "id": "1ccaf8d3",
   "metadata": {},
   "outputs": [],
   "source": [
    "import random\n",
    "\n",
    "class Deck:\n",
    "    def __init__(self, cards, seed=42):\n",
    "        self.cards = cards\n",
    "        random.Random(seed).shuffle(self.cards)\n",
    "        self.idx = -1\n",
    "        \n",
    "    def draw_card(self):\n",
    "        self.idx = (self.idx + 1) % len(self.cards)\n",
    "        return self.cards[self.idx]\n",
    "    \n",
    "class CommunityChestDeck(Deck):\n",
    "    def __init__(self, seed=42):\n",
    "        super().__init__(['GO', 'JAIL'] + ['-'] * 14, seed)\n",
    "    \n",
    "    def draw_and_handle_card(self, loc):\n",
    "        action = self.draw_card()\n",
    "        if action in {'GO', 'JAIL'}:\n",
    "            return SQ_LOCATIONS[action]\n",
    "        else:\n",
    "            return loc\n",
    "        \n",
    "class ChanceDeck(Deck):\n",
    "    def __init__(self, seed=42):\n",
    "        super().__init__(\n",
    "            ['GO', 'JAIL', 'C1', 'E3', 'H2', 'R1', 'next_R', 'next_R', 'next_U', 'back_3'] + ['-'] * 6,\n",
    "            seed\n",
    "        )\n",
    "            \n",
    "    def draw_and_handle_card(self, loc):\n",
    "        action = self.draw_card()\n",
    "        if action in {'GO', 'JAIL', 'C1', 'E3', 'H2', 'R1'}:\n",
    "            loc = SQ_LOCATIONS[action]\n",
    "        elif action == 'next_R':\n",
    "            while True:\n",
    "                loc = (loc + 1) % len(SQ_NAMES)\n",
    "                if SQ_NAMES[loc].startswith('R'): break\n",
    "        elif action == 'next_U':\n",
    "            while True:\n",
    "                loc = (loc + 1) % len(SQ_NAMES)\n",
    "                if SQ_NAMES[loc].startswith('U'): break\n",
    "        elif sq == 'step_3':\n",
    "            loc = (loc - 3) % len(SQ_NAMES)\n",
    "            \n",
    "        return loc"
   ]
  },
  {
   "cell_type": "code",
   "execution_count": 146,
   "id": "f8397824",
   "metadata": {},
   "outputs": [],
   "source": [
    "class Dice:\n",
    "    def __init__(self, seed=42):\n",
    "        self.rnd = random.Random(seed)\n",
    "\n",
    "class Dice66(Dice):\n",
    "    def roll(self):\n",
    "        self._values = self.rnd.randint(1, 6), self.rnd.randint(1, 6)\n",
    "        return sum(self._values)\n",
    "    \n",
    "    def is_double(self):\n",
    "        return self._values[0] == self._values[1]"
   ]
  },
  {
   "cell_type": "code",
   "execution_count": 136,
   "id": "224f1605",
   "metadata": {},
   "outputs": [],
   "source": [
    "d = Dice66()\n",
    "assert hash6([str(d.roll()) for _ in range(100)]) == 'bba13d'"
   ]
  },
  {
   "cell_type": "code",
   "execution_count": 147,
   "id": "2d842517",
   "metadata": {},
   "outputs": [],
   "source": [
    "class Simulation:\n",
    "    def __init__(self, dice, seed=42):\n",
    "        self.loc = 0\n",
    "        self.cc = CommunityChestDeck(seed + 1)\n",
    "        self.ch = ChanceDeck(seed + 2)\n",
    "        self.double_counter = 0\n",
    "        \n",
    "        self.visits = {n: 0 for n in SQ_NAMES}\n",
    "        self.dice = dice\n",
    "        \n",
    "    def step(self):\n",
    "        # roll\n",
    "        value = self.dice.roll()\n",
    "        if self.dice.is_double(): self.double_counter += 1\n",
    "        else: self.double_counter = 0\n",
    "        \n",
    "        if self.double_counter >= 3: # handle 3 consecutive doubles\n",
    "            self.loc = SQ_LOCATIONS['JAIL']\n",
    "        else:\n",
    "            loc = (self.loc + value) % len(SQ_NAMES) # advance on board\n",
    "            while loc != self.loc:\n",
    "                self.loc = loc\n",
    "                if SQ_NAMES[loc] == 'G2J':\n",
    "                    loc = SQ_LOCATIONS['JAIL']\n",
    "                elif SQ_NAMES[loc].startswith('CC'): # handle community chest deck\n",
    "                    loc = self.cc.draw_and_handle_card(loc)\n",
    "                elif SQ_NAMES[loc].startswith('CH'): # handle chance deck\n",
    "                    loc = self.ch.draw_and_handle_card(loc)\n",
    "                    \n",
    "        self.visits[SQ_NAMES[self.loc]] += 1\n",
    "            \n",
    "    def run(self, nsteps=100_000):\n",
    "        for i in range(nsteps):\n",
    "            self.step()\n",
    "            \n",
    "sim = Simulation(Dice66())\n",
    "sim.run()"
   ]
  },
  {
   "cell_type": "code",
   "execution_count": 148,
   "id": "be64bf63",
   "metadata": {},
   "outputs": [
    {
     "data": {
      "text/plain": [
       "JAIL    0.06265\n",
       "E3      0.03093\n",
       "GO      0.03055\n",
       "dtype: float64"
      ]
     },
     "execution_count": 148,
     "metadata": {},
     "output_type": "execute_result"
    }
   ],
   "source": [
    "import pandas as pd\n",
    "se = pd.Series(sim.visits)\n",
    "se = se / se.sum()\n",
    "se.sort_values()[::-1][:3]"
   ]
  },
  {
   "cell_type": "markdown",
   "id": "a654d613",
   "metadata": {},
   "source": [
    "### Counting Fractions (Problem 72)"
   ]
  },
  {
   "cell_type": "code",
   "execution_count": 150,
   "id": "0aa361e9",
   "metadata": {},
   "outputs": [
    {
     "name": "stdout",
     "output_type": "stream",
     "text": [
      "1\n",
      "2\n",
      "3\n",
      "4\n",
      "5\n",
      "6\n",
      "7\n"
     ]
    }
   ],
   "source": [
    "d_max = 8\n",
    "for n in range(1, d_max):\n",
    "    print(n)"
   ]
  },
  {
   "cell_type": "code",
   "execution_count": 193,
   "id": "35c5946c",
   "metadata": {},
   "outputs": [
    {
     "name": "stdout",
     "output_type": "stream",
     "text": [
      "30397485\n",
      "CPU times: user 17 s, sys: 0 ns, total: 17 s\n",
      "Wall time: 17 s\n"
     ]
    }
   ],
   "source": [
    "%%time\n",
    "# Naive solution that is too slow.\n",
    "import math\n",
    "\n",
    "d_max = 10000\n",
    "cnt = 0\n",
    "for n in range(1, d_max):\n",
    "    for d in range(n + 1, d_max + 1):\n",
    "        if math.gcd(n, d) == 1:\n",
    "            cnt += 1\n",
    "            \n",
    "print(cnt)"
   ]
  },
  {
   "cell_type": "code",
   "execution_count": 172,
   "id": "f46485f7",
   "metadata": {},
   "outputs": [],
   "source": [
    "def factorize(n):\n",
    "    factors = []\n",
    "    while n > 1:\n",
    "        for k in range(2, int(n**0.5) + 1):\n",
    "            if n % k == 0:\n",
    "                factors.append(k)\n",
    "                n //= k\n",
    "                break\n",
    "        else:\n",
    "            factors.append(n)\n",
    "            break\n",
    "    return factors"
   ]
  },
  {
   "cell_type": "code",
   "execution_count": 181,
   "id": "b75d447b",
   "metadata": {},
   "outputs": [
    {
     "name": "stdout",
     "output_type": "stream",
     "text": [
      "CPU times: user 14.8 s, sys: 306 ms, total: 15.1 s\n",
      "Wall time: 15.1 s\n"
     ]
    }
   ],
   "source": [
    "%%time\n",
    "factors = {n: factorize(n) for n in range(1, 1_000_001)}"
   ]
  },
  {
   "cell_type": "markdown",
   "id": "fea8ce84",
   "metadata": {},
   "source": [
    "%%time\n",
    "import math\n",
    "\n",
    "d_max = 10000\n",
    "cnt = 0\n",
    "for n in range(1, d_max):\n",
    "    f = set(factors[n])\n",
    "    l = functools.reduce(lambda x, y: x * y, f, 1)\n",
    "    if len(f) <= 2:\n",
    "        pass\n",
    "    else:\n",
    "        cycle = [math.gcd(d, l) == 1 for d in range(1, l + 1)]\n",
    "    #print(n, f, l, cycle)"
   ]
  },
  {
   "cell_type": "code",
   "execution_count": 184,
   "id": "1204bc91",
   "metadata": {},
   "outputs": [],
   "source": [
    "functools.reduce?"
   ]
  },
  {
   "cell_type": "code",
   "execution_count": 182,
   "id": "1cfb92b4",
   "metadata": {},
   "outputs": [
    {
     "data": {
      "text/plain": [
       "6"
      ]
     },
     "execution_count": 182,
     "metadata": {},
     "output_type": "execute_result"
    }
   ],
   "source": [
    "import functools\n",
    "list1 = [1, 2, 3]\n",
    " \n",
    "functools.reduce(lambda x, y: x * y, list1)"
   ]
  }
 ],
 "metadata": {
  "kernelspec": {
   "display_name": "Python 3 (ipykernel)",
   "language": "python",
   "name": "python3"
  },
  "language_info": {
   "codemirror_mode": {
    "name": "ipython",
    "version": 3
   },
   "file_extension": ".py",
   "mimetype": "text/x-python",
   "name": "python",
   "nbconvert_exporter": "python",
   "pygments_lexer": "ipython3",
   "version": "3.8.0"
  }
 },
 "nbformat": 4,
 "nbformat_minor": 5
}
