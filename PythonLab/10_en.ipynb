{
 "cells": [
  {
   "cell_type": "markdown",
   "metadata": {},
   "source": [
    "## [Object orinted programming](https://docs.python.org/3/tutorial/classes.html) 101\n",
    "\n",
    "Object oriented programming (OOP) is a paradigm that focuses on the relation of program elements and designing their hierarchy.\n",
    "\n",
    "- The formerly dominant procedural approach focused on the operations.\n",
    "- In OOP, the attributes and the functions handling them are encapsulated into one unit.\n",
    "- Another important characteristic of OOP is inheritance."
   ]
  },
  {
   "cell_type": "code",
   "execution_count": 12,
   "metadata": {},
   "outputs": [],
   "source": [
    "# Example: rectangle class.\n",
    "class Rectange:\n",
    "    def __init__(self, a, b): # \"dunder\" init\n",
    "        self.a = a\n",
    "        self.b = b\n",
    "        \n",
    "    def calc_area(self):\n",
    "        return self.a * self.b\n",
    "    \n",
    "    def calc_perimeter(self):\n",
    "        return (self.a + self.b) * 2"
   ]
  },
  {
   "cell_type": "code",
   "execution_count": 13,
   "metadata": {},
   "outputs": [],
   "source": [
    "r1 = Rectange(10, 20)"
   ]
  },
  {
   "cell_type": "code",
   "execution_count": 14,
   "metadata": {},
   "outputs": [
    {
     "data": {
      "text/plain": [
       "10"
      ]
     },
     "execution_count": 14,
     "metadata": {},
     "output_type": "execute_result"
    }
   ],
   "source": [
    "r1.a"
   ]
  },
  {
   "cell_type": "code",
   "execution_count": 15,
   "metadata": {},
   "outputs": [
    {
     "data": {
      "text/plain": [
       "200"
      ]
     },
     "execution_count": 15,
     "metadata": {},
     "output_type": "execute_result"
    }
   ],
   "source": [
    "r1.calc_area()"
   ]
  },
  {
   "cell_type": "code",
   "execution_count": 16,
   "metadata": {},
   "outputs": [
    {
     "data": {
      "text/plain": [
       "60"
      ]
     },
     "execution_count": 16,
     "metadata": {},
     "output_type": "execute_result"
    }
   ],
   "source": [
    "r1.calc_perimeter()"
   ]
  },
  {
   "cell_type": "code",
   "execution_count": 18,
   "metadata": {},
   "outputs": [
    {
     "data": {
      "text/plain": [
       "200"
      ]
     },
     "execution_count": 18,
     "metadata": {},
     "output_type": "execute_result"
    }
   ],
   "source": [
    "# Python tranforms method calls to function calls behind the scenes.\n",
    "Rectange.calc_area(r1) # equivalent to r1.calc_area()"
   ]
  },
  {
   "cell_type": "code",
   "execution_count": 21,
   "metadata": {},
   "outputs": [
    {
     "data": {
      "text/plain": [
       "'FOO'"
      ]
     },
     "execution_count": 21,
     "metadata": {},
     "output_type": "execute_result"
    }
   ],
   "source": [
    "# ...this is true for built-in types too.\n",
    "str.upper('foo') # equivalent to 'foo'.upper()"
   ]
  },
  {
   "cell_type": "code",
   "execution_count": 32,
   "metadata": {},
   "outputs": [],
   "source": [
    "import math\n",
    "\n",
    "# Example: circle class.\n",
    "class Circle:\n",
    "    def __init__(self, r):\n",
    "        self.r = r\n",
    "        \n",
    "    def calc_area(self):\n",
    "        return self.r**2 * math.pi\n",
    "    \n",
    "    def calc_perimeter(self):\n",
    "        return 2 * self.r * math.pi"
   ]
  },
  {
   "cell_type": "code",
   "execution_count": 31,
   "metadata": {},
   "outputs": [
    {
     "name": "stdout",
     "output_type": "stream",
     "text": [
      "3\n",
      "18.84955592153876\n",
      "28.274333882308138\n"
     ]
    }
   ],
   "source": [
    "c1 = Circle(3)\n",
    "print(c1.r)\n",
    "print(c1.calc_perimeter())\n",
    "print(c1.calc_area())"
   ]
  },
  {
   "cell_type": "code",
   "execution_count": 48,
   "metadata": {},
   "outputs": [],
   "source": [
    "# The perimeter to area ratio is computed the same way for rectangles and circles.\n",
    "# Let's create a shape base class, and derive the rectangle and the circle from it!\n",
    "# Put the perimeter to area computation to the base class!\n",
    "\n",
    "class Shape:\n",
    "    def __init__(self):\n",
    "        raise NotImplementedError()\n",
    "    \n",
    "    def calc_area(self):\n",
    "        raise NotImplementedError()\n",
    "        \n",
    "    def calc_perimeter(self):\n",
    "        raise NotImplementedError()\n",
    "    \n",
    "    def calc_pa_ratio(self):\n",
    "        return self.calc_perimeter() / self.calc_area()\n",
    "    \n",
    "class Rectange(Shape): # Rectange is derived from Shape\n",
    "    def __init__(self, a, b):\n",
    "        self.a = a\n",
    "        self.b = b\n",
    "        \n",
    "    def calc_area(self):\n",
    "        return self.a * self.b\n",
    "    \n",
    "    def calc_perimeter(self):\n",
    "        return (self.a + self.b) * 2\n",
    "    \n",
    "class Circle(Shape): # Circle is also derived from Shape\n",
    "    def __init__(self, r):\n",
    "        self.r = r\n",
    "        \n",
    "    def calc_area(self):\n",
    "        return self.r**2 * math.pi\n",
    "    \n",
    "    def calc_perimeter(self):\n",
    "        return 2 * self.r * math.pi"
   ]
  },
  {
   "cell_type": "code",
   "execution_count": 49,
   "metadata": {},
   "outputs": [
    {
     "name": "stdout",
     "output_type": "stream",
     "text": [
      "60 200 0.3\n",
      "66 242 0.2727272727272727\n",
      "18.84955592153876 28.274333882308138 0.6666666666666666\n",
      "25.132741228718345 50.26548245743669 0.5\n"
     ]
    }
   ],
   "source": [
    "r1 = Rectange(10, 20)\n",
    "r2 = Rectange(11, 22)\n",
    "c1 = Circle(3)\n",
    "c2 = Circle(4)\n",
    "shapes = [r1, r2, c1, c2]\n",
    "\n",
    "for s in shapes:\n",
    "    print(s.calc_perimeter(), s.calc_area(), s.calc_pa_ratio())"
   ]
  },
  {
   "cell_type": "code",
   "execution_count": 52,
   "metadata": {},
   "outputs": [
    {
     "ename": "NotImplementedError",
     "evalue": "",
     "output_type": "error",
     "traceback": [
      "\u001b[0;31m---------------------------------------------------------------------------\u001b[0m",
      "\u001b[0;31mNotImplementedError\u001b[0m                       Traceback (most recent call last)",
      "Input \u001b[0;32mIn [52]\u001b[0m, in \u001b[0;36m<cell line: 1>\u001b[0;34m()\u001b[0m\n\u001b[0;32m----> 1\u001b[0m \u001b[43mShape\u001b[49m\u001b[43m(\u001b[49m\u001b[43m)\u001b[49m\n",
      "Input \u001b[0;32mIn [48]\u001b[0m, in \u001b[0;36mShape.__init__\u001b[0;34m(self)\u001b[0m\n\u001b[1;32m      6\u001b[0m \u001b[38;5;28;01mdef\u001b[39;00m \u001b[38;5;21m__init__\u001b[39m(\u001b[38;5;28mself\u001b[39m):\n\u001b[0;32m----> 7\u001b[0m     \u001b[38;5;28;01mraise\u001b[39;00m \u001b[38;5;167;01mNotImplementedError\u001b[39;00m()\n",
      "\u001b[0;31mNotImplementedError\u001b[0m: "
     ]
    }
   ],
   "source": [
    "Shape()"
   ]
  },
  {
   "cell_type": "code",
   "execution_count": 64,
   "metadata": {},
   "outputs": [],
   "source": [
    "# Exercise: Prepare a quadratic equation solver class!\n",
    "class QuadraticEquation:\n",
    "    def __init__(self, a, b, c):\n",
    "        self.a = a\n",
    "        self.b = b\n",
    "        self.c = c\n",
    "    \n",
    "    def _calc_d(self):\n",
    "        return self.b**2 - 4 * self.a * self.c\n",
    "    \n",
    "    def get_num_solutions(self):\n",
    "        # compute the discriminant\n",
    "        d = self._calc_d()\n",
    "        if d > 0: return 2\n",
    "        elif d == 0: return 1\n",
    "        else: return 0\n",
    "    \n",
    "    def solve(self):\n",
    "        # compute the discriminant\n",
    "        d = self._calc_d()\n",
    "\n",
    "        if d > 0: # 2 solutions\n",
    "            x1 = (-self.b + d**0.5) / (2 * self.a)\n",
    "            x2 = (-self.b - d**0.5) / (2 * self.a)\n",
    "            return [x1, x2]\n",
    "        elif d == 0: # 1 solution\n",
    "            x1 = -self.b / (2 * self.a)\n",
    "            return [x1]\n",
    "        else:\n",
    "            return []"
   ]
  },
  {
   "cell_type": "code",
   "execution_count": 65,
   "metadata": {},
   "outputs": [],
   "source": [
    "eq = QuadraticEquation(1, 3, 2)"
   ]
  },
  {
   "cell_type": "code",
   "execution_count": 66,
   "metadata": {},
   "outputs": [
    {
     "data": {
      "text/plain": [
       "2"
      ]
     },
     "execution_count": 66,
     "metadata": {},
     "output_type": "execute_result"
    }
   ],
   "source": [
    "eq.get_num_solutions()"
   ]
  },
  {
   "cell_type": "code",
   "execution_count": 67,
   "metadata": {},
   "outputs": [
    {
     "data": {
      "text/plain": [
       "[-1.0, -2.0]"
      ]
     },
     "execution_count": 67,
     "metadata": {},
     "output_type": "execute_result"
    }
   ],
   "source": [
    "eq.solve()"
   ]
  },
  {
   "cell_type": "code",
   "execution_count": 68,
   "metadata": {},
   "outputs": [
    {
     "data": {
      "text/plain": [
       "[-1.0]"
      ]
     },
     "execution_count": 68,
     "metadata": {},
     "output_type": "execute_result"
    }
   ],
   "source": [
    "QuadraticEquation(1, 2, 1).solve()"
   ]
  },
  {
   "cell_type": "code",
   "execution_count": 69,
   "metadata": {},
   "outputs": [
    {
     "data": {
      "text/plain": [
       "[]"
      ]
     },
     "execution_count": 69,
     "metadata": {},
     "output_type": "execute_result"
    }
   ],
   "source": [
    "QuadraticEquation(1, 1, 10).solve()"
   ]
  },
  {
   "cell_type": "code",
   "execution_count": 70,
   "metadata": {},
   "outputs": [],
   "source": [
    "# Exercise: \"hungry dogs\".\n",
    "\n",
    "class Dog:\n",
    "    def __init__(self, name, is_hungry=False):\n",
    "        self.name = name\n",
    "        self.is_hungry = is_hungry\n",
    "\n",
    "    def eat(self):\n",
    "        self.is_hungry = False\n",
    "\n",
    "dogs = [\n",
    "    Dog('Earl', True),\n",
    "    Dog('Bandit', False),\n",
    "    Dog('Rusty', False),\n",
    "    Dog('Elvis', True),\n",
    "    Dog('Apollo', True)\n",
    "]"
   ]
  },
  {
   "cell_type": "code",
   "execution_count": 71,
   "metadata": {},
   "outputs": [
    {
     "name": "stdout",
     "output_type": "stream",
     "text": [
      "Earl\n",
      "Elvis\n",
      "Apollo\n"
     ]
    }
   ],
   "source": [
    "# Who are hungry?\n",
    "for dog in dogs:\n",
    "    if dog.is_hungry:\n",
    "        print(dog.name)"
   ]
  },
  {
   "cell_type": "code",
   "execution_count": 72,
   "metadata": {},
   "outputs": [],
   "source": [
    "# Feed the hungry dogs!\n",
    "for dog in dogs:\n",
    "    if dog.is_hungry:\n",
    "        dog.eat()"
   ]
  },
  {
   "cell_type": "code",
   "execution_count": 73,
   "metadata": {},
   "outputs": [],
   "source": [
    "# Let the dogs be hungry again!\n",
    "for dog in dogs:\n",
    "    dog.is_hungry = True"
   ]
  },
  {
   "cell_type": "code",
   "execution_count": 74,
   "metadata": {},
   "outputs": [],
   "source": [
    "# Feed all dogs!\n",
    "for dog in dogs:\n",
    "    dog.eat()"
   ]
  },
  {
   "cell_type": "code",
   "execution_count": 75,
   "metadata": {},
   "outputs": [],
   "source": [
    "# Print the hungry dogs again!\n",
    "for dog in dogs:\n",
    "    if dog.is_hungry:\n",
    "        print(dog.name)"
   ]
  },
  {
   "cell_type": "code",
   "execution_count": 76,
   "metadata": {},
   "outputs": [],
   "source": [
    "# Solve the \"hungry dogs\" problem without using classes!\n",
    "dogs = [\n",
    "    {'name': 'Earl', 'is_hungry': True},\n",
    "    {'name': 'Bandit', 'is_hungry': False},\n",
    "    {'name': 'Rusty', 'is_hungry': False},\n",
    "    {'name': 'Elvis', 'is_hungry': True},\n",
    "    {'name': 'Apollo', 'is_hungry': True}\n",
    "]"
   ]
  },
  {
   "cell_type": "code",
   "execution_count": 77,
   "metadata": {},
   "outputs": [
    {
     "name": "stdout",
     "output_type": "stream",
     "text": [
      "Earl\n",
      "Elvis\n",
      "Apollo\n"
     ]
    }
   ],
   "source": [
    "# Who are hungry?\n",
    "for dog in dogs:\n",
    "    if dog['is_hungry']:\n",
    "        print(dog['name'])"
   ]
  },
  {
   "cell_type": "markdown",
   "metadata": {},
   "source": [
    "### Special (\"dunder\") [attributes](https://docs.python.org/3/reference/datamodel.html#the-standard-type-hierarchy) and [methods](https://docs.python.org/3/reference/datamodel.html#special-method-names)\n",
    "\n",
    "- `__doc__`, `__class__`, `__init__()`, `__hash__()`, `__code__`, ...\n",
    "- storing attributes: `__dict__`, `__dir__()`\n",
    "- printing: `__repr__()`, `__str__()`\n",
    "- operations: `__add__()`, `__mul__()`, ...\n",
    "- indexing: `__getitem__()`, `__setitem__()`, `__len__()`\n",
    "- iteration: `__iter__()`, `__next__()`\n",
    "- context management: `__enter__()`, `__exit__()`\n",
    "- ..."
   ]
  },
  {
   "cell_type": "code",
   "execution_count": 90,
   "metadata": {},
   "outputs": [],
   "source": [
    "# Example: A class with a __repr__ method.\n",
    "class Student:\n",
    "    def __init__(self, name, neptun):\n",
    "        self.name = name\n",
    "        self.neptun = neptun\n",
    "        \n",
    "    def __repr__(self):\n",
    "        return f\"Student('{self.name}', '{self.neptun}')\""
   ]
  },
  {
   "cell_type": "code",
   "execution_count": 91,
   "metadata": {},
   "outputs": [
    {
     "data": {
      "text/plain": [
       "Student('John Doe', 'ABC123')"
      ]
     },
     "execution_count": 91,
     "metadata": {},
     "output_type": "execute_result"
    }
   ],
   "source": [
    "s1 = Student('John Doe', 'ABC123')\n",
    "s1"
   ]
  },
  {
   "cell_type": "code",
   "execution_count": 92,
   "metadata": {},
   "outputs": [
    {
     "data": {
      "text/plain": [
       "Student('Joe Black', 'ABC333')"
      ]
     },
     "execution_count": 92,
     "metadata": {},
     "output_type": "execute_result"
    }
   ],
   "source": [
    "s2 = Student('Joe Black', 'ABC333')\n",
    "s2"
   ]
  },
  {
   "cell_type": "markdown",
   "metadata": {},
   "source": [
    "## Exercise: Simple vector class\n",
    "\n",
    "Write a vector class that support element-wise operations between vectors (+ ,-, *, /), querying the number of elements, slicing and converting the vector to string. Desired operation:\n",
    "```\n",
    "v1 = Vector([1.0, 2.0, 3.0])\n",
    "v2 = Vector([4.0, 5.0, 6.0])\n",
    "print(len(v1), v1[0], v1[:2]) # => 3 1.0 [1.0, 2.0]\n",
    "print(v1 + v2)                # => Vector([5.0, 7.0, 9.0])\n",
    "print(v1 * v2)                # => Vector([4.0, 10.0, 18.0]\n",
    "```"
   ]
  },
  {
   "cell_type": "code",
   "execution_count": null,
   "metadata": {},
   "outputs": [],
   "source": [
    "# __repr__(self)\n",
    "\n",
    "# __add__(self, other)         self + other\n",
    "# __sub__(self, other)         self - other\n",
    "# __mul__(self, other)         self * other\n",
    "# __truediv__(self, other)     self / other\n",
    "\n",
    "# __len__(self)\n",
    "# __getitem__(self, idx)       self[idx]\n",
    "# __setitem__(self, idx, val)  self[idx] = val"
   ]
  },
  {
   "cell_type": "code",
   "execution_count": 116,
   "metadata": {},
   "outputs": [
    {
     "data": {
      "text/plain": [
       "Vector([1.0, 2.0, 3.0])"
      ]
     },
     "execution_count": 116,
     "metadata": {},
     "output_type": "execute_result"
    }
   ],
   "source": [
    "class Vector:\n",
    "    def __init__(self, data):\n",
    "        self.data = data\n",
    "        \n",
    "    def __repr__(self):\n",
    "        return f'Vector({self.data})'\n",
    "    \n",
    "    def __add__(self, other):\n",
    "        return Vector([x + y for x, y in zip(self.data, other.data)])\n",
    "\n",
    "    def __sub__(self, other):\n",
    "        return Vector([x - y for x, y in zip(self.data, other.data)])\n",
    "    \n",
    "    def __mul__(self, other):\n",
    "        return Vector([x * y for x, y in zip(self.data, other.data)])\n",
    "    \n",
    "    def __truediv__(self, other):\n",
    "        return Vector([x / y for x, y in zip(self.data, other.data)])\n",
    "    \n",
    "    def __len__(self):\n",
    "        return len(self.data)\n",
    "\n",
    "    def __getitem__(self, idx):\n",
    "        return self.data[idx]\n",
    "    \n",
    "    def __setitem__(self, idx, val):\n",
    "        self.data[idx] = val\n",
    "\n",
    "v1 = Vector([1.0, 2.0, 3.0])\n",
    "v2 = Vector([4.0, 5.0, 6.0])\n",
    "v1"
   ]
  },
  {
   "cell_type": "code",
   "execution_count": 123,
   "metadata": {},
   "outputs": [
    {
     "data": {
      "text/plain": [
       "Vector([5.0, 7.0, 13.0])"
      ]
     },
     "execution_count": 123,
     "metadata": {},
     "output_type": "execute_result"
    }
   ],
   "source": [
    "# Adding two vectors.\n",
    "v1 + v2"
   ]
  },
  {
   "cell_type": "code",
   "execution_count": 124,
   "metadata": {},
   "outputs": [
    {
     "data": {
      "text/plain": [
       "Vector([5.0, 7.0, 13.0])"
      ]
     },
     "execution_count": 124,
     "metadata": {},
     "output_type": "execute_result"
    }
   ],
   "source": [
    "# The same as a method call.\n",
    "v1.__add__(v2)"
   ]
  },
  {
   "cell_type": "code",
   "execution_count": 125,
   "metadata": {},
   "outputs": [
    {
     "data": {
      "text/plain": [
       "Vector([5.0, 7.0, 13.0])"
      ]
     },
     "execution_count": 125,
     "metadata": {},
     "output_type": "execute_result"
    }
   ],
   "source": [
    "# The same as a function call.\n",
    "Vector.__add__(v1, v2)"
   ]
  },
  {
   "cell_type": "code",
   "execution_count": 111,
   "metadata": {},
   "outputs": [
    {
     "data": {
      "text/plain": [
       "Vector([-3.0, -3.0, -3.0])"
      ]
     },
     "execution_count": 111,
     "metadata": {},
     "output_type": "execute_result"
    }
   ],
   "source": [
    "# Subtracting two vectors.\n",
    "v1 - v2"
   ]
  },
  {
   "cell_type": "code",
   "execution_count": 112,
   "metadata": {},
   "outputs": [
    {
     "data": {
      "text/plain": [
       "Vector([4.0, 10.0, 18.0])"
      ]
     },
     "execution_count": 112,
     "metadata": {},
     "output_type": "execute_result"
    }
   ],
   "source": [
    "# Multiplying two vectors.\n",
    "v1 * v2"
   ]
  },
  {
   "cell_type": "code",
   "execution_count": 113,
   "metadata": {},
   "outputs": [
    {
     "data": {
      "text/plain": [
       "Vector([0.25, 0.4, 0.5])"
      ]
     },
     "execution_count": 113,
     "metadata": {},
     "output_type": "execute_result"
    }
   ],
   "source": [
    "# Dividing two vectors.\n",
    "v1 / v2"
   ]
  },
  {
   "cell_type": "code",
   "execution_count": 118,
   "metadata": {},
   "outputs": [
    {
     "data": {
      "text/plain": [
       "3"
      ]
     },
     "execution_count": 118,
     "metadata": {},
     "output_type": "execute_result"
    }
   ],
   "source": [
    "# Querying the number of elements.\n",
    "len(v2)"
   ]
  },
  {
   "cell_type": "code",
   "execution_count": 119,
   "metadata": {},
   "outputs": [
    {
     "data": {
      "text/plain": [
       "1.0"
      ]
     },
     "execution_count": 119,
     "metadata": {},
     "output_type": "execute_result"
    }
   ],
   "source": [
    "# Indexing.\n",
    "v1[0]"
   ]
  },
  {
   "cell_type": "code",
   "execution_count": 120,
   "metadata": {},
   "outputs": [
    {
     "data": {
      "text/plain": [
       "[1.0, 2.0]"
      ]
     },
     "execution_count": 120,
     "metadata": {},
     "output_type": "execute_result"
    }
   ],
   "source": [
    "# Slicing.\n",
    "v1[:2]"
   ]
  },
  {
   "cell_type": "code",
   "execution_count": 121,
   "metadata": {},
   "outputs": [
    {
     "data": {
      "text/plain": [
       "Vector([4.0, 5.0, 10])"
      ]
     },
     "execution_count": 121,
     "metadata": {},
     "output_type": "execute_result"
    }
   ],
   "source": [
    "# Changing the last coordinate of v2.\n",
    "v2[-1] = 10\n",
    "v2"
   ]
  },
  {
   "cell_type": "code",
   "execution_count": 122,
   "metadata": {},
   "outputs": [
    {
     "name": "stdout",
     "output_type": "stream",
     "text": [
      "1.0\n",
      "2.0\n",
      "3.0\n"
     ]
    }
   ],
   "source": [
    "# Iterating over the items.\n",
    "for x in v1:\n",
    "    print(x)"
   ]
  }
 ],
 "metadata": {
  "kernelspec": {
   "display_name": "Python 3 (ipykernel)",
   "language": "python",
   "name": "python3"
  },
  "language_info": {
   "codemirror_mode": {
    "name": "ipython",
    "version": 3
   },
   "file_extension": ".py",
   "mimetype": "text/x-python",
   "name": "python",
   "nbconvert_exporter": "python",
   "pygments_lexer": "ipython3",
   "version": "3.8.0"
  }
 },
 "nbformat": 4,
 "nbformat_minor": 2
}
