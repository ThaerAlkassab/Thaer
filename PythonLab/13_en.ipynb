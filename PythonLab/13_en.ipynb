{
 "cells": [
  {
   "cell_type": "markdown",
   "id": "b44e786a",
   "metadata": {},
   "source": [
    "## Iterating on indices and items"
   ]
  },
  {
   "cell_type": "code",
   "execution_count": 1,
   "id": "b89de1fc",
   "metadata": {},
   "outputs": [
    {
     "name": "stdout",
     "output_type": "stream",
     "text": [
      "a\n",
      "b\n",
      "c\n"
     ]
    }
   ],
   "source": [
    "# Iterating over the items.\n",
    "data = ['a', 'b', 'c']\n",
    "for x in data:\n",
    "    print(x)"
   ]
  },
  {
   "cell_type": "code",
   "execution_count": 2,
   "id": "99496b79",
   "metadata": {},
   "outputs": [
    {
     "name": "stdout",
     "output_type": "stream",
     "text": [
      "0\n",
      "1\n",
      "2\n"
     ]
    }
   ],
   "source": [
    "# Iterating over the indices.\n",
    "for i in range(len(data)):\n",
    "    print(i)"
   ]
  },
  {
   "cell_type": "code",
   "execution_count": 3,
   "id": "0ff467e3",
   "metadata": {},
   "outputs": [
    {
     "name": "stdout",
     "output_type": "stream",
     "text": [
      "0 a\n",
      "1 b\n",
      "2 c\n"
     ]
    }
   ],
   "source": [
    "# Iterating over the indices and items (conventional solution).\n",
    "for i in range(len(data)):\n",
    "    print(i, data[i])"
   ]
  },
  {
   "cell_type": "code",
   "execution_count": 4,
   "id": "fe11c016",
   "metadata": {},
   "outputs": [
    {
     "name": "stdout",
     "output_type": "stream",
     "text": [
      "0 a\n",
      "1 b\n",
      "2 c\n"
     ]
    }
   ],
   "source": [
    "# Iterating over the indices and items (Pythonic solution).\n",
    "for i, x in enumerate(data):\n",
    "    print(i, x)"
   ]
  },
  {
   "cell_type": "code",
   "execution_count": 5,
   "id": "6c65ad25",
   "metadata": {},
   "outputs": [
    {
     "data": {
      "text/plain": [
       "enumerate"
      ]
     },
     "execution_count": 5,
     "metadata": {},
     "output_type": "execute_result"
    }
   ],
   "source": [
    "type(enumerate(data))"
   ]
  },
  {
   "cell_type": "code",
   "execution_count": 6,
   "id": "da270cf3",
   "metadata": {},
   "outputs": [
    {
     "data": {
      "text/plain": [
       "[(0, 'a'), (1, 'b'), (2, 'c')]"
      ]
     },
     "execution_count": 6,
     "metadata": {},
     "output_type": "execute_result"
    }
   ],
   "source": [
    "list(enumerate(data))"
   ]
  },
  {
   "cell_type": "code",
   "execution_count": 9,
   "id": "8f9064c5",
   "metadata": {},
   "outputs": [
    {
     "name": "stdout",
     "output_type": "stream",
     "text": [
      "0 10,12,20,32\n",
      "1 11,13,21,33\n"
     ]
    }
   ],
   "source": [
    "# Using enumerate to generate line indices for a text file.\n",
    "for i, line in enumerate(open('example_file.txt')):\n",
    "    print(i, line.strip())"
   ]
  },
  {
   "cell_type": "markdown",
   "id": "c5187c8f",
   "metadata": {},
   "source": [
    "## Iterating over multiple sequences in parallel"
   ]
  },
  {
   "cell_type": "code",
   "execution_count": 10,
   "id": "3b364769",
   "metadata": {},
   "outputs": [
    {
     "name": "stdout",
     "output_type": "stream",
     "text": [
      "foo 10\n",
      "bar 20\n",
      "apple 30\n"
     ]
    }
   ],
   "source": [
    "# Conventional solution:\n",
    "words = ['foo', 'bar', 'apple']\n",
    "numbers = [10,20,30]\n",
    "\n",
    "for i in range (len(words)):\n",
    "    print (words[i], numbers[i])"
   ]
  },
  {
   "cell_type": "code",
   "execution_count": 12,
   "id": "652b2795",
   "metadata": {},
   "outputs": [
    {
     "name": "stdout",
     "output_type": "stream",
     "text": [
      "foo 10\n",
      "bar 20\n",
      "apple 30\n"
     ]
    }
   ],
   "source": [
    "# Pythonic solution, using zip:\n",
    "for w,n in zip(words, numbers):\n",
    "    print(w,n)"
   ]
  },
  {
   "cell_type": "code",
   "execution_count": 13,
   "id": "fe6d5624",
   "metadata": {},
   "outputs": [
    {
     "name": "stdout",
     "output_type": "stream",
     "text": [
      "foo 10\n",
      "bar 20\n",
      "apple 30\n"
     ]
    }
   ],
   "source": [
    "# Length of the result will be the length of the shortest input.\n",
    "words = ['foo', 'bar', 'apple']\n",
    "numbers = [10,20,30,40]\n",
    "\n",
    "for w,n in zip(words, numbers):\n",
    "    print(w,n)"
   ]
  },
  {
   "cell_type": "code",
   "execution_count": 14,
   "id": "5a6bbcf4",
   "metadata": {},
   "outputs": [
    {
     "data": {
      "text/plain": [
       "zip"
      ]
     },
     "execution_count": 14,
     "metadata": {},
     "output_type": "execute_result"
    }
   ],
   "source": [
    "type(zip(words, numbers))"
   ]
  },
  {
   "cell_type": "code",
   "execution_count": 15,
   "id": "ebcc9c5a",
   "metadata": {},
   "outputs": [
    {
     "data": {
      "text/plain": [
       "[('foo', 10), ('bar', 20), ('apple', 30)]"
      ]
     },
     "execution_count": 15,
     "metadata": {},
     "output_type": "execute_result"
    }
   ],
   "source": [
    "list(zip(words, numbers))"
   ]
  },
  {
   "cell_type": "code",
   "execution_count": 16,
   "id": "cf6e1695",
   "metadata": {},
   "outputs": [
    {
     "name": "stdout",
     "output_type": "stream",
     "text": [
      "0 foo 10\n",
      "1 bar 20\n",
      "2 apple 30\n"
     ]
    }
   ],
   "source": [
    "# Combining enumerate and zip.\n",
    "for i, (w,n) in enumerate(zip(words, numbers)):\n",
    "    print(i,w,n)"
   ]
  },
  {
   "cell_type": "code",
   "execution_count": 17,
   "id": "606702b2",
   "metadata": {},
   "outputs": [
    {
     "name": "stdout",
     "output_type": "stream",
     "text": [
      "0 foo 10\n",
      "1 bar 20\n",
      "2 apple 30\n"
     ]
    },
    {
     "ename": "IndexError",
     "evalue": "list index out of range",
     "output_type": "error",
     "traceback": [
      "\u001b[0;31m---------------------------------------------------------------------------\u001b[0m",
      "\u001b[0;31mIndexError\u001b[0m                                Traceback (most recent call last)",
      "Input \u001b[0;32mIn [17]\u001b[0m, in \u001b[0;36m<cell line: 2>\u001b[0;34m()\u001b[0m\n\u001b[1;32m      1\u001b[0m \u001b[38;5;66;03m# ...the same using index based looping:\u001b[39;00m\n\u001b[1;32m      2\u001b[0m \u001b[38;5;28;01mfor\u001b[39;00m i \u001b[38;5;129;01min\u001b[39;00m \u001b[38;5;28mrange\u001b[39m (\u001b[38;5;28mlen\u001b[39m(numbers)):\n\u001b[0;32m----> 3\u001b[0m     \u001b[38;5;28mprint\u001b[39m (i,\u001b[43mwords\u001b[49m\u001b[43m[\u001b[49m\u001b[43mi\u001b[49m\u001b[43m]\u001b[49m, numbers[i])\n",
      "\u001b[0;31mIndexError\u001b[0m: list index out of range"
     ]
    }
   ],
   "source": [
    "# ...the same using index based looping:\n",
    "for i in range (len(numbers)):\n",
    "    print (i,words[i], numbers[i])"
   ]
  },
  {
   "cell_type": "code",
   "execution_count": 18,
   "id": "5f2a00f3",
   "metadata": {
    "scrolled": true
   },
   "outputs": [
    {
     "name": "stdout",
     "output_type": "stream",
     "text": [
      "0 foo 10\n",
      "1 bar 20\n",
      "2 apple 30\n"
     ]
    }
   ],
   "source": [
    "for i in range (len(words)):\n",
    "    print (i,words[i], numbers[i])"
   ]
  },
  {
   "cell_type": "markdown",
   "id": "1207f525",
   "metadata": {},
   "source": [
    "### Longest Collatz Sequence (Problem 14)\n",
    "\n",
    "The following iterative sequence is defined for the set of positive integers:\n",
    "- $n \\rightarrow n / 2$ (if $n$ is even)\n",
    "- $n \\rightarrow 3n + 1$ (if $n$ is odd)\n",
    "\n",
    "\n",
    "Using the rule above and starting with 13, we generate the following sequence: 13, 40, 20, 10, 5, 16, 8, 4, 2, 1. It can be seen that this sequence (starting at 13 and finishing at 1) contains 10 terms. Although it has not been proved yet (Collatz Problem), it is thought that all starting numbers finish at 1.\n",
    "\n",
    "Which starting number, under one million, produces the longest chain?\n",
    "\n",
    "NOTE: Once the chain starts the terms are allowed to go above one million."
   ]
  },
  {
   "cell_type": "code",
   "execution_count": 35,
   "id": "79567635",
   "metadata": {},
   "outputs": [],
   "source": [
    "def steps(x):\n",
    "    if x%2==0: return x//2\n",
    "    else: return 3*x+1\n",
    "\n",
    "def check(x, st):\n",
    "    if x in A: return (1, st+A[x])\n",
    "    else: return (steps(x), st+1)\n"
   ]
  },
  {
   "cell_type": "code",
   "execution_count": 56,
   "id": "09887234",
   "metadata": {},
   "outputs": [
    {
     "name": "stdout",
     "output_type": "stream",
     "text": [
      "837799 556\n",
      "CPU times: user 3.26 s, sys: 100 ms, total: 3.36 s\n",
      "Wall time: 3.36 s\n"
     ]
    }
   ],
   "source": [
    "%%time\n",
    "A = {1:1, 2:2}\n",
    "up_lim=1000000\n",
    "\n",
    "for i in range(3,up_lim):\n",
    "    st=1\n",
    "    x=i\n",
    "    while x!=1:\n",
    "        x,st = check(x,st)\n",
    "    A[i]=st\n",
    "\n",
    "Keymax = max(zip(A.values(), A.keys()))[1]\n",
    "print(Keymax,A[Keymax])"
   ]
  },
  {
   "cell_type": "code",
   "execution_count": 57,
   "id": "b772ddbb",
   "metadata": {},
   "outputs": [],
   "source": [
    "# Teacher solution\n",
    "def collatz_len(n, d):\n",
    "    if n == 1:\n",
    "        return 1\n",
    "    \n",
    "    if n in d:\n",
    "        return d[n]\n",
    "    \n",
    "    if n % 2 == 0:\n",
    "        l = 1 + collatz_len(n // 2, d)\n",
    "    else:\n",
    "        l = 1 + collatz_len(3 * n + 1, d)\n",
    "        \n",
    "    d[n] = l\n",
    "    return l"
   ]
  },
  {
   "cell_type": "code",
   "execution_count": 58,
   "id": "d4a6dc96",
   "metadata": {
    "scrolled": true
   },
   "outputs": [
    {
     "name": "stdout",
     "output_type": "stream",
     "text": [
      "CPU times: user 1.59 s, sys: 256 ms, total: 1.85 s\n",
      "Wall time: 1.85 s\n"
     ]
    },
    {
     "data": {
      "text/plain": [
       "(525, 837799)"
      ]
     },
     "execution_count": 58,
     "metadata": {},
     "output_type": "execute_result"
    }
   ],
   "source": [
    "%%time\n",
    "d = {}\n",
    "max([(collatz_len(n, d), n) for n in range(1, 1_000_000)])"
   ]
  },
  {
   "cell_type": "code",
   "execution_count": 59,
   "id": "3c58ec9e",
   "metadata": {},
   "outputs": [],
   "source": [
    "# plot the length as the function of the intial numbers\n",
    "import pandas as pd"
   ]
  },
  {
   "cell_type": "code",
   "execution_count": 60,
   "id": "8d7db529",
   "metadata": {
    "scrolled": true
   },
   "outputs": [
    {
     "data": {
      "text/plain": [
       "<AxesSubplot:>"
      ]
     },
     "execution_count": 60,
     "metadata": {},
     "output_type": "execute_result"
    },
    {
     "data": {
      "image/png": "[encoded data removed]",
      "text/plain": [
       "<Figure size 1152x288 with 1 Axes>"
      ]
     },
     "metadata": {
      "needs_background": "light"
     },
     "output_type": "display_data"
    }
   ],
   "source": [
    "se = pd.Series([d[n] for n in range(2, 500)], index=range(2, 500))\n",
    "se.plot(figsize=(16, 4))"
   ]
  },
  {
   "cell_type": "markdown",
   "id": "2478d905",
   "metadata": {},
   "source": [
    "### Number Spiral Diagonals (Problem 28)\n",
    "\n",
    "Starting with the number and moving to the right in a clockwise direction a 5-by-5 spiral is formed as follows:\n",
    "\n",
    "```\n",
    "21 22 23 24 25\n",
    "20  7  8  9 10\n",
    "19  6  1  2 11\n",
    "18  5  4  3 12\n",
    "17 16 15 14 13\n",
    "```\n",
    "\n",
    "It can be verified that the sum of the numbers on the diagonals is 101.\n",
    "\n",
    "What is the sum of the numbers on the diagonals in a 1001-by-1001 spiral formed in the same way?"
   ]
  },
  {
   "cell_type": "code",
   "execution_count": 62,
   "id": "680275da",
   "metadata": {},
   "outputs": [
    {
     "data": {
      "text/plain": [
       "array([[0, 0, 0, 0, 0],\n",
       "       [0, 0, 0, 0, 0],\n",
       "       [0, 0, 0, 0, 0],\n",
       "       [0, 0, 0, 0, 0],\n",
       "       [0, 0, 0, 0, 0]])"
      ]
     },
     "execution_count": 62,
     "metadata": {},
     "output_type": "execute_result"
    }
   ],
   "source": [
    "import numpy as np\n",
    "\n",
    "n = 5\n",
    "a = np.zeros((n,n), dtype='int64')\n",
    "a"
   ]
  },
  {
   "cell_type": "code",
   "execution_count": 63,
   "id": "28d27ccb",
   "metadata": {},
   "outputs": [],
   "source": [
    "i,j = n//2, n//2\n",
    "cnt = 1"
   ]
  },
  {
   "cell_type": "code",
   "execution_count": 79,
   "id": "a4b6974c",
   "metadata": {},
   "outputs": [
    {
     "name": "stdout",
     "output_type": "stream",
     "text": [
      "669171001\n",
      "CPU times: user 922 µs, sys: 4 µs, total: 926 µs\n",
      "Wall time: 933 µs\n"
     ]
    }
   ],
   "source": [
    "%%time\n",
    "\n",
    "l_n = 1001*1001\n",
    "\n",
    "corner = range(1,l_n+1,2)\n",
    "\n",
    "i = 0\n",
    "\n",
    "x = 1\n",
    "\n",
    "\n",
    "solution = 1\n",
    "\n",
    "\n",
    "\n",
    "while corner[i] != l_n:\n",
    "\tfor j in range(4):\n",
    "\t\ti+= x\n",
    "\t\tsolution += corner[i]\n",
    "\tx += 1\n",
    "\n",
    "\n",
    "print (solution)"
   ]
  },
  {
   "cell_type": "code",
   "execution_count": 85,
   "id": "b6f8103d",
   "metadata": {},
   "outputs": [
    {
     "name": "stdout",
     "output_type": "stream",
     "text": [
      "CPU times: user 607 µs, sys: 0 ns, total: 607 µs\n",
      "Wall time: 621 µs\n"
     ]
    },
    {
     "data": {
      "text/plain": [
       "669171001"
      ]
     },
     "execution_count": 85,
     "metadata": {},
     "output_type": "execute_result"
    }
   ],
   "source": [
    "%%time\n",
    "# Second solution, without generating the matrix.\n",
    "# n = 5\n",
    "# 1 (+3+5+7+9) (+13+17+21+25) ...\n",
    "\n",
    "n = 1001\n",
    "\n",
    "seq = [1]\n",
    "for i in range(n // 2):\n",
    "    step = 2 * (i + 1)\n",
    "    for _ in range(4):\n",
    "        seq.append(seq[-1] + step)\n",
    "    \n",
    "sum(seq)"
   ]
  },
  {
   "cell_type": "code",
   "execution_count": 82,
   "id": "e98a86d1",
   "metadata": {},
   "outputs": [
    {
     "name": "stdout",
     "output_type": "stream",
     "text": [
      "CPU times: user 492 ms, sys: 17 µs, total: 492 ms\n",
      "Wall time: 490 ms\n"
     ]
    },
    {
     "data": {
      "text/plain": [
       "669171001"
      ]
     },
     "execution_count": 82,
     "metadata": {},
     "output_type": "execute_result"
    }
   ],
   "source": [
    "%%time\n",
    "# teacher Solution \n",
    "# First solution:\n",
    "\n",
    "n = 1001\n",
    "\n",
    "# generate all-zeros matrix\n",
    "a = np.zeros((n, n), dtype='int64')\n",
    "\n",
    "i, j = n // 2, n // 2                    # starting location\n",
    "delta = (0, 1), (1, 0), (0, -1), (-1, 0) # step vectors: right, down, left, up\n",
    "didx = 0                                 # direction index\n",
    "\n",
    "# generate step sizes\n",
    "step_sizes = []\n",
    "for s in range(1, n + 1): step_sizes.extend([s, s])\n",
    "\n",
    "# traverse the spiral\n",
    "cnt = 1\n",
    "for s in step_sizes[:-1]:\n",
    "    di, dj = delta[didx]\n",
    "    for k in range(s):\n",
    "        a[i, j] = cnt\n",
    "        cnt += 1\n",
    "        i += di\n",
    "        j += dj\n",
    "        \n",
    "    didx = (didx + 1) % 4 # change direction\n",
    "\n",
    "np.diag(a).sum() + np.diag(np.fliplr(a)).sum() - 1"
   ]
  },
  {
   "cell_type": "code",
   "execution_count": 83,
   "id": "73ce6e83",
   "metadata": {},
   "outputs": [
    {
     "data": {
      "text/plain": [
       "array([[1001001, 1001002, 1001003, ..., 1001999, 1002000, 1002001],\n",
       "       [1001000,  997003,  997004, ...,  998000,  998001,  998002],\n",
       "       [1000999,  997002,  993013, ...,  994009,  994010,  998003],\n",
       "       ...,\n",
       "       [1000003,  996006,  992017, ...,  991021,  995006,  998999],\n",
       "       [1000002,  996005,  996004, ...,  995008,  995007,  999000],\n",
       "       [1000001, 1000000,  999999, ...,  999003,  999002,  999001]])"
      ]
     },
     "execution_count": 83,
     "metadata": {},
     "output_type": "execute_result"
    }
   ],
   "source": [
    "a"
   ]
  },
  {
   "cell_type": "markdown",
   "id": "9f00eedf",
   "metadata": {},
   "source": [
    "### Sum Square Difference (Problem 6)\n",
    "\n",
    "\n",
    "The sum of the squares of the first ten natural numbers is $1^2 + 2^2 + \\dots + 10^2 = 385$\n",
    "\n",
    "The square of the sum of the first ten natural numbers is $(1 + 2 + \\dots + 10)^2 = 3025$\n",
    "\n",
    "Hence the difference between the sum of the squares of the first ten natural numbers and the square of the sum is\n",
    "$3025 - 385 = 2640$.\n",
    "\n",
    "Find the difference between the sum of the squares of the first one hundred natural numbers and the square of the sum."
   ]
  },
  {
   "cell_type": "code",
   "execution_count": 93,
   "id": "926263b0",
   "metadata": {},
   "outputs": [
    {
     "data": {
      "text/plain": [
       "25164150"
      ]
     },
     "execution_count": 93,
     "metadata": {},
     "output_type": "execute_result"
    }
   ],
   "source": [
    "n = 100\n",
    "s = 0\n",
    "ss = 0\n",
    "for i in range(0,n+1):\n",
    "        s += i\n",
    "        ss += i**2\n",
    "\n",
    "(s**2) - ss "
   ]
  },
  {
   "cell_type": "code",
   "execution_count": 94,
   "id": "3ad9c9a9",
   "metadata": {},
   "outputs": [
    {
     "data": {
      "text/plain": [
       "25164150"
      ]
     },
     "execution_count": 94,
     "metadata": {},
     "output_type": "execute_result"
    }
   ],
   "source": [
    "# Teacher solution.\n",
    "n = 100\n",
    "sum(range(1, n + 1))**2 - sum(i**2 for i in range(1, n + 1))"
   ]
  },
  {
   "cell_type": "code",
   "execution_count": 95,
   "id": "2ed43cd8",
   "metadata": {},
   "outputs": [
    {
     "data": {
      "text/plain": [
       "25000000166666664166666650000000"
      ]
     },
     "execution_count": 95,
     "metadata": {},
     "output_type": "execute_result"
    }
   ],
   "source": [
    "# Second solution.\n",
    "\n",
    "n = 100_000_000\n",
    "\n",
    "sq_of_sums = (n * (n + 1) // 2)**2\n",
    "sum_of_sqs = n * (n + 1) * (2 * n + 1) // 6\n",
    "sq_of_sums - sum_of_sqs"
   ]
  },
  {
   "cell_type": "markdown",
   "id": "98c5f879",
   "metadata": {},
   "source": [
    "## Decorators\n",
    "\n",
    "- A decorator is a function that creates a function from a function.\n",
    "- A decorator can be applied on a function definition using the @ operator."
   ]
  },
  {
   "cell_type": "code",
   "execution_count": null,
   "id": "87012a2b",
   "metadata": {},
   "outputs": [],
   "source": [
    "# A function definition."
   ]
  },
  {
   "cell_type": "code",
   "execution_count": null,
   "id": "6654641f",
   "metadata": {},
   "outputs": [],
   "source": [
    "# Example decorator that prints 'hello'."
   ]
  },
  {
   "cell_type": "code",
   "execution_count": null,
   "id": "760dc01e",
   "metadata": {},
   "outputs": [],
   "source": [
    "# Applying the decorator as a function call."
   ]
  },
  {
   "cell_type": "code",
   "execution_count": null,
   "id": "ac021746",
   "metadata": {},
   "outputs": [],
   "source": [
    "# Applying the decorator using the @ operator!"
   ]
  },
  {
   "cell_type": "markdown",
   "id": "0bc65e35",
   "metadata": {},
   "source": []
  },
  {
   "cell_type": "code",
   "execution_count": 3,
   "id": "95837f7e",
   "metadata": {},
   "outputs": [],
   "source": [
    "import time\n",
    "\n",
    "def compute_xy(a):\n",
    "    time.sleep(2)\n",
    "    return a**2"
   ]
  },
  {
   "cell_type": "code",
   "execution_count": 4,
   "id": "607f8238",
   "metadata": {},
   "outputs": [
    {
     "data": {
      "text/plain": [
       "100"
      ]
     },
     "execution_count": 4,
     "metadata": {},
     "output_type": "execute_result"
    }
   ],
   "source": [
    "compute_xy(10)"
   ]
  },
  {
   "cell_type": "code",
   "execution_count": 9,
   "id": "62dece1d",
   "metadata": {},
   "outputs": [],
   "source": [
    "def cache(f):\n",
    "    def g(x):\n",
    "        if x in g.results:\n",
    "            return g.results[x]\n",
    "        else:\n",
    "            g.results[x] = f(x)\n",
    "            return g.results[x]\n",
    "            \n",
    "    g.results = {}\n",
    "    return g"
   ]
  },
  {
   "cell_type": "code",
   "execution_count": 18,
   "id": "3b12196f",
   "metadata": {},
   "outputs": [],
   "source": [
    "@cache\n",
    "def compute_xy(a):\n",
    "    time.sleep(2)\n",
    "    return a**2"
   ]
  },
  {
   "cell_type": "code",
   "execution_count": 19,
   "id": "f654a578",
   "metadata": {},
   "outputs": [
    {
     "name": "stdout",
     "output_type": "stream",
     "text": [
      "CPU times: user 1.28 ms, sys: 149 µs, total: 1.43 ms\n",
      "Wall time: 2 s\n"
     ]
    },
    {
     "data": {
      "text/plain": [
       "400"
      ]
     },
     "execution_count": 19,
     "metadata": {},
     "output_type": "execute_result"
    }
   ],
   "source": [
    "%%time\n",
    "compute_xy(20)"
   ]
  },
  {
   "cell_type": "code",
   "execution_count": 20,
   "id": "bdc4b7dd",
   "metadata": {},
   "outputs": [
    {
     "name": "stdout",
     "output_type": "stream",
     "text": [
      "CPU times: user 7 µs, sys: 0 ns, total: 7 µs\n",
      "Wall time: 12.2 µs\n"
     ]
    },
    {
     "data": {
      "text/plain": [
       "400"
      ]
     },
     "execution_count": 20,
     "metadata": {},
     "output_type": "execute_result"
    }
   ],
   "source": [
    "%%time\n",
    "compute_xy(20)"
   ]
  },
  {
   "cell_type": "markdown",
   "id": "93935502",
   "metadata": {},
   "source": [
    "## Decorator Generator\n",
    "\n",
    "\"A decorator generator is a function that creates a function that creates a function from a function.\""
   ]
  },
  {
   "cell_type": "code",
   "execution_count": 13,
   "id": "3d8282be",
   "metadata": {},
   "outputs": [],
   "source": [
    "# Parametric version of the \"hello\" decorator.\n",
    "def hello(n):\n",
    "    def dec(g):\n",
    "        def g2(x):\n",
    "            print('hello'*n)\n",
    "            return g(x)\n",
    "        return g2\n",
    "    return dec\n"
   ]
  },
  {
   "cell_type": "code",
   "execution_count": 14,
   "id": "a9ea4c84",
   "metadata": {},
   "outputs": [],
   "source": [
    "@hello(2)\n",
    "def f4(x):\n",
    "    return 2*x"
   ]
  },
  {
   "cell_type": "code",
   "execution_count": 15,
   "id": "f64971cb",
   "metadata": {},
   "outputs": [
    {
     "name": "stdout",
     "output_type": "stream",
     "text": [
      "hellohello\n"
     ]
    },
    {
     "data": {
      "text/plain": [
       "40"
      ]
     },
     "execution_count": 15,
     "metadata": {},
     "output_type": "execute_result"
    }
   ],
   "source": [
    "f4(20)"
   ]
  },
  {
   "cell_type": "code",
   "execution_count": 17,
   "id": "3c3f2758",
   "metadata": {},
   "outputs": [],
   "source": [
    "# LRU (least Resulte Used) cache\n",
    "import functools\n",
    "@functools.lru_cache\n",
    "def compute_xy(a):\n",
    "    time.sleep(2)\n",
    "    return a**2"
   ]
  },
  {
   "cell_type": "code",
   "execution_count": 21,
   "id": "f018b40e",
   "metadata": {},
   "outputs": [
    {
     "name": "stdout",
     "output_type": "stream",
     "text": [
      "CPU times: user 1.24 ms, sys: 142 µs, total: 1.38 ms\n",
      "Wall time: 2 s\n"
     ]
    },
    {
     "data": {
      "text/plain": [
       "100"
      ]
     },
     "execution_count": 21,
     "metadata": {},
     "output_type": "execute_result"
    }
   ],
   "source": [
    "%%time\n",
    "compute_xy(10)"
   ]
  },
  {
   "cell_type": "code",
   "execution_count": 22,
   "id": "5cc4d4b6",
   "metadata": {},
   "outputs": [
    {
     "name": "stdout",
     "output_type": "stream",
     "text": [
      "CPU times: user 7 µs, sys: 1 µs, total: 8 µs\n",
      "Wall time: 12.6 µs\n"
     ]
    },
    {
     "data": {
      "text/plain": [
       "100"
      ]
     },
     "execution_count": 22,
     "metadata": {},
     "output_type": "execute_result"
    }
   ],
   "source": [
    "%%time\n",
    "compute_xy(10)"
   ]
  },
  {
   "cell_type": "markdown",
   "id": "c00cdf6b",
   "metadata": {},
   "source": [
    "Web frameworks often use decorators to make web endpoints from functions.\n",
    "- https://bottlepy.org/docs/dev/\n",
    "- https://flask.palletsprojects.com/en/2.2.x/quickstart/#a-minimal-application"
   ]
  },
  {
   "cell_type": "code",
   "execution_count": 25,
   "id": "109551d0",
   "metadata": {},
   "outputs": [],
   "source": [
    "# clssmethod decorator\n",
    "\n",
    "class Foo:\n",
    "    def bar(self, x):\n",
    "        return 2*x\n",
    "    \n",
    "    @classmethod\n",
    "    def asdf(cls, x):\n",
    "        return 3*x\n"
   ]
  },
  {
   "cell_type": "code",
   "execution_count": 26,
   "id": "d636e81f",
   "metadata": {},
   "outputs": [],
   "source": [
    "f1 = Foo()\n",
    "f2 = Foo()"
   ]
  },
  {
   "cell_type": "code",
   "execution_count": 30,
   "id": "278a9da7",
   "metadata": {},
   "outputs": [
    {
     "name": "stdout",
     "output_type": "stream",
     "text": [
      "20 22 36\n"
     ]
    }
   ],
   "source": [
    "print(\n",
    "    f1.bar(10),\n",
    "    f2.bar(11),\n",
    "    Foo.asdf(12)\n",
    ")"
   ]
  },
  {
   "cell_type": "code",
   "execution_count": 29,
   "id": "8f26930d",
   "metadata": {},
   "outputs": [
    {
     "data": {
      "text/html": [
       "<div>\n",
       "<style scoped>\n",
       "    .dataframe tbody tr th:only-of-type {\n",
       "        vertical-align: middle;\n",
       "    }\n",
       "\n",
       "    .dataframe tbody tr th {\n",
       "        vertical-align: top;\n",
       "    }\n",
       "\n",
       "    .dataframe thead th {\n",
       "        text-align: right;\n",
       "    }\n",
       "</style>\n",
       "<table border=\"1\" class=\"dataframe\">\n",
       "  <thead>\n",
       "    <tr style=\"text-align: right;\">\n",
       "      <th></th>\n",
       "      <th>col_1</th>\n",
       "      <th>col_2</th>\n",
       "    </tr>\n",
       "  </thead>\n",
       "  <tbody>\n",
       "    <tr>\n",
       "      <th>0</th>\n",
       "      <td>3</td>\n",
       "      <td>a</td>\n",
       "    </tr>\n",
       "    <tr>\n",
       "      <th>1</th>\n",
       "      <td>2</td>\n",
       "      <td>b</td>\n",
       "    </tr>\n",
       "    <tr>\n",
       "      <th>2</th>\n",
       "      <td>1</td>\n",
       "      <td>c</td>\n",
       "    </tr>\n",
       "    <tr>\n",
       "      <th>3</th>\n",
       "      <td>0</td>\n",
       "      <td>d</td>\n",
       "    </tr>\n",
       "  </tbody>\n",
       "</table>\n",
       "</div>"
      ],
      "text/plain": [
       "   col_1 col_2\n",
       "0      3     a\n",
       "1      2     b\n",
       "2      1     c\n",
       "3      0     d"
      ]
     },
     "execution_count": 29,
     "metadata": {},
     "output_type": "execute_result"
    }
   ],
   "source": [
    "# Example for a class method in Pandas\n",
    "import pandas as pd\n",
    "data = {'col_1': [3, 2, 1, 0], 'col_2': ['a', 'b', 'c', 'd']}\n",
    "pd.DataFrame.from_dict(data)"
   ]
  },
  {
   "cell_type": "markdown",
   "id": "2d5674f4",
   "metadata": {},
   "source": [
    "### Largest Product in a Series (Problem 8)\n",
    "\n",
    "The four adjacent digits in the 1000-digit number that have the greatest product are 9×9×8×9 = 5832.\n",
    "\n",
    "```\n",
    "73167176531330624919225119674426574742355349194934\n",
    "96983520312774506326239578318016984801869478851843\n",
    "85861560789112949495459501737958331952853208805511\n",
    "12540698747158523863050715693290963295227443043557\n",
    "66896648950445244523161731856403098711121722383113\n",
    "62229893423380308135336276614282806444486645238749\n",
    "30358907296290491560440772390713810515859307960866\n",
    "70172427121883998797908792274921901699720888093776\n",
    "65727333001053367881220235421809751254540594752243\n",
    "52584907711670556013604839586446706324415722155397\n",
    "53697817977846174064955149290862569321978468622482\n",
    "83972241375657056057490261407972968652414535100474\n",
    "82166370484403199890008895243450658541227588666881\n",
    "16427171479924442928230863465674813919123162824586\n",
    "17866458359124566529476545682848912883142607690042\n",
    "24219022671055626321111109370544217506941658960408\n",
    "07198403850962455444362981230987879927244284909188\n",
    "84580156166097919133875499200524063689912560717606\n",
    "05886116467109405077541002256983155200055935729725\n",
    "71636269561882670428252483600823257530420752963450\n",
    "```\n",
    "\n",
    "Find the thirteen adjacent digits in the 1000-digit number that have the greatest product. What is the value of this product?"
   ]
  },
  {
   "cell_type": "code",
   "execution_count": 8,
   "id": "9093b7ca",
   "metadata": {},
   "outputs": [],
   "source": [
    "se = '7316717653133062491922511967442657474235534919493496983520312774506326239578318016984801869478851843858615607891129494954595017379583319528532088055111254069874715852386305071569329096329522744304355766896648950445244523161731856403098711121722383113622298934233803081353362766142828064444866452387493035890729629049156044077239071381051585930796086670172427121883998797908792274921901699720888093776657273330010533678812202354218097512545405947522435258490771167055601360483958644670632441572215539753697817977846174064955149290862569321978468622482839722413756570560574902614079729686524145351004748216637048440319989000889524345065854122758866688116427171479924442928230863465674813919123162824586178664583591245665294765456828489128831426076900422421902267105562632111110937054421750694165896040807198403850962455444362981230987879927244284909188845801561660979191338754992005240636899125607176060588611646710940507754100225698315520005593572972571636269561882670428252483600823257530420752963450'"
   ]
  },
  {
   "cell_type": "code",
   "execution_count": 10,
   "id": "51581f48",
   "metadata": {},
   "outputs": [
    {
     "name": "stdout",
     "output_type": "stream",
     "text": [
      "the Max adjacent is 5576689664895, and it equales to 23514624000\n"
     ]
    }
   ],
   "source": [
    "pro = 1\n",
    "st = ''\n",
    "max_n = 0\n",
    "max_s = ''\n",
    "for i in range(0,len(se)-12):\n",
    "    for q in range(0,13):\n",
    "        pro *= int(se[i+q])\n",
    "        st += se[i+q]\n",
    "    if pro>max_n:\n",
    "        max_n = pro\n",
    "        max_s = st\n",
    "    pro = 1\n",
    "    st = ''\n",
    "print(f'the Max adjacent is {max_s}, and it equales to {max_n}')"
   ]
  },
  {
   "cell_type": "markdown",
   "id": "db16f9c1",
   "metadata": {},
   "source": [
    "### Quadratic Primes (Problem 27)\n",
    "\n",
    "Euler discovered the remarkable quadratic formula: $n^2 + n + 41$. It turns out that the formula will produce 40 primes for the consecutive integer values $0 \\leq n \\leq 39$.\n",
    "Let us consider quadratics of the form $n^2 + an + b$ where $|a| < 1000$ and $|b| \\leq 1000$! Find the product of the coefficients $a \\cdot b$, for the quadratic expression that produces the maximum number of primes for consecutive values of $n$, starting with $n=0$."
   ]
  },
  {
   "cell_type": "code",
   "execution_count": 25,
   "id": "e1b427da",
   "metadata": {},
   "outputs": [],
   "source": [
    "# is_prime function:\n",
    "def is_prime(n):\n",
    "    if n<= 1: return False\n",
    "    for i in range(2, int(n**0.5) + 1):\n",
    "        if n % i == 0:\n",
    "            return False\n",
    "    return n > 1\n",
    "\n",
    "# num _primes_gen finction\n",
    "def num_primes_gen(a,b):\n",
    "    n = b\n",
    "    i = 1\n",
    "    c = 0\n",
    "    while is_prime(n):\n",
    "        c += 1\n",
    "        n = i**2 + a*i + b\n",
    "        i += 1\n",
    "    return c"
   ]
  },
  {
   "cell_type": "code",
   "execution_count": 26,
   "id": "03eaa613",
   "metadata": {},
   "outputs": [],
   "source": [
    "boun = 1000\n",
    "max_gen = 0\n",
    "for a in range(-boun+1, boun):\n",
    "    for b in range (-boun, boun+1):\n",
    "        p = num_primes_gen(a,b)\n",
    "        if p>max_gen:\n",
    "            max_gen = p\n",
    "            r1 = a\n",
    "            r2 = b\n"
   ]
  },
  {
   "cell_type": "code",
   "execution_count": 27,
   "id": "5e06ac62",
   "metadata": {},
   "outputs": [
    {
     "data": {
      "text/plain": [
       "(-61, 971, 71, -59231)"
      ]
     },
     "execution_count": 27,
     "metadata": {},
     "output_type": "execute_result"
    }
   ],
   "source": [
    "r1,r2,max_gen,r1*r2"
   ]
  },
  {
   "cell_type": "code",
   "execution_count": 1,
   "id": "0a72b3a2",
   "metadata": {},
   "outputs": [
    {
     "data": {
      "text/plain": [
       "{'a',\n",
       " 'b',\n",
       " 'c',\n",
       " 'd',\n",
       " 'e',\n",
       " 'f',\n",
       " 'g',\n",
       " 'h',\n",
       " 'i',\n",
       " 'j',\n",
       " 'k',\n",
       " 'l',\n",
       " 'm',\n",
       " 'n',\n",
       " 'o',\n",
       " 'p',\n",
       " 'q',\n",
       " 'r',\n",
       " 's',\n",
       " 't',\n",
       " 'u',\n",
       " 'v',\n",
       " 'w',\n",
       " 'x',\n",
       " 'y',\n",
       " 'z'}"
      ]
     },
     "execution_count": 1,
     "metadata": {},
     "output_type": "execute_result"
    }
   ],
   "source": [
    "# generate the set of English lowercase letters\n",
    "import string\n",
    "set(string.ascii_lowercase)"
   ]
  },
  {
   "cell_type": "code",
   "execution_count": 2,
   "id": "b16a2020",
   "metadata": {},
   "outputs": [
    {
     "data": {
      "text/plain": [
       "datetime.date(2024, 2, 28)"
      ]
     },
     "execution_count": 2,
     "metadata": {},
     "output_type": "execute_result"
    }
   ],
   "source": [
    "# What will be the date 100 days from today?\n",
    "import datetime\n",
    "datetime.date.today() + datetime.timedelta(100)"
   ]
  },
  {
   "cell_type": "code",
   "execution_count": 3,
   "id": "386e69a6",
   "metadata": {},
   "outputs": [
    {
     "data": {
      "text/plain": [
       "'8'"
      ]
     },
     "execution_count": 3,
     "metadata": {},
     "output_type": "execute_result"
    }
   ],
   "source": [
    "# What is the 10th decimal digit of pi?\n",
    "import math\n",
    "str(math.pi)[2:][10]"
   ]
  },
  {
   "cell_type": "code",
   "execution_count": null,
   "id": "9fbe955f",
   "metadata": {},
   "outputs": [],
   "source": []
  }
 ],
 "metadata": {
  "kernelspec": {
   "display_name": "Python 3 (ipykernel)",
   "language": "python",
   "name": "python3"
  },
  "language_info": {
   "codemirror_mode": {
    "name": "ipython",
    "version": 3
   },
   "file_extension": ".py",
   "mimetype": "text/x-python",
   "name": "python",
   "nbconvert_exporter": "python",
   "pygments_lexer": "ipython3",
   "version": "3.8.0"
  }
 },
 "nbformat": 4,
 "nbformat_minor": 5
}
