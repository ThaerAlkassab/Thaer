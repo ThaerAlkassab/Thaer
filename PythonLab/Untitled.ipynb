{
 "cells": [
  {
   "cell_type": "code",
   "execution_count": 7,
   "id": "d29f3159",
   "metadata": {},
   "outputs": [],
   "source": [
    "import pandas as pd\n",
    "import numpy as np\n",
    "import seaborne as sns\n",
    "import matplotlib.pyplot as plt\n",
    "import ptitprince as pt"
   ]
  },
  {
   "cell_type": "code",
   "execution_count": 4,
   "id": "8e36bcf4",
   "metadata": {},
   "outputs": [
    {
     "ename": "NameError",
     "evalue": "name 'sns' is not defined",
     "output_type": "error",
     "traceback": [
      "\u001b[0;31m---------------------------------------------------------------------------\u001b[0m",
      "\u001b[0;31mNameError\u001b[0m                                 Traceback (most recent call last)",
      "Input \u001b[0;32mIn [4]\u001b[0m, in \u001b[0;36m<cell line: 1>\u001b[0;34m()\u001b[0m\n\u001b[0;32m----> 1\u001b[0m df \u001b[38;5;241m=\u001b[39m \u001b[43msns\u001b[49m\u001b[38;5;241m.\u001b[39mload_dataset(\u001b[38;5;124m\"\u001b[39m\u001b[38;5;124miris\u001b[39m\u001b[38;5;124m\"\u001b[39m)\n\u001b[1;32m      2\u001b[0m df\u001b[38;5;241m.\u001b[39mhead()\n",
      "\u001b[0;31mNameError\u001b[0m: name 'sns' is not defined"
     ]
    }
   ],
   "source": [
    "df = sns.load_dataset(\"iris\")\n",
    "df.head()"
   ]
  },
  {
   "cell_type": "code",
   "execution_count": null,
   "id": "1f39c99c",
   "metadata": {},
   "outputs": [],
   "source": [
    "sns.barplot(x=\"species\", y=\"sepal_length\", data=df, capsize=.1)"
   ]
  },
  {
   "cell_type": "code",
   "execution_count": null,
   "id": "a3671059",
   "metadata": {},
   "outputs": [],
   "source": [
    "sns.barplot(x=\"species\", y=\"sepal_length\", data=df, orient=\"h\")\n",
    "plt.show()"
   ]
  },
  {
   "cell_type": "code",
   "execution_count": null,
   "id": "098dc8c5",
   "metadata": {},
   "outputs": [],
   "source": [
    "sns.stripplot(x=\"species\", y=\"sepal_length\", data=df, orient=\"h\", jitter= 1)\n",
    "plt.show()"
   ]
  },
  {
   "cell_type": "code",
   "execution_count": null,
   "id": "489eaa30",
   "metadata": {},
   "outputs": [],
   "source": [
    "np.random.seed(42)\n",
    "data1 = np.random.normal(loc=0, scale=1, size=50)\n",
    "sns.set(style=\"whitegrid\")\n",
    "plt.figure(figsize=(10, 6))\n",
    "# Boxplot with Violinplot for Dataset 1\n",
    "sns.boxplot(x=data1, color='skyblue', width=0.3)\n",
    "sns.violinplot(x=data1, color='lightcoral', alpha=0.6)\n",
    "plt.title('Boxplot with Violinplot - Dataset 1')\n",
    "plt.show()"
   ]
  },
  {
   "cell_type": "code",
   "execution_count": null,
   "id": "9828e8da",
   "metadata": {},
   "outputs": [],
   "source": [
    "data2 = np.random.normal(loc=2, scale=1.5, size=50)\n",
    "\n",
    "plt.figure(figsize=(10, 6))\n",
    "\n",
    "# Boxplot with Violinplot for Dataset 2\n",
    "sns.boxplot(x=data2, color='lightgreen', width=0.3)\n",
    "sns.violinplot(x=data2, color='orange', alpha=0.6)\n",
    "\n",
    "plt.title('Boxplot with Violinplot - Dataset 2')\n",
    "plt.show()\n"
   ]
  },
  {
   "cell_type": "code",
   "execution_count": null,
   "id": "a93ed2b2",
   "metadata": {},
   "outputs": [],
   "source": []
  },
  {
   "cell_type": "code",
   "execution_count": null,
   "id": "f0ddd6fe",
   "metadata": {},
   "outputs": [],
   "source": []
  },
  {
   "cell_type": "code",
   "execution_count": null,
   "id": "9b7cb2d9",
   "metadata": {},
   "outputs": [],
   "source": []
  },
  {
   "cell_type": "code",
   "execution_count": null,
   "id": "2913fe1f",
   "metadata": {},
   "outputs": [],
   "source": []
  },
  {
   "cell_type": "code",
   "execution_count": null,
   "id": "6179c953",
   "metadata": {},
   "outputs": [],
   "source": []
  },
  {
   "cell_type": "code",
   "execution_count": null,
   "id": "8019b93d",
   "metadata": {},
   "outputs": [],
   "source": []
  }
 ],
 "metadata": {
  "kernelspec": {
   "display_name": "Python 3 (ipykernel)",
   "language": "python",
   "name": "python3"
  },
  "language_info": {
   "codemirror_mode": {
    "name": "ipython",
    "version": 3
   },
   "file_extension": ".py",
   "mimetype": "text/x-python",
   "name": "python",
   "nbconvert_exporter": "python",
   "pygments_lexer": "ipython3",
   "version": "3.8.0"
  }
 },
 "nbformat": 4,
 "nbformat_minor": 5
}
