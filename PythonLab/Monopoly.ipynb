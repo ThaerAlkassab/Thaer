{
 "cells": [
  {
   "cell_type": "markdown",
   "id": "4aa173b7",
   "metadata": {},
   "source": [
    "### Monopoly"
   ]
  },
  {
   "cell_type": "markdown",
   "id": "a90be9d0",
   "metadata": {},
   "source": [
    "<p>In the game, <strong>Monopoly</strong>, the standard board is set up in the following way:</p>\n",
    "<div class=\"center\">\n",
    "<img src=\"resources/images/0084_monopoly_board.png?1678992052\" alt=\"0084_monopoly_board.png\">\n",
    "</div>\n",
    "<p>A player starts on the GO square and adds the scores on two 6-sided dice to determine the number of squares they advance in a clockwise direction. Without any further rules we would expect to visit each square with equal probability: 2.5%. However, landing on G2J (Go To Jail), CC (community chest), and CH (chance) changes this distribution.</p>\n",
    "<p>In addition to G2J, and one card from each of CC and CH, that orders the player to go directly to jail, if a player rolls three consecutive doubles, they do not advance the result of their 3rd roll. Instead they proceed directly to jail.</p>\n",
    "<p>At the beginning of the game, the CC and CH cards are shuffled. When a player lands on CC or CH they take a card from the top of the respective pile and, after following the instructions, it is returned to the bottom of the pile. There are sixteen cards in each pile, but for the purpose of this problem we are only concerned with cards that order a movement; any instruction not concerned with movement will be ignored and the player will remain on the CC/CH square.</p>\n",
    "<ul><li>Community Chest (2/16 cards):\n",
    "<ol><li>Advance to GO</li>\n",
    "<li>Go to JAIL</li>\n",
    "</ol></li>\n",
    "<li>Chance (10/16 cards):\n",
    "<ol><li>Advance to GO</li>\n",
    "<li>Go to JAIL</li>\n",
    "<li>Go to C1</li>\n",
    "<li>Go to E3</li>\n",
    "<li>Go to H2</li>\n",
    "<li>Go to R1</li>\n",
    "<li>Go to next R (railway company)</li>\n",
    "<li>Go to next R</li>\n",
    "<li>Go to next U (utility company)</li>\n",
    "<li>Go back 3 squares.</li>\n",
    "</ol></li>\n",
    "</ul><p>The heart of this problem concerns the likelihood of visiting a particular square. That is, the probability of finishing at that square after a roll. For this reason it should be clear that, with the exception of G2J for which the probability of finishing on it is zero, the CH squares will have the lowest probabilities, as 5/8 request a movement to another square, and it is the final square that the player finishes at on each roll that we are interested in. We shall make no distinction between \"Just Visiting\" and being sent to JAIL, and we shall also ignore the rule about requiring a double to \"get out of jail\", assuming that they pay to get out on their next turn.</p>\n",
    "<p>By starting at GO and numbering the squares sequentially from 00 to 39 we can concatenate these two-digit numbers to produce strings that correspond with sets of squares.</p>\n",
    "<p>Statistically it can be shown that the three most popular squares, in order, are JAIL (6.24%) = Square 10, E3 (3.18%) = Square 24, and GO (3.09%) = Square 00. So these three most popular squares can be listed with the six-digit modal string: 102400.</p>\n",
    "<p>If, instead of using two 6-sided dice, two 4-sided dice are used, find the six-digit modal string.</p>\n"
   ]
  },
  {
   "cell_type": "code",
   "execution_count": 46,
   "id": "1ccbfccf",
   "metadata": {},
   "outputs": [],
   "source": [
    "SQ_NAMES = [\n",
    "    'GO', 'A1', 'CC1', 'A2', 'T1', 'R1', 'B1', 'CH1', 'B2', 'B3',\n",
    "    'JAIL', 'C1', 'U1', 'C2', 'C3', 'R2', 'D1', 'CC2', 'D2', 'D3',\n",
    "    'FP', 'E1', 'CH2', 'E2', 'E3', 'R3', 'F1', 'F2', 'U2', 'F3',\n",
    "    'G2J', 'G1', 'G2', 'CC3', 'G3', 'R4', 'CH3', 'H1', 'T2', 'H2'\n",
    "]"
   ]
  },
  {
   "cell_type": "code",
   "execution_count": 47,
   "id": "854e5d96",
   "metadata": {},
   "outputs": [],
   "source": [
    "SQ_LOCATIONS = {n: l for l, n in enumerate(SQ_NAMES)}"
   ]
  },
  {
   "cell_type": "code",
   "execution_count": 48,
   "id": "661b734b",
   "metadata": {},
   "outputs": [],
   "source": [
    "import hashlib\n",
    "\n",
    "def hash6(str_list):\n",
    "    s = ','.join(str_list)\n",
    "    return hashlib.md5(s.encode('utf-8')).hexdigest()[:6]"
   ]
  },
  {
   "cell_type": "code",
   "execution_count": 50,
   "id": "fc255891",
   "metadata": {},
   "outputs": [],
   "source": [
    "assert len(SQ_NAMES) == 40\n",
    "assert hash6(SQ_NAMES) == 'c91376'"
   ]
  },
  {
   "cell_type": "code",
   "execution_count": 51,
   "id": "a65a58e5",
   "metadata": {},
   "outputs": [
    {
     "data": {
      "text/plain": [
       "540"
      ]
     },
     "execution_count": 51,
     "metadata": {},
     "output_type": "execute_result"
    }
   ],
   "source": [
    "hash(','.join(SQ_NAMES[:5])) % 1000"
   ]
  },
  {
   "cell_type": "code",
   "execution_count": 55,
   "id": "7beb6a22",
   "metadata": {},
   "outputs": [],
   "source": [
    "import random\n",
    "\n",
    "class Deck:\n",
    "    def __init__(self, cards, seed=42):\n",
    "        self.cards = cards\n",
    "        random.Random(seed).shuffle(self.cards)\n",
    "        self.idx = -1\n",
    "        \n",
    "    def draw_card(self):\n",
    "        self.idx = (self.idx + 1) % len(self.cards)\n",
    "        return self.cards[self.idx]\n",
    "    \n",
    "class CommunityChestDeck(Deck):\n",
    "    def __init__(self, seed=42):\n",
    "        super().__init__(['GO', 'JAIL'] + ['-'] * 14, seed)\n",
    "    \n",
    "    def draw_and_handle_card(self, loc):\n",
    "        action = self.draw_card()\n",
    "        if action in {'GO', 'JAIL'}:\n",
    "            return SQ_LOCATIONS[action]\n",
    "        else:\n",
    "            return loc"
   ]
  },
  {
   "cell_type": "code",
   "execution_count": 56,
   "id": "286d91e9",
   "metadata": {},
   "outputs": [
    {
     "ename": "AttributeError",
     "evalue": "'Deck' object has no attribute 'draw'",
     "output_type": "error",
     "traceback": [
      "\u001b[0;31m---------------------------------------------------------------------------\u001b[0m",
      "\u001b[0;31mAttributeError\u001b[0m                            Traceback (most recent call last)",
      "Input \u001b[0;32mIn [56]\u001b[0m, in \u001b[0;36m<cell line: 3>\u001b[0;34m()\u001b[0m\n\u001b[1;32m      1\u001b[0m cc \u001b[38;5;241m=\u001b[39m Deck([\u001b[38;5;124m'\u001b[39m\u001b[38;5;124mGO\u001b[39m\u001b[38;5;124m'\u001b[39m, \u001b[38;5;124m'\u001b[39m\u001b[38;5;124mJAIL\u001b[39m\u001b[38;5;124m'\u001b[39m] \u001b[38;5;241m+\u001b[39m [\u001b[38;5;124m'\u001b[39m\u001b[38;5;124m-\u001b[39m\u001b[38;5;124m'\u001b[39m]\u001b[38;5;241m*\u001b[39m\u001b[38;5;241m14\u001b[39m)\n\u001b[1;32m      2\u001b[0m \u001b[38;5;28;01massert\u001b[39;00m \u001b[38;5;28mlen\u001b[39m(cc\u001b[38;5;241m.\u001b[39mcards) \u001b[38;5;241m==\u001b[39m \u001b[38;5;241m16\u001b[39m\n\u001b[0;32m----> 3\u001b[0m hash6([cc\u001b[38;5;241m.\u001b[39mdraw() \u001b[38;5;28;01mfor\u001b[39;00m _ \u001b[38;5;129;01min\u001b[39;00m \u001b[38;5;28mrange\u001b[39m(\u001b[38;5;241m100\u001b[39m)])\n",
      "Input \u001b[0;32mIn [56]\u001b[0m, in \u001b[0;36m<listcomp>\u001b[0;34m(.0)\u001b[0m\n\u001b[1;32m      1\u001b[0m cc \u001b[38;5;241m=\u001b[39m Deck([\u001b[38;5;124m'\u001b[39m\u001b[38;5;124mGO\u001b[39m\u001b[38;5;124m'\u001b[39m, \u001b[38;5;124m'\u001b[39m\u001b[38;5;124mJAIL\u001b[39m\u001b[38;5;124m'\u001b[39m] \u001b[38;5;241m+\u001b[39m [\u001b[38;5;124m'\u001b[39m\u001b[38;5;124m-\u001b[39m\u001b[38;5;124m'\u001b[39m]\u001b[38;5;241m*\u001b[39m\u001b[38;5;241m14\u001b[39m)\n\u001b[1;32m      2\u001b[0m \u001b[38;5;28;01massert\u001b[39;00m \u001b[38;5;28mlen\u001b[39m(cc\u001b[38;5;241m.\u001b[39mcards) \u001b[38;5;241m==\u001b[39m \u001b[38;5;241m16\u001b[39m\n\u001b[0;32m----> 3\u001b[0m hash6([\u001b[43mcc\u001b[49m\u001b[38;5;241;43m.\u001b[39;49m\u001b[43mdraw\u001b[49m() \u001b[38;5;28;01mfor\u001b[39;00m _ \u001b[38;5;129;01min\u001b[39;00m \u001b[38;5;28mrange\u001b[39m(\u001b[38;5;241m100\u001b[39m)])\n",
      "\u001b[0;31mAttributeError\u001b[0m: 'Deck' object has no attribute 'draw'"
     ]
    }
   ],
   "source": [
    "cc = Deck(['GO', 'JAIL'] + ['-']*14)\n",
    "assert len(cc.cards) == 16\n",
    "hash6([cc.draw() for _ in range(100)])"
   ]
  },
  {
   "cell_type": "code",
   "execution_count": 59,
   "id": "fe4cd89f",
   "metadata": {},
   "outputs": [],
   "source": [
    "# Community Chest deck\n",
    "cc = Deck(['GO', 'JAIL'] + ['-'] * 14)\n",
    "assert len(cc.cards) == 16\n",
    "assert hash6([cc.draw_card() for _ in range(100)]) == 'db5854'"
   ]
  },
  {
   "cell_type": "code",
   "execution_count": 60,
   "id": "41c9accb",
   "metadata": {},
   "outputs": [],
   "source": [
    "# Chance deck\n",
    "ch = Deck(['GO', 'JAIL', 'C1', 'E3', 'H2', 'R1', 'next_R', 'next_R', 'next_U', 'back_3'] + ['-'] * 6)\n",
    "assert len(ch.cards) == 16\n",
    "assert hash6([ch.draw_card() for _ in range(100)]) == 'e8d6a2'"
   ]
  },
  {
   "cell_type": "code",
   "execution_count": 61,
   "id": "2d27b4be",
   "metadata": {},
   "outputs": [],
   "source": [
    "class Dice:\n",
    "    def __init__(self, seed=42):\n",
    "        self.rnd = random.Random(seed)\n",
    "\n",
    "class Dice66(Dice):\n",
    "    def roll(self):\n",
    "        self.values = self.rnd.randint(1, 6), self.rnd.randint(1, 6)\n",
    "        return sum(self.values)\n",
    "    \n",
    "    def is_double(self):\n",
    "        return self.values[0] == self.values[1]"
   ]
  },
  {
   "cell_type": "code",
   "execution_count": 62,
   "id": "df8b8f25",
   "metadata": {},
   "outputs": [],
   "source": [
    "d = Dice66()\n",
    "assert hash6([str(d.roll()) for _ in range(100)]) == 'bba13d'"
   ]
  },
  {
   "cell_type": "code",
   "execution_count": 65,
   "id": "941cb4df",
   "metadata": {},
   "outputs": [],
   "source": [
    "class Simulation:\n",
    "    def __init__(self, dice, seed=42):\n",
    "        self.loc = 0\n",
    "        self.cc = CommunityChestDeck(seed + 1)\n",
    "        self.ch = Deck(\n",
    "            ['GO', 'JAIL', 'C1', 'E3', 'H2', 'R1', 'next_R', 'next_R', 'next_U', 'back_3'] + ['-'] * 6,\n",
    "            seed=seed + 2\n",
    "        )\n",
    "        self.double_counter = 0\n",
    "        \n",
    "        self.visits = {n: 0 for n in SQ_NAMES}\n",
    "        self.dice = dice\n",
    "        \n",
    "    def step(self):\n",
    "        # roll\n",
    "        value = self.dice.roll()\n",
    "        if self.dice.is_double(): self.double_counter += 1\n",
    "        else: self.double_counter = 0\n",
    "        \n",
    "        if self.double_counter >= 3: # handle 3 consecutive doubles\n",
    "            self.loc = SQ_LOCATIONS['JAIL']\n",
    "        else:\n",
    "            loc = (self.loc + value) % len(SQ_NAMES) # advance on board\n",
    "            while loc != self.loc:\n",
    "                self.loc = loc\n",
    "                if SQ_NAMES[loc].startswith('CC'): # handle community chest deck\n",
    "                    loc = self.cc.draw_and_handle_card(loc)\n",
    "                elif SQ_NAMES[loc].startswith('CH'): # handle chance deck\n",
    "                    sq = self.ch.draw_card()\n",
    "                    if sq in {'GO', 'JAIL', 'C1', 'E3', 'H2', 'R1'}:\n",
    "                        loc = SQ_LOCATIONS[sq]\n",
    "                    elif sq == 'next_R':\n",
    "                        while True:\n",
    "                            loc = (loc + 1) % len(SQ_NAMES)\n",
    "                            if SQ_NAMES[loc].startswith('R'): break\n",
    "                    elif sq == 'next_U':\n",
    "                        while True:\n",
    "                            loc = (loc + 1) % len(SQ_NAMES)\n",
    "                            if SQ_NAMES[loc].startswith('U'): break\n",
    "                    elif sq == 'step_3':\n",
    "                        loc = (loc - 3) % len(SQ_NAMES)\n",
    "        self.visits[SQ_NAMES[self.loc]] += 1\n",
    "            \n",
    "    def run(self, nsteps=100_000):\n",
    "        for i in range(nsteps):\n",
    "            self.step()\n",
    "            \n",
    "sim = Simulation(Dice66())\n",
    "sim.run()"
   ]
  },
  {
   "cell_type": "code",
   "execution_count": 66,
   "id": "35789caf",
   "metadata": {
    "scrolled": true
   },
   "outputs": [
    {
     "data": {
      "text/plain": [
       "JAIL    0.03774\n",
       "GO      0.03315\n",
       "R1      0.03233\n",
       "dtype: float64"
      ]
     },
     "execution_count": 66,
     "metadata": {},
     "output_type": "execute_result"
    }
   ],
   "source": [
    "import pandas as pd\n",
    "se = pd.Series(sim.visits)\n",
    "se = se / se.sum()\n",
    "se.sort_values()[::-1][:3]"
   ]
  },
  {
   "cell_type": "code",
   "execution_count": null,
   "id": "402a8fb2",
   "metadata": {},
   "outputs": [],
   "source": []
  },
  {
   "cell_type": "code",
   "execution_count": null,
   "id": "44cf872f",
   "metadata": {},
   "outputs": [],
   "source": []
  },
  {
   "cell_type": "code",
   "execution_count": null,
   "id": "d4f449c9",
   "metadata": {},
   "outputs": [],
   "source": []
  },
  {
   "cell_type": "code",
   "execution_count": null,
   "id": "bc5407c6",
   "metadata": {},
   "outputs": [],
   "source": []
  },
  {
   "cell_type": "code",
   "execution_count": 45,
   "id": "54f3f33c",
   "metadata": {},
   "outputs": [
    {
     "name": "stdout",
     "output_type": "stream",
     "text": [
      "101524\n"
     ]
    }
   ],
   "source": [
    "# solution 2\n",
    "from random import randint, shuffle\n",
    "from collections import deque, Counter\n",
    "\n",
    "squares = [\"GO\", \"A1\", \"CC1\", \"A2\", \"T1\", \"R1\", \"B1\", \"CH1\", \"B2\", \"B3\", \"JAIL\", \"C1\", \"U1\", \"C2\", \"C3\", \"R2\", \"D1\", \"CC2\", \"D2\", \"D3\", \"FP\", \"E1\", \"CH2\", \"E2\", \"E3\", \"R3\", \"F1\", \"F2\", \"U2\", \"F3\", \"G2J\", \"G1\", \"G2\", \"CC3\", \"G3\", \"R4\", \"CH3\", \"H1\", \"T2\", \"H2\"]\n",
    "square_numbers = {square: i for i, square in enumerate(squares)}\n",
    "num_squares = len(squares)\n",
    "\n",
    "def build_deck(choices):\n",
    "    numbers = [square_numbers[square] for square in choices]\n",
    "    shuffle(numbers)\n",
    "    return deque(numbers)\n",
    "\n",
    "transitions = {\n",
    "    \"G2J\": build_deck([\"JAIL\"]),\n",
    "    \"CH1\": build_deck([\"CH1\", \"CH1\", \"CH1\", \"CH1\", \"CH1\", \"CH1\", \"GO\", \"JAIL\", \"C1\", \"E3\", \"H2\", \"R1\", \"R2\", \"R2\", \"U1\", \"T1\"]),\n",
    "    \"CH2\": build_deck([\"CH2\", \"CH2\", \"CH2\", \"CH2\", \"CH2\", \"CH2\", \"GO\", \"JAIL\", \"C1\", \"E3\", \"H2\", \"R1\", \"R2\", \"R3\", \"U2\", \"D3\"]),\n",
    "    \"CH3\": build_deck([\"CH3\", \"CH3\", \"CH3\", \"CH3\", \"CH3\", \"CH3\", \"GO\", \"JAIL\", \"C1\", \"E3\", \"H2\", \"R1\", \"R1\", \"R1\", \"U1\", \"CC3\"]),\n",
    "    \"CC1\": build_deck([\"CC1\", \"CC1\", \"CC1\", \"CC1\", \"CC1\", \"CC1\", \"CC1\", \"CC1\", \"CC1\", \"CC1\", \"CC1\", \"CC1\", \"CC1\", \"CC1\", \"GO\", \"JAIL\"]),\n",
    "    \"CC2\": build_deck([\"CC2\", \"CC2\", \"CC2\", \"CC2\", \"CC2\", \"CC2\", \"CC2\", \"CC2\", \"CC2\", \"CC2\", \"CC2\", \"CC2\", \"CC2\", \"CC2\", \"GO\", \"JAIL\"]),\n",
    "    \"CC3\": build_deck([\"CC3\", \"CC3\", \"CC3\", \"CC3\", \"CC3\", \"CC3\", \"CC3\", \"CC3\", \"CC3\", \"CC3\", \"CC3\", \"CC3\", \"CC3\", \"CC3\", \"GO\", \"JAIL\"])\n",
    "}\n",
    "transitions = {square_numbers[square]: deck for square, deck in list(transitions.items())}\n",
    "\n",
    "def transition(square_number):\n",
    "    while square_number in transitions:\n",
    "        deck = transitions[square_number]\n",
    "        new_square_number = deck.pop()\n",
    "        deck.appendleft(new_square_number)\n",
    "        if square_number == new_square_number:\n",
    "            break\n",
    "        square_number = new_square_number\n",
    "    return square_number\n",
    "\n",
    "def move(square_number, die_size=6):\n",
    "    roll = randint(1, die_size) + randint(1, die_size)\n",
    "    square_number += roll\n",
    "    square_number %= num_squares\n",
    "    return transition(square_number)\n",
    "\n",
    "def simulate(iterations=2000000, die_size=6):\n",
    "    result = Counter()\n",
    "    square_number = 0\n",
    "    for i in range(iterations):\n",
    "        square_number = move(square_number, die_size)\n",
    "        result[square_number] += 1\n",
    "    return result\n",
    "\n",
    "def main():\n",
    "    simulation = simulate(die_size=4)\n",
    "    print((\"\".join(\"{:02}\".format(square_number) for square_number, count in simulation.most_common(3))))\n",
    "\n",
    "if __name__ == \"__main__\": main()"
   ]
  }
 ],
 "metadata": {
  "kernelspec": {
   "display_name": "Python 3 (ipykernel)",
   "language": "python",
   "name": "python3"
  },
  "language_info": {
   "codemirror_mode": {
    "name": "ipython",
    "version": 3
   },
   "file_extension": ".py",
   "mimetype": "text/x-python",
   "name": "python",
   "nbconvert_exporter": "python",
   "pygments_lexer": "ipython3",
   "version": "3.8.0"
  }
 },
 "nbformat": 4,
 "nbformat_minor": 5
}
