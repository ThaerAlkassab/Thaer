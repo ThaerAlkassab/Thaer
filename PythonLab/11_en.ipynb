{
 "cells": [
  {
   "cell_type": "markdown",
   "metadata": {},
   "source": [
    "## [pandas](https://pandas.pydata.org/)\n",
    "\n",
    "- pandas is a NumPy based data analysis tool. Many of its ideas were borrowed from the R language.\n",
    "- pandas' fundamental data types are the DataFrame (table) and the Series (column).\n",
    "- pandas can be viewed as an in-memory, column oriented database.\n",
    "- Tutorial video: [10-minute tour of pandas](https://vimeo.com/59324550)."
   ]
  },
  {
   "cell_type": "code",
   "execution_count": 2,
   "metadata": {},
   "outputs": [],
   "source": [
    "# Importing pandas as pd.\n",
    "import pandas as pd"
   ]
  },
  {
   "cell_type": "code",
   "execution_count": 2,
   "metadata": {},
   "outputs": [
    {
     "data": {
      "text/plain": [
       "'1.5.3'"
      ]
     },
     "execution_count": 2,
     "metadata": {},
     "output_type": "execute_result"
    }
   ],
   "source": [
    "# The version number of pandas.\n",
    "pd.__version__"
   ]
  },
  {
   "cell_type": "code",
   "execution_count": 6,
   "metadata": {},
   "outputs": [
    {
     "data": {
      "text/html": [
       "<div>\n",
       "<style scoped>\n",
       "    .dataframe tbody tr th:only-of-type {\n",
       "        vertical-align: middle;\n",
       "    }\n",
       "\n",
       "    .dataframe tbody tr th {\n",
       "        vertical-align: top;\n",
       "    }\n",
       "\n",
       "    .dataframe thead th {\n",
       "        text-align: right;\n",
       "    }\n",
       "</style>\n",
       "<table border=\"1\" class=\"dataframe\">\n",
       "  <thead>\n",
       "    <tr style=\"text-align: right;\">\n",
       "      <th></th>\n",
       "      <th>a</th>\n",
       "      <th>b</th>\n",
       "      <th>c</th>\n",
       "    </tr>\n",
       "  </thead>\n",
       "  <tbody>\n",
       "    <tr>\n",
       "      <th>0</th>\n",
       "      <td>10</td>\n",
       "      <td>xx</td>\n",
       "      <td>1.5</td>\n",
       "    </tr>\n",
       "    <tr>\n",
       "      <th>1</th>\n",
       "      <td>20</td>\n",
       "      <td>yy</td>\n",
       "      <td>2.6</td>\n",
       "    </tr>\n",
       "    <tr>\n",
       "      <th>2</th>\n",
       "      <td>30</td>\n",
       "      <td>zz</td>\n",
       "      <td>3.7</td>\n",
       "    </tr>\n",
       "    <tr>\n",
       "      <th>3</th>\n",
       "      <td>40</td>\n",
       "      <td>qq</td>\n",
       "      <td>4.8</td>\n",
       "    </tr>\n",
       "  </tbody>\n",
       "</table>\n",
       "</div>"
      ],
      "text/plain": [
       "    a   b    c\n",
       "0  10  xx  1.5\n",
       "1  20  yy  2.6\n",
       "2  30  zz  3.7\n",
       "3  40  qq  4.8"
      ]
     },
     "execution_count": 6,
     "metadata": {},
     "output_type": "execute_result"
    }
   ],
   "source": [
    "# Creating a DataFrame from columns.\n",
    "# The input is a dict, where the keys are the column names and the values are the columns.\n",
    "data = {\n",
    "    'a': [10, 20, 30, 40],\n",
    "    'b': ['xx', 'yy', 'zz', 'qq'],\n",
    "    'c': [1.5, 2.6, 3.7, 4.8]\n",
    "}\n",
    "df1 = pd.DataFrame(data)\n",
    "df1"
   ]
  },
  {
   "cell_type": "code",
   "execution_count": 7,
   "metadata": {},
   "outputs": [
    {
     "data": {
      "text/plain": [
       "pandas.core.frame.DataFrame"
      ]
     },
     "execution_count": 7,
     "metadata": {},
     "output_type": "execute_result"
    }
   ],
   "source": [
    "# The type of df1.\n",
    "type(df1)"
   ]
  },
  {
   "cell_type": "code",
   "execution_count": 8,
   "metadata": {},
   "outputs": [
    {
     "data": {
      "text/plain": [
       "Index(['a', 'b', 'c'], dtype='object')"
      ]
     },
     "execution_count": 8,
     "metadata": {},
     "output_type": "execute_result"
    }
   ],
   "source": [
    "# Column names.\n",
    "df1.columns"
   ]
  },
  {
   "cell_type": "code",
   "execution_count": 10,
   "metadata": {},
   "outputs": [
    {
     "name": "stdout",
     "output_type": "stream",
     "text": [
      "a\n",
      "b\n",
      "c\n"
     ]
    }
   ],
   "source": [
    "# Iterating over column names.\n",
    "for c in df1:\n",
    "    print(c)"
   ]
  },
  {
   "cell_type": "code",
   "execution_count": 11,
   "metadata": {},
   "outputs": [
    {
     "data": {
      "text/plain": [
       "4"
      ]
     },
     "execution_count": 11,
     "metadata": {},
     "output_type": "execute_result"
    }
   ],
   "source": [
    "# Number of rows.\n",
    "len(df1)"
   ]
  },
  {
   "cell_type": "code",
   "execution_count": 12,
   "metadata": {},
   "outputs": [
    {
     "data": {
      "text/plain": [
       "(4, 3)"
      ]
     },
     "execution_count": 12,
     "metadata": {},
     "output_type": "execute_result"
    }
   ],
   "source": [
    "# Shape of the DataFrame.\n",
    "df1.shape"
   ]
  },
  {
   "cell_type": "code",
   "execution_count": 13,
   "metadata": {},
   "outputs": [
    {
     "name": "stdout",
     "output_type": "stream",
     "text": [
      "<class 'pandas.core.frame.DataFrame'>\n",
      "RangeIndex: 4 entries, 0 to 3\n",
      "Data columns (total 3 columns):\n",
      " #   Column  Non-Null Count  Dtype  \n",
      "---  ------  --------------  -----  \n",
      " 0   a       4 non-null      int64  \n",
      " 1   b       4 non-null      object \n",
      " 2   c       4 non-null      float64\n",
      "dtypes: float64(1), int64(1), object(1)\n",
      "memory usage: 224.0+ bytes\n"
     ]
    }
   ],
   "source": [
    "# Summary information.\n",
    "df1.info()"
   ]
  },
  {
   "cell_type": "code",
   "execution_count": 15,
   "metadata": {},
   "outputs": [
    {
     "data": {
      "text/html": [
       "<div>\n",
       "<style scoped>\n",
       "    .dataframe tbody tr th:only-of-type {\n",
       "        vertical-align: middle;\n",
       "    }\n",
       "\n",
       "    .dataframe tbody tr th {\n",
       "        vertical-align: top;\n",
       "    }\n",
       "\n",
       "    .dataframe thead th {\n",
       "        text-align: right;\n",
       "    }\n",
       "</style>\n",
       "<table border=\"1\" class=\"dataframe\">\n",
       "  <thead>\n",
       "    <tr style=\"text-align: right;\">\n",
       "      <th></th>\n",
       "      <th>count</th>\n",
       "      <th>mean</th>\n",
       "      <th>std</th>\n",
       "      <th>min</th>\n",
       "      <th>25%</th>\n",
       "      <th>50%</th>\n",
       "      <th>75%</th>\n",
       "      <th>max</th>\n",
       "    </tr>\n",
       "  </thead>\n",
       "  <tbody>\n",
       "    <tr>\n",
       "      <th>a</th>\n",
       "      <td>4.0</td>\n",
       "      <td>25.00</td>\n",
       "      <td>12.909944</td>\n",
       "      <td>10.0</td>\n",
       "      <td>17.500</td>\n",
       "      <td>25.00</td>\n",
       "      <td>32.500</td>\n",
       "      <td>40.0</td>\n",
       "    </tr>\n",
       "    <tr>\n",
       "      <th>c</th>\n",
       "      <td>4.0</td>\n",
       "      <td>3.15</td>\n",
       "      <td>1.420094</td>\n",
       "      <td>1.5</td>\n",
       "      <td>2.325</td>\n",
       "      <td>3.15</td>\n",
       "      <td>3.975</td>\n",
       "      <td>4.8</td>\n",
       "    </tr>\n",
       "  </tbody>\n",
       "</table>\n",
       "</div>"
      ],
      "text/plain": [
       "   count   mean        std   min     25%    50%     75%   max\n",
       "a    4.0  25.00  12.909944  10.0  17.500  25.00  32.500  40.0\n",
       "c    4.0   3.15   1.420094   1.5   2.325   3.15   3.975   4.8"
      ]
     },
     "execution_count": 15,
     "metadata": {},
     "output_type": "execute_result"
    }
   ],
   "source": [
    "# Basic statistics about the numerical columns.\n",
    "df1.describe().T"
   ]
  },
  {
   "cell_type": "code",
   "execution_count": 18,
   "metadata": {},
   "outputs": [
    {
     "data": {
      "text/html": [
       "<div>\n",
       "<style scoped>\n",
       "    .dataframe tbody tr th:only-of-type {\n",
       "        vertical-align: middle;\n",
       "    }\n",
       "\n",
       "    .dataframe tbody tr th {\n",
       "        vertical-align: top;\n",
       "    }\n",
       "\n",
       "    .dataframe thead th {\n",
       "        text-align: right;\n",
       "    }\n",
       "</style>\n",
       "<table border=\"1\" class=\"dataframe\">\n",
       "  <thead>\n",
       "    <tr style=\"text-align: right;\">\n",
       "      <th></th>\n",
       "      <th>a</th>\n",
       "      <th>b</th>\n",
       "      <th>c</th>\n",
       "    </tr>\n",
       "  </thead>\n",
       "  <tbody>\n",
       "    <tr>\n",
       "      <th>0</th>\n",
       "      <td>10</td>\n",
       "      <td>Joe</td>\n",
       "      <td>1.5</td>\n",
       "    </tr>\n",
       "    <tr>\n",
       "      <th>1</th>\n",
       "      <td>20</td>\n",
       "      <td>NaN</td>\n",
       "      <td>1.5</td>\n",
       "    </tr>\n",
       "    <tr>\n",
       "      <th>2</th>\n",
       "      <td>30</td>\n",
       "      <td>Tom</td>\n",
       "      <td>2.5</td>\n",
       "    </tr>\n",
       "    <tr>\n",
       "      <th>3</th>\n",
       "      <td>40</td>\n",
       "      <td>George</td>\n",
       "      <td>5.5</td>\n",
       "    </tr>\n",
       "  </tbody>\n",
       "</table>\n",
       "</div>"
      ],
      "text/plain": [
       "    a       b    c\n",
       "0  10     Joe  1.5\n",
       "1  20     NaN  1.5\n",
       "2  30     Tom  2.5\n",
       "3  40  George  5.5"
      ]
     },
     "execution_count": 18,
     "metadata": {},
     "output_type": "execute_result"
    }
   ],
   "source": [
    "# Creating a DataFrame from rows.\n",
    "# The input is a list of dicts, where each dict represents a row.\n",
    "data = [\n",
    "    {'a': 10, 'b': 'Joe', 'c': 1.5},\n",
    "    {'a': 20, 'c': 1.5},\n",
    "    {'a': 30, 'b': 'Tom', 'c': 2.5},\n",
    "    {'a': 40, 'b': 'George', 'c': 5.5}\n",
    "]\n",
    "df2 = pd.DataFrame(data)\n",
    "df2"
   ]
  },
  {
   "cell_type": "code",
   "execution_count": 22,
   "metadata": {},
   "outputs": [
    {
     "data": {
      "text/plain": [
       "False"
      ]
     },
     "execution_count": 22,
     "metadata": {},
     "output_type": "execute_result"
    }
   ],
   "source": [
    "# NaN is not equal to any value!\n",
    "import numpy as np\n",
    "np.nan == np.nan"
   ]
  },
  {
   "cell_type": "code",
   "execution_count": 24,
   "metadata": {},
   "outputs": [
    {
     "data": {
      "text/plain": [
       "RangeIndex(start=0, stop=4, step=1)"
      ]
     },
     "execution_count": 24,
     "metadata": {},
     "output_type": "execute_result"
    }
   ],
   "source": [
    "# Every DataFrame (and Series) contains an index.\n",
    "# By default, the index starts from 0 and increases by 1.\n",
    "df2.index"
   ]
  },
  {
   "cell_type": "code",
   "execution_count": 27,
   "metadata": {},
   "outputs": [
    {
     "data": {
      "text/html": [
       "<div>\n",
       "<style scoped>\n",
       "    .dataframe tbody tr th:only-of-type {\n",
       "        vertical-align: middle;\n",
       "    }\n",
       "\n",
       "    .dataframe tbody tr th {\n",
       "        vertical-align: top;\n",
       "    }\n",
       "\n",
       "    .dataframe thead th {\n",
       "        text-align: right;\n",
       "    }\n",
       "</style>\n",
       "<table border=\"1\" class=\"dataframe\">\n",
       "  <thead>\n",
       "    <tr style=\"text-align: right;\">\n",
       "      <th></th>\n",
       "      <th>a</th>\n",
       "      <th>b</th>\n",
       "      <th>c</th>\n",
       "    </tr>\n",
       "  </thead>\n",
       "  <tbody>\n",
       "    <tr>\n",
       "      <th>aaa</th>\n",
       "      <td>10</td>\n",
       "      <td>Joe</td>\n",
       "      <td>1.5</td>\n",
       "    </tr>\n",
       "    <tr>\n",
       "      <th>bbb</th>\n",
       "      <td>20</td>\n",
       "      <td>NaN</td>\n",
       "      <td>1.5</td>\n",
       "    </tr>\n",
       "    <tr>\n",
       "      <th>ccc</th>\n",
       "      <td>30</td>\n",
       "      <td>Tom</td>\n",
       "      <td>2.5</td>\n",
       "    </tr>\n",
       "    <tr>\n",
       "      <th>ddd</th>\n",
       "      <td>40</td>\n",
       "      <td>George</td>\n",
       "      <td>5.5</td>\n",
       "    </tr>\n",
       "  </tbody>\n",
       "</table>\n",
       "</div>"
      ],
      "text/plain": [
       "      a       b    c\n",
       "aaa  10     Joe  1.5\n",
       "bbb  20     NaN  1.5\n",
       "ccc  30     Tom  2.5\n",
       "ddd  40  George  5.5"
      ]
     },
     "execution_count": 27,
     "metadata": {},
     "output_type": "execute_result"
    }
   ],
   "source": [
    "# This can be overridden of course.\n",
    "df3 = pd.DataFrame(data, index=['aaa', 'bbb', 'ccc', 'ddd'])\n",
    "df3"
   ]
  },
  {
   "cell_type": "code",
   "execution_count": 28,
   "metadata": {},
   "outputs": [
    {
     "data": {
      "text/plain": [
       "Index(['aaa', 'bbb', 'ccc', 'ddd'], dtype='object')"
      ]
     },
     "execution_count": 28,
     "metadata": {},
     "output_type": "execute_result"
    }
   ],
   "source": [
    "df3.index"
   ]
  },
  {
   "cell_type": "code",
   "execution_count": 30,
   "metadata": {},
   "outputs": [
    {
     "data": {
      "text/plain": [
       "0    2\n",
       "1    3\n",
       "2    4\n",
       "3    5\n",
       "dtype: int64"
      ]
     },
     "execution_count": 30,
     "metadata": {},
     "output_type": "execute_result"
    }
   ],
   "source": [
    "# Creating a Series, without specifying an index.\n",
    "se1 = pd.Series([2, 3, 4, 5])\n",
    "se1"
   ]
  },
  {
   "cell_type": "code",
   "execution_count": 31,
   "metadata": {},
   "outputs": [
    {
     "data": {
      "text/plain": [
       "pandas.core.series.Series"
      ]
     },
     "execution_count": 31,
     "metadata": {},
     "output_type": "execute_result"
    }
   ],
   "source": [
    "# The type of the result.\n",
    "type(se1)"
   ]
  },
  {
   "cell_type": "code",
   "execution_count": 32,
   "metadata": {},
   "outputs": [
    {
     "data": {
      "text/plain": [
       "a    2\n",
       "b    3\n",
       "c    4\n",
       "d    5\n",
       "dtype: int64"
      ]
     },
     "execution_count": 32,
     "metadata": {},
     "output_type": "execute_result"
    }
   ],
   "source": [
    "# Creating a Series with an index.\n",
    "se2 = pd.Series([2, 3, 4, 5], index=['a', 'b', 'c', 'd'])\n",
    "se2"
   ]
  },
  {
   "cell_type": "code",
   "execution_count": 33,
   "metadata": {},
   "outputs": [
    {
     "data": {
      "text/plain": [
       "4"
      ]
     },
     "execution_count": 33,
     "metadata": {},
     "output_type": "execute_result"
    }
   ],
   "source": [
    "len(se2)"
   ]
  },
  {
   "cell_type": "code",
   "execution_count": 34,
   "metadata": {},
   "outputs": [
    {
     "data": {
      "text/plain": [
       "(4,)"
      ]
     },
     "execution_count": 34,
     "metadata": {},
     "output_type": "execute_result"
    }
   ],
   "source": [
    "se2.shape"
   ]
  },
  {
   "cell_type": "code",
   "execution_count": 41,
   "metadata": {},
   "outputs": [
    {
     "data": {
      "text/plain": [
       "aaa    10\n",
       "bbb    20\n",
       "ccc    30\n",
       "ddd    40\n",
       "Name: a, dtype: int64"
      ]
     },
     "execution_count": 41,
     "metadata": {},
     "output_type": "execute_result"
    }
   ],
   "source": [
    "# A column can be selected from a DataFrame using the [] operator.\n",
    "df3['a']"
   ]
  },
  {
   "cell_type": "code",
   "execution_count": 39,
   "metadata": {},
   "outputs": [
    {
     "data": {
      "text/plain": [
       "aaa    10\n",
       "bbb    20\n",
       "ccc    30\n",
       "ddd    40\n",
       "Name: a, dtype: int64"
      ]
     },
     "execution_count": 39,
     "metadata": {},
     "output_type": "execute_result"
    }
   ],
   "source": [
    "# ...or if the column name is a valid identifier, then the . operator can be used too.\n",
    "df3.a"
   ]
  },
  {
   "cell_type": "code",
   "execution_count": 45,
   "metadata": {},
   "outputs": [
    {
     "data": {
      "text/html": [
       "<div>\n",
       "<style scoped>\n",
       "    .dataframe tbody tr th:only-of-type {\n",
       "        vertical-align: middle;\n",
       "    }\n",
       "\n",
       "    .dataframe tbody tr th {\n",
       "        vertical-align: top;\n",
       "    }\n",
       "\n",
       "    .dataframe thead th {\n",
       "        text-align: right;\n",
       "    }\n",
       "</style>\n",
       "<table border=\"1\" class=\"dataframe\">\n",
       "  <thead>\n",
       "    <tr style=\"text-align: right;\">\n",
       "      <th></th>\n",
       "      <th>a</th>\n",
       "      <th>c</th>\n",
       "    </tr>\n",
       "  </thead>\n",
       "  <tbody>\n",
       "    <tr>\n",
       "      <th>aaa</th>\n",
       "      <td>10</td>\n",
       "      <td>1.5</td>\n",
       "    </tr>\n",
       "    <tr>\n",
       "      <th>bbb</th>\n",
       "      <td>20</td>\n",
       "      <td>1.5</td>\n",
       "    </tr>\n",
       "    <tr>\n",
       "      <th>ccc</th>\n",
       "      <td>30</td>\n",
       "      <td>2.5</td>\n",
       "    </tr>\n",
       "    <tr>\n",
       "      <th>ddd</th>\n",
       "      <td>40</td>\n",
       "      <td>5.5</td>\n",
       "    </tr>\n",
       "  </tbody>\n",
       "</table>\n",
       "</div>"
      ],
      "text/plain": [
       "      a    c\n",
       "aaa  10  1.5\n",
       "bbb  20  1.5\n",
       "ccc  30  2.5\n",
       "ddd  40  5.5"
      ]
     },
     "execution_count": 45,
     "metadata": {},
     "output_type": "execute_result"
    }
   ],
   "source": [
    "# Selecting multiple columns.\n",
    "df3[['a', 'c']]"
   ]
  },
  {
   "cell_type": "code",
   "execution_count": 48,
   "metadata": {},
   "outputs": [
    {
     "data": {
      "text/html": [
       "<div>\n",
       "<style scoped>\n",
       "    .dataframe tbody tr th:only-of-type {\n",
       "        vertical-align: middle;\n",
       "    }\n",
       "\n",
       "    .dataframe tbody tr th {\n",
       "        vertical-align: top;\n",
       "    }\n",
       "\n",
       "    .dataframe thead th {\n",
       "        text-align: right;\n",
       "    }\n",
       "</style>\n",
       "<table border=\"1\" class=\"dataframe\">\n",
       "  <thead>\n",
       "    <tr style=\"text-align: right;\">\n",
       "      <th></th>\n",
       "      <th>a</th>\n",
       "    </tr>\n",
       "  </thead>\n",
       "  <tbody>\n",
       "    <tr>\n",
       "      <th>aaa</th>\n",
       "      <td>10</td>\n",
       "    </tr>\n",
       "    <tr>\n",
       "      <th>bbb</th>\n",
       "      <td>20</td>\n",
       "    </tr>\n",
       "    <tr>\n",
       "      <th>ccc</th>\n",
       "      <td>30</td>\n",
       "    </tr>\n",
       "    <tr>\n",
       "      <th>ddd</th>\n",
       "      <td>40</td>\n",
       "    </tr>\n",
       "  </tbody>\n",
       "</table>\n",
       "</div>"
      ],
      "text/plain": [
       "      a\n",
       "aaa  10\n",
       "bbb  20\n",
       "ccc  30\n",
       "ddd  40"
      ]
     },
     "execution_count": 48,
     "metadata": {},
     "output_type": "execute_result"
    }
   ],
   "source": [
    "# If we index by a list of size 1, then the type of the result is DataFrame.\n",
    "df3[['a']]"
   ]
  },
  {
   "cell_type": "code",
   "execution_count": 50,
   "metadata": {},
   "outputs": [
    {
     "data": {
      "text/plain": [
       "a     20\n",
       "b    NaN\n",
       "c    1.5\n",
       "Name: bbb, dtype: object"
      ]
     },
     "execution_count": 50,
     "metadata": {},
     "output_type": "execute_result"
    }
   ],
   "source": [
    "# Selecting rows from a DataFrame.\n",
    "df3.loc['bbb']"
   ]
  },
  {
   "cell_type": "code",
   "execution_count": 52,
   "metadata": {},
   "outputs": [
    {
     "data": {
      "text/html": [
       "<div>\n",
       "<style scoped>\n",
       "    .dataframe tbody tr th:only-of-type {\n",
       "        vertical-align: middle;\n",
       "    }\n",
       "\n",
       "    .dataframe tbody tr th {\n",
       "        vertical-align: top;\n",
       "    }\n",
       "\n",
       "    .dataframe thead th {\n",
       "        text-align: right;\n",
       "    }\n",
       "</style>\n",
       "<table border=\"1\" class=\"dataframe\">\n",
       "  <thead>\n",
       "    <tr style=\"text-align: right;\">\n",
       "      <th></th>\n",
       "      <th>a</th>\n",
       "      <th>b</th>\n",
       "      <th>c</th>\n",
       "    </tr>\n",
       "  </thead>\n",
       "  <tbody>\n",
       "    <tr>\n",
       "      <th>aaa</th>\n",
       "      <td>10</td>\n",
       "      <td>Joe</td>\n",
       "      <td>1.5</td>\n",
       "    </tr>\n",
       "    <tr>\n",
       "      <th>ccc</th>\n",
       "      <td>30</td>\n",
       "      <td>Tom</td>\n",
       "      <td>2.5</td>\n",
       "    </tr>\n",
       "    <tr>\n",
       "      <th>aaa</th>\n",
       "      <td>10</td>\n",
       "      <td>Joe</td>\n",
       "      <td>1.5</td>\n",
       "    </tr>\n",
       "  </tbody>\n",
       "</table>\n",
       "</div>"
      ],
      "text/plain": [
       "      a    b    c\n",
       "aaa  10  Joe  1.5\n",
       "ccc  30  Tom  2.5\n",
       "aaa  10  Joe  1.5"
      ]
     },
     "execution_count": 52,
     "metadata": {},
     "output_type": "execute_result"
    }
   ],
   "source": [
    "df3.loc[['aaa', 'ccc', 'aaa']]"
   ]
  },
  {
   "cell_type": "code",
   "execution_count": 53,
   "metadata": {},
   "outputs": [
    {
     "data": {
      "text/html": [
       "<div>\n",
       "<style scoped>\n",
       "    .dataframe tbody tr th:only-of-type {\n",
       "        vertical-align: middle;\n",
       "    }\n",
       "\n",
       "    .dataframe tbody tr th {\n",
       "        vertical-align: top;\n",
       "    }\n",
       "\n",
       "    .dataframe thead th {\n",
       "        text-align: right;\n",
       "    }\n",
       "</style>\n",
       "<table border=\"1\" class=\"dataframe\">\n",
       "  <thead>\n",
       "    <tr style=\"text-align: right;\">\n",
       "      <th></th>\n",
       "      <th>a</th>\n",
       "      <th>b</th>\n",
       "      <th>c</th>\n",
       "    </tr>\n",
       "  </thead>\n",
       "  <tbody>\n",
       "    <tr>\n",
       "      <th>bbb</th>\n",
       "      <td>20</td>\n",
       "      <td>NaN</td>\n",
       "      <td>1.5</td>\n",
       "    </tr>\n",
       "  </tbody>\n",
       "</table>\n",
       "</div>"
      ],
      "text/plain": [
       "      a    b    c\n",
       "bbb  20  NaN  1.5"
      ]
     },
     "execution_count": 53,
     "metadata": {},
     "output_type": "execute_result"
    }
   ],
   "source": [
    "df3.loc[['bbb']]"
   ]
  },
  {
   "cell_type": "code",
   "execution_count": 55,
   "metadata": {},
   "outputs": [
    {
     "data": {
      "text/plain": [
       "a     30\n",
       "b    Tom\n",
       "c    2.5\n",
       "Name: ccc, dtype: object"
      ]
     },
     "execution_count": 55,
     "metadata": {},
     "output_type": "execute_result"
    }
   ],
   "source": [
    "# Position based selection of rows.\n",
    "df3.iloc[2]"
   ]
  },
  {
   "cell_type": "code",
   "execution_count": 56,
   "metadata": {},
   "outputs": [
    {
     "data": {
      "text/html": [
       "<div>\n",
       "<style scoped>\n",
       "    .dataframe tbody tr th:only-of-type {\n",
       "        vertical-align: middle;\n",
       "    }\n",
       "\n",
       "    .dataframe tbody tr th {\n",
       "        vertical-align: top;\n",
       "    }\n",
       "\n",
       "    .dataframe thead th {\n",
       "        text-align: right;\n",
       "    }\n",
       "</style>\n",
       "<table border=\"1\" class=\"dataframe\">\n",
       "  <thead>\n",
       "    <tr style=\"text-align: right;\">\n",
       "      <th></th>\n",
       "      <th>a</th>\n",
       "      <th>b</th>\n",
       "      <th>c</th>\n",
       "    </tr>\n",
       "  </thead>\n",
       "  <tbody>\n",
       "    <tr>\n",
       "      <th>aaa</th>\n",
       "      <td>10</td>\n",
       "      <td>Joe</td>\n",
       "      <td>1.5</td>\n",
       "    </tr>\n",
       "    <tr>\n",
       "      <th>bbb</th>\n",
       "      <td>20</td>\n",
       "      <td>NaN</td>\n",
       "      <td>1.5</td>\n",
       "    </tr>\n",
       "  </tbody>\n",
       "</table>\n",
       "</div>"
      ],
      "text/plain": [
       "      a    b    c\n",
       "aaa  10  Joe  1.5\n",
       "bbb  20  NaN  1.5"
      ]
     },
     "execution_count": 56,
     "metadata": {},
     "output_type": "execute_result"
    }
   ],
   "source": [
    "df3.iloc[:2]"
   ]
  },
  {
   "cell_type": "code",
   "execution_count": 57,
   "metadata": {},
   "outputs": [
    {
     "data": {
      "text/html": [
       "<div>\n",
       "<style scoped>\n",
       "    .dataframe tbody tr th:only-of-type {\n",
       "        vertical-align: middle;\n",
       "    }\n",
       "\n",
       "    .dataframe tbody tr th {\n",
       "        vertical-align: top;\n",
       "    }\n",
       "\n",
       "    .dataframe thead th {\n",
       "        text-align: right;\n",
       "    }\n",
       "</style>\n",
       "<table border=\"1\" class=\"dataframe\">\n",
       "  <thead>\n",
       "    <tr style=\"text-align: right;\">\n",
       "      <th></th>\n",
       "      <th>a</th>\n",
       "      <th>b</th>\n",
       "      <th>c</th>\n",
       "    </tr>\n",
       "  </thead>\n",
       "  <tbody>\n",
       "    <tr>\n",
       "      <th>aaa</th>\n",
       "      <td>10</td>\n",
       "      <td>Joe</td>\n",
       "      <td>1.5</td>\n",
       "    </tr>\n",
       "    <tr>\n",
       "      <th>bbb</th>\n",
       "      <td>20</td>\n",
       "      <td>NaN</td>\n",
       "      <td>1.5</td>\n",
       "    </tr>\n",
       "  </tbody>\n",
       "</table>\n",
       "</div>"
      ],
      "text/plain": [
       "      a    b    c\n",
       "aaa  10  Joe  1.5\n",
       "bbb  20  NaN  1.5"
      ]
     },
     "execution_count": 57,
     "metadata": {},
     "output_type": "execute_result"
    }
   ],
   "source": [
    "df3[:2] # equivalent to df3.iloc[:2]"
   ]
  },
  {
   "cell_type": "code",
   "execution_count": 61,
   "metadata": {},
   "outputs": [
    {
     "data": {
      "text/plain": [
       "3"
      ]
     },
     "execution_count": 61,
     "metadata": {},
     "output_type": "execute_result"
    }
   ],
   "source": [
    "# Selecting an item from a Series.\n",
    "se2['b']"
   ]
  },
  {
   "cell_type": "code",
   "execution_count": 62,
   "metadata": {},
   "outputs": [
    {
     "data": {
      "text/plain": [
       "b    3\n",
       "c    4\n",
       "dtype: int64"
      ]
     },
     "execution_count": 62,
     "metadata": {},
     "output_type": "execute_result"
    }
   ],
   "source": [
    "se2[['b', 'c']]"
   ]
  },
  {
   "cell_type": "code",
   "execution_count": 64,
   "metadata": {},
   "outputs": [
    {
     "data": {
      "text/plain": [
       "array([2, 3, 4, 5])"
      ]
     },
     "execution_count": 64,
     "metadata": {},
     "output_type": "execute_result"
    }
   ],
   "source": [
    "# Accessing the raw data.\n",
    "se2.values"
   ]
  },
  {
   "cell_type": "code",
   "execution_count": 65,
   "metadata": {},
   "outputs": [
    {
     "data": {
      "text/plain": [
       "numpy.ndarray"
      ]
     },
     "execution_count": 65,
     "metadata": {},
     "output_type": "execute_result"
    }
   ],
   "source": [
    "type(se2.values)"
   ]
  },
  {
   "cell_type": "code",
   "execution_count": 67,
   "metadata": {},
   "outputs": [
    {
     "data": {
      "text/plain": [
       "array([[10, 'Joe', 1.5],\n",
       "       [20, nan, 1.5],\n",
       "       [30, 'Tom', 2.5],\n",
       "       [40, 'George', 5.5]], dtype=object)"
      ]
     },
     "execution_count": 67,
     "metadata": {},
     "output_type": "execute_result"
    }
   ],
   "source": [
    "df3.values"
   ]
  },
  {
   "cell_type": "code",
   "execution_count": 69,
   "metadata": {},
   "outputs": [
    {
     "data": {
      "text/plain": [
       "array([1.5, 1.5, 2.5, 5.5])"
      ]
     },
     "execution_count": 69,
     "metadata": {},
     "output_type": "execute_result"
    }
   ],
   "source": [
    "df3['c'].values"
   ]
  },
  {
   "cell_type": "markdown",
   "metadata": {},
   "source": [
    "### [SELECT](https://pandas.pydata.org/pandas-docs/stable/user_guide/indexing.html)"
   ]
  },
  {
   "cell_type": "code",
   "execution_count": 70,
   "metadata": {},
   "outputs": [
    {
     "data": {
      "text/html": [
       "<div>\n",
       "<style scoped>\n",
       "    .dataframe tbody tr th:only-of-type {\n",
       "        vertical-align: middle;\n",
       "    }\n",
       "\n",
       "    .dataframe tbody tr th {\n",
       "        vertical-align: top;\n",
       "    }\n",
       "\n",
       "    .dataframe thead th {\n",
       "        text-align: right;\n",
       "    }\n",
       "</style>\n",
       "<table border=\"1\" class=\"dataframe\">\n",
       "  <thead>\n",
       "    <tr style=\"text-align: right;\">\n",
       "      <th></th>\n",
       "      <th>student</th>\n",
       "      <th>subject</th>\n",
       "      <th>grade</th>\n",
       "    </tr>\n",
       "  </thead>\n",
       "  <tbody>\n",
       "    <tr>\n",
       "      <th>0</th>\n",
       "      <td>John Doe</td>\n",
       "      <td>Mathematics</td>\n",
       "      <td>5</td>\n",
       "    </tr>\n",
       "    <tr>\n",
       "      <th>1</th>\n",
       "      <td>John Doe</td>\n",
       "      <td>History</td>\n",
       "      <td>2</td>\n",
       "    </tr>\n",
       "    <tr>\n",
       "      <th>2</th>\n",
       "      <td>Jane Smith</td>\n",
       "      <td>Mathematics</td>\n",
       "      <td>3</td>\n",
       "    </tr>\n",
       "    <tr>\n",
       "      <th>3</th>\n",
       "      <td>Jane Smith</td>\n",
       "      <td>Mathematics</td>\n",
       "      <td>5</td>\n",
       "    </tr>\n",
       "    <tr>\n",
       "      <th>4</th>\n",
       "      <td>Jane Smith</td>\n",
       "      <td>History</td>\n",
       "      <td>4</td>\n",
       "    </tr>\n",
       "    <tr>\n",
       "      <th>5</th>\n",
       "      <td>Scunner Campbell</td>\n",
       "      <td>Mathematics</td>\n",
       "      <td>1</td>\n",
       "    </tr>\n",
       "    <tr>\n",
       "      <th>6</th>\n",
       "      <td>Scunner Campbell</td>\n",
       "      <td>Mathematics</td>\n",
       "      <td>2</td>\n",
       "    </tr>\n",
       "    <tr>\n",
       "      <th>7</th>\n",
       "      <td>Scunner Campbell</td>\n",
       "      <td>History</td>\n",
       "      <td>5</td>\n",
       "    </tr>\n",
       "  </tbody>\n",
       "</table>\n",
       "</div>"
      ],
      "text/plain": [
       "            student      subject  grade\n",
       "0          John Doe  Mathematics      5\n",
       "1          John Doe      History      2\n",
       "2        Jane Smith  Mathematics      3\n",
       "3        Jane Smith  Mathematics      5\n",
       "4        Jane Smith      History      4\n",
       "5  Scunner Campbell  Mathematics      1\n",
       "6  Scunner Campbell  Mathematics      2\n",
       "7  Scunner Campbell      History      5"
      ]
     },
     "execution_count": 70,
     "metadata": {},
     "output_type": "execute_result"
    }
   ],
   "source": [
    "# Let's create an example DataFrame!\n",
    "df = pd.DataFrame([\n",
    "    {'student': 'John Doe', 'subject': 'Mathematics',  'grade': 5},\n",
    "    {'student': 'John Doe', 'subject': 'History', 'grade': 2},\n",
    "    {'student': 'Jane Smith', 'subject': 'Mathematics',  'grade': 3},\n",
    "    {'student': 'Jane Smith', 'subject': 'Mathematics',  'grade': 5},\n",
    "    {'student': 'Jane Smith', 'subject': 'History', 'grade': 4},\n",
    "    {'student': 'Scunner Campbell', 'subject': 'Mathematics',  'grade': 1},\n",
    "    {'student': 'Scunner Campbell', 'subject': 'Mathematics',  'grade': 2},\n",
    "    {'student': 'Scunner Campbell', 'subject': 'History', 'grade': 5},\n",
    "])\n",
    "df"
   ]
  },
  {
   "cell_type": "code",
   "execution_count": 73,
   "metadata": {},
   "outputs": [
    {
     "data": {
      "text/plain": [
       "0     True\n",
       "1     True\n",
       "2    False\n",
       "3    False\n",
       "4    False\n",
       "5    False\n",
       "6    False\n",
       "7    False\n",
       "Name: student, dtype: bool"
      ]
     },
     "execution_count": 73,
     "metadata": {},
     "output_type": "execute_result"
    }
   ],
   "source": [
    "# Logical condition column.\n",
    "df['student'] == 'John Doe'"
   ]
  },
  {
   "cell_type": "code",
   "execution_count": 74,
   "metadata": {},
   "outputs": [
    {
     "data": {
      "text/html": [
       "<div>\n",
       "<style scoped>\n",
       "    .dataframe tbody tr th:only-of-type {\n",
       "        vertical-align: middle;\n",
       "    }\n",
       "\n",
       "    .dataframe tbody tr th {\n",
       "        vertical-align: top;\n",
       "    }\n",
       "\n",
       "    .dataframe thead th {\n",
       "        text-align: right;\n",
       "    }\n",
       "</style>\n",
       "<table border=\"1\" class=\"dataframe\">\n",
       "  <thead>\n",
       "    <tr style=\"text-align: right;\">\n",
       "      <th></th>\n",
       "      <th>student</th>\n",
       "      <th>subject</th>\n",
       "      <th>grade</th>\n",
       "    </tr>\n",
       "  </thead>\n",
       "  <tbody>\n",
       "    <tr>\n",
       "      <th>0</th>\n",
       "      <td>John Doe</td>\n",
       "      <td>Mathematics</td>\n",
       "      <td>5</td>\n",
       "    </tr>\n",
       "    <tr>\n",
       "      <th>1</th>\n",
       "      <td>John Doe</td>\n",
       "      <td>History</td>\n",
       "      <td>2</td>\n",
       "    </tr>\n",
       "  </tbody>\n",
       "</table>\n",
       "</div>"
      ],
      "text/plain": [
       "    student      subject  grade\n",
       "0  John Doe  Mathematics      5\n",
       "1  John Doe      History      2"
      ]
     },
     "execution_count": 74,
     "metadata": {},
     "output_type": "execute_result"
    }
   ],
   "source": [
    "# All grades of John Doe.\n",
    "df[df['student'] == 'John Doe']\n",
    "# SELECT * FROM df WHERE student='John Doe'"
   ]
  },
  {
   "cell_type": "code",
   "execution_count": 83,
   "metadata": {},
   "outputs": [
    {
     "data": {
      "text/html": [
       "<div>\n",
       "<style scoped>\n",
       "    .dataframe tbody tr th:only-of-type {\n",
       "        vertical-align: middle;\n",
       "    }\n",
       "\n",
       "    .dataframe tbody tr th {\n",
       "        vertical-align: top;\n",
       "    }\n",
       "\n",
       "    .dataframe thead th {\n",
       "        text-align: right;\n",
       "    }\n",
       "</style>\n",
       "<table border=\"1\" class=\"dataframe\">\n",
       "  <thead>\n",
       "    <tr style=\"text-align: right;\">\n",
       "      <th></th>\n",
       "      <th>student</th>\n",
       "      <th>subject</th>\n",
       "      <th>grade</th>\n",
       "    </tr>\n",
       "  </thead>\n",
       "  <tbody>\n",
       "    <tr>\n",
       "      <th>1</th>\n",
       "      <td>John Doe</td>\n",
       "      <td>History</td>\n",
       "      <td>2</td>\n",
       "    </tr>\n",
       "    <tr>\n",
       "      <th>2</th>\n",
       "      <td>Jane Smith</td>\n",
       "      <td>Mathematics</td>\n",
       "      <td>3</td>\n",
       "    </tr>\n",
       "    <tr>\n",
       "      <th>4</th>\n",
       "      <td>Jane Smith</td>\n",
       "      <td>History</td>\n",
       "      <td>4</td>\n",
       "    </tr>\n",
       "    <tr>\n",
       "      <th>6</th>\n",
       "      <td>Scunner Campbell</td>\n",
       "      <td>Mathematics</td>\n",
       "      <td>2</td>\n",
       "    </tr>\n",
       "  </tbody>\n",
       "</table>\n",
       "</div>"
      ],
      "text/plain": [
       "            student      subject  grade\n",
       "1          John Doe      History      2\n",
       "2        Jane Smith  Mathematics      3\n",
       "4        Jane Smith      History      4\n",
       "6  Scunner Campbell  Mathematics      2"
      ]
     },
     "execution_count": 83,
     "metadata": {},
     "output_type": "execute_result"
    }
   ],
   "source": [
    "# Grades better than 1 and worse than 5.\n",
    "df[(df['grade'] > 1) & (df['grade'] < 5)]"
   ]
  },
  {
   "cell_type": "markdown",
   "metadata": {},
   "source": [
    "### [GROUPBY](https://pandas.pydata.org/pandas-docs/stable/user_guide/groupby.html)\n",
    "\n",
    "In pandas, the steps of grouping are as follows:\n",
    "\n",
    "- **Splitting** the data into groups based on some criteria.\n",
    "- **Applying** a function to each group independently.\n",
    "- **Combining** the results into a data structure.\n",
    "\n",
    "Out of these, the split step is the most straightforward. The splitting criterion is usually a column or a set of columns. The apply step is typically an aggregation (e.g. number of items in the group, number of unique values, sum, mean, minimum, maximum, first record, last record). If the apply step is an aggregation, then combining runs automatically, otherwise the programmer has to initiate it."
   ]
  },
  {
   "cell_type": "code",
   "execution_count": 84,
   "metadata": {},
   "outputs": [
    {
     "data": {
      "text/html": [
       "<div>\n",
       "<style scoped>\n",
       "    .dataframe tbody tr th:only-of-type {\n",
       "        vertical-align: middle;\n",
       "    }\n",
       "\n",
       "    .dataframe tbody tr th {\n",
       "        vertical-align: top;\n",
       "    }\n",
       "\n",
       "    .dataframe thead th {\n",
       "        text-align: right;\n",
       "    }\n",
       "</style>\n",
       "<table border=\"1\" class=\"dataframe\">\n",
       "  <thead>\n",
       "    <tr style=\"text-align: right;\">\n",
       "      <th></th>\n",
       "      <th>student</th>\n",
       "      <th>subject</th>\n",
       "      <th>grade</th>\n",
       "    </tr>\n",
       "  </thead>\n",
       "  <tbody>\n",
       "    <tr>\n",
       "      <th>0</th>\n",
       "      <td>John Doe</td>\n",
       "      <td>Mathematics</td>\n",
       "      <td>5</td>\n",
       "    </tr>\n",
       "    <tr>\n",
       "      <th>1</th>\n",
       "      <td>John Doe</td>\n",
       "      <td>History</td>\n",
       "      <td>2</td>\n",
       "    </tr>\n",
       "    <tr>\n",
       "      <th>2</th>\n",
       "      <td>Jane Smith</td>\n",
       "      <td>Mathematics</td>\n",
       "      <td>3</td>\n",
       "    </tr>\n",
       "    <tr>\n",
       "      <th>3</th>\n",
       "      <td>Jane Smith</td>\n",
       "      <td>Mathematics</td>\n",
       "      <td>5</td>\n",
       "    </tr>\n",
       "    <tr>\n",
       "      <th>4</th>\n",
       "      <td>Jane Smith</td>\n",
       "      <td>History</td>\n",
       "      <td>4</td>\n",
       "    </tr>\n",
       "    <tr>\n",
       "      <th>5</th>\n",
       "      <td>Scunner Campbell</td>\n",
       "      <td>Mathematics</td>\n",
       "      <td>1</td>\n",
       "    </tr>\n",
       "    <tr>\n",
       "      <th>6</th>\n",
       "      <td>Scunner Campbell</td>\n",
       "      <td>Mathematics</td>\n",
       "      <td>2</td>\n",
       "    </tr>\n",
       "    <tr>\n",
       "      <th>7</th>\n",
       "      <td>Scunner Campbell</td>\n",
       "      <td>History</td>\n",
       "      <td>5</td>\n",
       "    </tr>\n",
       "  </tbody>\n",
       "</table>\n",
       "</div>"
      ],
      "text/plain": [
       "            student      subject  grade\n",
       "0          John Doe  Mathematics      5\n",
       "1          John Doe      History      2\n",
       "2        Jane Smith  Mathematics      3\n",
       "3        Jane Smith  Mathematics      5\n",
       "4        Jane Smith      History      4\n",
       "5  Scunner Campbell  Mathematics      1\n",
       "6  Scunner Campbell  Mathematics      2\n",
       "7  Scunner Campbell      History      5"
      ]
     },
     "execution_count": 84,
     "metadata": {},
     "output_type": "execute_result"
    }
   ],
   "source": [
    "# Let's use the previous DataFrame!\n",
    "df"
   ]
  },
  {
   "cell_type": "code",
   "execution_count": 86,
   "metadata": {},
   "outputs": [],
   "source": [
    "# Group by subject.\n",
    "gb = df.groupby('subject')"
   ]
  },
  {
   "cell_type": "code",
   "execution_count": 87,
   "metadata": {},
   "outputs": [
    {
     "data": {
      "text/plain": [
       "pandas.core.groupby.generic.DataFrameGroupBy"
      ]
     },
     "execution_count": 87,
     "metadata": {},
     "output_type": "execute_result"
    }
   ],
   "source": [
    "# The type of the result.\n",
    "type(gb)"
   ]
  },
  {
   "cell_type": "code",
   "execution_count": 88,
   "metadata": {},
   "outputs": [
    {
     "data": {
      "text/plain": [
       "subject\n",
       "History        3\n",
       "Mathematics    5\n",
       "dtype: int64"
      ]
     },
     "execution_count": 88,
     "metadata": {},
     "output_type": "execute_result"
    }
   ],
   "source": [
    "# Number of records per subject.\n",
    "gb.size()"
   ]
  },
  {
   "cell_type": "code",
   "execution_count": 89,
   "metadata": {},
   "outputs": [
    {
     "data": {
      "text/plain": [
       "subject\n",
       "History        3\n",
       "Mathematics    5\n",
       "dtype: int64"
      ]
     },
     "execution_count": 89,
     "metadata": {},
     "output_type": "execute_result"
    }
   ],
   "source": [
    "# The same query, without using the gb variable.\n",
    "df.groupby('subject').size()"
   ]
  },
  {
   "cell_type": "code",
   "execution_count": 90,
   "metadata": {},
   "outputs": [
    {
     "data": {
      "text/plain": [
       "Mathematics    5\n",
       "History        3\n",
       "Name: subject, dtype: int64"
      ]
     },
     "execution_count": 90,
     "metadata": {},
     "output_type": "execute_result"
    }
   ],
   "source": [
    "# Alternative solution:\n",
    "df['subject'].value_counts()"
   ]
  },
  {
   "cell_type": "code",
   "execution_count": 94,
   "metadata": {},
   "outputs": [
    {
     "data": {
      "text/plain": [
       "subject\n",
       "History        3.666667\n",
       "Mathematics    3.200000\n",
       "Name: grade, dtype: float64"
      ]
     },
     "execution_count": 94,
     "metadata": {},
     "output_type": "execute_result"
    }
   ],
   "source": [
    "# Average grade per subject.\n",
    "df.groupby('subject')['grade'].mean()"
   ]
  },
  {
   "cell_type": "code",
   "execution_count": 98,
   "metadata": {},
   "outputs": [
    {
     "data": {
      "text/plain": [
       "subject\n",
       "History        3.666667\n",
       "Mathematics    3.200000\n",
       "Name: grade, dtype: float64"
      ]
     },
     "execution_count": 98,
     "metadata": {},
     "output_type": "execute_result"
    }
   ],
   "source": [
    "df['grade'].groupby(df['subject']).mean()"
   ]
  },
  {
   "cell_type": "code",
   "execution_count": 102,
   "metadata": {},
   "outputs": [
    {
     "data": {
      "text/plain": [
       "student           subject    \n",
       "Jane Smith        History        4.0\n",
       "                  Mathematics    4.0\n",
       "John Doe          History        2.0\n",
       "                  Mathematics    5.0\n",
       "Scunner Campbell  History        5.0\n",
       "                  Mathematics    1.5\n",
       "Name: grade, dtype: float64"
      ]
     },
     "execution_count": 102,
     "metadata": {},
     "output_type": "execute_result"
    }
   ],
   "source": [
    "# Subject averages for every student.\n",
    "df.groupby(['student', 'subject'])['grade'].mean()"
   ]
  },
  {
   "cell_type": "code",
   "execution_count": 103,
   "metadata": {},
   "outputs": [
    {
     "data": {
      "text/html": [
       "<div>\n",
       "<style scoped>\n",
       "    .dataframe tbody tr th:only-of-type {\n",
       "        vertical-align: middle;\n",
       "    }\n",
       "\n",
       "    .dataframe tbody tr th {\n",
       "        vertical-align: top;\n",
       "    }\n",
       "\n",
       "    .dataframe thead th {\n",
       "        text-align: right;\n",
       "    }\n",
       "</style>\n",
       "<table border=\"1\" class=\"dataframe\">\n",
       "  <thead>\n",
       "    <tr style=\"text-align: right;\">\n",
       "      <th></th>\n",
       "      <th>student</th>\n",
       "      <th>subject</th>\n",
       "      <th>grade</th>\n",
       "    </tr>\n",
       "  </thead>\n",
       "  <tbody>\n",
       "    <tr>\n",
       "      <th>0</th>\n",
       "      <td>Jane Smith</td>\n",
       "      <td>History</td>\n",
       "      <td>4.0</td>\n",
       "    </tr>\n",
       "    <tr>\n",
       "      <th>1</th>\n",
       "      <td>Jane Smith</td>\n",
       "      <td>Mathematics</td>\n",
       "      <td>4.0</td>\n",
       "    </tr>\n",
       "    <tr>\n",
       "      <th>2</th>\n",
       "      <td>John Doe</td>\n",
       "      <td>History</td>\n",
       "      <td>2.0</td>\n",
       "    </tr>\n",
       "    <tr>\n",
       "      <th>3</th>\n",
       "      <td>John Doe</td>\n",
       "      <td>Mathematics</td>\n",
       "      <td>5.0</td>\n",
       "    </tr>\n",
       "    <tr>\n",
       "      <th>4</th>\n",
       "      <td>Scunner Campbell</td>\n",
       "      <td>History</td>\n",
       "      <td>5.0</td>\n",
       "    </tr>\n",
       "    <tr>\n",
       "      <th>5</th>\n",
       "      <td>Scunner Campbell</td>\n",
       "      <td>Mathematics</td>\n",
       "      <td>1.5</td>\n",
       "    </tr>\n",
       "  </tbody>\n",
       "</table>\n",
       "</div>"
      ],
      "text/plain": [
       "            student      subject  grade\n",
       "0        Jane Smith      History    4.0\n",
       "1        Jane Smith  Mathematics    4.0\n",
       "2          John Doe      History    2.0\n",
       "3          John Doe  Mathematics    5.0\n",
       "4  Scunner Campbell      History    5.0\n",
       "5  Scunner Campbell  Mathematics    1.5"
      ]
     },
     "execution_count": 103,
     "metadata": {},
     "output_type": "execute_result"
    }
   ],
   "source": [
    "# Changing the index to 2 ordinary columns.\n",
    "df.groupby(['student', 'subject'])['grade'].mean().reset_index()"
   ]
  },
  {
   "cell_type": "code",
   "execution_count": 104,
   "metadata": {},
   "outputs": [
    {
     "data": {
      "text/plain": [
       "0    4.0\n",
       "1    4.0\n",
       "2    2.0\n",
       "3    5.0\n",
       "4    5.0\n",
       "5    1.5\n",
       "Name: grade, dtype: float64"
      ]
     },
     "execution_count": 104,
     "metadata": {},
     "output_type": "execute_result"
    }
   ],
   "source": [
    "df.groupby(['student', 'subject'])['grade'].mean().reset_index(drop=True)"
   ]
  },
  {
   "cell_type": "code",
   "execution_count": 106,
   "metadata": {},
   "outputs": [
    {
     "data": {
      "text/html": [
       "<div>\n",
       "<style scoped>\n",
       "    .dataframe tbody tr th:only-of-type {\n",
       "        vertical-align: middle;\n",
       "    }\n",
       "\n",
       "    .dataframe tbody tr th {\n",
       "        vertical-align: top;\n",
       "    }\n",
       "\n",
       "    .dataframe thead th {\n",
       "        text-align: right;\n",
       "    }\n",
       "</style>\n",
       "<table border=\"1\" class=\"dataframe\">\n",
       "  <thead>\n",
       "    <tr style=\"text-align: right;\">\n",
       "      <th></th>\n",
       "      <th>student</th>\n",
       "      <th>subject</th>\n",
       "      <th>grade</th>\n",
       "    </tr>\n",
       "  </thead>\n",
       "  <tbody>\n",
       "    <tr>\n",
       "      <th>7</th>\n",
       "      <td>Scunner Campbell</td>\n",
       "      <td>History</td>\n",
       "      <td>5</td>\n",
       "    </tr>\n",
       "    <tr>\n",
       "      <th>6</th>\n",
       "      <td>Scunner Campbell</td>\n",
       "      <td>Mathematics</td>\n",
       "      <td>2</td>\n",
       "    </tr>\n",
       "    <tr>\n",
       "      <th>5</th>\n",
       "      <td>Scunner Campbell</td>\n",
       "      <td>Mathematics</td>\n",
       "      <td>1</td>\n",
       "    </tr>\n",
       "    <tr>\n",
       "      <th>4</th>\n",
       "      <td>Jane Smith</td>\n",
       "      <td>History</td>\n",
       "      <td>4</td>\n",
       "    </tr>\n",
       "    <tr>\n",
       "      <th>3</th>\n",
       "      <td>Jane Smith</td>\n",
       "      <td>Mathematics</td>\n",
       "      <td>5</td>\n",
       "    </tr>\n",
       "    <tr>\n",
       "      <th>2</th>\n",
       "      <td>Jane Smith</td>\n",
       "      <td>Mathematics</td>\n",
       "      <td>3</td>\n",
       "    </tr>\n",
       "    <tr>\n",
       "      <th>1</th>\n",
       "      <td>John Doe</td>\n",
       "      <td>History</td>\n",
       "      <td>2</td>\n",
       "    </tr>\n",
       "    <tr>\n",
       "      <th>0</th>\n",
       "      <td>John Doe</td>\n",
       "      <td>Mathematics</td>\n",
       "      <td>5</td>\n",
       "    </tr>\n",
       "  </tbody>\n",
       "</table>\n",
       "</div>"
      ],
      "text/plain": [
       "            student      subject  grade\n",
       "7  Scunner Campbell      History      5\n",
       "6  Scunner Campbell  Mathematics      2\n",
       "5  Scunner Campbell  Mathematics      1\n",
       "4        Jane Smith      History      4\n",
       "3        Jane Smith  Mathematics      5\n",
       "2        Jane Smith  Mathematics      3\n",
       "1          John Doe      History      2\n",
       "0          John Doe  Mathematics      5"
      ]
     },
     "execution_count": 106,
     "metadata": {},
     "output_type": "execute_result"
    }
   ],
   "source": [
    "df[::-1]"
   ]
  },
  {
   "cell_type": "markdown",
   "metadata": {},
   "source": [
    "## Example queries on the pl.txt data set"
   ]
  },
  {
   "cell_type": "code",
   "execution_count": 3,
   "metadata": {},
   "outputs": [
    {
     "data": {
      "text/html": [
       "<div>\n",
       "<style scoped>\n",
       "    .dataframe tbody tr th:only-of-type {\n",
       "        vertical-align: middle;\n",
       "    }\n",
       "\n",
       "    .dataframe tbody tr th {\n",
       "        vertical-align: top;\n",
       "    }\n",
       "\n",
       "    .dataframe thead th {\n",
       "        text-align: right;\n",
       "    }\n",
       "</style>\n",
       "<table border=\"1\" class=\"dataframe\">\n",
       "  <thead>\n",
       "    <tr style=\"text-align: right;\">\n",
       "      <th></th>\n",
       "      <th>round</th>\n",
       "      <th>hteam</th>\n",
       "      <th>ateam</th>\n",
       "      <th>hgoals</th>\n",
       "      <th>agoals</th>\n",
       "    </tr>\n",
       "  </thead>\n",
       "  <tbody>\n",
       "    <tr>\n",
       "      <th>0</th>\n",
       "      <td>1</td>\n",
       "      <td>Blackburn Rovers</td>\n",
       "      <td>Wolverhampton Wanderers</td>\n",
       "      <td>1</td>\n",
       "      <td>2</td>\n",
       "    </tr>\n",
       "    <tr>\n",
       "      <th>1</th>\n",
       "      <td>1</td>\n",
       "      <td>Fulham FC</td>\n",
       "      <td>Aston Villa</td>\n",
       "      <td>0</td>\n",
       "      <td>0</td>\n",
       "    </tr>\n",
       "    <tr>\n",
       "      <th>2</th>\n",
       "      <td>1</td>\n",
       "      <td>Liverpool FC</td>\n",
       "      <td>Sunderland AFC</td>\n",
       "      <td>1</td>\n",
       "      <td>1</td>\n",
       "    </tr>\n",
       "    <tr>\n",
       "      <th>3</th>\n",
       "      <td>1</td>\n",
       "      <td>Queens Park Rangers</td>\n",
       "      <td>Bolton Wanderers</td>\n",
       "      <td>0</td>\n",
       "      <td>4</td>\n",
       "    </tr>\n",
       "    <tr>\n",
       "      <th>4</th>\n",
       "      <td>1</td>\n",
       "      <td>Wigan Athletic</td>\n",
       "      <td>Norwich City</td>\n",
       "      <td>1</td>\n",
       "      <td>1</td>\n",
       "    </tr>\n",
       "    <tr>\n",
       "      <th>...</th>\n",
       "      <td>...</td>\n",
       "      <td>...</td>\n",
       "      <td>...</td>\n",
       "      <td>...</td>\n",
       "      <td>...</td>\n",
       "    </tr>\n",
       "    <tr>\n",
       "      <th>375</th>\n",
       "      <td>38</td>\n",
       "      <td>Sunderland AFC</td>\n",
       "      <td>Manchester United</td>\n",
       "      <td>0</td>\n",
       "      <td>1</td>\n",
       "    </tr>\n",
       "    <tr>\n",
       "      <th>376</th>\n",
       "      <td>38</td>\n",
       "      <td>Swansea City</td>\n",
       "      <td>Liverpool FC</td>\n",
       "      <td>1</td>\n",
       "      <td>0</td>\n",
       "    </tr>\n",
       "    <tr>\n",
       "      <th>377</th>\n",
       "      <td>38</td>\n",
       "      <td>Tottenham Hotspur</td>\n",
       "      <td>Fulham FC</td>\n",
       "      <td>2</td>\n",
       "      <td>0</td>\n",
       "    </tr>\n",
       "    <tr>\n",
       "      <th>378</th>\n",
       "      <td>38</td>\n",
       "      <td>West Bromwich Albion</td>\n",
       "      <td>Arsenal FC</td>\n",
       "      <td>2</td>\n",
       "      <td>3</td>\n",
       "    </tr>\n",
       "    <tr>\n",
       "      <th>379</th>\n",
       "      <td>38</td>\n",
       "      <td>Wigan Athletic</td>\n",
       "      <td>Wolverhampton Wanderers</td>\n",
       "      <td>3</td>\n",
       "      <td>2</td>\n",
       "    </tr>\n",
       "  </tbody>\n",
       "</table>\n",
       "<p>380 rows × 5 columns</p>\n",
       "</div>"
      ],
      "text/plain": [
       "     round                 hteam                    ateam  hgoals  agoals\n",
       "0        1      Blackburn Rovers  Wolverhampton Wanderers       1       2\n",
       "1        1             Fulham FC              Aston Villa       0       0\n",
       "2        1          Liverpool FC           Sunderland AFC       1       1\n",
       "3        1   Queens Park Rangers         Bolton Wanderers       0       4\n",
       "4        1        Wigan Athletic             Norwich City       1       1\n",
       "..     ...                   ...                      ...     ...     ...\n",
       "375     38        Sunderland AFC        Manchester United       0       1\n",
       "376     38          Swansea City             Liverpool FC       1       0\n",
       "377     38     Tottenham Hotspur                Fulham FC       2       0\n",
       "378     38  West Bromwich Albion               Arsenal FC       2       3\n",
       "379     38        Wigan Athletic  Wolverhampton Wanderers       3       2\n",
       "\n",
       "[380 rows x 5 columns]"
      ]
     },
     "execution_count": 3,
     "metadata": {},
     "output_type": "execute_result"
    }
   ],
   "source": [
    "# Loading pl.txt into a DataFrame.\n",
    "names = ['round', 'hteam', 'ateam', 'hgoals', 'agoals']\n",
    "df = pd.read_csv('pl.txt', sep='\\t', skiprows=6, names=names)\n",
    "df"
   ]
  },
  {
   "cell_type": "code",
   "execution_count": 4,
   "metadata": {},
   "outputs": [
    {
     "data": {
      "text/html": [
       "<div>\n",
       "<style scoped>\n",
       "    .dataframe tbody tr th:only-of-type {\n",
       "        vertical-align: middle;\n",
       "    }\n",
       "\n",
       "    .dataframe tbody tr th {\n",
       "        vertical-align: top;\n",
       "    }\n",
       "\n",
       "    .dataframe thead th {\n",
       "        text-align: right;\n",
       "    }\n",
       "</style>\n",
       "<table border=\"1\" class=\"dataframe\">\n",
       "  <thead>\n",
       "    <tr style=\"text-align: right;\">\n",
       "      <th></th>\n",
       "      <th>round</th>\n",
       "      <th>hteam</th>\n",
       "      <th>ateam</th>\n",
       "      <th>hgoals</th>\n",
       "      <th>agoals</th>\n",
       "      <th>goals</th>\n",
       "    </tr>\n",
       "  </thead>\n",
       "  <tbody>\n",
       "    <tr>\n",
       "      <th>0</th>\n",
       "      <td>1</td>\n",
       "      <td>Blackburn Rovers</td>\n",
       "      <td>Wolverhampton Wanderers</td>\n",
       "      <td>1</td>\n",
       "      <td>2</td>\n",
       "      <td>3</td>\n",
       "    </tr>\n",
       "    <tr>\n",
       "      <th>1</th>\n",
       "      <td>1</td>\n",
       "      <td>Fulham FC</td>\n",
       "      <td>Aston Villa</td>\n",
       "      <td>0</td>\n",
       "      <td>0</td>\n",
       "      <td>0</td>\n",
       "    </tr>\n",
       "    <tr>\n",
       "      <th>2</th>\n",
       "      <td>1</td>\n",
       "      <td>Liverpool FC</td>\n",
       "      <td>Sunderland AFC</td>\n",
       "      <td>1</td>\n",
       "      <td>1</td>\n",
       "      <td>2</td>\n",
       "    </tr>\n",
       "    <tr>\n",
       "      <th>3</th>\n",
       "      <td>1</td>\n",
       "      <td>Queens Park Rangers</td>\n",
       "      <td>Bolton Wanderers</td>\n",
       "      <td>0</td>\n",
       "      <td>4</td>\n",
       "      <td>4</td>\n",
       "    </tr>\n",
       "    <tr>\n",
       "      <th>4</th>\n",
       "      <td>1</td>\n",
       "      <td>Wigan Athletic</td>\n",
       "      <td>Norwich City</td>\n",
       "      <td>1</td>\n",
       "      <td>1</td>\n",
       "      <td>2</td>\n",
       "    </tr>\n",
       "    <tr>\n",
       "      <th>...</th>\n",
       "      <td>...</td>\n",
       "      <td>...</td>\n",
       "      <td>...</td>\n",
       "      <td>...</td>\n",
       "      <td>...</td>\n",
       "      <td>...</td>\n",
       "    </tr>\n",
       "    <tr>\n",
       "      <th>375</th>\n",
       "      <td>38</td>\n",
       "      <td>Sunderland AFC</td>\n",
       "      <td>Manchester United</td>\n",
       "      <td>0</td>\n",
       "      <td>1</td>\n",
       "      <td>1</td>\n",
       "    </tr>\n",
       "    <tr>\n",
       "      <th>376</th>\n",
       "      <td>38</td>\n",
       "      <td>Swansea City</td>\n",
       "      <td>Liverpool FC</td>\n",
       "      <td>1</td>\n",
       "      <td>0</td>\n",
       "      <td>1</td>\n",
       "    </tr>\n",
       "    <tr>\n",
       "      <th>377</th>\n",
       "      <td>38</td>\n",
       "      <td>Tottenham Hotspur</td>\n",
       "      <td>Fulham FC</td>\n",
       "      <td>2</td>\n",
       "      <td>0</td>\n",
       "      <td>2</td>\n",
       "    </tr>\n",
       "    <tr>\n",
       "      <th>378</th>\n",
       "      <td>38</td>\n",
       "      <td>West Bromwich Albion</td>\n",
       "      <td>Arsenal FC</td>\n",
       "      <td>2</td>\n",
       "      <td>3</td>\n",
       "      <td>5</td>\n",
       "    </tr>\n",
       "    <tr>\n",
       "      <th>379</th>\n",
       "      <td>38</td>\n",
       "      <td>Wigan Athletic</td>\n",
       "      <td>Wolverhampton Wanderers</td>\n",
       "      <td>3</td>\n",
       "      <td>2</td>\n",
       "      <td>5</td>\n",
       "    </tr>\n",
       "  </tbody>\n",
       "</table>\n",
       "<p>380 rows × 6 columns</p>\n",
       "</div>"
      ],
      "text/plain": [
       "     round                 hteam                    ateam  hgoals  agoals  \\\n",
       "0        1      Blackburn Rovers  Wolverhampton Wanderers       1       2   \n",
       "1        1             Fulham FC              Aston Villa       0       0   \n",
       "2        1          Liverpool FC           Sunderland AFC       1       1   \n",
       "3        1   Queens Park Rangers         Bolton Wanderers       0       4   \n",
       "4        1        Wigan Athletic             Norwich City       1       1   \n",
       "..     ...                   ...                      ...     ...     ...   \n",
       "375     38        Sunderland AFC        Manchester United       0       1   \n",
       "376     38          Swansea City             Liverpool FC       1       0   \n",
       "377     38     Tottenham Hotspur                Fulham FC       2       0   \n",
       "378     38  West Bromwich Albion               Arsenal FC       2       3   \n",
       "379     38        Wigan Athletic  Wolverhampton Wanderers       3       2   \n",
       "\n",
       "     goals  \n",
       "0        3  \n",
       "1        0  \n",
       "2        2  \n",
       "3        4  \n",
       "4        2  \n",
       "..     ...  \n",
       "375      1  \n",
       "376      1  \n",
       "377      2  \n",
       "378      5  \n",
       "379      5  \n",
       "\n",
       "[380 rows x 6 columns]"
      ]
     },
     "execution_count": 4,
     "metadata": {},
     "output_type": "execute_result"
    }
   ],
   "source": [
    "# Add \"number of goals\" column to the DataFrame.\n",
    "df['goals'] = df['hgoals'] + df['agoals']\n",
    "df"
   ]
  },
  {
   "cell_type": "code",
   "execution_count": 5,
   "metadata": {},
   "outputs": [
    {
     "data": {
      "text/plain": [
       "25"
      ]
     },
     "execution_count": 5,
     "metadata": {},
     "output_type": "execute_result"
    }
   ],
   "source": [
    "# Number of goals in round 13.\n",
    "df[df['round'] == 13]['goals'].sum()"
   ]
  },
  {
   "cell_type": "code",
   "execution_count": 6,
   "metadata": {},
   "outputs": [
    {
     "data": {
      "text/plain": [
       "round\n",
       "10    39\n",
       "Name: goals, dtype: int64"
      ]
     },
     "execution_count": 6,
     "metadata": {},
     "output_type": "execute_result"
    }
   ],
   "source": [
    "# Which round had the highest number of goals?\n",
    "df.groupby('round')['goals'].sum().sort_values()[::-1][:1]"
   ]
  },
  {
   "cell_type": "code",
   "execution_count": 9,
   "metadata": {},
   "outputs": [
    {
     "data": {
      "text/plain": [
       "10"
      ]
     },
     "execution_count": 9,
     "metadata": {},
     "output_type": "execute_result"
    }
   ],
   "source": [
    "df.groupby('round')['goals'].sum().idxmax()"
   ]
  },
  {
   "cell_type": "code",
   "execution_count": 10,
   "metadata": {
    "scrolled": true
   },
   "outputs": [
    {
     "data": {
      "text/plain": [
       "round\n",
       "1     10\n",
       "2     10\n",
       "3     10\n",
       "4     10\n",
       "5     10\n",
       "6     10\n",
       "7     10\n",
       "8     10\n",
       "9     10\n",
       "10    10\n",
       "11    10\n",
       "12    10\n",
       "13    10\n",
       "14    10\n",
       "15    10\n",
       "16    10\n",
       "17    10\n",
       "18    10\n",
       "19    10\n",
       "20    10\n",
       "21    10\n",
       "22    10\n",
       "23    10\n",
       "24    10\n",
       "25    10\n",
       "26    10\n",
       "27    10\n",
       "28    10\n",
       "29    10\n",
       "30    10\n",
       "31    10\n",
       "32    10\n",
       "33    10\n",
       "34    10\n",
       "35    10\n",
       "36    10\n",
       "37    10\n",
       "38    10\n",
       "dtype: int64"
      ]
     },
     "execution_count": 10,
     "metadata": {},
     "output_type": "execute_result"
    }
   ],
   "source": [
    "# Number of games per round.\n",
    "df.groupby(\"round\").size()"
   ]
  },
  {
   "cell_type": "code",
   "execution_count": 11,
   "metadata": {},
   "outputs": [],
   "source": [
    "assert (df.groupby(\"round\").size() == 10).all()"
   ]
  },
  {
   "cell_type": "code",
   "execution_count": 12,
   "metadata": {},
   "outputs": [
    {
     "data": {
      "text/plain": [
       "round\n",
       "10    39\n",
       "5     38\n",
       "25    36\n",
       "22    35\n",
       "36    35\n",
       "31    35\n",
       "7     34\n",
       "38    32\n",
       "8     32\n",
       "9     31\n",
       "Name: goals, dtype: int64"
      ]
     },
     "execution_count": 12,
     "metadata": {},
     "output_type": "execute_result"
    }
   ],
   "source": [
    "# Print the 10 rounds with the highest number of goals!\n",
    "df.groupby('round')['goals'].sum().sort_values(ascending=False)[:10]"
   ]
  },
  {
   "cell_type": "code",
   "execution_count": 14,
   "metadata": {},
   "outputs": [
    {
     "data": {
      "text/plain": [
       "92.89473684210526"
      ]
     },
     "execution_count": 14,
     "metadata": {},
     "output_type": "execute_result"
    }
   ],
   "source": [
    "# What percentage of the games had at least 1 goal?\n",
    "len(df[df['goals']>0])/len(df)*100"
   ]
  },
  {
   "cell_type": "code",
   "execution_count": 23,
   "metadata": {},
   "outputs": [
    {
     "data": {
      "text/plain": [
       "round                     3\n",
       "hteam     Manchester United\n",
       "ateam            Arsenal FC\n",
       "hgoals                    8\n",
       "agoals                    2\n",
       "goals                    10\n",
       "Name: 29, dtype: object"
      ]
     },
     "execution_count": 23,
     "metadata": {},
     "output_type": "execute_result"
    }
   ],
   "source": [
    "# What was the game with the highest number of goals?\n",
    "df.iloc[df['goals'].idxmax()]"
   ]
  },
  {
   "cell_type": "code",
   "execution_count": 30,
   "metadata": {},
   "outputs": [
    {
     "data": {
      "text/plain": [
       "89"
      ]
     },
     "execution_count": 30,
     "metadata": {},
     "output_type": "execute_result"
    }
   ],
   "source": [
    "# Total number of goals scored by Manchester United?\n",
    "df[df['hteam'] == 'Manchester United']['hgoals'].sum()+df[df['ateam'] == 'Manchester United']['agoals'].sum()"
   ]
  },
  {
   "cell_type": "code",
   "execution_count": 32,
   "metadata": {},
   "outputs": [
    {
     "data": {
      "text/plain": [
       "hteam\n",
       "Manchester City      93\n",
       "Manchester United    89\n",
       "Arsenal FC           74\n",
       "Tottenham Hotspur    66\n",
       "Chelsea FC           65\n",
       "dtype: int64"
      ]
     },
     "execution_count": 32,
     "metadata": {},
     "output_type": "execute_result"
    }
   ],
   "source": [
    "# Top 5 teams, scoring the most goals.\n",
    "se = df.groupby('hteam')['hgoals'].sum() + df.groupby('ateam')['agoals'].sum()\n",
    "se.sort_values(ascending=False)[:5]"
   ]
  },
  {
   "cell_type": "markdown",
   "metadata": {},
   "source": [
    "## FIFA'22 Players\n",
    "\n",
    "fifa22.csv.gz contains data about players in FIFA'19."
   ]
  },
  {
   "cell_type": "code",
   "execution_count": 3,
   "metadata": {
    "scrolled": true
   },
   "outputs": [
    {
     "name": "stderr",
     "output_type": "stream",
     "text": [
      "/tmp/ipykernel_6111/1633685452.py:2: DtypeWarning: Columns (25,108) have mixed types. Specify dtype option on import or set low_memory=False.\n",
      "  df = pd.read_csv('fifa22.csv.gz')\n"
     ]
    },
    {
     "data": {
      "text/html": [
       "<div>\n",
       "<style scoped>\n",
       "    .dataframe tbody tr th:only-of-type {\n",
       "        vertical-align: middle;\n",
       "    }\n",
       "\n",
       "    .dataframe tbody tr th {\n",
       "        vertical-align: top;\n",
       "    }\n",
       "\n",
       "    .dataframe thead th {\n",
       "        text-align: right;\n",
       "    }\n",
       "</style>\n",
       "<table border=\"1\" class=\"dataframe\">\n",
       "  <thead>\n",
       "    <tr style=\"text-align: right;\">\n",
       "      <th></th>\n",
       "      <th>sofifa_id</th>\n",
       "      <th>player_url</th>\n",
       "      <th>short_name</th>\n",
       "      <th>long_name</th>\n",
       "      <th>player_positions</th>\n",
       "      <th>overall</th>\n",
       "      <th>potential</th>\n",
       "      <th>value_eur</th>\n",
       "      <th>wage_eur</th>\n",
       "      <th>age</th>\n",
       "      <th>...</th>\n",
       "      <th>lcb</th>\n",
       "      <th>cb</th>\n",
       "      <th>rcb</th>\n",
       "      <th>rb</th>\n",
       "      <th>gk</th>\n",
       "      <th>player_face_url</th>\n",
       "      <th>club_logo_url</th>\n",
       "      <th>club_flag_url</th>\n",
       "      <th>nation_logo_url</th>\n",
       "      <th>nation_flag_url</th>\n",
       "    </tr>\n",
       "  </thead>\n",
       "  <tbody>\n",
       "    <tr>\n",
       "      <th>0</th>\n",
       "      <td>158023</td>\n",
       "      <td>https://sofifa.com/player/158023/lionel-messi/...</td>\n",
       "      <td>L. Messi</td>\n",
       "      <td>Lionel Andrés Messi Cuccittini</td>\n",
       "      <td>RW, ST, CF</td>\n",
       "      <td>93</td>\n",
       "      <td>93</td>\n",
       "      <td>78000000.0</td>\n",
       "      <td>320000.0</td>\n",
       "      <td>34</td>\n",
       "      <td>...</td>\n",
       "      <td>50+3</td>\n",
       "      <td>50+3</td>\n",
       "      <td>50+3</td>\n",
       "      <td>61+3</td>\n",
       "      <td>19+3</td>\n",
       "      <td>https://cdn.sofifa.net/players/158/023/22_120.png</td>\n",
       "      <td>https://cdn.sofifa.net/teams/73/60.png</td>\n",
       "      <td>https://cdn.sofifa.net/flags/fr.png</td>\n",
       "      <td>https://cdn.sofifa.net/teams/1369/60.png</td>\n",
       "      <td>https://cdn.sofifa.net/flags/ar.png</td>\n",
       "    </tr>\n",
       "    <tr>\n",
       "      <th>1</th>\n",
       "      <td>188545</td>\n",
       "      <td>https://sofifa.com/player/188545/robert-lewand...</td>\n",
       "      <td>R. Lewandowski</td>\n",
       "      <td>Robert Lewandowski</td>\n",
       "      <td>ST</td>\n",
       "      <td>92</td>\n",
       "      <td>92</td>\n",
       "      <td>119500000.0</td>\n",
       "      <td>270000.0</td>\n",
       "      <td>32</td>\n",
       "      <td>...</td>\n",
       "      <td>60+3</td>\n",
       "      <td>60+3</td>\n",
       "      <td>60+3</td>\n",
       "      <td>61+3</td>\n",
       "      <td>19+3</td>\n",
       "      <td>https://cdn.sofifa.net/players/188/545/22_120.png</td>\n",
       "      <td>https://cdn.sofifa.net/teams/21/60.png</td>\n",
       "      <td>https://cdn.sofifa.net/flags/de.png</td>\n",
       "      <td>https://cdn.sofifa.net/teams/1353/60.png</td>\n",
       "      <td>https://cdn.sofifa.net/flags/pl.png</td>\n",
       "    </tr>\n",
       "    <tr>\n",
       "      <th>2</th>\n",
       "      <td>20801</td>\n",
       "      <td>https://sofifa.com/player/20801/c-ronaldo-dos-...</td>\n",
       "      <td>Cristiano Ronaldo</td>\n",
       "      <td>Cristiano Ronaldo dos Santos Aveiro</td>\n",
       "      <td>ST, LW</td>\n",
       "      <td>91</td>\n",
       "      <td>91</td>\n",
       "      <td>45000000.0</td>\n",
       "      <td>270000.0</td>\n",
       "      <td>36</td>\n",
       "      <td>...</td>\n",
       "      <td>53+3</td>\n",
       "      <td>53+3</td>\n",
       "      <td>53+3</td>\n",
       "      <td>60+3</td>\n",
       "      <td>20+3</td>\n",
       "      <td>https://cdn.sofifa.net/players/020/801/22_120.png</td>\n",
       "      <td>https://cdn.sofifa.net/teams/11/60.png</td>\n",
       "      <td>https://cdn.sofifa.net/flags/gb-eng.png</td>\n",
       "      <td>https://cdn.sofifa.net/teams/1354/60.png</td>\n",
       "      <td>https://cdn.sofifa.net/flags/pt.png</td>\n",
       "    </tr>\n",
       "    <tr>\n",
       "      <th>3</th>\n",
       "      <td>190871</td>\n",
       "      <td>https://sofifa.com/player/190871/neymar-da-sil...</td>\n",
       "      <td>Neymar Jr</td>\n",
       "      <td>Neymar da Silva Santos Júnior</td>\n",
       "      <td>LW, CAM</td>\n",
       "      <td>91</td>\n",
       "      <td>91</td>\n",
       "      <td>129000000.0</td>\n",
       "      <td>270000.0</td>\n",
       "      <td>29</td>\n",
       "      <td>...</td>\n",
       "      <td>50+3</td>\n",
       "      <td>50+3</td>\n",
       "      <td>50+3</td>\n",
       "      <td>62+3</td>\n",
       "      <td>20+3</td>\n",
       "      <td>https://cdn.sofifa.net/players/190/871/22_120.png</td>\n",
       "      <td>https://cdn.sofifa.net/teams/73/60.png</td>\n",
       "      <td>https://cdn.sofifa.net/flags/fr.png</td>\n",
       "      <td>NaN</td>\n",
       "      <td>https://cdn.sofifa.net/flags/br.png</td>\n",
       "    </tr>\n",
       "    <tr>\n",
       "      <th>4</th>\n",
       "      <td>192985</td>\n",
       "      <td>https://sofifa.com/player/192985/kevin-de-bruy...</td>\n",
       "      <td>K. De Bruyne</td>\n",
       "      <td>Kevin De Bruyne</td>\n",
       "      <td>CM, CAM</td>\n",
       "      <td>91</td>\n",
       "      <td>91</td>\n",
       "      <td>125500000.0</td>\n",
       "      <td>350000.0</td>\n",
       "      <td>30</td>\n",
       "      <td>...</td>\n",
       "      <td>69+3</td>\n",
       "      <td>69+3</td>\n",
       "      <td>69+3</td>\n",
       "      <td>75+3</td>\n",
       "      <td>21+3</td>\n",
       "      <td>https://cdn.sofifa.net/players/192/985/22_120.png</td>\n",
       "      <td>https://cdn.sofifa.net/teams/10/60.png</td>\n",
       "      <td>https://cdn.sofifa.net/flags/gb-eng.png</td>\n",
       "      <td>https://cdn.sofifa.net/teams/1325/60.png</td>\n",
       "      <td>https://cdn.sofifa.net/flags/be.png</td>\n",
       "    </tr>\n",
       "    <tr>\n",
       "      <th>...</th>\n",
       "      <td>...</td>\n",
       "      <td>...</td>\n",
       "      <td>...</td>\n",
       "      <td>...</td>\n",
       "      <td>...</td>\n",
       "      <td>...</td>\n",
       "      <td>...</td>\n",
       "      <td>...</td>\n",
       "      <td>...</td>\n",
       "      <td>...</td>\n",
       "      <td>...</td>\n",
       "      <td>...</td>\n",
       "      <td>...</td>\n",
       "      <td>...</td>\n",
       "      <td>...</td>\n",
       "      <td>...</td>\n",
       "      <td>...</td>\n",
       "      <td>...</td>\n",
       "      <td>...</td>\n",
       "      <td>...</td>\n",
       "      <td>...</td>\n",
       "    </tr>\n",
       "    <tr>\n",
       "      <th>19234</th>\n",
       "      <td>261962</td>\n",
       "      <td>https://sofifa.com/player/261962/defu-song/220002</td>\n",
       "      <td>Song Defu</td>\n",
       "      <td>宋德福</td>\n",
       "      <td>CDM</td>\n",
       "      <td>47</td>\n",
       "      <td>52</td>\n",
       "      <td>70000.0</td>\n",
       "      <td>1000.0</td>\n",
       "      <td>22</td>\n",
       "      <td>...</td>\n",
       "      <td>46+2</td>\n",
       "      <td>46+2</td>\n",
       "      <td>46+2</td>\n",
       "      <td>48+2</td>\n",
       "      <td>15+2</td>\n",
       "      <td>https://cdn.sofifa.net/players/261/962/22_120.png</td>\n",
       "      <td>https://cdn.sofifa.net/teams/112541/60.png</td>\n",
       "      <td>https://cdn.sofifa.net/flags/cn.png</td>\n",
       "      <td>NaN</td>\n",
       "      <td>https://cdn.sofifa.net/flags/cn.png</td>\n",
       "    </tr>\n",
       "    <tr>\n",
       "      <th>19235</th>\n",
       "      <td>262040</td>\n",
       "      <td>https://sofifa.com/player/262040/caoimhin-port...</td>\n",
       "      <td>C. Porter</td>\n",
       "      <td>Caoimhin Porter</td>\n",
       "      <td>CM</td>\n",
       "      <td>47</td>\n",
       "      <td>59</td>\n",
       "      <td>110000.0</td>\n",
       "      <td>500.0</td>\n",
       "      <td>19</td>\n",
       "      <td>...</td>\n",
       "      <td>44+2</td>\n",
       "      <td>44+2</td>\n",
       "      <td>44+2</td>\n",
       "      <td>48+2</td>\n",
       "      <td>14+2</td>\n",
       "      <td>https://cdn.sofifa.net/players/262/040/22_120.png</td>\n",
       "      <td>https://cdn.sofifa.net/teams/445/60.png</td>\n",
       "      <td>https://cdn.sofifa.net/flags/ie.png</td>\n",
       "      <td>NaN</td>\n",
       "      <td>https://cdn.sofifa.net/flags/ie.png</td>\n",
       "    </tr>\n",
       "    <tr>\n",
       "      <th>19236</th>\n",
       "      <td>262760</td>\n",
       "      <td>https://sofifa.com/player/262760/nathan-logue/...</td>\n",
       "      <td>N. Logue</td>\n",
       "      <td>Nathan Logue-Cunningham</td>\n",
       "      <td>CM</td>\n",
       "      <td>47</td>\n",
       "      <td>55</td>\n",
       "      <td>100000.0</td>\n",
       "      <td>500.0</td>\n",
       "      <td>21</td>\n",
       "      <td>...</td>\n",
       "      <td>45+2</td>\n",
       "      <td>45+2</td>\n",
       "      <td>45+2</td>\n",
       "      <td>47+2</td>\n",
       "      <td>12+2</td>\n",
       "      <td>https://cdn.sofifa.net/players/262/760/22_120.png</td>\n",
       "      <td>https://cdn.sofifa.net/teams/111131/60.png</td>\n",
       "      <td>https://cdn.sofifa.net/flags/ie.png</td>\n",
       "      <td>NaN</td>\n",
       "      <td>https://cdn.sofifa.net/flags/ie.png</td>\n",
       "    </tr>\n",
       "    <tr>\n",
       "      <th>19237</th>\n",
       "      <td>262820</td>\n",
       "      <td>https://sofifa.com/player/262820/luke-rudden/2...</td>\n",
       "      <td>L. Rudden</td>\n",
       "      <td>Luke Rudden</td>\n",
       "      <td>ST</td>\n",
       "      <td>47</td>\n",
       "      <td>60</td>\n",
       "      <td>110000.0</td>\n",
       "      <td>500.0</td>\n",
       "      <td>19</td>\n",
       "      <td>...</td>\n",
       "      <td>26+2</td>\n",
       "      <td>26+2</td>\n",
       "      <td>26+2</td>\n",
       "      <td>32+2</td>\n",
       "      <td>15+2</td>\n",
       "      <td>https://cdn.sofifa.net/players/262/820/22_120.png</td>\n",
       "      <td>https://cdn.sofifa.net/teams/111131/60.png</td>\n",
       "      <td>https://cdn.sofifa.net/flags/ie.png</td>\n",
       "      <td>NaN</td>\n",
       "      <td>https://cdn.sofifa.net/flags/ie.png</td>\n",
       "    </tr>\n",
       "    <tr>\n",
       "      <th>19238</th>\n",
       "      <td>264540</td>\n",
       "      <td>https://sofifa.com/player/264540/emanuel-lalch...</td>\n",
       "      <td>E. Lalchhanchhuaha</td>\n",
       "      <td>Emanuel Lalchhanchhuaha</td>\n",
       "      <td>CAM</td>\n",
       "      <td>47</td>\n",
       "      <td>60</td>\n",
       "      <td>110000.0</td>\n",
       "      <td>500.0</td>\n",
       "      <td>19</td>\n",
       "      <td>...</td>\n",
       "      <td>41+2</td>\n",
       "      <td>41+2</td>\n",
       "      <td>41+2</td>\n",
       "      <td>45+2</td>\n",
       "      <td>16+2</td>\n",
       "      <td>https://cdn.sofifa.net/players/264/540/22_120.png</td>\n",
       "      <td>https://cdn.sofifa.net/teams/113040/60.png</td>\n",
       "      <td>https://cdn.sofifa.net/flags/in.png</td>\n",
       "      <td>NaN</td>\n",
       "      <td>https://cdn.sofifa.net/flags/in.png</td>\n",
       "    </tr>\n",
       "  </tbody>\n",
       "</table>\n",
       "<p>19239 rows × 110 columns</p>\n",
       "</div>"
      ],
      "text/plain": [
       "       sofifa_id                                         player_url  \\\n",
       "0         158023  https://sofifa.com/player/158023/lionel-messi/...   \n",
       "1         188545  https://sofifa.com/player/188545/robert-lewand...   \n",
       "2          20801  https://sofifa.com/player/20801/c-ronaldo-dos-...   \n",
       "3         190871  https://sofifa.com/player/190871/neymar-da-sil...   \n",
       "4         192985  https://sofifa.com/player/192985/kevin-de-bruy...   \n",
       "...          ...                                                ...   \n",
       "19234     261962  https://sofifa.com/player/261962/defu-song/220002   \n",
       "19235     262040  https://sofifa.com/player/262040/caoimhin-port...   \n",
       "19236     262760  https://sofifa.com/player/262760/nathan-logue/...   \n",
       "19237     262820  https://sofifa.com/player/262820/luke-rudden/2...   \n",
       "19238     264540  https://sofifa.com/player/264540/emanuel-lalch...   \n",
       "\n",
       "               short_name                            long_name  \\\n",
       "0                L. Messi       Lionel Andrés Messi Cuccittini   \n",
       "1          R. Lewandowski                   Robert Lewandowski   \n",
       "2       Cristiano Ronaldo  Cristiano Ronaldo dos Santos Aveiro   \n",
       "3               Neymar Jr        Neymar da Silva Santos Júnior   \n",
       "4            K. De Bruyne                      Kevin De Bruyne   \n",
       "...                   ...                                  ...   \n",
       "19234           Song Defu                                  宋德福   \n",
       "19235           C. Porter                      Caoimhin Porter   \n",
       "19236            N. Logue              Nathan Logue-Cunningham   \n",
       "19237           L. Rudden                          Luke Rudden   \n",
       "19238  E. Lalchhanchhuaha              Emanuel Lalchhanchhuaha   \n",
       "\n",
       "      player_positions  overall  potential    value_eur  wage_eur  age  ...  \\\n",
       "0           RW, ST, CF       93         93   78000000.0  320000.0   34  ...   \n",
       "1                   ST       92         92  119500000.0  270000.0   32  ...   \n",
       "2               ST, LW       91         91   45000000.0  270000.0   36  ...   \n",
       "3              LW, CAM       91         91  129000000.0  270000.0   29  ...   \n",
       "4              CM, CAM       91         91  125500000.0  350000.0   30  ...   \n",
       "...                ...      ...        ...          ...       ...  ...  ...   \n",
       "19234              CDM       47         52      70000.0    1000.0   22  ...   \n",
       "19235               CM       47         59     110000.0     500.0   19  ...   \n",
       "19236               CM       47         55     100000.0     500.0   21  ...   \n",
       "19237               ST       47         60     110000.0     500.0   19  ...   \n",
       "19238              CAM       47         60     110000.0     500.0   19  ...   \n",
       "\n",
       "        lcb    cb   rcb    rb    gk  \\\n",
       "0      50+3  50+3  50+3  61+3  19+3   \n",
       "1      60+3  60+3  60+3  61+3  19+3   \n",
       "2      53+3  53+3  53+3  60+3  20+3   \n",
       "3      50+3  50+3  50+3  62+3  20+3   \n",
       "4      69+3  69+3  69+3  75+3  21+3   \n",
       "...     ...   ...   ...   ...   ...   \n",
       "19234  46+2  46+2  46+2  48+2  15+2   \n",
       "19235  44+2  44+2  44+2  48+2  14+2   \n",
       "19236  45+2  45+2  45+2  47+2  12+2   \n",
       "19237  26+2  26+2  26+2  32+2  15+2   \n",
       "19238  41+2  41+2  41+2  45+2  16+2   \n",
       "\n",
       "                                         player_face_url  \\\n",
       "0      https://cdn.sofifa.net/players/158/023/22_120.png   \n",
       "1      https://cdn.sofifa.net/players/188/545/22_120.png   \n",
       "2      https://cdn.sofifa.net/players/020/801/22_120.png   \n",
       "3      https://cdn.sofifa.net/players/190/871/22_120.png   \n",
       "4      https://cdn.sofifa.net/players/192/985/22_120.png   \n",
       "...                                                  ...   \n",
       "19234  https://cdn.sofifa.net/players/261/962/22_120.png   \n",
       "19235  https://cdn.sofifa.net/players/262/040/22_120.png   \n",
       "19236  https://cdn.sofifa.net/players/262/760/22_120.png   \n",
       "19237  https://cdn.sofifa.net/players/262/820/22_120.png   \n",
       "19238  https://cdn.sofifa.net/players/264/540/22_120.png   \n",
       "\n",
       "                                    club_logo_url  \\\n",
       "0          https://cdn.sofifa.net/teams/73/60.png   \n",
       "1          https://cdn.sofifa.net/teams/21/60.png   \n",
       "2          https://cdn.sofifa.net/teams/11/60.png   \n",
       "3          https://cdn.sofifa.net/teams/73/60.png   \n",
       "4          https://cdn.sofifa.net/teams/10/60.png   \n",
       "...                                           ...   \n",
       "19234  https://cdn.sofifa.net/teams/112541/60.png   \n",
       "19235     https://cdn.sofifa.net/teams/445/60.png   \n",
       "19236  https://cdn.sofifa.net/teams/111131/60.png   \n",
       "19237  https://cdn.sofifa.net/teams/111131/60.png   \n",
       "19238  https://cdn.sofifa.net/teams/113040/60.png   \n",
       "\n",
       "                                 club_flag_url  \\\n",
       "0          https://cdn.sofifa.net/flags/fr.png   \n",
       "1          https://cdn.sofifa.net/flags/de.png   \n",
       "2      https://cdn.sofifa.net/flags/gb-eng.png   \n",
       "3          https://cdn.sofifa.net/flags/fr.png   \n",
       "4      https://cdn.sofifa.net/flags/gb-eng.png   \n",
       "...                                        ...   \n",
       "19234      https://cdn.sofifa.net/flags/cn.png   \n",
       "19235      https://cdn.sofifa.net/flags/ie.png   \n",
       "19236      https://cdn.sofifa.net/flags/ie.png   \n",
       "19237      https://cdn.sofifa.net/flags/ie.png   \n",
       "19238      https://cdn.sofifa.net/flags/in.png   \n",
       "\n",
       "                                nation_logo_url  \\\n",
       "0      https://cdn.sofifa.net/teams/1369/60.png   \n",
       "1      https://cdn.sofifa.net/teams/1353/60.png   \n",
       "2      https://cdn.sofifa.net/teams/1354/60.png   \n",
       "3                                           NaN   \n",
       "4      https://cdn.sofifa.net/teams/1325/60.png   \n",
       "...                                         ...   \n",
       "19234                                       NaN   \n",
       "19235                                       NaN   \n",
       "19236                                       NaN   \n",
       "19237                                       NaN   \n",
       "19238                                       NaN   \n",
       "\n",
       "                           nation_flag_url  \n",
       "0      https://cdn.sofifa.net/flags/ar.png  \n",
       "1      https://cdn.sofifa.net/flags/pl.png  \n",
       "2      https://cdn.sofifa.net/flags/pt.png  \n",
       "3      https://cdn.sofifa.net/flags/br.png  \n",
       "4      https://cdn.sofifa.net/flags/be.png  \n",
       "...                                    ...  \n",
       "19234  https://cdn.sofifa.net/flags/cn.png  \n",
       "19235  https://cdn.sofifa.net/flags/ie.png  \n",
       "19236  https://cdn.sofifa.net/flags/ie.png  \n",
       "19237  https://cdn.sofifa.net/flags/ie.png  \n",
       "19238  https://cdn.sofifa.net/flags/in.png  \n",
       "\n",
       "[19239 rows x 110 columns]"
      ]
     },
     "execution_count": 3,
     "metadata": {},
     "output_type": "execute_result"
    }
   ],
   "source": [
    "# Load the data into a DataFrame!\n",
    "df = pd.read_csv('fifa22.csv.gz')\n",
    "df"
   ]
  },
  {
   "cell_type": "code",
   "execution_count": 6,
   "metadata": {},
   "outputs": [
    {
     "data": {
      "text/plain": [
       "(19239, 110)"
      ]
     },
     "execution_count": 6,
     "metadata": {},
     "output_type": "execute_result"
    }
   ],
   "source": [
    "df.shape"
   ]
  },
  {
   "cell_type": "code",
   "execution_count": 7,
   "metadata": {},
   "outputs": [
    {
     "name": "stdout",
     "output_type": "stream",
     "text": [
      "<class 'pandas.core.frame.DataFrame'>\n",
      "RangeIndex: 19239 entries, 0 to 19238\n",
      "Columns: 110 entries, sofifa_id to nation_flag_url\n",
      "dtypes: float64(16), int64(44), object(50)\n",
      "memory usage: 16.1+ MB\n"
     ]
    }
   ],
   "source": [
    "df.info()"
   ]
  },
  {
   "cell_type": "code",
   "execution_count": 8,
   "metadata": {},
   "outputs": [
    {
     "name": "stdout",
     "output_type": "stream",
     "text": [
      "age, attacking_crossing, attacking_finishing, attacking_heading_accuracy, attacking_short_passing, attacking_volleys, body_type, cam, cb, cdm, cf, club_contract_valid_until, club_flag_url, club_jersey_number, club_joined, club_loaned_from, club_logo_url, club_name, club_position, club_team_id, cm, defending, defending_marking_awareness, defending_sliding_tackle, defending_standing_tackle, dob, dribbling, gk, goalkeeping_diving, goalkeeping_handling, goalkeeping_kicking, goalkeeping_positioning, goalkeeping_reflexes, goalkeeping_speed, height_cm, international_reputation, lam, lb, lcb, lcm, ldm, league_level, league_name, lf, lm, long_name, ls, lw, lwb, mentality_aggression, mentality_composure, mentality_interceptions, mentality_penalties, mentality_positioning, mentality_vision, movement_acceleration, movement_agility, movement_balance, movement_reactions, movement_sprint_speed, nation_flag_url, nation_jersey_number, nation_logo_url, nation_position, nation_team_id, nationality_id, nationality_name, overall, pace, passing, physic, player_face_url, player_positions, player_tags, player_traits, player_url, potential, power_jumping, power_long_shots, power_shot_power, power_stamina, power_strength, preferred_foot, ram, rb, rcb, rcm, rdm, real_face, release_clause_eur, rf, rm, rs, rw, rwb, shooting, short_name, skill_ball_control, skill_curve, skill_dribbling, skill_fk_accuracy, skill_long_passing, skill_moves, sofifa_id, st, value_eur, wage_eur, weak_foot, weight_kg, work_rate\n"
     ]
    }
   ],
   "source": [
    "print(', '.join(sorted(df.columns)))"
   ]
  },
  {
   "cell_type": "code",
   "execution_count": 11,
   "metadata": {},
   "outputs": [
    {
     "data": {
      "text/plain": [
       "701"
      ]
     },
     "execution_count": 11,
     "metadata": {},
     "output_type": "execute_result"
    }
   ],
   "source": [
    "# How many clubs are in the data set?\n",
    "df['club_name'].nunique()"
   ]
  },
  {
   "cell_type": "code",
   "execution_count": 12,
   "metadata": {},
   "outputs": [
    {
     "data": {
      "text/plain": [
       "61"
      ]
     },
     "execution_count": 12,
     "metadata": {},
     "output_type": "execute_result"
    }
   ],
   "source": [
    "df['club_name'].isnull().sum()"
   ]
  },
  {
   "cell_type": "code",
   "execution_count": 13,
   "metadata": {},
   "outputs": [
    {
     "data": {
      "text/plain": [
       "nationality_name\n",
       "England    1719\n",
       "dtype: int64"
      ]
     },
     "execution_count": 13,
     "metadata": {},
     "output_type": "execute_result"
    }
   ],
   "source": [
    "# Which nationality is the most frequent?\n",
    "df.value_counts('nationality_name')[:1]"
   ]
  },
  {
   "cell_type": "code",
   "execution_count": 20,
   "metadata": {
    "scrolled": true
   },
   "outputs": [
    {
     "data": {
      "text/html": [
       "<div>\n",
       "<style scoped>\n",
       "    .dataframe tbody tr th:only-of-type {\n",
       "        vertical-align: middle;\n",
       "    }\n",
       "\n",
       "    .dataframe tbody tr th {\n",
       "        vertical-align: top;\n",
       "    }\n",
       "\n",
       "    .dataframe thead th {\n",
       "        text-align: right;\n",
       "    }\n",
       "</style>\n",
       "<table border=\"1\" class=\"dataframe\">\n",
       "  <thead>\n",
       "    <tr style=\"text-align: right;\">\n",
       "      <th></th>\n",
       "      <th>nationality_id</th>\n",
       "      <th>nationality_name</th>\n",
       "      <th>0</th>\n",
       "    </tr>\n",
       "  </thead>\n",
       "  <tbody>\n",
       "    <tr>\n",
       "      <th>0</th>\n",
       "      <td>1</td>\n",
       "      <td>Albania</td>\n",
       "      <td>46</td>\n",
       "    </tr>\n",
       "    <tr>\n",
       "      <th>1</th>\n",
       "      <td>2</td>\n",
       "      <td>Andorra</td>\n",
       "      <td>1</td>\n",
       "    </tr>\n",
       "    <tr>\n",
       "      <th>2</th>\n",
       "      <td>3</td>\n",
       "      <td>Armenia</td>\n",
       "      <td>7</td>\n",
       "    </tr>\n",
       "    <tr>\n",
       "      <th>3</th>\n",
       "      <td>4</td>\n",
       "      <td>Austria</td>\n",
       "      <td>319</td>\n",
       "    </tr>\n",
       "    <tr>\n",
       "      <th>4</th>\n",
       "      <td>5</td>\n",
       "      <td>Azerbaijan</td>\n",
       "      <td>8</td>\n",
       "    </tr>\n",
       "    <tr>\n",
       "      <th>...</th>\n",
       "      <td>...</td>\n",
       "      <td>...</td>\n",
       "      <td>...</td>\n",
       "    </tr>\n",
       "    <tr>\n",
       "      <th>158</th>\n",
       "      <td>208</td>\n",
       "      <td>Estonia</td>\n",
       "      <td>1</td>\n",
       "    </tr>\n",
       "    <tr>\n",
       "      <th>159</th>\n",
       "      <td>213</td>\n",
       "      <td>Chinese Taipei</td>\n",
       "      <td>2</td>\n",
       "    </tr>\n",
       "    <tr>\n",
       "      <th>160</th>\n",
       "      <td>214</td>\n",
       "      <td>Comoros</td>\n",
       "      <td>8</td>\n",
       "    </tr>\n",
       "    <tr>\n",
       "      <th>161</th>\n",
       "      <td>218</td>\n",
       "      <td>South Sudan</td>\n",
       "      <td>5</td>\n",
       "    </tr>\n",
       "    <tr>\n",
       "      <th>162</th>\n",
       "      <td>219</td>\n",
       "      <td>Kosovo</td>\n",
       "      <td>46</td>\n",
       "    </tr>\n",
       "  </tbody>\n",
       "</table>\n",
       "<p>163 rows × 3 columns</p>\n",
       "</div>"
      ],
      "text/plain": [
       "     nationality_id nationality_name    0\n",
       "0                 1          Albania   46\n",
       "1                 2          Andorra    1\n",
       "2                 3          Armenia    7\n",
       "3                 4          Austria  319\n",
       "4                 5       Azerbaijan    8\n",
       "..              ...              ...  ...\n",
       "158             208          Estonia    1\n",
       "159             213   Chinese Taipei    2\n",
       "160             214          Comoros    8\n",
       "161             218      South Sudan    5\n",
       "162             219           Kosovo   46\n",
       "\n",
       "[163 rows x 3 columns]"
      ]
     },
     "execution_count": 20,
     "metadata": {},
     "output_type": "execute_result"
    }
   ],
   "source": [
    "df.groupby(['nationality_id', 'nationality_name']).size().reset_index()"
   ]
  },
  {
   "cell_type": "code",
   "execution_count": 18,
   "metadata": {},
   "outputs": [
    {
     "data": {
      "text/plain": [
       "163"
      ]
     },
     "execution_count": 18,
     "metadata": {},
     "output_type": "execute_result"
    }
   ],
   "source": [
    "df.nationality_name.nunique()"
   ]
  },
  {
   "cell_type": "code",
   "execution_count": 19,
   "metadata": {},
   "outputs": [
    {
     "data": {
      "text/plain": [
       "163"
      ]
     },
     "execution_count": 19,
     "metadata": {},
     "output_type": "execute_result"
    }
   ],
   "source": [
    "df.nationality_id.nunique()"
   ]
  },
  {
   "cell_type": "code",
   "execution_count": 14,
   "metadata": {},
   "outputs": [
    {
     "data": {
      "text/plain": [
       "25.210821768283175"
      ]
     },
     "execution_count": 14,
     "metadata": {},
     "output_type": "execute_result"
    }
   ],
   "source": [
    "# What is the average age?\n",
    "df['age'].mean()"
   ]
  },
  {
   "cell_type": "code",
   "execution_count": 15,
   "metadata": {},
   "outputs": [
    {
     "data": {
      "text/plain": [
       "0"
      ]
     },
     "execution_count": 15,
     "metadata": {},
     "output_type": "execute_result"
    }
   ],
   "source": [
    "df['age'].isnull().sum()"
   ]
  },
  {
   "cell_type": "code",
   "execution_count": 21,
   "metadata": {
    "scrolled": true
   },
   "outputs": [
    {
     "data": {
      "text/plain": [
       "sofifa_id                                                      254704\n",
       "player_url          https://sofifa.com/player/254704/kazuyoshi-miu...\n",
       "short_name                                                   K. Miura\n",
       "long_name                                                       三浦 知良\n",
       "player_positions                                                   ST\n",
       "                                          ...                        \n",
       "player_face_url     https://cdn.sofifa.net/players/254/704/22_120.png\n",
       "club_logo_url              https://cdn.sofifa.net/teams/113197/60.png\n",
       "club_flag_url                     https://cdn.sofifa.net/flags/jp.png\n",
       "nation_logo_url                                                   NaN\n",
       "nation_flag_url                   https://cdn.sofifa.net/flags/jp.png\n",
       "Name: 16209, Length: 110, dtype: object"
      ]
     },
     "execution_count": 21,
     "metadata": {},
     "output_type": "execute_result"
    }
   ],
   "source": [
    "# Who is the oldest player?\n",
    "df.loc[df.age.idxmax()]"
   ]
  },
  {
   "cell_type": "code",
   "execution_count": 23,
   "metadata": {},
   "outputs": [
    {
     "data": {
      "text/html": [
       "<div>\n",
       "<style scoped>\n",
       "    .dataframe tbody tr th:only-of-type {\n",
       "        vertical-align: middle;\n",
       "    }\n",
       "\n",
       "    .dataframe tbody tr th {\n",
       "        vertical-align: top;\n",
       "    }\n",
       "\n",
       "    .dataframe thead th {\n",
       "        text-align: right;\n",
       "    }\n",
       "</style>\n",
       "<table border=\"1\" class=\"dataframe\">\n",
       "  <thead>\n",
       "    <tr style=\"text-align: right;\">\n",
       "      <th></th>\n",
       "      <th>sofifa_id</th>\n",
       "      <th>player_url</th>\n",
       "      <th>short_name</th>\n",
       "      <th>long_name</th>\n",
       "      <th>player_positions</th>\n",
       "      <th>overall</th>\n",
       "      <th>potential</th>\n",
       "      <th>value_eur</th>\n",
       "      <th>wage_eur</th>\n",
       "      <th>age</th>\n",
       "      <th>...</th>\n",
       "      <th>lcb</th>\n",
       "      <th>cb</th>\n",
       "      <th>rcb</th>\n",
       "      <th>rb</th>\n",
       "      <th>gk</th>\n",
       "      <th>player_face_url</th>\n",
       "      <th>club_logo_url</th>\n",
       "      <th>club_flag_url</th>\n",
       "      <th>nation_logo_url</th>\n",
       "      <th>nation_flag_url</th>\n",
       "    </tr>\n",
       "  </thead>\n",
       "  <tbody>\n",
       "    <tr>\n",
       "      <th>16209</th>\n",
       "      <td>254704</td>\n",
       "      <td>https://sofifa.com/player/254704/kazuyoshi-miu...</td>\n",
       "      <td>K. Miura</td>\n",
       "      <td>三浦 知良</td>\n",
       "      <td>ST</td>\n",
       "      <td>59</td>\n",
       "      <td>59</td>\n",
       "      <td>NaN</td>\n",
       "      <td>700.0</td>\n",
       "      <td>54</td>\n",
       "      <td>...</td>\n",
       "      <td>32+2</td>\n",
       "      <td>32+2</td>\n",
       "      <td>32+2</td>\n",
       "      <td>31+2</td>\n",
       "      <td>12+2</td>\n",
       "      <td>https://cdn.sofifa.net/players/254/704/22_120.png</td>\n",
       "      <td>https://cdn.sofifa.net/teams/113197/60.png</td>\n",
       "      <td>https://cdn.sofifa.net/flags/jp.png</td>\n",
       "      <td>NaN</td>\n",
       "      <td>https://cdn.sofifa.net/flags/jp.png</td>\n",
       "    </tr>\n",
       "  </tbody>\n",
       "</table>\n",
       "<p>1 rows × 110 columns</p>\n",
       "</div>"
      ],
      "text/plain": [
       "       sofifa_id                                         player_url  \\\n",
       "16209     254704  https://sofifa.com/player/254704/kazuyoshi-miu...   \n",
       "\n",
       "      short_name long_name player_positions  overall  potential  value_eur  \\\n",
       "16209   K. Miura     三浦 知良               ST       59         59        NaN   \n",
       "\n",
       "       wage_eur  age  ...   lcb    cb   rcb    rb    gk  \\\n",
       "16209     700.0   54  ...  32+2  32+2  32+2  31+2  12+2   \n",
       "\n",
       "                                         player_face_url  \\\n",
       "16209  https://cdn.sofifa.net/players/254/704/22_120.png   \n",
       "\n",
       "                                    club_logo_url  \\\n",
       "16209  https://cdn.sofifa.net/teams/113197/60.png   \n",
       "\n",
       "                             club_flag_url  nation_logo_url  \\\n",
       "16209  https://cdn.sofifa.net/flags/jp.png              NaN   \n",
       "\n",
       "                           nation_flag_url  \n",
       "16209  https://cdn.sofifa.net/flags/jp.png  \n",
       "\n",
       "[1 rows x 110 columns]"
      ]
     },
     "execution_count": 23,
     "metadata": {},
     "output_type": "execute_result"
    }
   ],
   "source": [
    "df[df.age == df.age.max()]"
   ]
  },
  {
   "cell_type": "code",
   "execution_count": 26,
   "metadata": {},
   "outputs": [
    {
     "data": {
      "text/plain": [
       "short_name             K. Miura\n",
       "age                          54\n",
       "club_name           Yokohama FC\n",
       "player_positions             ST\n",
       "Name: 16209, dtype: object"
      ]
     },
     "execution_count": 26,
     "metadata": {},
     "output_type": "execute_result"
    }
   ],
   "source": [
    "# What is his position?\n",
    "df.loc[df.age.idxmax()][['short_name', 'nationality_name', 'age', 'club_name', 'player_positions']]"
   ]
  },
  {
   "cell_type": "code",
   "execution_count": 30,
   "metadata": {},
   "outputs": [
    {
     "data": {
      "text/html": [
       "<div>\n",
       "<style scoped>\n",
       "    .dataframe tbody tr th:only-of-type {\n",
       "        vertical-align: middle;\n",
       "    }\n",
       "\n",
       "    .dataframe tbody tr th {\n",
       "        vertical-align: top;\n",
       "    }\n",
       "\n",
       "    .dataframe thead th {\n",
       "        text-align: right;\n",
       "    }\n",
       "</style>\n",
       "<table border=\"1\" class=\"dataframe\">\n",
       "  <thead>\n",
       "    <tr style=\"text-align: right;\">\n",
       "      <th></th>\n",
       "      <th>short_name</th>\n",
       "      <th>age</th>\n",
       "      <th>nationality_name</th>\n",
       "      <th>club_name</th>\n",
       "      <th>player_positions</th>\n",
       "      <th>movement_sprint_speed</th>\n",
       "    </tr>\n",
       "  </thead>\n",
       "  <tbody>\n",
       "    <tr>\n",
       "      <th>6</th>\n",
       "      <td>K. Mbappé</td>\n",
       "      <td>22</td>\n",
       "      <td>France</td>\n",
       "      <td>Paris Saint-Germain</td>\n",
       "      <td>ST, LW</td>\n",
       "      <td>97</td>\n",
       "    </tr>\n",
       "    <tr>\n",
       "      <th>763</th>\n",
       "      <td>Adama Traoré</td>\n",
       "      <td>25</td>\n",
       "      <td>Spain</td>\n",
       "      <td>Wolverhampton Wanderers</td>\n",
       "      <td>RW, RWB</td>\n",
       "      <td>96</td>\n",
       "    </tr>\n",
       "    <tr>\n",
       "      <th>274</th>\n",
       "      <td>A. Davies</td>\n",
       "      <td>20</td>\n",
       "      <td>Canada</td>\n",
       "      <td>FC Bayern München</td>\n",
       "      <td>LB, LM</td>\n",
       "      <td>96</td>\n",
       "    </tr>\n",
       "    <tr>\n",
       "      <th>1060</th>\n",
       "      <td>D. James</td>\n",
       "      <td>23</td>\n",
       "      <td>Wales</td>\n",
       "      <td>Leeds United</td>\n",
       "      <td>RM, LM</td>\n",
       "      <td>95</td>\n",
       "    </tr>\n",
       "    <tr>\n",
       "      <th>3534</th>\n",
       "      <td>G. Holtmann</td>\n",
       "      <td>26</td>\n",
       "      <td>Philippines</td>\n",
       "      <td>VfL Bochum 1848</td>\n",
       "      <td>LM, LW, RW</td>\n",
       "      <td>95</td>\n",
       "    </tr>\n",
       "    <tr>\n",
       "      <th>95</th>\n",
       "      <td>A. Hakimi</td>\n",
       "      <td>22</td>\n",
       "      <td>Morocco</td>\n",
       "      <td>Paris Saint-Germain</td>\n",
       "      <td>RB, RWB</td>\n",
       "      <td>95</td>\n",
       "    </tr>\n",
       "    <tr>\n",
       "      <th>499</th>\n",
       "      <td>Vinícius Jr.</td>\n",
       "      <td>20</td>\n",
       "      <td>Brazil</td>\n",
       "      <td>Real Madrid CF</td>\n",
       "      <td>LW</td>\n",
       "      <td>95</td>\n",
       "    </tr>\n",
       "    <tr>\n",
       "      <th>9150</th>\n",
       "      <td>M. Ajani</td>\n",
       "      <td>27</td>\n",
       "      <td>Germany</td>\n",
       "      <td>MSV Duisburg</td>\n",
       "      <td>RM, RB</td>\n",
       "      <td>94</td>\n",
       "    </tr>\n",
       "    <tr>\n",
       "      <th>1730</th>\n",
       "      <td>G. Nkoudou</td>\n",
       "      <td>26</td>\n",
       "      <td>France</td>\n",
       "      <td>Beşiktaş JK</td>\n",
       "      <td>LM, LW</td>\n",
       "      <td>94</td>\n",
       "    </tr>\n",
       "    <tr>\n",
       "      <th>137</th>\n",
       "      <td>T. Hernández</td>\n",
       "      <td>23</td>\n",
       "      <td>France</td>\n",
       "      <td>AC Milan</td>\n",
       "      <td>LB</td>\n",
       "      <td>94</td>\n",
       "    </tr>\n",
       "  </tbody>\n",
       "</table>\n",
       "</div>"
      ],
      "text/plain": [
       "        short_name  age nationality_name                club_name  \\\n",
       "6        K. Mbappé   22           France      Paris Saint-Germain   \n",
       "763   Adama Traoré   25            Spain  Wolverhampton Wanderers   \n",
       "274      A. Davies   20           Canada        FC Bayern München   \n",
       "1060      D. James   23            Wales             Leeds United   \n",
       "3534   G. Holtmann   26      Philippines          VfL Bochum 1848   \n",
       "95       A. Hakimi   22          Morocco      Paris Saint-Germain   \n",
       "499   Vinícius Jr.   20           Brazil           Real Madrid CF   \n",
       "9150      M. Ajani   27          Germany             MSV Duisburg   \n",
       "1730    G. Nkoudou   26           France              Beşiktaş JK   \n",
       "137   T. Hernández   23           France                 AC Milan   \n",
       "\n",
       "     player_positions  movement_sprint_speed  \n",
       "6              ST, LW                     97  \n",
       "763           RW, RWB                     96  \n",
       "274            LB, LM                     96  \n",
       "1060           RM, LM                     95  \n",
       "3534       LM, LW, RW                     95  \n",
       "95            RB, RWB                     95  \n",
       "499                LW                     95  \n",
       "9150           RM, RB                     94  \n",
       "1730           LM, LW                     94  \n",
       "137                LB                     94  "
      ]
     },
     "execution_count": 30,
     "metadata": {},
     "output_type": "execute_result"
    }
   ],
   "source": [
    "# Who are the 10 fastest players (based on movement_sprint_speed)?\n",
    "columns = ['short_name', 'age', 'nationality_name', 'club_name', 'player_positions', 'movement_sprint_speed']\n",
    "df.sort_values('movement_sprint_speed')[::-1][:10][columns]"
   ]
  },
  {
   "cell_type": "code",
   "execution_count": 4,
   "metadata": {},
   "outputs": [
    {
     "data": {
      "text/plain": [
       "'Brentford'"
      ]
     },
     "execution_count": 4,
     "metadata": {},
     "output_type": "execute_result"
    }
   ],
   "source": [
    "# Which is the team with the highest number of nationalities?\n",
    "df.groupby('club_name')['nationality_name'].nunique().idxmax()"
   ]
  },
  {
   "cell_type": "code",
   "execution_count": 32,
   "metadata": {},
   "outputs": [
    {
     "data": {
      "text/plain": [
       "club_name\n",
       "Brentford     19\n",
       "LOSC Lille    19\n",
       "Watford       19\n",
       "Name: nationality_name, dtype: int64"
      ]
     },
     "execution_count": 32,
     "metadata": {},
     "output_type": "execute_result"
    }
   ],
   "source": [
    "se = df.groupby('club_name')['nationality_name'].nunique()\n",
    "se[se == se.max()]"
   ]
  },
  {
   "cell_type": "code",
   "execution_count": 33,
   "metadata": {},
   "outputs": [
    {
     "data": {
      "text/html": [
       "<div>\n",
       "<style scoped>\n",
       "    .dataframe tbody tr th:only-of-type {\n",
       "        vertical-align: middle;\n",
       "    }\n",
       "\n",
       "    .dataframe tbody tr th {\n",
       "        vertical-align: top;\n",
       "    }\n",
       "\n",
       "    .dataframe thead th {\n",
       "        text-align: right;\n",
       "    }\n",
       "</style>\n",
       "<table border=\"1\" class=\"dataframe\">\n",
       "  <thead>\n",
       "    <tr style=\"text-align: right;\">\n",
       "      <th></th>\n",
       "      <th>sofifa_id</th>\n",
       "      <th>player_url</th>\n",
       "      <th>short_name</th>\n",
       "      <th>long_name</th>\n",
       "      <th>player_positions</th>\n",
       "      <th>overall</th>\n",
       "      <th>potential</th>\n",
       "      <th>value_eur</th>\n",
       "      <th>wage_eur</th>\n",
       "      <th>age</th>\n",
       "      <th>...</th>\n",
       "      <th>lcb</th>\n",
       "      <th>cb</th>\n",
       "      <th>rcb</th>\n",
       "      <th>rb</th>\n",
       "      <th>gk</th>\n",
       "      <th>player_face_url</th>\n",
       "      <th>club_logo_url</th>\n",
       "      <th>club_flag_url</th>\n",
       "      <th>nation_logo_url</th>\n",
       "      <th>nation_flag_url</th>\n",
       "    </tr>\n",
       "  </thead>\n",
       "  <tbody>\n",
       "    <tr>\n",
       "      <th>946</th>\n",
       "      <td>205186</td>\n",
       "      <td>https://sofifa.com/player/205186/paulo-gazzani...</td>\n",
       "      <td>P. Gazzaniga</td>\n",
       "      <td>Paulo Dino Gazzaniga</td>\n",
       "      <td>GK</td>\n",
       "      <td>77</td>\n",
       "      <td>77</td>\n",
       "      <td>7000000.0</td>\n",
       "      <td>43000.0</td>\n",
       "      <td>29</td>\n",
       "      <td>...</td>\n",
       "      <td>32+2</td>\n",
       "      <td>32+2</td>\n",
       "      <td>32+2</td>\n",
       "      <td>33+2</td>\n",
       "      <td>76+1</td>\n",
       "      <td>https://cdn.sofifa.net/players/205/186/22_120.png</td>\n",
       "      <td>https://cdn.sofifa.net/teams/144/60.png</td>\n",
       "      <td>https://cdn.sofifa.net/flags/gb-eng.png</td>\n",
       "      <td>NaN</td>\n",
       "      <td>https://cdn.sofifa.net/flags/ar.png</td>\n",
       "    </tr>\n",
       "    <tr>\n",
       "      <th>1575</th>\n",
       "      <td>195202</td>\n",
       "      <td>https://sofifa.com/player/195202/tom-cairney/2...</td>\n",
       "      <td>T. Cairney</td>\n",
       "      <td>Tom Cairney</td>\n",
       "      <td>CAM, CM</td>\n",
       "      <td>75</td>\n",
       "      <td>75</td>\n",
       "      <td>5500000.0</td>\n",
       "      <td>49000.0</td>\n",
       "      <td>30</td>\n",
       "      <td>...</td>\n",
       "      <td>63+2</td>\n",
       "      <td>63+2</td>\n",
       "      <td>63+2</td>\n",
       "      <td>66+2</td>\n",
       "      <td>17+2</td>\n",
       "      <td>https://cdn.sofifa.net/players/195/202/22_120.png</td>\n",
       "      <td>https://cdn.sofifa.net/teams/144/60.png</td>\n",
       "      <td>https://cdn.sofifa.net/flags/gb-eng.png</td>\n",
       "      <td>NaN</td>\n",
       "      <td>https://cdn.sofifa.net/flags/gb-sct.png</td>\n",
       "    </tr>\n",
       "    <tr>\n",
       "      <th>1709</th>\n",
       "      <td>215716</td>\n",
       "      <td>https://sofifa.com/player/215716/aleksandar-mi...</td>\n",
       "      <td>A. Mitrović</td>\n",
       "      <td>Aleksandar Mitrović</td>\n",
       "      <td>ST</td>\n",
       "      <td>75</td>\n",
       "      <td>76</td>\n",
       "      <td>6500000.0</td>\n",
       "      <td>53000.0</td>\n",
       "      <td>26</td>\n",
       "      <td>...</td>\n",
       "      <td>48+2</td>\n",
       "      <td>48+2</td>\n",
       "      <td>48+2</td>\n",
       "      <td>43+2</td>\n",
       "      <td>19+2</td>\n",
       "      <td>https://cdn.sofifa.net/players/215/716/22_120.png</td>\n",
       "      <td>https://cdn.sofifa.net/teams/144/60.png</td>\n",
       "      <td>https://cdn.sofifa.net/flags/gb-eng.png</td>\n",
       "      <td>NaN</td>\n",
       "      <td>https://cdn.sofifa.net/flags/rs.png</td>\n",
       "    </tr>\n",
       "    <tr>\n",
       "      <th>1712</th>\n",
       "      <td>216266</td>\n",
       "      <td>https://sofifa.com/player/216266/kenny-tete/22...</td>\n",
       "      <td>K. Tete</td>\n",
       "      <td>Kenny Joelle Tete</td>\n",
       "      <td>RB</td>\n",
       "      <td>75</td>\n",
       "      <td>78</td>\n",
       "      <td>7000000.0</td>\n",
       "      <td>42000.0</td>\n",
       "      <td>25</td>\n",
       "      <td>...</td>\n",
       "      <td>73+2</td>\n",
       "      <td>73+2</td>\n",
       "      <td>73+2</td>\n",
       "      <td>73+2</td>\n",
       "      <td>16+2</td>\n",
       "      <td>https://cdn.sofifa.net/players/216/266/22_120.png</td>\n",
       "      <td>https://cdn.sofifa.net/teams/144/60.png</td>\n",
       "      <td>https://cdn.sofifa.net/flags/gb-eng.png</td>\n",
       "      <td>NaN</td>\n",
       "      <td>https://cdn.sofifa.net/flags/nl.png</td>\n",
       "    </tr>\n",
       "    <tr>\n",
       "      <th>1736</th>\n",
       "      <td>220710</td>\n",
       "      <td>https://sofifa.com/player/220710/harry-wilson/...</td>\n",
       "      <td>H. Wilson</td>\n",
       "      <td>Harry Wilson</td>\n",
       "      <td>CAM, RM</td>\n",
       "      <td>75</td>\n",
       "      <td>81</td>\n",
       "      <td>9000000.0</td>\n",
       "      <td>42000.0</td>\n",
       "      <td>24</td>\n",
       "      <td>...</td>\n",
       "      <td>50+2</td>\n",
       "      <td>50+2</td>\n",
       "      <td>50+2</td>\n",
       "      <td>59+2</td>\n",
       "      <td>18+2</td>\n",
       "      <td>https://cdn.sofifa.net/players/220/710/22_120.png</td>\n",
       "      <td>https://cdn.sofifa.net/teams/144/60.png</td>\n",
       "      <td>https://cdn.sofifa.net/flags/gb-eng.png</td>\n",
       "      <td>https://cdn.sofifa.net/teams/1367/60.png</td>\n",
       "      <td>https://cdn.sofifa.net/flags/gb-wls.png</td>\n",
       "    </tr>\n",
       "    <tr>\n",
       "      <th>2078</th>\n",
       "      <td>203502</td>\n",
       "      <td>https://sofifa.com/player/203502/bobby-decordo...</td>\n",
       "      <td>B. Decordova-Reid</td>\n",
       "      <td>Bobby De Cordova-Reid</td>\n",
       "      <td>RM, ST</td>\n",
       "      <td>74</td>\n",
       "      <td>74</td>\n",
       "      <td>4200000.0</td>\n",
       "      <td>47000.0</td>\n",
       "      <td>28</td>\n",
       "      <td>...</td>\n",
       "      <td>60+2</td>\n",
       "      <td>60+2</td>\n",
       "      <td>60+2</td>\n",
       "      <td>66+2</td>\n",
       "      <td>17+2</td>\n",
       "      <td>https://cdn.sofifa.net/players/203/502/22_120.png</td>\n",
       "      <td>https://cdn.sofifa.net/teams/144/60.png</td>\n",
       "      <td>https://cdn.sofifa.net/flags/gb-eng.png</td>\n",
       "      <td>NaN</td>\n",
       "      <td>https://cdn.sofifa.net/flags/jm.png</td>\n",
       "    </tr>\n",
       "    <tr>\n",
       "      <th>2079</th>\n",
       "      <td>203505</td>\n",
       "      <td>https://sofifa.com/player/203505/joe-bryan/220002</td>\n",
       "      <td>J. Bryan</td>\n",
       "      <td>Joe Bryan</td>\n",
       "      <td>LB, LWB</td>\n",
       "      <td>74</td>\n",
       "      <td>75</td>\n",
       "      <td>4400000.0</td>\n",
       "      <td>41000.0</td>\n",
       "      <td>27</td>\n",
       "      <td>...</td>\n",
       "      <td>70+2</td>\n",
       "      <td>70+2</td>\n",
       "      <td>70+2</td>\n",
       "      <td>72+2</td>\n",
       "      <td>19+2</td>\n",
       "      <td>https://cdn.sofifa.net/players/203/505/22_120.png</td>\n",
       "      <td>https://cdn.sofifa.net/teams/144/60.png</td>\n",
       "      <td>https://cdn.sofifa.net/flags/gb-eng.png</td>\n",
       "      <td>NaN</td>\n",
       "      <td>https://cdn.sofifa.net/flags/gb-eng.png</td>\n",
       "    </tr>\n",
       "    <tr>\n",
       "      <th>2097</th>\n",
       "      <td>205897</td>\n",
       "      <td>https://sofifa.com/player/205897/nathaniel-cha...</td>\n",
       "      <td>N. Chalobah</td>\n",
       "      <td>Nathaniel Chalobah</td>\n",
       "      <td>CDM, CM</td>\n",
       "      <td>74</td>\n",
       "      <td>76</td>\n",
       "      <td>4700000.0</td>\n",
       "      <td>41000.0</td>\n",
       "      <td>26</td>\n",
       "      <td>...</td>\n",
       "      <td>72+2</td>\n",
       "      <td>72+2</td>\n",
       "      <td>72+2</td>\n",
       "      <td>69+2</td>\n",
       "      <td>16+2</td>\n",
       "      <td>https://cdn.sofifa.net/players/205/897/22_120.png</td>\n",
       "      <td>https://cdn.sofifa.net/teams/144/60.png</td>\n",
       "      <td>https://cdn.sofifa.net/flags/gb-eng.png</td>\n",
       "      <td>NaN</td>\n",
       "      <td>https://cdn.sofifa.net/flags/gb-eng.png</td>\n",
       "    </tr>\n",
       "    <tr>\n",
       "      <th>2099</th>\n",
       "      <td>205990</td>\n",
       "      <td>https://sofifa.com/player/205990/harrison-reed...</td>\n",
       "      <td>H. Reed</td>\n",
       "      <td>Harrison Reed</td>\n",
       "      <td>CDM, CM</td>\n",
       "      <td>74</td>\n",
       "      <td>79</td>\n",
       "      <td>5500000.0</td>\n",
       "      <td>41000.0</td>\n",
       "      <td>26</td>\n",
       "      <td>...</td>\n",
       "      <td>71+2</td>\n",
       "      <td>71+2</td>\n",
       "      <td>71+2</td>\n",
       "      <td>72+2</td>\n",
       "      <td>17+2</td>\n",
       "      <td>https://cdn.sofifa.net/players/205/990/22_120.png</td>\n",
       "      <td>https://cdn.sofifa.net/teams/144/60.png</td>\n",
       "      <td>https://cdn.sofifa.net/flags/gb-eng.png</td>\n",
       "      <td>NaN</td>\n",
       "      <td>https://cdn.sofifa.net/flags/gb-eng.png</td>\n",
       "    </tr>\n",
       "    <tr>\n",
       "      <th>2162</th>\n",
       "      <td>216451</td>\n",
       "      <td>https://sofifa.com/player/216451/jean-michael-...</td>\n",
       "      <td>J. Seri</td>\n",
       "      <td>Jean Michaël Seri</td>\n",
       "      <td>CDM, CM</td>\n",
       "      <td>74</td>\n",
       "      <td>74</td>\n",
       "      <td>3600000.0</td>\n",
       "      <td>43000.0</td>\n",
       "      <td>29</td>\n",
       "      <td>...</td>\n",
       "      <td>67+2</td>\n",
       "      <td>67+2</td>\n",
       "      <td>67+2</td>\n",
       "      <td>70+2</td>\n",
       "      <td>18+2</td>\n",
       "      <td>https://cdn.sofifa.net/players/216/451/22_120.png</td>\n",
       "      <td>https://cdn.sofifa.net/teams/144/60.png</td>\n",
       "      <td>https://cdn.sofifa.net/flags/gb-eng.png</td>\n",
       "      <td>NaN</td>\n",
       "      <td>https://cdn.sofifa.net/flags/ci.png</td>\n",
       "    </tr>\n",
       "    <tr>\n",
       "      <th>2190</th>\n",
       "      <td>222104</td>\n",
       "      <td>https://sofifa.com/player/222104/tosin-adarabi...</td>\n",
       "      <td>T. Adarabioyo</td>\n",
       "      <td>Oluwatosin Adarabioyo</td>\n",
       "      <td>CB</td>\n",
       "      <td>74</td>\n",
       "      <td>82</td>\n",
       "      <td>8500000.0</td>\n",
       "      <td>35000.0</td>\n",
       "      <td>23</td>\n",
       "      <td>...</td>\n",
       "      <td>74+2</td>\n",
       "      <td>74+2</td>\n",
       "      <td>74+2</td>\n",
       "      <td>69+2</td>\n",
       "      <td>17+2</td>\n",
       "      <td>https://cdn.sofifa.net/players/222/104/22_120.png</td>\n",
       "      <td>https://cdn.sofifa.net/teams/144/60.png</td>\n",
       "      <td>https://cdn.sofifa.net/flags/gb-eng.png</td>\n",
       "      <td>NaN</td>\n",
       "      <td>https://cdn.sofifa.net/flags/gb-eng.png</td>\n",
       "    </tr>\n",
       "    <tr>\n",
       "      <th>2470</th>\n",
       "      <td>177723</td>\n",
       "      <td>https://sofifa.com/player/177723/fabricio-agos...</td>\n",
       "      <td>Fabricio</td>\n",
       "      <td>Fabricio Martín Agosto Ramírez</td>\n",
       "      <td>GK</td>\n",
       "      <td>73</td>\n",
       "      <td>73</td>\n",
       "      <td>1000000.0</td>\n",
       "      <td>31000.0</td>\n",
       "      <td>33</td>\n",
       "      <td>...</td>\n",
       "      <td>29+2</td>\n",
       "      <td>29+2</td>\n",
       "      <td>29+2</td>\n",
       "      <td>31+2</td>\n",
       "      <td>72+1</td>\n",
       "      <td>https://cdn.sofifa.net/players/177/723/22_120.png</td>\n",
       "      <td>https://cdn.sofifa.net/teams/144/60.png</td>\n",
       "      <td>https://cdn.sofifa.net/flags/gb-eng.png</td>\n",
       "      <td>NaN</td>\n",
       "      <td>https://cdn.sofifa.net/flags/es.png</td>\n",
       "    </tr>\n",
       "    <tr>\n",
       "      <th>2681</th>\n",
       "      <td>212267</td>\n",
       "      <td>https://sofifa.com/player/212267/ivan-ricardo-...</td>\n",
       "      <td>Ivan Cavaleiro</td>\n",
       "      <td>Ivan Ricardo Neves Abreu Cavaleiro</td>\n",
       "      <td>ST, LM, RM</td>\n",
       "      <td>73</td>\n",
       "      <td>73</td>\n",
       "      <td>3300000.0</td>\n",
       "      <td>45000.0</td>\n",
       "      <td>27</td>\n",
       "      <td>...</td>\n",
       "      <td>52+2</td>\n",
       "      <td>52+2</td>\n",
       "      <td>52+2</td>\n",
       "      <td>57+2</td>\n",
       "      <td>18+2</td>\n",
       "      <td>https://cdn.sofifa.net/players/212/267/22_120.png</td>\n",
       "      <td>https://cdn.sofifa.net/teams/144/60.png</td>\n",
       "      <td>https://cdn.sofifa.net/flags/gb-eng.png</td>\n",
       "      <td>NaN</td>\n",
       "      <td>https://cdn.sofifa.net/flags/pt.png</td>\n",
       "    </tr>\n",
       "    <tr>\n",
       "      <th>2778</th>\n",
       "      <td>222951</td>\n",
       "      <td>https://sofifa.com/player/222951/marek-rodak/2...</td>\n",
       "      <td>M. Rodák</td>\n",
       "      <td>Marek Rodák</td>\n",
       "      <td>GK</td>\n",
       "      <td>73</td>\n",
       "      <td>80</td>\n",
       "      <td>5000000.0</td>\n",
       "      <td>25000.0</td>\n",
       "      <td>24</td>\n",
       "      <td>...</td>\n",
       "      <td>26+2</td>\n",
       "      <td>26+2</td>\n",
       "      <td>26+2</td>\n",
       "      <td>26+2</td>\n",
       "      <td>72+2</td>\n",
       "      <td>https://cdn.sofifa.net/players/222/951/22_120.png</td>\n",
       "      <td>https://cdn.sofifa.net/teams/144/60.png</td>\n",
       "      <td>https://cdn.sofifa.net/flags/gb-eng.png</td>\n",
       "      <td>NaN</td>\n",
       "      <td>https://cdn.sofifa.net/flags/sk.png</td>\n",
       "    </tr>\n",
       "    <tr>\n",
       "      <th>2850</th>\n",
       "      <td>229348</td>\n",
       "      <td>https://sofifa.com/player/229348/antonee-robin...</td>\n",
       "      <td>A. Robinson</td>\n",
       "      <td>Antonee Robinson</td>\n",
       "      <td>LB, LWB</td>\n",
       "      <td>73</td>\n",
       "      <td>80</td>\n",
       "      <td>6000000.0</td>\n",
       "      <td>33000.0</td>\n",
       "      <td>23</td>\n",
       "      <td>...</td>\n",
       "      <td>68+2</td>\n",
       "      <td>68+2</td>\n",
       "      <td>68+2</td>\n",
       "      <td>71+2</td>\n",
       "      <td>18+2</td>\n",
       "      <td>https://cdn.sofifa.net/players/229/348/22_120.png</td>\n",
       "      <td>https://cdn.sofifa.net/teams/144/60.png</td>\n",
       "      <td>https://cdn.sofifa.net/flags/gb-eng.png</td>\n",
       "      <td>https://cdn.sofifa.net/teams/1387/60.png</td>\n",
       "      <td>https://cdn.sofifa.net/flags/us.png</td>\n",
       "    </tr>\n",
       "    <tr>\n",
       "      <th>3976</th>\n",
       "      <td>200138</td>\n",
       "      <td>https://sofifa.com/player/200138/michael-hecto...</td>\n",
       "      <td>M. Hector</td>\n",
       "      <td>Michael Hector</td>\n",
       "      <td>CB</td>\n",
       "      <td>71</td>\n",
       "      <td>72</td>\n",
       "      <td>1800000.0</td>\n",
       "      <td>31000.0</td>\n",
       "      <td>28</td>\n",
       "      <td>...</td>\n",
       "      <td>71+1</td>\n",
       "      <td>71+1</td>\n",
       "      <td>71+1</td>\n",
       "      <td>64+2</td>\n",
       "      <td>18+2</td>\n",
       "      <td>https://cdn.sofifa.net/players/200/138/22_120.png</td>\n",
       "      <td>https://cdn.sofifa.net/teams/144/60.png</td>\n",
       "      <td>https://cdn.sofifa.net/flags/gb-eng.png</td>\n",
       "      <td>NaN</td>\n",
       "      <td>https://cdn.sofifa.net/flags/jm.png</td>\n",
       "    </tr>\n",
       "    <tr>\n",
       "      <th>3986</th>\n",
       "      <td>200778</td>\n",
       "      <td>https://sofifa.com/player/200778/cyrus-christi...</td>\n",
       "      <td>C. Christie</td>\n",
       "      <td>Cyrus Sylvester Frederick Christie</td>\n",
       "      <td>RB, RWB</td>\n",
       "      <td>71</td>\n",
       "      <td>71</td>\n",
       "      <td>1700000.0</td>\n",
       "      <td>31000.0</td>\n",
       "      <td>28</td>\n",
       "      <td>...</td>\n",
       "      <td>67+2</td>\n",
       "      <td>67+2</td>\n",
       "      <td>67+2</td>\n",
       "      <td>69+2</td>\n",
       "      <td>17+2</td>\n",
       "      <td>https://cdn.sofifa.net/players/200/778/22_120.png</td>\n",
       "      <td>https://cdn.sofifa.net/teams/144/60.png</td>\n",
       "      <td>https://cdn.sofifa.net/flags/gb-eng.png</td>\n",
       "      <td>https://cdn.sofifa.net/teams/1355/60.png</td>\n",
       "      <td>https://cdn.sofifa.net/flags/ie.png</td>\n",
       "    </tr>\n",
       "    <tr>\n",
       "      <th>4012</th>\n",
       "      <td>202940</td>\n",
       "      <td>https://sofifa.com/player/202940/neeskens-keba...</td>\n",
       "      <td>N. Kebano</td>\n",
       "      <td>Neeskens Kebano</td>\n",
       "      <td>LM, LW</td>\n",
       "      <td>71</td>\n",
       "      <td>71</td>\n",
       "      <td>1800000.0</td>\n",
       "      <td>34000.0</td>\n",
       "      <td>29</td>\n",
       "      <td>...</td>\n",
       "      <td>46+2</td>\n",
       "      <td>46+2</td>\n",
       "      <td>46+2</td>\n",
       "      <td>53+2</td>\n",
       "      <td>20+2</td>\n",
       "      <td>https://cdn.sofifa.net/players/202/940/22_120.png</td>\n",
       "      <td>https://cdn.sofifa.net/teams/144/60.png</td>\n",
       "      <td>https://cdn.sofifa.net/flags/gb-eng.png</td>\n",
       "      <td>NaN</td>\n",
       "      <td>https://cdn.sofifa.net/flags/cd.png</td>\n",
       "    </tr>\n",
       "    <tr>\n",
       "      <th>4023</th>\n",
       "      <td>203910</td>\n",
       "      <td>https://sofifa.com/player/203910/anthony-knock...</td>\n",
       "      <td>A. Knockaert</td>\n",
       "      <td>Anthony Knockaert</td>\n",
       "      <td>RM, RW</td>\n",
       "      <td>71</td>\n",
       "      <td>71</td>\n",
       "      <td>1800000.0</td>\n",
       "      <td>34000.0</td>\n",
       "      <td>29</td>\n",
       "      <td>...</td>\n",
       "      <td>55+2</td>\n",
       "      <td>55+2</td>\n",
       "      <td>55+2</td>\n",
       "      <td>58+2</td>\n",
       "      <td>18+2</td>\n",
       "      <td>https://cdn.sofifa.net/players/203/910/22_120.png</td>\n",
       "      <td>https://cdn.sofifa.net/teams/144/60.png</td>\n",
       "      <td>https://cdn.sofifa.net/flags/gb-eng.png</td>\n",
       "      <td>NaN</td>\n",
       "      <td>https://cdn.sofifa.net/flags/fr.png</td>\n",
       "    </tr>\n",
       "    <tr>\n",
       "      <th>4386</th>\n",
       "      <td>235450</td>\n",
       "      <td>https://sofifa.com/player/235450/domingos-quin...</td>\n",
       "      <td>Domingos Quina</td>\n",
       "      <td>Domingos Quina</td>\n",
       "      <td>CAM, CM, LM</td>\n",
       "      <td>71</td>\n",
       "      <td>81</td>\n",
       "      <td>4200000.0</td>\n",
       "      <td>23000.0</td>\n",
       "      <td>21</td>\n",
       "      <td>...</td>\n",
       "      <td>49+2</td>\n",
       "      <td>49+2</td>\n",
       "      <td>49+2</td>\n",
       "      <td>56+2</td>\n",
       "      <td>16+2</td>\n",
       "      <td>https://cdn.sofifa.net/players/235/450/22_120.png</td>\n",
       "      <td>https://cdn.sofifa.net/teams/144/60.png</td>\n",
       "      <td>https://cdn.sofifa.net/flags/gb-eng.png</td>\n",
       "      <td>NaN</td>\n",
       "      <td>https://cdn.sofifa.net/flags/pt.png</td>\n",
       "    </tr>\n",
       "    <tr>\n",
       "      <th>4654</th>\n",
       "      <td>185349</td>\n",
       "      <td>https://sofifa.com/player/185349/denis-odoi/22...</td>\n",
       "      <td>D. Odoi</td>\n",
       "      <td>Denis Odoi</td>\n",
       "      <td>RB, CB</td>\n",
       "      <td>70</td>\n",
       "      <td>70</td>\n",
       "      <td>825000.0</td>\n",
       "      <td>26000.0</td>\n",
       "      <td>33</td>\n",
       "      <td>...</td>\n",
       "      <td>68+2</td>\n",
       "      <td>68+2</td>\n",
       "      <td>68+2</td>\n",
       "      <td>68+2</td>\n",
       "      <td>17+2</td>\n",
       "      <td>https://cdn.sofifa.net/players/185/349/22_120.png</td>\n",
       "      <td>https://cdn.sofifa.net/teams/144/60.png</td>\n",
       "      <td>https://cdn.sofifa.net/flags/gb-eng.png</td>\n",
       "      <td>NaN</td>\n",
       "      <td>https://cdn.sofifa.net/flags/be.png</td>\n",
       "    </tr>\n",
       "    <tr>\n",
       "      <th>4784</th>\n",
       "      <td>203485</td>\n",
       "      <td>https://sofifa.com/player/203485/terence-kongo...</td>\n",
       "      <td>T. Kongolo</td>\n",
       "      <td>Terence Kongolo</td>\n",
       "      <td>CB, LB</td>\n",
       "      <td>70</td>\n",
       "      <td>73</td>\n",
       "      <td>1800000.0</td>\n",
       "      <td>26000.0</td>\n",
       "      <td>27</td>\n",
       "      <td>...</td>\n",
       "      <td>70+2</td>\n",
       "      <td>70+2</td>\n",
       "      <td>70+2</td>\n",
       "      <td>68+2</td>\n",
       "      <td>17+2</td>\n",
       "      <td>https://cdn.sofifa.net/players/203/485/22_120.png</td>\n",
       "      <td>https://cdn.sofifa.net/teams/144/60.png</td>\n",
       "      <td>https://cdn.sofifa.net/flags/gb-eng.png</td>\n",
       "      <td>NaN</td>\n",
       "      <td>https://cdn.sofifa.net/flags/nl.png</td>\n",
       "    </tr>\n",
       "    <tr>\n",
       "      <th>4818</th>\n",
       "      <td>208534</td>\n",
       "      <td>https://sofifa.com/player/208534/alfie-mawson/...</td>\n",
       "      <td>A. Mawson</td>\n",
       "      <td>Alfie Mawson</td>\n",
       "      <td>CB</td>\n",
       "      <td>70</td>\n",
       "      <td>73</td>\n",
       "      <td>1800000.0</td>\n",
       "      <td>26000.0</td>\n",
       "      <td>27</td>\n",
       "      <td>...</td>\n",
       "      <td>70+2</td>\n",
       "      <td>70+2</td>\n",
       "      <td>70+2</td>\n",
       "      <td>62+2</td>\n",
       "      <td>18+2</td>\n",
       "      <td>https://cdn.sofifa.net/players/208/534/22_120.png</td>\n",
       "      <td>https://cdn.sofifa.net/teams/144/60.png</td>\n",
       "      <td>https://cdn.sofifa.net/flags/gb-eng.png</td>\n",
       "      <td>NaN</td>\n",
       "      <td>https://cdn.sofifa.net/flags/gb-eng.png</td>\n",
       "    </tr>\n",
       "    <tr>\n",
       "      <th>5602</th>\n",
       "      <td>198261</td>\n",
       "      <td>https://sofifa.com/player/198261/tim-ream/220002</td>\n",
       "      <td>T. Ream</td>\n",
       "      <td>Timothy Michael Ream</td>\n",
       "      <td>CB</td>\n",
       "      <td>69</td>\n",
       "      <td>69</td>\n",
       "      <td>675000.0</td>\n",
       "      <td>22000.0</td>\n",
       "      <td>33</td>\n",
       "      <td>...</td>\n",
       "      <td>69</td>\n",
       "      <td>69</td>\n",
       "      <td>69</td>\n",
       "      <td>66+2</td>\n",
       "      <td>17+2</td>\n",
       "      <td>https://cdn.sofifa.net/players/198/261/22_120.png</td>\n",
       "      <td>https://cdn.sofifa.net/teams/144/60.png</td>\n",
       "      <td>https://cdn.sofifa.net/flags/gb-eng.png</td>\n",
       "      <td>https://cdn.sofifa.net/teams/1387/60.png</td>\n",
       "      <td>https://cdn.sofifa.net/flags/us.png</td>\n",
       "    </tr>\n",
       "    <tr>\n",
       "      <th>5857</th>\n",
       "      <td>222079</td>\n",
       "      <td>https://sofifa.com/player/222079/josh-onomah/2...</td>\n",
       "      <td>J. Onomah</td>\n",
       "      <td>Josh Onomah</td>\n",
       "      <td>CM, CAM</td>\n",
       "      <td>69</td>\n",
       "      <td>76</td>\n",
       "      <td>2800000.0</td>\n",
       "      <td>21000.0</td>\n",
       "      <td>24</td>\n",
       "      <td>...</td>\n",
       "      <td>61+2</td>\n",
       "      <td>61+2</td>\n",
       "      <td>61+2</td>\n",
       "      <td>62+2</td>\n",
       "      <td>16+2</td>\n",
       "      <td>https://cdn.sofifa.net/players/222/079/22_120.png</td>\n",
       "      <td>https://cdn.sofifa.net/teams/144/60.png</td>\n",
       "      <td>https://cdn.sofifa.net/flags/gb-eng.png</td>\n",
       "      <td>NaN</td>\n",
       "      <td>https://cdn.sofifa.net/flags/gb-eng.png</td>\n",
       "    </tr>\n",
       "    <tr>\n",
       "      <th>7470</th>\n",
       "      <td>264337</td>\n",
       "      <td>https://sofifa.com/player/264337/rodrigo-muniz...</td>\n",
       "      <td>Rodrigo Muniz</td>\n",
       "      <td>Rodrigo Muniz Carvalho</td>\n",
       "      <td>ST</td>\n",
       "      <td>68</td>\n",
       "      <td>80</td>\n",
       "      <td>2900000.0</td>\n",
       "      <td>17000.0</td>\n",
       "      <td>20</td>\n",
       "      <td>...</td>\n",
       "      <td>47+2</td>\n",
       "      <td>47+2</td>\n",
       "      <td>47+2</td>\n",
       "      <td>47+2</td>\n",
       "      <td>18+2</td>\n",
       "      <td>https://cdn.sofifa.net/players/264/337/22_120.png</td>\n",
       "      <td>https://cdn.sofifa.net/teams/144/60.png</td>\n",
       "      <td>https://cdn.sofifa.net/flags/gb-eng.png</td>\n",
       "      <td>NaN</td>\n",
       "      <td>https://cdn.sofifa.net/flags/br.png</td>\n",
       "    </tr>\n",
       "    <tr>\n",
       "      <th>8564</th>\n",
       "      <td>256725</td>\n",
       "      <td>https://sofifa.com/player/256725/fabio-carvalh...</td>\n",
       "      <td>F. Carvalho</td>\n",
       "      <td>Fabio Carvalho</td>\n",
       "      <td>CAM</td>\n",
       "      <td>67</td>\n",
       "      <td>86</td>\n",
       "      <td>2600000.0</td>\n",
       "      <td>6000.0</td>\n",
       "      <td>18</td>\n",
       "      <td>...</td>\n",
       "      <td>40+2</td>\n",
       "      <td>40+2</td>\n",
       "      <td>40+2</td>\n",
       "      <td>48+2</td>\n",
       "      <td>15+2</td>\n",
       "      <td>https://cdn.sofifa.net/players/256/725/22_120.png</td>\n",
       "      <td>https://cdn.sofifa.net/teams/144/60.png</td>\n",
       "      <td>https://cdn.sofifa.net/flags/gb-eng.png</td>\n",
       "      <td>NaN</td>\n",
       "      <td>https://cdn.sofifa.net/flags/gb-eng.png</td>\n",
       "    </tr>\n",
       "    <tr>\n",
       "      <th>9399</th>\n",
       "      <td>239800</td>\n",
       "      <td>https://sofifa.com/player/239800/steven-sesseg...</td>\n",
       "      <td>S. Sessegnon</td>\n",
       "      <td>Zeze Steven Sessegnon</td>\n",
       "      <td>RB, LB</td>\n",
       "      <td>66</td>\n",
       "      <td>80</td>\n",
       "      <td>2000000.0</td>\n",
       "      <td>10000.0</td>\n",
       "      <td>21</td>\n",
       "      <td>...</td>\n",
       "      <td>61+2</td>\n",
       "      <td>61+2</td>\n",
       "      <td>61+2</td>\n",
       "      <td>64+2</td>\n",
       "      <td>17+2</td>\n",
       "      <td>https://cdn.sofifa.net/players/239/800/22_120.png</td>\n",
       "      <td>https://cdn.sofifa.net/teams/144/60.png</td>\n",
       "      <td>https://cdn.sofifa.net/flags/gb-eng.png</td>\n",
       "      <td>NaN</td>\n",
       "      <td>https://cdn.sofifa.net/flags/gb-eng.png</td>\n",
       "    </tr>\n",
       "    <tr>\n",
       "      <th>14659</th>\n",
       "      <td>241825</td>\n",
       "      <td>https://sofifa.com/player/241825/tyrese-franco...</td>\n",
       "      <td>T. Francois</td>\n",
       "      <td>Tyrese Jay Francois</td>\n",
       "      <td>CM</td>\n",
       "      <td>61</td>\n",
       "      <td>74</td>\n",
       "      <td>775000.0</td>\n",
       "      <td>7000.0</td>\n",
       "      <td>20</td>\n",
       "      <td>...</td>\n",
       "      <td>54+2</td>\n",
       "      <td>54+2</td>\n",
       "      <td>54+2</td>\n",
       "      <td>59+2</td>\n",
       "      <td>18+2</td>\n",
       "      <td>https://cdn.sofifa.net/players/241/825/22_120.png</td>\n",
       "      <td>https://cdn.sofifa.net/teams/144/60.png</td>\n",
       "      <td>https://cdn.sofifa.net/flags/gb-eng.png</td>\n",
       "      <td>NaN</td>\n",
       "      <td>https://cdn.sofifa.net/flags/au.png</td>\n",
       "    </tr>\n",
       "    <tr>\n",
       "      <th>14876</th>\n",
       "      <td>255206</td>\n",
       "      <td>https://sofifa.com/player/255206/jay-stansfiel...</td>\n",
       "      <td>J. Stansfield</td>\n",
       "      <td>Jay Stansfield</td>\n",
       "      <td>ST</td>\n",
       "      <td>61</td>\n",
       "      <td>81</td>\n",
       "      <td>900000.0</td>\n",
       "      <td>4000.0</td>\n",
       "      <td>18</td>\n",
       "      <td>...</td>\n",
       "      <td>36+2</td>\n",
       "      <td>36+2</td>\n",
       "      <td>36+2</td>\n",
       "      <td>42+2</td>\n",
       "      <td>13+2</td>\n",
       "      <td>https://cdn.sofifa.net/players/255/206/22_120.png</td>\n",
       "      <td>https://cdn.sofifa.net/teams/144/60.png</td>\n",
       "      <td>https://cdn.sofifa.net/flags/gb-eng.png</td>\n",
       "      <td>NaN</td>\n",
       "      <td>https://cdn.sofifa.net/flags/gb-eng.png</td>\n",
       "    </tr>\n",
       "  </tbody>\n",
       "</table>\n",
       "<p>30 rows × 110 columns</p>\n",
       "</div>"
      ],
      "text/plain": [
       "       sofifa_id                                         player_url  \\\n",
       "946       205186  https://sofifa.com/player/205186/paulo-gazzani...   \n",
       "1575      195202  https://sofifa.com/player/195202/tom-cairney/2...   \n",
       "1709      215716  https://sofifa.com/player/215716/aleksandar-mi...   \n",
       "1712      216266  https://sofifa.com/player/216266/kenny-tete/22...   \n",
       "1736      220710  https://sofifa.com/player/220710/harry-wilson/...   \n",
       "2078      203502  https://sofifa.com/player/203502/bobby-decordo...   \n",
       "2079      203505  https://sofifa.com/player/203505/joe-bryan/220002   \n",
       "2097      205897  https://sofifa.com/player/205897/nathaniel-cha...   \n",
       "2099      205990  https://sofifa.com/player/205990/harrison-reed...   \n",
       "2162      216451  https://sofifa.com/player/216451/jean-michael-...   \n",
       "2190      222104  https://sofifa.com/player/222104/tosin-adarabi...   \n",
       "2470      177723  https://sofifa.com/player/177723/fabricio-agos...   \n",
       "2681      212267  https://sofifa.com/player/212267/ivan-ricardo-...   \n",
       "2778      222951  https://sofifa.com/player/222951/marek-rodak/2...   \n",
       "2850      229348  https://sofifa.com/player/229348/antonee-robin...   \n",
       "3976      200138  https://sofifa.com/player/200138/michael-hecto...   \n",
       "3986      200778  https://sofifa.com/player/200778/cyrus-christi...   \n",
       "4012      202940  https://sofifa.com/player/202940/neeskens-keba...   \n",
       "4023      203910  https://sofifa.com/player/203910/anthony-knock...   \n",
       "4386      235450  https://sofifa.com/player/235450/domingos-quin...   \n",
       "4654      185349  https://sofifa.com/player/185349/denis-odoi/22...   \n",
       "4784      203485  https://sofifa.com/player/203485/terence-kongo...   \n",
       "4818      208534  https://sofifa.com/player/208534/alfie-mawson/...   \n",
       "5602      198261   https://sofifa.com/player/198261/tim-ream/220002   \n",
       "5857      222079  https://sofifa.com/player/222079/josh-onomah/2...   \n",
       "7470      264337  https://sofifa.com/player/264337/rodrigo-muniz...   \n",
       "8564      256725  https://sofifa.com/player/256725/fabio-carvalh...   \n",
       "9399      239800  https://sofifa.com/player/239800/steven-sesseg...   \n",
       "14659     241825  https://sofifa.com/player/241825/tyrese-franco...   \n",
       "14876     255206  https://sofifa.com/player/255206/jay-stansfiel...   \n",
       "\n",
       "              short_name                           long_name player_positions  \\\n",
       "946         P. Gazzaniga                Paulo Dino Gazzaniga               GK   \n",
       "1575          T. Cairney                         Tom Cairney          CAM, CM   \n",
       "1709         A. Mitrović                 Aleksandar Mitrović               ST   \n",
       "1712             K. Tete                   Kenny Joelle Tete               RB   \n",
       "1736           H. Wilson                        Harry Wilson          CAM, RM   \n",
       "2078   B. Decordova-Reid               Bobby De Cordova-Reid           RM, ST   \n",
       "2079            J. Bryan                           Joe Bryan          LB, LWB   \n",
       "2097         N. Chalobah                  Nathaniel Chalobah          CDM, CM   \n",
       "2099             H. Reed                       Harrison Reed          CDM, CM   \n",
       "2162             J. Seri                   Jean Michaël Seri          CDM, CM   \n",
       "2190       T. Adarabioyo               Oluwatosin Adarabioyo               CB   \n",
       "2470            Fabricio      Fabricio Martín Agosto Ramírez               GK   \n",
       "2681      Ivan Cavaleiro  Ivan Ricardo Neves Abreu Cavaleiro       ST, LM, RM   \n",
       "2778            M. Rodák                         Marek Rodák               GK   \n",
       "2850         A. Robinson                    Antonee Robinson          LB, LWB   \n",
       "3976           M. Hector                      Michael Hector               CB   \n",
       "3986         C. Christie  Cyrus Sylvester Frederick Christie          RB, RWB   \n",
       "4012           N. Kebano                     Neeskens Kebano           LM, LW   \n",
       "4023        A. Knockaert                   Anthony Knockaert           RM, RW   \n",
       "4386      Domingos Quina                      Domingos Quina      CAM, CM, LM   \n",
       "4654             D. Odoi                          Denis Odoi           RB, CB   \n",
       "4784          T. Kongolo                     Terence Kongolo           CB, LB   \n",
       "4818           A. Mawson                        Alfie Mawson               CB   \n",
       "5602             T. Ream                Timothy Michael Ream               CB   \n",
       "5857           J. Onomah                         Josh Onomah          CM, CAM   \n",
       "7470       Rodrigo Muniz              Rodrigo Muniz Carvalho               ST   \n",
       "8564         F. Carvalho                      Fabio Carvalho              CAM   \n",
       "9399        S. Sessegnon               Zeze Steven Sessegnon           RB, LB   \n",
       "14659        T. Francois                 Tyrese Jay Francois               CM   \n",
       "14876      J. Stansfield                      Jay Stansfield               ST   \n",
       "\n",
       "       overall  potential  value_eur  wage_eur  age  ...   lcb    cb   rcb  \\\n",
       "946         77         77  7000000.0   43000.0   29  ...  32+2  32+2  32+2   \n",
       "1575        75         75  5500000.0   49000.0   30  ...  63+2  63+2  63+2   \n",
       "1709        75         76  6500000.0   53000.0   26  ...  48+2  48+2  48+2   \n",
       "1712        75         78  7000000.0   42000.0   25  ...  73+2  73+2  73+2   \n",
       "1736        75         81  9000000.0   42000.0   24  ...  50+2  50+2  50+2   \n",
       "2078        74         74  4200000.0   47000.0   28  ...  60+2  60+2  60+2   \n",
       "2079        74         75  4400000.0   41000.0   27  ...  70+2  70+2  70+2   \n",
       "2097        74         76  4700000.0   41000.0   26  ...  72+2  72+2  72+2   \n",
       "2099        74         79  5500000.0   41000.0   26  ...  71+2  71+2  71+2   \n",
       "2162        74         74  3600000.0   43000.0   29  ...  67+2  67+2  67+2   \n",
       "2190        74         82  8500000.0   35000.0   23  ...  74+2  74+2  74+2   \n",
       "2470        73         73  1000000.0   31000.0   33  ...  29+2  29+2  29+2   \n",
       "2681        73         73  3300000.0   45000.0   27  ...  52+2  52+2  52+2   \n",
       "2778        73         80  5000000.0   25000.0   24  ...  26+2  26+2  26+2   \n",
       "2850        73         80  6000000.0   33000.0   23  ...  68+2  68+2  68+2   \n",
       "3976        71         72  1800000.0   31000.0   28  ...  71+1  71+1  71+1   \n",
       "3986        71         71  1700000.0   31000.0   28  ...  67+2  67+2  67+2   \n",
       "4012        71         71  1800000.0   34000.0   29  ...  46+2  46+2  46+2   \n",
       "4023        71         71  1800000.0   34000.0   29  ...  55+2  55+2  55+2   \n",
       "4386        71         81  4200000.0   23000.0   21  ...  49+2  49+2  49+2   \n",
       "4654        70         70   825000.0   26000.0   33  ...  68+2  68+2  68+2   \n",
       "4784        70         73  1800000.0   26000.0   27  ...  70+2  70+2  70+2   \n",
       "4818        70         73  1800000.0   26000.0   27  ...  70+2  70+2  70+2   \n",
       "5602        69         69   675000.0   22000.0   33  ...    69    69    69   \n",
       "5857        69         76  2800000.0   21000.0   24  ...  61+2  61+2  61+2   \n",
       "7470        68         80  2900000.0   17000.0   20  ...  47+2  47+2  47+2   \n",
       "8564        67         86  2600000.0    6000.0   18  ...  40+2  40+2  40+2   \n",
       "9399        66         80  2000000.0   10000.0   21  ...  61+2  61+2  61+2   \n",
       "14659       61         74   775000.0    7000.0   20  ...  54+2  54+2  54+2   \n",
       "14876       61         81   900000.0    4000.0   18  ...  36+2  36+2  36+2   \n",
       "\n",
       "         rb    gk                                    player_face_url  \\\n",
       "946    33+2  76+1  https://cdn.sofifa.net/players/205/186/22_120.png   \n",
       "1575   66+2  17+2  https://cdn.sofifa.net/players/195/202/22_120.png   \n",
       "1709   43+2  19+2  https://cdn.sofifa.net/players/215/716/22_120.png   \n",
       "1712   73+2  16+2  https://cdn.sofifa.net/players/216/266/22_120.png   \n",
       "1736   59+2  18+2  https://cdn.sofifa.net/players/220/710/22_120.png   \n",
       "2078   66+2  17+2  https://cdn.sofifa.net/players/203/502/22_120.png   \n",
       "2079   72+2  19+2  https://cdn.sofifa.net/players/203/505/22_120.png   \n",
       "2097   69+2  16+2  https://cdn.sofifa.net/players/205/897/22_120.png   \n",
       "2099   72+2  17+2  https://cdn.sofifa.net/players/205/990/22_120.png   \n",
       "2162   70+2  18+2  https://cdn.sofifa.net/players/216/451/22_120.png   \n",
       "2190   69+2  17+2  https://cdn.sofifa.net/players/222/104/22_120.png   \n",
       "2470   31+2  72+1  https://cdn.sofifa.net/players/177/723/22_120.png   \n",
       "2681   57+2  18+2  https://cdn.sofifa.net/players/212/267/22_120.png   \n",
       "2778   26+2  72+2  https://cdn.sofifa.net/players/222/951/22_120.png   \n",
       "2850   71+2  18+2  https://cdn.sofifa.net/players/229/348/22_120.png   \n",
       "3976   64+2  18+2  https://cdn.sofifa.net/players/200/138/22_120.png   \n",
       "3986   69+2  17+2  https://cdn.sofifa.net/players/200/778/22_120.png   \n",
       "4012   53+2  20+2  https://cdn.sofifa.net/players/202/940/22_120.png   \n",
       "4023   58+2  18+2  https://cdn.sofifa.net/players/203/910/22_120.png   \n",
       "4386   56+2  16+2  https://cdn.sofifa.net/players/235/450/22_120.png   \n",
       "4654   68+2  17+2  https://cdn.sofifa.net/players/185/349/22_120.png   \n",
       "4784   68+2  17+2  https://cdn.sofifa.net/players/203/485/22_120.png   \n",
       "4818   62+2  18+2  https://cdn.sofifa.net/players/208/534/22_120.png   \n",
       "5602   66+2  17+2  https://cdn.sofifa.net/players/198/261/22_120.png   \n",
       "5857   62+2  16+2  https://cdn.sofifa.net/players/222/079/22_120.png   \n",
       "7470   47+2  18+2  https://cdn.sofifa.net/players/264/337/22_120.png   \n",
       "8564   48+2  15+2  https://cdn.sofifa.net/players/256/725/22_120.png   \n",
       "9399   64+2  17+2  https://cdn.sofifa.net/players/239/800/22_120.png   \n",
       "14659  59+2  18+2  https://cdn.sofifa.net/players/241/825/22_120.png   \n",
       "14876  42+2  13+2  https://cdn.sofifa.net/players/255/206/22_120.png   \n",
       "\n",
       "                                 club_logo_url  \\\n",
       "946    https://cdn.sofifa.net/teams/144/60.png   \n",
       "1575   https://cdn.sofifa.net/teams/144/60.png   \n",
       "1709   https://cdn.sofifa.net/teams/144/60.png   \n",
       "1712   https://cdn.sofifa.net/teams/144/60.png   \n",
       "1736   https://cdn.sofifa.net/teams/144/60.png   \n",
       "2078   https://cdn.sofifa.net/teams/144/60.png   \n",
       "2079   https://cdn.sofifa.net/teams/144/60.png   \n",
       "2097   https://cdn.sofifa.net/teams/144/60.png   \n",
       "2099   https://cdn.sofifa.net/teams/144/60.png   \n",
       "2162   https://cdn.sofifa.net/teams/144/60.png   \n",
       "2190   https://cdn.sofifa.net/teams/144/60.png   \n",
       "2470   https://cdn.sofifa.net/teams/144/60.png   \n",
       "2681   https://cdn.sofifa.net/teams/144/60.png   \n",
       "2778   https://cdn.sofifa.net/teams/144/60.png   \n",
       "2850   https://cdn.sofifa.net/teams/144/60.png   \n",
       "3976   https://cdn.sofifa.net/teams/144/60.png   \n",
       "3986   https://cdn.sofifa.net/teams/144/60.png   \n",
       "4012   https://cdn.sofifa.net/teams/144/60.png   \n",
       "4023   https://cdn.sofifa.net/teams/144/60.png   \n",
       "4386   https://cdn.sofifa.net/teams/144/60.png   \n",
       "4654   https://cdn.sofifa.net/teams/144/60.png   \n",
       "4784   https://cdn.sofifa.net/teams/144/60.png   \n",
       "4818   https://cdn.sofifa.net/teams/144/60.png   \n",
       "5602   https://cdn.sofifa.net/teams/144/60.png   \n",
       "5857   https://cdn.sofifa.net/teams/144/60.png   \n",
       "7470   https://cdn.sofifa.net/teams/144/60.png   \n",
       "8564   https://cdn.sofifa.net/teams/144/60.png   \n",
       "9399   https://cdn.sofifa.net/teams/144/60.png   \n",
       "14659  https://cdn.sofifa.net/teams/144/60.png   \n",
       "14876  https://cdn.sofifa.net/teams/144/60.png   \n",
       "\n",
       "                                 club_flag_url  \\\n",
       "946    https://cdn.sofifa.net/flags/gb-eng.png   \n",
       "1575   https://cdn.sofifa.net/flags/gb-eng.png   \n",
       "1709   https://cdn.sofifa.net/flags/gb-eng.png   \n",
       "1712   https://cdn.sofifa.net/flags/gb-eng.png   \n",
       "1736   https://cdn.sofifa.net/flags/gb-eng.png   \n",
       "2078   https://cdn.sofifa.net/flags/gb-eng.png   \n",
       "2079   https://cdn.sofifa.net/flags/gb-eng.png   \n",
       "2097   https://cdn.sofifa.net/flags/gb-eng.png   \n",
       "2099   https://cdn.sofifa.net/flags/gb-eng.png   \n",
       "2162   https://cdn.sofifa.net/flags/gb-eng.png   \n",
       "2190   https://cdn.sofifa.net/flags/gb-eng.png   \n",
       "2470   https://cdn.sofifa.net/flags/gb-eng.png   \n",
       "2681   https://cdn.sofifa.net/flags/gb-eng.png   \n",
       "2778   https://cdn.sofifa.net/flags/gb-eng.png   \n",
       "2850   https://cdn.sofifa.net/flags/gb-eng.png   \n",
       "3976   https://cdn.sofifa.net/flags/gb-eng.png   \n",
       "3986   https://cdn.sofifa.net/flags/gb-eng.png   \n",
       "4012   https://cdn.sofifa.net/flags/gb-eng.png   \n",
       "4023   https://cdn.sofifa.net/flags/gb-eng.png   \n",
       "4386   https://cdn.sofifa.net/flags/gb-eng.png   \n",
       "4654   https://cdn.sofifa.net/flags/gb-eng.png   \n",
       "4784   https://cdn.sofifa.net/flags/gb-eng.png   \n",
       "4818   https://cdn.sofifa.net/flags/gb-eng.png   \n",
       "5602   https://cdn.sofifa.net/flags/gb-eng.png   \n",
       "5857   https://cdn.sofifa.net/flags/gb-eng.png   \n",
       "7470   https://cdn.sofifa.net/flags/gb-eng.png   \n",
       "8564   https://cdn.sofifa.net/flags/gb-eng.png   \n",
       "9399   https://cdn.sofifa.net/flags/gb-eng.png   \n",
       "14659  https://cdn.sofifa.net/flags/gb-eng.png   \n",
       "14876  https://cdn.sofifa.net/flags/gb-eng.png   \n",
       "\n",
       "                                nation_logo_url  \\\n",
       "946                                         NaN   \n",
       "1575                                        NaN   \n",
       "1709                                        NaN   \n",
       "1712                                        NaN   \n",
       "1736   https://cdn.sofifa.net/teams/1367/60.png   \n",
       "2078                                        NaN   \n",
       "2079                                        NaN   \n",
       "2097                                        NaN   \n",
       "2099                                        NaN   \n",
       "2162                                        NaN   \n",
       "2190                                        NaN   \n",
       "2470                                        NaN   \n",
       "2681                                        NaN   \n",
       "2778                                        NaN   \n",
       "2850   https://cdn.sofifa.net/teams/1387/60.png   \n",
       "3976                                        NaN   \n",
       "3986   https://cdn.sofifa.net/teams/1355/60.png   \n",
       "4012                                        NaN   \n",
       "4023                                        NaN   \n",
       "4386                                        NaN   \n",
       "4654                                        NaN   \n",
       "4784                                        NaN   \n",
       "4818                                        NaN   \n",
       "5602   https://cdn.sofifa.net/teams/1387/60.png   \n",
       "5857                                        NaN   \n",
       "7470                                        NaN   \n",
       "8564                                        NaN   \n",
       "9399                                        NaN   \n",
       "14659                                       NaN   \n",
       "14876                                       NaN   \n",
       "\n",
       "                               nation_flag_url  \n",
       "946        https://cdn.sofifa.net/flags/ar.png  \n",
       "1575   https://cdn.sofifa.net/flags/gb-sct.png  \n",
       "1709       https://cdn.sofifa.net/flags/rs.png  \n",
       "1712       https://cdn.sofifa.net/flags/nl.png  \n",
       "1736   https://cdn.sofifa.net/flags/gb-wls.png  \n",
       "2078       https://cdn.sofifa.net/flags/jm.png  \n",
       "2079   https://cdn.sofifa.net/flags/gb-eng.png  \n",
       "2097   https://cdn.sofifa.net/flags/gb-eng.png  \n",
       "2099   https://cdn.sofifa.net/flags/gb-eng.png  \n",
       "2162       https://cdn.sofifa.net/flags/ci.png  \n",
       "2190   https://cdn.sofifa.net/flags/gb-eng.png  \n",
       "2470       https://cdn.sofifa.net/flags/es.png  \n",
       "2681       https://cdn.sofifa.net/flags/pt.png  \n",
       "2778       https://cdn.sofifa.net/flags/sk.png  \n",
       "2850       https://cdn.sofifa.net/flags/us.png  \n",
       "3976       https://cdn.sofifa.net/flags/jm.png  \n",
       "3986       https://cdn.sofifa.net/flags/ie.png  \n",
       "4012       https://cdn.sofifa.net/flags/cd.png  \n",
       "4023       https://cdn.sofifa.net/flags/fr.png  \n",
       "4386       https://cdn.sofifa.net/flags/pt.png  \n",
       "4654       https://cdn.sofifa.net/flags/be.png  \n",
       "4784       https://cdn.sofifa.net/flags/nl.png  \n",
       "4818   https://cdn.sofifa.net/flags/gb-eng.png  \n",
       "5602       https://cdn.sofifa.net/flags/us.png  \n",
       "5857   https://cdn.sofifa.net/flags/gb-eng.png  \n",
       "7470       https://cdn.sofifa.net/flags/br.png  \n",
       "8564   https://cdn.sofifa.net/flags/gb-eng.png  \n",
       "9399   https://cdn.sofifa.net/flags/gb-eng.png  \n",
       "14659      https://cdn.sofifa.net/flags/au.png  \n",
       "14876  https://cdn.sofifa.net/flags/gb-eng.png  \n",
       "\n",
       "[30 rows x 110 columns]"
      ]
     },
     "execution_count": 33,
     "metadata": {},
     "output_type": "execute_result"
    }
   ],
   "source": [
    "# What is the number of players per nationality in Fulham\n",
    "df[df.club_name == 'Fulham']"
   ]
  },
  {
   "cell_type": "code",
   "execution_count": 34,
   "metadata": {},
   "outputs": [
    {
     "data": {
      "text/plain": [
       "nationality_name\n",
       "England                9\n",
       "Netherlands            2\n",
       "Portugal               2\n",
       "United States          2\n",
       "Jamaica                2\n",
       "Spain                  1\n",
       "Slovakia               1\n",
       "Serbia                 1\n",
       "Scotland               1\n",
       "Republic of Ireland    1\n",
       "Argentina              1\n",
       "Australia              1\n",
       "France                 1\n",
       "Côte d'Ivoire          1\n",
       "Congo DR               1\n",
       "Brazil                 1\n",
       "Belgium                1\n",
       "Wales                  1\n",
       "dtype: int64"
      ]
     },
     "execution_count": 34,
     "metadata": {},
     "output_type": "execute_result"
    }
   ],
   "source": [
    "df[df.club_name == 'Fulham'].value_counts('nationality_name')"
   ]
  },
  {
   "cell_type": "code",
   "execution_count": 6,
   "metadata": {},
   "outputs": [
    {
     "data": {
      "text/plain": [
       "49"
      ]
     },
     "execution_count": 6,
     "metadata": {},
     "output_type": "execute_result"
    }
   ],
   "source": [
    "# How many Hungarian players are there?\n",
    "(df['nationality_name'] == 'Hungary').sum()"
   ]
  },
  {
   "cell_type": "code",
   "execution_count": 7,
   "metadata": {
    "scrolled": true
   },
   "outputs": [
    {
     "data": {
      "text/plain": [
       "2"
      ]
     },
     "execution_count": 7,
     "metadata": {},
     "output_type": "execute_result"
    }
   ],
   "source": [
    "(df['nationality_name'] == 'Syria').sum()"
   ]
  },
  {
   "cell_type": "code",
   "execution_count": 8,
   "metadata": {},
   "outputs": [
    {
     "data": {
      "text/html": [
       "<div>\n",
       "<style scoped>\n",
       "    .dataframe tbody tr th:only-of-type {\n",
       "        vertical-align: middle;\n",
       "    }\n",
       "\n",
       "    .dataframe tbody tr th {\n",
       "        vertical-align: top;\n",
       "    }\n",
       "\n",
       "    .dataframe thead th {\n",
       "        text-align: right;\n",
       "    }\n",
       "</style>\n",
       "<table border=\"1\" class=\"dataframe\">\n",
       "  <thead>\n",
       "    <tr style=\"text-align: right;\">\n",
       "      <th></th>\n",
       "      <th>sofifa_id</th>\n",
       "      <th>player_url</th>\n",
       "      <th>short_name</th>\n",
       "      <th>long_name</th>\n",
       "      <th>player_positions</th>\n",
       "      <th>overall</th>\n",
       "      <th>potential</th>\n",
       "      <th>value_eur</th>\n",
       "      <th>wage_eur</th>\n",
       "      <th>age</th>\n",
       "      <th>...</th>\n",
       "      <th>lcb</th>\n",
       "      <th>cb</th>\n",
       "      <th>rcb</th>\n",
       "      <th>rb</th>\n",
       "      <th>gk</th>\n",
       "      <th>player_face_url</th>\n",
       "      <th>club_logo_url</th>\n",
       "      <th>club_flag_url</th>\n",
       "      <th>nation_logo_url</th>\n",
       "      <th>nation_flag_url</th>\n",
       "    </tr>\n",
       "  </thead>\n",
       "  <tbody>\n",
       "    <tr>\n",
       "      <th>1331</th>\n",
       "      <td>223627</td>\n",
       "      <td>https://sofifa.com/player/223627/omar-al-somah...</td>\n",
       "      <td>O. Al Somah</td>\n",
       "      <td>Omar Jehad Al Somah</td>\n",
       "      <td>ST</td>\n",
       "      <td>76</td>\n",
       "      <td>76</td>\n",
       "      <td>6000000.0</td>\n",
       "      <td>40000.0</td>\n",
       "      <td>32</td>\n",
       "      <td>...</td>\n",
       "      <td>54+2</td>\n",
       "      <td>54+2</td>\n",
       "      <td>54+2</td>\n",
       "      <td>56+2</td>\n",
       "      <td>18+2</td>\n",
       "      <td>https://cdn.sofifa.net/players/223/627/22_120.png</td>\n",
       "      <td>https://cdn.sofifa.net/teams/112387/60.png</td>\n",
       "      <td>https://cdn.sofifa.net/flags/sa.png</td>\n",
       "      <td>NaN</td>\n",
       "      <td>https://cdn.sofifa.net/flags/sy.png</td>\n",
       "    </tr>\n",
       "    <tr>\n",
       "      <th>6948</th>\n",
       "      <td>229210</td>\n",
       "      <td>https://sofifa.com/player/229210/mohammed-osma...</td>\n",
       "      <td>M. Osman</td>\n",
       "      <td>Mohammed Osman</td>\n",
       "      <td>CM, CDM</td>\n",
       "      <td>68</td>\n",
       "      <td>69</td>\n",
       "      <td>1400000.0</td>\n",
       "      <td>5000.0</td>\n",
       "      <td>27</td>\n",
       "      <td>...</td>\n",
       "      <td>55+2</td>\n",
       "      <td>55+2</td>\n",
       "      <td>55+2</td>\n",
       "      <td>57+2</td>\n",
       "      <td>18+2</td>\n",
       "      <td>https://cdn.sofifa.net/players/229/210/22_120.png</td>\n",
       "      <td>https://cdn.sofifa.net/teams/100646/60.png</td>\n",
       "      <td>https://cdn.sofifa.net/flags/nl.png</td>\n",
       "      <td>NaN</td>\n",
       "      <td>https://cdn.sofifa.net/flags/sy.png</td>\n",
       "    </tr>\n",
       "  </tbody>\n",
       "</table>\n",
       "<p>2 rows × 110 columns</p>\n",
       "</div>"
      ],
      "text/plain": [
       "      sofifa_id                                         player_url  \\\n",
       "1331     223627  https://sofifa.com/player/223627/omar-al-somah...   \n",
       "6948     229210  https://sofifa.com/player/229210/mohammed-osma...   \n",
       "\n",
       "       short_name            long_name player_positions  overall  potential  \\\n",
       "1331  O. Al Somah  Omar Jehad Al Somah               ST       76         76   \n",
       "6948     M. Osman       Mohammed Osman          CM, CDM       68         69   \n",
       "\n",
       "      value_eur  wage_eur  age  ...   lcb    cb   rcb    rb    gk  \\\n",
       "1331  6000000.0   40000.0   32  ...  54+2  54+2  54+2  56+2  18+2   \n",
       "6948  1400000.0    5000.0   27  ...  55+2  55+2  55+2  57+2  18+2   \n",
       "\n",
       "                                        player_face_url  \\\n",
       "1331  https://cdn.sofifa.net/players/223/627/22_120.png   \n",
       "6948  https://cdn.sofifa.net/players/229/210/22_120.png   \n",
       "\n",
       "                                   club_logo_url  \\\n",
       "1331  https://cdn.sofifa.net/teams/112387/60.png   \n",
       "6948  https://cdn.sofifa.net/teams/100646/60.png   \n",
       "\n",
       "                            club_flag_url  nation_logo_url  \\\n",
       "1331  https://cdn.sofifa.net/flags/sa.png              NaN   \n",
       "6948  https://cdn.sofifa.net/flags/nl.png              NaN   \n",
       "\n",
       "                          nation_flag_url  \n",
       "1331  https://cdn.sofifa.net/flags/sy.png  \n",
       "6948  https://cdn.sofifa.net/flags/sy.png  \n",
       "\n",
       "[2 rows x 110 columns]"
      ]
     },
     "execution_count": 8,
     "metadata": {},
     "output_type": "execute_result"
    }
   ],
   "source": [
    "df[df['nationality_name'] == 'Syria']"
   ]
  },
  {
   "cell_type": "code",
   "execution_count": 9,
   "metadata": {},
   "outputs": [
    {
     "data": {
      "text/plain": [
       "49"
      ]
     },
     "execution_count": 9,
     "metadata": {},
     "output_type": "execute_result"
    }
   ],
   "source": [
    "df.groupby('nationality_name').size()['Hungary']"
   ]
  },
  {
   "cell_type": "code",
   "execution_count": 15,
   "metadata": {},
   "outputs": [
    {
     "data": {
      "text/html": [
       "<div>\n",
       "<style scoped>\n",
       "    .dataframe tbody tr th:only-of-type {\n",
       "        vertical-align: middle;\n",
       "    }\n",
       "\n",
       "    .dataframe tbody tr th {\n",
       "        vertical-align: top;\n",
       "    }\n",
       "\n",
       "    .dataframe thead th {\n",
       "        text-align: right;\n",
       "    }\n",
       "</style>\n",
       "<table border=\"1\" class=\"dataframe\">\n",
       "  <thead>\n",
       "    <tr style=\"text-align: right;\">\n",
       "      <th></th>\n",
       "      <th>sofifa_id</th>\n",
       "      <th>player_url</th>\n",
       "      <th>short_name</th>\n",
       "      <th>long_name</th>\n",
       "      <th>player_positions</th>\n",
       "      <th>overall</th>\n",
       "      <th>potential</th>\n",
       "      <th>value_eur</th>\n",
       "      <th>wage_eur</th>\n",
       "      <th>age</th>\n",
       "      <th>...</th>\n",
       "      <th>lcb</th>\n",
       "      <th>cb</th>\n",
       "      <th>rcb</th>\n",
       "      <th>rb</th>\n",
       "      <th>gk</th>\n",
       "      <th>player_face_url</th>\n",
       "      <th>club_logo_url</th>\n",
       "      <th>club_flag_url</th>\n",
       "      <th>nation_logo_url</th>\n",
       "      <th>nation_flag_url</th>\n",
       "    </tr>\n",
       "  </thead>\n",
       "  <tbody>\n",
       "    <tr>\n",
       "      <th>77</th>\n",
       "      <td>185122</td>\n",
       "      <td>https://sofifa.com/player/185122/peter-gulacsi...</td>\n",
       "      <td>P. Gulácsi</td>\n",
       "      <td>Péter Gulácsi</td>\n",
       "      <td>GK</td>\n",
       "      <td>85</td>\n",
       "      <td>85</td>\n",
       "      <td>28500000.0</td>\n",
       "      <td>87000.0</td>\n",
       "      <td>31</td>\n",
       "      <td>...</td>\n",
       "      <td>33+3</td>\n",
       "      <td>33+3</td>\n",
       "      <td>33+3</td>\n",
       "      <td>30+3</td>\n",
       "      <td>83+2</td>\n",
       "      <td>https://cdn.sofifa.net/players/185/122/22_120.png</td>\n",
       "      <td>https://cdn.sofifa.net/teams/112172/60.png</td>\n",
       "      <td>https://cdn.sofifa.net/flags/de.png</td>\n",
       "      <td>https://cdn.sofifa.net/teams/1886/60.png</td>\n",
       "      <td>https://cdn.sofifa.net/flags/hu.png</td>\n",
       "    </tr>\n",
       "    <tr>\n",
       "      <th>325</th>\n",
       "      <td>204638</td>\n",
       "      <td>https://sofifa.com/player/204638/willi-orban/2...</td>\n",
       "      <td>W. Orban</td>\n",
       "      <td>Vilmos Tamás Orban</td>\n",
       "      <td>CB</td>\n",
       "      <td>81</td>\n",
       "      <td>82</td>\n",
       "      <td>24500000.0</td>\n",
       "      <td>79000.0</td>\n",
       "      <td>28</td>\n",
       "      <td>...</td>\n",
       "      <td>81+1</td>\n",
       "      <td>81+1</td>\n",
       "      <td>81+1</td>\n",
       "      <td>70+2</td>\n",
       "      <td>18+2</td>\n",
       "      <td>https://cdn.sofifa.net/players/204/638/22_120.png</td>\n",
       "      <td>https://cdn.sofifa.net/teams/112172/60.png</td>\n",
       "      <td>https://cdn.sofifa.net/flags/de.png</td>\n",
       "      <td>https://cdn.sofifa.net/teams/1886/60.png</td>\n",
       "      <td>https://cdn.sofifa.net/flags/hu.png</td>\n",
       "    </tr>\n",
       "    <tr>\n",
       "      <th>1090</th>\n",
       "      <td>236772</td>\n",
       "      <td>https://sofifa.com/player/236772/dominik-szobo...</td>\n",
       "      <td>D. Szoboszlai</td>\n",
       "      <td>Dominik Szoboszlai</td>\n",
       "      <td>CAM, LM</td>\n",
       "      <td>77</td>\n",
       "      <td>87</td>\n",
       "      <td>23000000.0</td>\n",
       "      <td>46000.0</td>\n",
       "      <td>20</td>\n",
       "      <td>...</td>\n",
       "      <td>47+2</td>\n",
       "      <td>47+2</td>\n",
       "      <td>47+2</td>\n",
       "      <td>55+2</td>\n",
       "      <td>16+2</td>\n",
       "      <td>https://cdn.sofifa.net/players/236/772/22_120.png</td>\n",
       "      <td>https://cdn.sofifa.net/teams/112172/60.png</td>\n",
       "      <td>https://cdn.sofifa.net/flags/de.png</td>\n",
       "      <td>https://cdn.sofifa.net/teams/1886/60.png</td>\n",
       "      <td>https://cdn.sofifa.net/flags/hu.png</td>\n",
       "    </tr>\n",
       "    <tr>\n",
       "      <th>1395</th>\n",
       "      <td>234171</td>\n",
       "      <td>https://sofifa.com/player/234171/roland-sallai...</td>\n",
       "      <td>R. Sallai</td>\n",
       "      <td>Roland Sallai</td>\n",
       "      <td>RM, CF</td>\n",
       "      <td>76</td>\n",
       "      <td>79</td>\n",
       "      <td>10000000.0</td>\n",
       "      <td>23000.0</td>\n",
       "      <td>24</td>\n",
       "      <td>...</td>\n",
       "      <td>49+2</td>\n",
       "      <td>49+2</td>\n",
       "      <td>49+2</td>\n",
       "      <td>55+2</td>\n",
       "      <td>16+2</td>\n",
       "      <td>https://cdn.sofifa.net/players/234/171/22_120.png</td>\n",
       "      <td>https://cdn.sofifa.net/teams/25/60.png</td>\n",
       "      <td>https://cdn.sofifa.net/flags/de.png</td>\n",
       "      <td>https://cdn.sofifa.net/teams/1886/60.png</td>\n",
       "      <td>https://cdn.sofifa.net/flags/hu.png</td>\n",
       "    </tr>\n",
       "    <tr>\n",
       "      <th>1956</th>\n",
       "      <td>253170</td>\n",
       "      <td>https://sofifa.com/player/253170/attila-szalai...</td>\n",
       "      <td>A. Szalai</td>\n",
       "      <td>Attila Szalai</td>\n",
       "      <td>CB, LB</td>\n",
       "      <td>75</td>\n",
       "      <td>83</td>\n",
       "      <td>11500000.0</td>\n",
       "      <td>33000.0</td>\n",
       "      <td>23</td>\n",
       "      <td>...</td>\n",
       "      <td>75+2</td>\n",
       "      <td>75+2</td>\n",
       "      <td>75+2</td>\n",
       "      <td>71+2</td>\n",
       "      <td>17+2</td>\n",
       "      <td>https://cdn.sofifa.net/players/253/170/22_120.png</td>\n",
       "      <td>https://cdn.sofifa.net/teams/326/60.png</td>\n",
       "      <td>https://cdn.sofifa.net/flags/tr.png</td>\n",
       "      <td>https://cdn.sofifa.net/teams/1886/60.png</td>\n",
       "      <td>https://cdn.sofifa.net/flags/hu.png</td>\n",
       "    </tr>\n",
       "  </tbody>\n",
       "</table>\n",
       "<p>5 rows × 110 columns</p>\n",
       "</div>"
      ],
      "text/plain": [
       "      sofifa_id                                         player_url  \\\n",
       "77       185122  https://sofifa.com/player/185122/peter-gulacsi...   \n",
       "325      204638  https://sofifa.com/player/204638/willi-orban/2...   \n",
       "1090     236772  https://sofifa.com/player/236772/dominik-szobo...   \n",
       "1395     234171  https://sofifa.com/player/234171/roland-sallai...   \n",
       "1956     253170  https://sofifa.com/player/253170/attila-szalai...   \n",
       "\n",
       "         short_name           long_name player_positions  overall  potential  \\\n",
       "77       P. Gulácsi       Péter Gulácsi               GK       85         85   \n",
       "325        W. Orban  Vilmos Tamás Orban               CB       81         82   \n",
       "1090  D. Szoboszlai  Dominik Szoboszlai          CAM, LM       77         87   \n",
       "1395      R. Sallai       Roland Sallai           RM, CF       76         79   \n",
       "1956      A. Szalai       Attila Szalai           CB, LB       75         83   \n",
       "\n",
       "       value_eur  wage_eur  age  ...   lcb    cb   rcb    rb    gk  \\\n",
       "77    28500000.0   87000.0   31  ...  33+3  33+3  33+3  30+3  83+2   \n",
       "325   24500000.0   79000.0   28  ...  81+1  81+1  81+1  70+2  18+2   \n",
       "1090  23000000.0   46000.0   20  ...  47+2  47+2  47+2  55+2  16+2   \n",
       "1395  10000000.0   23000.0   24  ...  49+2  49+2  49+2  55+2  16+2   \n",
       "1956  11500000.0   33000.0   23  ...  75+2  75+2  75+2  71+2  17+2   \n",
       "\n",
       "                                        player_face_url  \\\n",
       "77    https://cdn.sofifa.net/players/185/122/22_120.png   \n",
       "325   https://cdn.sofifa.net/players/204/638/22_120.png   \n",
       "1090  https://cdn.sofifa.net/players/236/772/22_120.png   \n",
       "1395  https://cdn.sofifa.net/players/234/171/22_120.png   \n",
       "1956  https://cdn.sofifa.net/players/253/170/22_120.png   \n",
       "\n",
       "                                   club_logo_url  \\\n",
       "77    https://cdn.sofifa.net/teams/112172/60.png   \n",
       "325   https://cdn.sofifa.net/teams/112172/60.png   \n",
       "1090  https://cdn.sofifa.net/teams/112172/60.png   \n",
       "1395      https://cdn.sofifa.net/teams/25/60.png   \n",
       "1956     https://cdn.sofifa.net/teams/326/60.png   \n",
       "\n",
       "                            club_flag_url  \\\n",
       "77    https://cdn.sofifa.net/flags/de.png   \n",
       "325   https://cdn.sofifa.net/flags/de.png   \n",
       "1090  https://cdn.sofifa.net/flags/de.png   \n",
       "1395  https://cdn.sofifa.net/flags/de.png   \n",
       "1956  https://cdn.sofifa.net/flags/tr.png   \n",
       "\n",
       "                               nation_logo_url  \\\n",
       "77    https://cdn.sofifa.net/teams/1886/60.png   \n",
       "325   https://cdn.sofifa.net/teams/1886/60.png   \n",
       "1090  https://cdn.sofifa.net/teams/1886/60.png   \n",
       "1395  https://cdn.sofifa.net/teams/1886/60.png   \n",
       "1956  https://cdn.sofifa.net/teams/1886/60.png   \n",
       "\n",
       "                          nation_flag_url  \n",
       "77    https://cdn.sofifa.net/flags/hu.png  \n",
       "325   https://cdn.sofifa.net/flags/hu.png  \n",
       "1090  https://cdn.sofifa.net/flags/hu.png  \n",
       "1395  https://cdn.sofifa.net/flags/hu.png  \n",
       "1956  https://cdn.sofifa.net/flags/hu.png  \n",
       "\n",
       "[5 rows x 110 columns]"
      ]
     },
     "execution_count": 15,
     "metadata": {},
     "output_type": "execute_result"
    }
   ],
   "source": [
    "# Who are the top 5 Hungarian players based on the overall attribute?\n",
    "df[df['nationality_name'] == 'Hungary'].sort_values('overall', ascending=False)[:5]"
   ]
  },
  {
   "cell_type": "code",
   "execution_count": 16,
   "metadata": {},
   "outputs": [
    {
     "data": {
      "text/plain": [
       "club_name\n",
       "Real Madrid CF         4394000.0\n",
       "Manchester City        3610400.0\n",
       "Manchester United      3407000.0\n",
       "FC Barcelona           3230000.0\n",
       "Liverpool              3211000.0\n",
       "Paris Saint-Germain    3000000.0\n",
       "Chelsea                2978000.0\n",
       "Inter                  2384000.0\n",
       "Leicester City         2267000.0\n",
       "Tottenham Hotspur      2081000.0\n",
       "Name: wage_eur, dtype: float64"
      ]
     },
     "execution_count": 16,
     "metadata": {},
     "output_type": "execute_result"
    }
   ],
   "source": [
    "# Which 10 teams spend the most on wages?\n",
    "df.groupby('club_name')['wage_eur'].sum().sort_values(ascending=False)[:10]"
   ]
  }
 ],
 "metadata": {
  "kernelspec": {
   "display_name": "Python 3 (ipykernel)",
   "language": "python",
   "name": "python3"
  },
  "language_info": {
   "codemirror_mode": {
    "name": "ipython",
    "version": 3
   },
   "file_extension": ".py",
   "mimetype": "text/x-python",
   "name": "python",
   "nbconvert_exporter": "python",
   "pygments_lexer": "ipython3",
   "version": "3.8.0"
  }
 },
 "nbformat": 4,
 "nbformat_minor": 2
}
