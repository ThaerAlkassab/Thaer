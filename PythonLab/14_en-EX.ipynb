{
 "cells": [
  {
   "cell_type": "markdown",
   "id": "8b691c49",
   "metadata": {},
   "source": [
    "### 10001st Prime (Problem 7)\n",
    "\n",
    "By listing the first six prime numbers: 2, 3, 5, 7, 11, and 13, we can see that the 6th prime is 13.\n",
    "What is the 10001st prime number?"
   ]
  },
  {
   "cell_type": "code",
   "execution_count": 1,
   "id": "f6a05a20",
   "metadata": {},
   "outputs": [],
   "source": [
    "def is_prime(n):\n",
    "    if n<= 1: return False\n",
    "    for i in range(2, int(n**0.5) + 1):\n",
    "        if n % i == 0:\n",
    "            return False\n",
    "    return n > 1"
   ]
  },
  {
   "cell_type": "code",
   "execution_count": 3,
   "id": "36985f9b",
   "metadata": {},
   "outputs": [
    {
     "name": "stdout",
     "output_type": "stream",
     "text": [
      "104743\n",
      "CPU times: user 192 ms, sys: 0 ns, total: 192 ms\n",
      "Wall time: 191 ms\n"
     ]
    }
   ],
   "source": [
    "%%time\n",
    "i = 6\n",
    "c = 15\n",
    "while True:\n",
    "    if is_prime(c):\n",
    "        i += 1\n",
    "    if i == 10001:\n",
    "        break\n",
    "    c += 2\n",
    "print (c)"
   ]
  },
  {
   "cell_type": "code",
   "execution_count": 6,
   "id": "67da84fe",
   "metadata": {},
   "outputs": [
    {
     "name": "stdout",
     "output_type": "stream",
     "text": [
      "104743 10001\n",
      "CPU times: user 137 ms, sys: 0 ns, total: 137 ms\n",
      "Wall time: 136 ms\n"
     ]
    }
   ],
   "source": [
    "%%time\n",
    "# solution 2\n",
    "import sympy\n",
    "\n",
    "cand = 3\n",
    "idx = 2\n",
    "while True:\n",
    "    if sympy.isprime(cand):\n",
    "        if idx == 10001: break\n",
    "        idx += 1\n",
    "    cand += 2\n",
    "    \n",
    "print(cand, idx)"
   ]
  },
  {
   "cell_type": "markdown",
   "id": "104df07e",
   "metadata": {},
   "source": [
    "### Coin Sums (Problem 31)\n",
    "\n",
    "In the United Kingdom the currency is made up of pound (£) and pence (p). There are eight coins in general circulation: 1p, 2p, 5p, 10p, 20p, 50p, £1 (100p), and £2 (200p). It is possible to make £2 in the following way:\n",
    "1×£1 + 1×50p + 2×20p + 1×5p + 1×2p + 3×1p\n",
    "How many different ways can £2 be made using any number of coins?"
   ]
  },
  {
   "cell_type": "code",
   "execution_count": 41,
   "id": "4452162d",
   "metadata": {},
   "outputs": [
    {
     "name": "stdout",
     "output_type": "stream",
     "text": [
      "CPU times: user 9.15 ms, sys: 2 µs, total: 9.16 ms\n",
      "Wall time: 8.99 ms\n"
     ]
    },
    {
     "data": {
      "text/plain": [
       "73682"
      ]
     },
     "execution_count": 41,
     "metadata": {},
     "output_type": "execute_result"
    }
   ],
   "source": [
    "%%time\n",
    "to = 200\n",
    "s = 0\n",
    "for a1 in range(0,3):\n",
    "    to = 200 - (100*a1)\n",
    "    for a2 in range(0,to//50+1):\n",
    "        to2 = to - 50*a2\n",
    "        for a3 in range(0,to2//20+1):\n",
    "            to3 = to2 - 20*a3\n",
    "            for a4 in range(0,to3//10+1):\n",
    "                to4 = to3 - 10*a4\n",
    "                for a5 in range(0,to4//5+1):\n",
    "                    to5 = to4 -5*a5\n",
    "                    for a6 in range(0,to5//2+1):\n",
    "                        s += 1\n",
    "s +1"
   ]
  },
  {
   "cell_type": "code",
   "execution_count": 27,
   "id": "3d5bd5dd",
   "metadata": {},
   "outputs": [
    {
     "name": "stdout",
     "output_type": "stream",
     "text": [
      "CPU times: user 42.3 ms, sys: 15 µs, total: 42.3 ms\n",
      "Wall time: 41.2 ms\n"
     ]
    },
    {
     "data": {
      "text/plain": [
       "73682"
      ]
     },
     "execution_count": 27,
     "metadata": {},
     "output_type": "execute_result"
    }
   ],
   "source": [
    "%%time\n",
    "def num_decompositions(coins, target):\n",
    "    if target == 0: return 1\n",
    "    if len(coins) == 1: return int(target % coins[0] == 0)\n",
    "    \n",
    "    c = coins[-1]\n",
    "    return sum(\n",
    "        num_decompositions(coins[:-1], target - i * c)\n",
    "        for i in range(target // c + 1)\n",
    "    )\n",
    "        \n",
    "num_decompositions([1, 2, 5, 10, 20, 50, 100, 200], 200)"
   ]
  },
  {
   "cell_type": "code",
   "execution_count": null,
   "id": "e28fd1ed",
   "metadata": {},
   "outputs": [],
   "source": []
  },
  {
   "cell_type": "code",
   "execution_count": 50,
   "id": "dd3f5d31",
   "metadata": {},
   "outputs": [
    {
     "name": "stdout",
     "output_type": "stream",
     "text": [
      "CPU times: user 6.87 ms, sys: 24 µs, total: 6.89 ms\n",
      "Wall time: 6.82 ms\n"
     ]
    },
    {
     "data": {
      "text/plain": [
       "9183"
      ]
     },
     "execution_count": 50,
     "metadata": {},
     "output_type": "execute_result"
    }
   ],
   "source": [
    "%%time\n",
    "from itertools import product\n",
    "len(set(y**m for y, m in product(range(2, 101), repeat=2)))"
   ]
  },
  {
   "cell_type": "code",
   "execution_count": null,
   "id": "bca79bb8",
   "metadata": {},
   "outputs": [],
   "source": []
  },
  {
   "cell_type": "code",
   "execution_count": 63,
   "id": "ac1abb0f",
   "metadata": {},
   "outputs": [
    {
     "ename": "TypeError",
     "evalue": "'int' object does not support item assignment",
     "output_type": "error",
     "traceback": [
      "\u001b[0;31m---------------------------------------------------------------------------\u001b[0m",
      "\u001b[0;31mTypeError\u001b[0m                                 Traceback (most recent call last)",
      "Input \u001b[0;32mIn [63]\u001b[0m, in \u001b[0;36m<cell line: 3>\u001b[0;34m()\u001b[0m\n\u001b[1;32m      8\u001b[0m             \u001b[38;5;28;01mif\u001b[39;00m d\u001b[38;5;241m*\u001b[39m\u001b[38;5;241m*\u001b[39m\u001b[38;5;241m2\u001b[39m\u001b[38;5;241m==\u001b[39m(a\u001b[38;5;241m*\u001b[39m\u001b[38;5;241m*\u001b[39m\u001b[38;5;241m2\u001b[39m \u001b[38;5;241m+\u001b[39m b\u001b[38;5;241m*\u001b[39m\u001b[38;5;241m*\u001b[39m\u001b[38;5;241m2\u001b[39m):\n\u001b[1;32m      9\u001b[0m                 c\u001b[38;5;241m+\u001b[39m\u001b[38;5;241m=\u001b[39m\u001b[38;5;241m1\u001b[39m\n\u001b[0;32m---> 10\u001b[0m     d[p] \u001b[38;5;241m=\u001b[39m c\n\u001b[1;32m     11\u001b[0m d\n",
      "\u001b[0;31mTypeError\u001b[0m: 'int' object does not support item assignment"
     ]
    }
   ],
   "source": [
    "p = 1000\n",
    "d = {}\n",
    "for p in range(3,1001):\n",
    "    c = 0\n",
    "    for a in range(1,p//3):\n",
    "        for b in range(a,(p-1)//2):\n",
    "            d = p-a-b\n",
    "            if d**2==(a**2 + b**2):\n",
    "                c+=1\n",
    "    d[p] = c\n",
    "d"
   ]
  },
  {
   "cell_type": "code",
   "execution_count": null,
   "id": "481e74c4",
   "metadata": {},
   "outputs": [],
   "source": []
  }
 ],
 "metadata": {
  "kernelspec": {
   "display_name": "Python 3 (ipykernel)",
   "language": "python",
   "name": "python3"
  },
  "language_info": {
   "codemirror_mode": {
    "name": "ipython",
    "version": 3
   },
   "file_extension": ".py",
   "mimetype": "text/x-python",
   "name": "python",
   "nbconvert_exporter": "python",
   "pygments_lexer": "ipython3",
   "version": "3.8.0"
  }
 },
 "nbformat": 4,
 "nbformat_minor": 5
}
