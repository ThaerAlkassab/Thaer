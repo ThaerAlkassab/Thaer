{
 "cells": [
  {
   "cell_type": "code",
   "execution_count": 1,
   "id": "c92b4d68",
   "metadata": {},
   "outputs": [
    {
     "name": "stdout",
     "output_type": "stream",
     "text": [
      "220\n"
     ]
    }
   ],
   "source": [
    "# This is the memoization approach of \n",
    "# 0 / 1 Knapsack in Python in simple \n",
    "# we can say recursion + memoization = DP \n",
    "\n",
    "\n",
    "def knapsack(wt, val, W, n): \n",
    "\n",
    "\t# base conditions \n",
    "\tif n == 0 or W == 0: \n",
    "\t\treturn 0\n",
    "\tif t[n][W] != -1: \n",
    "\t\treturn t[n][W] \n",
    "\n",
    "\t# choice diagram code \n",
    "\tif wt[n-1] <= W: \n",
    "\t\tt[n][W] = max( \n",
    "\t\t\tval[n-1] + knapsack( \n",
    "\t\t\t\twt, val, W-wt[n-1], n-1), \n",
    "\t\t\tknapsack(wt, val, W, n-1)) \n",
    "\t\treturn t[n][W] \n",
    "\telif wt[n-1] > W: \n",
    "\t\tt[n][W] = knapsack(wt, val, W, n-1) \n",
    "\t\treturn t[n][W] \n",
    "\n",
    "# Driver code \n",
    "if __name__ == '__main__': \n",
    "\tprofit = [60, 100, 120] \n",
    "\tweight = [10, 20, 30] \n",
    "\tW = 50\n",
    "\tn = len(profit) \n",
    "\t\n",
    "\t# We initialize the matrix with -1 at first. \n",
    "\tt = [[-1 for i in range(W + 1)] for j in range(n + 1)] \n",
    "\tprint(knapsack(weight, profit, W, n)) \n",
    "\n",
    "# This code is contributed by Prosun Kumar Sarkar \n"
   ]
  },
  {
   "cell_type": "code",
   "execution_count": 2,
   "id": "b3953373",
   "metadata": {},
   "outputs": [
    {
     "name": "stdout",
     "output_type": "stream",
     "text": [
      "220\n"
     ]
    }
   ],
   "source": [
    "# A Dynamic Programming based Python \n",
    "# Program for 0-1 Knapsack problem \n",
    "# Returns the maximum value that can \n",
    "# be put in a knapsack of capacity W \n",
    "\n",
    "\n",
    "def knapSack(W, wt, val, n): \n",
    "\tK = [[0 for x in range(W + 1)] for x in range(n + 1)] \n",
    "\n",
    "\t# Build table K[][] in bottom up manner \n",
    "\tfor i in range(n + 1): \n",
    "\t\tfor w in range(W + 1): \n",
    "\t\t\tif i == 0 or w == 0: \n",
    "\t\t\t\tK[i][w] = 0\n",
    "\t\t\telif wt[i-1] <= w: \n",
    "\t\t\t\tK[i][w] = max(val[i-1] \n",
    "\t\t\t\t\t\t\t+ K[i-1][w-wt[i-1]], \n",
    "\t\t\t\t\t\t\tK[i-1][w]) \n",
    "\t\t\telse: \n",
    "\t\t\t\tK[i][w] = K[i-1][w] \n",
    "\n",
    "\treturn K[n][W] \n",
    "\n",
    "\n",
    "# Driver code \n",
    "if __name__ == '__main__': \n",
    "\tprofit = [60, 100, 120] \n",
    "\tweight = [10, 20, 30] \n",
    "\tW = 50\n",
    "\tn = len(profit) \n",
    "\tprint(knapSack(W, weight, profit, n)) \n",
    "\n",
    "# This code is contributed by Bhavya Jain \n"
   ]
  },
  {
   "cell_type": "code",
   "execution_count": 3,
   "id": "80a808c5",
   "metadata": {},
   "outputs": [
    {
     "name": "stdout",
     "output_type": "stream",
     "text": [
      "220\n"
     ]
    }
   ],
   "source": [
    "# Python code to implement the above approach \n",
    "\n",
    "\n",
    "def knapSack(W, wt, val, n): \n",
    "\t\n",
    "\t# Making the dp array \n",
    "\tdp = [0 for i in range(W+1)] \n",
    "\n",
    "\t# Taking first i elements \n",
    "\tfor i in range(1, n+1): \n",
    "\t\t\n",
    "\t\t# Starting from back, \n",
    "\t\t# so that we also have data of \n",
    "\t\t# previous computation when taking i-1 items \n",
    "\t\tfor w in range(W, 0, -1): \n",
    "\t\t\tif wt[i-1] <= w: \n",
    "\t\t\t\t\n",
    "\t\t\t\t# Finding the maximum value \n",
    "\t\t\t\tdp[w] = max(dp[w], dp[w-wt[i-1]]+val[i-1]) \n",
    "\t\n",
    "\t# Returning the maximum value of knapsack \n",
    "\treturn dp[W] \n",
    "\n",
    "\n",
    "# Driver code \n",
    "if __name__ == '__main__': \n",
    "\tprofit = [60, 100, 120] \n",
    "\tweight = [10, 20, 30] \n",
    "\tW = 50\n",
    "\tn = len(profit) \n",
    "\tprint(knapSack(W, weight, profit, n)) \n",
    "\n",
    "\n",
    "# This code is contributed by Suyash Saxena\n"
   ]
  },
  {
   "cell_type": "code",
   "execution_count": null,
   "id": "32ae06eb",
   "metadata": {},
   "outputs": [],
   "source": []
  }
 ],
 "metadata": {
  "kernelspec": {
   "display_name": "Python 3 (ipykernel)",
   "language": "python",
   "name": "python3"
  },
  "language_info": {
   "codemirror_mode": {
    "name": "ipython",
    "version": 3
   },
   "file_extension": ".py",
   "mimetype": "text/x-python",
   "name": "python",
   "nbconvert_exporter": "python",
   "pygments_lexer": "ipython3",
   "version": "3.8.0"
  }
 },
 "nbformat": 4,
 "nbformat_minor": 5
}
