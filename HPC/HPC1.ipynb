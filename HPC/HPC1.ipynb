{
 "cells": [
  {
   "cell_type": "code",
   "execution_count": 8,
   "id": "6aad7fb1",
   "metadata": {},
   "outputs": [
    {
     "name": "stdout",
     "output_type": "stream",
     "text": [
      "Enter subintervals: \n",
      "20\n",
      "Results: 1.0002570671973028 \n",
      "\n",
      "Error: 0.00025706719730278493 \n",
      "\n",
      "Time: 0.00035190582275390625 \n",
      "\n"
     ]
    }
   ],
   "source": [
    "import numpy as np\n",
    "import time\n",
    "\n",
    "N = int(input(\"Enter subintervals: \\n\"))\n",
    "\n",
    "a = 0\n",
    "b = np.pi/2\n",
    "res = 0\n",
    "dx = (b-a)/N\n",
    "dxhalf = dx/2\n",
    "\n",
    "start = time.time()\n",
    "for i in range(0,N):\n",
    "    res += np.cos(i*dx + dxhalf)\n",
    "res *= dx\n",
    "end  = time.time()\n",
    "\n",
    "# print results \n",
    "print(f\"Results: {res} \\n\")\n",
    "# compare with analytic result\n",
    "print (f\"Error: {res-1.0} \\n\")\n",
    "print (f\"Time: {end - start} \\n\")"
   ]
  }
 ],
 "metadata": {
  "kernelspec": {
   "display_name": "Python 3 (ipykernel)",
   "language": "python",
   "name": "python3"
  },
  "language_info": {
   "codemirror_mode": {
    "name": "ipython",
    "version": 3
   },
   "file_extension": ".py",
   "mimetype": "text/x-python",
   "name": "python",
   "nbconvert_exporter": "python",
   "pygments_lexer": "ipython3",
   "version": "3.8.0"
  }
 },
 "nbformat": 4,
 "nbformat_minor": 5
}
